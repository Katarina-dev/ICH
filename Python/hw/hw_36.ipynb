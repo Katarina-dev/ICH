{
 "cells": [
  {
   "cell_type": "code",
   "execution_count": 17,
   "id": "ab6ab7f6-5446-4c6b-8133-68b88ca07704",
   "metadata": {},
   "outputs": [
    {
     "name": "stdin",
     "output_type": "stream",
     "text": [
      "Input link:  https://auto.ria.com/newauto/search/?page=1&modelId=0&generationId=0&baseId=0&equipId=0\n"
     ]
    },
    {
     "name": "stdout",
     "output_type": "stream",
     "text": [
      "['https://autoria.onelink.me/mQDS/8bcn5mhx', 'javascript:void(0);', '/', 'https://chat.ria.com/0/0/0/?lang_id=2', '/notepad.html', '/cabinet/notifications/', '/add_auto.html', 'javascript:void(0)', 'https://auto.ria.com/login.html', 'https://auto.ria.com/uk/auto-for-zsu/?utm_source=main_page&utm_medium=header&utm_campaign=autoforzsu&r_audience=web&r_source=main_page&r_medium=header&r_campaign=autoforzsu', '/car/used/', '/newauto/', '/news/', '/reviews/', '/all_for_auto/', '/mobile_app/', 'https://auto.ria.com/uk/auto-for-zsu/?utm_source=main_page&utm_medium=message_newauto&utm_campaign=autoforzsu&r_audience=web&r_source=main_page&r_medium=message_newauto&r_campaign=autoforzsu', 'https://chat.ria.com/0/0/0/?lang_id=2', '/notepad.html', 'https://auto.ria.com/login.html', 'https://www.ria.com/?utm_source=auto&utm_medium=main&utm_campaign=header', '/', 'https://dom.ria.com/?utm_source=auto_ria&utm_medium=text_link&utm_content=nedvigimost&utm_campaign=header', 'https://zapchasti.ria.com/?utm_source=auto&utm_medium=link_rubriki&utm_campaign=header', 'https://auto.ria.com/uk/auto-for-zsu/?utm_source=main_page&utm_medium=header&utm_campaign=autoforzsu&r_audience=web&r_source=main_page&r_medium=header&r_campaign=autoforzsu', '/', '/add_auto.html', '/car/used/', '/newauto/', '/news/', '/all_for_auto/?popup=2', 'https://auto.ria.com/autoservice/sto/', 'https://auto.ria.com/avtorazborka/', 'https://zapchasti.ria.com/', 'https://auto.ria.com/avtorazborka/szz.html', 'https://auto.ria.com/autocheck/', 'https://auto.ria.com/price/average/', 'https://auto.ria.com/rastamozhka-avto/calculator/', 'https://auto.ria.com/dealers/', 'https://auto.ria.com/autointer/', 'https://auto.ria.com/reviews/', 'https://market.ria.com?utm_source=auto.ria.com&utm_medium=text_link&utm_content=main_page&utm_campaign=main_page_avto', 'https://auto.ria.com/uk/auto-for-zsu/?utm_source=main_page&utm_medium=message_newauto&utm_campaign=autoforzsu&r_audience=web&r_source=main_page&r_medium=message_newauto&r_campaign=autoforzsu', '/', '/newauto/', 'javascript:void(0)', 'javascript:void(0);', '/search/?indexName=auto,order_auto,newauto_search', '/search/?indexName=auto', '/search/?indexName=order_auto', 'javascript:void(0);', 'javascript:void(0);', '/newauto/search/', '/newauto/advanced-search/', 'javascript:void(0);', 'https://autoleader.ria.com/', 'javascript:void(0);', 'javascript:void(0);', 'javascript:void(0);', 'javascript:void(0);', 'javascript:void(0);', 'javascript:void(0);', 'javascript:void(0);', 'javascript:void(0);', 'javascript:void(0);', 'javascript:void(0);', 'javascript:void(0);', 'javascript:void(0);', 'javascript:void(0);', '/newauto/auto-zeekr-001-1994094.html', '/newauto/auto-audi-q7-1995940.html', '/newauto/auto-audi-rs-q8-1995263.html', '/newauto/auto-hyundai-santa-fe-1978157.html', '/newauto/auto-zeekr-7x-1995035.html', '/newauto/auto-li-auto-l7-1994279.html', '/newauto/auto-zeekr-7x-1995033.html', 'https://auto.ria.com/newauto/autosalons/khmelnickij/khmelnichchina-avto/3198/', 'https://auto.ria.com/newauto/autosalons/khmelnickij/khmelnichchina-avto/3198/', 'https://auto.ria.com/newauto/autosalons/khmelnickij/khmelnichchina-avto/3198/', 'https://auto.ria.com/newauto/autosalons/odessa/ukravto-odesa/1997/', 'https://auto.ria.com/newauto/autosalons/odessa/ukravto-odesa/1997/', 'https://auto.ria.com/newauto/autosalons/odessa/ukravto-odesa/1997/', 'https://auto.ria.com/newauto/autosalons/kiev/tojota-czentr-kiiv-avtosamit-ukravto/275/', 'https://auto.ria.com/newauto/autosalons/kiev/tojota-czentr-kiiv-avtosamit-ukravto/275/', 'https://auto.ria.com/newauto/autosalons/kiev/tojota-czentr-kiiv-avtosamit-ukravto/275/', 'https://auto.ria.com/newauto/autosalons/kiev/avtodim-atlant-na-vaczlava-gavela/89/', 'https://auto.ria.com/newauto/autosalons/kiev/avtodim-atlant-na-vaczlava-gavela/89/', 'https://auto.ria.com/newauto/autosalons/kiev/avtodim-atlant-na-vaczlava-gavela/89/', 'https://auto.ria.com/newauto/autosalons/dnepr-dnepropetrovsk/dnipropetrovsk-avto-mercedes-benz/1439/', 'https://auto.ria.com/newauto/autosalons/dnepr-dnepropetrovsk/dnipropetrovsk-avto-mercedes-benz/1439/', 'https://auto.ria.com/newauto/autosalons/dnepr-dnepropetrovsk/dnipropetrovsk-avto-mercedes-benz/1439/', 'https://auto.ria.com/newauto/autosalons/kiev/dnipro-motor-invest/3703/', 'https://auto.ria.com/newauto/autosalons/kiev/dnipro-motor-invest/3703/', 'https://auto.ria.com/newauto/autosalons/kiev/dnipro-motor-invest/3703/', 'https://auto.ria.com/newauto/autosalons/kiev/opel-vipos/2843/', 'https://auto.ria.com/newauto/autosalons/kiev/opel-vipos/2843/', 'https://auto.ria.com/newauto/autosalons/kiev/opel-vipos/2843/', 'https://auto.ria.com/newauto/autosalons/nikolaev/avtomir/810/', 'https://auto.ria.com/newauto/autosalons/nikolaev/avtomir/810/', 'https://auto.ria.com/newauto/autosalons/nikolaev/avtomir/810/', 'https://auto.ria.com/newauto/autosalons/odessa/avtomobilnij-dim-volkswagen/276/', 'https://auto.ria.com/newauto/autosalons/odessa/avtomobilnij-dim-volkswagen/276/', 'https://auto.ria.com/newauto/autosalons/odessa/avtomobilnij-dim-volkswagen/276/', 'https://auto.ria.com/newauto/autosalons/odessa/honda-odesa/3712/', 'https://auto.ria.com/newauto/autosalons/odessa/honda-odesa/3712/', 'https://auto.ria.com/newauto/autosalons/odessa/honda-odesa/3712/', 'https://auto.ria.com/newauto/autosalons/kiev/suzuki-niko-megapolis/1830/', 'https://auto.ria.com/newauto/autosalons/kiev/suzuki-niko-megapolis/1830/', 'https://auto.ria.com/newauto/autosalons/kiev/suzuki-niko-megapolis/1830/', 'https://auto.ria.com/newauto/autosalons/kiev/porshe-czentr-kiiv-aeroport/1047/', 'https://auto.ria.com/newauto/autosalons/kiev/porshe-czentr-kiiv-aeroport/1047/', 'https://auto.ria.com/newauto/autosalons/kiev/porshe-czentr-kiiv-aeroport/1047/', 'https://auto.ria.com/newauto/autosalons/rovno/rivne-avto/450/', 'https://auto.ria.com/newauto/autosalons/rovno/rivne-avto/450/', 'https://auto.ria.com/newauto/autosalons/rovno/rivne-avto/450/', 'https://auto.ria.com/newauto/autosalons/kiev/mercedes-benz-ukravto-kiiv/278/', 'https://auto.ria.com/newauto/autosalons/kiev/mercedes-benz-ukravto-kiiv/278/', 'https://auto.ria.com/newauto/autosalons/kiev/mercedes-benz-ukravto-kiiv/278/', 'https://auto.ria.com/newauto/autosalons/poltava/tov-dk-poltava-avtosvit-ford/1207/', 'https://auto.ria.com/newauto/autosalons/poltava/tov-dk-poltava-avtosvit-ford/1207/', 'https://auto.ria.com/newauto/autosalons/poltava/tov-dk-poltava-avtosvit-ford/1207/', '/newauto/auto-zeekr-7x-1995032.html', '/newauto/auto-li-auto-l9-1994297.html', '/newauto/auto-zeekr-7x-1995034.html', '/newauto/auto-renault-master-1969900.html', '/newauto/auto-renault-master-1969904.html', '/newauto/auto-kia-sportage-1985482.html', '/newauto/auto-mercedes-benz-g-class-1995595.html', '/newauto/auto-li-auto-l6-1994275.html', '/newauto/auto-kia-sportage-1988839.html', '/newauto/auto-mg-zs-ev-1993067.html', '/newauto/auto-mitsubishi-asx-1969025.html', '/newauto/auto-mitsubishi-asx-1995492.html', '/newauto/auto-hyundai-tucson-1988353.html', '/newauto/search/?page=2&baseId=0&equipId=0&generationId[]=0&modelId[]=0&options[]=', '/newauto/search/?page=3&baseId=0&equipId=0&generationId[]=0&modelId[]=0&options[]=', '/newauto/search/?page=4&baseId=0&equipId=0&generationId[]=0&modelId[]=0&options[]=', '/newauto/search/?page=5&baseId=0&equipId=0&generationId[]=0&modelId[]=0&options[]=', '/newauto/search/?page=411&baseId=0&equipId=0&generationId[]=0&modelId[]=0&options[]=', '/newauto/search/?page=2&baseId=0&equipId=0&generationId[]=0&modelId[]=0&options[]=', 'javascript:void(0);', 'javascript:void(0);', 'javascript:void(0);', 'javascript:void(0);', 'javascript:void(0);', 'javascript:void(0);', 'javascript:void(0);', 'tel:0674306619', 'https://auto.ria.com/uk/16/', 'https://www.ria.com/offert/gdpr/', 'https://www.ria.com/offert/', 'https://help.ria.com/index.php?/Knowledgebase/List/Index/2/autoriaua', 'https://ria.com', '/uk/newauto/search/?page=1&modelId=0&generationId=0&baseId=0&equipId=0']\n"
     ]
    }
   ],
   "source": [
    "# Напишите программу, которая запрашивает у пользователя URL-адрес веб-страницы, использует библиотеку Beautiful Soup для парсинга HTML и выводит список всех ссылок на странице.\n",
    "\n",
    "import requests\n",
    "from bs4 import BeautifulSoup\n",
    "\n",
    "def get_links(url):\n",
    "\n",
    "    response = requests.get(url)\n",
    "    html = response.text\n",
    "    soup = BeautifulSoup(html, 'html.parser')\n",
    "    links = []\n",
    "\n",
    "    for link in soup.find_all('a', href = True):\n",
    "        links.append(link['href'])\n",
    "\n",
    "    return links\n",
    "\n",
    "\n",
    "web_site =  input(\"Input link: \")\n",
    "test = get_links(web_site)\n",
    "print(test)\n",
    "    \n",
    "\n"
   ]
  },
  {
   "cell_type": "code",
   "execution_count": 29,
   "id": "d6eee4d9-2965-4828-b28a-bf2e26892b35",
   "metadata": {},
   "outputs": [
    {
     "name": "stdin",
     "output_type": "stream",
     "text": [
      "Input link:  https://auto.ria.com/newauto/search/?page=1&modelId=0&generationId=0&baseId=0&equipId=0\n",
      "Input level title:  h1\n"
     ]
    },
    {
     "name": "stdout",
     "output_type": "stream",
     "text": [
      "Новые авто в Украине\n"
     ]
    }
   ],
   "source": [
    "# Напишите программу, которая запрашивает у пользователя URL-адрес веб-страницы и уровень заголовков, \n",
    "# а затем использует библиотеку Beautiful Soup для парсинга HTML и извлекает заголовки нужного уровня (теги h1, h2, h3 и т.д.) с их текстом.\n",
    "\n",
    "import requests\n",
    "from bs4 import BeautifulSoup\n",
    "\n",
    "\n",
    "def get_links(url, level):\n",
    "\n",
    "    response = requests.get(url)\n",
    "    html = response.text\n",
    "    soup = BeautifulSoup(html, 'html.parser')\n",
    "    headers = []\n",
    "\n",
    "    if level not in ['h1', 'h2', 'h3', 'h4', 'h5', 'h6']:\n",
    "            raise ValueError('Header level must be only h1, h2, h3, h4, h5, h6')\n",
    "\n",
    "\n",
    "\n",
    "    for header in soup.find_all(level):\n",
    "        headers.append(header.text.strip())\n",
    "        # else:\n",
    "            \n",
    "\n",
    "    return headers\n",
    "\n",
    "web_site =  input(\"Input link: \")\n",
    "title = input(\"Input level title: \")\n",
    "\n",
    "try:\n",
    "    test = get_links(web_site, title)\n",
    "    if test:    \n",
    "        print(\"\\n\".join(test))\n",
    "    else:\n",
    "        print(\"No headers were found\")\n",
    "except ValueError as e:\n",
    "    print(f'Error: {e}')"
   ]
  },
  {
   "cell_type": "code",
   "execution_count": null,
   "id": "6be71784-4678-4c2e-bb47-8c0d61b60481",
   "metadata": {},
   "outputs": [],
   "source": []
  }
 ],
 "metadata": {
  "kernelspec": {
   "display_name": "Python 3 (ipykernel)",
   "language": "python",
   "name": "python3"
  },
  "language_info": {
   "codemirror_mode": {
    "name": "ipython",
    "version": 3
   },
   "file_extension": ".py",
   "mimetype": "text/x-python",
   "name": "python",
   "nbconvert_exporter": "python",
   "pygments_lexer": "ipython3",
   "version": "3.12.5"
  }
 },
 "nbformat": 4,
 "nbformat_minor": 5
}
