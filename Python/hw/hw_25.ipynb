{
 "cells": [
  {
   "cell_type": "code",
   "execution_count": null,
   "id": "592d1e96-bd89-48ce-8597-6f71494f17d8",
   "metadata": {},
   "outputs": [],
   "source": [
    "# 1. Напишите функцию find_longest_word, которая будет принимать список слов и возвращать самое длинное слово из списка. \n",
    "# Аннотируйте типы аргументов и возвращаемого значения функции."
   ]
  },
  {
   "cell_type": "code",
   "execution_count": 25,
   "id": "e818b2b1-56ba-4d7c-afef-7eaa9a517b71",
   "metadata": {},
   "outputs": [
    {
     "name": "stdout",
     "output_type": "stream",
     "text": [
      "dragonfruit\n"
     ]
    }
   ],
   "source": [
    "from typing import List\n",
    "\n",
    "def find_longest_word(words: List[str]) -> str:\n",
    "    yield max(words, key =len)\n",
    "\n",
    "user_words = [\"apple\", \"banana\", \"cherry\", \"dragonfruit\"]\n",
    "result = find_longest_word(user_words)\n",
    "print(next(result))\n",
    "    "
   ]
  },
  {
   "cell_type": "code",
   "execution_count": null,
   "id": "65c15a11-70a2-418c-b5d0-3c933b5722de",
   "metadata": {},
   "outputs": [],
   "source": [
    "# 2. Напишите программу, которая будет считывать данные о продуктах из файла и использовать аннотации типов для аргументов и возвращаемых значений функций. \n",
    "# Создайте текстовый файл \"products.txt\", в котором каждая строка будет содержать информацию о продукте в формате \"название, цена, количество\". \n",
    "# В программе определите функцию calculate_total_price, которая будет принимать список продуктов и возвращать общую стоимость. \n",
    "# Продумайте, какая аннотация должна быть у аргумента! Считайте данные из файла, разделите строки на составляющие и создайте список продуктов. \n",
    "# Затем вызовите функцию calculate_total_price с этим списком и выведите результат."
   ]
  },
  {
   "cell_type": "code",
   "execution_count": 23,
   "id": "e57a8631-f888-4f8f-9f0e-e6b224b9b36b",
   "metadata": {},
   "outputs": [
    {
     "name": "stdout",
     "output_type": "stream",
     "text": [
      "47.75\n"
     ]
    }
   ],
   "source": [
    "# from typing import Union\n",
    "\n",
    "def calculate_total_price(file_name: str) -> float:\n",
    "    \"\"\" \n",
    "    Returns the sum of products cost from file\n",
    "    \"\"\"\n",
    "    total = 0\n",
    "    with open(file_name) as file:\n",
    "        for line in file:\n",
    "            numbers = line.replace(',', '').split()\n",
    "            if len(numbers) == 3:\n",
    "                try:\n",
    "                    num2 = float(numbers[1])\n",
    "                    num3 = float(numbers[2])\n",
    "                    total += num2 * num3\n",
    "                except ValueError:\n",
    "                    continue\n",
    "    return total\n",
    "\n",
    "\n",
    "print(calculate_total_price('products.txt'))\n",
    "    "
   ]
  },
  {
   "cell_type": "code",
   "execution_count": null,
   "id": "bdf1fe89-bf62-4fb2-b5a3-5a97e0a6d66d",
   "metadata": {},
   "outputs": [],
   "source": []
  }
 ],
 "metadata": {
  "kernelspec": {
   "display_name": "Python 3 (ipykernel)",
   "language": "python",
   "name": "python3"
  },
  "language_info": {
   "codemirror_mode": {
    "name": "ipython",
    "version": 3
   },
   "file_extension": ".py",
   "mimetype": "text/x-python",
   "name": "python",
   "nbconvert_exporter": "python",
   "pygments_lexer": "ipython3",
   "version": "3.12.5"
  }
 },
 "nbformat": 4,
 "nbformat_minor": 5
}
