{
 "cells": [
  {
   "cell_type": "code",
   "execution_count": 2,
   "id": "39e42e43-4c35-41ec-b933-5919e5ff479a",
   "metadata": {},
   "outputs": [],
   "source": [
    "import pandas as pd"
   ]
  },
  {
   "cell_type": "code",
   "execution_count": 62,
   "id": "eea7b256-55c2-4185-8012-97b9b62f1ac2",
   "metadata": {},
   "outputs": [
    {
     "data": {
      "text/html": [
       "<div>\n",
       "<style scoped>\n",
       "    .dataframe tbody tr th:only-of-type {\n",
       "        vertical-align: middle;\n",
       "    }\n",
       "\n",
       "    .dataframe tbody tr th {\n",
       "        vertical-align: top;\n",
       "    }\n",
       "\n",
       "    .dataframe thead th {\n",
       "        text-align: right;\n",
       "    }\n",
       "</style>\n",
       "<table border=\"1\" class=\"dataframe\">\n",
       "  <thead>\n",
       "    <tr style=\"text-align: right;\">\n",
       "      <th></th>\n",
       "      <th>data</th>\n",
       "      <th>cohort</th>\n",
       "      <th>uuid</th>\n",
       "      <th>buyer</th>\n",
       "      <th>new buyer</th>\n",
       "      <th>aov</th>\n",
       "      <th>cogs</th>\n",
       "      <th>ltc</th>\n",
       "      <th>month</th>\n",
       "      <th>n_payment</th>\n",
       "    </tr>\n",
       "  </thead>\n",
       "  <tbody>\n",
       "    <tr>\n",
       "      <th>0</th>\n",
       "      <td>5/1/2024</td>\n",
       "      <td>2024-05</td>\n",
       "      <td>be239004-bc93-4732-8d2e-db1c9abc70f9</td>\n",
       "      <td>-</td>\n",
       "      <td>False</td>\n",
       "      <td>0</td>\n",
       "      <td>0.0</td>\n",
       "      <td>0</td>\n",
       "      <td>2024-5</td>\n",
       "      <td>NaN</td>\n",
       "    </tr>\n",
       "    <tr>\n",
       "      <th>1</th>\n",
       "      <td>5/1/2024</td>\n",
       "      <td>2024-05</td>\n",
       "      <td>ff709093-05bd-4c07-8d47-20a1e22450df</td>\n",
       "      <td>-</td>\n",
       "      <td>False</td>\n",
       "      <td>0</td>\n",
       "      <td>0.0</td>\n",
       "      <td>8</td>\n",
       "      <td>2024-5</td>\n",
       "      <td>NaN</td>\n",
       "    </tr>\n",
       "    <tr>\n",
       "      <th>2</th>\n",
       "      <td>5/1/2024</td>\n",
       "      <td>2024-05</td>\n",
       "      <td>024c15c8-33a9-4f4c-b471-c47a2364dc30</td>\n",
       "      <td>-</td>\n",
       "      <td>False</td>\n",
       "      <td>0</td>\n",
       "      <td>0.0</td>\n",
       "      <td>8</td>\n",
       "      <td>2024-5</td>\n",
       "      <td>NaN</td>\n",
       "    </tr>\n",
       "    <tr>\n",
       "      <th>3</th>\n",
       "      <td>5/1/2024</td>\n",
       "      <td>2024-05</td>\n",
       "      <td>3186905a-cf69-40fe-a615-51342cc6158b</td>\n",
       "      <td>-</td>\n",
       "      <td>False</td>\n",
       "      <td>0</td>\n",
       "      <td>0.0</td>\n",
       "      <td>8</td>\n",
       "      <td>2024-5</td>\n",
       "      <td>NaN</td>\n",
       "    </tr>\n",
       "    <tr>\n",
       "      <th>4</th>\n",
       "      <td>5/1/2024</td>\n",
       "      <td>2024-05</td>\n",
       "      <td>919338ce-b051-4c7a-aa3c-e7c951644a77</td>\n",
       "      <td>-</td>\n",
       "      <td>False</td>\n",
       "      <td>0</td>\n",
       "      <td>0.0</td>\n",
       "      <td>0</td>\n",
       "      <td>2024-5</td>\n",
       "      <td>NaN</td>\n",
       "    </tr>\n",
       "  </tbody>\n",
       "</table>\n",
       "</div>"
      ],
      "text/plain": [
       "       data   cohort                                  uuid buyer  new buyer  \\\n",
       "0  5/1/2024  2024-05  be239004-bc93-4732-8d2e-db1c9abc70f9     -      False   \n",
       "1  5/1/2024  2024-05  ff709093-05bd-4c07-8d47-20a1e22450df     -      False   \n",
       "2  5/1/2024  2024-05  024c15c8-33a9-4f4c-b471-c47a2364dc30     -      False   \n",
       "3  5/1/2024  2024-05  3186905a-cf69-40fe-a615-51342cc6158b     -      False   \n",
       "4  5/1/2024  2024-05  919338ce-b051-4c7a-aa3c-e7c951644a77     -      False   \n",
       "\n",
       "   aov  cogs  ltc   month  n_payment  \n",
       "0    0   0.0    0  2024-5        NaN  \n",
       "1    0   0.0    8  2024-5        NaN  \n",
       "2    0   0.0    8  2024-5        NaN  \n",
       "3    0   0.0    8  2024-5        NaN  \n",
       "4    0   0.0    0  2024-5        NaN  "
      ]
     },
     "execution_count": 62,
     "metadata": {},
     "output_type": "execute_result"
    }
   ],
   "source": [
    "df = pd.read_csv('Case for Homework for students - Data.csv')\n",
    "df.head()"
   ]
  },
  {
   "cell_type": "code",
   "execution_count": 4,
   "id": "d11a5a9e-f28f-4525-8902-cf49e9762658",
   "metadata": {},
   "outputs": [
    {
     "name": "stdout",
     "output_type": "stream",
     "text": [
      "<class 'pandas.core.frame.DataFrame'>\n",
      "RangeIndex: 59318 entries, 0 to 59317\n",
      "Data columns (total 10 columns):\n",
      " #   Column     Non-Null Count  Dtype  \n",
      "---  ------     --------------  -----  \n",
      " 0   data       59318 non-null  object \n",
      " 1   cohort     59318 non-null  object \n",
      " 2   uuid       59318 non-null  object \n",
      " 3   buyer      59318 non-null  object \n",
      " 4   new buyer  59318 non-null  bool   \n",
      " 5   aov        59318 non-null  int64  \n",
      " 6   cogs       59318 non-null  float64\n",
      " 7   ltc        59318 non-null  int64  \n",
      " 8   month      59318 non-null  object \n",
      " 9   n_payment  0 non-null      float64\n",
      "dtypes: bool(1), float64(2), int64(2), object(5)\n",
      "memory usage: 4.1+ MB\n"
     ]
    }
   ],
   "source": [
    "df.info()"
   ]
  },
  {
   "cell_type": "code",
   "execution_count": 63,
   "id": "408eef65-5b53-430b-824d-4d4361c34785",
   "metadata": {},
   "outputs": [
    {
     "data": {
      "text/html": [
       "<div>\n",
       "<style scoped>\n",
       "    .dataframe tbody tr th:only-of-type {\n",
       "        vertical-align: middle;\n",
       "    }\n",
       "\n",
       "    .dataframe tbody tr th {\n",
       "        vertical-align: top;\n",
       "    }\n",
       "\n",
       "    .dataframe thead th {\n",
       "        text-align: right;\n",
       "    }\n",
       "</style>\n",
       "<table border=\"1\" class=\"dataframe\">\n",
       "  <thead>\n",
       "    <tr style=\"text-align: right;\">\n",
       "      <th></th>\n",
       "      <th>data</th>\n",
       "      <th>cohort</th>\n",
       "      <th>uuid</th>\n",
       "      <th>buyer</th>\n",
       "      <th>new buyer</th>\n",
       "      <th>aov</th>\n",
       "      <th>cogs</th>\n",
       "      <th>ltc</th>\n",
       "      <th>month</th>\n",
       "      <th>n_payment</th>\n",
       "    </tr>\n",
       "  </thead>\n",
       "  <tbody>\n",
       "    <tr>\n",
       "      <th>0</th>\n",
       "      <td>2024-05-01</td>\n",
       "      <td>2024-05</td>\n",
       "      <td>be239004-bc93-4732-8d2e-db1c9abc70f9</td>\n",
       "      <td>-</td>\n",
       "      <td>False</td>\n",
       "      <td>0</td>\n",
       "      <td>0.0</td>\n",
       "      <td>0</td>\n",
       "      <td>2024-5</td>\n",
       "      <td>NaN</td>\n",
       "    </tr>\n",
       "    <tr>\n",
       "      <th>1</th>\n",
       "      <td>2024-05-01</td>\n",
       "      <td>2024-05</td>\n",
       "      <td>ff709093-05bd-4c07-8d47-20a1e22450df</td>\n",
       "      <td>-</td>\n",
       "      <td>False</td>\n",
       "      <td>0</td>\n",
       "      <td>0.0</td>\n",
       "      <td>8</td>\n",
       "      <td>2024-5</td>\n",
       "      <td>NaN</td>\n",
       "    </tr>\n",
       "    <tr>\n",
       "      <th>2</th>\n",
       "      <td>2024-05-01</td>\n",
       "      <td>2024-05</td>\n",
       "      <td>024c15c8-33a9-4f4c-b471-c47a2364dc30</td>\n",
       "      <td>-</td>\n",
       "      <td>False</td>\n",
       "      <td>0</td>\n",
       "      <td>0.0</td>\n",
       "      <td>8</td>\n",
       "      <td>2024-5</td>\n",
       "      <td>NaN</td>\n",
       "    </tr>\n",
       "    <tr>\n",
       "      <th>3</th>\n",
       "      <td>2024-05-01</td>\n",
       "      <td>2024-05</td>\n",
       "      <td>3186905a-cf69-40fe-a615-51342cc6158b</td>\n",
       "      <td>-</td>\n",
       "      <td>False</td>\n",
       "      <td>0</td>\n",
       "      <td>0.0</td>\n",
       "      <td>8</td>\n",
       "      <td>2024-5</td>\n",
       "      <td>NaN</td>\n",
       "    </tr>\n",
       "    <tr>\n",
       "      <th>4</th>\n",
       "      <td>2024-05-01</td>\n",
       "      <td>2024-05</td>\n",
       "      <td>919338ce-b051-4c7a-aa3c-e7c951644a77</td>\n",
       "      <td>-</td>\n",
       "      <td>False</td>\n",
       "      <td>0</td>\n",
       "      <td>0.0</td>\n",
       "      <td>0</td>\n",
       "      <td>2024-5</td>\n",
       "      <td>NaN</td>\n",
       "    </tr>\n",
       "  </tbody>\n",
       "</table>\n",
       "</div>"
      ],
      "text/plain": [
       "        data   cohort                                  uuid buyer  new buyer  \\\n",
       "0 2024-05-01  2024-05  be239004-bc93-4732-8d2e-db1c9abc70f9     -      False   \n",
       "1 2024-05-01  2024-05  ff709093-05bd-4c07-8d47-20a1e22450df     -      False   \n",
       "2 2024-05-01  2024-05  024c15c8-33a9-4f4c-b471-c47a2364dc30     -      False   \n",
       "3 2024-05-01  2024-05  3186905a-cf69-40fe-a615-51342cc6158b     -      False   \n",
       "4 2024-05-01  2024-05  919338ce-b051-4c7a-aa3c-e7c951644a77     -      False   \n",
       "\n",
       "   aov  cogs  ltc   month  n_payment  \n",
       "0    0   0.0    0  2024-5        NaN  \n",
       "1    0   0.0    8  2024-5        NaN  \n",
       "2    0   0.0    8  2024-5        NaN  \n",
       "3    0   0.0    8  2024-5        NaN  \n",
       "4    0   0.0    0  2024-5        NaN  "
      ]
     },
     "execution_count": 63,
     "metadata": {},
     "output_type": "execute_result"
    }
   ],
   "source": [
    "df['data'] = pd.to_datetime(df.data, errors = 'coerce')\n",
    "df.head()"
   ]
  },
  {
   "cell_type": "code",
   "execution_count": 32,
   "id": "64999d7f-a676-4537-acab-c2f06f6a4f6a",
   "metadata": {},
   "outputs": [
    {
     "name": "stdout",
     "output_type": "stream",
     "text": [
      "data         datetime64[ns]\n",
      "cohort               object\n",
      "uuid                 object\n",
      "buyer                object\n",
      "new buyer              bool\n",
      "aov                   int64\n",
      "cogs                float64\n",
      "ltc                   int64\n",
      "month                object\n",
      "n_payment           float64\n",
      "dtype: object\n"
     ]
    }
   ],
   "source": [
    "print(df.dtypes)"
   ]
  },
  {
   "cell_type": "code",
   "execution_count": 33,
   "id": "70f75e06-4acc-4d31-b2e8-7ad9a918670d",
   "metadata": {},
   "outputs": [
    {
     "data": {
      "text/plain": [
       "np.int64(41451)"
      ]
     },
     "execution_count": 33,
     "metadata": {},
     "output_type": "execute_result"
    }
   ],
   "source": [
    "uniq_uuid = pd.Series(df.uuid).value_counts().count()\n",
    "uniq_uuid"
   ]
  },
  {
   "cell_type": "code",
   "execution_count": 64,
   "id": "43015c8e-1725-465c-8fbe-aca204a6bfbc",
   "metadata": {},
   "outputs": [
    {
     "data": {
      "text/html": [
       "<div>\n",
       "<style scoped>\n",
       "    .dataframe tbody tr th:only-of-type {\n",
       "        vertical-align: middle;\n",
       "    }\n",
       "\n",
       "    .dataframe tbody tr th {\n",
       "        vertical-align: top;\n",
       "    }\n",
       "\n",
       "    .dataframe thead th {\n",
       "        text-align: right;\n",
       "    }\n",
       "</style>\n",
       "<table border=\"1\" class=\"dataframe\">\n",
       "  <thead>\n",
       "    <tr style=\"text-align: right;\">\n",
       "      <th></th>\n",
       "      <th>data</th>\n",
       "      <th>cohort</th>\n",
       "      <th>uuid</th>\n",
       "      <th>buyer</th>\n",
       "      <th>new buyer</th>\n",
       "      <th>aov</th>\n",
       "      <th>cogs</th>\n",
       "      <th>ltc</th>\n",
       "      <th>month</th>\n",
       "      <th>n_payment</th>\n",
       "      <th>month_period</th>\n",
       "    </tr>\n",
       "  </thead>\n",
       "  <tbody>\n",
       "    <tr>\n",
       "      <th>0</th>\n",
       "      <td>2024-05-01</td>\n",
       "      <td>2024-05</td>\n",
       "      <td>be239004-bc93-4732-8d2e-db1c9abc70f9</td>\n",
       "      <td>-</td>\n",
       "      <td>False</td>\n",
       "      <td>0</td>\n",
       "      <td>0.0</td>\n",
       "      <td>0</td>\n",
       "      <td>2024-5</td>\n",
       "      <td>NaN</td>\n",
       "      <td>2024-05</td>\n",
       "    </tr>\n",
       "    <tr>\n",
       "      <th>1</th>\n",
       "      <td>2024-05-01</td>\n",
       "      <td>2024-05</td>\n",
       "      <td>ff709093-05bd-4c07-8d47-20a1e22450df</td>\n",
       "      <td>-</td>\n",
       "      <td>False</td>\n",
       "      <td>0</td>\n",
       "      <td>0.0</td>\n",
       "      <td>8</td>\n",
       "      <td>2024-5</td>\n",
       "      <td>NaN</td>\n",
       "      <td>2024-05</td>\n",
       "    </tr>\n",
       "    <tr>\n",
       "      <th>2</th>\n",
       "      <td>2024-05-01</td>\n",
       "      <td>2024-05</td>\n",
       "      <td>024c15c8-33a9-4f4c-b471-c47a2364dc30</td>\n",
       "      <td>-</td>\n",
       "      <td>False</td>\n",
       "      <td>0</td>\n",
       "      <td>0.0</td>\n",
       "      <td>8</td>\n",
       "      <td>2024-5</td>\n",
       "      <td>NaN</td>\n",
       "      <td>2024-05</td>\n",
       "    </tr>\n",
       "    <tr>\n",
       "      <th>3</th>\n",
       "      <td>2024-05-01</td>\n",
       "      <td>2024-05</td>\n",
       "      <td>3186905a-cf69-40fe-a615-51342cc6158b</td>\n",
       "      <td>-</td>\n",
       "      <td>False</td>\n",
       "      <td>0</td>\n",
       "      <td>0.0</td>\n",
       "      <td>8</td>\n",
       "      <td>2024-5</td>\n",
       "      <td>NaN</td>\n",
       "      <td>2024-05</td>\n",
       "    </tr>\n",
       "    <tr>\n",
       "      <th>4</th>\n",
       "      <td>2024-05-01</td>\n",
       "      <td>2024-05</td>\n",
       "      <td>919338ce-b051-4c7a-aa3c-e7c951644a77</td>\n",
       "      <td>-</td>\n",
       "      <td>False</td>\n",
       "      <td>0</td>\n",
       "      <td>0.0</td>\n",
       "      <td>0</td>\n",
       "      <td>2024-5</td>\n",
       "      <td>NaN</td>\n",
       "      <td>2024-05</td>\n",
       "    </tr>\n",
       "  </tbody>\n",
       "</table>\n",
       "</div>"
      ],
      "text/plain": [
       "        data   cohort                                  uuid buyer  new buyer  \\\n",
       "0 2024-05-01  2024-05  be239004-bc93-4732-8d2e-db1c9abc70f9     -      False   \n",
       "1 2024-05-01  2024-05  ff709093-05bd-4c07-8d47-20a1e22450df     -      False   \n",
       "2 2024-05-01  2024-05  024c15c8-33a9-4f4c-b471-c47a2364dc30     -      False   \n",
       "3 2024-05-01  2024-05  3186905a-cf69-40fe-a615-51342cc6158b     -      False   \n",
       "4 2024-05-01  2024-05  919338ce-b051-4c7a-aa3c-e7c951644a77     -      False   \n",
       "\n",
       "   aov  cogs  ltc   month  n_payment month_period  \n",
       "0    0   0.0    0  2024-5        NaN      2024-05  \n",
       "1    0   0.0    8  2024-5        NaN      2024-05  \n",
       "2    0   0.0    8  2024-5        NaN      2024-05  \n",
       "3    0   0.0    8  2024-5        NaN      2024-05  \n",
       "4    0   0.0    0  2024-5        NaN      2024-05  "
      ]
     },
     "execution_count": 64,
     "metadata": {},
     "output_type": "execute_result"
    }
   ],
   "source": [
    "df['month_period'] = df.data.dt.to_period('M')\n",
    "df.head()"
   ]
  },
  {
   "cell_type": "code",
   "execution_count": 65,
   "id": "6b5f6b7a-b81f-426f-b3d7-bc6a54efb354",
   "metadata": {},
   "outputs": [],
   "source": [
    "df['uuid'] = df['uuid'].dropna()"
   ]
  },
  {
   "cell_type": "code",
   "execution_count": 76,
   "id": "c997934e-d862-4c6b-8680-423e91b0e6e6",
   "metadata": {},
   "outputs": [
    {
     "name": "stdout",
     "output_type": "stream",
     "text": [
      "month_period\n",
      "2024-05     9810\n",
      "2024-06    14547\n",
      "2024-07    17094\n",
      "Freq: M, Name: uuid, dtype: int64\n",
      "Общее количество уникальных uuid: 41451\n"
     ]
    }
   ],
   "source": [
    "# Сначала отсортируем по дате и удалим дубликаты, оставив только первое вхождение для каждого uuid\n",
    "df_sorted = df.sort_values('data')  # Убедитесь, что дата отсортирована\n",
    "df_unique = df_sorted.drop_duplicates(subset=['uuid'], keep='first')\n",
    "\n",
    "# Теперь, после удаления дубликатов, сгруппируем по месяцам и посчитаем уникальные uuid\n",
    "grouped_df = df_unique.groupby('month_period')['uuid'].nunique()\n",
    "\n",
    "print(grouped_df)\n",
    "\n",
    "unique_uuids_overall = df_unique['uuid'].nunique()\n",
    "print(\"Общее количество уникальных uuid:\", unique_uuids_overall)"
   ]
  },
  {
   "cell_type": "code",
   "execution_count": 73,
   "id": "36bcca28-2578-4434-a933-b98593f528e6",
   "metadata": {},
   "outputs": [
    {
     "name": "stdout",
     "output_type": "stream",
     "text": [
      "Общее количество уникальных uuid: 41451\n"
     ]
    }
   ],
   "source": [
    "# Суммируем уникальные uuid по всем месяцам\n",
    "unique_uuids_overall = df_unique['uuid'].nunique()\n",
    "print(\"Общее количество уникальных uuid:\", unique_uuids_overall)"
   ]
  },
  {
   "cell_type": "code",
   "execution_count": 74,
   "id": "5c8c6bb8-5bfc-48d7-b994-5385a2d65c1b",
   "metadata": {},
   "outputs": [
    {
     "name": "stdout",
     "output_type": "stream",
     "text": [
      "{Period('2024-05', 'M'): 9810, Period('2024-06', 'M'): 14547, Period('2024-07', 'M'): 17094}\n",
      "Сумма уникальных uuid по месяцам: 59120\n"
     ]
    }
   ],
   "source": [
    "# Печатаем количество уникальных uuid по каждому месяцу\n",
    "print(grouped_df)\n",
    "\n",
    "# Если нужно подсчитать общее количество уникальных uuid в датасете (как на весь датасет, так и по месяцам)\n",
    "total_unique_uuids = monthly_uuids.sum()  # Суммируем уникальные uuid по месяцам\n",
    "print(\"Сумма уникальных uuid по месяцам:\", total_unique_uuids)"
   ]
  },
  {
   "cell_type": "code",
   "execution_count": null,
   "id": "d2a6db68-5e2f-4da6-80af-4535245f8fc5",
   "metadata": {},
   "outputs": [],
   "source": []
  },
  {
   "cell_type": "code",
   "execution_count": 48,
   "id": "36ae6670-46aa-457c-854b-0d5999cbb617",
   "metadata": {},
   "outputs": [
    {
     "name": "stdout",
     "output_type": "stream",
     "text": [
      "Уникальные uuid: 41451\n"
     ]
    }
   ],
   "source": [
    "# unique_uuids = df['uuid'].nunique()\n",
    "# print(\"Уникальные uuid:\", unique_uuids)"
   ]
  },
  {
   "cell_type": "code",
   "execution_count": 53,
   "id": "04915818-e496-4923-b128-ef9b7935d7e3",
   "metadata": {},
   "outputs": [],
   "source": [
    "# df_unique = df.drop_duplicates(subset=['uuid', 'month_period'], keep='first')"
   ]
  },
  {
   "cell_type": "code",
   "execution_count": 56,
   "id": "8f0c4723-28ca-4896-bc3e-f2fb5c8778e8",
   "metadata": {},
   "outputs": [
    {
     "data": {
      "text/plain": [
       "{Period('2024-05', 'M'): 9810,\n",
       " Period('2024-06', 'M'): 20864,\n",
       " Period('2024-07', 'M'): 28446}"
      ]
     },
     "execution_count": 56,
     "metadata": {},
     "output_type": "execute_result"
    }
   ],
   "source": [
    "# grouped_df = df_unique.groupby('month_period')['uuid'].count().to_dict()\n",
    "# grouped_df"
   ]
  },
  {
   "cell_type": "code",
   "execution_count": 51,
   "id": "b5d3a778-28a2-428e-a086-b655881ecaaf",
   "metadata": {},
   "outputs": [
    {
     "data": {
      "text/html": [
       "<div>\n",
       "<style scoped>\n",
       "    .dataframe tbody tr th:only-of-type {\n",
       "        vertical-align: middle;\n",
       "    }\n",
       "\n",
       "    .dataframe tbody tr th {\n",
       "        vertical-align: top;\n",
       "    }\n",
       "\n",
       "    .dataframe thead th {\n",
       "        text-align: right;\n",
       "    }\n",
       "</style>\n",
       "<table border=\"1\" class=\"dataframe\">\n",
       "  <thead>\n",
       "    <tr style=\"text-align: right;\">\n",
       "      <th></th>\n",
       "      <th>data</th>\n",
       "      <th>aov</th>\n",
       "      <th>cogs</th>\n",
       "      <th>ltc</th>\n",
       "      <th>n_payment</th>\n",
       "      <th>month_new</th>\n",
       "    </tr>\n",
       "  </thead>\n",
       "  <tbody>\n",
       "    <tr>\n",
       "      <th>count</th>\n",
       "      <td>59120</td>\n",
       "      <td>59318.000000</td>\n",
       "      <td>59318.000000</td>\n",
       "      <td>59318.000000</td>\n",
       "      <td>0.0</td>\n",
       "      <td>59120.000000</td>\n",
       "    </tr>\n",
       "    <tr>\n",
       "      <th>mean</th>\n",
       "      <td>2024-06-25 02:24:30.690121984</td>\n",
       "      <td>0.125594</td>\n",
       "      <td>0.016327</td>\n",
       "      <td>5.417664</td>\n",
       "      <td>NaN</td>\n",
       "      <td>6.315223</td>\n",
       "    </tr>\n",
       "    <tr>\n",
       "      <th>min</th>\n",
       "      <td>2024-05-01 00:00:00</td>\n",
       "      <td>0.000000</td>\n",
       "      <td>0.000000</td>\n",
       "      <td>0.000000</td>\n",
       "      <td>NaN</td>\n",
       "      <td>5.000000</td>\n",
       "    </tr>\n",
       "    <tr>\n",
       "      <th>25%</th>\n",
       "      <td>2024-06-08 00:00:00</td>\n",
       "      <td>0.000000</td>\n",
       "      <td>0.000000</td>\n",
       "      <td>0.000000</td>\n",
       "      <td>NaN</td>\n",
       "      <td>6.000000</td>\n",
       "    </tr>\n",
       "    <tr>\n",
       "      <th>50%</th>\n",
       "      <td>2024-06-29 00:00:00</td>\n",
       "      <td>0.000000</td>\n",
       "      <td>0.000000</td>\n",
       "      <td>7.000000</td>\n",
       "      <td>NaN</td>\n",
       "      <td>6.000000</td>\n",
       "    </tr>\n",
       "    <tr>\n",
       "      <th>75%</th>\n",
       "      <td>2024-07-15 00:00:00</td>\n",
       "      <td>0.000000</td>\n",
       "      <td>0.000000</td>\n",
       "      <td>8.000000</td>\n",
       "      <td>NaN</td>\n",
       "      <td>7.000000</td>\n",
       "    </tr>\n",
       "    <tr>\n",
       "      <th>max</th>\n",
       "      <td>2024-07-31 00:00:00</td>\n",
       "      <td>10.000000</td>\n",
       "      <td>1.300000</td>\n",
       "      <td>10.000000</td>\n",
       "      <td>NaN</td>\n",
       "      <td>7.000000</td>\n",
       "    </tr>\n",
       "    <tr>\n",
       "      <th>std</th>\n",
       "      <td>NaN</td>\n",
       "      <td>1.113638</td>\n",
       "      <td>0.144773</td>\n",
       "      <td>3.727902</td>\n",
       "      <td>NaN</td>\n",
       "      <td>0.740091</td>\n",
       "    </tr>\n",
       "  </tbody>\n",
       "</table>\n",
       "</div>"
      ],
      "text/plain": [
       "                                data           aov          cogs  \\\n",
       "count                          59120  59318.000000  59318.000000   \n",
       "mean   2024-06-25 02:24:30.690121984      0.125594      0.016327   \n",
       "min              2024-05-01 00:00:00      0.000000      0.000000   \n",
       "25%              2024-06-08 00:00:00      0.000000      0.000000   \n",
       "50%              2024-06-29 00:00:00      0.000000      0.000000   \n",
       "75%              2024-07-15 00:00:00      0.000000      0.000000   \n",
       "max              2024-07-31 00:00:00     10.000000      1.300000   \n",
       "std                              NaN      1.113638      0.144773   \n",
       "\n",
       "                ltc  n_payment     month_new  \n",
       "count  59318.000000        0.0  59120.000000  \n",
       "mean       5.417664        NaN      6.315223  \n",
       "min        0.000000        NaN      5.000000  \n",
       "25%        0.000000        NaN      6.000000  \n",
       "50%        7.000000        NaN      6.000000  \n",
       "75%        8.000000        NaN      7.000000  \n",
       "max       10.000000        NaN      7.000000  \n",
       "std        3.727902        NaN      0.740091  "
      ]
     },
     "execution_count": 51,
     "metadata": {},
     "output_type": "execute_result"
    }
   ],
   "source": [
    "df.describe()"
   ]
  },
  {
   "cell_type": "code",
   "execution_count": 52,
   "id": "16f3a9ad-3d28-4e31-945c-b70c48b50be2",
   "metadata": {},
   "outputs": [
    {
     "name": "stdout",
     "output_type": "stream",
     "text": [
      "month_period\n",
      "2024-05     9810\n",
      "2024-06    20864\n",
      "2024-07    28446\n",
      "Freq: M, Name: uuid, dtype: int64\n",
      "Сумма уникальных uuid по месяцам: 59120\n"
     ]
    }
   ],
   "source": [
    "# Проверяем количество уникальных uuid в каждом месяце\n",
    "monthly_uuids = df.groupby('month_period')['uuid'].nunique()\n",
    "\n",
    "# Печатаем количество уникальных uuid по каждому месяцу\n",
    "print(monthly_uuids)\n",
    "\n",
    "# Если нужно подсчитать общее количество уникальных uuid в датасете (как на весь датасет, так и по месяцам)\n",
    "total_unique_uuids = monthly_uuids.sum()  # Суммируем уникальные uuid по месяцам\n",
    "print(\"Сумма уникальных uuid по месяцам:\", total_unique_uuids)"
   ]
  },
  {
   "cell_type": "code",
   "execution_count": null,
   "id": "24cb9867-b5d8-44b4-9094-283585b557e4",
   "metadata": {},
   "outputs": [],
   "source": []
  }
 ],
 "metadata": {
  "kernelspec": {
   "display_name": "Python 3 (ipykernel)",
   "language": "python",
   "name": "python3"
  },
  "language_info": {
   "codemirror_mode": {
    "name": "ipython",
    "version": 3
   },
   "file_extension": ".py",
   "mimetype": "text/x-python",
   "name": "python",
   "nbconvert_exporter": "python",
   "pygments_lexer": "ipython3",
   "version": "3.13.3"
  }
 },
 "nbformat": 4,
 "nbformat_minor": 5
}
