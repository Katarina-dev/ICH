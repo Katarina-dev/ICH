{
 "cells": [
  {
   "cell_type": "code",
   "execution_count": null,
   "id": "4d24d794-d31e-496e-ae7c-41d7bc0c74bd",
   "metadata": {},
   "outputs": [],
   "source": [
    "1. Напишите функцию merge_dicts, которая принимает произвольное количество словарей в качестве аргументов и возвращает новый словарь, объединяющий все входные словари. \n",
    "Если ключи повторяются, значения должны быть объединены в список. Функция должна использовать аргумент **kwargs для принятия произвольного числа аргументов словаря."
   ]
  },
  {
   "cell_type": "code",
   "execution_count": 1,
   "id": "93278d95-8cd1-417c-8859-048305f61d60",
   "metadata": {},
   "outputs": [
    {
     "name": "stdout",
     "output_type": "stream",
     "text": [
      "{'a': 1, 'b': [2, 3], 'c': [4, 5], 'd': 6}\n"
     ]
    }
   ],
   "source": [
    "def merge_dicts(**kwargs):\n",
    "    res = {}\n",
    "    for d in kwargs.values():\n",
    "        if isinstance(d, dict):\n",
    "            for key, value in d.items():\n",
    "                if key in res:\n",
    "                    if not isinstance(res[key], list):\n",
    "                        res[key] = [res[key]]\n",
    "                    res[key].append(value)\n",
    "                else:\n",
    "                    res[key] = value\n",
    "    return res\n",
    "\n",
    "m = merge_dicts(d1={'a': 1, 'b': 2}, d2={'b': 3, 'c': 4}, d3={'c': 5, 'd': 6})\n",
    "print(m)"
   ]
  },
  {
   "cell_type": "code",
   "execution_count": null,
   "id": "0c23743b-a2c1-4c95-bcc2-c5402d31c866",
   "metadata": {},
   "outputs": [],
   "source": [
    "2. Напишите программу, которая принимает строку от пользователя и подсчитывает количество уникальных символов в этой строке. \n",
    "Создайте функцию count_unique_chars, которая принимает строку и возвращает количество уникальных символов. Выведите результат на экран."
   ]
  },
  {
   "cell_type": "code",
   "execution_count": 2,
   "id": "a14273f1-464b-4558-bee2-760b9b103d83",
   "metadata": {},
   "outputs": [
    {
     "name": "stdin",
     "output_type": "stream",
     "text": [
      "Введите строку:  hello\n"
     ]
    },
    {
     "name": "stdout",
     "output_type": "stream",
     "text": [
      "Количество уникальных символов: 4\n"
     ]
    }
   ],
   "source": [
    "def get_count_unique(s):\n",
    "    cnt = {}\n",
    "\n",
    "    for i in s:\n",
    "        if i in cnt:\n",
    "            cnt[i] += 1\n",
    "        else:\n",
    "            cnt[i] = 1\n",
    "\n",
    "    unique = len(cnt)\n",
    "\n",
    "    return unique\n",
    "\n",
    "test = input(\"Введите строку: \")\n",
    "\n",
    "res = get_count_unique(test)\n",
    "print(\"Количество уникальных символов:\", res)"
   ]
  },
  {
   "cell_type": "code",
   "execution_count": null,
   "id": "064b4b98-f425-43af-84f3-95bfee1d7538",
   "metadata": {},
   "outputs": [],
   "source": [
    "3. Напишите программу, которая создает словарь, содержащий информацию о студентах и их оценках. Ключами словаря являются имена студентов, а значениями - списки оценок. \n",
    "Создайте функцию calculate_average_grade, которая принимает словарь с оценками студентов и вычисляет средний балл для каждого студента. \n",
    "Функция должна возвращать новый словарь, в котором ключами являются имена студентов, а значениями - их средний балл. Выведите результат на экран."
   ]
  },
  {
   "cell_type": "code",
   "execution_count": 3,
   "id": "1b746dd8-10c3-4514-94af-44d8367114df",
   "metadata": {},
   "outputs": [
    {
     "name": "stdout",
     "output_type": "stream",
     "text": [
      "{'Alice': 89.0, 'Bob': 80.66666666666667, 'Carol': 91.66666666666667}\n"
     ]
    }
   ],
   "source": [
    "def get_avg_grade(grades_dict):\n",
    "    avg_grades = {}\n",
    "\n",
    "    for student, grades in grades_dict.items():\n",
    "        if grades:  \n",
    "            average = sum(grades) / len(grades)  \n",
    "        else:\n",
    "            average = 0  \n",
    "        avg_grades[student] = average  \n",
    "\n",
    "    return avg_grades\n",
    "\n",
    "\n",
    "grades = {\n",
    "    'Alice': [85, 90, 92],\n",
    "    'Bob': [78, 80, 84],\n",
    "    'Carol': [92, 88, 95]\n",
    "}\n",
    "\n",
    "avg_results = get_avg_grade(grades)\n",
    "\n",
    "print(avg_results)"
   ]
  },
  {
   "cell_type": "code",
   "execution_count": null,
   "id": "8c1a56ba-9dc5-4cc8-9b44-6d3fc03672bb",
   "metadata": {},
   "outputs": [],
   "source": []
  }
 ],
 "metadata": {
  "kernelspec": {
   "display_name": "Python 3 (ipykernel)",
   "language": "python",
   "name": "python3"
  },
  "language_info": {
   "codemirror_mode": {
    "name": "ipython",
    "version": 3
   },
   "file_extension": ".py",
   "mimetype": "text/x-python",
   "name": "python",
   "nbconvert_exporter": "python",
   "pygments_lexer": "ipython3",
   "version": "3.12.5"
  }
 },
 "nbformat": 4,
 "nbformat_minor": 5
}
