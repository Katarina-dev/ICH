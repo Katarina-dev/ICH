{
 "cells": [
  {
   "cell_type": "code",
   "execution_count": null,
   "id": "27afad9f-de12-49a7-aef9-917399e6345c",
   "metadata": {},
   "outputs": [],
   "source": [
    "# 1. Напишите программу, которая запрашивает у пользователя строку и определяет, является ли она панграммой. \n",
    "# Панграмма - это фраза, содержащая все буквы алфавита. Программа должна игнорировать регистр букв и пробелы при проверке панграммы. \n",
    "# Выведите соответствующее сообщение на экран с помощью команды print. Решить задачу для латиницы.\n",
    "\n",
    "import string\n",
    "\n",
    "text = input('text>>').lower\n",
    "res = set(string.ascii_lowercase) & set(text)\n",
    "if res:\n",
    "    print('Yes')\n",
    "else:\n",
    "    print('No')"
   ]
  },
  {
   "cell_type": "code",
   "execution_count": null,
   "id": "3048db7d-c493-4ba2-813d-259f7cc85ab4",
   "metadata": {},
   "outputs": [],
   "source": [
    "alphabet = 'abcdefghijklmnopqrstuvwxz'\n",
    "text = input('text>>').lower()\n",
    "index = 0\n",
    "\n",
    "while index < len(alphabet):\n",
    "    if alphabet[index] not in text:\n",
    "        print('No')\n",
    "        break\n",
    "    index += 1\n",
    "else:\n",
    "    print('Yes')"
   ]
  },
  {
   "cell_type": "code",
   "execution_count": 1,
   "id": "ce2caa9e-f18c-4eec-a869-d804641db0fb",
   "metadata": {},
   "outputs": [
    {
     "name": "stdin",
     "output_type": "stream",
     "text": [
      "text Hello world\n"
     ]
    },
    {
     "ename": "TypeError",
     "evalue": "object of type 'builtin_function_or_method' has no len()",
     "output_type": "error",
     "traceback": [
      "\u001b[1;31m---------------------------------------------------------------------------\u001b[0m",
      "\u001b[1;31mTypeError\u001b[0m                                 Traceback (most recent call last)",
      "Cell \u001b[1;32mIn[1], line 12\u001b[0m\n\u001b[0;32m      9\u001b[0m count \u001b[38;5;241m=\u001b[39m \u001b[38;5;241m0\u001b[39m\n\u001b[0;32m     10\u001b[0m i \u001b[38;5;241m=\u001b[39m \u001b[38;5;241m0\u001b[39m\n\u001b[1;32m---> 12\u001b[0m \u001b[38;5;28;01mwhile\u001b[39;00m i \u001b[38;5;241m<\u001b[39m \u001b[38;5;28;43mlen\u001b[39;49m\u001b[43m(\u001b[49m\u001b[43mtext\u001b[49m\u001b[43m)\u001b[49m:\n\u001b[0;32m     13\u001b[0m     \u001b[38;5;28;01mif\u001b[39;00m text[i] \u001b[38;5;129;01min\u001b[39;00m letters_vowels:\n\u001b[0;32m     14\u001b[0m         count_vowels \u001b[38;5;241m+\u001b[39m\u001b[38;5;241m=\u001b[39m \u001b[38;5;241m1\u001b[39m\n",
      "\u001b[1;31mTypeError\u001b[0m: object of type 'builtin_function_or_method' has no len()"
     ]
    }
   ],
   "source": [
    "# 2. Напишите программу, которая запрашивает у пользователя строку и выводит на экран количество гласных и согласных букв в ней. \n",
    "# Используйте функцию len() для подсчета количества букв. Выведите результат на экран с помощью команды print. Решить задачу для латиницы.\n",
    "\n",
    "letters_vowels = 'aeiou'\n",
    "letters_cons = 'bcdfghjklmnpqrstvwxz'\n",
    "text = input('text').lower\n",
    "\n",
    "count_vowels = 0\n",
    "count = 0\n",
    "i = 0\n",
    "\n",
    "while i < len(text):\n",
    "    if text[i] in letters_vowels:\n",
    "        count_vowels += 1\n",
    "    elif text[i] in letters_cons:\n",
    "        count_cons += 1\n",
    "    i += 1\n",
    "print(count_vowels, count_cons)"
   ]
  },
  {
   "cell_type": "code",
   "execution_count": null,
   "id": "39b84214-adcc-4d1f-b705-f205084cef62",
   "metadata": {},
   "outputs": [],
   "source": []
  }
 ],
 "metadata": {
  "kernelspec": {
   "display_name": "Python 3 (ipykernel)",
   "language": "python",
   "name": "python3"
  },
  "language_info": {
   "codemirror_mode": {
    "name": "ipython",
    "version": 3
   },
   "file_extension": ".py",
   "mimetype": "text/x-python",
   "name": "python",
   "nbconvert_exporter": "python",
   "pygments_lexer": "ipython3",
   "version": "3.12.5"
  }
 },
 "nbformat": 4,
 "nbformat_minor": 5
}
