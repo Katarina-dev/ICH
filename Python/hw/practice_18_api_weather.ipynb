{
 "cells": [
  {
   "cell_type": "code",
   "execution_count": 2,
   "id": "b82366c4-fc9a-4fff-a670-51960fb59294",
   "metadata": {},
   "outputs": [
    {
     "name": "stdin",
     "output_type": "stream",
     "text": [
      "Введите город:  Novi Sad\n"
     ]
    },
    {
     "name": "stdout",
     "output_type": "stream",
     "text": [
      "Температура в Novi Sad, Serbia : 15.3\n"
     ]
    }
   ],
   "source": [
    "import requests\n",
    "\n",
    "def get_res(city, api_key):\n",
    "    url = 'http://api.weatherapi.com/v1/current.json'\n",
    "    params = {\n",
    "    'key': api_key,\n",
    "    'q': city,\n",
    "    'aqi': 'yes'}\n",
    "    \n",
    "    try:\n",
    "        res = requests.get(url, params = params) \n",
    "        res_w = res.json()\n",
    "        temp_c = res_w[\"current\"][\"temp_c\"] \n",
    "        country = res_w[\"location\"][\"country\"] \n",
    "        location_name = res_w[\"location\"][\"name\"] \n",
    "        return temp_c\n",
    "\n",
    "    except requests.exceptions.RequestException as e:\n",
    "        raise Exception(f'Ошибка {e}')\n",
    "\n",
    "# if __name__ == \"__main__\":\n",
    "api_key = 'b1e21ba9182c4ee5af5113847250601'\n",
    "city = input('City:')\n",
    "        \n",
    "res = get_res(city, api_key)\n",
    "print(f'Temperature in {city} is {res}C')"
   ]
  },
  {
   "cell_type": "code",
   "execution_count": null,
   "id": "7f907d43-7529-4fbd-9a76-62f537afc437",
   "metadata": {},
   "outputs": [],
   "source": []
  }
 ],
 "metadata": {
  "kernelspec": {
   "display_name": "Python 3 (ipykernel)",
   "language": "python",
   "name": "python3"
  },
  "language_info": {
   "codemirror_mode": {
    "name": "ipython",
    "version": 3
   },
   "file_extension": ".py",
   "mimetype": "text/x-python",
   "name": "python",
   "nbconvert_exporter": "python",
   "pygments_lexer": "ipython3",
   "version": "3.12.5"
  }
 },
 "nbformat": 4,
 "nbformat_minor": 5
}
