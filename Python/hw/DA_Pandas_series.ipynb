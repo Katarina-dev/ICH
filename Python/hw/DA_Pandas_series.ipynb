{
 "cells": [
  {
   "cell_type": "code",
   "execution_count": null,
   "id": "e2ca541a-a5c4-4024-8e5a-289103d33b24",
   "metadata": {},
   "outputs": [],
   "source": [
    "УРОК 4-1. ВВЕДЕНИЕ В PANDAS. ТИП\n",
    "ДАННЫХ SERIES"
   ]
  },
  {
   "cell_type": "code",
   "execution_count": 10,
   "id": "a005bbad-bea6-428a-82a0-67e46e75267e",
   "metadata": {},
   "outputs": [],
   "source": [
    "import pandas as pd"
   ]
  },
  {
   "cell_type": "code",
   "execution_count": 12,
   "id": "43f25fe8-e342-4629-aed2-6ccff26f4275",
   "metadata": {},
   "outputs": [
    {
     "name": "stdout",
     "output_type": "stream",
     "text": [
      "[1, 3, 5, nan, 6, 8]\n",
      "<class 'pandas.core.series.Series'>\n"
     ]
    },
    {
     "data": {
      "text/plain": [
       "0    1.0\n",
       "1    3.0\n",
       "2    5.0\n",
       "3    NaN\n",
       "4    6.0\n",
       "5    8.0\n",
       "dtype: float64"
      ]
     },
     "execution_count": 12,
     "metadata": {},
     "output_type": "execute_result"
    }
   ],
   "source": [
    "import numpy as np\n",
    "\n",
    "l = [1, 3, 5, np.nan, 6, 8]\n",
    "s = pd.Series(l) # series - это numpy.array\n",
    "\n",
    "print(l)\n",
    "print(type(s))\n",
    "s"
   ]
  },
  {
   "cell_type": "code",
   "execution_count": 13,
   "id": "8a9bed19-3a12-48e1-b938-b74da8bd0c45",
   "metadata": {},
   "outputs": [
    {
     "data": {
      "text/plain": [
       "(array([ 1.,  3.,  5., nan,  6.,  8.]), numpy.ndarray)"
      ]
     },
     "execution_count": 13,
     "metadata": {},
     "output_type": "execute_result"
    }
   ],
   "source": [
    "s.values, type(s.values)"
   ]
  },
  {
   "cell_type": "code",
   "execution_count": 14,
   "id": "13d32c90-df9b-4d60-abdc-1f1a2920f58e",
   "metadata": {},
   "outputs": [
    {
     "data": {
      "text/plain": [
       "{0: 1.0, 1: 3.0, 2: 5.0, 3: nan, 4: 6.0, 5: 8.0}"
      ]
     },
     "execution_count": 14,
     "metadata": {},
     "output_type": "execute_result"
    }
   ],
   "source": [
    "s.to_dict()"
   ]
  },
  {
   "cell_type": "code",
   "execution_count": 15,
   "id": "97333470-2ada-4a2e-aa4d-a803ff9884ba",
   "metadata": {},
   "outputs": [
    {
     "data": {
      "text/plain": [
       "RangeIndex(start=0, stop=6, step=1)"
      ]
     },
     "execution_count": 15,
     "metadata": {},
     "output_type": "execute_result"
    }
   ],
   "source": [
    "s.index"
   ]
  },
  {
   "cell_type": "code",
   "execution_count": 16,
   "id": "59e1287e-1917-4cd0-bffd-2bd0564342e7",
   "metadata": {},
   "outputs": [
    {
     "data": {
      "text/plain": [
       "1"
      ]
     },
     "execution_count": 16,
     "metadata": {},
     "output_type": "execute_result"
    }
   ],
   "source": [
    "s.index.step"
   ]
  },
  {
   "cell_type": "code",
   "execution_count": 17,
   "id": "55ce1b05-a0bd-4da3-8ae3-ee7d206a367c",
   "metadata": {},
   "outputs": [
    {
     "data": {
      "text/plain": [
       "count    5.000000\n",
       "mean     4.600000\n",
       "std      2.701851\n",
       "min      1.000000\n",
       "25%      3.000000\n",
       "50%      5.000000\n",
       "75%      6.000000\n",
       "max      8.000000\n",
       "dtype: float64"
      ]
     },
     "execution_count": 17,
     "metadata": {},
     "output_type": "execute_result"
    }
   ],
   "source": [
    "s.describe()"
   ]
  },
  {
   "cell_type": "code",
   "execution_count": 18,
   "id": "50a174af-56f0-45e4-9dd1-4feeca61a957",
   "metadata": {},
   "outputs": [
    {
     "data": {
      "text/plain": [
       "pandas.core.series.Series"
      ]
     },
     "execution_count": 18,
     "metadata": {},
     "output_type": "execute_result"
    }
   ],
   "source": [
    "type(s.describe())"
   ]
  },
  {
   "cell_type": "code",
   "execution_count": 19,
   "id": "e309c512-362b-43d5-9ebf-0b0ad7dddf9a",
   "metadata": {},
   "outputs": [
    {
     "data": {
      "text/plain": [
       "Index(['count', 'mean', 'std', 'min', '25%', '50%', '75%', 'max'], dtype='object')"
      ]
     },
     "execution_count": 19,
     "metadata": {},
     "output_type": "execute_result"
    }
   ],
   "source": [
    "s.describe().index"
   ]
  },
  {
   "cell_type": "code",
   "execution_count": 20,
   "id": "59e24486-1960-4bd8-bc79-d16b0fd7ba6b",
   "metadata": {},
   "outputs": [
    {
     "data": {
      "text/plain": [
       "pandas.core.indexes.base.Index"
      ]
     },
     "execution_count": 20,
     "metadata": {},
     "output_type": "execute_result"
    }
   ],
   "source": [
    "type(s.describe().index)"
   ]
  },
  {
   "cell_type": "code",
   "execution_count": 21,
   "id": "76a9cfe5-665a-4c6e-8972-856ecde7cbb4",
   "metadata": {},
   "outputs": [
    {
     "data": {
      "text/plain": [
       "np.float64(5.0)"
      ]
     },
     "execution_count": 21,
     "metadata": {},
     "output_type": "execute_result"
    }
   ],
   "source": [
    "s = pd.Series([1, 3, 5, np.nan, 6, 8])\n",
    "s[2]\n"
   ]
  },
  {
   "cell_type": "code",
   "execution_count": 22,
   "id": "b88788d5-2523-45c5-9ef6-fac202d04526",
   "metadata": {},
   "outputs": [
    {
     "data": {
      "text/plain": [
       "0    1.0\n",
       "1    3.0\n",
       "2    7.0\n",
       "3    NaN\n",
       "4    6.0\n",
       "5    8.0\n",
       "dtype: float64"
      ]
     },
     "execution_count": 22,
     "metadata": {},
     "output_type": "execute_result"
    }
   ],
   "source": [
    "s[2] = 7\n",
    "s\n"
   ]
  },
  {
   "cell_type": "code",
   "execution_count": 23,
   "id": "e0007445-d62e-4e1b-9098-eec538ad3188",
   "metadata": {},
   "outputs": [
    {
     "data": {
      "text/plain": [
       "2    7.0\n",
       "3    NaN\n",
       "4    6.0\n",
       "dtype: float64"
      ]
     },
     "execution_count": 23,
     "metadata": {},
     "output_type": "execute_result"
    }
   ],
   "source": [
    "s[2:5]\n"
   ]
  },
  {
   "cell_type": "code",
   "execution_count": 24,
   "id": "d3dff8ab-d645-4cec-9cfc-74eec35fd697",
   "metadata": {},
   "outputs": [
    {
     "data": {
      "text/plain": [
       "1    3.0\n",
       "2    7.0\n",
       "3    NaN\n",
       "4    6.0\n",
       "5    8.0\n",
       "dtype: float64"
      ]
     },
     "execution_count": 24,
     "metadata": {},
     "output_type": "execute_result"
    }
   ],
   "source": [
    "s1 = s[1:]\n",
    "s1"
   ]
  },
  {
   "cell_type": "code",
   "execution_count": 25,
   "id": "9c3283be-b55f-4656-ada0-68947ce3820c",
   "metadata": {},
   "outputs": [
    {
     "data": {
      "text/plain": [
       "0    1.0\n",
       "1    3.0\n",
       "2    7.0\n",
       "3    NaN\n",
       "4    6.0\n",
       "dtype: float64"
      ]
     },
     "execution_count": 25,
     "metadata": {},
     "output_type": "execute_result"
    }
   ],
   "source": [
    "s2 = s[:-1]\n",
    "s2"
   ]
  },
  {
   "cell_type": "code",
   "execution_count": 26,
   "id": "fb182c0c-0e74-4155-9aa3-573dee65ee4f",
   "metadata": {},
   "outputs": [
    {
     "data": {
      "text/plain": [
       "0     NaN\n",
       "1     6.0\n",
       "2    14.0\n",
       "3     NaN\n",
       "4    12.0\n",
       "5     NaN\n",
       "dtype: float64"
      ]
     },
     "execution_count": 26,
     "metadata": {},
     "output_type": "execute_result"
    }
   ],
   "source": [
    "s1 + s2"
   ]
  },
  {
   "cell_type": "code",
   "execution_count": 28,
   "id": "60007c13-e71b-4e1e-8fa1-f3358be18a88",
   "metadata": {},
   "outputs": [
    {
     "data": {
      "text/plain": [
       "1      20.085537\n",
       "2    1096.633158\n",
       "3            NaN\n",
       "4     403.428793\n",
       "5    2980.957987\n",
       "dtype: float64"
      ]
     },
     "execution_count": 28,
     "metadata": {},
     "output_type": "execute_result"
    }
   ],
   "source": [
    "np.exp(s1)\n"
   ]
  },
  {
   "cell_type": "code",
   "execution_count": 30,
   "id": "12ea9679-fa69-4db1-bae1-1c9003ba0867",
   "metadata": {},
   "outputs": [
    {
     "data": {
      "text/plain": [
       "(pandas.core.series.Series, pandas.core.series.Series)"
      ]
     },
     "execution_count": 30,
     "metadata": {},
     "output_type": "execute_result"
    }
   ],
   "source": [
    "type(np.exp(s)), type(s)"
   ]
  },
  {
   "cell_type": "code",
   "execution_count": 31,
   "id": "55c9ae18-4b82-4a35-b331-a763675a3550",
   "metadata": {},
   "outputs": [
    {
     "data": {
      "text/plain": [
       "a    1.0\n",
       "b    3.0\n",
       "c    5.0\n",
       "d    NaN\n",
       "e    6.0\n",
       "f    8.0\n",
       "dtype: float64"
      ]
     },
     "execution_count": 31,
     "metadata": {},
     "output_type": "execute_result"
    }
   ],
   "source": [
    "new_index = list('abcdef') # i == ['a', 'b', 'c', 'd', 'e', 'f']\n",
    "s = pd.Series(l, index=new_index )\n",
    "s\n"
   ]
  },
  {
   "cell_type": "code",
   "execution_count": 32,
   "id": "1c1c697c-cf82-4b50-9499-e85f5605e66a",
   "metadata": {},
   "outputs": [
    {
     "data": {
      "text/plain": [
       "np.float64(5.0)"
      ]
     },
     "execution_count": 32,
     "metadata": {},
     "output_type": "execute_result"
    }
   ],
   "source": [
    "s['c']"
   ]
  },
  {
   "cell_type": "code",
   "execution_count": 33,
   "id": "921e6986-f339-41c4-a567-789d4e0a0ff7",
   "metadata": {},
   "outputs": [
    {
     "name": "stderr",
     "output_type": "stream",
     "text": [
      "C:\\Users\\user\\AppData\\Local\\Temp\\ipykernel_27072\\1495924492.py:1: FutureWarning: Series.__getitem__ treating keys as positions is deprecated. In a future version, integer keys will always be treated as labels (consistent with DataFrame behavior). To access a value by position, use `ser.iloc[pos]`\n",
      "  s[5]\n"
     ]
    },
    {
     "data": {
      "text/plain": [
       "np.float64(8.0)"
      ]
     },
     "execution_count": 33,
     "metadata": {},
     "output_type": "execute_result"
    }
   ],
   "source": [
    "s[5] # плохой вариант"
   ]
  },
  {
   "cell_type": "code",
   "execution_count": 36,
   "id": "1152c496-3e73-40c8-80c3-86f8f26be790",
   "metadata": {},
   "outputs": [
    {
     "data": {
      "text/plain": [
       "a    1\n",
       "b    2\n",
       "c    0\n",
       "dtype: int64"
      ]
     },
     "execution_count": 36,
     "metadata": {},
     "output_type": "execute_result"
    }
   ],
   "source": [
    "s = pd.Series({'a':1, 'b':2, 'c':0})\n",
    "s"
   ]
  },
  {
   "cell_type": "code",
   "execution_count": 37,
   "id": "944da8cf-df61-464a-b3fb-76815a994293",
   "metadata": {},
   "outputs": [
    {
     "data": {
      "text/plain": [
       "DatetimeIndex(['2016-01-01', '2016-01-02', '2016-01-03', '2016-01-04',\n",
       "               '2016-01-05', '2016-01-06'],\n",
       "              dtype='datetime64[ns]', freq='D')"
      ]
     },
     "execution_count": 37,
     "metadata": {},
     "output_type": "execute_result"
    }
   ],
   "source": [
    "d = pd.date_range('20160101', periods=6)\n",
    "d"
   ]
  },
  {
   "cell_type": "code",
   "execution_count": 38,
   "id": "b5852efd-8653-4de7-9fbc-f6bb5d0c1b11",
   "metadata": {},
   "outputs": [
    {
     "data": {
      "text/plain": [
       "2016-01-01    1.0\n",
       "2016-01-02    3.0\n",
       "2016-01-03    5.0\n",
       "2016-01-04    NaN\n",
       "2016-01-05    6.0\n",
       "2016-01-06    8.0\n",
       "Freq: D, dtype: float64"
      ]
     },
     "execution_count": 38,
     "metadata": {},
     "output_type": "execute_result"
    }
   ],
   "source": [
    "s = pd.Series(l, index=d)\n",
    "s"
   ]
  },
  {
   "cell_type": "code",
   "execution_count": 39,
   "id": "97b997d1-057c-4318-8200-9c560d6eaed6",
   "metadata": {},
   "outputs": [
    {
     "data": {
      "text/plain": [
       "2016-01-03    5.0\n",
       "2016-01-05    6.0\n",
       "2016-01-06    8.0\n",
       "dtype: float64"
      ]
     },
     "execution_count": 39,
     "metadata": {},
     "output_type": "execute_result"
    }
   ],
   "source": [
    "s[s > 3]"
   ]
  },
  {
   "cell_type": "code",
   "execution_count": 40,
   "id": "b5eb535e-633c-4731-bf60-5780c1defdc7",
   "metadata": {},
   "outputs": [
    {
     "data": {
      "text/plain": [
       "2016-01-01    False\n",
       "2016-01-02    False\n",
       "2016-01-03     True\n",
       "2016-01-04    False\n",
       "2016-01-05     True\n",
       "2016-01-06     True\n",
       "Freq: D, dtype: bool"
      ]
     },
     "execution_count": 40,
     "metadata": {},
     "output_type": "execute_result"
    }
   ],
   "source": [
    "s > 3"
   ]
  },
  {
   "cell_type": "code",
   "execution_count": 41,
   "id": "5dc8aafa-7ecc-460b-af18-cfe12d3a6c5c",
   "metadata": {},
   "outputs": [
    {
     "data": {
      "text/plain": [
       "2016-01-01    NaN\n",
       "2016-01-02    2.0\n",
       "2016-01-03    2.0\n",
       "2016-01-04    NaN\n",
       "2016-01-05    NaN\n",
       "2016-01-06    2.0\n",
       "Freq: D, dtype: float64"
      ]
     },
     "execution_count": 41,
     "metadata": {},
     "output_type": "execute_result"
    }
   ],
   "source": [
    "s.diff()"
   ]
  },
  {
   "cell_type": "code",
   "execution_count": 42,
   "id": "8f950dd7-4f25-4fe9-8803-6098c8d11c49",
   "metadata": {},
   "outputs": [
    {
     "data": {
      "text/plain": [
       "2016-01-02    2.0\n",
       "2016-01-03    2.0\n",
       "2016-01-06    2.0\n",
       "dtype: float64"
      ]
     },
     "execution_count": 42,
     "metadata": {},
     "output_type": "execute_result"
    }
   ],
   "source": [
    "s.diff().dropna()"
   ]
  },
  {
   "cell_type": "code",
   "execution_count": 43,
   "id": "0aedbc5c-e6c4-404b-a9e5-96ab46058769",
   "metadata": {},
   "outputs": [
    {
     "data": {
      "text/plain": [
       "2016-01-01    1.0\n",
       "2016-01-02    1.0\n",
       "2016-01-03    1.0\n",
       "2016-01-04    NaN\n",
       "2016-01-05    1.0\n",
       "2016-01-06    1.0\n",
       "Freq: D, dtype: float64"
      ]
     },
     "execution_count": 43,
     "metadata": {},
     "output_type": "execute_result"
    }
   ],
   "source": [
    "s.cummin()"
   ]
  },
  {
   "cell_type": "code",
   "execution_count": 44,
   "id": "d136d26c-316b-45a2-b26c-993828e18cbc",
   "metadata": {},
   "outputs": [
    {
     "data": {
      "text/plain": [
       "2016-01-01    1.0\n",
       "2016-01-02    3.0\n",
       "2016-01-03    5.0\n",
       "2016-01-04    NaN\n",
       "2016-01-05    6.0\n",
       "2016-01-06    8.0\n",
       "Freq: D, dtype: float64"
      ]
     },
     "execution_count": 44,
     "metadata": {},
     "output_type": "execute_result"
    }
   ],
   "source": [
    "s.cummax()"
   ]
  },
  {
   "cell_type": "code",
   "execution_count": 45,
   "id": "cfa89511-5ed4-4fe4-9685-1a238a6ed46d",
   "metadata": {},
   "outputs": [
    {
     "data": {
      "text/plain": [
       "2016-01-01     1.0\n",
       "2016-01-02     4.0\n",
       "2016-01-03     9.0\n",
       "2016-01-04     NaN\n",
       "2016-01-05    15.0\n",
       "2016-01-06    23.0\n",
       "Freq: D, dtype: float64"
      ]
     },
     "execution_count": 45,
     "metadata": {},
     "output_type": "execute_result"
    }
   ],
   "source": [
    "s.cumsum()"
   ]
  },
  {
   "cell_type": "code",
   "execution_count": 47,
   "id": "dbc1cb6d-c68f-4409-892a-940364471eb7",
   "metadata": {},
   "outputs": [
    {
     "data": {
      "text/plain": [
       "2016-01-01    1.00\n",
       "2016-01-02    2.00\n",
       "2016-01-03    3.00\n",
       "2016-01-04    3.00\n",
       "2016-01-05    3.75\n",
       "2016-01-06    4.60\n",
       "Freq: D, dtype: float64"
      ]
     },
     "execution_count": 47,
     "metadata": {},
     "output_type": "execute_result"
    }
   ],
   "source": [
    "s.expanding().apply(np.mean)"
   ]
  },
  {
   "cell_type": "code",
   "execution_count": 48,
   "id": "dcdc9104-17cb-4f26-be64-c593b1c2e7a7",
   "metadata": {},
   "outputs": [
    {
     "data": {
      "text/plain": [
       "2016-01-01    1.0\n",
       "2016-01-02    2.0\n",
       "2016-01-03    3.0\n",
       "2016-01-04    NaN\n",
       "2016-01-05    NaN\n",
       "2016-01-06    NaN\n",
       "Freq: D, dtype: float64"
      ]
     },
     "execution_count": 48,
     "metadata": {},
     "output_type": "execute_result"
    }
   ],
   "source": [
    "s.expanding().apply(np.median)"
   ]
  },
  {
   "cell_type": "code",
   "execution_count": 49,
   "id": "9ff96cdb-3c86-4776-a95f-cee9028c95e3",
   "metadata": {},
   "outputs": [
    {
     "name": "stdout",
     "output_type": "stream",
     "text": [
      "0   NaN\n",
      "1   NaN\n",
      "2   NaN\n",
      "3   NaN\n",
      "4   NaN\n",
      "5   NaN\n",
      "dtype: float64\n",
      "Series([], dtype: float64)\n"
     ]
    }
   ],
   "source": [
    "s = pd.Series([1, 2, 3, 4, 5, 6])\n",
    "t = s[2:]+s[:2]\n",
    "print(t)\n",
    "print(t.dropna())\n"
   ]
  },
  {
   "cell_type": "code",
   "execution_count": 50,
   "id": "12251229-2268-4019-a65d-c898bfb09edc",
   "metadata": {},
   "outputs": [
    {
     "name": "stdout",
     "output_type": "stream",
     "text": [
      "0    NaN\n",
      "1    NaN\n",
      "2    6.0\n",
      "3    NaN\n",
      "4    NaN\n",
      "5    NaN\n",
      "dtype: float64\n",
      "2    6.0\n",
      "dtype: float64\n"
     ]
    }
   ],
   "source": [
    "s = pd.Series([1, 2, 3, 4, 5, 6])\n",
    "t = s[2:]+s[:3]\n",
    "print(t)\n",
    "print(t.dropna())"
   ]
  },
  {
   "cell_type": "code",
   "execution_count": null,
   "id": "58223899-b5fa-4e11-ba6f-7dd21258d6c5",
   "metadata": {},
   "outputs": [],
   "source": [
    "Посчитайте кумулятивное среднее квадратов разностей соседних элементов набора s.\n",
    "От них можно избавиться при помощи метода dropna."
   ]
  },
  {
   "cell_type": "code",
   "execution_count": 57,
   "id": "e69e5921-208d-4d81-8578-3f55d9d7bd49",
   "metadata": {},
   "outputs": [
    {
     "name": "stdout",
     "output_type": "stream",
     "text": [
      "0    NaN\n",
      "1    1.0\n",
      "2    7.0\n",
      "3   -5.0\n",
      "4    1.0\n",
      "5    2.0\n",
      "dtype: float64\n",
      "0     NaN\n",
      "1     1.0\n",
      "2    49.0\n",
      "3    25.0\n",
      "4     1.0\n",
      "5     4.0\n",
      "dtype: float64\n"
     ]
    },
    {
     "data": {
      "text/plain": [
       "0     NaN\n",
       "1     1.0\n",
       "2    25.0\n",
       "3    25.0\n",
       "4    19.0\n",
       "5    16.0\n",
       "dtype: float64"
      ]
     },
     "execution_count": 57,
     "metadata": {},
     "output_type": "execute_result"
    }
   ],
   "source": [
    "s5 = pd.Series([1, 2, 9, 4, 5, 7])\n",
    "s6 = s5.diff()\n",
    "print(s6)\n",
    "s_m = (s6 ** 2)\n",
    "print(s_m)\n",
    "s_m.expanding().apply(np.mean)"
   ]
  },
  {
   "cell_type": "code",
   "execution_count": null,
   "id": "4d529b53-48cf-4e96-848e-97d9d770b28f",
   "metadata": {},
   "outputs": [],
   "source": [
    "s5.diff().dropna().expanding().apply(lambda x: np.mean(x**2))"
   ]
  }
 ],
 "metadata": {
  "kernelspec": {
   "display_name": "Python 3 (ipykernel)",
   "language": "python",
   "name": "python3"
  },
  "language_info": {
   "codemirror_mode": {
    "name": "ipython",
    "version": 3
   },
   "file_extension": ".py",
   "mimetype": "text/x-python",
   "name": "python",
   "nbconvert_exporter": "python",
   "pygments_lexer": "ipython3",
   "version": "3.12.5"
  }
 },
 "nbformat": 4,
 "nbformat_minor": 5
}
