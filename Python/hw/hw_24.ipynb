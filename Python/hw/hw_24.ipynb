{
 "cells": [
  {
   "cell_type": "code",
   "execution_count": null,
   "id": "8eddc5c9-65e0-4527-ab91-c2dc11f8b83b",
   "metadata": {},
   "outputs": [],
   "source": [
    "# 1. Напишите генератор, который будет принимать на вход числа и возвращать их сумму. \n",
    "# Генератор должен использовать инструкцию yield для возврата текущей суммы и должен продолжать принимать новые числа для добавления\n",
    "# к сумме.Если генератор получает на вход число 0, он должен прекращать работу и вернуть окончательную сумму. \n",
    "# Напишите программу, которая будет использовать этот генератор для пошагового расчета суммы чисел, вводимых пользователем."
   ]
  },
  {
   "cell_type": "code",
   "execution_count": 28,
   "id": "6e8571e8-d90c-46c4-87d4-7d78ca2b30bf",
   "metadata": {},
   "outputs": [
    {
     "name": "stdin",
     "output_type": "stream",
     "text": [
      "Input number:  1\n"
     ]
    },
    {
     "name": "stdout",
     "output_type": "stream",
     "text": [
      "Summa:1\n"
     ]
    },
    {
     "name": "stdin",
     "output_type": "stream",
     "text": [
      "Input number:  2\n"
     ]
    },
    {
     "name": "stdout",
     "output_type": "stream",
     "text": [
      "Summa:3\n"
     ]
    },
    {
     "name": "stdin",
     "output_type": "stream",
     "text": [
      "Input number:  3\n"
     ]
    },
    {
     "name": "stdout",
     "output_type": "stream",
     "text": [
      "Summa:6\n"
     ]
    },
    {
     "name": "stdin",
     "output_type": "stream",
     "text": [
      "Input number:  4\n"
     ]
    },
    {
     "name": "stdout",
     "output_type": "stream",
     "text": [
      "Summa:10\n"
     ]
    },
    {
     "name": "stdin",
     "output_type": "stream",
     "text": [
      "Input number:  0\n"
     ]
    },
    {
     "name": "stdout",
     "output_type": "stream",
     "text": [
      "Summa:10\n"
     ]
    }
   ],
   "source": [
    "def gen_sum():\n",
    "    total = 0\n",
    "    while True:\n",
    "        number = yield\n",
    "        if number:\n",
    "            total += number\n",
    "            yield total\n",
    "        else:\n",
    "            yield total\n",
    "\n",
    "f = gen_sum()\n",
    "next(f)\n",
    "\n",
    "while True:\n",
    "    num = int(input('Input number: '))\n",
    "    summa = f.send(num)\n",
    "    print(f'Summa:{summa}')\n",
    "       \n",
    "    if num == 0:\n",
    "        break\n",
    "    next(f)\n"
   ]
  },
  {
   "cell_type": "code",
   "execution_count": null,
   "id": "835e40a3-a60b-4525-ac71-55fac0aca377",
   "metadata": {},
   "outputs": [],
   "source": [
    "# 2. Напишите генератор, который будет генерировать арифметическую прогрессию"
   ]
  },
  {
   "cell_type": "code",
   "execution_count": 20,
   "id": "bd34fa2d-4c06-4522-8c34-535b23abb6c7",
   "metadata": {},
   "outputs": [
    {
     "name": "stdin",
     "output_type": "stream",
     "text": [
      "Input the first member:  2\n",
      "Input step:  3\n",
      "Input count of members:  5\n"
     ]
    },
    {
     "name": "stdout",
     "output_type": "stream",
     "text": [
      "Arithmetic progression: [2, 5, 8, 11, 14]\n"
     ]
    }
   ],
   "source": [
    "def gen_ariphm():\n",
    "    while True:\n",
    "        params = yield\n",
    "        if params:\n",
    "            start, d, n = params  \n",
    "            for i in range(n):\n",
    "                yield start + i * d  \n",
    "            return  \n",
    "\n",
    "\n",
    "f = gen_ariphm()\n",
    "next(f)  \n",
    "\n",
    "\n",
    "first_mem = int(input('Input the first member: '))\n",
    "step = int(input('Input step: '))\n",
    "cnt_mem = int(input('Input count of members: '))\n",
    "\n",
    "\n",
    "f.send((first_mem, step, cnt_mem))\n",
    "\n",
    "\n",
    "progression = []\n",
    "progression.append(first_mem)\n",
    "\n",
    "\n",
    "for _ in range(cnt_mem):\n",
    "    try:\n",
    "        an = next(f)  \n",
    "        progression.append(an)\n",
    "    except StopIteration:\n",
    "        break  \n",
    "\n",
    "# Выводим прогрессию\n",
    "print(f'Arithmetic progression: {progression}')"
   ]
  },
  {
   "cell_type": "code",
   "execution_count": null,
   "id": "8db3f315-1456-4004-91b6-65461714e5d1",
   "metadata": {},
   "outputs": [],
   "source": []
  }
 ],
 "metadata": {
  "kernelspec": {
   "display_name": "Python 3 (ipykernel)",
   "language": "python",
   "name": "python3"
  },
  "language_info": {
   "codemirror_mode": {
    "name": "ipython",
    "version": 3
   },
   "file_extension": ".py",
   "mimetype": "text/x-python",
   "name": "python",
   "nbconvert_exporter": "python",
   "pygments_lexer": "ipython3",
   "version": "3.12.5"
  }
 },
 "nbformat": 4,
 "nbformat_minor": 5
}
