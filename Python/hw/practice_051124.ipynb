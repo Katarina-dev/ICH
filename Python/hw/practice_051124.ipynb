{
 "cells": [
  {
   "cell_type": "code",
   "execution_count": null,
   "id": "aad7bf8a-db63-4882-9ea4-7156897a6d8b",
   "metadata": {},
   "outputs": [],
   "source": [
    "1. Написать функцию validateCustomers(customer), которая принимает на входе\n",
    "список кортежей:\n",
    "● Имя\n",
    "● Фамилия\n",
    "● Дата рождения\n",
    "● Номер банковского счета (iban)\n",
    "Функция возвращает мапу, где ключом является строка имя+фамилия, а\n",
    "значением - список сообщений об ошибках, возникших при валидации\n",
    "пользователя по следующим правилам:\n",
    "● Имя и фамилия не должны быть пустыми.\n",
    "● Возраст валиден, если он больше 18 лет.\n",
    "● Iban должен соответствовать стандарту длины (начинаться с кода\n",
    "страны и содержать правильное количество символов)\n",
    "Решение должно использовать исключения и итераторы.\n"
   ]
  },
  {
   "cell_type": "code",
   "execution_count": 3,
   "id": "7a3796a7-9c35-4603-93d5-f70cfb97f1c3",
   "metadata": {},
   "outputs": [
    {
     "ename": "IndentationError",
     "evalue": "unexpected indent (2656982153.py, line 18)",
     "output_type": "error",
     "traceback": [
      "\u001b[1;36m  Cell \u001b[1;32mIn[3], line 18\u001b[1;36m\u001b[0m\n\u001b[1;33m    for customer in customers:\u001b[0m\n\u001b[1;37m    ^\u001b[0m\n\u001b[1;31mIndentationError\u001b[0m\u001b[1;31m:\u001b[0m unexpected indent\n"
     ]
    }
   ],
   "source": [
    "from collections import namedtuple\n",
    "from collections import defaultdict\n",
    "from datetime import datetime\n",
    "\n",
    "tmp = datetime(date_of_birth)\n",
    "\n",
    "customer = namedtuple('customer', ['name', 'last_name', 'date_of_birth', 'iban'])\n",
    "\n",
    "customer = [\n",
    "    customer(name='Alice', last_name='Loolla', date_of_birth='12-02-1998', iban = 'FR1420041010457800013M02606'),\n",
    "    customer(name='Bob', last_name='Wooll', date_of_birth='11-02-2010', iban = 'FR1420041010050500013M02606'),\n",
    "    customer(name='Carol', last_name='Asska', date_of_birth='13-02-2011', iban = 'FK1420041010050500333M02606')]\n",
    "\n",
    "def validateCustomers(customers):\n",
    "    errors = defaultdict(list)\n",
    "    iban_code = ['GB', 'FR']\n",
    "    \n",
    "        for customer in customers:\n",
    "            customer.full_name = customer.name + customer.last_name\n",
    "            if not customer.name:\n",
    "                errors[full_name].append('Имя не должно быть пустым')\n",
    "            if not customer.last_name:\n",
    "                errors[full_name].append('Фамилия не должна быть пустым')\n",
    "            \n",
    "        try:\n",
    "            birthdate = datetime.strptime(customer.date_of_birth, \"%d-%m-%Y\") \n",
    "            age = (datetime.now() - birthdate).days // 365\n",
    "\n",
    "            if age <= 18:\n",
    "                errors[full_name].append('Возраст не валидный. Должен быть больше 18') \n",
    "                \n",
    "        except ValueError:\n",
    "            errors[full_name].append('Возраст не валидный. Должен быть больше 18')\n",
    "\n",
    "\n",
    "        code_c = customer.iban[:2]\n",
    "        if code_c not in iban_code:\n",
    "            errors[full_name].append('Код страны неверный!')\n",
    "        elif len(iban) != 27:\n",
    "            errors[full_name].append('Длина iban неверная!')\n",
    "\n",
    "    yield errors\n",
    "\n",
    "val_error = validateCustomers(customer)\n",
    "    for full_name, errors in val_error:\n",
    "        print(f'{full_name}: {errors}')\n"
   ]
  },
  {
   "cell_type": "code",
   "execution_count": null,
   "id": "375fda16-9bd2-4ec6-a0b8-7d124cddb73b",
   "metadata": {},
   "outputs": [],
   "source": []
  }
 ],
 "metadata": {
  "kernelspec": {
   "display_name": "Python 3 (ipykernel)",
   "language": "python",
   "name": "python3"
  },
  "language_info": {
   "codemirror_mode": {
    "name": "ipython",
    "version": 3
   },
   "file_extension": ".py",
   "mimetype": "text/x-python",
   "name": "python",
   "nbconvert_exporter": "python",
   "pygments_lexer": "ipython3",
   "version": "3.12.5"
  }
 },
 "nbformat": 4,
 "nbformat_minor": 5
}
