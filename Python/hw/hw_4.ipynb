{
 "cells": [
  {
   "cell_type": "code",
   "execution_count": 5,
   "id": "6e2c88ae-b61e-426f-a06c-78ac901a2ce0",
   "metadata": {},
   "outputs": [
    {
     "name": "stdin",
     "output_type": "stream",
     "text": [
      "Введите TRUE или FALSE \n",
      "Введите TRUE или FALSE \n"
     ]
    },
    {
     "name": "stdout",
     "output_type": "stream",
     "text": [
      "False\n"
     ]
    }
   ],
   "source": [
    "#  Напишите программу, которая запрашивает у пользователя два логических значения (True или False) и выводит результаты следующих логических операций:\n",
    "\n",
    "# Логическое И (and) между двумя значениями.\n",
    "# Для ввода значения False использовала Enter\n",
    "\n",
    "a = bool(input(\"Введите TRUE или FALSE\"))\n",
    "b = bool(input(\"Введите TRUE или FALSE\"))\n",
    "print(a and b)"
   ]
  },
  {
   "cell_type": "code",
   "execution_count": 1,
   "id": "c1626071-a284-4b53-bfb9-6deda5faf2ba",
   "metadata": {},
   "outputs": [
    {
     "name": "stdin",
     "output_type": "stream",
     "text": [
      "Введите TRUE или FALSE \n",
      "Введите TRUE или FALSE \n"
     ]
    },
    {
     "name": "stdout",
     "output_type": "stream",
     "text": [
      "False\n"
     ]
    }
   ],
   "source": [
    "# Логическое ИЛИ (or) между двумя значениями.\n",
    "# (для ввода значения False использовала Enter)\n",
    "\n",
    "a = bool(input(\"Введите TRUE или FALSE\"))\n",
    "b = bool(input(\"Введите TRUE или FALSE\"))\n",
    "print(a or b)"
   ]
  },
  {
   "cell_type": "code",
   "execution_count": 3,
   "id": "43779b92-c486-48f8-98d1-81608436288d",
   "metadata": {},
   "outputs": [
    {
     "name": "stdin",
     "output_type": "stream",
     "text": [
      "Введите TRUE или FALSE erte\n",
      "Введите TRUE или FALSE \n"
     ]
    },
    {
     "name": "stdout",
     "output_type": "stream",
     "text": [
      "False\n",
      "True\n"
     ]
    }
   ],
   "source": [
    "# Логическое НЕ (not) для каждого значения.\n",
    "# (для ввода значения False использовала Enter)\n",
    "\n",
    "a = bool(input(\"Введите TRUE или FALSE\"))\n",
    "b = bool(input(\"Введите TRUE или FALSE\"))\n",
    "print(not a)\n",
    "print(not b)"
   ]
  },
  {
   "cell_type": "code",
   "execution_count": 6,
   "id": "375c0dcf-b48f-40b9-922b-17bdf9656870",
   "metadata": {},
   "outputs": [
    {
     "name": "stdin",
     "output_type": "stream",
     "text": [
      "Введите TRUE или FALSE sdf\n",
      "Введите TRUE или FALSE sdfs\n"
     ]
    },
    {
     "name": "stdout",
     "output_type": "stream",
     "text": [
      "True\n"
     ]
    }
   ],
   "source": [
    "# Результат сравнения двух значений на равенство.\n",
    "# (для ввода значения False использовала Enter)\n",
    "\n",
    "a = bool(input(\"Введите TRUE или FALSE\"))\n",
    "b = bool(input(\"Введите TRUE или FALSE\"))\n",
    "print(a == b)"
   ]
  },
  {
   "cell_type": "code",
   "execution_count": 9,
   "id": "c451c199-2daa-424e-88de-75e3ce8a1778",
   "metadata": {},
   "outputs": [
    {
     "name": "stdin",
     "output_type": "stream",
     "text": [
      "Введите TRUE или FALSE fdg\n",
      "Введите TRUE или FALSE \n"
     ]
    },
    {
     "name": "stdout",
     "output_type": "stream",
     "text": [
      "True\n"
     ]
    }
   ],
   "source": [
    "# Результат сравнения двух значений на неравенство.\n",
    "# (для ввода значения False использовала Enter)\n",
    "\n",
    "a = bool(input(\"Введите TRUE или FALSE\"))\n",
    "b = bool(input(\"Введите TRUE или FALSE\"))\n",
    "print(a != b)"
   ]
  }
 ],
 "metadata": {
  "kernelspec": {
   "display_name": "Python 3 (ipykernel)",
   "language": "python",
   "name": "python3"
  },
  "language_info": {
   "codemirror_mode": {
    "name": "ipython",
    "version": 3
   },
   "file_extension": ".py",
   "mimetype": "text/x-python",
   "name": "python",
   "nbconvert_exporter": "python",
   "pygments_lexer": "ipython3",
   "version": "3.12.5"
  }
 },
 "nbformat": 4,
 "nbformat_minor": 5
}
