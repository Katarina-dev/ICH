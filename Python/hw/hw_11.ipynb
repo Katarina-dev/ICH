{
 "cells": [
  {
   "cell_type": "code",
   "execution_count": null,
   "id": "34ce8048-18a5-4abd-8a1c-d37708203ae6",
   "metadata": {},
   "outputs": [],
   "source": [
    "1. Напишите программу, которая запрашивает у пользователя его имя, возраст и место проживания, а затем выводит их в следующем формате:\n",
    "\"Привет, меня зовут {0}. Мне {1} лет. Я живу в {2}.\"\n",
    "Вместо {0}, {1} и {2} подставьте соответствующие значения. Используйте метод format() для форматирования строки. \n",
    "Потом попробуйте использовать f-строку. Выведите результат на экран с помощью команды print."
   ]
  },
  {
   "cell_type": "code",
   "execution_count": 6,
   "id": "49b4f715-1827-44d3-9fb1-c7432697a783",
   "metadata": {},
   "outputs": [
    {
     "name": "stdin",
     "output_type": "stream",
     "text": [
      "Введите ваше имя:  Саша\n",
      "Введите ваш возраст:  25\n",
      "Введите ваше место проживания:  Рим\n"
     ]
    },
    {
     "name": "stdout",
     "output_type": "stream",
     "text": [
      "Привет, меня зовут Саша. Мне 25 лет. Я живу в Рим\n"
     ]
    }
   ],
   "source": [
    "name = input('Введите ваше имя: ')\n",
    "age = input('Введите ваш возраст: ')\n",
    "place = input('Введите ваше место проживания: ')\n",
    "\n",
    "text = 'Привет, меня зовут {0}. Мне {1} лет. Я живу в {2}'.format(name, age, place)\n",
    "print(text)"
   ]
  },
  {
   "cell_type": "code",
   "execution_count": 7,
   "id": "75e0beed-312d-4e62-a741-1aac1be60343",
   "metadata": {},
   "outputs": [
    {
     "name": "stdout",
     "output_type": "stream",
     "text": [
      "Привет! Меня зовут Саша. Мне 25 лет. Я живу в Рим\n"
     ]
    }
   ],
   "source": [
    "print(f'Привет! Меня зовут {name}. Мне {age} лет. Я живу в {place}')"
   ]
  },
  {
   "cell_type": "code",
   "execution_count": null,
   "id": "f58e4e05-1019-4b35-95ce-9c1073a8830d",
   "metadata": {},
   "outputs": [],
   "source": [
    "2. Напишите программу, которая запрашивает у пользователя два числа и выводит их сумму и произведение в следующем формате:\n",
    "\"Сумма: {sum:.2f}, Произведение: {product:.2f}\"\n",
    "Вместо {sum:.2f} и {product:.2f} подставьте соответствующие значения, округленные до двух десятичных знаков. \n",
    "Используйте f-строки с использованием форматных спецификаторов для форматирования чисел. Выведите результат на экран с помощью команды print."
   ]
  },
  {
   "cell_type": "code",
   "execution_count": 14,
   "id": "969a1d1e-ed2d-4084-9446-b20db2df72e0",
   "metadata": {},
   "outputs": [
    {
     "name": "stdin",
     "output_type": "stream",
     "text": [
      "Введите первое число:  4.56\n",
      "Введите второе число:  23.78\n"
     ]
    },
    {
     "name": "stdout",
     "output_type": "stream",
     "text": [
      "Сумма: 28.34 /n Произведение: 108.44\n"
     ]
    }
   ],
   "source": [
    "n1 = float(input('Введите первое число: '))\n",
    "n2 = float(input('Введите второе число: '))\n",
    "\n",
    "summ = n1 + n2\n",
    "product = n1 * n2\n",
    "\n",
    "text = f'Сумма: {summ:.2f} /n Произведение: {product:.2f}'\n",
    "print(text)"
   ]
  },
  {
   "cell_type": "code",
   "execution_count": null,
   "id": "13c1eca1-3e70-47a8-b552-b7e1d73bd797",
   "metadata": {},
   "outputs": [],
   "source": []
  }
 ],
 "metadata": {
  "kernelspec": {
   "display_name": "Python 3 (ipykernel)",
   "language": "python",
   "name": "python3"
  },
  "language_info": {
   "codemirror_mode": {
    "name": "ipython",
    "version": 3
   },
   "file_extension": ".py",
   "mimetype": "text/x-python",
   "name": "python",
   "nbconvert_exporter": "python",
   "pygments_lexer": "ipython3",
   "version": "3.12.5"
  }
 },
 "nbformat": 4,
 "nbformat_minor": 5
}
