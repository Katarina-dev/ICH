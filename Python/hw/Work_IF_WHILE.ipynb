{
 "cells": [
  {
   "cell_type": "code",
   "execution_count": null,
   "id": "991894a8-9f0b-4063-92c1-917590a4c493",
   "metadata": {},
   "outputs": [],
   "source": [
    "1 Напишите программу, которая проверяет, является ли введенное число положительным."
   ]
  },
  {
   "cell_type": "code",
   "execution_count": 4,
   "id": "57e9113d-c538-44e4-a74d-0b59d353224e",
   "metadata": {},
   "outputs": [
    {
     "name": "stdin",
     "output_type": "stream",
     "text": [
      " -9\n"
     ]
    },
    {
     "name": "stdout",
     "output_type": "stream",
     "text": [
      "Negative\n"
     ]
    }
   ],
   "source": [
    "n = int(input())\n",
    "if n >= 0:\n",
    "    print(\"Positive\")\n",
    "else:\n",
    "    print(\"Negative\")"
   ]
  },
  {
   "cell_type": "code",
   "execution_count": null,
   "id": "35598521-6d47-4df7-8304-67a3411dbbcd",
   "metadata": {},
   "outputs": [],
   "source": [
    "2 Напишите программу, которая определяет, является ли число четным."
   ]
  },
  {
   "cell_type": "code",
   "execution_count": 8,
   "id": "9f4fcfb4-6c1b-4f5b-84f8-96a8e9a0a4fc",
   "metadata": {},
   "outputs": [
    {
     "name": "stdin",
     "output_type": "stream",
     "text": [
      " 1\n"
     ]
    },
    {
     "name": "stdout",
     "output_type": "stream",
     "text": [
      "Odd\n"
     ]
    }
   ],
   "source": [
    "n = int(input())\n",
    "if not n % 2:\n",
    "    print('Even')\n",
    "else:\n",
    "    print('Odd')"
   ]
  },
  {
   "cell_type": "code",
   "execution_count": null,
   "id": "c155fae1-69c2-43d0-9094-087affe8e179",
   "metadata": {},
   "outputs": [],
   "source": [
    "1 Напишите программу, которая выводит числа от 1 до 10."
   ]
  },
  {
   "cell_type": "code",
   "execution_count": 9,
   "id": "eb90344c-d011-4db8-9f6f-5f81506e3ae9",
   "metadata": {},
   "outputs": [
    {
     "name": "stdout",
     "output_type": "stream",
     "text": [
      "1\n",
      "2\n",
      "3\n",
      "4\n",
      "5\n",
      "6\n",
      "7\n",
      "8\n",
      "9\n",
      "10\n"
     ]
    }
   ],
   "source": [
    "i = 1\n",
    "while i <= 10:\n",
    "    print(i)\n",
    "    i += 1"
   ]
  },
  {
   "cell_type": "code",
   "execution_count": null,
   "id": "bf85d7cb-0f7f-453e-ac4f-9175414d241c",
   "metadata": {},
   "outputs": [],
   "source": [
    "2 Напишите программу, которая выводит все четные числа от 1 до 20."
   ]
  },
  {
   "cell_type": "code",
   "execution_count": null,
   "id": "c38a9685-e924-4662-a91c-7149f435f47e",
   "metadata": {},
   "outputs": [
    {
     "name": "stdout",
     "output_type": "stream",
     "text": [
      "0\n"
     ]
    }
   ],
   "source": [
    "i = 1\n",
    "while i <= 20:\n",
    "    if not i % 2:\n",
    "        print(i)\n",
    "    i += 1"
   ]
  },
  {
   "cell_type": "code",
   "execution_count": null,
   "id": "b077cbde-257e-42e4-8f7a-2fce3334ef74",
   "metadata": {},
   "outputs": [],
   "source": [
    "3 Напишите программу, которая проверяет, больше ли число 100."
   ]
  },
  {
   "cell_type": "code",
   "execution_count": 7,
   "id": "08c8c7f9-d9b1-4fbd-add4-6868e600ebef",
   "metadata": {},
   "outputs": [
    {
     "name": "stdin",
     "output_type": "stream",
     "text": [
      " -899\n"
     ]
    },
    {
     "name": "stdout",
     "output_type": "stream",
     "text": [
      "Число -899 меньше, чем 100\n"
     ]
    }
   ],
   "source": [
    "n = int(input())\n",
    "if n > 100:\n",
    "    print(f'Число {n} больше, чем 100')\n",
    "elif n == 100:\n",
    "    print(f'Число {n} равно 100')\n",
    "else:\n",
    "    print(f'Число {n} меньше, чем 100')"
   ]
  },
  {
   "cell_type": "code",
   "execution_count": 5,
   "id": "3b79e19f-6afb-4436-a4e2-6f2e8f8c674c",
   "metadata": {},
   "outputs": [
    {
     "data": {
      "text/plain": [
       "4"
      ]
     },
     "execution_count": 5,
     "metadata": {},
     "output_type": "execute_result"
    }
   ],
   "source": [
    "4 Напишите программу, которая сравнивает два числа и выводит на экран большее."
   ]
  },
  {
   "cell_type": "code",
   "execution_count": 15,
   "id": "f1df4d30-36ab-48db-aeb5-8fa21715cf63",
   "metadata": {},
   "outputs": [
    {
     "name": "stdin",
     "output_type": "stream",
     "text": [
      " 55\n",
      " -55\n"
     ]
    },
    {
     "name": "stdout",
     "output_type": "stream",
     "text": [
      "Число 55 больше, чем -55\n"
     ]
    }
   ],
   "source": [
    "n1, n2 = int(input()), int(input())\n",
    "if n1 > n2:\n",
    "    print(f'Число {n1} больше, чем {n2}')\n",
    "elif n1 == n2:\n",
    "    print(f'Число {n1} равно числу {n2}')\n",
    "else:\n",
    "    print(f'Число {n1} меньше, чем {n2}')"
   ]
  },
  {
   "cell_type": "code",
   "execution_count": null,
   "id": "2d1280f2-b633-42d9-bf88-27ec60c41db5",
   "metadata": {},
   "outputs": [],
   "source": [
    "5 Напишите программу, которая проверяет, является ли введенное число отрицательным."
   ]
  },
  {
   "cell_type": "code",
   "execution_count": 18,
   "id": "0d0d8a1e-a3eb-448c-b639-aee4c79931a8",
   "metadata": {},
   "outputs": [
    {
     "name": "stdin",
     "output_type": "stream",
     "text": [
      " -7\n"
     ]
    },
    {
     "name": "stdout",
     "output_type": "stream",
     "text": [
      "Число -7 отрицательное\n"
     ]
    }
   ],
   "source": [
    "n = int(input())\n",
    "if n < 0:\n",
    "    print(f'Число {n} отрицательное')\n",
    "else:\n",
    "    print(f'Число {n} положительное')"
   ]
  },
  {
   "cell_type": "code",
   "execution_count": null,
   "id": "139162da-e7b8-403e-81a7-5eec62548318",
   "metadata": {},
   "outputs": [],
   "source": [
    "3 Напишите программу, которая суммирует все числа от 1 до 100."
   ]
  },
  {
   "cell_type": "code",
   "execution_count": 27,
   "id": "70353ff5-e405-42f3-b540-26632e989a70",
   "metadata": {},
   "outputs": [
    {
     "name": "stdout",
     "output_type": "stream",
     "text": [
      "5050\n"
     ]
    }
   ],
   "source": [
    "i = 1\n",
    "sum = 0\n",
    "\n",
    "while i <= 100:   \n",
    "    sum += i\n",
    "    i += 1\n",
    "print(sum)\n",
    "    "
   ]
  },
  {
   "cell_type": "code",
   "execution_count": null,
   "id": "5b4805db-67bf-499b-bdd8-2b40cd398c02",
   "metadata": {},
   "outputs": [],
   "source": []
  }
 ],
 "metadata": {
  "kernelspec": {
   "display_name": "Python 3 (ipykernel)",
   "language": "python",
   "name": "python3"
  },
  "language_info": {
   "codemirror_mode": {
    "name": "ipython",
    "version": 3
   },
   "file_extension": ".py",
   "mimetype": "text/x-python",
   "name": "python",
   "nbconvert_exporter": "python",
   "pygments_lexer": "ipython3",
   "version": "3.12.5"
  }
 },
 "nbformat": 4,
 "nbformat_minor": 5
}
