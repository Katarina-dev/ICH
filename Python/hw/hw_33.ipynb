{
 "cells": [
  {
   "cell_type": "code",
   "execution_count": 1,
   "id": "ae7ea358-9961-4fe4-a8e9-6a80d0f23182",
   "metadata": {},
   "outputs": [
    {
     "name": "stdout",
     "output_type": "stream",
     "text": [
      "John, Manager, Рога и копыта\n",
      "Alice, Developer, Рога и копыта\n",
      "John, Manager, XYZ\n",
      "Alice, Developer, XYZ\n"
     ]
    }
   ],
   "source": [
    "# 1. Реализуйте класс Employee, представляющий сотрудника компании.\n",
    "# Класс должен иметь статическое поле company с названием компании, а также методы:\n",
    "# set_company(cls, name): метод класса для изменения названия компании\n",
    "# __init__(self, name, position): конструктор, принимающий имя и должность сотрудника\n",
    "# get_info(self): метод, возвращающий информацию о сотруднике в виде строки (имя, должность, название компании)\n",
    "\n",
    "class Employee:\n",
    "\n",
    "    company = \"Рога и копыта\"\n",
    "\n",
    "    @classmethod\n",
    "    def set_company(cls, c_name):\n",
    "        cls.company = c_name\n",
    "\n",
    "    def __init__(self, name, position):\n",
    "        self.name = name\n",
    "        self.position = position\n",
    "\n",
    "    def get_info(self):\n",
    "        return f'{self.name}, {self.position}, {Employee.company}'\n",
    "\n",
    "    def __str__(self):\n",
    "        return self.get_info()\n",
    "\n",
    "\n",
    "\n",
    "employee1 = Employee('John', 'Manager')\n",
    "\n",
    "employee2 = Employee(\"Alice\", \"Developer\")\n",
    "\n",
    "print(employee1)\n",
    "print(employee2)\n",
    "\n",
    "Employee.set_company(\"XYZ\")\n",
    "\n",
    "print(employee1)\n",
    "print(employee2)"
   ]
  },
  {
   "cell_type": "code",
   "execution_count": 2,
   "id": "d6b3bc7b-dad7-43e9-aca7-e0c4968e3167",
   "metadata": {},
   "outputs": [
    {
     "name": "stdout",
     "output_type": "stream",
     "text": [
      "Площадь прямоугольника = 15\n",
      "Периметр прямоугольника = 16\n",
      "Площадь круга = 12.566370614359172\n",
      "Периметр круга = 12.566370614359172\n"
     ]
    }
   ],
   "source": [
    "# 2. Реализуйте абстрактный базовый класс Shape (фигура), а от него унаследуйте классы Rectangle (прямоугольник) и \n",
    "# Circle (круг). Класс Shape должен иметь абстрактный метод area, который должен быть реализован в каждом \n",
    "# дочернем классе. Классы Rectangle и Circle также должны иметь метод perimeter для расчета периметра. \n",
    "# Выведите площадь и периметр прямоугольника и круга на экран.\n",
    "\n",
    "from abc import ABC, abstractmethod\n",
    "import math\n",
    "\n",
    "\n",
    "class Shape(ABC):\n",
    "\n",
    "    @abstractmethod\n",
    "    def area(self):\n",
    "        pass\n",
    "\n",
    "\n",
    "class Rectangle(Shape):\n",
    "\n",
    "    def __init__(self, length, width):\n",
    "        self.length = length\n",
    "        self.width = width\n",
    "\n",
    "    def area(self):\n",
    "        return f'Площадь прямоугольника = {self.length * self.width}'\n",
    "\n",
    "    def perimeter(self):\n",
    "        return f'Периметр прямоугольника = {(self.length + self.width) * 2}'\n",
    "\n",
    "class Circle(Shape):\n",
    "\n",
    "    def __init__(self, radius):\n",
    "        self.radius = radius\n",
    "\n",
    "    def area(self):\n",
    "        return f'Площадь круга = {math.pi * math.pow(self.radius, 2)}'\n",
    "\n",
    "    def perimeter(self):\n",
    "        return f'Периметр круга = {2 * math.pi * self.radius}'\n",
    "\n",
    "rectangle = Rectangle(5, 3)\n",
    "circle = Circle(2)\n",
    "print(rectangle.area())\n",
    "print(rectangle.perimeter())\n",
    "print(circle.area())\n",
    "print(circle.perimeter())"
   ]
  },
  {
   "cell_type": "code",
   "execution_count": null,
   "id": "6dd37c2e-32ca-40b7-bde4-ea364c9267c2",
   "metadata": {},
   "outputs": [],
   "source": []
  }
 ],
 "metadata": {
  "kernelspec": {
   "display_name": "Python 3 (ipykernel)",
   "language": "python",
   "name": "python3"
  },
  "language_info": {
   "codemirror_mode": {
    "name": "ipython",
    "version": 3
   },
   "file_extension": ".py",
   "mimetype": "text/x-python",
   "name": "python",
   "nbconvert_exporter": "python",
   "pygments_lexer": "ipython3",
   "version": "3.12.5"
  }
 },
 "nbformat": 4,
 "nbformat_minor": 5
}
