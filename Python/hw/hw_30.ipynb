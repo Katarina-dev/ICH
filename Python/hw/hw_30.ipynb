{
 "cells": [
  {
   "cell_type": "code",
   "execution_count": null,
   "id": "92e50edd-8647-4a51-b131-c5c466061287",
   "metadata": {},
   "outputs": [],
   "source": [
    "# 1. Создайте класс Rectangle для представления прямоугольника.\n",
    "# Класс должен иметь атрибуты width (ширина) и height (высота) со значениями по умолчанию, а также методы calculate_area() для вычисления\n",
    "# площади прямоугольника и calculate_perimeter() для вычисления периметра прямоугольника.\n",
    "# Переопределить методы __str__, __repr__.\n",
    "# Затем создайте экземпляр класса Rectangle и выведите информацию о нем,    его площадь и периметр.\n",
    "\n",
    "class Rectangle:\n",
    "\n",
    "    def __init__(self, width=4, height=7):\n",
    "        self.width = width\n",
    "        self.height = height\n",
    "\n",
    "    def calculate_area(self):\n",
    "        return self.width * self.height\n",
    "\n",
    "    def calculate_perimeter(self):\n",
    "        return (self.width + self.height)*2\n",
    "\n",
    "\n",
    "    def __str__(self):\n",
    "        return f\"Rectangle: width={self.width}, height={self.height}, area={self.calculate_area()}, perimeter={self.calculate_perimeter()}\"\n",
    "\n",
    "    def __repr__(self):\n",
    "        return f\"Rectangle({self.width!r}, {self.height!r})\"\n",
    "\n",
    "\n",
    "my_rectangle = Rectangle()\n",
    "print(my_rectangle)\n",
    "print(repr(my_rectangle))"
   ]
  },
  {
   "cell_type": "code",
   "execution_count": null,
   "id": "709df6c7-378a-4075-b7f4-78042a38be91",
   "metadata": {},
   "outputs": [],
   "source": [
    "# 2. Создайте класс BankAccount для представления банковского счета. \n",
    "# Класс должен иметь атрибуты account_number (номер счета) и balance (баланс), а также методы deposit() для внесения денег \n",
    "# на счет и withdraw() для снятия денег со счета. Затем создайте экземпляр класса BankAccount, внесите на счет некоторую сумму и снимите часть денег. \n",
    "# Выведите оставшийся баланс. Не забудьте предусмотреть вариант, при котором при снятии баланс может стать меньше нуля. В этом случае уходить в минус\n",
    "# не будем, вместо чего будем возвращать сообщение \"Недостаточно средств на счете\".\n",
    "\n",
    "\n",
    "class BankAccount:\n",
    "     def __init__(self, account_number, balance = 0):\n",
    "         self.account_number = account_number\n",
    "         self.balance = balance\n",
    "\n",
    "     def deposit(self, amount):\n",
    "         if amount > 0:\n",
    "             self.balance += amount\n",
    "             print(f'You add {amount}. New balance: {self.balance}')\n",
    "         else:\n",
    "             print(\"Please deposit the required amount into the account\")\n",
    "\n",
    "     def withdraw(self, amount):\n",
    "         if amount > self.balance:\n",
    "             print(\"Insufficient funds\")\n",
    "         elif amount <=0:\n",
    "             print(\"Withdraw amount must be positive\")\n",
    "         else:\n",
    "             self.balance -= amount\n",
    "             print(f'Withdraw {amount}. New balance: {self.balance}')\n",
    "\n",
    "     def __str__(self):\n",
    "         return f'Your bank account {self.account_number}. Balance: {self.balance}'\n",
    "\n",
    "account = BankAccount(account_number=\"12345678\", balance=1000)\n",
    "account.deposit(500)\n",
    "account.withdraw(200)\n",
    "account.withdraw(2000)\n",
    "print(account)\n"
   ]
  }
 ],
 "metadata": {
  "kernelspec": {
   "display_name": "Python 3 (ipykernel)",
   "language": "python",
   "name": "python3"
  },
  "language_info": {
   "codemirror_mode": {
    "name": "ipython",
    "version": 3
   },
   "file_extension": ".py",
   "mimetype": "text/x-python",
   "name": "python",
   "nbconvert_exporter": "python",
   "pygments_lexer": "ipython3",
   "version": "3.12.5"
  }
 },
 "nbformat": 4,
 "nbformat_minor": 5
}
