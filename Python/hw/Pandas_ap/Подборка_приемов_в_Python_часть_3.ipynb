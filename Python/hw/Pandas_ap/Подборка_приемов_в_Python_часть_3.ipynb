{
  "nbformat": 4,
  "nbformat_minor": 0,
  "metadata": {
    "colab": {
      "provenance": []
    },
    "kernelspec": {
      "name": "python3",
      "display_name": "Python 3"
    },
    "language_info": {
      "name": "python"
    }
  },
  "cells": [
    {
      "cell_type": "markdown",
      "source": [
        "В настоящем цикле статей будут разобраны приемы промышленного использования функциональности Python в коде\n",
        "\n",
        "Далее представлена третья часть из цикла"
      ],
      "metadata": {
        "id": "t8BmBNbsf9Pp"
      }
    },
    {
      "cell_type": "markdown",
      "source": [
        "# 1. Списковые включения, охватывающие несколько строк"
      ],
      "metadata": {
        "id": "--0mW_JNgmPu"
      }
    },
    {
      "cell_type": "markdown",
      "source": [
        "**Обычные списковые включения** в Python — это компактный способ создания списков через синтаксис\n",
        "* `ls = [выражение for переменная in итерируемый_объект]`.\n",
        "\n",
        "Пример:"
      ],
      "metadata": {
        "id": "vguZoaZfg1Mx"
      }
    },
    {
      "cell_type": "code",
      "execution_count": null,
      "metadata": {
        "id": "TgIqABZAf1Qi",
        "colab": {
          "base_uri": "https://localhost:8080/"
        },
        "outputId": "d9d0ee8a-2f4b-4194-becb-2438daca63ee"
      },
      "outputs": [
        {
          "output_type": "execute_result",
          "data": {
            "text/plain": [
              "[0, 1, 4, 9, 16]"
            ]
          },
          "metadata": {},
          "execution_count": 1
        }
      ],
      "source": [
        "ls = [i**2 for i in range(5)]\n",
        "ls"
      ]
    },
    {
      "cell_type": "markdown",
      "source": [
        "**Как это работает:**  \n",
        "1. **Итерируемый объект** (`range(5)`) генерирует значения от 0 до 4.  \n",
        "2. **Переменная** (`i`) принимает каждое значение на каждой итерации.  \n",
        "3. **Выражение** (`i**2`) вычисляется для каждого значения и добавляется в список."
      ],
      "metadata": {
        "id": "t-7mowucowT1"
      }
    },
    {
      "cell_type": "markdown",
      "source": [
        "В коде, используемом в производственной среде, чаще используют списковые включения, которые охватывают несколько строк и позволяют создавать списки с использованием многострочного синтаксиса для улучшения читаемости. Это особенно полезно при работе с сложными условиями или несколькими циклами.\n",
        "\n",
        "Также обычно не используется стандартное имя переменной i — коректнее всего использовать более описательное имя.\n",
        "\n",
        "Давайте перепишем приведённый выше код:"
      ],
      "metadata": {
        "id": "v-3ckSmznkrz"
      }
    },
    {
      "cell_type": "code",
      "source": [
        "squared_numbers = [\n",
        "    number ** 2\n",
        "    for number in range(5)\n",
        "]\n",
        "\n",
        "squared_numbers"
      ],
      "metadata": {
        "id": "sIW99PZhg_ZO",
        "colab": {
          "base_uri": "https://localhost:8080/"
        },
        "outputId": "1cee9d60-0fd8-41df-8b94-9e3770c878b0"
      },
      "execution_count": null,
      "outputs": [
        {
          "output_type": "execute_result",
          "data": {
            "text/plain": [
              "[0, 1, 4, 9, 16]"
            ]
          },
          "metadata": {},
          "execution_count": 2
        }
      ]
    },
    {
      "cell_type": "markdown",
      "source": [
        "Рассмотрим и другие примеры многострочных списковых включений из реальной практики\n",
        "\n",
        "1. **Сложные условия**  "
      ],
      "metadata": {
        "id": "Q9dPCj8jqIi1"
      }
    },
    {
      "cell_type": "code",
      "source": [
        "# Фильтрация заказов с условием:\n",
        "# - Только успешные статусы (\"completed\")\n",
        "# - Сумма заказа > 1000 руб.\n",
        "# - Дата выполнения в 2024 году\n",
        "# - Исключение заказов с возвратами\n",
        "\n",
        "filtered_orders = [\n",
        "    order\n",
        "    for order in orders\n",
        "    if order[\"status\"] == \"completed\"  # Успешный статус\n",
        "    if order[\"amount\"] > 1000          # Сумма > 1000 руб.\n",
        "    if order[\"date\"].startswith(\"2024\")  # Год 2024\n",
        "    if not order[\"returns\"]            # Без возвратов\n",
        "]"
      ],
      "metadata": {
        "id": "olHCBMaiqXNP"
      },
      "execution_count": null,
      "outputs": []
    },
    {
      "cell_type": "markdown",
      "source": [
        "2. **Несколько циклов**  "
      ],
      "metadata": {
        "id": "x6mmyZEvqcP1"
      }
    },
    {
      "cell_type": "code",
      "source": [
        "# Формирование списка возможных комбинаций доставки:\n",
        "# - Города: Москва, Санкт-Петербург, Казань\n",
        "# - Сроки: 1-3 дня\n",
        "# - Условия: только для городов с доступными сроками\n",
        "\n",
        "cities = {\n",
        "    \"Москва\": [1, 2, 3],\n",
        "    \"Санкт-Петербург\": [2, 3],\n",
        "    \"Казань\": [1, 3]\n",
        "}\n",
        "\n",
        "delivery_options = [\n",
        "    {\n",
        "        \"city\": city,\n",
        "        \"days\": days,\n",
        "        \"status\": \"Доступно\"\n",
        "    }\n",
        "    for city, available_days in cities.items()\n",
        "    for days in available_days\n",
        "    if days >= 2  # Фильтр: сроки от 2 дней\n",
        "    if city != \"Казань\" or days == 3  # Исключение Казани для дней !=3\n",
        "]\n",
        "\n",
        "print(delivery_options)"
      ],
      "metadata": {
        "id": "MbIqvRrhqidV"
      },
      "execution_count": null,
      "outputs": []
    },
    {
      "cell_type": "markdown",
      "source": [
        "3. **Вложенные условия**"
      ],
      "metadata": {
        "id": "XPbJOStSqotZ"
      }
    },
    {
      "cell_type": "code",
      "source": [
        "# Фильтрация сотрудников с условием:\n",
        "# - Возраст > 30 лет\n",
        "# - Опыт работы > 5 лет\n",
        "# - Зарплата > 100000 руб.\n",
        "# - Дополнительные условия:\n",
        "#   - Для менеджеров: зарплата > 150000 руб.\n",
        "#   - Для разработчиков: опыт > 7 лет\n",
        "\n",
        "filtered_employees = [\n",
        "    employee\n",
        "    for employee in employees\n",
        "    if employee[\"age\"] > 30  # Основное условие: возраст > 30\n",
        "    if employee[\"experience\"] > 5  # Основное условие: опыт > 5 лет\n",
        "    if employee[\"salary\"] > 100000  # Основное условие: зарплата > 100000\n",
        "    if (\n",
        "        (employee[\"position\"] == \"менеджер\" and employee[\"salary\"] > 150000)\n",
        "        or\n",
        "        (employee[\"position\"] == \"разработчик\" and employee[\"experience\"] > 7)\n",
        "    )  # Вложенное условие для позиций\n",
        "]"
      ],
      "metadata": {
        "id": "005bPkilqsgt"
      },
      "execution_count": null,
      "outputs": []
    },
    {
      "cell_type": "markdown",
      "source": [
        "### Особенности синтаксиса  \n",
        "- **Многострочные конструкции** поддерживаются Python, но требуют **отступов** для всех элементов включения.  \n",
        "- **Условия** (`if`) и **циклы** (`for`) можно комбинировать в любом порядке.  \n",
        "- **Генераторы списков** (аналогичны включениям, но возвращают итератор) также поддерживают многострочный формат."
      ],
      "metadata": {
        "id": "lWWArfVxqxhz"
      }
    },
    {
      "cell_type": "markdown",
      "source": [
        "# 2. Индексирование вложенных словарей"
      ],
      "metadata": {
        "id": "eRf3J5KJh2Mi"
      }
    },
    {
      "cell_type": "markdown",
      "source": [
        "Индексирование вложенных словарей — это преобразование списков внутри словарей в структуры с явными индексами.\n",
        "\n",
        "Обычный способ индексирования вложенных словарей:"
      ],
      "metadata": {
        "id": "QAGNUyZ7h79X"
      }
    },
    {
      "cell_type": "code",
      "source": [
        "my_dictionary = {\n",
        "    \"data\": {\n",
        "        \"num\": 1\n",
        "    }\n",
        "}\n",
        "\n",
        "my_dictionary[\"data\"][\"num\"]"
      ],
      "metadata": {
        "id": "VJBKgA2zhgjM",
        "colab": {
          "base_uri": "https://localhost:8080/"
        },
        "outputId": "7cd57920-9d28-484b-e830-8544498a4a83"
      },
      "execution_count": null,
      "outputs": [
        {
          "output_type": "execute_result",
          "data": {
            "text/plain": [
              "1"
            ]
          },
          "metadata": {},
          "execution_count": 4
        }
      ]
    },
    {
      "cell_type": "markdown",
      "source": [
        "Здесь есть несколько проблем:\n",
        "\n",
        "1. Словари в коде, готовом к производственной среде, имеют гораздо больше уровней вложенности.\n",
        "2. Имена ключей словарей намного длиннее.\n",
        "3. Мы обычно не можем уместить весь код вложенного индексирования в одну строку."
      ],
      "metadata": {
        "id": "zDY_s4_NiNje"
      }
    },
    {
      "cell_type": "markdown",
      "source": [
        "Поэтому мы разбиваем его на несколько строк, примерно так:"
      ],
      "metadata": {
        "id": "RdRI7hDTixvA"
      }
    },
    {
      "cell_type": "code",
      "source": [
        "result = (\n",
        "    my_dictionary\n",
        "    [\"data\"]\n",
        "    [\"num\"]\n",
        ")\n",
        "\n",
        "result"
      ],
      "metadata": {
        "id": "Wph15X8OiGSs",
        "colab": {
          "base_uri": "https://localhost:8080/"
        },
        "outputId": "d72689ae-575e-469b-b60d-dd3e03e7063b"
      },
      "execution_count": null,
      "outputs": [
        {
          "output_type": "execute_result",
          "data": {
            "text/plain": [
              "1"
            ]
          },
          "metadata": {},
          "execution_count": 5
        }
      ]
    },
    {
      "cell_type": "markdown",
      "source": [
        "**Пример из реальной практики:**"
      ],
      "metadata": {
        "id": "8a-zywmIx-gI"
      }
    },
    {
      "cell_type": "code",
      "source": [
        "# Исходные данные: профили клиентов\n",
        "customer_data = {\n",
        "    \"data\": {\n",
        "        \"num\": {\n",
        "            \"total_users\": 1000,\n",
        "            \"active_users\": 750,\n",
        "            \"inactive_users\": 250\n",
        "        }\n",
        "    }\n",
        "}\n",
        "\n",
        "# Получение значения через многострочный доступ\n",
        "result = (\n",
        "    customer_data\n",
        "    [\"data\"]\n",
        "    [\"num\"]\n",
        ")\n",
        "\n",
        "result"
      ],
      "metadata": {
        "colab": {
          "base_uri": "https://localhost:8080/"
        },
        "id": "aQHGbOyKyAxK",
        "outputId": "400420c1-efbc-4d3a-9002-3e638e9417aa"
      },
      "execution_count": null,
      "outputs": [
        {
          "output_type": "execute_result",
          "data": {
            "text/plain": [
              "{'total_users': 1000, 'active_users': 750, 'inactive_users': 250}"
            ]
          },
          "metadata": {},
          "execution_count": 6
        }
      ]
    },
    {
      "cell_type": "markdown",
      "source": [
        "# 3. Написание читаемых и информативных функций"
      ],
      "metadata": {
        "id": "xrIz4I_2jW8D"
      }
    },
    {
      "cell_type": "markdown",
      "source": [
        "Как мы раньше писали функции, будучи студентами:"
      ],
      "metadata": {
        "id": "L-Vb7ZN2jbBR"
      }
    },
    {
      "cell_type": "code",
      "source": [
        "def foo(a, b, c, d, e):\n",
        "  pass"
      ],
      "metadata": {
        "id": "UhQ-4R3gjJqJ"
      },
      "execution_count": null,
      "outputs": []
    },
    {
      "cell_type": "markdown",
      "source": [
        "PR, содержащие такой код, скорее всего, будут отклонены:\n",
        "\n",
        "1. **Ненасыщенные имена**  \n",
        "   - **Проблема**: Имя функции не отражает её логику (например, `func()` вместо `calculate_profit()`).  \n",
        "   - **Решение**: Используйте описательные имена, которые сразу дают понять цель функции.  \n",
        "\n",
        "2. **Неинформативные переменные**  \n",
        "   - **Проблема**: Параметры типа `a`, `b`, `c` не указывают на их назначение.  \n",
        "   - **Решение**: Называйте переменные так, чтобы их роль была ясна (например, `revenue`, `expenses`).  \n",
        "\n",
        "3. **Отсутствие типизации**  \n",
        "   - **Проблема**: Нет подсказок типов для параметров и возвращаемых значений.  \n",
        "   - **Решение**: Добавьте аннотации типов для параметров и возвращаемого значения.  \n",
        "\n",
        "4. **Нет документации**  \n",
        "   - **Проблема**: Строка документации отсутствует, что затрудняет понимание функции.  \n",
        "   - **Решение**: Опишите функцию в docstring, включая параметры, возвращаемое значение и пример использования.  \n",
        "\n",
        "Пример плохого кода:"
      ],
      "metadata": {
        "id": "ASU7rWezjjmQ"
      }
    },
    {
      "cell_type": "code",
      "source": [
        "def func(a, b):\n",
        "    return a - b"
      ],
      "metadata": {
        "id": "n02cUT89zD8L"
      },
      "execution_count": null,
      "outputs": []
    },
    {
      "cell_type": "markdown",
      "source": [
        "Пример хорошего кода:"
      ],
      "metadata": {
        "id": "BBarC_XfzP32"
      }
    },
    {
      "cell_type": "code",
      "source": [
        "def calculate_net_profit(revenue: float, expenses: float) -> float:\n",
        "    \"\"\"\n",
        "    Вычисляет чистую прибыль по формуле: revenue - expenses.\n",
        "\n",
        "    Args:\n",
        "        revenue (float): Общая выручка.\n",
        "        expenses (float): Общие расходы.\n",
        "\n",
        "    Returns:\n",
        "        float: Чистая прибыль.\n",
        "    \"\"\"\n",
        "    return revenue - expenses"
      ],
      "metadata": {
        "id": "6qEQIyJQzTf_"
      },
      "execution_count": null,
      "outputs": []
    },
    {
      "cell_type": "markdown",
      "source": [
        "Вот как мы пишем функции в коде Python, готовом к производственной среде.\n",
        "### **Почему так делают?**  \n",
        "1. **Читаемость**  \n",
        "   - Описательные имена и docstrings помогают другим разработчикам быстро понять логику.  \n",
        "2. **Безопасность**  \n",
        "   - Типизация предотвращает ошибки (например, передача строки вместо числа).  \n",
        "3. **Поддержка**  \n",
        "   - Документация упрощает модификацию кода в будущем.  \n",
        "\n",
        "**Примечание**: Для сложных функций используйте разделение на логические блоки и тесты."
      ],
      "metadata": {
        "id": "zwFhENHBj9R2"
      }
    },
    {
      "cell_type": "markdown",
      "source": [
        "# 4. Снижение уровня отступов"
      ],
      "metadata": {
        "id": "9w52vQTmlKPU"
      }
    },
    {
      "cell_type": "markdown",
      "source": [
        "Отступы в Python являются неотъемлемой частью синтаксиса, так как они используются для обозначения блоков кода. Однако чрезмерная вложенность может ухудшить читаемость и сопровождение кода. Снижение уровня отступов помогает сделать код более понятным и поддерживаемым.\n",
        "\n",
        "### **Почему важно снижать уровень отступов?**\n",
        "1. **Улучшение читаемости**: Глубокие вложенные блоки затрудняют понимание логики программы.\n",
        "2. **Простота сопровождения**: Меньше вложений упрощает внесение изменений в код.\n",
        "3. **Снижение риска ошибок**: Меньшая вложенность уменьшает вероятность путаницы с уровнями отступов.\n",
        "\n",
        "\n",
        "### **Методы снижения уровня отступов**\n",
        "\n",
        "1. **Использование функций**\n",
        "   - Вынос логики во вспомогательные функции уменьшает вложенность."
      ],
      "metadata": {
        "id": "NOW1-iBL2oh0"
      }
    },
    {
      "cell_type": "code",
      "source": [
        "def process_data(data):\n",
        "       if data:\n",
        "           return [x * 2 for x in data if x > 0]\n",
        "       return []\n",
        "\n",
        "   result = process_data([1, -2, 3])"
      ],
      "metadata": {
        "id": "Ozz85FJy3SDs"
      },
      "execution_count": null,
      "outputs": []
    },
    {
      "cell_type": "markdown",
      "source": [
        "2. **Ранний выход из функции (early return)**\n",
        "   - Избегайте вложенных `if`-блоков, возвращая результат как можно раньше."
      ],
      "metadata": {
        "id": "jb7mUlCs3Z-n"
      }
    },
    {
      "cell_type": "code",
      "source": [
        "def check_value(value):\n",
        "    if value < 0:\n",
        "        return \"Negative\"\n",
        "    if value == 0:\n",
        "        return \"Zero\"\n",
        "    return \"Positive\""
      ],
      "metadata": {
        "id": "jOw_P9073znN"
      },
      "execution_count": null,
      "outputs": []
    },
    {
      "cell_type": "markdown",
      "source": [
        "3. **Использование циклов вместо вложенных условий**\n",
        "   - Перепишите вложенные конструкции с помощью циклов или итераторов."
      ],
      "metadata": {
        "id": "jGtOwR7v32I4"
      }
    },
    {
      "cell_type": "code",
      "source": [
        "# Вместо этого:\n",
        "for user in users:\n",
        "    if user[\"is_active\"]:\n",
        "        if user[\"age\"] > 18:\n",
        "            print(f\"Active adult: {user['name']}\")\n",
        "\n",
        "# Используйте:\n",
        "for user in (u for u in users if u[\"is_active\"] and u[\"age\"] > 18):\n",
        "    print(f\"Active adult: {user['name']}\")"
      ],
      "metadata": {
        "id": "3-9hhZty4JrA"
      },
      "execution_count": null,
      "outputs": []
    },
    {
      "cell_type": "markdown",
      "source": [
        "4. **Разделение логики на несколько функций или классов**\n",
        "   - Сложные конструкции можно разбить на несколько модулей или методов."
      ],
      "metadata": {
        "id": "PJCHAvmZ4L_H"
      }
    },
    {
      "cell_type": "code",
      "source": [
        "class DataProcessor:\n",
        "       def __init__(self, data):\n",
        "           self.data = data\n",
        "\n",
        "       def filter_data(self):\n",
        "           return [x for x in self.data if x > 0]\n",
        "\n",
        "       def process(self):\n",
        "           filtered_data = self.filter_data()\n",
        "           return [x * 2 for x in filtered_data]\n",
        "\n",
        "processor = DataProcessor([1, -2, 3])\n",
        "result = processor.process()"
      ],
      "metadata": {
        "id": "euWfMdda4PEj"
      },
      "execution_count": null,
      "outputs": []
    },
    {
      "cell_type": "markdown",
      "source": [
        "### **Пример до и после снижения уровня отступов**\n",
        "\n",
        "**До:**"
      ],
      "metadata": {
        "id": "MMiZFU0T4lOr"
      }
    },
    {
      "cell_type": "code",
      "source": [
        "def analyze_data(data):\n",
        "    if data:\n",
        "        for item in data:\n",
        "            if item > 0:\n",
        "                print(f\"Positive item: {item}\")"
      ],
      "metadata": {
        "id": "SOOZLfmh4pY_"
      },
      "execution_count": null,
      "outputs": []
    },
    {
      "cell_type": "markdown",
      "source": [
        "**После:**\n"
      ],
      "metadata": {
        "id": "mZfIapuK4sVF"
      }
    },
    {
      "cell_type": "code",
      "source": [
        "def analyze_data(data):\n",
        "    if not data:\n",
        "        return\n",
        "    for item in (x for x in data if x > 0):\n",
        "        print(f\"Positive item: {item}\")"
      ],
      "metadata": {
        "id": "OnPHFkNQ4wfg"
      },
      "execution_count": null,
      "outputs": []
    },
    {
      "cell_type": "markdown",
      "source": [
        "### **Рекомендации**\n",
        "- Следуйте PEP 8: используйте 4 пробела для каждого уровня отступа.\n",
        "- Избегайте глубокой вложенности (>3 уровней).\n",
        "- Используйте линтеры и автоформатеры, такие как `black` или `autopep8`, чтобы автоматически исправлять стиль кода.\n",
        "\n",
        "Снижение уровня отступов делает код более профессиональным, читаемым и простым в сопровождении."
      ],
      "metadata": {
        "id": "2kqMLOtK40w3"
      }
    }
  ]
}