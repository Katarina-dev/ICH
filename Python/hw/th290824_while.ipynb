{
 "cells": [
  {
   "cell_type": "code",
   "execution_count": null,
   "id": "184429d2-e204-4a7d-ae13-ec20d13408c3",
   "metadata": {},
   "outputs": [],
   "source": [
    "count = 0\n",
    "\n",
    "while count < 5:\n",
    "    ans = int(input(\"Enter a number:\"))\n",
    "    if ans == 0:\n",
    "        print(\"You entered 0. Exiting..\")\n",
    "        break\n",
    "    count +=1\n",
    "else:\n",
    "    print(\"You entered 5 numbers. Exiting...\")"
   ]
  },
  {
   "cell_type": "code",
   "execution_count": 2,
   "id": "a0d9b4c5-ae67-4b03-a662-c32ca370fef0",
   "metadata": {},
   "outputs": [
    {
     "name": "stdin",
     "output_type": "stream",
     "text": [
      "pin >> 2345\n"
     ]
    },
    {
     "name": "stdout",
     "output_type": "stream",
     "text": [
      "Choose operation: ...\n"
     ]
    }
   ],
   "source": [
    "pin = 2345\n",
    "count = 0\n",
    "\n",
    "while True:\n",
    "    ans = int(input('pin >>'))\n",
    "    if ans == pin:\n",
    "        print('Choose operation: ...')\n",
    "        break # выходим из всего цикла\n",
    "        \n",
    "    count += 1\n",
    "    if count == 3:\n",
    "        print('Your card is blocked')\n",
    "        breake\n",
    "        "
   ]
  },
  {
   "cell_type": "code",
   "execution_count": null,
   "id": "b4073e19-319b-4fee-a5e1-fdb9d086bc6b",
   "metadata": {},
   "outputs": [],
   "source": [
    "pin = 2345\n",
    "count = 0\n",
    "\n",
    "while True:\n",
    "    ... # либо pass\n",
    "print('Hello')"
   ]
  },
  {
   "cell_type": "code",
   "execution_count": null,
   "id": "302d7d24-6ebc-4cf5-8a9f-3c63804b1f72",
   "metadata": {},
   "outputs": [],
   "source": [
    "%%timeit\n",
    "\n",
    "i = 0\n",
    "while i < 10:\n",
    "    i += i"
   ]
  },
  {
   "cell_type": "code",
   "execution_count": null,
   "id": "8caad905-c108-4633-b8f6-5ddfba6486fd",
   "metadata": {},
   "outputs": [],
   "source": [
    "%timeit for _ in range(1000)"
   ]
  },
  {
   "cell_type": "code",
   "execution_count": 2,
   "id": "b7672f3d-ec87-4bfa-9d5a-094470ba18c9",
   "metadata": {},
   "outputs": [
    {
     "name": "stdout",
     "output_type": "stream",
     "text": [
      "10\n",
      "2\n",
      "6\n",
      "2\n",
      "5\n",
      "3\n",
      "5\n",
      "5\n",
      "10\n",
      "5\n"
     ]
    }
   ],
   "source": [
    "import random\n",
    "i = 0\n",
    "while i < 10:\n",
    "    print(random.randint(2, 10))\n",
    "    i += 1"
   ]
  },
  {
   "cell_type": "code",
   "execution_count": 3,
   "id": "06fed2ac-353a-480c-8cc6-a4bd98db569b",
   "metadata": {},
   "outputs": [
    {
     "name": "stdout",
     "output_type": "stream",
     "text": [
      "[1, 3, 5, 4, 6, 2, 7]\n"
     ]
    }
   ],
   "source": [
    "import random\n",
    "\n",
    "x = [1, 2, 3, 4, 5, 6, 7]\n",
    "random.shuffle(x)\n",
    "print(x)"
   ]
  },
  {
   "cell_type": "code",
   "execution_count": 7,
   "id": "87599987-0dfa-4ac2-8481-b6fb440a1e95",
   "metadata": {},
   "outputs": [
    {
     "name": "stdout",
     "output_type": "stream",
     "text": [
      "4\n"
     ]
    }
   ],
   "source": [
    "print(random.choice(x))"
   ]
  },
  {
   "cell_type": "code",
   "execution_count": 8,
   "id": "c5d3ecf5-e35a-41f0-b1e3-a422cf4c450b",
   "metadata": {},
   "outputs": [
    {
     "name": "stdout",
     "output_type": "stream",
     "text": [
      "[5, 1]\n"
     ]
    }
   ],
   "source": [
    "print(random.sample(x, 2))"
   ]
  },
  {
   "cell_type": "code",
   "execution_count": 9,
   "id": "1bd28e64-e48a-4005-98d3-44c869058c1b",
   "metadata": {},
   "outputs": [
    {
     "name": "stdout",
     "output_type": "stream",
     "text": [
      "[21, 6, 27, 4, 8, 7, 10, 14, 2, 28]\n"
     ]
    }
   ],
   "source": [
    "import random\n",
    "\n",
    "x = list(range(30))\n",
    "print(random.sample(x, 10))"
   ]
  }
 ],
 "metadata": {
  "kernelspec": {
   "display_name": "Python 3 (ipykernel)",
   "language": "python",
   "name": "python3"
  },
  "language_info": {
   "codemirror_mode": {
    "name": "ipython",
    "version": 3
   },
   "file_extension": ".py",
   "mimetype": "text/x-python",
   "name": "python",
   "nbconvert_exporter": "python",
   "pygments_lexer": "ipython3",
   "version": "3.12.5"
  }
 },
 "nbformat": 4,
 "nbformat_minor": 5
}
