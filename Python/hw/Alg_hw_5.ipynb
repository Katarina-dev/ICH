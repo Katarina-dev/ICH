{
 "cells": [
  {
   "cell_type": "code",
   "execution_count": null,
   "id": "90fa757c-6ab9-45ec-8f37-81790eb6c02d",
   "metadata": {},
   "outputs": [],
   "source": [
    "1. Переписать самостоятельно то, что написали во время занятия: заново написать сортировку слиянием, опираясь на текстовое описание."
   ]
  },
  {
   "cell_type": "code",
   "execution_count": 9,
   "id": "1a75126f-a95d-4b7b-959f-66529412ad78",
   "metadata": {},
   "outputs": [
    {
     "name": "stdout",
     "output_type": "stream",
     "text": [
      "[2, 3, 4, 6, 7, 9]\n"
     ]
    }
   ],
   "source": [
    "def merge_two_array(a, b):\n",
    "    c = []\n",
    "    i = j = 0\n",
    "    while i < len(a) and j < len(b):\n",
    "        if a[i] < b[j]:\n",
    "            c.append(a[i])\n",
    "            i += 1\n",
    "        else: \n",
    "            c.append(b[j])\n",
    "            j += 1\n",
    "    if i < len(a):\n",
    "        c += a[i:]\n",
    "    if j < len(b):\n",
    "        c += b[j:]\n",
    "    return c\n",
    "\n",
    "def merge_sort(s):\n",
    "    if len(s) == 1:\n",
    "        return s\n",
    "    middle = len(s)//2\n",
    "    left = merge_sort(s[:middle])\n",
    "    right = merge_sort(s[middle:])\n",
    "    return merge_two_array(left, right)\n",
    "\n",
    "\n",
    "print(merge_sort([7, 2, 9, 4, 6, 3]))"
   ]
  },
  {
   "cell_type": "raw",
   "id": "0e1c004b-8b12-42b6-a4f7-1504b80ae815",
   "metadata": {},
   "source": [
    "2. Реализуйте программу, которая принимает несколько файлов, каждый из которых содержит отсортированный список чисел, и объединяет их в один отсортированный файл, используя сортировку слиянием."
   ]
  },
  {
   "cell_type": "code",
   "execution_count": 13,
   "id": "5db82a36-ce1a-405b-9b28-3191d59e3e9c",
   "metadata": {},
   "outputs": [
    {
     "name": "stdout",
     "output_type": "stream",
     "text": [
      "[2, 3, 6, 7, 8, 8, 9, 10, 11]\n"
     ]
    }
   ],
   "source": [
    "def read_file(file_path):\n",
    "    with open(file_path, 'r') as file:\n",
    "        return [int(num) for num in file.read().split()]\n",
    "\n",
    "# print(read_file('A.txt'))\n",
    "def _merge(left, right):\n",
    "    result = []\n",
    "    i = j = 0\n",
    "    while i < len(left) and j < len(right):\n",
    "        if left[i] < right[j]:\n",
    "            result.append(left[i])\n",
    "            i += 1\n",
    "        else:\n",
    "            result.append(right[j])\n",
    "            j += 1\n",
    "    result.extend(left[i:])\n",
    "    result.extend(right[j:])\n",
    "    return result\n",
    "\n",
    "def merge_three_sorted_arrays(output_file, file1, file2, file3):\n",
    "    arr1 = read_file(file1)\n",
    "    arr2 = read_file(file2)\n",
    "    arr3 = read_file(file3)\n",
    "\n",
    "    merged_first_two = _merge(arr1, arr2)\n",
    "    final_arr = _merge(merged_first_two, arr3)\n",
    "    \n",
    "    with open(output_file, 'w') as out_file:\n",
    "        out_file.write(' '.join(map(str, final_arr)))\n",
    "\n",
    "    return final_arr\n",
    "\n",
    "print(merge_three_sorted_arrays('result.txt', 'A.txt', 'B.txt', 'C.txt'))"
   ]
  },
  {
   "cell_type": "code",
   "execution_count": null,
   "id": "fc1f58a6-2644-43c9-8e61-0c9c13b28293",
   "metadata": {},
   "outputs": [],
   "source": []
  }
 ],
 "metadata": {
  "kernelspec": {
   "display_name": "Python 3 (ipykernel)",
   "language": "python",
   "name": "python3"
  },
  "language_info": {
   "codemirror_mode": {
    "name": "ipython",
    "version": 3
   },
   "file_extension": ".py",
   "mimetype": "text/x-python",
   "name": "python",
   "nbconvert_exporter": "python",
   "pygments_lexer": "ipython3",
   "version": "3.12.5"
  }
 },
 "nbformat": 4,
 "nbformat_minor": 5
}
