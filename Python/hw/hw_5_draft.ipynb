{
 "cells": [
  {
   "cell_type": "code",
   "execution_count": null,
   "id": "b8c8f2af-f058-4dfb-81b4-4e0aa5ed290f",
   "metadata": {},
   "outputs": [],
   "source": [
    "1. Напишите программу, которая запрашивает у пользователя три числа и выводит их в порядке возрастания, разделенные запятой.\n",
    "Используйте условные операторы и вложенные условия для решения задачи. Предполагается, что все три числа различны."
   ]
  },
  {
   "cell_type": "code",
   "execution_count": 10,
   "id": "b4c285ce-fe6f-4b69-9772-4e363b40ed5b",
   "metadata": {},
   "outputs": [
    {
     "name": "stdin",
     "output_type": "stream",
     "text": [
      "Enter the first number 54\n",
      "Enter the second number 76\n",
      "Enter the third number 12\n"
     ]
    },
    {
     "name": "stdout",
     "output_type": "stream",
     "text": [
      "Numbers in ascending order: 12, 54, 76\n"
     ]
    }
   ],
   "source": [
    "x = int(input('Enter the first number')) \n",
    "y = int(input('Enter the second number'))\n",
    "z = int(input('Enter the third number'))\n",
    "\n",
    "if x < y < z:\n",
    "    print(f'Numbers in ascending order: {x}, {y}, {z}')\n",
    "elif y < x < z:\n",
    "    print(f'Numbers in ascending order: {y}, {x}, {z}')\n",
    "elif z < y < x:\n",
    "    print(f'Numbers in ascending order: {z}, {y}, {x}')\n",
    "elif y < z < x:\n",
    "    print(f'Numbers in ascending order: {y}, {z}, {x}')\n",
    "elif x < z < y:\n",
    "    print(f'Numbers in ascending order: {x}, {z}, {y}')\n",
    "else:\n",
    "    print(f'Numbers in ascending order: {z}, {x}, {y}')"
   ]
  },
  {
   "cell_type": "code",
   "execution_count": null,
   "id": "31debace-9724-4996-8508-aea0d2955f79",
   "metadata": {},
   "outputs": [],
   "source": [
    "2. Напишите программу, которая запрашивает у пользователя год и проверяет, является ли он високосным. \n",
    "Год является високосным, если он делится на 4 без остатка, но не делится на 100 без остатка, за исключением годов, \n",
    "которые делятся на 400 без остатка. Выведите соответствующее сообщение на экран с помощью команды print."
   ]
  },
  {
   "cell_type": "code",
   "execution_count": 13,
   "id": "6e6106a8-d705-474b-983e-84f0f399bfcc",
   "metadata": {},
   "outputs": [
    {
     "name": "stdin",
     "output_type": "stream",
     "text": [
      "Enter year: 2000\n"
     ]
    },
    {
     "name": "stdout",
     "output_type": "stream",
     "text": [
      "2000 - is leap year\n"
     ]
    }
   ],
   "source": [
    "year = int(input('Enter year:'))\n",
    "\n",
    "if not year % 4:\n",
    "    print(f'{year} - is leap year')\n",
    "elif not year % 100:\n",
    "    if not year % 400:\n",
    "            print(f'{year} - is leap year')\n",
    "    else:\n",
    "            print(f'{year} - is non-leap year')\n",
    "else:\n",
    "        print(f'{year} - is non-leap year')"
   ]
  },
  {
   "cell_type": "code",
   "execution_count": 45,
   "id": "92a77ec8-c5f9-4b69-97ae-7f2942ae653e",
   "metadata": {},
   "outputs": [
    {
     "name": "stdin",
     "output_type": "stream",
     "text": [
      "Enter year: 2096\n"
     ]
    },
    {
     "name": "stdout",
     "output_type": "stream",
     "text": [
      "2096 - is leap year\n"
     ]
    }
   ],
   "source": [
    "year = int(input('Enter year:'))\n",
    "\n",
    "if not year % 4 and year % 100 or not year % 400:\n",
    "    print(f'{year} - is leap year')\n",
    "else:\n",
    "    print(f'{year} - is non-leap year')"
   ]
  },
  {
   "cell_type": "code",
   "execution_count": 44,
   "id": "ca3f0629-62cf-4fad-93ad-91a042b255e7",
   "metadata": {},
   "outputs": [
    {
     "name": "stdin",
     "output_type": "stream",
     "text": [
      "Enter year: 2096\n"
     ]
    },
    {
     "name": "stdout",
     "output_type": "stream",
     "text": [
      "2096 - is leap year\n"
     ]
    }
   ],
   "source": [
    "year = int(input('Enter year:'))\n",
    "\n",
    "if not year % 4 and year % 100:\n",
    "    print(f'{year} - is leap year')\n",
    "elif not year % 400:\n",
    "    print(f'{year} - is leap year')\n",
    "else:\n",
    "    print(f'{year} - is non-leap year')"
   ]
  },
  {
   "cell_type": "code",
   "execution_count": null,
   "id": "8d1bd0d0-216f-45e0-ac22-4b52265a2570",
   "metadata": {},
   "outputs": [],
   "source": [
    "1. Напишите программу, которая запрашивает у пользователя три числа и выводит их в порядке возрастания, разделенные запятой.\n",
    "Используйте условные операторы и вложенные условия для решения задачи. Предполагается, что все три числа различны."
   ]
  },
  {
   "cell_type": "code",
   "execution_count": 48,
   "id": "9ee70612-5680-4494-9c81-1e856511b717",
   "metadata": {},
   "outputs": [
    {
     "name": "stdin",
     "output_type": "stream",
     "text": [
      "Enter the first number 65\n",
      "Enter the second number 100\n",
      "Enter the third number 300\n"
     ]
    },
    {
     "name": "stdout",
     "output_type": "stream",
     "text": [
      "Numbers in ascending order: 65, 100, 300\n"
     ]
    }
   ],
   "source": [
    "x = int(input('Enter the first number')) \n",
    "y = int(input('Enter the second number'))\n",
    "z = int(input('Enter the third number'))\n",
    "\n",
    "if x > y and x > z:\n",
    "    if y > z:\n",
    "        print(f'Numbers in ascending order: {z}, {y}, {x}')\n",
    "    else:\n",
    "        print(f'Numbers in ascending order: {y}, {z}, {x}')\n",
    "elif y > x and y > z:\n",
    "    if x > z:\n",
    "        print(f'Numbers in ascending order: {z}, {x}, {y}')\n",
    "    else:\n",
    "        print(f'Numbers in ascending order: {x}, {z}, {y}')\n",
    "elif z > x and z > y:\n",
    "    if x > y:\n",
    "        print(f'Numbers in ascending order: {y}, {x}, {z}')\n",
    "    else:\n",
    "        print(f'Numbers in ascending order: {x}, {y}, {z}')\n"
   ]
  },
  {
   "cell_type": "code",
   "execution_count": 7,
   "id": "0ea0b0c4-eb94-41c2-a526-f8293fe9b8cb",
   "metadata": {},
   "outputs": [
    {
     "name": "stdout",
     "output_type": "stream",
     "text": [
      "True\n"
     ]
    }
   ],
   "source": [
    "x = 6\n",
    "y = 3\n",
    "z = 4\n",
    "result = x > z > y\n",
    "print(result) "
   ]
  },
  {
   "cell_type": "code",
   "execution_count": null,
   "id": "03ac8e53-a776-4993-a9c0-d232931391de",
   "metadata": {},
   "outputs": [],
   "source": []
  }
 ],
 "metadata": {
  "kernelspec": {
   "display_name": "Python 3 (ipykernel)",
   "language": "python",
   "name": "python3"
  },
  "language_info": {
   "codemirror_mode": {
    "name": "ipython",
    "version": 3
   },
   "file_extension": ".py",
   "mimetype": "text/x-python",
   "name": "python",
   "nbconvert_exporter": "python",
   "pygments_lexer": "ipython3",
   "version": "3.12.5"
  }
 },
 "nbformat": 4,
 "nbformat_minor": 5
}
