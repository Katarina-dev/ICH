{
 "cells": [
  {
   "cell_type": "code",
   "execution_count": null,
   "id": "226f6c3a-fa6e-411e-bb1d-6a126f46ccd4",
   "metadata": {},
   "outputs": [],
   "source": [
    "1. Использование пользовательских индексов в Series:\n",
    "\n",
    "\n",
    "Напишите программу, которая:\n",
    "\n",
    "- Запрашивает у пользователя ввод чисел, разделенных пробелами.\n",
    "\n",
    "- Преобразует введенные данные в объект Series, используя в качестве индексов буквы алфавита начиная с 'a'.\n",
    "\n",
    "- Выводит созданный объект Series на экран."
   ]
  },
  {
   "cell_type": "code",
   "execution_count": 9,
   "id": "7ea671f1-03d7-4e12-8a12-170abbdbc24e",
   "metadata": {},
   "outputs": [
    {
     "name": "stdin",
     "output_type": "stream",
     "text": [
      "Enter numbers with spaces:  5 15 25 35\n"
     ]
    },
    {
     "data": {
      "text/plain": [
       "a     5\n",
       "b    15\n",
       "c    25\n",
       "d    35\n",
       "dtype: int64"
      ]
     },
     "execution_count": 9,
     "metadata": {},
     "output_type": "execute_result"
    }
   ],
   "source": [
    "import pandas as pd\n",
    "\n",
    "lst = map(int, input('Enter numbers with spaces: ').split())\n",
    "i = list('abcd')\n",
    "s = pd.Series(lst, index=i)\n",
    "s"
   ]
  },
  {
   "cell_type": "code",
   "execution_count": null,
   "id": "eebbcbf6-a0bc-42c9-8c15-0b0b2dc1a81f",
   "metadata": {},
   "outputs": [],
   "source": [
    "2. Создание и индексация DataFrame:\n",
    "\n",
    "\n",
    "Напишите программу, которая:\n",
    "\n",
    "- Запрашивает у пользователя данные для создания DataFrame. Данные включают в себя имена столбцов и строки значений, вводимые через пробел.\n",
    "\n",
    "- Создает DataFrame с использованием введенных данных.\n",
    "\n",
    "- Выводит созданный DataFrame на экран.\n",
    "\n",
    "- Запрашивает у пользователя имя столбца, по которому необходимо отфильтровать данные.\n",
    "\n",
    "- Выводит значения указанного столбца.\n",
    "\n",
    "\n",
    "Пример вывода:\n",
    "\n",
    "\n",
    "Введите имена столбцов: Имя Возраст Город\n",
    "\n",
    "Введите данные (для окончания введите 'end'): Анна 25 Москва\n",
    "\n",
    "Введите данные (для окончания введите 'end'): Борис 30 Питер\n",
    "\n",
    "Введите данные (для окончания введите 'end'): end"
   ]
  },
  {
   "cell_type": "code",
   "execution_count": 41,
   "id": "45a36ef4-45d8-44bb-9feb-8f207ab92492",
   "metadata": {},
   "outputs": [
    {
     "name": "stdin",
     "output_type": "stream",
     "text": [
      "Enter columns names:  name age city\n",
      "Enter data (for quit enter 'end'):  Anna 25 Moscow\n",
      "Enter data (for quit enter 'end'):  Boris 30 Piter\n",
      "Enter data (for quit enter 'end'):  end\n"
     ]
    },
    {
     "name": "stdout",
     "output_type": "stream",
     "text": [
      "    name age    city\n",
      "0   Anna  25  Moscow\n",
      "1  Boris  30   Piter\n"
     ]
    },
    {
     "name": "stdin",
     "output_type": "stream",
     "text": [
      "Enter column name for displaying:  age\n"
     ]
    },
    {
     "name": "stdout",
     "output_type": "stream",
     "text": [
      "0    25\n",
      "1    30\n",
      "Name: age, dtype: object\n"
     ]
    }
   ],
   "source": [
    "import numpy as np\n",
    "\n",
    "col = input('Enter columns names: ').split()\n",
    "# heads = np.arange(col)\n",
    "\n",
    "d = []\n",
    "while True:    \n",
    "    val = input('Enter data (for quit enter \\'end\\'): ')\n",
    "    if val == 'end':\n",
    "        break\n",
    "    row = val.split()\n",
    "    d.append(row)\n",
    "\n",
    "df = pd.DataFrame(d, columns = col)\n",
    "print(df)\n",
    "filter = input('Enter column name for displaying: ')\n",
    "print(f'{df[filter]}')\n",
    "    \n",
    "\n",
    "    "
   ]
  },
  {
   "cell_type": "code",
   "execution_count": null,
   "id": "1e84002e-67aa-47fd-9abb-f451bbec59fd",
   "metadata": {},
   "outputs": [],
   "source": []
  }
 ],
 "metadata": {
  "kernelspec": {
   "display_name": "Python 3 (ipykernel)",
   "language": "python",
   "name": "python3"
  },
  "language_info": {
   "codemirror_mode": {
    "name": "ipython",
    "version": 3
   },
   "file_extension": ".py",
   "mimetype": "text/x-python",
   "name": "python",
   "nbconvert_exporter": "python",
   "pygments_lexer": "ipython3",
   "version": "3.12.5"
  }
 },
 "nbformat": 4,
 "nbformat_minor": 5
}
