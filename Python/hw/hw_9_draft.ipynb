{
 "cells": [
  {
   "cell_type": "code",
   "execution_count": null,
   "id": "9d7a10f8-6a34-4730-b3f7-2ebfe4b7c0f5",
   "metadata": {},
   "outputs": [],
   "source": [
    "import string\n",
    "\n",
    "name = input('Введите строку:')\n",
    "i = 0\n",
    "\n",
    "\n",
    "    # Такая проверка будет выполняться до конца строки,\n",
    "    # включая последний символ. Его индекс `length - 1`.\n",
    "while i < len(name)-1:\n",
    "        # Обращаемся к символу по индексу\n",
    "    #print(name[i])\n",
    "    is_found = string.ascii_lowercase[i] in name\n",
    "    print(name[i])\n",
    "    #is_found1 = name[i] in string.ascii_lowercase\n",
    "   # if is_found == 1\n",
    "    print(is_found)\n",
    "   # else:\n",
    "    #print(is_found1)\n",
    "    i = i + 1"
   ]
  },
  {
   "cell_type": "code",
   "execution_count": 4,
   "id": "73d1c9e6-d2bd-4eaf-b06a-af74c516177c",
   "metadata": {},
   "outputs": [
    {
     "name": "stdin",
     "output_type": "stream",
     "text": [
      "Enter string >> Hello World\n"
     ]
    },
    {
     "name": "stdout",
     "output_type": "stream",
     "text": [
      "Количество гласных букв: 3\n",
      "Количество согласных букв: 7\n"
     ]
    }
   ],
   "source": [
    "t = input('Enter string >>')\n",
    "t = t.lower()\n",
    "gl = [\"a\", \"e\", \"i\", \"o\", \"u\", \"y\"]\n",
    "sog = [\"b\",\"c\",\"d\",\"f\",\"g\",\"h\",\"j\",\"k\",\"l\",\"m\",\"n\",\"p\",\"q\",\"r\",\"s\",\"t\",\"v\",\"w\",\"x\",\"z\"] \n",
    "i = 0\n",
    "u = 0\n",
    "\n",
    "while i < len(t):\n",
    "    if t[i] in gl:\n",
    "        u += 1\n",
    "    res = t[i] in gl\n",
    "    i += 1\n",
    "    #num = int(res)\n",
    "print(\"Количество гласных букв:\",u)\n",
    "\n",
    "i = 0\n",
    "u = 0\n",
    "\n",
    "while i < len(t):\n",
    "    if t[i] in sog:\n",
    "        u += 1\n",
    "    res = t[i] in sog\n",
    "    i += 1\n",
    " #num = int(res)\n",
    "print(\"Количество согласных букв:\",u)"
   ]
  },
  {
   "cell_type": "code",
   "execution_count": null,
   "id": "c8d5d710-5c78-4a8a-b793-f724c1d72042",
   "metadata": {},
   "outputs": [],
   "source": []
  }
 ],
 "metadata": {
  "kernelspec": {
   "display_name": "Python 3 (ipykernel)",
   "language": "python",
   "name": "python3"
  },
  "language_info": {
   "codemirror_mode": {
    "name": "ipython",
    "version": 3
   },
   "file_extension": ".py",
   "mimetype": "text/x-python",
   "name": "python",
   "nbconvert_exporter": "python",
   "pygments_lexer": "ipython3",
   "version": "3.12.5"
  }
 },
 "nbformat": 4,
 "nbformat_minor": 5
}
