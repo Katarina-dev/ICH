{
 "cells": [
  {
   "cell_type": "code",
   "execution_count": 1,
   "id": "18ca05cc-b681-4056-94cc-70f90e39b243",
   "metadata": {},
   "outputs": [
    {
     "name": "stdin",
     "output_type": "stream",
     "text": [
      "Введите первое число: 2\n",
      "Введите второе число: 3\n"
     ]
    },
    {
     "name": "stdout",
     "output_type": "stream",
     "text": [
      "x + y = 5\n",
      "x - y = -1\n"
     ]
    }
   ],
   "source": [
    "x, y = int(input('Введите первое число:')), int(input('Введите второе число:'))\n",
    "print(f'x + y = {x + y}\\nx - y = {x - y}')\n",
    "print(f'x * y = {x * y}')"
   ]
  },
  {
   "cell_type": "code",
   "execution_count": 2,
   "id": "07c74b03-48d5-49a4-8136-1411d381df52",
   "metadata": {},
   "outputs": [
    {
     "name": "stdin",
     "output_type": "stream",
     "text": [
      "R= 6\n"
     ]
    },
    {
     "name": "stdout",
     "output_type": "stream",
     "text": [
      "S=226.19\n",
      "L=37.70\n"
     ]
    }
   ],
   "source": [
    "import math\n",
    "r = int(input('R='))\n",
    "s = 2 * r ** 2 * math.pi\n",
    "print(f'S={s:.2f}')\n",
    "lenght = 2 * r * math.pi\n",
    "print(f'L={lenght:.2f}')"
   ]
  },
  {
   "cell_type": "code",
   "execution_count": 3,
   "id": "fe2255fd-ed1c-4c8b-a66e-70b33497f4af",
   "metadata": {},
   "outputs": [
    {
     "name": "stdin",
     "output_type": "stream",
     "text": [
      "x1= 34\n",
      "y1= 23\n",
      "x2= 23\n",
      "y2= 34\n"
     ]
    },
    {
     "name": "stdout",
     "output_type": "stream",
     "text": [
      "d =15.56\n"
     ]
    }
   ],
   "source": [
    "x1, y1 = int(input('x1=')), int(input('y1='))\n",
    "x2, y2 = int(input('x2=')), int(input('y2='))\n",
    "\n",
    "d = ((x1 - x2) ** 2 + (y1 - y2) ** 2) ** 0.5\n",
    "print(f'd ={d:.2f}')"
   ]
  },
  {
   "cell_type": "code",
   "execution_count": 5,
   "id": "af3c292d-a689-4d8c-aa27-0a4a0bb60ee8",
   "metadata": {},
   "outputs": [
    {
     "name": "stdout",
     "output_type": "stream",
     "text": [
      "True True\n"
     ]
    }
   ],
   "source": [
    "# Даны формулы: ¬((A ∨ B) ∧ (C ∨ D)) и ((¬A ∧ ¬B) ∨ (¬C ∧ ¬D)). Используя закон Де Моргана, докажите, что эти формулы эквивалентны.\n",
    "\n",
    "a, b, c, d = False, False, False, False\n",
    "\n",
    "part1 = not((a or b) and (c or d))\n",
    "part2 = ((not a or b) or (not c and not d))\n",
    "print(part1, part2)"
   ]
  },
  {
   "cell_type": "code",
   "execution_count": 7,
   "id": "1aea987c-eed5-4408-8758-37a8107124df",
   "metadata": {},
   "outputs": [
    {
     "name": "stdin",
     "output_type": "stream",
     "text": [
      "1 - True/ 0 - False 0\n"
     ]
    },
    {
     "name": "stdout",
     "output_type": "stream",
     "text": [
      "False\n"
     ]
    }
   ],
   "source": [
    "#Напишите программу, которая запрашивает у пользователя два логических значения (True или False) и выводит результаты следующих логических операций:\n",
    "x = int(input('1 - True/ 0 - False'))\n",
    "print(bool(x))"
   ]
  },
  {
   "cell_type": "code",
   "execution_count": 9,
   "id": "0c5b5fc6-d3ad-40fa-9731-8f7338fabdd9",
   "metadata": {},
   "outputs": [
    {
     "name": "stdin",
     "output_type": "stream",
     "text": [
      "Name \n"
     ]
    },
    {
     "name": "stdout",
     "output_type": "stream",
     "text": [
      "Noname\n"
     ]
    }
   ],
   "source": [
    "name = input('Name')\n",
    "name = name or 'Noname'\n",
    "print(name)"
   ]
  }
 ],
 "metadata": {
  "kernelspec": {
   "display_name": "Python 3 (ipykernel)",
   "language": "python",
   "name": "python3"
  },
  "language_info": {
   "codemirror_mode": {
    "name": "ipython",
    "version": 3
   },
   "file_extension": ".py",
   "mimetype": "text/x-python",
   "name": "python",
   "nbconvert_exporter": "python",
   "pygments_lexer": "ipython3",
   "version": "3.12.5"
  }
 },
 "nbformat": 4,
 "nbformat_minor": 5
}
