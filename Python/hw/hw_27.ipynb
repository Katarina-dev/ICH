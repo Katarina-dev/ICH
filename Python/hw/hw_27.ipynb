{
 "cells": [
  {
   "cell_type": "code",
   "execution_count": null,
   "id": "7ed2e556-8075-4227-9523-c936b7ff1a3b",
   "metadata": {},
   "outputs": [],
   "source": [
    "# Напишите функцию, которая принимает на вход список чисел и возвращает сумму квадратов только четных чисел из списка, \n",
    "# используя функциональные подходы (например, map, filter и reduce)."
   ]
  },
  {
   "cell_type": "code",
   "execution_count": 5,
   "id": "c54dc869-4eb2-408d-a770-48de6d2129cd",
   "metadata": {},
   "outputs": [
    {
     "name": "stdin",
     "output_type": "stream",
     "text": [
      " 4 6 3 4 2 3 9 0 7\n"
     ]
    },
    {
     "name": "stdout",
     "output_type": "stream",
     "text": [
      "72\n"
     ]
    }
   ],
   "source": [
    "from functools import reduce\n",
    "\n",
    "def get_square_even(num):\n",
    "    even = filter(lambda a: a % 2 == 0, num)\n",
    "    squared = map(lambda a: a ** 2, even)\n",
    "    res =  reduce(lambda a, b: a + b, squared)\n",
    "    return res\n",
    "\n",
    "n = list(map(int, input().split()))\n",
    "even_numbers = get_square_even(n)\n",
    "print(even_numbers)\n"
   ]
  },
  {
   "cell_type": "code",
   "execution_count": null,
   "id": "6fccb961-7ebf-4ad7-98c3-bd247b325741",
   "metadata": {},
   "outputs": [],
   "source": [
    "# Напишите функцию, которая принимает на вход список функций и значение, а затем применяет композицию этих функций к значению, возвращая конечный результат."
   ]
  },
  {
   "cell_type": "code",
   "execution_count": null,
   "id": "c6b97bee-2ce2-44a8-9c35-6231b43f50c1",
   "metadata": {},
   "outputs": [],
   "source": [
    "def get_funcs(num):\n",
    "    add_one = lambda x: x + 1\n",
    "    double = lambda x: x * 2\n",
    "    subtract_three = lambda x: x - 3\n",
    "\n",
    "    funcs = [add_one, double, subtract_three]\n",
    "\n",
    "    for f in funcs:\n",
    "        num = f(num)\n",
    "    return num\n",
    "\n",
    "try:\n",
    "    n = int(input(\"Input number: \"))\n",
    "    res = get_funcs(n)\n",
    "    print(res)\n",
    "except ValueError:\n",
    "    print(\"Error: Input correct number\")"
   ]
  }
 ],
 "metadata": {
  "kernelspec": {
   "display_name": "Python 3 (ipykernel)",
   "language": "python",
   "name": "python3"
  },
  "language_info": {
   "codemirror_mode": {
    "name": "ipython",
    "version": 3
   },
   "file_extension": ".py",
   "mimetype": "text/x-python",
   "name": "python",
   "nbconvert_exporter": "python",
   "pygments_lexer": "ipython3",
   "version": "3.12.5"
  }
 },
 "nbformat": 4,
 "nbformat_minor": 5
}
