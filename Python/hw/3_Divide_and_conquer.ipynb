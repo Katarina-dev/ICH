{
 "cells": [
  {
   "cell_type": "code",
   "execution_count": null,
   "id": "30df5482-905e-4459-b0d7-47156c65d6e4",
   "metadata": {},
   "outputs": [],
   "source": [
    "Разделяй и властвуй"
   ]
  },
  {
   "cell_type": "code",
   "execution_count": 25,
   "id": "5b758061-c386-41e1-8ca2-4e09857dacca",
   "metadata": {},
   "outputs": [
    {
     "data": {
      "text/plain": [
       "3"
      ]
     },
     "execution_count": 25,
     "metadata": {},
     "output_type": "execute_result"
    }
   ],
   "source": [
    "# %%timeit\n",
    "def bin_search_recursive(arr, target, left, right):\n",
    "    if left > right:\n",
    "        return -1 # если элемент не найден\n",
    "    mid = (left+right) // 2\n",
    "    if arr[mid] == target:\n",
    "        return mid\n",
    "    elif arr[mid] > target:\n",
    "        return bin_search_recursive(arr, target, left, mid-1)\n",
    "    else:\n",
    "        return bin_search_recursive(arr, target, mid+1, right)\n",
    "\n",
    "arr = [1, 3, 5, 7, 9, 11, 13, 15]\n",
    "target = 7\n",
    "bin_search_recursive(arr, target, 0, len(arr)-1)"
   ]
  },
  {
   "cell_type": "code",
   "execution_count": 8,
   "id": "bcd1d7eb-541b-44f2-8898-550268ee6ad4",
   "metadata": {},
   "outputs": [
    {
     "name": "stdout",
     "output_type": "stream",
     "text": [
      "2.32 μs ± 82.3 ns per loop (mean ± std. dev. of 7 runs, 100,000 loops each)\n"
     ]
    }
   ],
   "source": [
    "%%timeit\n",
    "def bin_search_iter(arr, target):\n",
    "    left, right = 0, len(arr)-1\n",
    "\n",
    "    while left <= right:\n",
    "        mid = (left+right) // 2\n",
    "    if arr[mid] == target:\n",
    "        return mid\n",
    "\n",
    "    elif arr[mid] > target:\n",
    "        right = mid - 1\n",
    "    else:\n",
    "        left = mid + 1\n",
    "\n",
    "# arr = [1, 3, 5, 7, 9, 11, 13, 15]\n",
    "arr = range(1000)\n",
    "target = 7\n",
    "bin_search_recursive(arr, target, 0, len(arr)-1)"
   ]
  },
  {
   "cell_type": "code",
   "execution_count": null,
   "id": "47367f4d-2757-4110-8cee-01f4ec5fd415",
   "metadata": {},
   "outputs": [],
   "source": [
    "Дан отсортированный массив arr из n элементов. Магическим индексом называется такой индекс i,\n",
    "что arr[i] == i. Напишите функцию для поиска заданного элемента x в arr и возврата индекса x в\n",
    "массиве. Реализуйте два решения: на основе цикла и на основе “Разделяй и "
   ]
  },
  {
   "cell_type": "code",
   "execution_count": 10,
   "id": "76d87221-f750-4cae-b079-26f19efc4cf7",
   "metadata": {},
   "outputs": [
    {
     "data": {
      "text/plain": [
       "3"
      ]
     },
     "execution_count": 10,
     "metadata": {},
     "output_type": "execute_result"
    }
   ],
   "source": [
    "def find_magic_index_iter(arr):\n",
    "    for i in range(len(arr)): # range не возвращает последний элемент\n",
    "        if arr[i] == i:\n",
    "            return i\n",
    "    return 'ничего не найдено'\n",
    "    \n",
    "arr = [-1, -2, 1, 3, 5, 8, 11, 14, 15, 19]\n",
    "find_magic_index_iter(arr)"
   ]
  },
  {
   "cell_type": "code",
   "execution_count": 14,
   "id": "0dfe3e27-31f2-485c-8766-7fd3e10256b3",
   "metadata": {},
   "outputs": [
    {
     "data": {
      "text/plain": [
       "[3]"
      ]
     },
     "execution_count": 14,
     "metadata": {},
     "output_type": "execute_result"
    }
   ],
   "source": [
    "def find_magic_index_iter(arr):\n",
    "    res = []\n",
    "    for i in range(len(arr)): # range не возвращает последний элемент\n",
    "        if arr[i] == i:\n",
    "            res.append(i)\n",
    "    return res if res else 'ничего не найдено'\n",
    "    \n",
    "arr = [-1, -2, 1, 3, 5, 8, 11, 14, 15, 19]\n",
    "find_magic_index_iter(arr)"
   ]
  },
  {
   "cell_type": "code",
   "execution_count": 22,
   "id": "2b8d054b-49eb-47e9-a185-24a50cab2e4e",
   "metadata": {},
   "outputs": [
    {
     "data": {
      "text/plain": [
       "3"
      ]
     },
     "execution_count": 22,
     "metadata": {},
     "output_type": "execute_result"
    }
   ],
   "source": [
    "def find_magic_index_iter(arr, min_index, max_index):\n",
    "    if min_index > max_index:\n",
    "        return -1\n",
    "    mid = (min_index + max_index) // 2\n",
    "\n",
    "    if arr[mid] == mid:\n",
    "        return mid\n",
    "    \n",
    "    left_rec = find_magic_index_iter(arr, min_index, mid-1)\n",
    "    if left_rec != -1:\n",
    "        return left_rec\n",
    "    \n",
    "    return find_magic_index_iter(arr, mid+1, max_index)\n",
    "\n",
    "arr = [-1, -2, 1, 3, 5, 8, 11, 14, 15, 19]\n",
    "find_magic_index_iter(arr, arr[0], len(arr)-1)"
   ]
  },
  {
   "cell_type": "code",
   "execution_count": null,
   "id": "cc1bac35-0894-4660-be2e-e95f31ee40df",
   "metadata": {},
   "outputs": [],
   "source": [
    "Найти максимальный элемент в массиве.\n",
    "Известно, что в таком массиве максимум находится по соседству с меньшими элементами, т.е.\n",
    "предыдущий и следующий за ним элементы гарантировано меньше искомого.\n",
    "Пример входного массива: array [0,1,2,3,4,5,10,9,8,7,6]\n",
    "max = 10;"
   ]
  },
  {
   "cell_type": "code",
   "execution_count": 23,
   "id": "a3c70cb7-98d5-400b-b98f-287c91a5d84c",
   "metadata": {},
   "outputs": [
    {
     "data": {
      "text/plain": [
       "9999"
      ]
     },
     "execution_count": 23,
     "metadata": {},
     "output_type": "execute_result"
    }
   ],
   "source": [
    "def find_peak(arr):\n",
    "    left = 0\n",
    "    right = len(arr)-1\n",
    "    while left <= right:\n",
    "        mid = (left + right) // 2\n",
    "        if arr[mid] > arr[mid+1] and arr[mid] > arr[mid-1]:\n",
    "            return arr[mid]\n",
    "        if arr[mid-1] < arr[mid] and arr[mid] < arr[mid+1]:\n",
    "            left = mid + 1\n",
    "        else:\n",
    "            right = mid - 1\n",
    "\n",
    "arr = [1,2,4,7,8, 9999,3,2,1, -1,-4]\n",
    "find_peak(arr)\n",
    "            "
   ]
  },
  {
   "cell_type": "code",
   "execution_count": 24,
   "id": "a589171f-45ec-49b9-8b09-15404484931e",
   "metadata": {},
   "outputs": [
    {
     "data": {
      "text/plain": [
       "9999"
      ]
     },
     "execution_count": 24,
     "metadata": {},
     "output_type": "execute_result"
    }
   ],
   "source": [
    "def find_peak_recursion(arr, left, right):\n",
    "    mid = (left+right) // 2\n",
    "    if arr[mid] > arr[mid-1] and arr[mid] > arr[mid+1]:\n",
    "        return arr[mid]\n",
    "    if arr[mid-1] < arr[mid] and arr[mid] < arr[mid+1]:\n",
    "            find_peak_recursion(arr, left, mid - 1)\n",
    "    else:\n",
    "            find_peak_recursion(arr, mid + 1, right)\n",
    "\n",
    "arr = [1,2,4,7,8, 9999,3,2,1, -1,-4]\n",
    "find_peak_recursion(arr, 0, len(arr)-1)"
   ]
  },
  {
   "cell_type": "code",
   "execution_count": null,
   "id": "0b97c37c-2ae1-4a01-a9a8-7f46e01bfd5a",
   "metadata": {},
   "outputs": [],
   "source": []
  }
 ],
 "metadata": {
  "kernelspec": {
   "display_name": "Python 3 (ipykernel)",
   "language": "python",
   "name": "python3"
  },
  "language_info": {
   "codemirror_mode": {
    "name": "ipython",
    "version": 3
   },
   "file_extension": ".py",
   "mimetype": "text/x-python",
   "name": "python",
   "nbconvert_exporter": "python",
   "pygments_lexer": "ipython3",
   "version": "3.12.5"
  }
 },
 "nbformat": 4,
 "nbformat_minor": 5
}
