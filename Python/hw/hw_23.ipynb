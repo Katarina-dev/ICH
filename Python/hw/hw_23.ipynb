{
 "cells": [
  {
   "cell_type": "code",
   "execution_count": null,
   "id": "305acace-8054-42b5-a55c-7f424a31960c",
   "metadata": {},
   "outputs": [],
   "source": [
    "# 1. Напишите программу, которая генерирует и выводит квадраты чисел от 1 до N с использованием генераторного выражения. \n",
    "# Реализуйте функцию generate_squares, которая принимает число N в качестве аргумента и использует генераторное выражение для \n",
    "# генерации квадратов чисел. Затем выведите квадраты чисел на экран."
   ]
  },
  {
   "cell_type": "code",
   "execution_count": 6,
   "id": "87d67c8e-e59c-4092-aea3-538d92129d2b",
   "metadata": {},
   "outputs": [
    {
     "name": "stdin",
     "output_type": "stream",
     "text": [
      "Input number 5\n"
     ]
    },
    {
     "name": "stdout",
     "output_type": "stream",
     "text": [
      "1\n",
      "4\n",
      "9\n",
      "16\n",
      "25\n"
     ]
    }
   ],
   "source": [
    "def generate_squares(N):\n",
    "    yield [item ** 2 for item in range(1, N+1)]\n",
    "\n",
    "num = int(input('Input number'))\n",
    "for i in generate_squares(num):\n",
    "    print(*i, sep = '\\n')  \n",
    "\n",
    "    \n",
    "    \n",
    "    "
   ]
  },
  {
   "cell_type": "code",
   "execution_count": null,
   "id": "d98bf5c7-8118-49a0-9657-f2264e3b4064",
   "metadata": {},
   "outputs": [],
   "source": [
    "# 2. Напишите генератор, который будет генерировать бесконечную последовательность Фибоначчи. \n",
    "# Каждый раз, когда генератор вызывается, он должен возвращать следующее число последовательности. \n",
    "# Напишите программу, которая будет использовать этот генератор для вывода первых N чисел Фибоначчи."
   ]
  },
  {
   "cell_type": "code",
   "execution_count": 29,
   "id": "0a64b863-f8f4-4067-a169-ef2dd782046e",
   "metadata": {},
   "outputs": [
    {
     "name": "stdin",
     "output_type": "stream",
     "text": [
      "Input number 10\n"
     ]
    },
    {
     "name": "stdout",
     "output_type": "stream",
     "text": [
      "0\n",
      "1\n",
      "1\n",
      "2\n",
      "3\n",
      "5\n",
      "8\n",
      "13\n",
      "21\n",
      "34\n"
     ]
    }
   ],
   "source": [
    "def fibonacci(N):\n",
    "    a, b = 0, 1\n",
    "    for item in range(N):\n",
    "        yield a \n",
    "        a, b = b, a + b\n",
    "        \n",
    "\n",
    "fib = int(input('Input number'))\n",
    "for i in fibonacci(fib):\n",
    "    print(i)\n",
    "        \n",
    "        "
   ]
  },
  {
   "cell_type": "code",
   "execution_count": null,
   "id": "35218864-62ff-4d6f-b5c3-fbb106524abd",
   "metadata": {},
   "outputs": [],
   "source": []
  }
 ],
 "metadata": {
  "kernelspec": {
   "display_name": "Python 3 (ipykernel)",
   "language": "python",
   "name": "python3"
  },
  "language_info": {
   "codemirror_mode": {
    "name": "ipython",
    "version": 3
   },
   "file_extension": ".py",
   "mimetype": "text/x-python",
   "name": "python",
   "nbconvert_exporter": "python",
   "pygments_lexer": "ipython3",
   "version": "3.12.5"
  }
 },
 "nbformat": 4,
 "nbformat_minor": 5
}
