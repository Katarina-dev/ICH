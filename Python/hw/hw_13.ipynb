{
 "cells": [
  {
   "cell_type": "code",
   "execution_count": 1,
   "id": "ad3527b8-58a8-420c-890d-5dda18b11974",
   "metadata": {},
   "outputs": [
    {
     "name": "stdin",
     "output_type": "stream",
     "text": [
      "x >> 3\n",
      "y >> 4\n"
     ]
    },
    {
     "name": "stdout",
     "output_type": "stream",
     "text": [
      "(7, 12)\n"
     ]
    }
   ],
   "source": [
    "# 1. Напишите программу, которая принимает два числа и возвращает их сумму и произведение в виде кортежа (sum, product). \n",
    "#Используйте функцию для вычисления суммы и произведения. Выведите результат на экран с помощью команды print.\n",
    "def calculate():\n",
    "    x = int(input('x >>'))\n",
    "    y = int(input('y >>'))\n",
    "    sum = x + y\n",
    "    product = x * y\n",
    "    return sum, product\n",
    "\n",
    "res = calculate()\n",
    "print(res)"
   ]
  },
  {
   "cell_type": "code",
   "execution_count": 6,
   "id": "a7b51b65-abd4-4340-a9d4-4a07ffc859f4",
   "metadata": {},
   "outputs": [
    {
     "name": "stdin",
     "output_type": "stream",
     "text": [
      "Numbers: 1 2 33\n"
     ]
    },
    {
     "name": "stdout",
     "output_type": "stream",
     "text": [
      "(36, 33, 1)\n"
     ]
    }
   ],
   "source": [
    "#2. Напишите программу, которая принимает список чисел и возвращает сумму, минимальное и максимальное значение из списка. \n",
    "#Используйте функцию для обработки списка чисел и возврата трех значений. Выведите результат на экран с помощью команды print.\n",
    "\n",
    "def process_num(a):\n",
    "    return sum(a), max(a), min(a)\n",
    "\n",
    "list_num = input('Numbers:').split()\n",
    "list_num = list(map(int, list_num))\n",
    "res = process_num(list_num)                \n",
    "print(res)\n",
    "\n",
    "    \n",
    "    "
   ]
  },
  {
   "cell_type": "code",
   "execution_count": null,
   "id": "fda4e2ec-7ee8-4c08-b6f0-c131316de7bd",
   "metadata": {},
   "outputs": [],
   "source": []
  }
 ],
 "metadata": {
  "kernelspec": {
   "display_name": "Python 3 (ipykernel)",
   "language": "python",
   "name": "python3"
  },
  "language_info": {
   "codemirror_mode": {
    "name": "ipython",
    "version": 3
   },
   "file_extension": ".py",
   "mimetype": "text/x-python",
   "name": "python",
   "nbconvert_exporter": "python",
   "pygments_lexer": "ipython3",
   "version": "3.12.5"
  }
 },
 "nbformat": 4,
 "nbformat_minor": 5
}
