{
 "cells": [
  {
   "cell_type": "code",
   "execution_count": 1,
   "id": "fe6d0080-afff-49c1-83f0-ee54b9e9eb87",
   "metadata": {},
   "outputs": [],
   "source": [
    "import numpy as np"
   ]
  },
  {
   "cell_type": "code",
   "execution_count": 2,
   "id": "3e307dea-094d-4a96-92d8-caf70eea15ee",
   "metadata": {},
   "outputs": [],
   "source": [
    " #одномерный массив\n",
    "one_d_array = np.array([1,2,3])"
   ]
  },
  {
   "cell_type": "code",
   "execution_count": 3,
   "id": "f593b17b-4495-4bda-ae98-14a7a10414b7",
   "metadata": {},
   "outputs": [
    {
     "data": {
      "text/plain": [
       "array([[1, 2, 3],\n",
       "       [4, 5, 6]])"
      ]
     },
     "execution_count": 3,
     "metadata": {},
     "output_type": "execute_result"
    }
   ],
   "source": [
    "two_d_array = np.array([[1,2,3], [4,5,6]])\n",
    "two_d_array"
   ]
  },
  {
   "cell_type": "code",
   "execution_count": 6,
   "id": "ed0ea74e-cf70-4b5a-a757-3096b038bdab",
   "metadata": {},
   "outputs": [
    {
     "data": {
      "text/plain": [
       "array([[1, 2],\n",
       "       [3, 4]])"
      ]
     },
     "metadata": {},
     "output_type": "display_data"
    }
   ],
   "source": [
    "list_2d = [[1,2],[3,4]]\n",
    "two_d_array = np.array(list_2d)\n",
    "display(two_d_array)"
   ]
  },
  {
   "cell_type": "code",
   "execution_count": null,
   "id": "21756096-059e-4f06-8cff-2139187af288",
   "metadata": {},
   "outputs": [],
   "source": [
    "Данные, заисанные в строчку - одномерный массив, имеет одно измерение\n",
    "list = [1,2,3,4]"
   ]
  },
  {
   "cell_type": "code",
   "execution_count": 7,
   "id": "dc399ee2-5e46-4f3f-ad31-b751d0bdfdb8",
   "metadata": {},
   "outputs": [
    {
     "data": {
      "text/plain": [
       "array([[1],\n",
       "       [2],\n",
       "       [3],\n",
       "       [4]])"
      ]
     },
     "execution_count": 7,
     "metadata": {},
     "output_type": "execute_result"
    }
   ],
   "source": [
    "list_2d = [[1],[2],[3],[4]] # вектор-столбец, имеет 2 измерения\n",
    "two_d_array = np.array(list_2d)\n",
    "two_d_array"
   ]
  },
  {
   "cell_type": "code",
   "execution_count": 9,
   "id": "1e0fd767-bf20-4f76-a41e-be98f0ea8337",
   "metadata": {},
   "outputs": [
    {
     "ename": "TypeError",
     "evalue": "Field elements must be 2- or 3-tuples, got '20'",
     "output_type": "error",
     "traceback": [
      "\u001b[1;31m---------------------------------------------------------------------------\u001b[0m",
      "\u001b[1;31mTypeError\u001b[0m                                 Traceback (most recent call last)",
      "Cell \u001b[1;32mIn[9], line 1\u001b[0m\n\u001b[1;32m----> 1\u001b[0m col \u001b[38;5;241m=\u001b[39m \u001b[43mnp\u001b[49m\u001b[38;5;241;43m.\u001b[39;49m\u001b[43marray\u001b[49m\u001b[43m(\u001b[49m\u001b[43m[\u001b[49m\u001b[38;5;241;43m10\u001b[39;49m\u001b[43m]\u001b[49m\u001b[43m,\u001b[49m\u001b[43m \u001b[49m\u001b[43m[\u001b[49m\u001b[38;5;241;43m20\u001b[39;49m\u001b[43m]\u001b[49m\u001b[43m)\u001b[49m\n\u001b[0;32m      2\u001b[0m col_array \u001b[38;5;241m=\u001b[39m np\u001b[38;5;241m.\u001b[39marray(col)\n\u001b[0;32m      3\u001b[0m col_array\n",
      "\u001b[1;31mTypeError\u001b[0m: Field elements must be 2- or 3-tuples, got '20'"
     ]
    }
   ],
   "source": [
    "col = np.array([10], [20])\n",
    "col_array = np.array(col)\n",
    "col_array"
   ]
  },
  {
   "cell_type": "code",
   "execution_count": 11,
   "id": "2b79fe22-42b7-4d5a-bf94-18a4dd8688a9",
   "metadata": {},
   "outputs": [
    {
     "name": "stdout",
     "output_type": "stream",
     "text": [
      "[[1. 1. 1. 1.]\n",
      " [1. 1. 1. 1.]\n",
      " [1. 1. 1. 1.]]\n"
     ]
    }
   ],
   "source": [
    "ones_array = np.ones((3, 4)) # 3 строки, 4 столбца - размер массива\n",
    "print(ones_array)\n"
   ]
  },
  {
   "cell_type": "code",
   "execution_count": 12,
   "id": "ccb3c773-cdf5-4e35-bd17-2f792758761e",
   "metadata": {},
   "outputs": [
    {
     "name": "stdout",
     "output_type": "stream",
     "text": [
      "[[0. 0. 0. 0.]\n",
      " [0. 0. 0. 0.]\n",
      " [0. 0. 0. 0.]]\n"
     ]
    }
   ],
   "source": [
    "zeros_array = np.zeros_like(ones_array)\n",
    "print(zeros_array)"
   ]
  },
  {
   "cell_type": "code",
   "execution_count": 13,
   "id": "0fe6bd8c-d242-42fa-b352-0055da8ce27d",
   "metadata": {},
   "outputs": [
    {
     "name": "stdout",
     "output_type": "stream",
     "text": [
      "[0 2 4 6 8]\n",
      "[0. 2. 4. 6.]\n"
     ]
    }
   ],
   "source": [
    "a = np.arange(0, 9, 2) # 3 параметра - начало, конец и шаг\n",
    "print(a)\n",
    "b = np.arange(0., 8, 2)\n",
    "print(b)\n"
   ]
  },
  {
   "cell_type": "code",
   "execution_count": 14,
   "id": "362d1b94-2032-44c8-922f-ae665135e7dc",
   "metadata": {},
   "outputs": [
    {
     "name": "stdout",
     "output_type": "stream",
     "text": [
      "[0 1 2 3 4 5 6 7 8 9]\n"
     ]
    }
   ],
   "source": [
    "a = np.arange(10) # выводит просто целые числа от 0 до 10\n",
    "print(a)"
   ]
  },
  {
   "cell_type": "code",
   "execution_count": 15,
   "id": "45c29227-1164-4dd8-b87d-6db125916ddf",
   "metadata": {},
   "outputs": [
    {
     "name": "stdout",
     "output_type": "stream",
     "text": [
      "[0.         1.33333333 2.66666667 4.         5.33333333 6.66666667\n",
      " 8.        ]\n"
     ]
    }
   ],
   "source": [
    "a = np.linspace(0, 8, 7) # есть отрезок от 0 до 8, нужно поделить его \n",
    "#на равные кусочки так, чтобы отмеченных точек было 7 штук. т.е. 5 точек внутри и 2 точки по краям\n",
    "print(a)\n"
   ]
  },
  {
   "cell_type": "code",
   "execution_count": 16,
   "id": "2f22d566-d12e-4044-949c-d3e2d8ee034f",
   "metadata": {},
   "outputs": [
    {
     "name": "stdout",
     "output_type": "stream",
     "text": [
      "[0. 1. 2. 3. 4. 5. 6. 7. 8.]\n"
     ]
    }
   ],
   "source": [
    "a = np.linspace(0, 8, 9)\n",
    "print(a)"
   ]
  },
  {
   "cell_type": "code",
   "execution_count": 17,
   "id": "9f299d51-05e8-42dc-af66-b9aeccd07f2f",
   "metadata": {},
   "outputs": [
    {
     "name": "stdout",
     "output_type": "stream",
     "text": [
      "[0. 4. 8.]\n"
     ]
    }
   ],
   "source": [
    "a = np.linspace(0, 8, 3)\n",
    "print(a)"
   ]
  },
  {
   "cell_type": "code",
   "execution_count": 20,
   "id": "ae468600-ffa5-4393-a05f-555a828f37a4",
   "metadata": {},
   "outputs": [
    {
     "name": "stdout",
     "output_type": "stream",
     "text": [
      "[10.  10.5 11.  11.5 12.  12.5 13.  13.5 14.  14.5 15.  15.5 16.  16.5\n",
      " 17.  17.5 18.  18.5 19.  19.5 20. ]\n"
     ]
    }
   ],
   "source": [
    "# Создайте и выведите последовательность чисел от 10 до 20 \n",
    "# с постоянным шагом, длина последовательности – 21. Скажите сначала устно, какой должен быть ответ.\n",
    "a = np.linspace(10, 20, 21)\n",
    "print(a)"
   ]
  },
  {
   "cell_type": "code",
   "execution_count": null,
   "id": "65f19df6-5cf4-4677-82ca-c685355003d6",
   "metadata": {},
   "outputs": [],
   "source": []
  }
 ],
 "metadata": {
  "kernelspec": {
   "display_name": "Python 3 (ipykernel)",
   "language": "python",
   "name": "python3"
  },
  "language_info": {
   "codemirror_mode": {
    "name": "ipython",
    "version": 3
   },
   "file_extension": ".py",
   "mimetype": "text/x-python",
   "name": "python",
   "nbconvert_exporter": "python",
   "pygments_lexer": "ipython3",
   "version": "3.12.5"
  }
 },
 "nbformat": 4,
 "nbformat_minor": 5
}
