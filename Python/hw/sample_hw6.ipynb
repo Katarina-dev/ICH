{
 "cells": [
  {
   "cell_type": "code",
   "execution_count": null,
   "id": "c1838255-7ba4-4d6e-815d-07cbda5ec6f6",
   "metadata": {},
   "outputs": [],
   "source": [
    "1. Напишите программу, которая генерирует случайное число от 1 до 100, а затем предлагает пользователю угадать это число. \n",
    "Если пользователь угадывает число, программа выводит сообщение о победе. \n",
    "Если пользователь не угадывает число, программа сообщает, больше или меньше загаданное число и предлагает попробовать снова. \n",
    "Используйте цикл с инструкцией break, чтобы остановить выполнение цикла, когда число угадано."
   ]
  },
  {
   "cell_type": "code",
   "execution_count": 1,
   "id": "023e2f4d-f639-4295-ad1f-93892d9926b3",
   "metadata": {},
   "outputs": [
    {
     "name": "stdin",
     "output_type": "stream",
     "text": [
      "Input number >>> 70\n"
     ]
    },
    {
     "name": "stdout",
     "output_type": "stream",
     "text": [
      "Вводи меньшее число\n"
     ]
    },
    {
     "name": "stdin",
     "output_type": "stream",
     "text": [
      "Input number >>> 50\n"
     ]
    },
    {
     "name": "stdout",
     "output_type": "stream",
     "text": [
      "Вводи меньшее число\n"
     ]
    },
    {
     "name": "stdin",
     "output_type": "stream",
     "text": [
      "Input number >>> 40\n"
     ]
    },
    {
     "name": "stdout",
     "output_type": "stream",
     "text": [
      "Вводи меньшее число\n"
     ]
    },
    {
     "name": "stdin",
     "output_type": "stream",
     "text": [
      "Input number >>> 30\n"
     ]
    },
    {
     "name": "stdout",
     "output_type": "stream",
     "text": [
      "Вводи меньшее число\n"
     ]
    },
    {
     "name": "stdin",
     "output_type": "stream",
     "text": [
      "Input number >>> 20\n"
     ]
    },
    {
     "name": "stdout",
     "output_type": "stream",
     "text": [
      "Вводи большее число\n"
     ]
    },
    {
     "name": "stdin",
     "output_type": "stream",
     "text": [
      "Input number >>> 25\n"
     ]
    },
    {
     "name": "stdout",
     "output_type": "stream",
     "text": [
      "Вводи большее число\n"
     ]
    },
    {
     "name": "stdin",
     "output_type": "stream",
     "text": [
      "Input number >>> 26\n"
     ]
    },
    {
     "name": "stdout",
     "output_type": "stream",
     "text": [
      "Вводи большее число\n"
     ]
    },
    {
     "name": "stdin",
     "output_type": "stream",
     "text": [
      "Input number >>> 27\n"
     ]
    },
    {
     "name": "stdout",
     "output_type": "stream",
     "text": [
      "You win\n"
     ]
    }
   ],
   "source": [
    "import random\n",
    "\n",
    "number = random.randint(1, 100)\n",
    "\n",
    "while (ans := int(input('Input number >>>'))) != number:\n",
    "    print('Вводи меньшее число' if number < ans else 'Вводи большее число')\n",
    "else:\n",
    "    print('You win')"
   ]
  },
  {
   "cell_type": "code",
   "execution_count": null,
   "id": "649b2719-509f-4f35-85e5-53a75a0f34f9",
   "metadata": {},
   "outputs": [],
   "source": [
    "2. Напишите программу, которая запрашивает у пользователя число N и выводит первые N чисел Фибоначчи. \n",
    "Числа Фибоначчи - это последовательность чисел, где каждое следующее число является суммой двух предыдущих чисел (начиная с 0 и 1). \n",
    "Используйте цикл while для решения задачи. Выведите числа через запятую с помощью команды print."
   ]
  },
  {
   "cell_type": "code",
   "execution_count": 3,
   "id": "d71c4c49-5bb9-448d-a0c6-ac4121007d7f",
   "metadata": {},
   "outputs": [
    {
     "name": "stdin",
     "output_type": "stream",
     "text": [
      "N= 6\n"
     ]
    },
    {
     "name": "stdout",
     "output_type": "stream",
     "text": [
      "0, 1, 1, 2, 3, 5, "
     ]
    }
   ],
   "source": [
    "n = int(input('N='))\n",
    "\n",
    "a, b = 0, 1\n",
    "i = 0\n",
    "while i < n:\n",
    "    print(a, end = ', ')\n",
    "    a, b = b, a + b\n",
    "    i +=1"
   ]
  },
  {
   "cell_type": "code",
   "execution_count": null,
   "id": "ff8dab96-b89b-45ff-8dfc-c55b9abf3600",
   "metadata": {},
   "outputs": [],
   "source": []
  }
 ],
 "metadata": {
  "kernelspec": {
   "display_name": "Python 3 (ipykernel)",
   "language": "python",
   "name": "python3"
  },
  "language_info": {
   "codemirror_mode": {
    "name": "ipython",
    "version": 3
   },
   "file_extension": ".py",
   "mimetype": "text/x-python",
   "name": "python",
   "nbconvert_exporter": "python",
   "pygments_lexer": "ipython3",
   "version": "3.12.5"
  }
 },
 "nbformat": 4,
 "nbformat_minor": 5
}
