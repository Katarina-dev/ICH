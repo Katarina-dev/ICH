{
 "cells": [
  {
   "cell_type": "code",
   "execution_count": 3,
   "id": "fe6d0080-afff-49c1-83f0-ee54b9e9eb87",
   "metadata": {},
   "outputs": [],
   "source": [
    "import numpy as np"
   ]
  },
  {
   "cell_type": "code",
   "execution_count": 2,
   "id": "3e307dea-094d-4a96-92d8-caf70eea15ee",
   "metadata": {},
   "outputs": [],
   "source": [
    " #одномерный массив\n",
    "one_d_array = np.array([1,2,3])"
   ]
  },
  {
   "cell_type": "code",
   "execution_count": 3,
   "id": "f593b17b-4495-4bda-ae98-14a7a10414b7",
   "metadata": {},
   "outputs": [
    {
     "data": {
      "text/plain": [
       "array([[1, 2, 3],\n",
       "       [4, 5, 6]])"
      ]
     },
     "execution_count": 3,
     "metadata": {},
     "output_type": "execute_result"
    }
   ],
   "source": [
    "two_d_array = np.array([[1,2,3], [4,5,6]])\n",
    "two_d_array"
   ]
  },
  {
   "cell_type": "code",
   "execution_count": 6,
   "id": "ed0ea74e-cf70-4b5a-a757-3096b038bdab",
   "metadata": {},
   "outputs": [
    {
     "data": {
      "text/plain": [
       "array([[1, 2],\n",
       "       [3, 4]])"
      ]
     },
     "metadata": {},
     "output_type": "display_data"
    }
   ],
   "source": [
    "list_2d = [[1,2],[3,4]]\n",
    "two_d_array = np.array(list_2d)\n",
    "display(two_d_array)"
   ]
  },
  {
   "cell_type": "code",
   "execution_count": null,
   "id": "21756096-059e-4f06-8cff-2139187af288",
   "metadata": {},
   "outputs": [],
   "source": [
    "Данные, заисанные в строчку - одномерный массив (вектор), имеет одно измерение\n",
    "list = [1,2,3,4]"
   ]
  },
  {
   "cell_type": "code",
   "execution_count": 7,
   "id": "dc399ee2-5e46-4f3f-ad31-b751d0bdfdb8",
   "metadata": {},
   "outputs": [
    {
     "data": {
      "text/plain": [
       "array([[1],\n",
       "       [2],\n",
       "       [3],\n",
       "       [4]])"
      ]
     },
     "execution_count": 7,
     "metadata": {},
     "output_type": "execute_result"
    }
   ],
   "source": [
    "list_2d = [[1],[2],[3],[4]] # вектор-столбец, имеет 2 измерения (таблица)\n",
    "two_d_array = np.array(list_2d)\n",
    "two_d_array"
   ]
  },
  {
   "cell_type": "code",
   "execution_count": 4,
   "id": "1e0fd767-bf20-4f76-a41e-be98f0ea8337",
   "metadata": {},
   "outputs": [
    {
     "name": "stdout",
     "output_type": "stream",
     "text": [
      "[[10]\n",
      " [20]]\n"
     ]
    }
   ],
   "source": [
    "col = np.array([[10], [20]])\n",
    "print(col)"
   ]
  },
  {
   "cell_type": "code",
   "execution_count": 11,
   "id": "2b79fe22-42b7-4d5a-bf94-18a4dd8688a9",
   "metadata": {},
   "outputs": [
    {
     "name": "stdout",
     "output_type": "stream",
     "text": [
      "[[1. 1. 1. 1.]\n",
      " [1. 1. 1. 1.]\n",
      " [1. 1. 1. 1.]]\n"
     ]
    }
   ],
   "source": [
    "ones_array = np.ones((3, 4)) # 3 строки, 4 столбца - размер массива\n",
    "print(ones_array)\n"
   ]
  },
  {
   "cell_type": "code",
   "execution_count": 12,
   "id": "ccb3c773-cdf5-4e35-bd17-2f792758761e",
   "metadata": {},
   "outputs": [
    {
     "name": "stdout",
     "output_type": "stream",
     "text": [
      "[[0. 0. 0. 0.]\n",
      " [0. 0. 0. 0.]\n",
      " [0. 0. 0. 0.]]\n"
     ]
    }
   ],
   "source": [
    "zeros_array = np.zeros_like(ones_array)\n",
    "print(zeros_array)"
   ]
  },
  {
   "cell_type": "code",
   "execution_count": 13,
   "id": "0fe6bd8c-d242-42fa-b352-0055da8ce27d",
   "metadata": {},
   "outputs": [
    {
     "name": "stdout",
     "output_type": "stream",
     "text": [
      "[0 2 4 6 8]\n",
      "[0. 2. 4. 6.]\n"
     ]
    }
   ],
   "source": [
    "a = np.arange(0, 9, 2) # 3 параметра - начало, конец и шаг\n",
    "print(a)\n",
    "b = np.arange(0., 8, 2)\n",
    "print(b)\n"
   ]
  },
  {
   "cell_type": "code",
   "execution_count": 14,
   "id": "362d1b94-2032-44c8-922f-ae665135e7dc",
   "metadata": {},
   "outputs": [
    {
     "name": "stdout",
     "output_type": "stream",
     "text": [
      "[0 1 2 3 4 5 6 7 8 9]\n"
     ]
    }
   ],
   "source": [
    "a = np.arange(10) # выводит просто целые числа от 0 до 10\n",
    "print(a)"
   ]
  },
  {
   "cell_type": "code",
   "execution_count": 15,
   "id": "45c29227-1164-4dd8-b87d-6db125916ddf",
   "metadata": {},
   "outputs": [
    {
     "name": "stdout",
     "output_type": "stream",
     "text": [
      "[0.         1.33333333 2.66666667 4.         5.33333333 6.66666667\n",
      " 8.        ]\n"
     ]
    }
   ],
   "source": [
    "a = np.linspace(0, 8, 7) # есть отрезок от 0 до 8, нужно поделить его \n",
    "#на равные кусочки так, чтобы отмеченных точек было 7 штук. т.е. 5 точек внутри и 2 точки по краям\n",
    "print(a)\n"
   ]
  },
  {
   "cell_type": "code",
   "execution_count": 16,
   "id": "2f22d566-d12e-4044-949c-d3e2d8ee034f",
   "metadata": {},
   "outputs": [
    {
     "name": "stdout",
     "output_type": "stream",
     "text": [
      "[0. 1. 2. 3. 4. 5. 6. 7. 8.]\n"
     ]
    }
   ],
   "source": [
    "a = np.linspace(0, 8, 9)\n",
    "print(a)"
   ]
  },
  {
   "cell_type": "code",
   "execution_count": 17,
   "id": "9f299d51-05e8-42dc-af66-b9aeccd07f2f",
   "metadata": {},
   "outputs": [
    {
     "name": "stdout",
     "output_type": "stream",
     "text": [
      "[0. 4. 8.]\n"
     ]
    }
   ],
   "source": [
    "a = np.linspace(0, 8, 3)\n",
    "print(a)"
   ]
  },
  {
   "cell_type": "code",
   "execution_count": 20,
   "id": "ae468600-ffa5-4393-a05f-555a828f37a4",
   "metadata": {},
   "outputs": [
    {
     "name": "stdout",
     "output_type": "stream",
     "text": [
      "[10.  10.5 11.  11.5 12.  12.5 13.  13.5 14.  14.5 15.  15.5 16.  16.5\n",
      " 17.  17.5 18.  18.5 19.  19.5 20. ]\n"
     ]
    }
   ],
   "source": [
    "# Создайте и выведите последовательность чисел от 10 до 20 \n",
    "# с постоянным шагом, длина последовательности – 21. Скажите сначала устно, какой должен быть ответ.\n",
    "a = np.linspace(10, 20, 21)\n",
    "print(a)"
   ]
  },
  {
   "cell_type": "code",
   "execution_count": 5,
   "id": "65f19df6-5cf4-4677-82ca-c685355003d6",
   "metadata": {},
   "outputs": [
    {
     "data": {
      "text/plain": [
       "3"
      ]
     },
     "execution_count": 5,
     "metadata": {},
     "output_type": "execute_result"
    }
   ],
   "source": [
    "# Трехмерный массив\n",
    "three_d_array = np.array([[[1, 2], [3, 4]], [[5, 6], [7, 8]]])\n",
    "three_d_array.ndim #показывает размерность"
   ]
  },
  {
   "cell_type": "code",
   "execution_count": 6,
   "id": "1566bacb-a927-4d23-b227-2e8465ab9db9",
   "metadata": {},
   "outputs": [
    {
     "data": {
      "text/plain": [
       "np.int64(3)"
      ]
     },
     "execution_count": 6,
     "metadata": {},
     "output_type": "execute_result"
    }
   ],
   "source": [
    "three_d_array = np.array([[[1, 2], [3, 4]], [[5, 6], [7, 8]]])\n",
    "three_d_array[0, 1, 0]\n",
    "#[[1,2],[3,4]]\n",
    "#[3,4]\n",
    "#3\n",
    "#размерность - это сколько нам нужно написать индексов, чтобы добраться до объекта (кол-во элементов кортежа)"
   ]
  },
  {
   "cell_type": "code",
   "execution_count": 7,
   "id": "7d27c277-60c5-481b-8e46-9cb9a6308b5c",
   "metadata": {},
   "outputs": [
    {
     "data": {
      "text/plain": [
       "(2, 2, 2)"
      ]
     },
     "execution_count": 7,
     "metadata": {},
     "output_type": "execute_result"
    }
   ],
   "source": [
    "# Трехмерный массив\n",
    "three_d_array = np.array([[[1, 2], [3, 4]], [[5, 6], [7, 8]]])\n",
    "three_d_array.shape # описывает сколько длина в каждой размерности, самая полная информация (длина, ширина и т.д), это кортеж"
   ]
  },
  {
   "cell_type": "code",
   "execution_count": 17,
   "id": "0f1492a3-c82b-43a7-996d-de0f30a1943f",
   "metadata": {},
   "outputs": [
    {
     "data": {
      "text/plain": [
       "(3, 4)"
      ]
     },
     "execution_count": 17,
     "metadata": {},
     "output_type": "execute_result"
    }
   ],
   "source": [
    "ones_array = np.ones((3, 4))\n",
    "zeros_array = np.zeros_like(ones_array)\n",
    "zeros_array.shape"
   ]
  },
  {
   "cell_type": "code",
   "execution_count": 12,
   "id": "816d3036-567e-4e53-b6c7-a421299850a5",
   "metadata": {},
   "outputs": [
    {
     "data": {
      "text/plain": [
       "2"
      ]
     },
     "execution_count": 12,
     "metadata": {},
     "output_type": "execute_result"
    }
   ],
   "source": [
    "three_d_array = np.array([[[1, 2], [3, 4]], [[5, 6], [7, 8]]])\n",
    "len(three_d_array) #показывает количество строк (первый элемент кортежа shape)"
   ]
  },
  {
   "cell_type": "code",
   "execution_count": 13,
   "id": "53615d04-2dba-443c-8cce-614a11a51d28",
   "metadata": {},
   "outputs": [
    {
     "data": {
      "text/plain": [
       "8"
      ]
     },
     "execution_count": 13,
     "metadata": {},
     "output_type": "execute_result"
    }
   ],
   "source": [
    "three_d_array = np.array([[[1, 2], [3, 4]], [[5, 6], [7, 8]]])\n",
    "three_d_array.size #показывает произведение всех элементов shape (кортежа)"
   ]
  },
  {
   "cell_type": "code",
   "execution_count": null,
   "id": "ed330a39-dc2d-42f7-b3ad-273a4d69c93d",
   "metadata": {},
   "outputs": [],
   "source": [
    "# ndim, shape, len, size\n",
    "# shape -- кортеж\n",
    "# ndim -- кол-во элементов shape\n",
    "# len -- первый элемент shape\n",
    "# size -- произведение всех элементов shape"
   ]
  },
  {
   "cell_type": "code",
   "execution_count": 19,
   "id": "b73158ff-eaa8-4345-bdba-f3fa0e096bc9",
   "metadata": {},
   "outputs": [
    {
     "data": {
      "text/plain": [
       "(4, 3)"
      ]
     },
     "execution_count": 19,
     "metadata": {},
     "output_type": "execute_result"
    }
   ],
   "source": [
    "array = np.array([[1, 2, 3], [4, 5, 6], [7, 8, 9], [10, 11, 12]])\n",
    "array.shape"
   ]
  },
  {
   "cell_type": "code",
   "execution_count": null,
   "id": "ccec2279-1c6b-452a-8a96-bc628aca353a",
   "metadata": {},
   "outputs": [],
   "source": [
    "Под каждый элемент выделено фиксированное кол-во памяти.\n",
    "Все элементы в массиве имеют одинаковый тип !"
   ]
  },
  {
   "cell_type": "code",
   "execution_count": 20,
   "id": "c312e3a7-f79b-4a81-97cd-b98e9ace6d16",
   "metadata": {},
   "outputs": [
    {
     "data": {
      "text/plain": [
       "array([[1. , 2. , 3.1],\n",
       "       [4. , 5. , 6. ]])"
      ]
     },
     "execution_count": 20,
     "metadata": {},
     "output_type": "execute_result"
    }
   ],
   "source": [
    "# Массив вещественных чисел\n",
    "two_d_array = np.array([[1, 2, 3.1], [4, 5, 6]])\n",
    "two_d_array #если есть веществ.число в массиве, то все числа становятся вещественными"
   ]
  },
  {
   "cell_type": "code",
   "execution_count": 21,
   "id": "805fb79c-c37b-41e8-8ed9-8251a1bd8854",
   "metadata": {},
   "outputs": [
    {
     "data": {
      "text/plain": [
       "array([['1', '2', '3'],\n",
       "       ['A', 'B', 'C']], dtype='<U21')"
      ]
     },
     "execution_count": 21,
     "metadata": {},
     "output_type": "execute_result"
    }
   ],
   "source": [
    "# массив строк\n",
    "two_d_array = np.array([[1, 2, 3], [\"A\", \"B\", \"C\"]])\n",
    "two_d_array"
   ]
  },
  {
   "cell_type": "code",
   "execution_count": 22,
   "id": "06d389fc-49aa-4f48-ac46-f92abb7511ca",
   "metadata": {},
   "outputs": [
    {
     "data": {
      "text/plain": [
       "array([['1', '2', '3'],\n",
       "       ['A', 'B', 'CCCCCCCCCCCCCCCCCCCCCCCCCCCC']], dtype='<U28')"
      ]
     },
     "execution_count": 22,
     "metadata": {},
     "output_type": "execute_result"
    }
   ],
   "source": [
    "two_d_array = np.array([[1, 2, 3], [\"A\", \"B\", \"C\"*28]])\n",
    "two_d_array\n"
   ]
  },
  {
   "cell_type": "code",
   "execution_count": 24,
   "id": "20b071bd-9467-4137-a1a9-b10b650c53aa",
   "metadata": {},
   "outputs": [
    {
     "name": "stdout",
     "output_type": "stream",
     "text": [
      "8\n",
      "84\n"
     ]
    }
   ],
   "source": [
    "# сколько памяти занимает объект\n",
    "print(np.array([1, 2, 3]).itemsize)\n",
    "print(np.array([[1, 2, 3], [\"A\", \"B\", \"C\"]]).itemsize)\n",
    "#8 - значит 8 байт выделяется под целое число (1 элмент), это тип массива \"целые числа\"\n",
    "# под вещественные числа выделяется 8 байт\n",
    "# 44 == 11 * 4, потому что '<U11' означает не более 11 символов Unicode, каждый из которых кодируется не более чем 4 байтами."
   ]
  },
  {
   "cell_type": "code",
   "execution_count": 25,
   "id": "1f5c6ec6-c961-4df4-9a5f-4f956fe3dfea",
   "metadata": {},
   "outputs": [
    {
     "name": "stdout",
     "output_type": "stream",
     "text": [
      "[['1' '2' '3']\n",
      " ['A' 'B' 'C']]\n"
     ]
    },
    {
     "data": {
      "text/plain": [
       "array([['aaaaaaaaaabbbbbbbbbb', '2', '3'],\n",
       "       ['A', 'B', 'C']], dtype='<U21')"
      ]
     },
     "execution_count": 25,
     "metadata": {},
     "output_type": "execute_result"
    }
   ],
   "source": [
    "a = np.array([[1, 2, 3], [\"A\", \"B\", \"C\"]])\n",
    "print(a)\n",
    "a[0][0] = \"a\"*10+\"b\"*10\n",
    "a\n"
   ]
  },
  {
   "cell_type": "code",
   "execution_count": 26,
   "id": "a32754cf-9c58-41d3-be88-93d88f3c4b6e",
   "metadata": {},
   "outputs": [
    {
     "data": {
      "text/plain": [
       "array([['aaaaaaaaaaaaaaaaaaaab', '2', '3'],\n",
       "       ['A', 'B', 'C']], dtype='<U21')"
      ]
     },
     "execution_count": 26,
     "metadata": {},
     "output_type": "execute_result"
    }
   ],
   "source": [
    "a = np.array([[1, 2, 3], [\"A\", \"B\", \"C\"]])\n",
    "a[0][0] = \"a\"*20+\"b\"*10 #не поместятся все символы, т.к. 21 только поместится\n",
    "a"
   ]
  },
  {
   "cell_type": "code",
   "execution_count": 27,
   "id": "aa6517fc-13a3-4807-9fa7-481360191cf8",
   "metadata": {},
   "outputs": [
    {
     "ename": "SyntaxError",
     "evalue": "invalid syntax (1186922273.py, line 1)",
     "output_type": "error",
     "traceback": [
      "\u001b[1;36m  Cell \u001b[1;32mIn[27], line 1\u001b[1;36m\u001b[0m\n\u001b[1;33m    При создании матрицы пайтон выделяется память, где под каждый элемент выделяется не больше 21 байт (юникодная строка)\u001b[0m\n\u001b[1;37m        ^\u001b[0m\n\u001b[1;31mSyntaxError\u001b[0m\u001b[1;31m:\u001b[0m invalid syntax\n"
     ]
    }
   ],
   "source": [
    "При создании матрицы пайтон выделяется память, где под каждый элемент выделяется не больше 21 байт (юникодная строка)"
   ]
  },
  {
   "cell_type": "code",
   "execution_count": 28,
   "id": "c1683bce-7a5c-4cd2-a7c3-1e05a0dfad2c",
   "metadata": {},
   "outputs": [
    {
     "name": "stdout",
     "output_type": "stream",
     "text": [
      "[[1, 2, 3], ['A', 'B', 'C']]\n",
      "[[1, 2, 3.0], [4, 5, 6]]\n"
     ]
    }
   ],
   "source": [
    "#Список. Здась храним, что хотим в отличие от массива\n",
    "list_int_str = [[1, 2, 3], [\"A\", \"B\", \"C\"]]\n",
    "print(list_int_str)\n",
    "list_int_float = [[1, 2, 3.0], [4, 5, 6]]\n",
    "print(list_int_float)\n"
   ]
  },
  {
   "cell_type": "code",
   "execution_count": 29,
   "id": "e4cd6cf0-0a89-4eeb-ae39-a28dc85c1d83",
   "metadata": {},
   "outputs": [
    {
     "data": {
      "text/plain": [
       "[['1', '2', '3'], ['A', 'B', 'CCCCCCCCCCCCCCCCCCCCCCCCCCCC']]"
      ]
     },
     "execution_count": 29,
     "metadata": {},
     "output_type": "execute_result"
    }
   ],
   "source": [
    "#превращает массив в список\n",
    "two_d_array.tolist()\n"
   ]
  },
  {
   "cell_type": "code",
   "execution_count": 31,
   "id": "e166d6bf-2445-4e58-9333-bd1487834659",
   "metadata": {},
   "outputs": [
    {
     "data": {
      "text/plain": [
       "array([1., 2., 3.])"
      ]
     },
     "execution_count": 31,
     "metadata": {},
     "output_type": "execute_result"
    }
   ],
   "source": [
    "# Массив с определенным типом данных, задаем тип для каждого элемента массива float\n",
    "float_array = np.array([1, 2, 3], dtype=np.float64)\n",
    "float_array"
   ]
  },
  {
   "cell_type": "code",
   "execution_count": 32,
   "id": "f53af357-f732-4563-b17e-61e6459b7669",
   "metadata": {},
   "outputs": [
    {
     "name": "stdout",
     "output_type": "stream",
     "text": [
      "float64\n"
     ]
    }
   ],
   "source": [
    "# опросить тип данных\n",
    "float_array = np.array([1, 2, 3], dtype=np.float64)\n",
    "print(float_array.dtype) "
   ]
  },
  {
   "cell_type": "code",
   "execution_count": null,
   "id": "12c1d516-d32d-4fd6-aba6-ca3e6f96387f",
   "metadata": {},
   "outputs": [],
   "source": [
    "Менять тип данных уже созданного массива - дорогая операция для времени и памяти!"
   ]
  },
  {
   "cell_type": "code",
   "execution_count": 33,
   "id": "28f66b2b-eaa8-4278-8264-d1d2da7d4c1d",
   "metadata": {},
   "outputs": [
    {
     "name": "stdout",
     "output_type": "stream",
     "text": [
      "[1. 2. 3.]\n"
     ]
    }
   ],
   "source": [
    "#astype — это метод, который позволяет поменять тип уже существующего массива.\n",
    "int_array = np.array([1, 2, 3], dtype=np.int8)\n",
    "print(int_array.astype(np.float32))"
   ]
  },
  {
   "cell_type": "code",
   "execution_count": 34,
   "id": "2bd24629-58c8-46b0-a19c-783d5902c8b3",
   "metadata": {},
   "outputs": [
    {
     "name": "stdout",
     "output_type": "stream",
     "text": [
      "6\n"
     ]
    }
   ],
   "source": [
    "arr = np.array([1, 2, 3, 4, 5])\n",
    "print(arr[1] + arr[3])\n"
   ]
  },
  {
   "cell_type": "code",
   "execution_count": 35,
   "id": "33b07772-7e08-405f-9112-a4a4ad9deb85",
   "metadata": {},
   "outputs": [
    {
     "name": "stdout",
     "output_type": "stream",
     "text": [
      "float64\n"
     ]
    }
   ],
   "source": [
    "arr = np.array([1.0, 2, 3])\n",
    "print(arr.dtype)\n"
   ]
  },
  {
   "cell_type": "code",
   "execution_count": 36,
   "id": "e11b1e8d-0540-4de5-ab45-e0de9edd10c9",
   "metadata": {},
   "outputs": [
    {
     "name": "stdout",
     "output_type": "stream",
     "text": [
      "[ 5  7  9 11 13]\n"
     ]
    }
   ],
   "source": [
    "arr = np.arange(5, 15, 2)\n",
    "print(arr)"
   ]
  },
  {
   "cell_type": "code",
   "execution_count": null,
   "id": "5c2729c9-ae79-4aeb-83fa-14f0e4a28e1c",
   "metadata": {},
   "outputs": [],
   "source": [
    "Создайте одномерный массив из случайных чисел. Выведите его тип, размер и содержимое."
   ]
  },
  {
   "cell_type": "code",
   "execution_count": 37,
   "id": "e7d63645-dcd3-4cc5-ae50-ab86f3720272",
   "metadata": {},
   "outputs": [],
   "source": [
    "import random as rd"
   ]
  },
  {
   "cell_type": "code",
   "execution_count": 39,
   "id": "e55dc3d0-79af-4407-8284-479214939ae5",
   "metadata": {},
   "outputs": [
    {
     "data": {
      "text/plain": [
       "[0.7852768367953908,\n",
       " 0.01838433277286111,\n",
       " 0.5446391460403496,\n",
       " 0.6671560712293132,\n",
       " 0.441896019911457,\n",
       " 0.6746371797965551,\n",
       " 0.5877762928875282,\n",
       " 0.28735288917982893,\n",
       " 0.03814478852225345,\n",
       " 0.15969721079727472]"
      ]
     },
     "execution_count": 39,
     "metadata": {},
     "output_type": "execute_result"
    }
   ],
   "source": [
    "my_list = [rd.uniform(0, 1) for i in range(10)]\n",
    "my_list"
   ]
  },
  {
   "cell_type": "code",
   "execution_count": 41,
   "id": "3c85580f-a6e1-4777-ac5a-6c16166c138f",
   "metadata": {},
   "outputs": [
    {
     "data": {
      "text/plain": [
       "array([0.78527684, 0.01838433, 0.54463915, 0.66715607, 0.44189602,\n",
       "       0.67463718, 0.58777629, 0.28735289, 0.03814479, 0.15969721])"
      ]
     },
     "execution_count": 41,
     "metadata": {},
     "output_type": "execute_result"
    }
   ],
   "source": [
    "my_array = np.array(my_list)\n",
    "my_array"
   ]
  },
  {
   "cell_type": "code",
   "execution_count": 42,
   "id": "3232c969-08c8-4b97-bc92-a267f4bef966",
   "metadata": {},
   "outputs": [
    {
     "data": {
      "text/plain": [
       "dtype('float64')"
      ]
     },
     "execution_count": 42,
     "metadata": {},
     "output_type": "execute_result"
    }
   ],
   "source": [
    "my_array.dtype"
   ]
  },
  {
   "cell_type": "code",
   "execution_count": 43,
   "id": "8e3ea3da-69d3-4a72-abb1-fab6e1769840",
   "metadata": {},
   "outputs": [
    {
     "data": {
      "text/plain": [
       "10"
      ]
     },
     "execution_count": 43,
     "metadata": {},
     "output_type": "execute_result"
    }
   ],
   "source": [
    "my_array.size"
   ]
  },
  {
   "cell_type": "code",
   "execution_count": 44,
   "id": "c1378c46-d498-4ff3-a38f-14f3b959f3ea",
   "metadata": {},
   "outputs": [
    {
     "name": "stdout",
     "output_type": "stream",
     "text": [
      "[0.78527684 0.01838433 0.54463915 0.66715607 0.44189602 0.67463718\n",
      " 0.58777629 0.28735289 0.03814479 0.15969721]\n"
     ]
    }
   ],
   "source": [
    "print(my_array)"
   ]
  },
  {
   "cell_type": "code",
   "execution_count": null,
   "id": "2f0732e7-3f6a-496b-83e7-fb4d069b0d33",
   "metadata": {},
   "outputs": [],
   "source": [
    "Создайте массив размером 3x4, полностью заполненный единицами, и выведите его."
   ]
  },
  {
   "cell_type": "code",
   "execution_count": 47,
   "id": "54b53fda-c9e2-473f-aa55-1ead7928ae5a",
   "metadata": {},
   "outputs": [
    {
     "data": {
      "text/plain": [
       "array([[1., 1., 1., 1.],\n",
       "       [1., 1., 1., 1.],\n",
       "       [1., 1., 1., 1.]])"
      ]
     },
     "execution_count": 47,
     "metadata": {},
     "output_type": "execute_result"
    }
   ],
   "source": [
    "a_ones = np.ones((3,4))\n",
    "a_ones"
   ]
  },
  {
   "cell_type": "code",
   "execution_count": null,
   "id": "0e07e5f6-3a24-438c-9959-3e28e7c26fbf",
   "metadata": {},
   "outputs": [],
   "source": [
    "Используя функцию np.arange, создайте массив чисел от 0 до 10 с шагом 2. Затем\n",
    "создайте массив с теми же числами, используя np.linspace, и сравните результаты."
   ]
  },
  {
   "cell_type": "code",
   "execution_count": 52,
   "id": "0aa1cfff-10f1-45b7-9d23-87f154fdd2a9",
   "metadata": {},
   "outputs": [
    {
     "data": {
      "text/plain": [
       "array([ 0.,  2.,  4.,  6.,  8., 10.])"
      ]
     },
     "execution_count": 52,
     "metadata": {},
     "output_type": "execute_result"
    }
   ],
   "source": [
    "a = np.arange(0.,11,2)\n",
    "a"
   ]
  },
  {
   "cell_type": "code",
   "execution_count": 51,
   "id": "030476d5-b9ad-417d-8355-5d58fdb321f9",
   "metadata": {},
   "outputs": [
    {
     "data": {
      "text/plain": [
       "array([ 0.,  2.,  4.,  6.,  8., 10.])"
      ]
     },
     "execution_count": 51,
     "metadata": {},
     "output_type": "execute_result"
    }
   ],
   "source": [
    "a = np.linspace(0, 10, 6)\n",
    "a"
   ]
  },
  {
   "cell_type": "code",
   "execution_count": null,
   "id": "1138c7ca-e06c-47a5-8d72-c5a132f9e890",
   "metadata": {},
   "outputs": [],
   "source": []
  }
 ],
 "metadata": {
  "kernelspec": {
   "display_name": "Python 3 (ipykernel)",
   "language": "python",
   "name": "python3"
  },
  "language_info": {
   "codemirror_mode": {
    "name": "ipython",
    "version": 3
   },
   "file_extension": ".py",
   "mimetype": "text/x-python",
   "name": "python",
   "nbconvert_exporter": "python",
   "pygments_lexer": "ipython3",
   "version": "3.12.5"
  }
 },
 "nbformat": 4,
 "nbformat_minor": 5
}
