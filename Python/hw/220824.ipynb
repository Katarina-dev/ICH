{
 "cells": [
  {
   "cell_type": "code",
   "execution_count": 1,
   "id": "5e4ea871-3a6a-42b7-ad05-b9921ed186b3",
   "metadata": {},
   "outputs": [
    {
     "name": "stdout",
     "output_type": "stream",
     "text": [
      "True\n"
     ]
    }
   ],
   "source": [
    "a = bool(1)\n",
    "print(a)"
   ]
  },
  {
   "cell_type": "code",
   "execution_count": 2,
   "id": "efe526ac-a797-47fc-b97d-cee1c0e512e2",
   "metadata": {},
   "outputs": [
    {
     "data": {
      "text/plain": [
       "bool"
      ]
     },
     "execution_count": 2,
     "metadata": {},
     "output_type": "execute_result"
    }
   ],
   "source": [
    "a = bool(1)\n",
    "type(a)"
   ]
  },
  {
   "cell_type": "code",
   "execution_count": 3,
   "id": "fd5451e9-d406-4206-9fa9-6146d18693d6",
   "metadata": {},
   "outputs": [
    {
     "name": "stdout",
     "output_type": "stream",
     "text": [
      "<class 'bool'>\n",
      "False\n"
     ]
    }
   ],
   "source": [
    "a = bool('')\n",
    "print(type(a))\n",
    "print(a)"
   ]
  },
  {
   "cell_type": "code",
   "execution_count": 4,
   "id": "733b6a3e-5135-4bea-a906-9691ed9b45dd",
   "metadata": {},
   "outputs": [
    {
     "name": "stdin",
     "output_type": "stream",
     "text": [
      " False\n"
     ]
    },
    {
     "name": "stdout",
     "output_type": "stream",
     "text": [
      "<class 'str'>\n",
      "False\n"
     ]
    }
   ],
   "source": [
    "a = input()\n",
    "print(type(a))\n",
    "print(a)"
   ]
  },
  {
   "cell_type": "code",
   "execution_count": null,
   "id": "a8e0cd13-fed2-4fd8-81c5-bfd8d4706ea3",
   "metadata": {},
   "outputs": [],
   "source": [
    "a = False\n",
    "b = 'False'"
   ]
  },
  {
   "cell_type": "code",
   "execution_count": 5,
   "id": "9977dceb-e074-4e3b-be36-f7162cd68a3e",
   "metadata": {},
   "outputs": [
    {
     "name": "stdout",
     "output_type": "stream",
     "text": [
      "False\n"
     ]
    }
   ],
   "source": [
    "x = 55\n",
    "print(x is None)\n",
    "if x is None:\n",
    "    print(\"Переменная х не имеет значения\")"
   ]
  },
  {
   "cell_type": "code",
   "execution_count": 6,
   "id": "6f06eb39-1d23-4591-a62e-6fbc54d122a2",
   "metadata": {},
   "outputs": [
    {
     "data": {
      "text/plain": [
       "3113625228736"
      ]
     },
     "execution_count": 6,
     "metadata": {},
     "output_type": "execute_result"
    }
   ],
   "source": [
    "a = 'asda'\n",
    "id(a)"
   ]
  },
  {
   "cell_type": "code",
   "execution_count": 7,
   "id": "d43e2271-d7af-40b3-8435-29fcf1d0078d",
   "metadata": {},
   "outputs": [
    {
     "data": {
      "text/plain": [
       "140716504975800"
      ]
     },
     "execution_count": 7,
     "metadata": {},
     "output_type": "execute_result"
    }
   ],
   "source": [
    "id(1)"
   ]
  },
  {
   "cell_type": "code",
   "execution_count": 8,
   "id": "692e95ff-6390-4d4d-8a35-4cd88e6b594b",
   "metadata": {},
   "outputs": [
    {
     "data": {
      "text/plain": [
       "3113646317680"
      ]
     },
     "execution_count": 8,
     "metadata": {},
     "output_type": "execute_result"
    }
   ],
   "source": [
    "id(300)"
   ]
  },
  {
   "cell_type": "code",
   "execution_count": null,
   "id": "6dc453e0-17f7-4607-88fd-9a42b53e047a",
   "metadata": {},
   "outputs": [],
   "source": [
    "a >= 5\n",
    "a <= 15"
   ]
  },
  {
   "cell_type": "code",
   "execution_count": 10,
   "id": "33ae32ef-f916-466c-a94a-001c618a432b",
   "metadata": {},
   "outputs": [
    {
     "name": "stdout",
     "output_type": "stream",
     "text": [
      "False\n"
     ]
    }
   ],
   "source": [
    "a = 16\n",
    "print(5 <= a <= 15)"
   ]
  },
  {
   "cell_type": "code",
   "execution_count": null,
   "id": "42eafff7-81f6-43e4-813d-0de29b859b35",
   "metadata": {},
   "outputs": [],
   "source": [
    " ¬((A ∨ B) ∧ (C ∨ D)) и ((¬A ∧ ¬B) ∨ (¬C ∧ ¬D)). \n",
    "¬   not\n",
    "∧   and\n",
    "∨   or\n",
    "not((A or B) and "
   ]
  },
  {
   "cell_type": "code",
   "execution_count": null,
   "id": "9fcd3535-ef04-4285-8b99-fc598789a01b",
   "metadata": {},
   "outputs": [],
   "source": [
    "a = bool(input(Введите либо адракадабру, либо сразу нажмите Enter))"
   ]
  },
  {
   "cell_type": "code",
   "execution_count": null,
   "id": "3645e3c9-35c3-4974-ab7a-adc48d3c1d3b",
   "metadata": {},
   "outputs": [],
   "source": [
    "a = input('Введите True или False')\n",
    "if a == 'False':\n",
    "    a_bool = False\n",
    "if a == 'True':\n",
    "    a_bool = True   "
   ]
  },
  {
   "cell_type": "code",
   "execution_count": null,
   "id": "36db3fd1-080e-44c2-bd98-1a9ba75c5e7d",
   "metadata": {},
   "outputs": [],
   "source": [
    "a = input('Введите либо абрукадабру либо сразу нажмиие Enter')\n",
    "a = bool(a)\n",
    "print(type(a))"
   ]
  }
 ],
 "metadata": {
  "kernelspec": {
   "display_name": "Python 3 (ipykernel)",
   "language": "python",
   "name": "python3"
  },
  "language_info": {
   "codemirror_mode": {
    "name": "ipython",
    "version": 3
   },
   "file_extension": ".py",
   "mimetype": "text/x-python",
   "name": "python",
   "nbconvert_exporter": "python",
   "pygments_lexer": "ipython3",
   "version": "3.12.5"
  }
 },
 "nbformat": 4,
 "nbformat_minor": 5
}
