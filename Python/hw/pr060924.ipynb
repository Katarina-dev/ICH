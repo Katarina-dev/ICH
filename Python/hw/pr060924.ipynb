{
 "cells": [
  {
   "cell_type": "code",
   "execution_count": 19,
   "id": "66933ba8-779d-4450-98b7-49f7eb245808",
   "metadata": {},
   "outputs": [
    {
     "name": "stdin",
     "output_type": "stream",
     "text": [
      "Введите целое трехзначное число :  234\n"
     ]
    },
    {
     "name": "stdout",
     "output_type": "stream",
     "text": [
      "9\n"
     ]
    }
   ],
   "source": [
    "n = int(input('Введите целое трехзначное число : '))\n",
    "n_1 = n // 100\n",
    "n_2 = n // 10 % 10\n",
    "n_3 = n % 10\n",
    "s = n_1 + n_2 + n_3\n",
    "print(s) "
   ]
  },
  {
   "cell_type": "code",
   "execution_count": 3,
   "id": "e6ed7665-1b0d-45b2-b83a-64a57d93de3c",
   "metadata": {},
   "outputs": [
    {
     "name": "stdin",
     "output_type": "stream",
     "text": [
      "n>> 123321\n"
     ]
    },
    {
     "name": "stdout",
     "output_type": "stream",
     "text": [
      "Yes\n"
     ]
    }
   ],
   "source": [
    "n = int(input('n>>'))\n",
    "y = n\n",
    "res = ''\n",
    "while n > 0:\n",
    "    remainder = n % 10\n",
    "    res = res + str(remainder)\n",
    "    n //= 10\n",
    "res = 'Yes' if int(res) == y else 'No'\n",
    "print(res)"
   ]
  },
  {
   "cell_type": "code",
   "execution_count": 18,
   "id": "48f5f747-a76d-4e6f-9f74-6b21347a9234",
   "metadata": {},
   "outputs": [
    {
     "name": "stdin",
     "output_type": "stream",
     "text": [
      "n>> 3454345345349\n"
     ]
    },
    {
     "name": "stdout",
     "output_type": "stream",
     "text": [
      "No\n"
     ]
    }
   ],
   "source": [
    "n = int(input('n>>'))\n",
    "y = n\n",
    "rev_num = 0\n",
    "\n",
    "while n > 0:\n",
    "    reminder = n % 10\n",
    "    rev_num = rev_num * 10 + reminder\n",
    "    n //= 10\n",
    "res = 'Yes' if rev_num == y else 'No'\n",
    "print(res)"
   ]
  },
  {
   "cell_type": "code",
   "execution_count": null,
   "id": "8974ce2b-c285-434c-8f91-5ade76b790e2",
   "metadata": {},
   "outputs": [],
   "source": [
    "n = int(input('n>>'))\n",
    "res_bin = ''\n",
    "print(bin(n))\n",
    "while n > 0:\n",
    "    remainder = n % 2\n",
    "    res_bin = str(remainder) + res_bin\n",
    "    n //= 2\n",
    "print(res_bin)"
   ]
  },
  {
   "cell_type": "code",
   "execution_count": null,
   "id": "1972cf5a-bc79-4d2b-9483-edc17950bd54",
   "metadata": {},
   "outputs": [],
   "source": [
    "n = input('n>>')\n",
    "\n",
    "num_digits = len(n)\n",
    "n = int(n)\n",
    "y = n\n",
    "summa = 0\n",
    "\n",
    "while n > 0:\n",
    "    remainder = n % 10\n",
    "    summa += remainder ** num_digits\n",
    "    n //= 10\n",
    "\n",
    "res = 'Yes' if summa == y else 'No'\n",
    "print(res)"
   ]
  },
  {
   "cell_type": "code",
   "execution_count": 15,
   "id": "bfa53be0-969b-473e-95d1-e8197c81b75c",
   "metadata": {},
   "outputs": [
    {
     "name": "stdin",
     "output_type": "stream",
     "text": [
      "n= 36\n"
     ]
    },
    {
     "name": "stdout",
     "output_type": "stream",
     "text": [
      "подъезд 1\n"
     ]
    }
   ],
   "source": [
    "flat = int(input('n='))\n",
    "entrance = (flat-1) // 36 + 1\n",
    "print (f'подъезд {entrance}')"
   ]
  },
  {
   "cell_type": "code",
   "execution_count": null,
   "id": "25818a9f-3710-4a27-85e0-be24d2d9fac9",
   "metadata": {},
   "outputs": [],
   "source": [
    "x = float(input('n='))\n",
    "integer_part = int(x)\n",
    "frac_part = x - integer_part\n",
    "\n",
    "if x > 0:\n",
    "    integer_part += 1 if frac_part >= 0.5 else 0\n",
    "else:\n",
    "    integer_part -= 1 if frac_part >= 0.5 else 0\n",
    "print(integer_part)"
   ]
  },
  {
   "cell_type": "code",
   "execution_count": null,
   "id": "c89c1342-29e1-4da6-a9b9-7e638f75f1ce",
   "metadata": {},
   "outputs": [],
   "source": [
    "import math\n",
    "\n",
    "sin_x = 0\n",
    "x = 0.5\n",
    "i = 0\n",
    "while i < 20:\n",
    "    sin_x += (-1) ** i * x**(2*i+1) / math.factorial(2*i+1)\n",
    "    i += 1\n",
    "\n",
    "\n",
    "print(sin_x)\n",
    "\n",
    "print(math.sin(x))"
   ]
  }
 ],
 "metadata": {
  "kernelspec": {
   "display_name": "Python 3 (ipykernel)",
   "language": "python",
   "name": "python3"
  },
  "language_info": {
   "codemirror_mode": {
    "name": "ipython",
    "version": 3
   },
   "file_extension": ".py",
   "mimetype": "text/x-python",
   "name": "python",
   "nbconvert_exporter": "python",
   "pygments_lexer": "ipython3",
   "version": "3.12.5"
  }
 },
 "nbformat": 4,
 "nbformat_minor": 5
}
