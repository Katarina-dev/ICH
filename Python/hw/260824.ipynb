{
 "cells": [
  {
   "cell_type": "code",
   "execution_count": 9,
   "id": "74d3823c-3cfe-41da-a910-5611323407b1",
   "metadata": {},
   "outputs": [
    {
     "name": "stdin",
     "output_type": "stream",
     "text": [
      "Идет дождь? да\n"
     ]
    },
    {
     "name": "stdout",
     "output_type": "stream",
     "text": [
      "Нужно взять зонт!\n"
     ]
    }
   ],
   "source": [
    "rain = input('Идет дождь?')\n",
    "if rain == 'да':\n",
    "    print('Нужно взять зонт!')\n",
    "else: \n",
    "    print('Зонт брать не нужно')"
   ]
  },
  {
   "cell_type": "code",
   "execution_count": null,
   "id": "02f20b58-9b85-475b-a461-4b229e1908ae",
   "metadata": {},
   "outputs": [],
   "source": [
    "x, y = int(input('x=')), int(input('y='))\n",
    "\n",
    "if x and y:\n",
    "    print('1')"
   ]
  },
  {
   "cell_type": "code",
   "execution_count": null,
   "id": "319b66be-cdb5-4000-bf8e-dc73bf9bda40",
   "metadata": {},
   "outputs": [],
   "source": [
    "if x <= 0:\n",
    "    print('х меньше или равно 0')\n",
    "elif x > 0 and x <10:\n",
    "    print('х от 0 до 10')\n",
    "else:\n",
    "    print('х больше или равно 10')"
   ]
  },
  {
   "cell_type": "code",
   "execution_count": 11,
   "id": "c1a6bdeb-3000-4c1b-8eca-e408f0b7b606",
   "metadata": {},
   "outputs": [
    {
     "name": "stdin",
     "output_type": "stream",
     "text": [
      "name= Katya\n"
     ]
    },
    {
     "name": "stdout",
     "output_type": "stream",
     "text": [
      "KATYA\n"
     ]
    }
   ],
   "source": [
    "text = input('name=')\n",
    "if len(text) > 0:\n",
    "    print(text.upper())\n",
    "else:\n",
    "    print('No name')"
   ]
  },
  {
   "cell_type": "code",
   "execution_count": 12,
   "id": "ae1a0d69-7b30-4325-8265-80daf009018b",
   "metadata": {},
   "outputs": [
    {
     "name": "stdin",
     "output_type": "stream",
     "text": [
      "name= \n"
     ]
    },
    {
     "name": "stdout",
     "output_type": "stream",
     "text": [
      "No name\n"
     ]
    }
   ],
   "source": [
    "text = input('name=')\n",
    "if not text:\n",
    "    print('No name')"
   ]
  },
  {
   "cell_type": "code",
   "execution_count": 13,
   "id": "d7f5c09d-226c-494d-9ba9-7ea7081a568f",
   "metadata": {},
   "outputs": [
    {
     "name": "stdin",
     "output_type": "stream",
     "text": [
      "name= \n"
     ]
    },
    {
     "name": "stdout",
     "output_type": "stream",
     "text": [
      "No name\n"
     ]
    }
   ],
   "source": [
    "text = input('name=')\n",
    "if text:\n",
    "    print(text.upper())\n",
    "else:\n",
    "    print('No name')"
   ]
  },
  {
   "cell_type": "code",
   "execution_count": 14,
   "id": "877f1832-80d1-45f3-b857-6b30386fcc77",
   "metadata": {},
   "outputs": [
    {
     "name": "stdin",
     "output_type": "stream",
     "text": [
      "number= 23\n"
     ]
    },
    {
     "name": "stdout",
     "output_type": "stream",
     "text": [
      "ODD\n"
     ]
    }
   ],
   "source": [
    "number = int(input('number='))\n",
    "if number % 2:\n",
    "    res = 'Odd'\n",
    "else:\n",
    "    res = 'Even'\n",
    "\n",
    "print(res.upper())"
   ]
  },
  {
   "cell_type": "code",
   "execution_count": null,
   "id": "c391883d-ce90-4f75-b5a2-32afff7ecd7b",
   "metadata": {},
   "outputs": [],
   "source": [
    "number = int(input('number='))\n",
    "res = 'Odd' if number % 2 else 'Even'\n",
    "print(res.upper())"
   ]
  },
  {
   "cell_type": "code",
   "execution_count": null,
   "id": "4929eb9c-3acc-4753-93b1-5e7e0afe9d3f",
   "metadata": {},
   "outputs": [],
   "source": [
    "number = int(input('number='))\n",
    "if number == 0:\n",
    "    number = 1\n",
    "\n",
    "number = number or 1 #если 0, то берем 0, если 1, то 1"
   ]
  },
  {
   "cell_type": "code",
   "execution_count": 2,
   "id": "adcdae71-538e-4d46-9a11-9c486ea09b74",
   "metadata": {},
   "outputs": [
    {
     "name": "stdin",
     "output_type": "stream",
     "text": [
      "number= 4\n"
     ]
    },
    {
     "name": "stdout",
     "output_type": "stream",
     "text": [
      "Even\n"
     ]
    }
   ],
   "source": [
    "number = int(input('number='))\n",
    "if not number % 2:\n",
    "   print('Even')"
   ]
  },
  {
   "cell_type": "code",
   "execution_count": null,
   "id": "eac0f088-002a-44a1-aefb-38bda1cf31b4",
   "metadata": {},
   "outputs": [],
   "source": []
  }
 ],
 "metadata": {
  "kernelspec": {
   "display_name": "Python 3 (ipykernel)",
   "language": "python",
   "name": "python3"
  },
  "language_info": {
   "codemirror_mode": {
    "name": "ipython",
    "version": 3
   },
   "file_extension": ".py",
   "mimetype": "text/x-python",
   "name": "python",
   "nbconvert_exporter": "python",
   "pygments_lexer": "ipython3",
   "version": "3.12.5"
  }
 },
 "nbformat": 4,
 "nbformat_minor": 5
}
