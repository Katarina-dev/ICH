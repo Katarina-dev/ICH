{
 "cells": [
  {
   "cell_type": "code",
   "execution_count": null,
   "id": "47441b07-3d64-4272-b11b-4d15e9e349bd",
   "metadata": {},
   "outputs": [],
   "source": [
    "#1. Напишите программу, которая открывает файл, считывает из него два числа и выполняет операцию их деления. \n",
    "#Если число отрицательное, выбросите исключение ValueError с сообщением \"Число должно быть положительным\". \n",
    "#Обработайте исключение и выведите соответствующее сообщение."
   ]
  },
  {
   "cell_type": "code",
   "execution_count": 1,
   "id": "4e6ebeed-5fbb-4d21-819f-a88592390108",
   "metadata": {},
   "outputs": [
    {
     "name": "stdout",
     "output_type": "stream",
     "text": [
      "Number must be positive\n"
     ]
    }
   ],
   "source": [
    "def division (filename):\n",
    "    with open(filename) as file:\n",
    "            x = int(file.readline())\n",
    "            y = int(file.readline())\n",
    " \n",
    "            if x < 0 or y < 0:\n",
    "                raise ValueError('Number must be positive')\n",
    "    return x / y\n",
    "\n",
    "try:         \n",
    "    with open('v3.txt', 'w') as file:\n",
    "        file.write('20\\n-4')\n",
    "    div = division('v3.txt')\n",
    "    print(div)\n",
    "except ValueError as error:\n",
    "    print(error)\n",
    "\n"
   ]
  },
  {
   "cell_type": "code",
   "execution_count": 18,
   "id": "3a90d927-aca0-4e51-9773-2e28b34553d6",
   "metadata": {},
   "outputs": [],
   "source": [
    "#2. Напишите программу, которая открывает файл, считывает его содержимое и выполняет операции над числами в файле. \n",
    "#Обработайте возможные исключения при открытии файла (FileNotFoundError) и при выполнении операций над числами \n",
    "#(ValueError, ZeroDivisionError). \n",
    "Используйте конструкцию try-except-finally для обработки исключений и закрытия файла в блоке finally."
   ]
  },
  {
   "cell_type": "code",
   "execution_count": 17,
   "id": "1e9ae8e2-0d26-40a6-b0be-c1cc0fd242bd",
   "metadata": {},
   "outputs": [
    {
     "name": "stdout",
     "output_type": "stream",
     "text": [
      "File not found\n"
     ]
    }
   ],
   "source": [
    "from importlib.resources import contents\n",
    "try:\n",
    "    file = open(\"test_exc.txt\", \"r\")\n",
    "    content = file.read()\n",
    "\n",
    "    numbers = [int(num) for num in content.split()]\n",
    "    res = numbers[1] / numbers[4]\n",
    "\n",
    "except FileNotFoundError:\n",
    "    print('File not found')\n",
    "except PermissionError:\n",
    "    print('You don\\'t have access')\n",
    "except ZeroDivisionError:\n",
    "    print('You can\\'t divide by zero')\n",
    "finally:\n",
    "    file.close()"
   ]
  },
  {
   "cell_type": "code",
   "execution_count": null,
   "id": "3bf82983-8f37-48d1-a6ab-42f8732e8d10",
   "metadata": {},
   "outputs": [],
   "source": []
  }
 ],
 "metadata": {
  "kernelspec": {
   "display_name": "Python 3 (ipykernel)",
   "language": "python",
   "name": "python3"
  },
  "language_info": {
   "codemirror_mode": {
    "name": "ipython",
    "version": 3
   },
   "file_extension": ".py",
   "mimetype": "text/x-python",
   "name": "python",
   "nbconvert_exporter": "python",
   "pygments_lexer": "ipython3",
   "version": "3.12.5"
  }
 },
 "nbformat": 4,
 "nbformat_minor": 5
}
