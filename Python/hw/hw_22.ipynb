{
 "cells": [
  {
   "cell_type": "code",
   "execution_count": null,
   "id": "47441b07-3d64-4272-b11b-4d15e9e349bd",
   "metadata": {},
   "outputs": [],
   "source": [
    "#1. Напишите программу, которая открывает файл, считывает из него два числа и выполняет операцию их деления. \n",
    "#Если число отрицательное, выбросите исключение ValueError с сообщением \"Число должно быть положительным\". \n",
    "#Обработайте исключение и выведите соответствующее сообщение."
   ]
  },
  {
   "cell_type": "code",
   "execution_count": 16,
   "id": "4e6ebeed-5fbb-4d21-819f-a88592390108",
   "metadata": {},
   "outputs": [
    {
     "ename": "ValueError",
     "evalue": "Number must be positive",
     "output_type": "error",
     "traceback": [
      "\u001b[1;31m---------------------------------------------------------------------------\u001b[0m",
      "\u001b[1;31mValueError\u001b[0m                                Traceback (most recent call last)",
      "Cell \u001b[1;32mIn[16], line 16\u001b[0m\n\u001b[0;32m     13\u001b[0m \u001b[38;5;28;01mexcept\u001b[39;00m \u001b[38;5;167;01mValueError\u001b[39;00m:\n\u001b[0;32m     14\u001b[0m     \u001b[38;5;28mprint\u001b[39m(\u001b[38;5;124m'\u001b[39m\u001b[38;5;124mNumber must be positive\u001b[39m\u001b[38;5;124m'\u001b[39m)\n\u001b[1;32m---> 16\u001b[0m div \u001b[38;5;241m=\u001b[39m \u001b[43mdivision\u001b[49m\u001b[43m(\u001b[49m\u001b[38;5;124;43m'\u001b[39;49m\u001b[38;5;124;43mv3.txt\u001b[39;49m\u001b[38;5;124;43m'\u001b[39;49m\u001b[43m)\u001b[49m\n\u001b[0;32m     17\u001b[0m \u001b[38;5;28mprint\u001b[39m(div)\n",
      "Cell \u001b[1;32mIn[16], line 7\u001b[0m, in \u001b[0;36mdivision\u001b[1;34m(filename)\u001b[0m\n\u001b[0;32m      4\u001b[0m         y \u001b[38;5;241m=\u001b[39m \u001b[38;5;28mint\u001b[39m(file\u001b[38;5;241m.\u001b[39mreadline())\n\u001b[0;32m      6\u001b[0m         \u001b[38;5;28;01mif\u001b[39;00m x \u001b[38;5;241m<\u001b[39m \u001b[38;5;241m0\u001b[39m \u001b[38;5;129;01mor\u001b[39;00m y \u001b[38;5;241m<\u001b[39m \u001b[38;5;241m0\u001b[39m:\n\u001b[1;32m----> 7\u001b[0m             \u001b[38;5;28;01mraise\u001b[39;00m \u001b[38;5;167;01mValueError\u001b[39;00m(\u001b[38;5;124m'\u001b[39m\u001b[38;5;124mNumber must be positive\u001b[39m\u001b[38;5;124m'\u001b[39m)\n\u001b[0;32m      8\u001b[0m \u001b[38;5;28;01mreturn\u001b[39;00m x \u001b[38;5;241m/\u001b[39m y\n",
      "\u001b[1;31mValueError\u001b[0m: Number must be positive"
     ]
    }
   ],
   "source": [
    "def division (filename):\n",
    "    with open(filename) as file:\n",
    "            x = int(file.readline())\n",
    "            y = int(file.readline())\n",
    " \n",
    "            if x < 0 or y < 0:\n",
    "                raise ValueError('Number must be positive')\n",
    "    return x / y\n",
    "\n",
    "try:         \n",
    "    with open('v3.txt', 'w') as file:\n",
    "        file.write('20\\n-4')\n",
    "except ValueError:\n",
    "    print('Number must be positive')\n",
    "\n",
    "div = division('v3.txt')\n",
    "print(div)"
   ]
  },
  {
   "cell_type": "code",
   "execution_count": 18,
   "id": "3a90d927-aca0-4e51-9773-2e28b34553d6",
   "metadata": {},
   "outputs": [],
   "source": [
    "#2. Напишите программу, которая открывает файл, считывает его содержимое и выполняет операции над числами в файле. \n",
    "#Обработайте возможные исключения при открытии файла (FileNotFoundError) и при выполнении операций над числами \n",
    "#(ValueError, ZeroDivisionError). \n",
    "#Используйте конструкцию try-except-finally для обработки исключений и закрытия файла в блоке finally."
   ]
  },
  {
   "cell_type": "code",
   "execution_count": 17,
   "id": "1e9ae8e2-0d26-40a6-b0be-c1cc0fd242bd",
   "metadata": {},
   "outputs": [
    {
     "name": "stdout",
     "output_type": "stream",
     "text": [
      "File not found\n"
     ]
    }
   ],
   "source": [
    "from importlib.resources import contents\n",
    "try:\n",
    "    file = open(\"test_exc.txt\", \"r\")\n",
    "    content = file.read()\n",
    "\n",
    "    numbers = [int(num) for num in content.split()]\n",
    "    res = numbers[1] / numbers[4]\n",
    "\n",
    "except FileNotFoundError:\n",
    "    print('File not found')\n",
    "except PermissionError:\n",
    "    print('You don\\'t have access')\n",
    "except ZeroDivisionError:\n",
    "    print('You can\\'t divide by zero')\n",
    "finally:\n",
    "    file.close()"
   ]
  },
  {
   "cell_type": "code",
   "execution_count": null,
   "id": "3bf82983-8f37-48d1-a6ab-42f8732e8d10",
   "metadata": {},
   "outputs": [],
   "source": []
  }
 ],
 "metadata": {
  "kernelspec": {
   "display_name": "Python 3 (ipykernel)",
   "language": "python",
   "name": "python3"
  },
  "language_info": {
   "codemirror_mode": {
    "name": "ipython",
    "version": 3
   },
   "file_extension": ".py",
   "mimetype": "text/x-python",
   "name": "python",
   "nbconvert_exporter": "python",
   "pygments_lexer": "ipython3",
   "version": "3.12.5"
  }
 },
 "nbformat": 4,
 "nbformat_minor": 5
}
