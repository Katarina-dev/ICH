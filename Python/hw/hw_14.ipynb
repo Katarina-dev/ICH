{
 "cells": [
  {
   "cell_type": "code",
   "execution_count": 8,
   "id": "2ef1e05f-6027-48e3-8a62-61818b91b7e1",
   "metadata": {},
   "outputs": [
    {
     "name": "stdin",
     "output_type": "stream",
     "text": [
      ">> Программирование это интересно и полезно\n"
     ]
    },
    {
     "name": "stdout",
     "output_type": "stream",
     "text": [
      "полезно и интересно это Программирование\n"
     ]
    }
   ],
   "source": [
    "#1. Напишите программу, которая принимает строку от пользователя и разбивает ее на отдельные слова. Затем программа должна объединить слова в обратном порядке с использованием метода join(). Используйте динамический массив и методы для работы со строками. \n",
    "#Выведите результат на экран с помощью команды print.\n",
    "\n",
    "line = input('>>').split()\n",
    "line.reverse()\n",
    "res = ' '.join(line)\n",
    "print(res)\n"
   ]
  },
  {
   "cell_type": "code",
   "execution_count": 12,
   "id": "546b92cd-06b2-4bc4-84a8-a1eabf41453c",
   "metadata": {},
   "outputs": [
    {
     "name": "stdin",
     "output_type": "stream",
     "text": [
      "Введите число (или 'Выход' для завершения) 4\n",
      "Введите число (или 'Выход' для завершения) 5\n",
      "Введите число (или 'Выход' для завершения) 6\n",
      "Введите число (или 'Выход' для завершения) Exit\n"
     ]
    },
    {
     "name": "stdout",
     "output_type": "stream",
     "text": [
      "[4, 5, 6]\n"
     ]
    }
   ],
   "source": [
    "#2. Напишите программу, которая принимает список чисел от пользователя и добавляет каждое число в динамический массив. \n",
    "#Затем программа должна принимать новое число от пользователя и добавлять его в динамический массив до тех пор, пока пользователь не введет команду \"Выход\". Используйте метод append() для добавления элементов в динамический массив и условный оператор для проверки команды \"Выход\". \n",
    "#Выведите итоговый динамический массив на экран с помощью команды print.\n",
    "lst_num = []\n",
    "\n",
    "while True:\n",
    "    ans = input('Введите число (или \\'Выход\\' для завершения)').lower().strip()\n",
    "    if ans.isdigit():\n",
    "        lst_num.append(int(ans))\n",
    "    else:\n",
    "        ans = 'Exit'\n",
    "        break\n",
    " \n",
    "print(lst_num)\n",
    "    \n"
   ]
  },
  {
   "cell_type": "code",
   "execution_count": null,
   "id": "74e2b22e-82f1-4c1d-be8b-6d953b96b26d",
   "metadata": {},
   "outputs": [],
   "source": []
  }
 ],
 "metadata": {
  "kernelspec": {
   "display_name": "Python 3 (ipykernel)",
   "language": "python",
   "name": "python3"
  },
  "language_info": {
   "codemirror_mode": {
    "name": "ipython",
    "version": 3
   },
   "file_extension": ".py",
   "mimetype": "text/x-python",
   "name": "python",
   "nbconvert_exporter": "python",
   "pygments_lexer": "ipython3",
   "version": "3.12.5"
  }
 },
 "nbformat": 4,
 "nbformat_minor": 5
}
