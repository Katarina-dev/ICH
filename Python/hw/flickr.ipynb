{
 "cells": [
  {
   "cell_type": "code",
   "execution_count": 19,
   "id": "6e0d1b72-6308-40fd-b747-43a91bb51f54",
   "metadata": {},
   "outputs": [
    {
     "name": "stdout",
     "output_type": "stream",
     "text": [
      "['https://live.staticflickr.com/65535/54249143082_f9879ec968_n.jpg', 'https://live.staticflickr.com/65535/54248484439_8804c32521_n.jpg', 'https://live.staticflickr.com/65535/54249338778_9d063a2b90_z.jpg', 'https://live.staticflickr.com/65535/54249066590_26ddba8bc1.jpg', 'https://live.staticflickr.com/65535/54246966660_9666667d99_z.jpg', 'https://live.staticflickr.com/65535/54246606612_701ef06928_z.jpg', 'https://live.staticflickr.com/65535/54247088112_e3610d4358.jpg', 'https://live.staticflickr.com/65535/54248106750_4a473346ea_n.jpg', 'https://live.staticflickr.com/65535/54249804144_4d010ed32c_w.jpg', 'https://live.staticflickr.com/65535/54249680661_36f9e9e4e5_w.jpg', 'https://live.staticflickr.com/65535/54247508202_a6931bf836_w.jpg', 'https://live.staticflickr.com/65535/54248106280_09cf156877_w.jpg', 'https://live.staticflickr.com/65535/54250374933_a8f5b6b59c_w.jpg', 'https://live.staticflickr.com/65535/54246928185_8a7452d0f4_n.jpg', 'https://live.staticflickr.com/65535/54250514288_aaa599aa8f_w.jpg', 'https://live.staticflickr.com/65535/54249664935_26d060f56a.jpg', 'https://live.staticflickr.com/65535/54247996381_0471b04229.jpg', 'https://live.staticflickr.com/65535/54248746091_1f127e2cea_z.jpg', 'https://live.staticflickr.com/65535/54248951053_dce9fc1651_n.jpg', 'https://live.staticflickr.com/65535/54247860960_f5442a5c8e_w.jpg', 'https://live.staticflickr.com/65535/54247158465_82b964166b_n.jpg', 'https://live.staticflickr.com/65535/54248153515_d8f24c586a_n.jpg', 'https://live.staticflickr.com/65535/54249841894_a2daf5854e_z.jpg', 'https://live.staticflickr.com/65535/54248080946_e79b279e84.jpg', 'https://live.staticflickr.com/65535/54248935376_a7ed61db29.jpg', 'https://live.staticflickr.com/65535/54248443505_b00a90abf0_z.jpg', 'https://live.staticflickr.com/65535/54249913618_8c0c4b5588_n.jpg', 'https://live.staticflickr.com/65535/54246722703_1083659f48_w.jpg', 'https://live.staticflickr.com/65535/54248017762_5327a0d4b0.jpg', 'https://live.staticflickr.com/65535/54247669744_6cbcc6137f_m.jpg', 'https://live.staticflickr.com/65535/54247312686_64794f52a6_w.jpg', 'https://live.staticflickr.com/65535/54248887569_00c022b581_z.jpg', 'https://live.staticflickr.com/65535/54250072661_9d16c6c755_w.jpg', 'https://live.staticflickr.com/65535/54247432251_844464c02d_n.jpg', 'https://live.staticflickr.com/65535/54247509913_ea7d26788b_w.jpg', 'https://live.staticflickr.com/65535/54247465574_334b40e64a.jpg', 'https://live.staticflickr.com/65535/54250423084_9b4a2913f7.jpg', 'https://live.staticflickr.com/65535/54248104916_4dd82d756b_n.jpg', 'https://live.staticflickr.com/65535/54248898373_7fd742f9de_z.jpg', 'https://live.staticflickr.com/65535/54247992827_a4995fc9e6.jpg', 'https://live.staticflickr.com/65535/54249552893_d927a80058_b.jpg', 'https://live.staticflickr.com/65535/54248433764_8b92da7bc9_z.jpg', 'https://live.staticflickr.com/65535/54247666708_5b2019b0ef.jpg', 'https://live.staticflickr.com/65535/54248422051_6a70f0f9b4_w.jpg', 'https://live.staticflickr.com/65535/54247589517_55bf98a59d.jpg', 'https://live.staticflickr.com/65535/54250037874_8c35c4462f_n.jpg', 'https://live.staticflickr.com/65535/54246779903_57f43a6f5c.jpg', 'https://live.staticflickr.com/65535/54249923811_8462d21ebe_n.jpg', 'https://live.staticflickr.com/65535/54248011767_d1d419fca5_w.jpg']\n",
      "images\\image_0.jpg\n",
      "images\\image_1.jpg\n",
      "images\\image_2.jpg\n",
      "images\\image_3.jpg\n",
      "images\\image_4.jpg\n",
      "images\\image_5.jpg\n",
      "images\\image_6.jpg\n",
      "images\\image_7.jpg\n",
      "images\\image_8.jpg\n",
      "images\\image_9.jpg\n",
      "images\\image_10.jpg\n",
      "images\\image_11.jpg\n",
      "images\\image_12.jpg\n",
      "images\\image_13.jpg\n",
      "images\\image_14.jpg\n",
      "images\\image_15.jpg\n",
      "images\\image_16.jpg\n",
      "images\\image_17.jpg\n",
      "images\\image_18.jpg\n",
      "images\\image_19.jpg\n",
      "images\\image_20.jpg\n",
      "images\\image_21.jpg\n",
      "images\\image_22.jpg\n",
      "images\\image_23.jpg\n",
      "images\\image_24.jpg\n",
      "images\\image_25.jpg\n",
      "images\\image_26.jpg\n",
      "images\\image_27.jpg\n",
      "images\\image_28.jpg\n",
      "images\\image_29.jpg\n",
      "images\\image_30.jpg\n",
      "images\\image_31.jpg\n",
      "images\\image_32.jpg\n",
      "images\\image_33.jpg\n",
      "images\\image_34.jpg\n",
      "images\\image_35.jpg\n",
      "images\\image_36.jpg\n",
      "images\\image_37.jpg\n",
      "images\\image_38.jpg\n",
      "images\\image_39.jpg\n",
      "images\\image_40.jpg\n",
      "images\\image_41.jpg\n",
      "images\\image_42.jpg\n",
      "images\\image_43.jpg\n",
      "images\\image_44.jpg\n",
      "images\\image_45.jpg\n",
      "images\\image_46.jpg\n",
      "images\\image_47.jpg\n",
      "images\\image_48.jpg\n"
     ]
    }
   ],
   "source": [
    "import requests  # Импортируем библиотеку для выполнения HTTP-запросов\n",
    "from bs4 import BeautifulSoup  # Импортируем библиотеку для парсинга HTML и XML-документов\n",
    "import os  # Импортируем библиотеку для работы с операционной системой\n",
    "\n",
    "def get_url_img(url: str) -> list:\n",
    "    response = requests.get(url)  # Выполняем HTTP-запрос к указанному URL\n",
    "    soup = BeautifulSoup(response.content, 'html.parser')  # Создаем объект BeautifulSoup для парсинга HTML\n",
    "    url_list = ['https:' + img['src'] for img in soup.find_all('img', loading=\"lazy\")]  # Извлекаем URL изображений\n",
    "    return url_list\n",
    "     \n",
    "def save_img(url_list: list, dir_name: str) -> None:\n",
    "    if not os.path.exists(dir_name):  # Проверяем, существует ли директория\n",
    "        os.makedirs(dir_name)  # Создаем директорию, если она не существует\n",
    "    for id, link in enumerate(url_list[:49]):  # Цикл по первым 49 URL\n",
    "        response = requests.get(link, stream=True)  # Скачиваем изображение по URL\n",
    "        file_extension = link.split(\".\")[-1].split(\"?\")[0]  # Определяем расширение файла\n",
    "        name_file = f'image_{id}.{file_extension}'  # Формируем имя файла\n",
    "        name_file = os.path.join(dir_name, name_file)  # Полный путь к файлу\n",
    "        print(name_file)  # Печатаем имя файла\n",
    "        with open(name_file, 'wb') as file:  # Открываем файл для записи\n",
    "            for chunk in response.iter_content(1024):  # Пишем данные по частям\n",
    "                file.write(chunk)\n",
    "    return None\n",
    "\n",
    "\n",
    "url = 'https://www.flickr.com/explore'\n",
    "try:\n",
    "    url_list = get_url_img(url) \n",
    "    print(url_list)\n",
    "    save_img(url_list, 'images')\n",
    "except Exception as e:\n",
    "    print(e)\n"
   ]
  },
  {
   "cell_type": "code",
   "execution_count": 2,
   "id": "6d2eb5ce-56a2-45cc-ba96-9b78a8b7c0c2",
   "metadata": {},
   "outputs": [
    {
     "name": "stdout",
     "output_type": "stream",
     "text": [
      "49\n"
     ]
    }
   ],
   "source": [
    "print(len(image_urls))"
   ]
  },
  {
   "cell_type": "code",
   "execution_count": 12,
   "id": "e2556dbe-d383-46b6-a3ca-49925d47dd43",
   "metadata": {},
   "outputs": [
    {
     "name": "stdout",
     "output_type": "stream",
     "text": [
      "images\\image_0.jpg saved \n",
      "images\\image_1.jpg saved \n",
      "images\\image_2.jpg saved \n",
      "images\\image_3.jpg saved \n",
      "images\\image_4.jpg saved \n"
     ]
    }
   ],
   "source": [
    "import requests\n",
    "from bs4 import BeautifulSoup\n",
    "import os\n",
    "\n",
    "# Создание папки для сохранения картинок, если она еще не существует\n",
    "if not os.path.exists('images'):\n",
    "    os.makedirs('images')\n",
    "\n",
    "# Скачивание и сохранение картинок\n",
    "try:\n",
    "    for id, link in enumerate(image_urls[:49]):\n",
    "        response = requests.get(link, stream=True)\n",
    "        file_extension = url.split(\".\")[-1].split(\"?\")[0]\n",
    "        name_file = f'image_{id}.{file_extension}'\n",
    "        name_file = os.path.join('images', name_file)\n",
    "        \n",
    "        with open(name_file, 'wb') as file:\n",
    "            for chunk in response.iter_content(1024):\n",
    "                file.write(chunk)\n",
    "        print(f'{name_file} saved ')\n",
    "except Exception as e:\n",
    "        print(e)\n",
    "\n"
   ]
  },
  {
   "cell_type": "code",
   "execution_count": 15,
   "id": "6750624d-f292-4a35-875a-2140155a8b7c",
   "metadata": {},
   "outputs": [
    {
     "data": {
      "text/plain": [
       "'C:\\\\Users\\\\fmikh\\\\Documents\\\\ICH\\\\Python_HW\\\\Jupyter_NB'"
      ]
     },
     "execution_count": 15,
     "metadata": {},
     "output_type": "execute_result"
    }
   ],
   "source": [
    "os.getcwd()"
   ]
  },
  {
   "cell_type": "code",
   "execution_count": null,
   "id": "a62dab17-5a67-4ca2-8be1-c8ad4b3971f1",
   "metadata": {},
   "outputs": [],
   "source": []
  }
 ],
 "metadata": {
  "kernelspec": {
   "display_name": "Python 3 (ipykernel)",
   "language": "python",
   "name": "python3"
  },
  "language_info": {
   "codemirror_mode": {
    "name": "ipython",
    "version": 3
   },
   "file_extension": ".py",
   "mimetype": "text/x-python",
   "name": "python",
   "nbconvert_exporter": "python",
   "pygments_lexer": "ipython3",
   "version": "3.12.5"
  }
 },
 "nbformat": 4,
 "nbformat_minor": 5
}
