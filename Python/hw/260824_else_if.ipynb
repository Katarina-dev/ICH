{
 "cells": [
  {
   "cell_type": "code",
   "execution_count": 9,
   "id": "74d3823c-3cfe-41da-a910-5611323407b1",
   "metadata": {},
   "outputs": [
    {
     "name": "stdin",
     "output_type": "stream",
     "text": [
      "Идет дождь? да\n"
     ]
    },
    {
     "name": "stdout",
     "output_type": "stream",
     "text": [
      "Нужно взять зонт!\n"
     ]
    }
   ],
   "source": [
    "rain = input('Идет дождь?')\n",
    "if rain == 'да':\n",
    "    print('Нужно взять зонт!')\n",
    "else: \n",
    "    print('Зонт брать не нужно')"
   ]
  },
  {
   "cell_type": "code",
   "execution_count": null,
   "id": "02f20b58-9b85-475b-a461-4b229e1908ae",
   "metadata": {},
   "outputs": [],
   "source": [
    "x, y = int(input('x=')), int(input('y='))\n",
    "\n",
    "if x and y:\n",
    "    print('1')"
   ]
  },
  {
   "cell_type": "code",
   "execution_count": null,
   "id": "319b66be-cdb5-4000-bf8e-dc73bf9bda40",
   "metadata": {},
   "outputs": [],
   "source": [
    "if x <= 0:\n",
    "    print('х меньше или равно 0')\n",
    "elif x > 0 and x <10:\n",
    "    print('х от 0 до 10')\n",
    "else:\n",
    "    print('х больше или равно 10')"
   ]
  }
 ],
 "metadata": {
  "kernelspec": {
   "display_name": "Python 3 (ipykernel)",
   "language": "python",
   "name": "python3"
  },
  "language_info": {
   "codemirror_mode": {
    "name": "ipython",
    "version": 3
   },
   "file_extension": ".py",
   "mimetype": "text/x-python",
   "name": "python",
   "nbconvert_exporter": "python",
   "pygments_lexer": "ipython3",
   "version": "3.12.5"
  }
 },
 "nbformat": 4,
 "nbformat_minor": 5
}
