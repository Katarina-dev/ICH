{
 "cells": [
  {
   "cell_type": "code",
   "execution_count": 4,
   "id": "2cf38223-17a1-4707-9425-88210369fa0b",
   "metadata": {},
   "outputs": [
    {
     "name": "stdin",
     "output_type": "stream",
     "text": [
      " 6\n"
     ]
    },
    {
     "name": "stdout",
     "output_type": "stream",
     "text": [
      "1\n",
      "2\n",
      "3\n",
      "4\n",
      "5\n",
      "6\n"
     ]
    }
   ],
   "source": [
    "N = int(input())\n",
    "\n",
    "def get_N(N):\n",
    "    if N > 0:\n",
    "        get_N(N - 1)\n",
    "        print(N)\n",
    "    \n",
    "\n",
    "get_N(N)"
   ]
  },
  {
   "cell_type": "code",
   "execution_count": null,
   "id": "5f9ded71-cccc-4bda-a3ad-7b1fc207c24e",
   "metadata": {},
   "outputs": [],
   "source": []
  }
 ],
 "metadata": {
  "kernelspec": {
   "display_name": "Python 3 (ipykernel)",
   "language": "python",
   "name": "python3"
  },
  "language_info": {
   "codemirror_mode": {
    "name": "ipython",
    "version": 3
   },
   "file_extension": ".py",
   "mimetype": "text/x-python",
   "name": "python",
   "nbconvert_exporter": "python",
   "pygments_lexer": "ipython3",
   "version": "3.12.5"
  }
 },
 "nbformat": 4,
 "nbformat_minor": 5
}
