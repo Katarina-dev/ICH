{
 "cells": [
  {
   "cell_type": "code",
   "execution_count": null,
   "id": "607f275d-960a-4bbc-8b68-9dde217a04e9",
   "metadata": {},
   "outputs": [],
   "source": [
    "x = [1, 2, 3, -4, -5, -6, 7]\n",
    "\n",
    "y = [item * 2 for item in x]\n",
    "print(y)\n",
    "\n",
    "y = [item * 3 for item in x if item < 0]\n",
    "print(y)"
   ]
  },
  {
   "cell_type": "code",
   "execution_count": 6,
   "id": "1782c5f7-7eb8-4e37-ab3a-dc6ea17cdbc5",
   "metadata": {},
   "outputs": [
    {
     "name": "stdin",
     "output_type": "stream",
     "text": [
      " dddddd rr yoo erriojgfg\n"
     ]
    },
    {
     "name": "stdout",
     "output_type": "stream",
     "text": [
      "['rr', 'yoo']\n"
     ]
    }
   ],
   "source": [
    "x = input().split()\n",
    "y = [item for item in x if len(item) < 4]\n",
    "print(y)"
   ]
  },
  {
   "cell_type": "code",
   "execution_count": 8,
   "id": "94461bd5-b918-4e1d-9f18-b0036ffd971c",
   "metadata": {},
   "outputs": [
    {
     "name": "stdin",
     "output_type": "stream",
     "text": [
      "text>> hello\n"
     ]
    },
    {
     "name": "stdout",
     "output_type": "stream",
     "text": [
      "['*h*', '*e*', '*l*', '*l*', '*o*']\n",
      "*h**e**l**l**o*\n"
     ]
    }
   ],
   "source": [
    "text = input('text>>')\n",
    "y = [f'*{item}*' for item in text]\n",
    "print(y)\n",
    "res = ''.join(y)\n",
    "print(res)"
   ]
  },
  {
   "cell_type": "code",
   "execution_count": 10,
   "id": "e712630e-019d-49a6-b967-16371c48e790",
   "metadata": {},
   "outputs": [
    {
     "name": "stdout",
     "output_type": "stream",
     "text": [
      "[[0, 1, 2, 3, 4], [0, 1, 2, 3, 4], [0, 1, 2, 3, 4], [0, 1, 2, 3, 4], [0, 1, 2, 3, 4]]\n"
     ]
    }
   ],
   "source": [
    "import random\n",
    "\n",
    "x = [[i for i in range(5)] for j in range(5)]\n",
    "\n",
    "print(x)"
   ]
  },
  {
   "cell_type": "code",
   "execution_count": 12,
   "id": "f773ce36-ab66-4cfc-a5ae-02c6049d0bec",
   "metadata": {},
   "outputs": [
    {
     "name": "stdout",
     "output_type": "stream",
     "text": [
      "[5, 4, 10, 1, 2]\n",
      "[10, 6, 10, 3, 1]\n",
      "[5, 4, 1, 8, 6]\n",
      "[6, 4, 1, 8, 8]\n",
      "[5, 3, 9, 5, 8]\n",
      "----------\n",
      "[5, 4, 10, 1, 2]\n",
      "[5, 4, 1, 8, 6]\n",
      "[5, 3, 9, 5, 8]\n"
     ]
    }
   ],
   "source": [
    "import random\n",
    "\n",
    "x = [[random.randint(1, 10) for _ in range(5)] for _ in range(5)]\n",
    "\n",
    "print(*x, sep = '\\n')\n",
    "print('-' * 10)\n",
    "y = x[::2]\n",
    "\n",
    "print(*y, sep = '\\n')"
   ]
  },
  {
   "cell_type": "code",
   "execution_count": null,
   "id": "f36c733a-c0a6-404f-a64e-aad801715c73",
   "metadata": {},
   "outputs": [],
   "source": [
    "x = []\n",
    "\n",
    "for i in range(5):\n",
    "    y = []\n",
    "    for j in range(5):\n",
    "        y.append(random.randint(1, 100))\n",
    "        "
   ]
  },
  {
   "cell_type": "code",
   "execution_count": null,
   "id": "a030cf1c-0729-4aaa-8d5b-453dc2e22595",
   "metadata": {},
   "outputs": [],
   "source": [
    "y = sum([item for item in x if item > 0])\n",
    "print(y)"
   ]
  },
  {
   "cell_type": "code",
   "execution_count": null,
   "id": "e699c9eb-7ea0-4d96-9cde-4fab7d8ce525",
   "metadata": {},
   "outputs": [],
   "source": []
  }
 ],
 "metadata": {
  "kernelspec": {
   "display_name": "Python 3 (ipykernel)",
   "language": "python",
   "name": "python3"
  },
  "language_info": {
   "codemirror_mode": {
    "name": "ipython",
    "version": 3
   },
   "file_extension": ".py",
   "mimetype": "text/x-python",
   "name": "python",
   "nbconvert_exporter": "python",
   "pygments_lexer": "ipython3",
   "version": "3.12.5"
  }
 },
 "nbformat": 4,
 "nbformat_minor": 5
}
