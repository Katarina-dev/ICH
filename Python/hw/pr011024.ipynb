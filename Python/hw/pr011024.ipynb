{
 "cells": [
  {
   "cell_type": "code",
   "execution_count": 4,
   "id": "62923e19-59e1-4bd4-a823-a037f7917be7",
   "metadata": {},
   "outputs": [
    {
     "name": "stdin",
     "output_type": "stream",
     "text": [
      "numbers: 4 2 95 6 9\n"
     ]
    },
    {
     "name": "stdout",
     "output_type": "stream",
     "text": [
      "False\n"
     ]
    }
   ],
   "source": [
    "#Дан массив целых чисел. Написать функцию, которая вернет true, если 6является первым или последним элементом массива, false в противномслучае. Массив минимальной длины 1.\n",
    "\n",
    "def check_six(a):\n",
    "    return a[0] == 6 and a[-1] == 6:\n",
    "    \n",
    "lst = input('numbers:').split()\n",
    "lst = list(map(int, lst))\n",
    "res = check_six(lst)\n",
    "print(res)"
   ]
  },
  {
   "cell_type": "code",
   "execution_count": null,
   "id": "38d2354d-1acc-4199-b73d-f10a0ef5cba7",
   "metadata": {},
   "outputs": [],
   "source": [
    "a = [6,2,3,4,5]\n",
    "\n",
    "def find_num(a):\n",
    "   return a[0] == 6 or a[-1] == 6\n",
    "        \n",
    "find_num(a)"
   ]
  },
  {
   "cell_type": "code",
   "execution_count": 7,
   "id": "aa69e3bf-50f1-4422-a3bf-65dd9c3c4ac3",
   "metadata": {},
   "outputs": [
    {
     "data": {
      "text/plain": [
       "True"
      ]
     },
     "execution_count": 7,
     "metadata": {},
     "output_type": "execute_result"
    }
   ],
   "source": [
    "#Дано два массива целых чисел. Написать функцию, которая возвращает true,если их \n",
    "#первые или последние элементы равны. Оба массива минимальной длины 1.\n",
    "\n",
    "a = [6,2,3,4,5]\n",
    "b = [6,6,8,1,1]\n",
    "\n",
    "def find_num(a,b):\n",
    "   return a[0] == b[0] or a[-1] == b[-1]\n",
    "        \n",
    "find_num(a,b)"
   ]
  },
  {
   "cell_type": "code",
   "execution_count": 15,
   "id": "94210e34-1edc-4de2-aa37-85eff5c528c5",
   "metadata": {},
   "outputs": [
    {
     "data": {
      "text/plain": [
       "[6, 7, 3]"
      ]
     },
     "execution_count": 15,
     "metadata": {},
     "output_type": "execute_result"
    }
   ],
   "source": [
    "#Дан массив целых чисел длины 3. Написать функцию, которая возвращает\n",
    "#массив “повернутый влево”: {1, 2, 3} -> {2, 3, 1}, {5, 11, 9} -> {11, 9, 5}\n",
    "\n",
    "a = [3, 6, 7]\n",
    "\n",
    "def rev_list(a):\n",
    "    return  a[1:]+a[:1]\n",
    "\n",
    "rev_list(a)\n",
    "\n"
   ]
  },
  {
   "cell_type": "code",
   "execution_count": 29,
   "id": "065b0c20-bde4-4a78-87c1-3564d99839c0",
   "metadata": {},
   "outputs": [
    {
     "data": {
      "text/plain": [
       "[7, 2]"
      ]
     },
     "execution_count": 29,
     "metadata": {},
     "output_type": "execute_result"
    }
   ],
   "source": [
    "#Дан массив целых чисел длины 1 и более. Написать функцию, которая возвращает массив длины 2, состоящих из первого и последнего элемента\n",
    "#входного массива. {1, 2, 3} -> {1, 3}, {7, 4, 6, 2} -> {7, 2}\n",
    "\n",
    "a = [7, 4, 6, 2]\n",
    "def cut_list(a):\n",
    "    return [a[0], a[-1]]\n",
    "\n",
    "cut_list(a)"
   ]
  },
  {
   "cell_type": "code",
   "execution_count": null,
   "id": "9d54961e-b483-4781-8706-e1e31ea714ee",
   "metadata": {},
   "outputs": [],
   "source": [
    "#5 Напишите функцию, которая вернет количество четных чисел в данном массиве.\n",
    "a = [1,2,3,4,5,6,7,8,9]\n",
    "\n",
    "def count_num(a):\n",
    "    count = 0\n",
    "    for numer in a:\n",
    "        if numer % 2 == 0:\n",
    "            count += 1\n",
    "    return count\n",
    "        \n",
    "print(count_num(a))"
   ]
  },
  {
   "cell_type": "code",
   "execution_count": 45,
   "id": "13f3147d-72f0-484b-9471-57abcb0c7cb8",
   "metadata": {},
   "outputs": [
    {
     "name": "stdout",
     "output_type": "stream",
     "text": [
      "4\n"
     ]
    }
   ],
   "source": [
    "#Дан список, упорядоченный по неубыванию элементов в нем. Определите,\n",
    "#сколько в нем различных элементов. {1, 2, 2, 3, 3, 3} -> 3, {1 1 1 1 1} -> 1\n",
    "\n",
    "def set_arr(x):\n",
    "    return len(set(x))\n",
    "\n",
    "x = [1, 1, 1, 2, 3, 8]\n",
    "\n",
    "print(set_arr(x))"
   ]
  },
  {
   "cell_type": "code",
   "execution_count": 47,
   "id": "9cfef876-0f41-4d34-8970-897b9928c538",
   "metadata": {},
   "outputs": [
    {
     "data": {
      "text/plain": [
       "4"
      ]
     },
     "execution_count": 47,
     "metadata": {},
     "output_type": "execute_result"
    }
   ],
   "source": [
    "a = [2, 2, 5, 5, 5, 7, 7, 8]\n",
    "\n",
    "def dif_num(a):\n",
    "    count = 1\n",
    "    for i in range(1, len(a)):\n",
    "        if a[i-1] != a[i]:\n",
    "            count += 1\n",
    "    return count\n",
    "\n",
    "dif_num(a)\n",
    "    "
   ]
  },
  {
   "cell_type": "code",
   "execution_count": null,
   "id": "cc0d7e71-2abc-4133-bfc8-c0b9e8b23f21",
   "metadata": {},
   "outputs": [],
   "source": [
    "## Напишите функцию, которая возвращает сумму элементов массива и\n",
    "##возвращает 0, если массив пустой. Так как число 13 приносит неудачу,\n",
    "##функция не должна учитывать число 13 и последующие за ним числа в\n",
    "##массиве. {1, 2, 2, 1} -> 6, {0, 2, 2, 3, 13} -> 7, {1, 2, 13, 2, 1} -> 3   \n",
    "##используем функции \n",
    "\n",
    "def sum_array(arr):\n",
    "    total = 0  \n",
    "    for num in arr:\n",
    "        if num == 13:  \n",
    "            break\n",
    "        total += num \n",
    "    return total \n",
    "print(sum_array([0, 2, 2, 3, 13]))"
   ]
  },
  {
   "cell_type": "code",
   "execution_count": null,
   "id": "4c7bb56c-61f0-4d55-a3ee-3b9b586e86cc",
   "metadata": {},
   "outputs": [],
   "source": [
    "# Написать функцию, которая возвращает true, если в массиве две двойки идут\n",
    "# подряд. {1, 2, 2} -> true, {2, 1, 2} -> false\n",
    "def has_consecutive_twos(arr):\n",
    "    \n",
    "    for i in range(len(arr) - 1):\n",
    "        if arr[i] == 2 and arr[i + 1] == 2:\n",
    "            return True\n",
    "    return False\n",
    "    arr = [1,2]  print( has_consecutive_twos(arr))"
   ]
  },
  {
   "cell_type": "code",
   "execution_count": null,
   "id": "da476d77-562c-4e04-9786-089a690924a5",
   "metadata": {},
   "outputs": [],
   "source": [
    "# 6. Напишите функцию, которая возвращает сумму элементов массива и возвращает 0, если массив\n",
    "# пустой. Так как число 13 приносит неудачу, функция не должна учитывать число 13 и\n",
    "# последующие за ним числа в массиве. {1, 2, 2, 1} -> 6, {0, 2, 2, 3, 13} -> 7, {1, 2, 13, 2, 1} -> 3\n",
    "\n",
    "a = [0,2,2,3,13,1,2]\n",
    "\n",
    "\n",
    "def summa_gran(a):\n",
    "    summa = 0    \n",
    "    for numer in a:\n",
    "        if numer == 13:\n",
    "            break\n",
    "        summa += numer\n",
    "    return summa    \n",
    "\n",
    "print(summa_gran(a))"
   ]
  },
  {
   "cell_type": "code",
   "execution_count": null,
   "id": "17f94735-d84a-4010-af6e-d1264b001d8d",
   "metadata": {},
   "outputs": [],
   "source": [
    "# 8. Поменяйте предыдущую задачу так, чтобы функция возвращала true если в\n",
    "# массиве стоят рядом два любых одинаковых элемента\n",
    "'''\n",
    "def f8(x,num):\n",
    "    for i in range(len(x) - 1):\n",
    "        if x[i] == num and x[i + 1] == num:\n",
    "            return True\n",
    "    return False\n",
    "y = [1,2,2,3,3,4,4,6,8,2,9,9,10,11]\n",
    "print(f8(y,4))"
   ]
  },
  {
   "cell_type": "code",
   "execution_count": null,
   "id": "65fdfce4-9e21-4cfe-b2d4-4796cd9dd1a8",
   "metadata": {},
   "outputs": [],
   "source": []
  }
 ],
 "metadata": {
  "kernelspec": {
   "display_name": "Python 3 (ipykernel)",
   "language": "python",
   "name": "python3"
  },
  "language_info": {
   "codemirror_mode": {
    "name": "ipython",
    "version": 3
   },
   "file_extension": ".py",
   "mimetype": "text/x-python",
   "name": "python",
   "nbconvert_exporter": "python",
   "pygments_lexer": "ipython3",
   "version": "3.12.5"
  }
 },
 "nbformat": 4,
 "nbformat_minor": 5
}
