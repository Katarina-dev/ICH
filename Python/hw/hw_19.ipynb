{
 "cells": [
  {
   "cell_type": "code",
   "execution_count": null,
   "id": "7fdaa16d-8426-4b1d-b4b7-e49b50218a51",
   "metadata": {},
   "outputs": [],
   "source": [
    "1. Напишите программу, которая принимает список слов и возвращает список, содержащий только анаграммы. \n",
    "Анаграммы - это слова, составленные из одних и тех же букв, но в разном порядке. \n",
    "Создайте функцию anagrams, которая принимает список слов в качестве аргумента и возвращает список анаграмм. \n",
    "Используйте множества и сортировку букв в слове для проверки на анаграмму. Выведите результат на экран."
   ]
  },
  {
   "cell_type": "code",
   "execution_count": 16,
   "id": "38988b2e-02f5-4a10-91c3-f4bd90c43437",
   "metadata": {},
   "outputs": [
    {
     "name": "stdin",
     "output_type": "stream",
     "text": [
      " cat dog tac god\n"
     ]
    },
    {
     "name": "stdout",
     "output_type": "stream",
     "text": [
      "Анаграммы:\n",
      "['tac', 'cat']\n",
      "['cat', 'tac']\n",
      "['god', 'dog']\n",
      "['dog', 'god']\n"
     ]
    }
   ],
   "source": [
    "def anagrams():\n",
    "    words = input().split()\n",
    "    u_words = set(words)\n",
    "    anagr = []  \n",
    "\n",
    "    for word in u_words:\n",
    "        group = [word]\n",
    "        for i in u_words:\n",
    "            if word != i and sorted(word) == sorted(i):\n",
    "                group.append(i)\n",
    "        if len(group) > 1 and group not in anagr:\n",
    "            anagr.append(group) \n",
    "\n",
    "    if anagr:\n",
    "        print(\"Анаграммы:\")\n",
    "        for group in anagr:\n",
    "            print(group)\n",
    "    else:\n",
    "        print(\"Анаграммы не найдены.\")\n",
    "\n",
    "anagrams()"
   ]
  },
  {
   "cell_type": "code",
   "execution_count": null,
   "id": "f663ea32-9fe3-4d76-b4d5-3168b28d35d8",
   "metadata": {},
   "outputs": [],
   "source": [
    "Напишите функцию is_subset, которая принимает два множества set1 и set2 и проверяет, является ли set1 подмножеством set2. \n",
    "Функция должна возвращать True, если все элементы из set1 содержатся в set2, и False в противном случае. \n",
    "Функция должна быть реализована без использования встроенных методов issubset или <=."
   ]
  },
  {
   "cell_type": "code",
   "execution_count": 21,
   "id": "9e5c30fe-8138-421a-9ef2-b440f0aed2ba",
   "metadata": {},
   "outputs": [
    {
     "name": "stdin",
     "output_type": "stream",
     "text": [
      " 4 6\n",
      " 1 2 3\n"
     ]
    },
    {
     "data": {
      "text/plain": [
       "False"
      ]
     },
     "execution_count": 21,
     "metadata": {},
     "output_type": "execute_result"
    }
   ],
   "source": [
    "def is_subset():\n",
    "    set1 = set(input())\n",
    "    set2 = set(input())\n",
    "    \n",
    "    for i in set1:\n",
    "        if i in set2:\n",
    "            return True\n",
    "        else:\n",
    "            return False\n",
    "\n",
    "is_subset()"
   ]
  },
  {
   "cell_type": "code",
   "execution_count": null,
   "id": "a0407d8a-b7b9-41b5-bb29-3c9fd64a3f6a",
   "metadata": {},
   "outputs": [],
   "source": []
  }
 ],
 "metadata": {
  "kernelspec": {
   "display_name": "Python 3 (ipykernel)",
   "language": "python",
   "name": "python3"
  },
  "language_info": {
   "codemirror_mode": {
    "name": "ipython",
    "version": 3
   },
   "file_extension": ".py",
   "mimetype": "text/x-python",
   "name": "python",
   "nbconvert_exporter": "python",
   "pygments_lexer": "ipython3",
   "version": "3.12.5"
  }
 },
 "nbformat": 4,
 "nbformat_minor": 5
}
