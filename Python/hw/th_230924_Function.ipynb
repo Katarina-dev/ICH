{
 "cells": [
  {
   "cell_type": "code",
   "execution_count": 3,
   "id": "dcb2cc90-e82a-4564-a0d1-1efc9f3588e6",
   "metadata": {},
   "outputs": [
    {
     "name": "stdout",
     "output_type": "stream",
     "text": [
      "Hello, Oleh!\n"
     ]
    }
   ],
   "source": [
    "def greet(name):\n",
    "    return f'Hello, {name}!'\n",
    "\n",
    "res = greet('Oleh')\n",
    "print(res)"
   ]
  },
  {
   "cell_type": "raw",
   "id": "57d7d169-2f33-4c1b-84d4-7beee2ba7795",
   "metadata": {},
   "source": [
    "print(greet('Oleh'))"
   ]
  },
  {
   "cell_type": "code",
   "execution_count": 4,
   "id": "1e1d233d-40fa-4d6c-b7aa-15e1c2be70cf",
   "metadata": {},
   "outputs": [
    {
     "name": "stdout",
     "output_type": "stream",
     "text": [
      "Hello, Oleh!\n"
     ]
    }
   ],
   "source": [
    "print(greet('Oleh'))"
   ]
  },
  {
   "cell_type": "code",
   "execution_count": 5,
   "id": "7995204b-7e2a-48df-8637-2a58546b769e",
   "metadata": {},
   "outputs": [
    {
     "name": "stdout",
     "output_type": "stream",
     "text": [
      "5\n"
     ]
    }
   ],
   "source": [
    "def min(a, b):\n",
    "    return a + b\n",
    "    \n",
    "print(min(2,3))"
   ]
  },
  {
   "cell_type": "code",
   "execution_count": 6,
   "id": "73878f26-8257-4c94-b9c7-11f8489ce786",
   "metadata": {},
   "outputs": [
    {
     "name": "stdout",
     "output_type": "stream",
     "text": [
      "2\n"
     ]
    }
   ],
   "source": [
    "del min\n",
    "\n",
    "print(min(2,3))"
   ]
  },
  {
   "cell_type": "code",
   "execution_count": 7,
   "id": "b4132e87-4c4e-43ff-a578-a07ed3fb9a5b",
   "metadata": {},
   "outputs": [
    {
     "name": "stdout",
     "output_type": "stream",
     "text": [
      "73\n",
      "5\n"
     ]
    }
   ],
   "source": [
    "def add():\n",
    "    a = 6\n",
    "    return a+ b\n",
    "\n",
    "a = 5\n",
    "b = 67\n",
    "\n",
    "print(add())\n",
    "print(a)"
   ]
  },
  {
   "cell_type": "code",
   "execution_count": null,
   "id": "33e932bd-c2d9-4330-8a5e-ead03c6d61f1",
   "metadata": {},
   "outputs": [],
   "source": [
    "def add():\n",
    "    global a #применяется значение глобальной переменной a = 5\n",
    "    a = 6\n",
    "    return a+ b\n",
    "\n",
    "a = 5\n",
    "b = 67\n",
    "\n",
    "print(add())\n",
    "print(a)"
   ]
  },
  {
   "cell_type": "code",
   "execution_count": null,
   "id": "03c42ad0-9e91-4cac-8625-ad99d77b1045",
   "metadata": {},
   "outputs": [],
   "source": [
    "def func1(a, b): #enclosing\n",
    "\n",
    "    res = a + b\n",
    "\n",
    "    def func2(c):\n",
    "        return res + c\n",
    "\n",
    "    return func2(a * b)"
   ]
  },
  {
   "cell_type": "code",
   "execution_count": 8,
   "id": "37442176-73d9-49d6-91a2-70afc4efe224",
   "metadata": {},
   "outputs": [
    {
     "name": "stdout",
     "output_type": "stream",
     "text": [
      "You are a minor\n"
     ]
    }
   ],
   "source": [
    "def get_age(age):\n",
    "\n",
    "    if age >= 18:\n",
    "        return \"You are an adult\"\n",
    "\n",
    "    return \"You are a minor\"\n",
    "    \n",
    "print(get_age(10))"
   ]
  },
  {
   "cell_type": "code",
   "execution_count": null,
   "id": "97c94165-18fe-4f54-94b8-1af38f67129b",
   "metadata": {},
   "outputs": [],
   "source": [
    "def get_age(age: int) -> str: # аннотированиие, предупреждает пользователя о вводе целоого числа\n",
    "\n",
    "    if age >= 18:\n",
    "        return \"You are an adult\"\n",
    "\n",
    "    return \"You are a minor\"\n",
    "    \n",
    "print(get_age('10'))"
   ]
  },
  {
   "cell_type": "code",
   "execution_count": null,
   "id": "1bd020ce-2142-4275-b267-dc67a51d48fd",
   "metadata": {},
   "outputs": [],
   "source": [
    "def get_age(age: int) -> str: \n",
    "    if not isinstance(age, int): # предупреждает пользователя о вводе некорректных данных\n",
    "        return\"Invalid input\"\n",
    "        \n",
    "    if age >= 18:\n",
    "        return \"You are an adult\"\n",
    "\n",
    "    return \"You are a minor\"\n",
    "    \n",
    "print(get_age('10'))"
   ]
  },
  {
   "cell_type": "code",
   "execution_count": null,
   "id": "c6cc7e90-a0b6-44b7-ad7b-c1fb8937e400",
   "metadata": {},
   "outputs": [],
   "source": [
    "def add(a, b):\n",
    "    return a + b, a * b\n",
    "\n",
    "a, b = add(2, 3)\n",
    "print(a, b)"
   ]
  },
  {
   "cell_type": "code",
   "execution_count": null,
   "id": "50d59c8e-bdd3-4db8-af69-7b4ee82b2974",
   "metadata": {},
   "outputs": [],
   "source": [
    "def taxx(income, tax_rate):\n",
    "    return income * (tax_rate / 100)\n",
    "\n",
    "income = float(input(\"Income: \"))\n",
    "tax_rate = float(input(\"Tax: \"))\n",
    "\n",
    "tax = taxx(income, tax_rate)\n",
    "print(f\"Taxis: {tax:.2f}\")"
   ]
  }
 ],
 "metadata": {
  "kernelspec": {
   "display_name": "Python 3 (ipykernel)",
   "language": "python",
   "name": "python3"
  },
  "language_info": {
   "codemirror_mode": {
    "name": "ipython",
    "version": 3
   },
   "file_extension": ".py",
   "mimetype": "text/x-python",
   "name": "python",
   "nbconvert_exporter": "python",
   "pygments_lexer": "ipython3",
   "version": "3.12.5"
  }
 },
 "nbformat": 4,
 "nbformat_minor": 5
}
