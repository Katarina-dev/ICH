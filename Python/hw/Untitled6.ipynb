{
 "cells": [
  {
   "cell_type": "code",
   "execution_count": null,
   "id": "7ed2e556-8075-4227-9523-c936b7ff1a3b",
   "metadata": {},
   "outputs": [],
   "source": [
    "# 1. Напишите программу, которая принимает в качестве аргумента командной строки путь к файлу .py и запускает его. \n",
    "# При запуске файла программа должна выводить сообщение \"Файл <имя файла> успешно запущен\". \n",
    "# Если файл не существует или не может быть запущен, программа должна вывести соответствующее сообщение об ошибке."
   ]
  },
  {
   "cell_type": "code",
   "execution_count": 1,
   "id": "c54dc869-4eb2-408d-a770-48de6d2129cd",
   "metadata": {},
   "outputs": [
    {
     "name": "stdout",
     "output_type": "stream",
     "text": [
      "File ['C:\\\\Users\\\\user\\\\AppData\\\\Local\\\\Programs\\\\Python\\\\Python312\\\\Lib\\\\site-packages\\\\ipykernel_launcher.py', '-f', 'C:\\\\Users\\\\user\\\\AppData\\\\Roaming\\\\jupyter\\\\runtime\\\\kernel-3894487e-188a-451b-b2e8-8cf644d1decb.json'] was successfully started\n"
     ]
    }
   ],
   "source": [
    "import sys\n",
    "import os\n",
    "\n",
    "def run_file(filename):\n",
    "    filename = filename.strip()\n",
    "    \n",
    "    args = sys.argv\n",
    "    if len(args) < 2:\n",
    "        print('Specify the path to the file')\n",
    "\n",
    "    filepath = sys.argv[1]\n",
    "    if not os.path.isfile = filepath:\n",
    "        print(f'File {filepath} isn\\'t exist')\n",
    "\n",
    "    if not os.filepath.endwiths('.py'):\n",
    "        print(f'File {filepath} isn\\'t Python-script and can\\'t be executed')\n",
    "\n",
    "\n",
    "\n",
    "\n",
    "print(f'File {args} was successfully started')"
   ]
  },
  {
   "cell_type": "code",
   "execution_count": null,
   "id": "6fccb961-7ebf-4ad7-98c3-bd247b325741",
   "metadata": {},
   "outputs": [],
   "source": []
  }
 ],
 "metadata": {
  "kernelspec": {
   "display_name": "Python 3 (ipykernel)",
   "language": "python",
   "name": "python3"
  },
  "language_info": {
   "codemirror_mode": {
    "name": "ipython",
    "version": 3
   },
   "file_extension": ".py",
   "mimetype": "text/x-python",
   "name": "python",
   "nbconvert_exporter": "python",
   "pygments_lexer": "ipython3",
   "version": "3.12.5"
  }
 },
 "nbformat": 4,
 "nbformat_minor": 5
}
