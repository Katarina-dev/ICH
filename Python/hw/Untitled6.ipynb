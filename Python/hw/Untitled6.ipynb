{
 "cells": [
  {
   "cell_type": "code",
   "execution_count": null,
   "id": "9a890109-5808-4373-8e5c-216ce8bb9768",
   "metadata": {},
   "outputs": [],
   "source": [
    "# 1. Дана последовательность слов. Написать функцию, которая возвращает\n",
    "# последовательность слов из исходной последовательности, длина которых больше трех.\n",
    "# Использовать lambda-функции и filter. "
   ]
  },
  {
   "cell_type": "code",
   "execution_count": 2,
   "id": "6a0731f6-4ad5-4a27-8ffe-73697216a647",
   "metadata": {},
   "outputs": [
    {
     "ename": "NameError",
     "evalue": "name 'filer' is not defined",
     "output_type": "error",
     "traceback": [
      "\u001b[1;31m---------------------------------------------------------------------------\u001b[0m",
      "\u001b[1;31mNameError\u001b[0m                                 Traceback (most recent call last)",
      "Cell \u001b[1;32mIn[2], line 5\u001b[0m\n\u001b[0;32m      2\u001b[0m     \u001b[38;5;28;01mreturn\u001b[39;00m \u001b[38;5;28mlist\u001b[39m(filer(\u001b[38;5;28;01mlambda\u001b[39;00m word: \u001b[38;5;28mlen\u001b[39m(word) \u001b[38;5;241m>\u001b[39m \u001b[38;5;241m3\u001b[39m, words))\n\u001b[0;32m      4\u001b[0m a \u001b[38;5;241m=\u001b[39m [\u001b[38;5;124m\"\u001b[39m\u001b[38;5;124mcat\u001b[39m\u001b[38;5;124m\"\u001b[39m, \u001b[38;5;124m\"\u001b[39m\u001b[38;5;124mdog\u001b[39m\u001b[38;5;124m\"\u001b[39m, \u001b[38;5;124m\"\u001b[39m\u001b[38;5;124mhouse\u001b[39m\u001b[38;5;124m\"\u001b[39m, \u001b[38;5;124m\"\u001b[39m\u001b[38;5;124mtable\u001b[39m\u001b[38;5;124m\"\u001b[39m]\n\u001b[1;32m----> 5\u001b[0m \u001b[38;5;28mprint\u001b[39m(\u001b[43mget_more_three\u001b[49m\u001b[43m(\u001b[49m\u001b[43ma\u001b[49m\u001b[43m)\u001b[49m)\n",
      "Cell \u001b[1;32mIn[2], line 2\u001b[0m, in \u001b[0;36mget_more_three\u001b[1;34m(num)\u001b[0m\n\u001b[0;32m      1\u001b[0m \u001b[38;5;28;01mdef\u001b[39;00m \u001b[38;5;21mget_more_three\u001b[39m(num):\n\u001b[1;32m----> 2\u001b[0m     \u001b[38;5;28;01mreturn\u001b[39;00m \u001b[38;5;28mlist\u001b[39m(\u001b[43mfiler\u001b[49m(\u001b[38;5;28;01mlambda\u001b[39;00m word: \u001b[38;5;28mlen\u001b[39m(word) \u001b[38;5;241m>\u001b[39m \u001b[38;5;241m3\u001b[39m, words))\n",
      "\u001b[1;31mNameError\u001b[0m: name 'filer' is not defined"
     ]
    }
   ],
   "source": [
    "def get_more_three(num):\n",
    "    return list(filer(lambda word: len(word) > 3, words))\n",
    "\n",
    "a = [\"cat\", \"dog\", \"house\", \"table\"]\n",
    "print(get_more_three(a))"
   ]
  },
  {
   "cell_type": "code",
   "execution_count": null,
   "id": "01d9b1de-df22-4de0-bdb1-ca873d50ae77",
   "metadata": {},
   "outputs": [],
   "source": []
  }
 ],
 "metadata": {
  "kernelspec": {
   "display_name": "Python 3 (ipykernel)",
   "language": "python",
   "name": "python3"
  },
  "language_info": {
   "codemirror_mode": {
    "name": "ipython",
    "version": 3
   },
   "file_extension": ".py",
   "mimetype": "text/x-python",
   "name": "python",
   "nbconvert_exporter": "python",
   "pygments_lexer": "ipython3",
   "version": "3.12.5"
  }
 },
 "nbformat": 4,
 "nbformat_minor": 5
}
