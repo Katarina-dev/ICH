{
 "cells": [
  {
   "cell_type": "code",
   "execution_count": 1,
   "id": "89f45c33-c4db-40a9-99c7-033a770d4d6d",
   "metadata": {},
   "outputs": [
    {
     "name": "stdout",
     "output_type": "stream",
     "text": [
      "Привет, Иван\n"
     ]
    }
   ],
   "source": [
    "print('Привет, Иван')"
   ]
  },
  {
   "cell_type": "code",
   "execution_count": null,
   "id": "d67b20d4-93cd-4450-a083-dc657724de80",
   "metadata": {},
   "outputs": [],
   "source": [
    "Веб-страницы состоят из строк типа \"<i>Yay</i>\" - выводит текст Yay курсивом. В\n",
    "этом примере, строка-тег “i” означает <i> и </i>, которые окружают слово Yay. Нам\n",
    "дана строка-тэг и текст. Написать программу, которая выводит тег вокруг данного\n",
    "текста, например, \"<i>Yay</i>\". Например, ('i', 'Hello') → '<i>Hello</i>'.\n"
   ]
  },
  {
   "cell_type": "code",
   "execution_count": 5,
   "id": "9dd2b9e5-609e-4520-904d-cc04e0022856",
   "metadata": {},
   "outputs": [
    {
     "name": "stdin",
     "output_type": "stream",
     "text": [
      "text >> tag\n",
      "tag >> adsdfsd\n"
     ]
    },
    {
     "name": "stdout",
     "output_type": "stream",
     "text": [
      "<adsdfsd>tag</adsdfsd>\n"
     ]
    }
   ],
   "source": [
    "t = input('text >>')\n",
    "teg = input('tag >>')\n",
    "i1 = '<'+ teg +'>'\n",
    "i2 = '</'+ teg +'>'\n",
    "print(i1 + t + i2)"
   ]
  },
  {
   "cell_type": "code",
   "execution_count": null,
   "id": "d7ac0fe9-beec-435e-adb3-310b1a9e38be",
   "metadata": {},
   "outputs": [],
   "source": [
    "Дана строка. Написать программу, которая создает строку из трех копий последних\n",
    "двух символов данной строки. Данная строка должна быть длиной минимум 2.\n",
    "(('Hello') → 'lololo'), ('ab') → 'ababab'"
   ]
  },
  {
   "cell_type": "code",
   "execution_count": 11,
   "id": "60f99c6a-26ea-42da-95c1-bb3fef134d4e",
   "metadata": {},
   "outputs": [
    {
     "name": "stdin",
     "output_type": "stream",
     "text": [
      "text >> katrina\n"
     ]
    },
    {
     "name": "stdout",
     "output_type": "stream",
     "text": [
      "nanana\n"
     ]
    }
   ],
   "source": [
    "t = input('text >>')\n",
    "\n",
    "y = t[-2:]\n",
    "print(y*3)"
   ]
  },
  {
   "cell_type": "code",
   "execution_count": null,
   "id": "679b9783-bab1-4e1a-99d5-0e4b9300e7de",
   "metadata": {},
   "outputs": [],
   "source": [
    " Дана строка, написать программу, которая печатает строку без первого и\n",
    "последнего символа от данной строки, например, “Иван” - “ва”. “Python” -> “ytho”.\n"
   ]
  },
  {
   "cell_type": "code",
   "execution_count": 15,
   "id": "fadef30c-57f6-4e5f-bdb8-17711492a77f",
   "metadata": {},
   "outputs": [
    {
     "name": "stdin",
     "output_type": "stream",
     "text": [
      "text >> taiufo\n"
     ]
    },
    {
     "name": "stdout",
     "output_type": "stream",
     "text": [
      "aiuf\n"
     ]
    }
   ],
   "source": [
    "t = input('text >>')\n",
    "y = t[1:-1]\n",
    "print(y)"
   ]
  },
  {
   "cell_type": "code",
   "execution_count": null,
   "id": "770fe4e4-949d-4dab-b8d1-f03ecc8f6a65",
   "metadata": {},
   "outputs": [],
   "source": [
    "Даны две строки разной длины (одна может быть пустой). Написать программу,\n",
    "которая печатает строку вида короткая+длинная+короткая, где короткая строка\n",
    "снаружи длинной. Например, 'Hello', 'hi' → 'hiHellohi'.\n"
   ]
  },
  {
   "cell_type": "code",
   "execution_count": 19,
   "id": "55dd4ab1-75bc-4502-a303-03ec8a2bf783",
   "metadata": {},
   "outputs": [
    {
     "name": "stdin",
     "output_type": "stream",
     "text": [
      "text_1 >> hi\n",
      "text_2 >> Hello\n"
     ]
    },
    {
     "name": "stdout",
     "output_type": "stream",
     "text": [
      "hiHellohi\n"
     ]
    }
   ],
   "source": [
    "t1 = input('text_1 >>')\n",
    "t2 = input('text_2 >>')\n",
    "\n",
    "if len(t1) > len(t2):\n",
    "    print(t2+t1+t2)\n",
    "else:\n",
    "    print(t1+t2+t1)"
   ]
  },
  {
   "cell_type": "code",
   "execution_count": 21,
   "id": "3cec42c8-4bbb-43e5-93df-6d2f7baf1b0a",
   "metadata": {},
   "outputs": [
    {
     "name": "stdin",
     "output_type": "stream",
     "text": [
      "text_1 >> hi\n",
      "text_1 >> Hello\n"
     ]
    },
    {
     "name": "stdout",
     "output_type": "stream",
     "text": [
      "hiHellohi\n"
     ]
    }
   ],
   "source": [
    "w1 = input('text_1 >>')\n",
    "w2 = input('text_1 >>')\n",
    "\n",
    "max_word = max(w1, w2, key=len)\n",
    "min_word = min(w1, w2, key=len)\n",
    "\n",
    "print(min_word + max_word + min_word)"
   ]
  },
  {
   "cell_type": "code",
   "execution_count": null,
   "id": "24cdbb0c-0433-4205-a366-c0064dfd24e2",
   "metadata": {},
   "outputs": [],
   "source": [
    "Написать программу, которая печатает True, если слова “cat” и “dog” встречаются в\n",
    "строке одинаковое количество раз (и напечатать false - если разное количество\n",
    "раз). 'catdog' → True, 'catcat' → False, '1cat1cadodog' → True"
   ]
  },
  {
   "cell_type": "code",
   "execution_count": 29,
   "id": "c12d98cb-f1f7-48fa-8ede-59635109cf7c",
   "metadata": {},
   "outputs": [
    {
     "name": "stdin",
     "output_type": "stream",
     "text": [
      "text >> dfdgfdog\n"
     ]
    },
    {
     "name": "stdout",
     "output_type": "stream",
     "text": [
      "False\n"
     ]
    }
   ],
   "source": [
    "t = input('text >>')\n",
    "\n",
    "c = t.count(\"cat\")\n",
    "d = t.count(\"dog\")\n",
    "\n",
    "if c == d:\n",
    "    print(True)\n",
    "else:\n",
    "    print(False)\n"
   ]
  },
  {
   "cell_type": "code",
   "execution_count": null,
   "id": "503d0b76-0c66-41a8-8e85-07f6e1a5bed6",
   "metadata": {},
   "outputs": [],
   "source": [
    "Для данной строки, напечатать строку, где каждый символ повторяется дважды,\n",
    "например, 'The' → 'TThhee', 'AAbb' → 'AAAAbbbb'. Подсказка: цикл \"for i in\n",
    "range(len(str)):\" перебрать i по каждому значению индекса в строке 0, 1, 2, .. len-1.\n"
   ]
  },
  {
   "cell_type": "code",
   "execution_count": 3,
   "id": "6ed3810d-8e53-4798-bf28-22a776836348",
   "metadata": {},
   "outputs": [
    {
     "name": "stdin",
     "output_type": "stream",
     "text": [
      "Введите текст>> reioijlkljd\n"
     ]
    },
    {
     "name": "stdout",
     "output_type": "stream",
     "text": [
      "rreeiiooiijjllkklljjdd\n"
     ]
    }
   ],
   "source": [
    "text = input('Введите текст>>')\n",
    "i=0\n",
    "res = ''\n",
    "while i < len(text):\n",
    "    res = res + text[i]*2\n",
    "    i +=1\n",
    "print(res)"
   ]
  },
  {
   "cell_type": "code",
   "execution_count": null,
   "id": "e5a22813-3112-40fe-861f-94a69df26b74",
   "metadata": {},
   "outputs": [],
   "source": [
    "Написать программу, которая печатает количество вхождений данной подстроки в\n",
    "строку. Например, для подстроки hi, 'abc hi ho' → 1, для подстроки “well”, 'ABCwell\n",
    "well') → 2."
   ]
  },
  {
   "cell_type": "code",
   "execution_count": 8,
   "id": "5a7ae9f6-72f6-4cfd-82f8-6e03e7163118",
   "metadata": {},
   "outputs": [
    {
     "name": "stdin",
     "output_type": "stream",
     "text": [
      "Введите текст>> abc\n",
      "Введите текст>> bc\n"
     ]
    },
    {
     "name": "stdout",
     "output_type": "stream",
     "text": [
      "1\n"
     ]
    }
   ],
   "source": [
    "x = input('Введите текст>>')\n",
    "n = input('Введите текст>>')\n",
    "y = x.count(n)\n",
    "\n",
    "print(y)"
   ]
  },
  {
   "cell_type": "code",
   "execution_count": null,
   "id": "1b0e1f4b-eedf-488a-adf4-7e8a5a9787b6",
   "metadata": {},
   "outputs": [],
   "source": [
    "Написать программу, которая по данному радиусу вычисляет: длину окружности,\n",
    "площадь круга, объем шара."
   ]
  },
  {
   "cell_type": "code",
   "execution_count": null,
   "id": "7182b721-ffb5-43bb-b83a-091d10031800",
   "metadata": {},
   "outputs": [],
   "source": [
    "import math\n",
    "\n",
    "r = int(input('радиус:'))\n",
    "\n",
    "length = 2 * math.pi * r\n",
    "s = math.pi * r ** 2\n",
    "v = 4 / 3 * math.pi * r ** 3\n",
    "\n",
    "print(f'длинна: {round(length, 2)}')\n",
    "print(f'площадь: {round(s, 2)}')\n",
    "print(f'объем: {v:.2f}')"
   ]
  },
  {
   "cell_type": "code",
   "execution_count": null,
   "id": "6a941193-afe8-49fd-acb6-a844e84cde0e",
   "metadata": {},
   "outputs": [],
   "source": [
    "Написать программу, которая по заданной длине катетов прямоугольного треугольника, вычисляет длину гипотенузы. a. \n",
    "Поменяйте программу так, чтобы длина гипотенузы выводилась с точностью до двух знаков после запятой."
   ]
  },
  {
   "cell_type": "code",
   "execution_count": null,
   "id": "2c158f79-e011-425c-bfb7-6962305387b7",
   "metadata": {},
   "outputs": [],
   "source": [
    "import math\n",
    "a = float(input('Введите длину первого катета: '))\n",
    "b = float(input('Введите длину второго катета: '))\n",
    "c = math.sqrt(a ** 2 + b ** 2)\n",
    "print(f'Длина гипотенизы: {c:.2f}')"
   ]
  },
  {
   "cell_type": "code",
   "execution_count": null,
   "id": "28ebb7d6-66fe-416e-957f-09218bf323fa",
   "metadata": {},
   "outputs": [],
   "source": [
    "11. Написать программу, которая считывает 5 вещественных чисел с клавиатуры и\n",
    "печатает сумму этих чисел с точностью до одного знака после запятой."
   ]
  },
  {
   "cell_type": "code",
   "execution_count": null,
   "id": "199271c7-7908-4300-b552-978d83357826",
   "metadata": {},
   "outputs": [],
   "source": [
    "total = 0.0\n",
    "count = 0\n",
    "\n",
    "while count < 5:\n",
    "    num = float(input(f'Введите вещественное число {count + 1}: '))\n",
    "    total += num\n",
    "    count += 1\n",
    "    \n",
    "print(f'Сумма чисел: {total:.1f}')"
   ]
  },
  {
   "cell_type": "code",
   "execution_count": null,
   "id": "b755b678-3321-4681-9178-7170ba524c1c",
   "metadata": {},
   "outputs": [],
   "source": []
  },
  {
   "cell_type": "code",
   "execution_count": 7,
   "id": "0083e833-b0c0-403c-9d11-202953ad393d",
   "metadata": {},
   "outputs": [
    {
     "name": "stdin",
     "output_type": "stream",
     "text": [
      "Введите текст>> cat cat cat\n"
     ]
    },
    {
     "name": "stdout",
     "output_type": "stream",
     "text": [
      "No pattern found\n"
     ]
    }
   ],
   "source": [
    "text = input('Введите текст>>')\n",
    "\n",
    "i = 1\n",
    "while i < len(text):\n",
    "    pattern = text[: 1 + 1]\n",
    "    if text.count(pattern) * len(pattern)== len(text):\n",
    "        print(pattern)\n",
    "        break\n",
    "    i += 1\n",
    "else:\n",
    "    print('No pattern found')"
   ]
  },
  {
   "cell_type": "code",
   "execution_count": null,
   "id": "7debfc84-f01e-428f-bdaa-8ce669bfb3e2",
   "metadata": {},
   "outputs": [],
   "source": [
    "text = input('text>>')\n",
    "\n",
    "i = 0\n",
    "while i < len(text):\n",
    "    pattern = text[: i + 1]\n",
    "    if text.count(pattern) * len(pattern) == len(text):\n",
    "        print(pattern)\n",
    "        break\n",
    "    i += 1"
   ]
  }
 ],
 "metadata": {
  "kernelspec": {
   "display_name": "Python 3 (ipykernel)",
   "language": "python",
   "name": "python3"
  },
  "language_info": {
   "codemirror_mode": {
    "name": "ipython",
    "version": 3
   },
   "file_extension": ".py",
   "mimetype": "text/x-python",
   "name": "python",
   "nbconvert_exporter": "python",
   "pygments_lexer": "ipython3",
   "version": "3.12.5"
  }
 },
 "nbformat": 4,
 "nbformat_minor": 5
}
