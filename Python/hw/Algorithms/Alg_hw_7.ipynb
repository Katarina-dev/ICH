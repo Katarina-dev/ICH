{
 "cells": [
  {
   "cell_type": "raw",
   "id": "ec1e4ddf-a91d-4012-83a7-ebbe41e8acd3",
   "metadata": {},
   "source": [
    "Постройте частотный словарь букв немецкого или английского алфавита. Частотный словарь букв - это структура данных или набор информации, который содержит информацию о том, какие буквы встречаются в тексте и с какой частотой. "
   ]
  },
  {
   "cell_type": "code",
   "execution_count": 13,
   "id": "cce8f9d2-1c1d-4bd6-84d5-dab8716037a2",
   "metadata": {},
   "outputs": [
    {
     "name": "stdin",
     "output_type": "stream",
     "text": [
      " collections.Counter\n"
     ]
    },
    {
     "name": "stdout",
     "output_type": "stream",
     "text": [
      "{'c': 3, 'o': 3, 'l': 2, 'e': 2, 't': 2, 'i': 1, 'n': 2, 's': 1, 'u': 1, 'r': 1}\n"
     ]
    }
   ],
   "source": [
    "def get_count_simbols():\n",
    "    text = ''.join(input().lower().split())\n",
    "    alphabet = 'abcdefghijklmnopqrstuvwxyzäöüß'\n",
    "    cnt_dict = {}\n",
    "    \n",
    "    for i in text:\n",
    "        if i in alphabet:\n",
    "            cnt_dict[i] = cnt_dict.get(i, 0) + 1\n",
    "    return cnt_dict\n",
    "\n",
    "example = get_count_simbols()\n",
    "print(example)\n",
    "    "
   ]
  },
  {
   "cell_type": "code",
   "execution_count": null,
   "id": "82606fc4-2927-4014-95fb-3f7a9327b6a8",
   "metadata": {},
   "outputs": [],
   "source": []
  }
 ],
 "metadata": {
  "kernelspec": {
   "display_name": "Python 3 (ipykernel)",
   "language": "python",
   "name": "python3"
  },
  "language_info": {
   "codemirror_mode": {
    "name": "ipython",
    "version": 3
   },
   "file_extension": ".py",
   "mimetype": "text/x-python",
   "name": "python",
   "nbconvert_exporter": "python",
   "pygments_lexer": "ipython3",
   "version": "3.12.5"
  }
 },
 "nbformat": 4,
 "nbformat_minor": 5
}
