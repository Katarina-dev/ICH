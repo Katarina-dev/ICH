{
 "cells": [
  {
   "cell_type": "code",
   "execution_count": null,
   "id": "47e31e2c-0347-40ba-b34d-0c7ab729819c",
   "metadata": {},
   "outputs": [],
   "source": [
    "Жадный алгоритм"
   ]
  },
  {
   "cell_type": "code",
   "execution_count": null,
   "id": "3801d938-b9a8-4500-aa89-1c782d9df873",
   "metadata": {},
   "outputs": [],
   "source": [
    "Задача выбора активностей.\n",
    "Даны заявки на проведение активностей в некоторой аудитории. Каждая заявка\n",
    "содержит время начала и конца. В каждой заявке указаны начало и конец\n",
    "активности. Нужно из всех заявок оставить как можно больше таких, чтобы они не\n",
    "пересекались.\n",
    "Представим, что у нас есть 11 заявок:"
   ]
  },
  {
   "cell_type": "code",
   "execution_count": 3,
   "id": "9b8663ee-5713-40b3-97d2-d7edf614c8a3",
   "metadata": {},
   "outputs": [
    {
     "name": "stdout",
     "output_type": "stream",
     "text": [
      "[(1, 4), (3, 5), (0, 6), (5, 7), (8, 9), (5, 9)]\n",
      "[(1, 4)]\n",
      "4\n",
      "[(1, 4), (5, 7), (8, 9)]\n"
     ]
    }
   ],
   "source": [
    "def select_activity(start_times, finish_times):\n",
    "    n = len(start_times)            #кол-во активностей\n",
    "    activities = list(zip(start_times, finish_times)) # делаем список кортежей из двух списков\n",
    "    activities.sort(key=lambda x: x[1])\n",
    "    print(activities)\n",
    "\n",
    "    selected_activities = [activities[0]]\n",
    "    print(selected_activities)\n",
    "    last_finish_time = activities[0][1]\n",
    "    print(last_finish_time)\n",
    "\n",
    "    for i in range(1, n):\n",
    "        current_start, current_finish = activities[i]\n",
    "        if current_start >= last_finish_time:\n",
    "            selected_activities.append(activities[i])\n",
    "            last_finish_time = current_finish\n",
    "\n",
    "    return selected_activities\n",
    "\n",
    "    \n",
    "start_times = [1, 3, 0, 5, 8, 5]\n",
    "finish_times = [4, 5, 6, 7, 9, 9]\n",
    "print(select_activity(start_times, finish_times))\n",
    "#[(1, 4), (3, 5), (0, 6)] - список кортежей"
   ]
  },
  {
   "cell_type": "code",
   "execution_count": null,
   "id": "f339ad03-a4aa-4457-9b60-3e4214a97917",
   "metadata": {},
   "outputs": [],
   "source": [
    "Размен монет"
   ]
  },
  {
   "cell_type": "code",
   "execution_count": 5,
   "id": "a1aa7fcd-9635-43a8-a307-b7a06c16b06c",
   "metadata": {},
   "outputs": [
    {
     "name": "stdout",
     "output_type": "stream",
     "text": [
      "[10, 10, 10, 10, 10, 10, 5, 2, 1]\n",
      "Counter({10: 6, 5: 1, 2: 1, 1: 1})\n"
     ]
    }
   ],
   "source": [
    "from collections import Counter\n",
    "\n",
    "def min_coins(amount, coins):\n",
    "    res = []\n",
    "    coins.sort(reverse=True)\n",
    "    for i in coins:\n",
    "        while amount >= i:\n",
    "            amount -= i\n",
    "            res.append(i)\n",
    "    return res\n",
    "\n",
    "\n",
    "coins = [1, 2, 5, 10]\n",
    "amount = 68\n",
    "\n",
    "res = min_coins(amount, coins)\n",
    "print(res)\n",
    "print(Counter(res))"
   ]
  },
  {
   "cell_type": "raw",
   "id": "3444838c-29c6-4a7a-a673-67e636857a1d",
   "metadata": {},
   "source": [
    "Мальчик подошел к платной лестнице. Чтобы наступить на любую ступеньку, нужно заплатить указанную на ней сумму. Мальчик умеет перешагивать на следующую ступеньку, либо перепрыгивать через ступеньку. Требуется узнать, какая наименьшая сумма понадобится мальчику, чтобы добраться до верхней ступеньки."
   ]
  },
  {
   "cell_type": "code",
   "execution_count": 8,
   "id": "0c9d3b59-35a4-4bdc-8700-6eddadbe7438",
   "metadata": {},
   "outputs": [
    {
     "name": "stdout",
     "output_type": "stream",
     "text": [
      "23\n"
     ]
    }
   ],
   "source": [
    "def min_cost(cost):\n",
    "    n = len(cost) # кол-во ступенек\n",
    "    total_cost = cost[0]\n",
    "    i = 0 # опередлили инекс текущей ступеньки\n",
    "\n",
    "    while i < n-1:\n",
    "        if i+2 >= n:\n",
    "            return total_cost\n",
    "\n",
    "        elif i + 1 < n and cost[i+1] < cost[i+2]:\n",
    "            total_cost += cost[i+1]\n",
    "            i += 1\n",
    "\n",
    "        else:\n",
    "            total_cost += cost[i+2]\n",
    "            i += 2\n",
    "\n",
    "    return total_cost\n",
    "    \n",
    "\n",
    "cost = [1, 22, 1, 21, 22]\n",
    "print(min_cost(cost))"
   ]
  },
  {
   "cell_type": "code",
   "execution_count": 11,
   "id": "b269d84d-75fe-4593-8131-7ef42fb08174",
   "metadata": {},
   "outputs": [
    {
     "name": "stdout",
     "output_type": "stream",
     "text": [
      "[0, 25, 22, 1, 21, 22]\n",
      "44\n"
     ]
    }
   ],
   "source": [
    "# когда есть дополнительная бесплатная ступенька вначале\n",
    "def min_cost(cost):\n",
    "    zero_cost = [0]\n",
    "    cost = zero_cost + cost\n",
    "    print(cost)\n",
    "    \n",
    "    n = len(cost) # кол-во ступенек\n",
    "    total_cost = cost[0]\n",
    "    i = -1 # опередлили инекс текущей ступеньки\n",
    "\n",
    "    while i < n-1:\n",
    "        if i+2 >= n:\n",
    "            return total_cost\n",
    "\n",
    "        elif i + 1 < n and cost[i+1] < cost[i+2]:\n",
    "            total_cost += cost[i+1]\n",
    "            i += 1\n",
    "\n",
    "        else:\n",
    "            total_cost += cost[i+2]\n",
    "            i += 2\n",
    "\n",
    "    return total_cost\n",
    "    \n",
    "\n",
    "cost = [25, 22, 1, 21, 22]\n",
    "print(min_cost(cost))"
   ]
  },
  {
   "cell_type": "code",
   "execution_count": 12,
   "id": "7bfc203b-d6fd-4dcf-a824-042e4dfd5799",
   "metadata": {},
   "outputs": [
    {
     "name": "stdout",
     "output_type": "stream",
     "text": [
      "44\n"
     ]
    }
   ],
   "source": [
    "# когда есть дополнительная бесплатная ступенька вначале\n",
    "def min_cost(cost):\n",
    "    n = len(cost)# кол-во ступенек\n",
    "    total_cost = 0\n",
    "    i = -1# опередлили инекс текущей ступеньки\n",
    "    \n",
    "    while i < n-1:\n",
    "        if i+2 >= n:\n",
    "            return total_cost\n",
    "\n",
    "        elif i + 1 < n and cost[i+1] < cost[i+2]:\n",
    "            total_cost += cost[i+1]\n",
    "            i += 1\n",
    "\n",
    "        else:\n",
    "            total_cost += cost[i+2]\n",
    "            i += 2\n",
    "\n",
    "    return total_cost\n",
    "    \n",
    "\n",
    "cost = [25, 22, 1, 21, 22]\n",
    "print(min_cost(cost))"
   ]
  },
  {
   "cell_type": "raw",
   "id": "883d6495-99ab-4126-8c02-292461484f45",
   "metadata": {},
   "source": [
    "Задача о ранце (рюкзаке). \n",
    "\n",
    "Задача заключается в выборе предметов с наибольшей суммарной стоимостью, вмещающихся в рюкзак заданного размера, то есть учитывая вес и стоимость n предметов, нам нужно положить эти предметы в рюкзак некоторой вместимости, чтобы получить максимальную общую стоимость в рюкзаке. Продумайте алгоритм действий и реализуйте на языке Python."
   ]
  },
  {
   "cell_type": "code",
   "execution_count": 13,
   "id": "239487a6-fc6f-4629-92af-6ad12ab5f7fe",
   "metadata": {},
   "outputs": [
    {
     "name": "stdout",
     "output_type": "stream",
     "text": [
      "{13.333333333333334: 0, 1.6666666666666667: 1, 2.090909090909091: 2, 4.75: 3, 0.2857142857142857: 4}\n",
      "[13.333333333333334, 1.6666666666666667, 2.090909090909091, 4.75, 0.2857142857142857]\n",
      "0\n",
      "3\n",
      "2\n",
      "1\n",
      "4\n",
      "82 [3, 4, 11] [40, 19, 23]\n"
     ]
    }
   ],
   "source": [
    "def backpack(weights, price, volume):   # вес предмета, цена предмета, грузоподъемность рюкзака\n",
    "    if len(weights) != len(price):\n",
    "        return 'есть цена без веса или вес без цены'\n",
    "    T = {}\n",
    "    for i in range(0, len(weights)):\n",
    "        T[float(price[i]) / float(weights[i])] = i   \n",
    "    print(T)\n",
    "    \n",
    "    K = list(T.keys())   # список удельных ценностей\n",
    "    print(K)\n",
    "    \n",
    "    price_greedy = 0  # общая цена\n",
    "    weight_greedy = 0  # общий вес предметов в рюкзаке\n",
    "    result1 = []   #список для хранения весов предметов помещеных в рюкзак\n",
    "    result2 = []   #список для хранения цен предметов помещеных в рюкзак\n",
    "    \n",
    "    K.sort(reverse=True)\n",
    "    \n",
    "    for i in K:\n",
    "        index = T[i]\n",
    "        print(index)\n",
    "\n",
    "    # проверка - влезет ли предмет в рюкзак по весу\n",
    "        if weight_greedy + weights[index] <= volume:  # если влезает\n",
    "            weight_greedy += weights[index]    # то добавляем его в рюкзак\n",
    "            price_greedy += price[index]\n",
    "            \n",
    "            result1.append(weights[index])\n",
    "            result2.append(price[index])\n",
    "            \n",
    "    print(price_greedy, result1, result2)\n",
    "            \n",
    "\n",
    "weights = [3, 6, 11, 4, 7]\n",
    "price = [40, 10, 23, 19, 2]\n",
    "volume = 20\n",
    "\n",
    "backpack(weights, price, volume)"
   ]
  },
  {
   "cell_type": "code",
   "execution_count": null,
   "id": "72970d5b-0c0a-48d4-bacc-1dba81193ef2",
   "metadata": {},
   "outputs": [],
   "source": []
  }
 ],
 "metadata": {
  "kernelspec": {
   "display_name": "Python 3 (ipykernel)",
   "language": "python",
   "name": "python3"
  },
  "language_info": {
   "codemirror_mode": {
    "name": "ipython",
    "version": 3
   },
   "file_extension": ".py",
   "mimetype": "text/x-python",
   "name": "python",
   "nbconvert_exporter": "python",
   "pygments_lexer": "ipython3",
   "version": "3.13.3"
  }
 },
 "nbformat": 4,
 "nbformat_minor": 5
}
