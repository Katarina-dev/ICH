{
 "cells": [
  {
   "cell_type": "code",
   "execution_count": null,
   "id": "d7edf315-0e31-4701-ba6c-d760c40db502",
   "metadata": {},
   "outputs": [],
   "source": [
    "Написать жадный алгоритм на языке Python для размена монет.\n",
    "\n",
    "Для размена 100 = [10, 10, 10, 10, 10, 10, 10, 10, 10, 10]\n",
    "\n",
    "Для размена 23 = [10, 10, 2, 1]"
   ]
  },
  {
   "cell_type": "code",
   "execution_count": 7,
   "id": "028cf238-e081-473c-a19b-633c666d817d",
   "metadata": {},
   "outputs": [
    {
     "name": "stdout",
     "output_type": "stream",
     "text": [
      "[10, 10, 10, 10, 10, 10, 10, 10, 10, 10]\n",
      "Counter({10: 10})\n",
      "[10, 10, 2, 1]\n",
      "Counter({10: 2, 2: 1, 1: 1})\n"
     ]
    }
   ],
   "source": [
    "from collections import Counter\n",
    "\n",
    "def change_coins(amount, coins):\n",
    "    lst = []\n",
    "    coins.sort(reverse=True)\n",
    "    for i in coins:\n",
    "        while amount >= i:\n",
    "            amount -= i\n",
    "            lst.append(i)\n",
    "    return lst\n",
    "\n",
    "amount = 100\n",
    "coins = [10, 10, 10, 10, 10, 10, 10, 10, 10, 10]\n",
    "\n",
    "res = change_coins(amount, coins)\n",
    "print(res)\n",
    "print(Counter(res))\n",
    "\n",
    "amount = 23\n",
    "coins = [10, 10, 2, 1]\n",
    "\n",
    "res = change_coins(amount, coins)\n",
    "print(res)\n",
    "print(Counter(res))"
   ]
  }
 ],
 "metadata": {
  "kernelspec": {
   "display_name": "Python 3 (ipykernel)",
   "language": "python",
   "name": "python3"
  },
  "language_info": {
   "codemirror_mode": {
    "name": "ipython",
    "version": 3
   },
   "file_extension": ".py",
   "mimetype": "text/x-python",
   "name": "python",
   "nbconvert_exporter": "python",
   "pygments_lexer": "ipython3",
   "version": "3.13.3"
  }
 },
 "nbformat": 4,
 "nbformat_minor": 5
}
