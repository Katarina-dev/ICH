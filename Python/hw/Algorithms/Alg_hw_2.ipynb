{
 "cells": [
  {
   "cell_type": "code",
   "execution_count": null,
   "id": "798faf55-9d74-4432-9f8a-694ec19bbec4",
   "metadata": {},
   "outputs": [],
   "source": [
    "Реализуйте с помощью рекурсии и итерационно следующие функции число Фиббоначи."
   ]
  },
  {
   "cell_type": "code",
   "execution_count": 80,
   "id": "73b3371b-31d5-4507-a05d-81699c0e06e1",
   "metadata": {},
   "outputs": [
    {
     "name": "stdin",
     "output_type": "stream",
     "text": [
      "Enter number:  8\n"
     ]
    },
    {
     "name": "stdout",
     "output_type": "stream",
     "text": [
      "0 1 1 2 3 5 8 "
     ]
    }
   ],
   "source": [
    "#итеративно\n",
    "\n",
    "n = int(input('Enter number: '))\n",
    "a = 0\n",
    "b = 1\n",
    "c = 0\n",
    "\n",
    "while a <= n:\n",
    "    print(a, end = ' ')\n",
    "    c = a + b\n",
    "    a = b    \n",
    "    b = c\n",
    "\n",
    "\n",
    "    \n"
   ]
  },
  {
   "cell_type": "code",
   "execution_count": 77,
   "id": "bcacca1b-af5e-49ed-8d0f-de14552b6910",
   "metadata": {},
   "outputs": [
    {
     "name": "stdout",
     "output_type": "stream",
     "text": [
      "0\n",
      "1\n",
      "1\n",
      "2\n",
      "3\n",
      "5\n",
      "8\n"
     ]
    }
   ],
   "source": [
    "#рекурсивно\n",
    "\n",
    "def fibonacci_recursion(a, b, n):\n",
    "    if a > n:\n",
    "        return \n",
    "    print(a)   \n",
    "    fibonacci_recursion(b, a + b, n)\n",
    "    \n",
    "\n",
    "fibonacci_recursion(0, 1, 8)"
   ]
  },
  {
   "cell_type": "code",
   "execution_count": null,
   "id": "abd393c9-b6ac-4eb6-ae5e-a097cf397f50",
   "metadata": {},
   "outputs": [],
   "source": []
  },
  {
   "cell_type": "code",
   "execution_count": null,
   "id": "7be0c8c4-21e3-44ef-865c-2609479732da",
   "metadata": {},
   "outputs": [],
   "source": []
  }
 ],
 "metadata": {
  "kernelspec": {
   "display_name": "Python 3 (ipykernel)",
   "language": "python",
   "name": "python3"
  },
  "language_info": {
   "codemirror_mode": {
    "name": "ipython",
    "version": 3
   },
   "file_extension": ".py",
   "mimetype": "text/x-python",
   "name": "python",
   "nbconvert_exporter": "python",
   "pygments_lexer": "ipython3",
   "version": "3.12.5"
  }
 },
 "nbformat": 4,
 "nbformat_minor": 5
}
