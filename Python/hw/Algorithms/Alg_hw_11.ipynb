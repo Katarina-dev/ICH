{
 "cells": [
  {
   "cell_type": "markdown",
   "id": "e43bcb63-4b4f-4d15-9d42-ef98a0f61c8e",
   "metadata": {},
   "source": [
    "Определить особый вид двоичного дерева SumTree, обладающего следующим свойством: значение узла равняется сумме его левых и правых поддеревьев. Пустое дерево является SumTree и его значение считается равным 0. Лист дерева также считается SumTree. \n",
    "\n",
    "Пример:\n",
    "Это дерево является SumTree, так как 26 = 10+4+6+3+3, 10 = 4+6, 3 = 3.\n",
    "Нужно реализовать функцию, которая проверяет, является ли данное дерево SumTree. \n",
    "Алгоритм решения: использовать структуру node, изученную в классе для представления дерева. Рекомендуется реализовать 2 функции: \n",
    "sum(root), которая вернет сумму значений левого поддерева, сумму значений правого поддерева и значения корня.\n",
    "isSumTree(node), которая возвращает 1, если данный узел node является Sum Tree, 0 - если нет. Эта функция использует функцию sum для подсчета суммы значений поддеревьев.\n",
    "Базовым условием рекурсии является проверка, что node является None или не имеет ни правого ни левого поддерева. В таком случае возвращаем 1, то есть такая нода является sum tree по определению."
   ]
  },
  {
   "cell_type": "code",
   "execution_count": 2,
   "id": "a2752029-b29c-4e6a-9d7a-90512e02c1c9",
   "metadata": {},
   "outputs": [
    {
     "name": "stdout",
     "output_type": "stream",
     "text": [
      "1\n"
     ]
    }
   ],
   "source": [
    "class Node:\n",
    "    def __init__(self, data):\n",
    "        self.left = None\n",
    "        self.right = None\n",
    "        self.data = data\n",
    "\n",
    "def tree_sum(root):\n",
    "    if root is None:\n",
    "        return 0\n",
    "    return tree_sum(root.left) + root.data + tree_sum(root.right)\n",
    "\n",
    "def check_sum_tree(node):\n",
    "    if node is None or (node.left is None and node.right is None):\n",
    "        return 1\n",
    "\n",
    "    left_sum = tree_sum(node.left)\n",
    "    right_sum = tree_sum(node.right)\n",
    "\n",
    "    if node.data == left_sum + right_sum:\n",
    "        if check_sum_tree(node.left) and check_sum_tree(node.right):\n",
    "            return 1\n",
    "\n",
    "    return 0\n",
    "\n",
    "\n",
    "root = Node(26)\n",
    "root.left = Node(10)\n",
    "root.right = Node(3)\n",
    "root.left.left = Node(4)\n",
    "root.left.right = Node(6)\n",
    "root.right.right = Node(3)\n",
    "\n",
    "print(check_sum_tree(root))"
   ]
  },
  {
   "cell_type": "code",
   "execution_count": null,
   "id": "ef150b1f-473b-4917-a858-03ae45f2a004",
   "metadata": {},
   "outputs": [],
   "source": []
  }
 ],
 "metadata": {
  "kernelspec": {
   "display_name": "Python 3 (ipykernel)",
   "language": "python",
   "name": "python3"
  },
  "language_info": {
   "codemirror_mode": {
    "name": "ipython",
    "version": 3
   },
   "file_extension": ".py",
   "mimetype": "text/x-python",
   "name": "python",
   "nbconvert_exporter": "python",
   "pygments_lexer": "ipython3",
   "version": "3.13.3"
  }
 },
 "nbformat": 4,
 "nbformat_minor": 5
}
