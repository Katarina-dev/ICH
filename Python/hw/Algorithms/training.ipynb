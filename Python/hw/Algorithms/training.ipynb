{
 "cells": [
  {
   "cell_type": "code",
   "execution_count": 6,
   "id": "5d4d97df-4595-4f06-86a4-85b9ed7fb0e0",
   "metadata": {},
   "outputs": [
    {
     "data": {
      "text/plain": [
       "[0, 1, 2, 5, 7, 9]"
      ]
     },
     "execution_count": 6,
     "metadata": {},
     "output_type": "execute_result"
    }
   ],
   "source": [
    "def quick_sort(s):\n",
    "    if len(s) <= 1:\n",
    "        return s\n",
    "\n",
    "    pivot = s[0]\n",
    "    left_el = [i for i in s if i < pivot]\n",
    "    center_el = [i for i in s if i == pivot]\n",
    "    right_el = [i for i in s if i > pivot]\n",
    "\n",
    "    return  quick_sort(left_el) +  quick_sort(center_el) +  quick_sort(right_el)\n",
    "\n",
    "s = [2, 5, 7, 1, 0, 9]\n",
    "quick_sort(s)\n",
    "\n"
   ]
  },
  {
   "cell_type": "code",
   "execution_count": 11,
   "id": "e86074a9-c188-41c5-a328-32287efa5553",
   "metadata": {},
   "outputs": [
    {
     "name": "stdout",
     "output_type": "stream",
     "text": [
      "[1, 2, 3, 5, 8, 9]\n"
     ]
    }
   ],
   "source": [
    "def quick_sort_lambda(arr):\n",
    "    if len(arr) <= 1:\n",
    "        return arr\n",
    "\n",
    "    pivot = arr[0]\n",
    "    left_e = list(filter(lambda x: x < pivot, arr))\n",
    "    cent = [x for x in arr if x == pivot]\n",
    "    right_e = list(filter(lambda x: x > pivot, arr))\n",
    "\n",
    "    return quick_sort_lambda(left_e) + cent + quick_sort_lambda(right_e)\n",
    "\n",
    "\n",
    "numbers = [9, 2, 8, 1, 5, 3]\n",
    "print(quick_sort_lambda(numbers))\n",
    "     "
   ]
  },
  {
   "cell_type": "code",
   "execution_count": 21,
   "id": "473990a2-6ccf-4212-bba6-b648a9488b40",
   "metadata": {},
   "outputs": [
    {
     "name": "stdout",
     "output_type": "stream",
     "text": [
      "[1, 2, 3, 5, 8, 9]\n"
     ]
    }
   ],
   "source": [
    "import random as rd\n",
    "\n",
    "def quick_sort_random(arr2):\n",
    "    if len(arr2) <= 1:\n",
    "        return arr2\n",
    "    else:\n",
    "        pivot = rd.choice(arr2)\n",
    "        left_num = [a for a in arr2 if a < pivot]\n",
    "        center_num = [a for a in arr2 if a == pivot]\n",
    "        right_num = [a for a in arr2 if a > pivot]\n",
    "        return quick_sort_random(left_num) + center_num + quick_sort_random(right_num)\n",
    "\n",
    "nums = [9, 2, 8, 1, 5, 3]\n",
    "print(quick_sort_random(nums))   "
   ]
  },
  {
   "cell_type": "code",
   "execution_count": null,
   "id": "f22dfab5-b631-41cb-9aeb-1719d41f1f53",
   "metadata": {},
   "outputs": [],
   "source": []
  }
 ],
 "metadata": {
  "kernelspec": {
   "display_name": "Python 3 (ipykernel)",
   "language": "python",
   "name": "python3"
  },
  "language_info": {
   "codemirror_mode": {
    "name": "ipython",
    "version": 3
   },
   "file_extension": ".py",
   "mimetype": "text/x-python",
   "name": "python",
   "nbconvert_exporter": "python",
   "pygments_lexer": "ipython3",
   "version": "3.12.5"
  }
 },
 "nbformat": 4,
 "nbformat_minor": 5
}
