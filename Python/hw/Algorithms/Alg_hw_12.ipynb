{
 "cells": [
  {
   "cell_type": "code",
   "execution_count": 2,
   "id": "816a85d0-e751-4941-8555-b886ac2367d6",
   "metadata": {},
   "outputs": [
    {
     "name": "stdout",
     "output_type": "stream",
     "text": [
      "True\n",
      "False\n"
     ]
    }
   ],
   "source": [
    "class Node:\n",
    "    def __init__(self, data):\n",
    "        self.data = data\n",
    "        self.left = None\n",
    "        self.right = None\n",
    "\n",
    "def identicalTrees(a, b):\n",
    "    # Оба дерева пустые\n",
    "    if a is None and b is None:\n",
    "        return True\n",
    "\n",
    "    if a is not None and b is not None:\n",
    "        return (\n",
    "            a.data == b.data and\n",
    "            identicalTrees(a.left, b.left) and\n",
    "            identicalTrees(a.right, b.right)\n",
    "        )\n",
    "\n",
    "    return False\n",
    "\n",
    "tree1 = Node(1)\n",
    "tree1.left = Node(2)\n",
    "tree1.right = Node(3)\n",
    "tree1.left.left = Node(4)\n",
    "\n",
    "tree2 = Node(1)\n",
    "tree2.left = Node(2)\n",
    "tree2.right = Node(3)\n",
    "tree2.left.left = Node(4)\n",
    "\n",
    "print(identicalTrees(tree1, tree2))\n",
    "\n",
    "tree3 = Node(1)\n",
    "tree3.left = Node(5)\n",
    "tree3.right = Node(3)\n",
    "tree3.left.left = Node(4)\n",
    "\n",
    "print(identicalTrees(tree1, tree3)) "
   ]
  },
  {
   "cell_type": "code",
   "execution_count": null,
   "id": "4c04bfd8-4122-4dd1-97ed-4fc216e00014",
   "metadata": {},
   "outputs": [],
   "source": []
  }
 ],
 "metadata": {
  "kernelspec": {
   "display_name": "Python 3 (ipykernel)",
   "language": "python",
   "name": "python3"
  },
  "language_info": {
   "codemirror_mode": {
    "name": "ipython",
    "version": 3
   },
   "file_extension": ".py",
   "mimetype": "text/x-python",
   "name": "python",
   "nbconvert_exporter": "python",
   "pygments_lexer": "ipython3",
   "version": "3.13.3"
  }
 },
 "nbformat": 4,
 "nbformat_minor": 5
}
