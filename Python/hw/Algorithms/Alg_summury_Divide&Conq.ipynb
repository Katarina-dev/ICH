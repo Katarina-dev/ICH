{
 "cells": [
  {
   "cell_type": "raw",
   "id": "8fcbd2a8-9089-424d-bb0f-01ef841971d3",
   "metadata": {},
   "source": [
    "Имея два отсортированных массива размера m и n соответственно, вам нужно найти элемент, который будет находиться на k-й позиции в конечном отсортированном массиве.\n",
    "\n",
    "\n",
    "Массив 1 - 100 112 256 349 770\n",
    "\n",
    "Массив 2 - 72 86 113 119 265 445 892\n",
    "\n",
    "к = 7\n",
    "\n",
    "Вывод : 256\n",
    "\n",
    "\n",
    "Окончательный отсортированный массив -\n",
    "\n",
    "72, 86, 100, 112, 113, 119, 256, 265, 349, 445, 770, 892\n",
    "\n",
    "7-й элемент этого массива равен 256."
   ]
  },
  {
   "cell_type": "code",
   "execution_count": 7,
   "id": "be50049e-bba2-41a7-bb5c-f0b503e783e1",
   "metadata": {},
   "outputs": [
    {
     "name": "stdout",
     "output_type": "stream",
     "text": [
      "k-ый элемент 54\n"
     ]
    }
   ],
   "source": [
    "def find_kth_element(sorted_arr1, sorted_arr2, k_position):\n",
    "    if len(sorted_arr1) == 0 and k_position <= len(sorted_arr2):\n",
    "        return sorted_arr2[k_position]\n",
    "        \n",
    "    if len(sorted_arr2) == 0 and k_position <= len(sorted_arr1):\n",
    "        return sorted_arr1[k_position]\n",
    "\n",
    "    mid_index1 = len(sorted_arr1) // 2\n",
    "    mid_index2 = len(sorted_arr2) // 2\n",
    "\n",
    "    if mid_index1 + mid_index2 < k_position:\n",
    "        \n",
    "        if  sorted_arr1[mid_index1] > sorted_arr2[mid_index2]:\n",
    "            return find_kth_element(sorted_arr1, \n",
    "                                    sorted_arr2[mid_index2+1:], \n",
    "                                    k_position-mid_index2)\n",
    "        else:\n",
    "            return find_kth_element(sorted_arr1[mid_index1+1:], \n",
    "                                    sorted_arr2, \n",
    "                                    k_position-mid_index1-1)\n",
    "    else:\n",
    "        if  sorted_arr1[mid_index1] > sorted_arr2[mid_index2]:\n",
    "            return find_kth_element(sorted_arr1[:mid_index1], \n",
    "                                    sorted_arr2, \n",
    "                                    k_position)\n",
    "        else:\n",
    "           return find_kth_element(sorted_arr1, \n",
    "                                    sorted_arr2[:mid_index2], \n",
    "                                    k_position)\n",
    "\n",
    "k=4\n",
    "sorted_arr1 = [12, 22, 33, 44, 45]  # Отсортированный первый массив\n",
    "sorted_arr2 = [3, 14, 54]  # Отсортированный второй массив\n",
    "\n",
    "result = (find_kth_element(sorted_arr1, sorted_arr2, k-1))\n",
    "print(f'k-ый элемент {result}')"
   ]
  },
  {
   "cell_type": "code",
   "execution_count": 14,
   "id": "7efb11d4-e391-4cdc-90ac-aad60d3ba8a3",
   "metadata": {},
   "outputs": [
    {
     "name": "stdout",
     "output_type": "stream",
     "text": [
      "k-ый элемент 22\n"
     ]
    }
   ],
   "source": [
    "def find_kth_element(sorted_array1, sorted_array2, k_position):\n",
    "    \n",
    "    if len(sorted_array1) == 0 and k_position <= len(sorted_array2):\n",
    "        return sorted_array2[k_position]\n",
    "    \n",
    "    if len(sorted_array2) == 0 and k_position <= len(sorted_array1):\n",
    "        return sorted_array1[k_position]\n",
    "    \n",
    "    mid_index1 = len(sorted_array1) // 2\n",
    "    mid_index2 = len(sorted_array2) // 2\n",
    "    if mid_index1 + mid_index2 < k_position:\n",
    "        \n",
    "        if sorted_array1[mid_index1] > sorted_array2[mid_index2]:\n",
    "            return find_kth_element(sorted_array1,\n",
    "                                    sorted_array2[mid_index2+1:],\n",
    "                                    k_position-mid_index2-1)\n",
    "        else:\n",
    "            return find_kth_element(sorted_array1[mid_index1+1:],\n",
    "                                    sorted_array2,\n",
    "                                    k_position-mid_index1-1)\n",
    "        \n",
    "    else:\n",
    "        if sorted_array1[mid_index1] > sorted_array2[mid_index2]:\n",
    "            return find_kth_element(sorted_array1[:mid_index1],\n",
    "                                    sorted_array2,\n",
    "                                    k_position)\n",
    "        \n",
    "        else:\n",
    "            return find_kth_element(sorted_array1,\n",
    "                                    sorted_array2[:mid_index2],\n",
    "                                    k_position)\n",
    "\n",
    "k=4\n",
    "sorted_array1 = [12, 22, 33, 44, 45]  # Отсортированный первый массив\n",
    "sorted_array2 = [3, 14, 54]  # Отсортированный второй массив\n",
    "\n",
    "result = (find_kth_element(sorted_array1, sorted_array2, k-1))\n",
    "print(f'k-ый элемент {result}')"
   ]
  },
  {
   "cell_type": "code",
   "execution_count": 15,
   "id": "6e8c5bf1-6c5b-423a-897e-922b3c1b3293",
   "metadata": {},
   "outputs": [
    {
     "name": "stdout",
     "output_type": "stream",
     "text": [
      "k-ый элемент 22\n"
     ]
    }
   ],
   "source": [
    "def find_kth_element_iter(sorted_array1, sorted_array2, k_position):\n",
    "    index1, index2 = 0, 0\n",
    "    current_element = None\n",
    "    while k_position >= 0:\n",
    "        if index1 >= len(sorted_array1):\n",
    "            current_element = sorted_array2[index2]\n",
    "            index1 += 1 \n",
    "            \n",
    "        elif index2 >= len(sorted_array2):\n",
    "            current_element = sorted_array1[index1]\n",
    "            index2 += 1\n",
    "            \n",
    "        elif sorted_array1[index1] < sorted_array2[index2]:\n",
    "            current_element = sorted_array1[index1]\n",
    "            index1 += 1\n",
    "        \n",
    "        else:\n",
    "            current_element = sorted_array2[index2]\n",
    "            index2 += 1\n",
    "        k_position -=1\n",
    "        \n",
    "    return current_element\n",
    "\n",
    "result = (find_kth_element(sorted_array1, sorted_array2, k-1))\n",
    "print(f'k-ый элемент {result}')"
   ]
  },
  {
   "cell_type": "code",
   "execution_count": null,
   "id": "b132479d-79df-4799-ac4c-7f0fd240e4da",
   "metadata": {},
   "outputs": [],
   "source": []
  }
 ],
 "metadata": {
  "kernelspec": {
   "display_name": "Python 3 (ipykernel)",
   "language": "python",
   "name": "python3"
  },
  "language_info": {
   "codemirror_mode": {
    "name": "ipython",
    "version": 3
   },
   "file_extension": ".py",
   "mimetype": "text/x-python",
   "name": "python",
   "nbconvert_exporter": "python",
   "pygments_lexer": "ipython3",
   "version": "3.12.5"
  }
 },
 "nbformat": 4,
 "nbformat_minor": 5
}
