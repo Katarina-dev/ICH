{
 "cells": [
  {
   "cell_type": "code",
   "execution_count": null,
   "id": "8d243979-7c58-417c-8cfb-f18e9e7b2d6b",
   "metadata": {},
   "outputs": [],
   "source": [
    "Связанные списки"
   ]
  },
  {
   "cell_type": "code",
   "execution_count": 6,
   "id": "0119ddc2-a30c-44e1-be92-e38fc02f72b9",
   "metadata": {},
   "outputs": [
    {
     "name": "stdout",
     "output_type": "stream",
     "text": [
      "the first element\n",
      "<__main__.Node object at 0x0000027D27032360>\n",
      "the forth element\n"
     ]
    }
   ],
   "source": [
    "class Node:\n",
    "    def __init__(self, value=None, next=None):\n",
    "        self.value = value\n",
    "        self.next = next\n",
    "\n",
    "n4 = Node('the forth element')\n",
    "n3 = Node('the third element', n4)\n",
    "n2 = Node('the second element', n3)\n",
    "n1 = Node('the first element', n2)\n",
    "\n",
    "print(n1.value)\n",
    "print(n1.next)\n",
    "print(n1.next.next.next.value)"
   ]
  },
  {
   "cell_type": "code",
   "execution_count": null,
   "id": "cdca0761-6520-4604-ae38-a048d18638c0",
   "metadata": {},
   "outputs": [],
   "source": [
    "print(n1.next.next.next.value) эквивалентно print(None.value)"
   ]
  },
  {
   "cell_type": "code",
   "execution_count": 16,
   "id": "3e966cf2-37a9-4f92-8d7e-547fdb642883",
   "metadata": {},
   "outputs": [
    {
     "name": "stdout",
     "output_type": "stream",
     "text": [
      "the forth element -> None\n"
     ]
    }
   ],
   "source": [
    "def print_linked_list(node): # печатает все элементы односвязного списка\n",
    "    while node:\n",
    "        print(node.value, end=' -> ')\n",
    "        node = node.next\n",
    "    print(None)\n",
    "        \n",
    "# print_linked_list(n1)   \n",
    "# print_linked_list(n3)\n",
    "# print_linked_list(n4) \n",
    "# print_linked_list(n1) \n",
    "print_linked_list(n4)  "
   ]
  },
  {
   "cell_type": "code",
   "execution_count": 18,
   "id": "0b5a0bc4-f8d6-4680-8988-a358ab0cd16c",
   "metadata": {},
   "outputs": [
    {
     "name": "stdout",
     "output_type": "stream",
     "text": [
      "the third element\n"
     ]
    }
   ],
   "source": [
    "def get_node_by_index(node, index):\n",
    "    while index:\n",
    "        node = node.next\n",
    "        index -= 1\n",
    "    return node.value\n",
    "\n",
    "print(get_node_by_index(n1, 2))\n",
    "        "
   ]
  },
  {
   "cell_type": "code",
   "execution_count": 20,
   "id": "17cd6a59-795f-4dff-9ebd-910555b59bca",
   "metadata": {},
   "outputs": [
    {
     "name": "stdout",
     "output_type": "stream",
     "text": [
      "<__main__.Node object at 0x0000027D27032360>\n"
     ]
    }
   ],
   "source": [
    "def get_node_by_index(node, index):\n",
    "    index = index-1 # вернуть второй по счету элемент\n",
    "    while index:\n",
    "        node = node.next\n",
    "        index -= 1\n",
    "    # return node.value\n",
    "    return node\n",
    "\n",
    "print(get_node_by_index(n1, 2))"
   ]
  },
  {
   "cell_type": "code",
   "execution_count": 25,
   "id": "415141d2-61cc-421e-bb83-7186954be4ee",
   "metadata": {},
   "outputs": [],
   "source": [
    "def insert_node(head, index, value): # head - это первый узел списка\n",
    "    new_node = Node(value)\n",
    "    if index == 0:\n",
    "        new_node.next = head\n",
    "        return new_node\n",
    "        \n",
    "    prev_node = get_node_by_index(head, index-1)\n",
    "    new_node.next = prev_node.next\n",
    "    prev_node.next = new_node\n",
    "\n",
    "    return head\n",
    "\n",
    "\n",
    "new = insert_node(n1, 0, 'новый элемент')"
   ]
  },
  {
   "cell_type": "code",
   "execution_count": 26,
   "id": "c46255ac-23a0-4201-b492-67b46c027124",
   "metadata": {},
   "outputs": [
    {
     "name": "stdout",
     "output_type": "stream",
     "text": [
      "новый элемент -> the first element -> новый элемент -> новый элемент -> новый элемент -> the second element -> the third element -> the forth element -> None\n"
     ]
    }
   ],
   "source": [
    "print_linked_list(new)"
   ]
  },
  {
   "cell_type": "code",
   "execution_count": 36,
   "id": "5b6417e1-cd61-4e10-8d77-e7e2307cf088",
   "metadata": {},
   "outputs": [
    {
     "name": "stdout",
     "output_type": "stream",
     "text": [
      "3\n"
     ]
    }
   ],
   "source": [
    "class Node: #класс, отвечающий за один узел\n",
    "    def __init__(self, value=None, next=None):\n",
    "        self.value = value\n",
    "        self.next = next\n",
    "        \n",
    "class MyLinkedList: # класс отвечающий за функциональность которую можно использовать списком целиком\n",
    "    def __init__(self):\n",
    "        self.head = None\n",
    "        self.size = 0\n",
    "\n",
    "    def push_to_head(self, data): # метод добавляет элемент в начало списка\n",
    "        new_node = Node(data)\n",
    "        new_node.next = self.head\n",
    "        self.head = new_node\n",
    "        self.size += 1\n",
    "\n",
    "    def push_to_index(self, index, data):\n",
    "        if index < 0 or index > self.size:\n",
    "            raise IndexError('index out of range')\n",
    "\n",
    "        if index == 0:\n",
    "            push_to_head(self, data)       \n",
    "            return # нужен только чтобы прекратить выполнение функции\n",
    "\n",
    "        new_node = Node(data)\n",
    "        current = self.head\n",
    "        for i in range(index-1):\n",
    "            current = current.next\n",
    "\n",
    "        new_node.next = current.next\n",
    "        current.next = new_node\n",
    "        self.size += 1\n",
    "\n",
    "    def remove_first(self): # удаляет первый элемент\n",
    "        if self.head is None:\n",
    "            raise IndexError('empty list')\n",
    "        self.head = self.head.next\n",
    "        self.size -= 1\n",
    "\n",
    "    def remove_to_index(self, index):\n",
    "        if index < 0 or index > self.size:\n",
    "            raise IndexError('index out of range')\n",
    "\n",
    "        if index == 0:\n",
    "            remove_first()\n",
    "            return\n",
    "            \n",
    "        current = self.head\n",
    "        for i in range(index-1):\n",
    "            current = current.next\n",
    "\n",
    "        current.next = current.next.next\n",
    "        self.size -= 1\n",
    "        \n",
    "\n",
    "mll = MyLinkedList()\n",
    "mll.push_to_head(1)\n",
    "mll.push_to_head(14)\n",
    "mll.push_to_head(10)\n",
    "mll.push_to_index(2, 999999)\n",
    "\n",
    "mll.remove_first()\n",
    "print(mll.size)\n",
    "\n",
    "# print(mll.head.next.next.value)\n",
    "# print(mll.head.next.next.next.value)"
   ]
  },
  {
   "cell_type": "code",
   "execution_count": null,
   "id": "4261002e-9d1f-4ddd-b60a-e38bc58100f5",
   "metadata": {},
   "outputs": [],
   "source": []
  },
  {
   "cell_type": "code",
   "execution_count": 37,
   "id": "0f346c22-29a6-455d-95f2-7229398db16e",
   "metadata": {},
   "outputs": [
    {
     "name": "stdout",
     "output_type": "stream",
     "text": [
      "2\n"
     ]
    }
   ],
   "source": [
    "# вариант, который делали на уроке\n",
    "\n",
    "class Node:\n",
    "    def __init__(self, value = None, next = None):\n",
    "      self.value = value\n",
    "      self.next = next\n",
    "\n",
    "class MyLinkedList:\n",
    "    def __init__(self):\n",
    "        self.head = None\n",
    "        self.size = 0\n",
    "    def push_to_head(self,  data):\n",
    "      new_node = Node(data)\n",
    "      new_node.next = self.head\n",
    "      self.head = new_node\n",
    "      self.size += 1\n",
    "    def remo_first(self):\n",
    "      if self.head  is  None:\n",
    "         raise IndexError('список пуст')\n",
    "      self.head = self.head.next \n",
    "      self.size -= 1\n",
    "      \n",
    "mll = MyLinkedList()  \n",
    "mll.push_to_head(1)\n",
    "mll.push_to_head(14)\n",
    "mll.push_to_head(10)\n",
    "mll.remo_first()\n",
    "print(mll.size)"
   ]
  },
  {
   "cell_type": "code",
   "execution_count": null,
   "id": "e8d4b9e9-ee3d-4ded-929d-6c471b4760c5",
   "metadata": {},
   "outputs": [],
   "source": []
  }
 ],
 "metadata": {
  "kernelspec": {
   "display_name": "Python 3 (ipykernel)",
   "language": "python",
   "name": "python3"
  },
  "language_info": {
   "codemirror_mode": {
    "name": "ipython",
    "version": 3
   },
   "file_extension": ".py",
   "mimetype": "text/x-python",
   "name": "python",
   "nbconvert_exporter": "python",
   "pygments_lexer": "ipython3",
   "version": "3.13.3"
  }
 },
 "nbformat": 4,
 "nbformat_minor": 5
}
