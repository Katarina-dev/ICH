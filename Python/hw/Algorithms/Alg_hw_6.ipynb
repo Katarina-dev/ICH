{
 "cells": [
  {
   "cell_type": "code",
   "execution_count": 1,
   "id": "84e5aa03-0fbc-4391-af32-475f7717ca35",
   "metadata": {},
   "outputs": [
    {
     "name": "stdout",
     "output_type": "stream",
     "text": [
      "[0, 1, 2, 5, 7, 9]\n"
     ]
    }
   ],
   "source": [
    "def helper(arr, low, high):\n",
    "    pivot = arr[high]\n",
    "    i = low - 1\n",
    "\n",
    "    for j in range(low, high):\n",
    "        if arr[j] <= pivot:\n",
    "            i += 1\n",
    "            arr[i], arr[j] = arr[j], arr[i]\n",
    "\n",
    "    arr[i+1], arr[high] = arr[high], arr[i+1]\n",
    "    return i+1\n",
    "\n",
    "def quick_sort(arr, low, high):\n",
    "    if low < high:\n",
    "        pi = helper(arr, low, high)\n",
    "\n",
    "        quick_sort(arr, low, pi - 1)\n",
    "        quick_sort(arr, pi + 1, high)\n",
    "\n",
    "    return arr\n",
    "\n",
    "arr = [2, 9, 0, 5, 7, 1]\n",
    "\n",
    "print(quick_sort(arr, 0, len(arr) - 1))\n",
    "            \n",
    "\n"
   ]
  },
  {
   "cell_type": "code",
   "execution_count": null,
   "id": "e405ff27-57f0-4834-bdb4-d25acae7c5d1",
   "metadata": {},
   "outputs": [],
   "source": [
    "Итерационный подход"
   ]
  },
  {
   "cell_type": "code",
   "execution_count": 4,
   "id": "efdd6881-6158-4a14-aa55-6db84ebf463c",
   "metadata": {},
   "outputs": [
    {
     "name": "stdout",
     "output_type": "stream",
     "text": [
      "[0, 1, 2, 5, 7, 9]\n"
     ]
    }
   ],
   "source": [
    "def helper(arr, low, high):\n",
    "    pivot = arr[high]\n",
    "    i = low - 1\n",
    "\n",
    "    for j in range(low, high):\n",
    "        if arr[j] <= pivot:\n",
    "            i += 1\n",
    "            arr[i], arr[j] = arr[j], arr[i]\n",
    "\n",
    "    arr[i+1], arr[high] = arr[high], arr[i+1]\n",
    "    return i+1\n",
    "\n",
    "def iter_sort(arr, low, high):\n",
    "    stack = [(low, high)]\n",
    "    \n",
    "    while stack:\n",
    "        low, high = stack.pop()\n",
    "\n",
    "        if low < high:\n",
    "            pi = helper(arr, low, high)\n",
    "\n",
    "            stack.append((low, pi - 1))\n",
    "            stack.append((pi + 1, high))\n",
    "\n",
    "    return arr\n",
    "\n",
    "arr = [2, 9, 0, 5, 7, 1]\n",
    "\n",
    "print(iter_sort(arr, 0, len(arr) - 1))\n",
    "        "
   ]
  },
  {
   "cell_type": "code",
   "execution_count": null,
   "id": "aee084c8-5dee-4667-9c2b-2c204ebb7102",
   "metadata": {},
   "outputs": [],
   "source": []
  }
 ],
 "metadata": {
  "kernelspec": {
   "display_name": "Python 3 (ipykernel)",
   "language": "python",
   "name": "python3"
  },
  "language_info": {
   "codemirror_mode": {
    "name": "ipython",
    "version": 3
   },
   "file_extension": ".py",
   "mimetype": "text/x-python",
   "name": "python",
   "nbconvert_exporter": "python",
   "pygments_lexer": "ipython3",
   "version": "3.12.5"
  }
 },
 "nbformat": 4,
 "nbformat_minor": 5
}
