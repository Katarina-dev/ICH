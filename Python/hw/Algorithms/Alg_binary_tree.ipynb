{
 "cells": [
  {
   "cell_type": "code",
   "execution_count": null,
   "id": "d3c1b244-6812-44d8-b2d9-0bad55ed518f",
   "metadata": {},
   "outputs": [],
   "source": [
    "Бинарные деревья"
   ]
  },
  {
   "cell_type": "code",
   "execution_count": 4,
   "id": "772ab4f2-cd4e-4ff7-ae38-aff70b7ecedc",
   "metadata": {},
   "outputs": [
    {
     "name": "stdout",
     "output_type": "stream",
     "text": [
      "3\n",
      "7\n",
      "5\n",
      "30\n",
      "20\n",
      "10\n"
     ]
    }
   ],
   "source": [
    "class NodeTree:\n",
    "    def __init__(self, data):\n",
    "        self.left = None\n",
    "        self.right = None\n",
    "        self.data = data\n",
    "\n",
    "    def insert(self, value):\n",
    "        if self.data: \n",
    "            if value < self.data:\n",
    "                if  self.left is None:\n",
    "                    self.left = NodeTree(value)\n",
    "                else:\n",
    "                    self.left.insert(value)\n",
    "            elif value > self.data:\n",
    "                if self.right is None:\n",
    "                    self.right = NodeTree(value)\n",
    "                else:\n",
    "                    self.right.insert(value)\n",
    "        else:\n",
    "            self.data = value\n",
    "\n",
    "    # def insert(self, value):\n",
    "    #     if self.data: \n",
    "    #         if value < self.data:\n",
    "    #             if  self.left is None:\n",
    "    #                 self.left = NodeTree(value)\n",
    "    #             else:\n",
    "    #                 self.left.insert(value)\n",
    "    #         elif value > self.data:\n",
    "    #             if self.right is None:\n",
    "    #                 self.right = NodeTree(value)\n",
    "    #             else:\n",
    "    #                 self.right.insert(value)\n",
    "    #     else:\n",
    "    #         self.data = value\n",
    "\n",
    "    def findval(self, value):\n",
    "        if value < self.data:\n",
    "            if self.left is None:\n",
    "                return f'Элемент со значением {value} не найден'\n",
    "            else:\n",
    "                return self.left.findval(value)\n",
    "                \n",
    "        elif value > self.data:\n",
    "            if self.right is None:\n",
    "                return f'Элемент со значением {value} не найден'\n",
    "            else:\n",
    "                return self.right.findval(value)\n",
    "        else:\n",
    "            print('элемент найден')\n",
    "\n",
    "    def print_tree(self):\n",
    "        if self.left:\n",
    "            self.left.print_tree()\n",
    "\n",
    "        if self.right:\n",
    "            self.right.print_tree()\n",
    "\n",
    "        print(self.data)\n",
    "\n",
    "root = NodeTree(10)\n",
    "root.insert(5)\n",
    "root.insert(20)\n",
    "root.insert(3)\n",
    "root.insert(7)\n",
    "root.insert(30)\n",
    "\n",
    "root.print_tree()"
   ]
  },
  {
   "cell_type": "code",
   "execution_count": 10,
   "id": "172c5411-7f69-445d-9c3f-a45a3ad1bb49",
   "metadata": {},
   "outputs": [
    {
     "name": "stdout",
     "output_type": "stream",
     "text": [
      "Дерево перед удалением самого глубокого узла:\n",
      "3\n",
      "7\n",
      "5\n",
      "30\n",
      "20\n",
      "10\n",
      "Дерево после удалением самого глубокого узла:\n",
      "3\n",
      "7\n",
      "5\n",
      "30\n",
      "20\n",
      "10\n"
     ]
    }
   ],
   "source": [
    "def delete_deepest(root, d_node):\n",
    "    q = []\n",
    "    q.append(root)\n",
    "\n",
    "    while(len(q)):\n",
    "        temp = q.pop(0)\n",
    "        if temp is d_node:\n",
    "            temp = None\n",
    "            return\n",
    "\n",
    "        if temp.right:\n",
    "            if temp.right is d_node:\n",
    "                temp.right = None\n",
    "                return\n",
    "            else:\n",
    "                q.append(temp.right)\n",
    "\n",
    "        if temp.left:\n",
    "            if temp.left is d_node:\n",
    "                temp.left = None\n",
    "                return\n",
    "            else:\n",
    "                q.append(temp.left)\n",
    "\n",
    "print(\"Дерево перед удалением самого глубокого узла:\")\n",
    "root.print_tree()\n",
    "\n",
    "deepest_node = root.right.right\n",
    "\n",
    "delete_deepest(root, deepest_node)\n",
    "\n",
    "print(\"Дерево после удалением самого глубокого узла:\")\n",
    "root.print_tree()"
   ]
  },
  {
   "cell_type": "code",
   "execution_count": null,
   "id": "9d7587ad-c2e0-42fc-b3d1-0efc56d4b48f",
   "metadata": {},
   "outputs": [],
   "source": []
  }
 ],
 "metadata": {
  "kernelspec": {
   "display_name": "Python 3 (ipykernel)",
   "language": "python",
   "name": "python3"
  },
  "language_info": {
   "codemirror_mode": {
    "name": "ipython",
    "version": 3
   },
   "file_extension": ".py",
   "mimetype": "text/x-python",
   "name": "python",
   "nbconvert_exporter": "python",
   "pygments_lexer": "ipython3",
   "version": "3.13.3"
  }
 },
 "nbformat": 4,
 "nbformat_minor": 5
}
