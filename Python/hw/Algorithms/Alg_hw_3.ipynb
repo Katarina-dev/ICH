{
 "cells": [
  {
   "cell_type": "code",
   "execution_count": null,
   "id": "36345aa1-c4a3-45a3-91ce-bc5a91ba2051",
   "metadata": {},
   "outputs": [],
   "source": [
    "Имея два отсортированных массива размера m и n соответственно, вам нужно найти элемент, который будет находиться на k-й позиции в конечном отсортированном массиве.\n",
    "\n",
    "\n",
    "Массив 1 - 100 112 256 349 770\n",
    "\n",
    "Массив 2 - 72 86 113 119 265 445 892\n",
    "\n",
    "к = 7\n",
    "\n",
    "Вывод : 256\n",
    "\n",
    "\n",
    "Окончательный отсортированный массив -\n",
    "\n",
    "72, 86, 100, 112, 113, 119, 256, 265, 349, 445, 770, 892\n",
    "\n",
    "7-й элемент этого массива равен 256."
   ]
  },
  {
   "cell_type": "code",
   "execution_count": 56,
   "id": "40db0cbe-b2ea-4e88-8098-d9bab7a1af42",
   "metadata": {},
   "outputs": [
    {
     "data": {
      "text/plain": [
       "113"
      ]
     },
     "execution_count": 56,
     "metadata": {},
     "output_type": "execute_result"
    }
   ],
   "source": [
    "# рекурсивный метод\n",
    "\n",
    "def create_arr_total(arr1, arr2):\n",
    "    arr_total = []\n",
    "    for i in arr1:\n",
    "        for j in arr2:\n",
    "            if i < j and i not in arr_total:\n",
    "                arr_total.append(i)\n",
    "            elif j < i and j not in arr_total:\n",
    "                arr_total.append(j)\n",
    "    return arr_total\n",
    "    \n",
    "arr1 = [100, 112, 256, 349, 770]\n",
    "arr2 = [72, 86, 113, 119, 265, 445, 892]\n",
    "new_array = create_arr_total(arr1, arr2)\n",
    "\n",
    "\n",
    "def sort_array_recursion(new_array, k, left, right):\n",
    "    if left > right:\n",
    "        return -1\n",
    "\n",
    "    mid = (left + right) // 2\n",
    "    if mid == k:\n",
    "        return new_array[mid]\n",
    "    elif mid > k:\n",
    "        return sort_array_recursion(new_array, k, left, mid-1)\n",
    "    else:\n",
    "        return sort_array_recursion(new_array, k, mid+1, right)\n",
    "\n",
    "k = 4\n",
    "sort_array_recursion(new_array, k, 0, len(new_array)-1)    "
   ]
  },
  {
   "cell_type": "code",
   "execution_count": 29,
   "id": "6dfe2cf7-e392-4c57-a500-67ec8670a259",
   "metadata": {},
   "outputs": [
    {
     "name": "stdin",
     "output_type": "stream",
     "text": [
      " 4\n"
     ]
    },
    {
     "name": "stdout",
     "output_type": "stream",
     "text": [
      "[72, 86, 100, 112, 113, 119, 256, 265, 349, 445, 770]\n",
      "113\n"
     ]
    }
   ],
   "source": [
    "# итеративный метод\n",
    "\n",
    "def sort_array(arr1, arr2):\n",
    "    k = int(input('Enter k value: '))\n",
    "    arr_total = []\n",
    "    left = 0\n",
    "    right = len(arr_total)-1\n",
    "    \n",
    "    for i in arr1:\n",
    "        for j in arr2:\n",
    "            if i < j and i not in arr_total:\n",
    "                arr_total.append(i)\n",
    "            elif j < i and j not in arr_total:\n",
    "                arr_total.append(j)\n",
    "    while left <= right:\n",
    "        mid = (left + right) // 2\n",
    "        if arr_total[mid] == k:\n",
    "            return mid\n",
    "        elif arr_total[mid] > k:\n",
    "            right = mid - 1\n",
    "        else:\n",
    "            left = mid + 1\n",
    "    print(arr_total)\n",
    "    print(arr_total[k])\n",
    "\n",
    "arr1 = [100, 112, 256, 349, 770]\n",
    "arr2 = [72, 86, 113, 119, 265, 445, 892]\n",
    "\n",
    "sort_array(arr1, arr2)"
   ]
  }
 ],
 "metadata": {
  "kernelspec": {
   "display_name": "Python 3 (ipykernel)",
   "language": "python",
   "name": "python3"
  },
  "language_info": {
   "codemirror_mode": {
    "name": "ipython",
    "version": 3
   },
   "file_extension": ".py",
   "mimetype": "text/x-python",
   "name": "python",
   "nbconvert_exporter": "python",
   "pygments_lexer": "ipython3",
   "version": "3.12.5"
  }
 },
 "nbformat": 4,
 "nbformat_minor": 5
}
