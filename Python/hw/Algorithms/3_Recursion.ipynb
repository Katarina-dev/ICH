{
 "cells": [
  {
   "cell_type": "code",
   "execution_count": null,
   "id": "a90c7f43-4f9d-46b4-94db-065909f9d0fb",
   "metadata": {},
   "outputs": [],
   "source": [
    "УРОК 3. РЕКУРСИЯ И ИТЕРАЦИЯ"
   ]
  },
  {
   "cell_type": "code",
   "execution_count": 1,
   "id": "59880cbe-3c10-4ec3-b6ce-846424bd0e0b",
   "metadata": {},
   "outputs": [
    {
     "name": "stdout",
     "output_type": "stream",
     "text": [
      "5\n",
      "4\n",
      "3\n",
      "2\n",
      "1\n",
      "0\n"
     ]
    }
   ],
   "source": [
    "def reqursion(n): # прямая рекурсия\n",
    "    if n == 0: # базовый случай или базовое условие рекурсии ( для выхода из рекурсии, иначе уйдет в бесконечную рекурсию)\n",
    "        print(n)\n",
    "        return\n",
    "    print(n)\n",
    "    reqursion(n-1)\n",
    "\n",
    "reqursion(5)"
   ]
  },
  {
   "cell_type": "code",
   "execution_count": null,
   "id": "f03d1c7f-e393-43e2-b88b-82e586284029",
   "metadata": {},
   "outputs": [],
   "source": [
    "При достижении базового случая стэк очищается не весь сразу, а поочередно (выдавая \"тарелочки\" по методу\n",
    "LIFO) и возвращая результат отработки функции (вызова самой себя)"
   ]
  },
  {
   "cell_type": "code",
   "execution_count": 3,
   "id": "364f4861-ce88-4163-a80d-ad44da02a283",
   "metadata": {},
   "outputs": [
    {
     "name": "stdout",
     "output_type": "stream",
     "text": [
      "0\n",
      "1\n",
      "2\n",
      "3\n",
      "4\n",
      "5\n"
     ]
    }
   ],
   "source": [
    "def reqursion(n):\n",
    "    if n == 5: # базовый случай ( для выхода из рекурсии, иначе уйдет в бесконечность)\n",
    "        print(n)\n",
    "        return\n",
    "    print(n)\n",
    "    reqursion(n+1)\n",
    "\n",
    "reqursion(0)"
   ]
  },
  {
   "cell_type": "code",
   "execution_count": 4,
   "id": "44d127f7-e3ee-4f7d-9dc3-f190386cc2e3",
   "metadata": {},
   "outputs": [
    {
     "name": "stdout",
     "output_type": "stream",
     "text": [
      "0\n",
      "1\n",
      "2\n",
      "3\n",
      "4\n",
      "5\n"
     ]
    }
   ],
   "source": [
    "def iter_func(n): # аналог рекусрии в виде цикла\n",
    "    for i in range(n+1):\n",
    "        print(i)\n",
    "\n",
    "iter_func(5)"
   ]
  },
  {
   "cell_type": "code",
   "execution_count": 6,
   "id": "9c0ce396-4685-4c27-978a-d045831d6e77",
   "metadata": {},
   "outputs": [
    {
     "name": "stdout",
     "output_type": "stream",
     "text": [
      "15\n"
     ]
    }
   ],
   "source": [
    "def reqursive_func_sum_nums(n): # считает сумму всех чисел\n",
    "    if n == 1:\n",
    "        return True\n",
    "    else:\n",
    "        return n + reqursive_func_sum_nums(n-1) # рекурсивный случай\n",
    "\n",
    "print(reqursive_func_sum_nums(5))"
   ]
  },
  {
   "cell_type": "code",
   "execution_count": 7,
   "id": "de8b56a0-1bb1-4a1a-9066-218ed063ce21",
   "metadata": {},
   "outputs": [
    {
     "name": "stdout",
     "output_type": "stream",
     "text": [
      "Вторая функция\n",
      "Первая функция\n",
      "Вторая функция\n",
      "Первая функция\n",
      "Выполнился базовый случай первой функции\n"
     ]
    },
    {
     "data": {
      "text/plain": [
       "15"
      ]
     },
     "execution_count": 7,
     "metadata": {},
     "output_type": "execute_result"
    }
   ],
   "source": [
    "# случай косвенной рекурсии\n",
    "def func_a(n):\n",
    "    if n == 1:\n",
    "        print('Выполнился базовый случай первой функции')\n",
    "        return 1\n",
    "    else:\n",
    "        print('Вторая функция')\n",
    "        return n + func_b(n-1)\n",
    "\n",
    "def func_b(n):\n",
    "    if n == 1:\n",
    "        print('Выполнился базовый случай второй функции')\n",
    "        return 1\n",
    "    else:\n",
    "        print('Первая функция')\n",
    "        return n + func_a(n-1)\n",
    "\n",
    "func_a(5)"
   ]
  },
  {
   "cell_type": "code",
   "execution_count": 8,
   "id": "755f5c81-5d1e-4752-99c2-3138178d377d",
   "metadata": {},
   "outputs": [
    {
     "name": "stdout",
     "output_type": "stream",
     "text": [
      "3\n",
      "4\n",
      "5\n",
      "6\n",
      "7\n",
      "8\n",
      "9\n"
     ]
    }
   ],
   "source": [
    "a = 3\n",
    "while a < 10:\n",
    "    print(a)\n",
    "    a+=1\n",
    "    "
   ]
  },
  {
   "cell_type": "code",
   "execution_count": null,
   "id": "99446cc0-441f-431f-90fa-6c50d2eeb11e",
   "metadata": {},
   "outputs": [],
   "source": [
    "LIFO (Last In First Out) - Stack —\n",
    "это структура, которую использует рекурсивная функция. \n"
   ]
  },
  {
   "cell_type": "code",
   "execution_count": 17,
   "id": "ab8b76c9-1b81-491d-bb56-8254478235b5",
   "metadata": {},
   "outputs": [
    {
     "name": "stdout",
     "output_type": "stream",
     "text": [
      "res= 0 ; n= 5 ; i= 0\n",
      "res= 1 ; n= 5 ; i= 1\n",
      "res= 3 ; n= 5 ; i= 2\n",
      "res= 6 ; n= 5 ; i= 3\n",
      "res= 10 ; n= 5 ; i= 4\n"
     ]
    },
    {
     "data": {
      "text/plain": [
       "10"
      ]
     },
     "execution_count": 17,
     "metadata": {},
     "output_type": "execute_result"
    }
   ],
   "source": [
    "# итеративная функция\n",
    "def func_iterative(n):\n",
    "    res = 0\n",
    "    for i in range(n):\n",
    "        res = res + i\n",
    "        print (\"res=\", res, \"; n=\", n, \"; i=\", i)\n",
    "    return res\n",
    "\n",
    "func_iterative(5)"
   ]
  },
  {
   "cell_type": "code",
   "execution_count": null,
   "id": "fcb98892-c57a-4cc0-b404-d244d688e4d7",
   "metadata": {},
   "outputs": [],
   "source": [
    "# рекурсивная функция\n",
    "\n",
    "def func_recursive(n):\n",
    "    if n==0:\n",
    "        return 0\n",
    "    res = (n-1)+func_recursive(n-1)\n",
    "    print (\"res=\", res, \"; n=\", n)\n",
    "    return res"
   ]
  },
  {
   "cell_type": "code",
   "execution_count": 16,
   "id": "469a492a-6c4a-4f17-9268-fa0c9563a7a7",
   "metadata": {},
   "outputs": [
    {
     "name": "stdout",
     "output_type": "stream",
     "text": [
      " x= 1 ; y= 10\n",
      " x= 2 ; y= 8\n",
      " x= 3 ; y= 5\n"
     ]
    },
    {
     "data": {
      "text/plain": [
       "11"
      ]
     },
     "execution_count": 16,
     "metadata": {},
     "output_type": "execute_result"
    }
   ],
   "source": [
    "# Дана рекурсивная функция, переписать ее без рекурсии, итеративно.\n",
    "def func_recursive(x, y):\n",
    "     if x==0:\n",
    "         return y\n",
    "     else:\n",
    "         res = func_recursive(x-1, x+y)\n",
    "         print(\" x=\", x, \"; y=\", y)\n",
    "         return res\n",
    "\n",
    "func_recursive(3, 5)"
   ]
  },
  {
   "cell_type": "code",
   "execution_count": 13,
   "id": "6413899d-4983-4c82-b424-9c7320f3196b",
   "metadata": {},
   "outputs": [
    {
     "name": "stdout",
     "output_type": "stream",
     "text": [
      "x = 3, y = 5\n",
      "x = 2, y = 8\n",
      "x = 1, y = 10\n",
      "x = 0, y = 11\n"
     ]
    },
    {
     "data": {
      "text/plain": [
       "11"
      ]
     },
     "execution_count": 13,
     "metadata": {},
     "output_type": "execute_result"
    }
   ],
   "source": [
    "def func_iterative(x, y):\n",
    "    while x >= 0:\n",
    "        print(f'x = {x}, y = {y}')\n",
    "        y = x + y\n",
    "        x -= 1\n",
    "    return y\n",
    "\n",
    "func_iterative(3, 5)"
   ]
  },
  {
   "cell_type": "code",
   "execution_count": null,
   "id": "c8ed4d95-adb2-41fc-bad2-7024c9d8cc63",
   "metadata": {},
   "outputs": [],
   "source": [
    "n! = 1 * 2 * 3 * 4 ..... * n"
   ]
  },
  {
   "cell_type": "code",
   "execution_count": 18,
   "id": "5df3ee66-3971-4619-aca5-200167ab5bde",
   "metadata": {},
   "outputs": [
    {
     "name": "stdout",
     "output_type": "stream",
     "text": [
      "x=  3 ; y=  5\n",
      "x=  3 ; y=  8\n",
      "x=  3 ; y=  10\n"
     ]
    },
    {
     "data": {
      "text/plain": [
       "11"
      ]
     },
     "execution_count": 18,
     "metadata": {},
     "output_type": "execute_result"
    }
   ],
   "source": [
    "def func_iterative(x, y):\n",
    "    for i in range(x):\n",
    "        print('x= ', x, '; y= ', y)\n",
    "        y = (x - i) + y\n",
    "    return y\n",
    "\n",
    "func_iterative(3, 5)"
   ]
  },
  {
   "cell_type": "code",
   "execution_count": 21,
   "id": "1aabd62b-abe5-4943-b508-0756db8180fb",
   "metadata": {},
   "outputs": [
    {
     "name": "stdout",
     "output_type": "stream",
     "text": [
      "3628800\n"
     ]
    }
   ],
   "source": [
    "def factorial_iter(n):\n",
    "    factorial = 1\n",
    "    while n > 1:\n",
    "        factorial *= n\n",
    "        n -= 1\n",
    "    return factorial\n",
    "\n",
    "print(factorial_iter(10))\n",
    "        "
   ]
  },
  {
   "cell_type": "code",
   "execution_count": 23,
   "id": "3dfa33b6-b6a0-4cea-a17d-8c0fb6e82cbb",
   "metadata": {},
   "outputs": [
    {
     "name": "stdout",
     "output_type": "stream",
     "text": [
      "24\n"
     ]
    }
   ],
   "source": [
    "def factorial_recurs(n):\n",
    "    if n <= 1:\n",
    "        return 1\n",
    "    else:\n",
    "        return n * factorial_recurs(n - 1)\n",
    "\n",
    "print(factorial_recurs(4))\n",
    "        "
   ]
  },
  {
   "cell_type": "code",
   "execution_count": 27,
   "id": "f78743fe-d950-486b-bf1d-60336e7ebc8f",
   "metadata": {},
   "outputs": [
    {
     "name": "stdout",
     "output_type": "stream",
     "text": [
      "True\n"
     ]
    }
   ],
   "source": [
    "# Посчитать все согласные в строке заданной длины. Для этого понадобиться вспомогательная\n",
    "# функция isConsonant(x) которая возвращает true если x - согласная и false иначе:\n",
    "\n",
    "def isConsonant(letter):\n",
    "    letter = letter.upper()\n",
    "    if (ord(letter) >= 65 and ord(letter) <= 90\n",
    "            and not(letter == 'A' # not in 'aouei'\n",
    "                or letter == 'E'\n",
    "                or letter == 'I'\n",
    "                or letter == 'O'\n",
    "                or letter == 'U')):\n",
    "            return True\n",
    "    return False\n",
    "\n",
    "print(isConsonant('c'))"
   ]
  },
  {
   "cell_type": "code",
   "execution_count": 24,
   "id": "44802621-8bfe-49cc-b0ad-f709b7b2e6f2",
   "metadata": {},
   "outputs": [
    {
     "name": "stdout",
     "output_type": "stream",
     "text": [
      "70\n"
     ]
    }
   ],
   "source": [
    "print(ord('F'))"
   ]
  },
  {
   "cell_type": "code",
   "execution_count": null,
   "id": "93d625b0-60d3-40b9-885c-0341c02a0bbb",
   "metadata": {},
   "outputs": [],
   "source": [
    "def is_consonant(ch):\n",
    "    vowels = 'aeiouAEIOU'\n",
    "    if ch.isalpha() and ch not in vowels:\n",
    "        return True\n",
    "    return False"
   ]
  },
  {
   "cell_type": "code",
   "execution_count": null,
   "id": "73cfce6f-e006-46df-b60d-1be2e80a7e48",
   "metadata": {},
   "outputs": [],
   "source": [
    "def is_consonant(ch):\n",
    "    vowels = 'aeiouAEIOU'\n",
    "    return ch.isalpha() and ch not in vowels"
   ]
  },
  {
   "cell_type": "code",
   "execution_count": 28,
   "id": "e72522fb-1a1d-4c95-ac2b-ed2edfb2d448",
   "metadata": {},
   "outputs": [
    {
     "name": "stdout",
     "output_type": "stream",
     "text": [
      "Consonant amount 'Hi World!' = 5 \n"
     ]
    }
   ],
   "source": [
    "def is_consonant(ch):\n",
    "    vowels = 'aeiouAEIOU'\n",
    "    return ch.isalpha() and ch not in vowels    \n",
    "\n",
    "def count_consonant(string:str)->int:\n",
    "    count = 0\n",
    "    for ch in string:\n",
    "        if is_consonant(ch):\n",
    "            count +=1\n",
    "    return count\n",
    "\n",
    "\n",
    "msg = \"Hi World!\"\n",
    "print(f\"Consonant amount '{msg}' = {count_consonant(msg)} \")"
   ]
  },
  {
   "cell_type": "code",
   "execution_count": 36,
   "id": "18fc50fa-570c-41ae-9b34-cbbd45834e91",
   "metadata": {},
   "outputs": [
    {
     "name": "stdout",
     "output_type": "stream",
     "text": [
      "True\n"
     ]
    },
    {
     "data": {
      "text/plain": [
       "6"
      ]
     },
     "execution_count": 36,
     "metadata": {},
     "output_type": "execute_result"
    }
   ],
   "source": [
    "# def isConsonant(letter):\n",
    "#     letter = letter.upper()\n",
    "#     if (ord(letter) >= 65 and ord(letter) <= 90\n",
    "#             and not(letter == 'A' # not in 'aouei'\n",
    "#                 or letter == 'E'\n",
    "#                 or letter == 'I'\n",
    "#                 or letter == 'O'\n",
    "#                 or letter == 'U')):\n",
    "#             return True\n",
    "#     return False\n",
    "def isConsonant(letter): return letter.upper() in \"BCDFGHJKLMNPQRSTVWXYZ\"\n",
    "\n",
    "print(isConsonant('c'))\n",
    "\n",
    "def count_consonant(string, lenght): # не досчитывает 1 символ\n",
    "    count = 0\n",
    "    if lenght == 1:\n",
    "        if isConsonant(string):\n",
    "            return 1\n",
    "        else:\n",
    "            return 0\n",
    "    if isConsonant(string[lenght-1]):\n",
    "        count = count_consonant(string, lenght-1) + 1\n",
    "        return count\n",
    "    else:\n",
    "        count =  count_consonant(string, lenght-1)\n",
    "        return count\n",
    "\n",
    "string ='Hi World Im Ok!'\n",
    "lenght = len(string)\n",
    "count_consonant(string, lenght)    \n",
    "        "
   ]
  },
  {
   "cell_type": "code",
   "execution_count": 31,
   "id": "52f5d7e7-dca1-42e1-bbbc-6cbc4b571946",
   "metadata": {},
   "outputs": [
    {
     "ename": "TypeError",
     "evalue": "count_consonant() missing 1 required positional argument: 'lenght'",
     "output_type": "error",
     "traceback": [
      "\u001b[1;31m---------------------------------------------------------------------------\u001b[0m",
      "\u001b[1;31mTypeError\u001b[0m                                 Traceback (most recent call last)",
      "Cell \u001b[1;32mIn[31], line 21\u001b[0m\n\u001b[0;32m     17\u001b[0m        \u001b[38;5;28;01mreturn\u001b[39;00m count\n\u001b[0;32m     20\u001b[0m msg \u001b[38;5;241m=\u001b[39m \u001b[38;5;124m\"\u001b[39m\u001b[38;5;124mHi World I\u001b[39m\u001b[38;5;124m'\u001b[39m\u001b[38;5;124mm Ok!\u001b[39m\u001b[38;5;124m\"\u001b[39m\n\u001b[1;32m---> 21\u001b[0m \u001b[38;5;28mprint\u001b[39m(\u001b[38;5;124mf\u001b[39m\u001b[38;5;124m\"\u001b[39m\u001b[38;5;124mConsonant amount \u001b[39m\u001b[38;5;124m'\u001b[39m\u001b[38;5;132;01m{\u001b[39;00mmsg\u001b[38;5;132;01m}\u001b[39;00m\u001b[38;5;124m'\u001b[39m\u001b[38;5;124m = \u001b[39m\u001b[38;5;132;01m{\u001b[39;00m\u001b[43mcount_consonant\u001b[49m\u001b[43m(\u001b[49m\u001b[43mmsg\u001b[49m\u001b[43m)\u001b[49m\u001b[38;5;132;01m}\u001b[39;00m\u001b[38;5;124m \u001b[39m\u001b[38;5;124m\"\u001b[39m)\n",
      "\u001b[1;31mTypeError\u001b[0m: count_consonant() missing 1 required positional argument: 'lenght'"
     ]
    }
   ],
   "source": [
    "def is_consonant(ch):\n",
    "    vowels = 'aeiouAEIOU'\n",
    "    return ch.isalpha() and ch not in vowels    \n",
    "\n",
    "def count_consonant_requrs(msg):\n",
    "    count = 0\n",
    "    if len(msg) == 1:\n",
    "       if is_consonant(msg):\n",
    "           count += 1\n",
    "           return count\n",
    "           \n",
    "    if is_consonant(msg[len(msg)-1]):\n",
    "       count = is_consonant(msg[len(msg)-1]) + 1\n",
    "       return count\n",
    "    else:\n",
    "       count = is_consonant(msg[len(msg)-1])\n",
    "       return count\n",
    "\n",
    "\n",
    "msg = \"Hi World I'm Ok!\"\n",
    "print(f\"Consonant amount '{msg}' = {count_consonant(msg)} \")"
   ]
  },
  {
   "cell_type": "code",
   "execution_count": null,
   "id": "78684326-0490-4695-b500-f79e120bd6b2",
   "metadata": {},
   "outputs": [],
   "source": []
  }
 ],
 "metadata": {
  "kernelspec": {
   "display_name": "Python 3 (ipykernel)",
   "language": "python",
   "name": "python3"
  },
  "language_info": {
   "codemirror_mode": {
    "name": "ipython",
    "version": 3
   },
   "file_extension": ".py",
   "mimetype": "text/x-python",
   "name": "python",
   "nbconvert_exporter": "python",
   "pygments_lexer": "ipython3",
   "version": "3.12.5"
  }
 },
 "nbformat": 4,
 "nbformat_minor": 5
}
