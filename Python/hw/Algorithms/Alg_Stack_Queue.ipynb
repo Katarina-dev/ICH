{
 "cells": [
  {
   "cell_type": "code",
   "execution_count": null,
   "id": "3acee3c4-a43f-48e1-bd8d-8f940b44e0a9",
   "metadata": {},
   "outputs": [],
   "source": [
    "Стек и очередь"
   ]
  },
  {
   "cell_type": "code",
   "execution_count": 5,
   "id": "f7b89c06-ac10-442f-92d6-e04799db88b7",
   "metadata": {},
   "outputs": [
    {
     "name": "stdout",
     "output_type": "stream",
     "text": [
      "[1, 14, 31, 2, 10, 94, 100]\n",
      "[10, 94, 100]\n"
     ]
    },
    {
     "ename": "AttributeError",
     "evalue": "'Queue' object has no attribute 'append'",
     "output_type": "error",
     "traceback": [
      "\u001b[1;31m---------------------------------------------------------------------------\u001b[0m",
      "\u001b[1;31mAttributeError\u001b[0m                            Traceback (most recent call last)",
      "Cell \u001b[1;32mIn[5], line 35\u001b[0m\n\u001b[0;32m     32\u001b[0m \u001b[38;5;28mprint\u001b[39m(q\u001b[38;5;241m.\u001b[39mqueue)\n\u001b[0;32m     33\u001b[0m \u001b[38;5;66;03m# print(type(queue))\u001b[39;00m\n\u001b[1;32m---> 35\u001b[0m \u001b[43mq\u001b[49m\u001b[38;5;241;43m.\u001b[39;49m\u001b[43mappend\u001b[49m(\u001b[38;5;241m1\u001b[39m)\n",
      "\u001b[1;31mAttributeError\u001b[0m: 'Queue' object has no attribute 'append'"
     ]
    }
   ],
   "source": [
    "class Queue: # Очередь\n",
    "    def __init__(self):\n",
    "        self.queue = []\n",
    "\n",
    "    def enqueue(self, item): #добавляет элемент в конец очереди\n",
    "        self.queue.append(item)\n",
    "\n",
    "    def dequeue(self): #удаляет и возвращает из начала очереди(метод .pop(0))\n",
    "        if self.is_empty():\n",
    "            raise IndexError('нельзя удалить из пустой очереди')\n",
    "        return self.queue.pop(0)\n",
    "\n",
    "    def is_empty(self): #проверка на наличие элементов\n",
    "        return len(self.queue) == 0\n",
    "        \n",
    "    def size(self): #возвращает размер очереди\n",
    "        return len(self.queue)\n",
    "\n",
    "q = Queue()\n",
    "q.enqueue(1)\n",
    "q.enqueue(14)\n",
    "q.enqueue(31)\n",
    "q.enqueue(2)\n",
    "q.enqueue(10)\n",
    "q.enqueue(94)\n",
    "q.enqueue(100)\n",
    "print(q.queue)\n",
    "q.dequeue()\n",
    "q.dequeue()\n",
    "q.dequeue()\n",
    "q.dequeue()\n",
    "print(q.queue)\n",
    "# print(type(queue))\n",
    "\n",
    "q.append(1) # не реализовывали метод append, поэтому ошибка"
   ]
  },
  {
   "cell_type": "code",
   "execution_count": 7,
   "id": "b065a678-8116-4f38-8a08-2dbc2866bbce",
   "metadata": {},
   "outputs": [
    {
     "name": "stdout",
     "output_type": "stream",
     "text": [
      "[4, 1, 45, 5]\n",
      "[34, 90, 4, 1, 45, 5]\n",
      "[90, 4, 1, 45, 5]\n",
      "[90, 4, 1, 45]\n"
     ]
    }
   ],
   "source": [
    "class Dequeue: #двусторонняя очередь\n",
    "    def __init__(self):\n",
    "        self.queue = []\n",
    "\n",
    "    def add_rear(self, item): #добавляет элемент в конец очереди\n",
    "        self.queue.append(item)\n",
    "        \n",
    "    def add_front(self, item):\n",
    "        self.queue.insert(0, item) # добавляет в начало\n",
    "\n",
    "    def remove_front(self): #удаляет и возвращает из начала очереди(метод .pop(0))\n",
    "        if self.is_empty():\n",
    "            raise IndexError('нельзя удалить из пустой очереди')\n",
    "        return self.queue.pop(0)\n",
    "\n",
    "    def remove_rear(self): # удаления из конца списка\n",
    "        if self.is_empty():\n",
    "            raise IndexError('нельзя удалить из пустой очереди')\n",
    "        return self.queue.pop()    \n",
    "\n",
    "    def is_empty(self): #проверка на наличие элементов\n",
    "        return len(self.queue) == 0\n",
    "        \n",
    "    def size(self): #возвращает размер очереди\n",
    "        return len(self.queue)\n",
    "\n",
    "    def peek_front(self):\n",
    "        if self.is_empty():\n",
    "            raise IndexError('очередь пуста')\n",
    "        else:\n",
    "            return self.queue[0]\n",
    "\n",
    "    def peek_rear(self):\n",
    "        if self.is_empty():\n",
    "            raise IndexError('очередь пуста')\n",
    "        else:\n",
    "            return self.queue[-1]\n",
    "\n",
    "dq = Dequeue()\n",
    "dq.add_rear(4)\n",
    "dq.add_rear(1)\n",
    "dq.add_rear(45)\n",
    "dq.add_rear(5)\n",
    "\n",
    "print(dq.queue)\n",
    "\n",
    "dq.add_front(90)\n",
    "dq.add_front(34)\n",
    "\n",
    "print(dq.queue)\n",
    "\n",
    "dq.remove_front()\n",
    "\n",
    "print(dq.queue)\n",
    "\n",
    "dq.remove_rear()\n",
    "\n",
    "print(dq.queue)"
   ]
  },
  {
   "cell_type": "code",
   "execution_count": 9,
   "id": "d0bc5a0a-8854-47a4-b875-5da3a51506f4",
   "metadata": {},
   "outputs": [
    {
     "name": "stdout",
     "output_type": "stream",
     "text": [
      "[2, 22]\n",
      "[2, 22, 1, 34]\n",
      "[2, 22, 1]\n"
     ]
    }
   ],
   "source": [
    "class Stack:\n",
    "    def __init__(self):\n",
    "        self.stack = []\n",
    "\n",
    "    def is_empty(self):\n",
    "        return len(self.stack) == 0\n",
    "\n",
    "    def push(self, item):\n",
    "        self.stack.append(item)\n",
    "\n",
    "    def remove(self):\n",
    "        if self.is_empty():\n",
    "            raise IndexError('нельзя удалить из пустого стека')\n",
    "        return self.stack.pop()\n",
    "\n",
    "st = Stack()\n",
    "\n",
    "st.push(2)\n",
    "st.push(22)\n",
    "\n",
    "print(st.stack)\n",
    "\n",
    "st.push(1)\n",
    "st.push(34)\n",
    "\n",
    "print(st.stack)\n",
    "\n",
    "st.remove()\n",
    "\n",
    "print(st.stack)"
   ]
  },
  {
   "cell_type": "code",
   "execution_count": null,
   "id": "7932b7df-140c-4498-9ebf-a2bb089aaab8",
   "metadata": {},
   "outputs": [],
   "source": [
    "Написать функцию, которая принимает строку и возвращает true если строка\n",
    "является палиндромом и false в противном случае. Строка является палиндромом,\n",
    "если она читается одинаково в обоих направлениях. Например, строка “madam”\n",
    "является палиндромом, а строка “hello world” - нет. Для решения использовать стек.\n"
   ]
  },
  {
   "cell_type": "code",
   "execution_count": 10,
   "id": "52046f23-9af7-43c0-8f68-028111666ee5",
   "metadata": {},
   "outputs": [
    {
     "name": "stdout",
     "output_type": "stream",
     "text": [
      "True\n",
      "False\n"
     ]
    }
   ],
   "source": [
    "def is_palindrom(text):\n",
    "    return text == text[::-1]\n",
    "\n",
    "print(is_palindrom('madam'))\n",
    "print(is_palindrom('hello'))"
   ]
  },
  {
   "cell_type": "code",
   "execution_count": 12,
   "id": "ca33968c-6860-40c8-9c3e-b28f672c286e",
   "metadata": {},
   "outputs": [
    {
     "data": {
      "text/plain": [
       "True"
      ]
     },
     "execution_count": 12,
     "metadata": {},
     "output_type": "execute_result"
    }
   ],
   "source": [
    "# Способ с двусторонней очередью\n",
    "\n",
    "class Dequeue: #двусторонняя очередь\n",
    "    def __init__(self):\n",
    "        self.queue = []\n",
    "\n",
    "    def add_rear(self, item): #добавляет элемент в конец очереди\n",
    "        self.queue.append(item)\n",
    "        \n",
    "    def add_front(self, item):\n",
    "        self.queue.insert(0, item) # добавляет в начало\n",
    "\n",
    "    def remove_front(self): #удаляет и возвращает из начала очереди(метод .pop(0))\n",
    "        if self.is_empty():\n",
    "            raise IndexError('нельзя удалить из пустой очереди')\n",
    "        return self.queue.pop(0)\n",
    "\n",
    "    def remove_rear(self): # удаления из конца списка\n",
    "        if self.is_empty():\n",
    "            raise IndexError('нельзя удалить из пустой очереди')\n",
    "        return self.queue.pop()    \n",
    "\n",
    "    def is_empty(self): #проверка на наличие элементов\n",
    "        return len(self.queue) == 0\n",
    "        \n",
    "    def size(self): #возвращает размер очереди\n",
    "        return len(self.queue)\n",
    "\n",
    "    def peek_front(self):\n",
    "        if self.is_empty():\n",
    "            raise IndexError('очередь пуста')\n",
    "        else:\n",
    "            return self.queue[0]\n",
    "\n",
    "    def peek_rear(self):\n",
    "        if self.is_empty():\n",
    "            raise IndexError('очередь пуста')\n",
    "        else:\n",
    "            return self.queue[-1]\n",
    "\n",
    "def is_polindrom_dq(string):\n",
    "    de = Dequeue()\n",
    "    \n",
    "    for ch in string:\n",
    "        de.add_rear(ch)\n",
    "    \n",
    "    for i in range(len(string)//2):\n",
    "        if de.remove_front() != de.remove_rear():\n",
    "            return False\n",
    "            \n",
    "    return True\n",
    "\n",
    "\n",
    "s ='madam'\n",
    "is_polindrom_dq(s)    \n",
    "\n"
   ]
  },
  {
   "cell_type": "code",
   "execution_count": 14,
   "id": "a432fe10-5e7d-4671-9f22-104446ec168f",
   "metadata": {},
   "outputs": [
    {
     "data": {
      "text/plain": [
       "True"
      ]
     },
     "execution_count": 14,
     "metadata": {},
     "output_type": "execute_result"
    }
   ],
   "source": [
    "class Stack:\n",
    "    def __init__(self):\n",
    "        self.stack = []\n",
    "\n",
    "    def is_empty(self):\n",
    "        return len(self.stack) == 0\n",
    "\n",
    "    def push(self, item):\n",
    "        self.stack.append(item)\n",
    "\n",
    "    def remove(self):\n",
    "        if self.is_empty():\n",
    "            raise IndexError('нельзя удалить из пустого стека')\n",
    "        return self.stack.pop()\n",
    "\n",
    "def is_palindrom_stack(string):\n",
    "    st = Stack()\n",
    "    for i in range(len(string)//2):\n",
    "        st.push(string[i])\n",
    "\n",
    "    start = len(string)//2\n",
    "\n",
    "    if len(string) % 2 == 1:\n",
    "        start += 1\n",
    "        \n",
    "    for i in range(start, len(string)):\n",
    "        if st.remove() != string[i]:\n",
    "            return False\n",
    "\n",
    "    return True\n",
    "\n",
    "s ='madam'\n",
    "is_palindrom_stack(s)  \n",
    "\n",
    "    \n",
    "        "
   ]
  },
  {
   "cell_type": "code",
   "execution_count": null,
   "id": "18fb8620-e588-480e-9eed-961d35308311",
   "metadata": {},
   "outputs": [],
   "source": [
    "Задание 2.\n",
    "Последовательность открывающихся и закрывающихся скобок является\n",
    "сбалансированной, если количество открывающихся скобок равно количеству\n",
    "закрывающихся и каждая пара имеет правильную вложенность. Следующие\n",
    "последовательность являются сбалансированными:\n",
    "(()()()())\n",
    "(((())))\n",
    "(()((())()))\n",
    "А следующие - нет:\n",
    "((((((())\n",
    "()))\n",
    "(()()(()\n",
    "Написать функцию, которая принимает строку скобок и возвращает True, если\n",
    "скобки в ней сбалансированные и False - иначе.\n"
   ]
  },
  {
   "cell_type": "code",
   "execution_count": 17,
   "id": "6c1a698c-3978-4feb-9f9c-3b783b13361f",
   "metadata": {},
   "outputs": [
    {
     "name": "stdout",
     "output_type": "stream",
     "text": [
      "True\n",
      "True\n",
      "True\n",
      "отработал второй False\n",
      "False\n",
      "отработал первый False\n",
      "False\n",
      "отработал второй False\n",
      "False\n"
     ]
    }
   ],
   "source": [
    "def is_balanced(sequence):\n",
    "    stack = Stack()\n",
    "\n",
    "    for char in sequence:\n",
    "        if char == '(':\n",
    "            stack.push(char)\n",
    "        elif char == ')':\n",
    "            if stack.is_empty():\n",
    "                print('отработал первый False')\n",
    "                return False\n",
    "            stack.remove()\n",
    "\n",
    "    # return stack.is_empty() \n",
    "\n",
    "    if stack.is_empty():\n",
    "        return True\n",
    "\n",
    "    else:\n",
    "        print('отработал второй False')\n",
    "        return False\n",
    "\n",
    "print(is_balanced('(()()()())'))\n",
    "print(is_balanced('(((())))'))\n",
    "print(is_balanced('(()((())()))'))\n",
    "print(is_balanced('((((((())'))\n",
    "print(is_balanced('()))'))\n",
    "print(is_balanced('(()()(()'))"
   ]
  },
  {
   "cell_type": "code",
   "execution_count": null,
   "id": "7c12b112-8b44-457b-a03e-b6b883555eda",
   "metadata": {},
   "outputs": [],
   "source": []
  },
  {
   "cell_type": "code",
   "execution_count": 3,
   "id": "d28f1e39-aff9-4017-a85e-b44ddf459c98",
   "metadata": {},
   "outputs": [
    {
     "data": {
      "text/plain": [
       "['__add__',\n",
       " '__class__',\n",
       " '__class_getitem__',\n",
       " '__contains__',\n",
       " '__delattr__',\n",
       " '__delitem__',\n",
       " '__dir__',\n",
       " '__doc__',\n",
       " '__eq__',\n",
       " '__format__',\n",
       " '__ge__',\n",
       " '__getattribute__',\n",
       " '__getitem__',\n",
       " '__getstate__',\n",
       " '__gt__',\n",
       " '__hash__',\n",
       " '__iadd__',\n",
       " '__imul__',\n",
       " '__init__',\n",
       " '__init_subclass__',\n",
       " '__iter__',\n",
       " '__le__',\n",
       " '__len__',\n",
       " '__lt__',\n",
       " '__mul__',\n",
       " '__ne__',\n",
       " '__new__',\n",
       " '__reduce__',\n",
       " '__reduce_ex__',\n",
       " '__repr__',\n",
       " '__reversed__',\n",
       " '__rmul__',\n",
       " '__setattr__',\n",
       " '__setitem__',\n",
       " '__sizeof__',\n",
       " '__str__',\n",
       " '__subclasshook__',\n",
       " 'append',\n",
       " 'clear',\n",
       " 'copy',\n",
       " 'count',\n",
       " 'extend',\n",
       " 'index',\n",
       " 'insert',\n",
       " 'pop',\n",
       " 'remove',\n",
       " 'reverse',\n",
       " 'sort']"
      ]
     },
     "execution_count": 3,
     "metadata": {},
     "output_type": "execute_result"
    }
   ],
   "source": [
    "dir(list)"
   ]
  },
  {
   "cell_type": "code",
   "execution_count": null,
   "id": "23beb03e-f196-4027-a515-bfcf87fc47aa",
   "metadata": {},
   "outputs": [],
   "source": [
    "Summary 04.04.2025"
   ]
  },
  {
   "cell_type": "code",
   "execution_count": 1,
   "id": "2015e27d-5550-4a70-b295-f06691fdcbbc",
   "metadata": {},
   "outputs": [],
   "source": [
    "class Queue: # Очередь\n",
    "    def __init__(self):\n",
    "        self.queue = []\n",
    "\n",
    "    def enqueue(self, item): #добавляет элемент в конец очереди\n",
    "        if self.size() < 10:\n",
    "            self.queue.append(item)\n",
    "        else:\n",
    "            print(f'Очередь полна. {item} не может быть добавлен(а).')\n",
    "\n",
    "    def dequeue(self): #удаляет и возвращает из начала очереди(метод .pop(0))\n",
    "        if self.is_empty():\n",
    "            raise IndexError('нельзя удалить из пустой очереди')\n",
    "        return self.queue.pop(0)\n",
    "\n",
    "    def is_empty(self): #проверка на наличие элементов\n",
    "        return len(self.queue) == 0\n",
    "        \n",
    "    def size(self): #возвращает размер очереди\n",
    "        return len(self.queue)"
   ]
  },
  {
   "cell_type": "code",
   "execution_count": 2,
   "id": "17aebf27-3af4-47a1-afea-2837e56a9195",
   "metadata": {},
   "outputs": [
    {
     "name": "stdout",
     "output_type": "stream",
     "text": [
      "Начальная очередь ['Alice', 'Bob', 'Charlie', 'Dave', 'Eve', 'Frank', 'Grace', 'Heidi', 'Ivan', 'Judy']\n"
     ]
    }
   ],
   "source": [
    "people_list = [\"Alice\", \"Bob\", \"Charlie\", \"Dave\", \"Eve\", \"Frank\", \"Grace\", \"Heidi\", \"Ivan\", \"Judy\"]\n",
    "\n",
    "cinema_queue = Queue()\n",
    "\n",
    "for i in people_list:\n",
    "    cinema_queue.enqueue(i)\n",
    "\n",
    "print(f'Начальная очередь {cinema_queue.queue}')"
   ]
  },
  {
   "cell_type": "code",
   "execution_count": 5,
   "id": "5e52c147-b605-4df8-951d-a193929cf3e1",
   "metadata": {},
   "outputs": [
    {
     "name": "stdout",
     "output_type": "stream",
     "text": [
      "minute 1\n",
      "Alice купил билет и покинул очередь\n",
      "person_11 was added in queue\n",
      "Current queue: ['Bob', 'Charlie', 'Dave', 'Eve', 'Frank', 'Grace', 'Heidi', 'Ivan', 'Judy', 'person_11']\n",
      "minute 2\n",
      "Bob купил билет и покинул очередь\n",
      "person_12 was added in queue\n",
      "Current queue: ['Charlie', 'Dave', 'Eve', 'Frank', 'Grace', 'Heidi', 'Ivan', 'Judy', 'person_11', 'person_12']\n",
      "minute 3\n",
      "Charlie купил билет и покинул очередь\n",
      "person_13 was added in queue\n",
      "Current queue: ['Dave', 'Eve', 'Frank', 'Grace', 'Heidi', 'Ivan', 'Judy', 'person_11', 'person_12', 'person_13']\n",
      "minute 4\n",
      "Dave купил билет и покинул очередь\n",
      "person_14 was added in queue\n",
      "Current queue: ['Eve', 'Frank', 'Grace', 'Heidi', 'Ivan', 'Judy', 'person_11', 'person_12', 'person_13', 'person_14']\n",
      "minute 5\n",
      "Eve купил билет и покинул очередь\n",
      "person_15 was added in queue\n",
      "Current queue: ['Frank', 'Grace', 'Heidi', 'Ivan', 'Judy', 'person_11', 'person_12', 'person_13', 'person_14', 'person_15']\n",
      "minute 6\n",
      "Frank купил билет и покинул очередь\n",
      "person_16 was added in queue\n",
      "Current queue: ['Grace', 'Heidi', 'Ivan', 'Judy', 'person_11', 'person_12', 'person_13', 'person_14', 'person_15', 'person_16']\n",
      "minute 7\n",
      "Grace купил билет и покинул очередь\n",
      "person_17 was added in queue\n",
      "Current queue: ['Heidi', 'Ivan', 'Judy', 'person_11', 'person_12', 'person_13', 'person_14', 'person_15', 'person_16', 'person_17']\n",
      "minute 8\n",
      "Heidi купил билет и покинул очередь\n",
      "person_18 was added in queue\n",
      "Current queue: ['Ivan', 'Judy', 'person_11', 'person_12', 'person_13', 'person_14', 'person_15', 'person_16', 'person_17', 'person_18']\n",
      "minute 9\n",
      "Ivan купил билет и покинул очередь\n",
      "person_19 was added in queue\n",
      "Current queue: ['Judy', 'person_11', 'person_12', 'person_13', 'person_14', 'person_15', 'person_16', 'person_17', 'person_18', 'person_19']\n",
      "minute 10\n",
      "Judy купил билет и покинул очередь\n",
      "person_20 was added in queue\n",
      "Current queue: ['person_11', 'person_12', 'person_13', 'person_14', 'person_15', 'person_16', 'person_17', 'person_18', 'person_19', 'person_20']\n",
      "minute 11\n",
      "person_11 купил билет и покинул очередь\n",
      "person_21 was added in queue\n",
      "Current queue: ['person_12', 'person_13', 'person_14', 'person_15', 'person_16', 'person_17', 'person_18', 'person_19', 'person_20', 'person_21']\n"
     ]
    }
   ],
   "source": [
    "# 1 минута - 2 секунды\n",
    "\n",
    "import time\n",
    "for minute in range(1, 12):\n",
    "\n",
    "    print(f'minute {minute}')\n",
    "\n",
    "    if not cinema_queue.is_empty():\n",
    "        served_person = cinema_queue.dequeue()\n",
    "        print(f'{served_person} купил билет и покинул очередь')\n",
    "    else:\n",
    "        print('Queue is empty, serving is finished')\n",
    "        break\n",
    "        \n",
    "    new_person = f'person_{minute+10}'\n",
    "    cinema_queue.enqueue(new_person)\n",
    "    print(f'{new_person} was added in queue')\n",
    "\n",
    "    print(f'Current queue: {cinema_queue.queue}')\n",
    "\n",
    "    time.sleep(2)"
   ]
  },
  {
   "cell_type": "code",
   "execution_count": null,
   "id": "a87c80c9-9444-417e-9253-610ed9e1050e",
   "metadata": {},
   "outputs": [],
   "source": [
    "class Deque: #двустороннаяя очередь\n",
    "    def __init__(self):\n",
    "        self.items = []\n",
    "\n",
    "    def add_front(self, item):\n",
    "        self.items.insert(0, item)\n",
    "\n",
    "    def add_end(self, item):\n",
    "        self.items.append(item)\n",
    "\n",
    "    def is_empty(self):\n",
    "        return len(self.items) == 0\n",
    "\n",
    "    def remove_rear(self):\n",
    "        if self.is_empty():\n",
    "            raise IndexError('нельзя удалить из пустой очереди')\n",
    "        return self.queue.pop()\n",
    "\n",
    "    def remove_front(self):\n",
    "        if not self.is_empty():           \n",
    "            return self.queue.pop(0)\n",
    "        raise IndexError('Нельзя удалить из пустой очереди')\n",
    "\n",
    "    def peek(self):\n",
    "        # Возврат элемента с вершины стека без его удаления\n",
    "        if not self.is_empty():\n",
    "            return self.items[0]\n",
    "        raise IndexError(\"Попытка получить вершину пустого стека\")\n",
    "\n",
    "    \n",
    "\n",
    "    "
   ]
  }
 ],
 "metadata": {
  "kernelspec": {
   "display_name": "Python 3 (ipykernel)",
   "language": "python",
   "name": "python3"
  },
  "language_info": {
   "codemirror_mode": {
    "name": "ipython",
    "version": 3
   },
   "file_extension": ".py",
   "mimetype": "text/x-python",
   "name": "python",
   "nbconvert_exporter": "python",
   "pygments_lexer": "ipython3",
   "version": "3.12.5"
  }
 },
 "nbformat": 4,
 "nbformat_minor": 5
}
