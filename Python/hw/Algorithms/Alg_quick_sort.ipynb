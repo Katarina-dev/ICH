{
 "cells": [
  {
   "cell_type": "code",
   "execution_count": null,
   "id": "37921ba6-5038-4c70-a0a1-950be6372d6a",
   "metadata": {},
   "outputs": [],
   "source": [
    "Быстрая сортировка"
   ]
  },
  {
   "cell_type": "code",
   "execution_count": 1,
   "id": "15dc3ff6-f5ec-4452-8199-cebc06c27cf5",
   "metadata": {},
   "outputs": [
    {
     "name": "stdout",
     "output_type": "stream",
     "text": [
      "3\n",
      "4\n",
      "5\n",
      "6\n",
      "7\n",
      "8\n",
      "9\n",
      "10\n"
     ]
    }
   ],
   "source": [
    "def print_natural_numbers(lower, upper):\n",
    "    if lower > upper:\n",
    "        return\n",
    "    print(lower)\n",
    "    print_natural_numbers(lower+1, upper)\n",
    "\n",
    "print_natural_numbers(3, 10)"
   ]
  },
  {
   "cell_type": "code",
   "execution_count": 4,
   "id": "63c802c7-3edd-45ae-a54e-fcefc71efaca",
   "metadata": {},
   "outputs": [
    {
     "name": "stdout",
     "output_type": "stream",
     "text": [
      "1\n",
      "2\n",
      "3\n",
      "4\n",
      "5\n",
      "6\n",
      "7\n"
     ]
    }
   ],
   "source": [
    "def print_natural_numbers_1(lower, upper):\n",
    "    helper(lower, upper)\n",
    "\n",
    "def helper(lower, upper):\n",
    "    if lower > upper:\n",
    "        return\n",
    "    print(lower)\n",
    "    print_natural_numbers_1(lower+1, upper)\n",
    "\n",
    "print_natural_numbers_1(1, 7)"
   ]
  },
  {
   "cell_type": "code",
   "execution_count": null,
   "id": "7b2fdce3-4edd-4b1f-991c-eb6e1b2f884b",
   "metadata": {},
   "outputs": [],
   "source": [
    "Алгоритм быстрой сортировки"
   ]
  },
  {
   "cell_type": "code",
   "execution_count": 6,
   "id": "18033560-af73-48cf-b4d3-5df0eaef5b45",
   "metadata": {},
   "outputs": [
    {
     "name": "stdout",
     "output_type": "stream",
     "text": [
      "[1, 2, 3, 4, 5, 7, 9]\n"
     ]
    }
   ],
   "source": [
    "def helper(array, low, high):\n",
    "    pivot = array[high]\n",
    "    i = low - 1\n",
    "\n",
    "    for j in range(low, high):\n",
    "        if array[j] <= pivot:\n",
    "            i = i+1\n",
    "            array[i], array[j] = array[j], array[i]\n",
    "\n",
    "    array[i+1], array[high] = array[high], array[i+1]\n",
    "    return i+1\n",
    "\n",
    "def quick_sort(array, low, high):\n",
    "    if low < high:\n",
    "        pi = helper(array, low, high)\n",
    "\n",
    "        quick_sort(array, low, pi-1)\n",
    "        quick_sort(array, pi+1, high)\n",
    "\n",
    "    return array\n",
    "\n",
    "array = [1,5,3,9,2,7,4]\n",
    "print(quick_sort(array, 0, len(array)-1))"
   ]
  },
  {
   "cell_type": "code",
   "execution_count": null,
   "id": "3789a090-9092-4d8a-b023-983fd8bd712b",
   "metadata": {},
   "outputs": [],
   "source": [
    "Итеративный вариант"
   ]
  },
  {
   "cell_type": "code",
   "execution_count": 11,
   "id": "ed795122-533c-473e-b9c5-bc69122dff85",
   "metadata": {},
   "outputs": [
    {
     "name": "stdout",
     "output_type": "stream",
     "text": [
      "[(0, 6)]\n",
      "======\n",
      "[(0, 0), (2, 6)]\n",
      "[1, 1, 8, 10, 3, 2, 6]\n",
      "======\n",
      "[(0, 0), (2, 3), (5, 6)]\n",
      "[1, 1, 3, 2, 6, 10, 8]\n",
      "======\n",
      "[(0, 0), (2, 3), (5, 4), (6, 6)]\n",
      "[1, 1, 3, 2, 6, 8, 10]\n",
      "======\n",
      "[(0, 0), (2, 1), (3, 3)]\n",
      "[1, 1, 2, 3, 6, 8, 10]\n",
      "======\n"
     ]
    }
   ],
   "source": [
    "def helper_iter(array, low, high):\n",
    "    pivot = array[high]\n",
    "    i = low - 1\n",
    "\n",
    "    for j in range(low, high):\n",
    "        if array[j] <= pivot:\n",
    "            i = i+1\n",
    "            array[i], array[j] = array[j], array[i]\n",
    "\n",
    "    array[i+1], array[high] = array[high], array[i+1]\n",
    "    return i+1\n",
    "\n",
    "def quick_sort_1(arr):\n",
    "    stack = [(0, len(arr)-1)]\n",
    "    print(stack)\n",
    "    print('======')\n",
    "\n",
    "    while stack: #пока стэк существует(не пустой, истинный)\n",
    "        low, high = stack.pop() #извлекаем диапазон (low, high)\n",
    "        if low < high:\n",
    "            pivot_index = helper_iter(arr, low, high)\n",
    "\n",
    "            stack.append((low, pivot_index-1))\n",
    "            stack.append((pivot_index+1, high))\n",
    "\n",
    "            print(stack)\n",
    "            print(arr)\n",
    "            print('======')\n",
    "\n",
    "arr = [3, 6, 8, 10, 1,2, 1]\n",
    "quick_sort_1(arr)\n",
    "\n",
    "\n",
    "\n",
    "    \n",
    "    # return stack\n",
    "\n",
    "# print(quick_sort([1, 2, 3, 4, 5, 5, 3])) #выводим индексы"
   ]
  },
  {
   "cell_type": "code",
   "execution_count": 15,
   "id": "1a5f51bb-8240-4d73-9a2e-2233861897b7",
   "metadata": {},
   "outputs": [
    {
     "name": "stdout",
     "output_type": "stream",
     "text": [
      "[1, 1, 2, 3, 4, 7, 66, 99]\n",
      "[]\n",
      "[1]\n",
      "[2, 2, 3, 3, 4, 4, 4, 4, 4, 6, 7, 7, 7, 7, 7, 56, 56, 76, 76]\n"
     ]
    }
   ],
   "source": [
    "import random as rd\n",
    "\n",
    "def random_quicksort(nums):\n",
    "    if  len(nums) <= 1:\n",
    "        return nums\n",
    "    else:\n",
    "        pivot = rd.choice(nums)\n",
    "\n",
    "        l_nums = [n for n in nums if n < pivot]\n",
    "        e_nums = [n for n in nums if n == pivot]\n",
    "        r_nums = [n for n in nums if n > pivot]\n",
    "\n",
    "        return random_quicksort(l_nums) + e_nums + random_quicksort(r_nums)\n",
    "        \n",
    "print(random_quicksort([1, 7, 4, 3, 2, 1, 99, 66]))\n",
    "print(random_quicksort([]))\n",
    "print(random_quicksort([1]))\n",
    "print(random_quicksort([7,7,7,2,2,3,3,4,56,6,7,76,56,76,7,4,4,4,4]))"
   ]
  },
  {
   "cell_type": "raw",
   "id": "87ed0e87-ea58-4e01-a992-fbcb9918d07c",
   "metadata": {},
   "source": [
    "Многие данные в интернете хранятся и передаются\n",
    "в интернете в формате json, который похож\n",
    "«питоновский» словарь с ключами и значениями.\n",
    "Эти словари, могут иметь вложенные словари и\n",
    "списки, которые тоже могут содержать вложенные\n",
    "словари. Написать рекурсивную функцию, которая\n",
    "находит значение в словаре с любым количеством\n",
    "вложенных словарей. В данных словарях нет\n",
    "списков. "
   ]
  },
  {
   "cell_type": "code",
   "execution_count": 16,
   "id": "d287df4b-c484-4f80-af3a-69c6bb343a44",
   "metadata": {},
   "outputs": [
    {
     "data": {
      "text/plain": [
       "{'name2': 'Marie', 'age2': '22', 'sex2': 'Female'}"
      ]
     },
     "execution_count": 16,
     "metadata": {},
     "output_type": "execute_result"
    }
   ],
   "source": [
    "# key это ключ по которому мы ищем\n",
    "# obj это имсходныйц словарь\n",
    "# вернуть значение по ключу\n",
    "\n",
    "def recurs_find_key(key, obj):   \n",
    "    if not isinstance(obj,dict):\n",
    "        return None\n",
    "\n",
    "    for k, value in obj.items():\n",
    "        if k == key:\n",
    "            return value\n",
    "\n",
    "        if isinstance(value,dict): \n",
    "            res = recurs_find_key(key, value)\n",
    "            if res:\n",
    "                return res\n",
    "    return None           \n",
    "    \n",
    "people = {\n",
    "    1: {'name1': 'John', 'age1': '27', 'sex1': 'Male'},\n",
    "    2: {'name2': 'Marie', 'age2': '22', 'sex2': 'Female'},\n",
    "    3: {'name3': 'Vova', 'age3': '25', 'sex3': 'Male'}\n",
    "}\n",
    "\n",
    "recurs_find_key(2, people)"
   ]
  },
  {
   "cell_type": "code",
   "execution_count": null,
   "id": "43ded28d-68e8-4022-b3d1-02b107881f61",
   "metadata": {},
   "outputs": [],
   "source": []
  }
 ],
 "metadata": {
  "kernelspec": {
   "display_name": "Python 3 (ipykernel)",
   "language": "python",
   "name": "python3"
  },
  "language_info": {
   "codemirror_mode": {
    "name": "ipython",
    "version": 3
   },
   "file_extension": ".py",
   "mimetype": "text/x-python",
   "name": "python",
   "nbconvert_exporter": "python",
   "pygments_lexer": "ipython3",
   "version": "3.12.5"
  }
 },
 "nbformat": 4,
 "nbformat_minor": 5
}
