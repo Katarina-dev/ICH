{
 "cells": [
  {
   "cell_type": "markdown",
   "id": "823b492c",
   "metadata": {},
   "source": [
    "Каждый проход пузырьковой сортировки \"всплывает\" наибольший элемент в конец массива.\n",
    "После i-го прохода i наибольших элементов уже отсортированы и находятся в конце списка.\n",
    "Нет смысла проверять их снова, поэтому уменьшаем диапазон перебора на i."
   ]
  },
  {
   "cell_type": "code",
   "execution_count": 10,
   "id": "7456953b",
   "metadata": {},
   "outputs": [
    {
     "name": "stdout",
     "output_type": "stream",
     "text": [
      "Отсортированный массив: [11, 12, 22, 25, 34, 64, 90]\n"
     ]
    }
   ],
   "source": [
    "def bubble_sort(arr):\n",
    "    n = len(arr)\n",
    "    for i in range(n - 1):  # Количество проходов\n",
    "        for j in range(n - 1 - i):  # Проход по неотсортированной части массива\n",
    "            if arr[j] > arr[j + 1]:  # Если элементы стоят в неправильном порядке\n",
    "                arr[j], arr[j + 1] = arr[j + 1], arr[j]  # Меняем их местами\n",
    "\n",
    "# Пример использования\n",
    "arr = [64, 34, 25, 12, 22, 11, 90]\n",
    "bubble_sort(arr)\n",
    "print(\"Отсортированный массив:\", arr)\n",
    "\n"
   ]
  },
  {
   "cell_type": "markdown",
   "id": "63790ffb",
   "metadata": {},
   "source": [
    "Базовый случай рекурсии: Объясняется, почему массив длиной 0 или 1 считается отсортированным.\n",
    "\n",
    "Рекурсивное деление: Показано, как массив делится на левую и правую половины и сортируется рекурсивно.\n",
    "\n",
    "Объединение массивов: Каждое условие в while объясняет, что происходит, когда элементы из левой и правой половины добавляются в результирующий массив.\n",
    "\n",
    "Добавление оставшихся элементов: Указано, что происходит, если в одной из половин остались элементы, которые нужно перенести.\n",
    "\n",
    "Копирование в исходный массив: Описано, зачем мы копируем отсортированные данные обратно в исходный массив.\n",
    "\n",
    "\n",
    "\n",
    "\n",
    "\n",
    "\n",
    "\n"
   ]
  },
  {
   "cell_type": "code",
   "execution_count": 1,
   "id": "93ff5515",
   "metadata": {},
   "outputs": [
    {
     "name": "stdout",
     "output_type": "stream",
     "text": [
      "Исходный массив: [4, 2, 6, 4, 77, 33, 5, 44, 566]\n",
      "Отсортированный массив: [2, 4, 4, 5, 6, 33, 44, 77, 566]\n"
     ]
    }
   ],
   "source": [
    "def merge_sort(array):\n",
    "    # Базовый случай рекурсии: если массив содержит 0 или 1 элемент, он уже отсортирован.\n",
    "    if len(array) <= 1:\n",
    "        return array\n",
    "\n",
    "    # Разделяем массив на две половины: левую и правую.\n",
    "    left_half = merge_sort(array[:len(array) // 2])  # Рекурсивно сортируем левую половину.\n",
    "    right_half = merge_sort(array[len(array) // 2:])  # Рекурсивно сортируем правую половину.\n",
    "\n",
    "    # Индексы для итерации по двум половинам и результирующему массиву.\n",
    "    left_index = 0  # Указатель текущего элемента в левой половине.\n",
    "    right_index = 0  # Указатель текущего элемента в правой половине.\n",
    "    merged_index = 0  # Указатель для вставки в результирующий массив.\n",
    "    merged_array = [0] * len(array)  # Создаем пустой массив для объединения двух половин.\n",
    "\n",
    "    # Слияние двух отсортированных половин в результирующий массив.\n",
    "    while left_index < len(left_half) and right_index < len(right_half):\n",
    "        # Сравниваем текущие элементы левой и правой половины.\n",
    "        if left_half[left_index] <= right_half[right_index]:\n",
    "            # Если текущий элемент левой половины меньше или равен текущему элементу правой,\n",
    "            # добавляем его в результирующий массив.\n",
    "            merged_array[merged_index] = left_half[left_index]\n",
    "            left_index += 1  # Переходим к следующему элементу в левой половине.\n",
    "        else:\n",
    "            # Если текущий элемент правой половины меньше,\n",
    "            # добавляем его в результирующий массив.\n",
    "            merged_array[merged_index] = right_half[right_index]\n",
    "            right_index += 1  # Переходим к следующему элементу в правой половине.\n",
    "        merged_index += 1  # Переходим к следующей позиции в результирующем массиве.\n",
    "\n",
    "    # Если в левой половине остались элементы, добавляем их в результирующий массив.\n",
    "    while left_index < len(left_half):\n",
    "        merged_array[merged_index] = left_half[left_index]\n",
    "        left_index += 1\n",
    "        merged_index += 1\n",
    "\n",
    "    # Если в правой половине остались элементы, добавляем их в результирующий массив.\n",
    "    while right_index < len(right_half):\n",
    "        merged_array[merged_index] = right_half[right_index]\n",
    "        right_index += 1\n",
    "        merged_index += 1\n",
    "\n",
    "    # Копируем отсортированный массив обратно в исходный массив (для удобства интерфейса).\n",
    "    for i in range(len(array)):\n",
    "        array[i] = merged_array[i]\n",
    "\n",
    "    # Возвращаем отсортированный массив.\n",
    "    return array\n",
    "\n",
    "# Пример использования:\n",
    "unsorted_array = [4, 2, 6, 4, 77, 33, 5, 44, 566]\n",
    "print(\"Исходный массив:\", unsorted_array)\n",
    "sorted_array = merge_sort(unsorted_array)\n",
    "print(\"Отсортированный массив:\", sorted_array)\n"
   ]
  },
  {
   "cell_type": "markdown",
   "id": "ad320bd1",
   "metadata": {},
   "source": [
    "\n",
    "\n"
   ]
  },
  {
   "cell_type": "code",
   "execution_count": null,
   "id": "d82c6305",
   "metadata": {},
   "outputs": [],
   "source": []
  },
  {
   "cell_type": "code",
   "execution_count": 3,
   "id": "2c6c13f8",
   "metadata": {},
   "outputs": [
    {
     "name": "stdout",
     "output_type": "stream",
     "text": [
      "[3, 3, 4, 4, 4, 5, 7, 55, 66, 77, 88]\n"
     ]
    }
   ],
   "source": [
    "def mergeSort(arr, l, r):\n",
    "    if l < r:\n",
    "        m = l + (r-l) // 2\n",
    "        mergeSort(arr, l, m)\n",
    "        mergeSort(arr, m + 1, r)\n",
    "        \n",
    "        merge(arr, l, m, r)\n",
    "    return arr\n",
    "        \n",
    "        \n",
    "arr = [4,3, 4,5,3,4,77,66,55,88,7]\n",
    "print(mergeSort(arr, 0, 10))"
   ]
  },
  {
   "cell_type": "markdown",
   "id": "579ab7f9",
   "metadata": {},
   "source": [
    "Задание 1\n",
    "Счетчик инверсии для массива указывает, насколько далек (или близок) массив от упорядоченного. Если массив уже упорядочен, то счетчик инверсии равен 0, а если массив отсортирован в обратном порядке, то счетчик инверсии будет максимальным. \n",
    "\n",
    "Пример: \n",
    "Ввод: arr = [8, 4, 2, 1]\n",
    "Вывод: 6 \n",
    "Объяснение: Данный массив имеет шесть инверсий: \n",
    "(8, 4), (4, 2), (8, 2), (8, 1), (4, 1), (2, 1). \n",
    "\n",
    "Ввод: arr = [3, 1, 2]\n",
    "Вывод: 2 \n",
    "Объяснение: Данный массив имеет две инверсии: \n",
    "(3, 1), (3, 2)\n"
   ]
  },
  {
   "cell_type": "markdown",
   "id": "ccce932c",
   "metadata": {},
   "source": [
    "\n",
    "Функция getInvCount считает количество инверсий в массиве. Инверсия — это пара элементов в массиве, где более ранний элемент больше последующего. В отсортированном массиве инверсий нет, а в массиве, отсортированном в обратном порядке, инверсий будет максимальное количество."
   ]
  },
  {
   "cell_type": "code",
   "execution_count": 8,
   "id": "d011643d",
   "metadata": {},
   "outputs": [
    {
     "name": "stdout",
     "output_type": "stream",
     "text": [
      "Number of inversions are 8\n"
     ]
    }
   ],
   "source": [
    "# Функция для подсчета количества инверсий в массиве\n",
    "def getInvCount(arr, n):\n",
    "    inv_count = 0  # Инициализируем счетчик инверсий\n",
    "    # Внешний цикл проходит по каждому элементу массива\n",
    "    for i in range(n):\n",
    "        # Внутренний цикл сравнивает текущий элемент с каждым последующим элементом\n",
    "        for j in range(i + 1, n): \n",
    "            # Если текущий элемент больше следующего, это инверсия\n",
    "            if arr[i] > arr[j]:\n",
    "                inv_count += 1  # Увеличиваем счетчик инверсий\n",
    "    return inv_count  # Возвращаем общее количество инверсий\n",
    "\n",
    "# Массив, в котором нужно подсчитать количество инверсий\n",
    "arr = [2, 20, 6, 4, 51, 1]\n",
    "\n",
    "# Определяем длину массива\n",
    "n = len(arr)\n",
    "\n",
    "# Выводим результат\n",
    "print(\"Number of inversions are\", getInvCount(arr, n))\n"
   ]
  },
  {
   "cell_type": "markdown",
   "id": "a1e67d8f",
   "metadata": {},
   "source": [
    "кол-во инверсий путем сортировки слиянием"
   ]
  },
  {
   "cell_type": "markdown",
   "id": "ac23558d",
   "metadata": {},
   "source": [
    "Что делает эта функция?\n",
    "\n",
    "Это рекурсивная функция, которая:\n",
    "Делит массив пополам до тех пор, пока не останутся отдельные элементы.\n",
    "Затем считает инверсии в левой и правой части.\n",
    "Далее сливает их обратно, подсчитывая инверсии"
   ]
  },
  {
   "cell_type": "markdown",
   "id": "4be46a89",
   "metadata": {},
   "source": [
    "Что делает эта функция?\n",
    "\n",
    "Сливает два отсортированных подмассива.\n",
    "Подсчитывает количество инверсий (если элемент из правой части меньше, чем элемент из левой, значит все оставшиеся элементы в левой части тоже больше — добавляем число инверсий)."
   ]
  },
  {
   "cell_type": "code",
   "execution_count": 7,
   "id": "e3d10cdb",
   "metadata": {},
   "outputs": [
    {
     "name": "stdout",
     "output_type": "stream",
     "text": [
      "Количество инверсий: 8\n"
     ]
    }
   ],
   "source": [
    "\n",
    "\n",
    "def _mergeSort(arr, temp_arr, left, right):\n",
    "    # Переменная для хранения числа инверсий\n",
    "    inv_count = 0\n",
    "\n",
    "    # Выполняем рекурсию, только если в сегменте более одного элемента\n",
    "    if left < right:\n",
    "\n",
    "        # Находим средину массива\n",
    "        mid = (left + right) // 2\n",
    "\n",
    "        # Подсчитываем инверсии в левой части\n",
    "        inv_count += _mergeSort(arr, temp_arr, left, mid)\n",
    "\n",
    "        # Подсчитываем инверсии в правой части\n",
    "        inv_count += _mergeSort(arr, temp_arr, mid + 1, right)\n",
    "\n",
    "        # Сливаем две части и считаем инверсии\n",
    "        inv_count += merge(arr, temp_arr, left, mid, right)\n",
    "\n",
    "    return inv_count\n",
    "\n",
    "# Функция для слияния двух подмассивов\n",
    "\n",
    "def merge(arr, temp_arr, left, mid, right):\n",
    "    # Индексы для левого, правого и слиянного массива\n",
    "    i = left\n",
    "    j = mid + 1\n",
    "    k = left\n",
    "    inv_count = 0\n",
    "\n",
    "    # Проверяем элементы в подмассивах\n",
    "    while i <= mid and j <= right:\n",
    "\n",
    "        # Если arr[i] <= arr[j], инверсии нет\n",
    "        if arr[i] <= arr[j]:\n",
    "            temp_arr[k] = arr[i]\n",
    "            i += 1\n",
    "        else:\n",
    "            # Инверсия обнаружена\n",
    "            temp_arr[k] = arr[j]\n",
    "            inv_count += (mid - i + 1)\n",
    "            j += 1\n",
    "        k += 1\n",
    "\n",
    "    # Копируем оставшиеся элементы из левого подмассива в temp_arr\n",
    "    while i <= mid:\n",
    "        temp_arr[k] = arr[i]\n",
    "        i += 1\n",
    "        k += 1\n",
    "\n",
    "    # Копируем оставшиеся элементы из правого подмассива в temp_arr\n",
    "    while j <= right:\n",
    "        temp_arr[k] = arr[j]\n",
    "        j += 1\n",
    "        k += 1\n",
    "\n",
    "    # Копируем отсортированные элементы обратно в оригинальный массив\n",
    "    for loop_var in range(left, right + 1):\n",
    "        arr[loop_var] = temp_arr[loop_var]\n",
    "\n",
    "    return inv_count\n",
    "\n",
    "# Основной код\n",
    "arr = [2, 20, 6, 4, 51, 1]\n",
    "n = len(arr)\n",
    "temp_arr = [0] * n\n",
    "result = _mergeSort(arr, temp_arr, 0, n - 1)\n",
    "print(\"Количество инверсий:\", result)\n",
    "\n",
    "\n",
    "\n",
    "\n",
    " "
   ]
  },
  {
   "cell_type": "code",
   "execution_count": null,
   "id": "2e21adce",
   "metadata": {},
   "outputs": [],
   "source": []
  },
  {
   "cell_type": "markdown",
   "id": "57dfe43e",
   "metadata": {},
   "source": [
    "\n"
   ]
  },
  {
   "cell_type": "code",
   "execution_count": null,
   "id": "4c9cc857",
   "metadata": {},
   "outputs": [],
   "source": []
  },
  {
   "cell_type": "markdown",
   "id": "4268b991",
   "metadata": {},
   "source": []
  },
  {
   "cell_type": "markdown",
   "id": "6db3faea",
   "metadata": {},
   "source": []
  },
  {
   "cell_type": "markdown",
   "id": "569a7bc9",
   "metadata": {},
   "source": []
  },
  {
   "cell_type": "code",
   "execution_count": 11,
   "id": "8f516390",
   "metadata": {},
   "outputs": [
    {
     "name": "stdout",
     "output_type": "stream",
     "text": [
      "[2, 3, 6, 7, 9, 11, 1234, 5678, 2345]\n"
     ]
    }
   ],
   "source": [
    "#дз\n",
    "def read_file(file_path):\n",
    "    \"\"\"Считывает числа из файла и возвращает их в виде списка.\"\"\"\n",
    "    with open(file_path, 'r') as file:\n",
    "        return [int(num) for num in file.read().split()]\n",
    "\n",
    "def merge(left, right):\n",
    "    \"\"\"Сливает два отсортированных списка в один отсортированный список.\"\"\"\n",
    "    result = []\n",
    "    i = j = 0\n",
    "\n",
    "    while i < len(left) and j < len(right):\n",
    "        if left[i] < right[j]:\n",
    "            result.append(left[i])\n",
    "            i += 1\n",
    "        else:\n",
    "            result.append(right[j])\n",
    "            j += 1\n",
    "\n",
    "    result.extend(left[i:])\n",
    "    result.extend(right[j:])\n",
    "    return result\n",
    "\n",
    "\n",
    "def merge_three_sorted_arrays(file1, file2, file3):\n",
    "    arr1 = read_file(file1)\n",
    "    arr2 = read_file(file2)\n",
    "    arr3 = read_file(file3)\n",
    "\n",
    "    merged_first_two = merge(arr1, arr2)\n",
    "    final_merged_array = merge(merged_first_two, arr3)\n",
    "\n",
    "    return final_merged_array\n",
    "\n",
    "file1 = 'c.txt'\n",
    "file2 = 'b.txt'\n",
    "file3 = 'a.txt'\n",
    "merged_array = merge_three_sorted_arrays(file1, file2, file3)\n",
    "print(merged_array)"
   ]
  },
  {
   "cell_type": "code",
   "execution_count": 12,
   "id": "4267315e",
   "metadata": {},
   "outputs": [],
   "source": [
    "def merge_sort_strings(arr):\n",
    "    if len (arr) <= 1:\n",
    "        return arr\n",
    "                             \n",
    "    mid = len (arr) // 2  # Находим середину массива и делим его на две части: left и right\n",
    "    left = arr[:mid]\n",
    "    right = arr[mid:]\n",
    "    \n",
    "    left = merge_sort_strings(left)\n",
    "    right = merge_sort_strings(right)  #Рекурсивно применяем сортировку слиянием к каждой из частей, пока не останутся массивы из одного элемента.\n",
    "\n",
    "    return merge_strings (left, right)\n",
    "             \n",
    "def merge_strings(left, right):\n",
    "    result = []   # Создаем пустой массив result, и устанавливаем два индекса i и j для отслеживания текущей позиции в массивах left и right соответственно.\n",
    "    i = j = 0\n",
    "                              \n",
    "    while i < len(left) and j < len (right) : #Пока не достигнут конец одного из массивов, сравниваем текущие элементы из left и right, добавляя меньший элемент в result\n",
    "        if left[i] < right[j]:\n",
    "            result.append(left[i])\n",
    "            i+=1\n",
    "        else:\n",
    "            result.append(right[j])\n",
    "            j += 1\n",
    "    #Добавляем оставшиеся элементы из левой части\n",
    "    while i < len(left):\n",
    "        result.append (left[i])   # result.extend (left[i:])\n",
    "        i += 1\n",
    "    # Добавляем оставшиеся элементы из правой части\n",
    "    while j < len(right):\n",
    "        result.append(right [j])  # result.extend (right[j:])\n",
    "        j += 1\n",
    "    return result"
   ]
  },
  {
   "cell_type": "code",
   "execution_count": 14,
   "id": "292580e2",
   "metadata": {},
   "outputs": [
    {
     "data": {
      "text/plain": [
       "['a', 'b', 'd', 'v', 'z']"
      ]
     },
     "execution_count": 14,
     "metadata": {},
     "output_type": "execute_result"
    }
   ],
   "source": [
    "merge_sort_strings(['d','z','a','v','b'])"
   ]
  },
  {
   "cell_type": "code",
   "execution_count": 15,
   "id": "a02d201e",
   "metadata": {},
   "outputs": [
    {
     "data": {
      "text/plain": [
       "[2, 2, 3, 5, 5, 6]"
      ]
     },
     "execution_count": 15,
     "metadata": {},
     "output_type": "execute_result"
    }
   ],
   "source": [
    "merge_sort_strings([3,5,2,6,2,5])"
   ]
  },
  {
   "cell_type": "code",
   "execution_count": null,
   "id": "768c5119",
   "metadata": {},
   "outputs": [],
   "source": []
  }
 ],
 "metadata": {
  "kernelspec": {
   "display_name": "Python 3 (ipykernel)",
   "language": "python",
   "name": "python3"
  },
  "language_info": {
   "codemirror_mode": {
    "name": "ipython",
    "version": 3
   },
   "file_extension": ".py",
   "mimetype": "text/x-python",
   "name": "python",
   "nbconvert_exporter": "python",
   "pygments_lexer": "ipython3",
   "version": "3.12.5"
  }
 },
 "nbformat": 4,
 "nbformat_minor": 5
}
