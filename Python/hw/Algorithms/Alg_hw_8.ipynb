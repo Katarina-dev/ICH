{
 "cells": [
  {
   "cell_type": "raw",
   "id": "dbeb2b33-3958-4c99-8b8b-6248ba37aeeb",
   "metadata": {},
   "source": [
    "Реализовать стек и его операции на основе массива. \n",
    "\n",
    "\n",
    "empty  — проверка стека на наличие в нем элементов,\n",
    "\n",
    "push  — операция вставки нового элемента,\n",
    "\n",
    "pop  — операция удаления нового элемента.\n"
   ]
  },
  {
   "cell_type": "code",
   "execution_count": 7,
   "id": "f2de935a-6304-475a-bd3f-47a45cc4bf7b",
   "metadata": {},
   "outputs": [
    {
     "name": "stdout",
     "output_type": "stream",
     "text": [
      "[3, 1, 7, 9]\n",
      "[3, 1, 7]\n"
     ]
    }
   ],
   "source": [
    "class Stack:\n",
    "    def __init__(self):\n",
    "        self.items = []\n",
    "\n",
    "    def empty(self):\n",
    "        return len(self.items) == 0\n",
    "\n",
    "    def push(self, item):\n",
    "        self.items.append(item)\n",
    "\n",
    "    def remove(self):\n",
    "        if self.empty():\n",
    "             raise IndexError('Stack is empty. Impossible to delete element')\n",
    "        self.items.pop()\n",
    "\n",
    "s = Stack()\n",
    "s.push(3)\n",
    "s.push(1)\n",
    "s.push(7)\n",
    "s.push(9)\n",
    "print(s.items)\n",
    "s.remove()\n",
    "print(s.items)\n",
    "\n",
    "    "
   ]
  },
  {
   "cell_type": "raw",
   "id": "f4a2f0f3-0d78-4ad0-a597-95d628463ee9",
   "metadata": {},
   "source": [
    "Реализовать нижеперечисленные операции самостоятельно для структуры Стек:\n",
    "\n",
    "\n",
    "peek() – Возвращает элемент c вершины стека, но не удаляет его.\n",
    "\n",
    "search(element) -  Определяет, существует ли объект в стеке. Если элемент найден, возвращает позицию элемента с вершины стека. В противном случае он возвращает -1."
   ]
  },
  {
   "cell_type": "code",
   "execution_count": 22,
   "id": "1f4f9921-5ee0-4538-ba39-fb6a51aa18bb",
   "metadata": {},
   "outputs": [
    {
     "name": "stdout",
     "output_type": "stream",
     "text": [
      "[9, 4, 2, 7]\n",
      "Element 7 is found and his position is 3\n"
     ]
    },
    {
     "data": {
      "text/plain": [
       "-1"
      ]
     },
     "execution_count": 22,
     "metadata": {},
     "output_type": "execute_result"
    }
   ],
   "source": [
    "class Stack:\n",
    "    \n",
    "    def __init__(self):\n",
    "        self.items = []\n",
    "\n",
    "    def empty(self):\n",
    "        return len(self.items) == 0\n",
    "\n",
    "    def push(self, item):\n",
    "        self.items.append(item)\n",
    "\n",
    "    def remove(self):\n",
    "        if self.empty():\n",
    "            raise IndexError('Stack is empty. Impossible to delete element')\n",
    "        self.items.pop()\n",
    "\n",
    "    def peek(self):\n",
    "        return self.items[-1]\n",
    "\n",
    "    def search(self, item):\n",
    "        if self.empty():\n",
    "            raise IndexError('Stack is empty')\n",
    "        elif self.peek() == item:\n",
    "            print(f'Element {item} is found and his position is {self.items.index(item)}')\n",
    "        else:\n",
    "            return -1\n",
    "\n",
    "st = Stack()\n",
    "st.push(9)\n",
    "st.push(4)\n",
    "st.push(2)\n",
    "st.push(7)\n",
    "print(st.items)\n",
    "st.search(7)\n",
    "st.search(8)            "
   ]
  },
  {
   "cell_type": "code",
   "execution_count": null,
   "id": "0b09c115-b8e4-4df2-a25f-85c0e47da9da",
   "metadata": {},
   "outputs": [],
   "source": []
  }
 ],
 "metadata": {
  "kernelspec": {
   "display_name": "Python 3 (ipykernel)",
   "language": "python",
   "name": "python3"
  },
  "language_info": {
   "codemirror_mode": {
    "name": "ipython",
    "version": 3
   },
   "file_extension": ".py",
   "mimetype": "text/x-python",
   "name": "python",
   "nbconvert_exporter": "python",
   "pygments_lexer": "ipython3",
   "version": "3.12.5"
  }
 },
 "nbformat": 4,
 "nbformat_minor": 5
}
