{
  "nbformat": 4,
  "nbformat_minor": 0,
  "metadata": {
    "colab": {
      "provenance": []
    },
    "kernelspec": {
      "name": "python3",
      "display_name": "Python 3"
    },
    "language_info": {
      "name": "python"
    }
  },
  "cells": [
    {
      "cell_type": "code",
      "execution_count": 64,
      "metadata": {
        "id": "NiQMn8BRRp0r"
      },
      "outputs": [],
      "source": [
        "def lin_search(arr,num):\n",
        "  for i in range(len(arr)):\n",
        "    if (num == arr[i]):\n",
        "      return i\n",
        "  return False"
      ]
    },
    {
      "cell_type": "code",
      "source": [
        "def bin_search(arr,num):\n",
        "  left = 0\n",
        "  right = len(arr) - 1\n",
        "  while left != right:\n",
        "    curr_ind = (left + right) // 2\n",
        "    if num == arr[curr_ind]:\n",
        "      return curr_ind\n",
        "    # проверяем меньше ли искомое число чем элемент на которое указываем и если да, то двигаем right\n",
        "    if num < arr[curr_ind]:\n",
        "      right = curr_ind - 1\n",
        "    # иначе элемент больше и сдвигаем left\n",
        "    else:\n",
        "      left = curr_ind + 1"
      ],
      "metadata": {
        "id": "tGYF3DSzRuQl"
      },
      "execution_count": 65,
      "outputs": []
    },
    {
      "cell_type": "code",
      "source": [
        "arr = [1, 3, 5, 7, 9, 11, 13, 15]\n",
        "target = 13"
      ],
      "metadata": {
        "id": "orFt6IejWQan"
      },
      "execution_count": 66,
      "outputs": []
    },
    {
      "cell_type": "code",
      "source": [
        "import time"
      ],
      "metadata": {
        "id": "HqdBySyGW9ke"
      },
      "execution_count": 67,
      "outputs": []
    },
    {
      "cell_type": "code",
      "source": [
        "arr = list(range(1000000))\n",
        "target = 900000"
      ],
      "metadata": {
        "id": "puJ64PegZC83"
      },
      "execution_count": 68,
      "outputs": []
    },
    {
      "cell_type": "code",
      "source": [
        "start_time = time.time()\n",
        "lin_search(arr,target)\n",
        "end_time = time.time()\n",
        "print(f\"{end_time - start_time:.5f}\")"
      ],
      "metadata": {
        "colab": {
          "base_uri": "https://localhost:8080/"
        },
        "id": "2QSnnfQJXA4Y",
        "outputId": "2f4e78d9-77ce-4950-8061-778b5439bfc2"
      },
      "execution_count": 69,
      "outputs": [
        {
          "output_type": "stream",
          "name": "stdout",
          "text": [
            "0.03624\n"
          ]
        }
      ]
    },
    {
      "cell_type": "code",
      "source": [
        "start_time = time.time()\n",
        "bin_search(arr,target)\n",
        "end_time = time.time()\n",
        "print(f\"{end_time - start_time:.5f}\")"
      ],
      "metadata": {
        "colab": {
          "base_uri": "https://localhost:8080/"
        },
        "id": "1AyVfyh0X6jl",
        "outputId": "4b3128c2-ae97-4b87-f670-07542bc4e614"
      },
      "execution_count": 70,
      "outputs": [
        {
          "output_type": "stream",
          "name": "stdout",
          "text": [
            "0.00012\n"
          ]
        }
      ]
    }
  ]
}