{
 "cells": [
  {
   "cell_type": "code",
   "execution_count": null,
   "id": "6a2ab35a-c548-4f8e-8dbb-0b9bc2619ab9",
   "metadata": {},
   "outputs": [],
   "source": [
    "Append"
   ]
  },
  {
   "cell_type": "code",
   "execution_count": 4,
   "id": "30215f5d-b27c-45ee-97ce-77cfbf34b246",
   "metadata": {},
   "outputs": [
    {
     "name": "stdout",
     "output_type": "stream",
     "text": [
      "[0] 1 1\n",
      "[0, 1] 2 2\n",
      "[0, 1, 2, None] 3 4\n",
      "[0, 1, 2, 3] 4 4\n",
      "[0, 1, 2, 3, 4, None, None, None] 5 8\n",
      "[0, 1, 2, 3, 4, 5, None, None] 6 8\n",
      "[0, 1, 2, 3, 4, 5, 6, None] 7 8\n",
      "[0, 1, 2, 3, 4, 5, 6, 7] 8 8\n",
      "[0, 1, 2, 3, 4, 5, 6, 7, 8, None, None, None, None, None, None, None] 9 16\n",
      "[0, 1, 2, 3, 4, 5, 6, 7, 8, 9, None, None, None, None, None, None] 10 16\n",
      "[0, 1, 2, 3, 4, 5, 6, 7, 8, 9, 10, None, None, None, None, None] 11 16\n",
      "[0, 1, 2, 3, 4, 5, 6, 7, 8, 9, 10, 11, None, None, None, None] 12 16\n",
      "[0, 1, 2, 3, 4, 5, 6, 7, 8, 9, 10, 11, 12, None, None, None] 13 16\n",
      "[0, 1, 2, 3, 4, 5, 6, 7, 8, 9, 10, 11, 12, 13, None, None] 14 16\n",
      "[0, 1, 2, 3, 4, 5, 6, 7, 8, 9, 10, 11, 12, 13, 14, None] 15 16\n",
      "[0, 1, 2, 3, 4, 5, 6, 7, 8, 9, 10, 11, 12, 13, 14, 15] 16 16\n"
     ]
    }
   ],
   "source": [
    "class DinamicArray:\n",
    "    def __init__(self):\n",
    "        self.array = [None]\n",
    "        self.size = 0\n",
    "        self.capacity = 1\n",
    "\n",
    "    def append(self, data): #добавление в конец\n",
    "        if self.size == self.capacity:\n",
    "            self.grow_size()\n",
    "        self.array[self.size] = data\n",
    "        self.size += 1\n",
    "\n",
    "    def grow_size(self): #увеличние емкости массива\n",
    "        self.capacity *=2\n",
    "        new_array = [None] * self.capacity\n",
    "        for i in range(self.size):\n",
    "            new_array[i] = self.array[i]\n",
    "        self.array = new_array\n",
    "        \n",
    "D = DinamicArray()\n",
    "for i in range(16):\n",
    "    D.append(i)\n",
    "    print(D.array, D.size, D.capacity)\n",
    "# print(D.array, D.size, D.capacity)\n",
    "# D.append(25)\n",
    "# print(D.array, D.size, D.capacity)\n",
    "# D.append(26)\n",
    "# D.append(23)\n",
    "# D.append(27)\n",
    "# D.append(22)\n",
    "# D.append(28)\n",
    "# D.append(29)\n",
    "# print(D.array, D.size, D.capacity)"
   ]
  },
  {
   "cell_type": "code",
   "execution_count": null,
   "id": "136c4c38-026b-4d38-8874-3d5714c55812",
   "metadata": {},
   "outputs": [],
   "source": [
    "Remove"
   ]
  },
  {
   "cell_type": "code",
   "execution_count": 9,
   "id": "439a60d7-81cd-444e-bdaf-74c942fc2ebc",
   "metadata": {},
   "outputs": [
    {
     "name": "stdout",
     "output_type": "stream",
     "text": [
      "[None] 0 1\n",
      "[25] 1 1\n",
      "[25, 26, 23, 27, 22, 28, 29, None] 7 8\n",
      "[25, 26, 23, 27, 22, None, None, None] 5 8\n"
     ]
    }
   ],
   "source": [
    "class DinamicArray:\n",
    "    def __init__(self):\n",
    "        self.array = [None]\n",
    "        self.size = 0\n",
    "        self.capacity = 1\n",
    "\n",
    "    def append(self, data): #добавление в конец\n",
    "        if self.size == self.capacity:\n",
    "            self.grow_size()\n",
    "        self.array[self.size] = data\n",
    "        self.size += 1\n",
    "\n",
    "    def grow_size(self): #увеличние емкости массива\n",
    "        self.capacity *=2\n",
    "        new_array = [None] * self.capacity\n",
    "        for i in range(self.size):\n",
    "            new_array[i] = self.array[i]\n",
    "        self.array = new_array\n",
    "\n",
    "    def remove(self):\n",
    "        if self.is_empty():\n",
    "            raise IndexError('Нельзя удалить из пустого массива')\n",
    "            # print('Нельзя удалить из пустого массива')\n",
    "        self.size -= 1\n",
    "        self.array[self.size] = None\n",
    "   \n",
    "\n",
    "    def is_empty(self): #проверка не пустой ли массив: True - пустой\n",
    "        return self.size == 0\n",
    "\n",
    "\n",
    "D = DinamicArray()\n",
    "# for i in range(16):\n",
    "#     D.append(i)\n",
    "#     print(D.array, D.size, D.capacity)\n",
    "print(D.array, D.size, D.capacity)\n",
    "D.append(25)\n",
    "print(D.array, D.size, D.capacity)\n",
    "D.append(26)\n",
    "D.append(23)\n",
    "D.append(27)\n",
    "D.append(22)\n",
    "D.append(28)\n",
    "D.append(29)\n",
    "print(D.array, D.size, D.capacity)\n",
    "D.remove()\n",
    "D.remove()\n",
    "print(D.array, D.size, D.capacity)"
   ]
  },
  {
   "cell_type": "code",
   "execution_count": null,
   "id": "fe563e33-98e8-4cbd-ad2b-1520c0c9e229",
   "metadata": {},
   "outputs": [],
   "source": [
    "Add by index"
   ]
  },
  {
   "cell_type": "code",
   "execution_count": 10,
   "id": "78418ae2-12df-472f-953e-0c51bfc6c6c5",
   "metadata": {},
   "outputs": [
    {
     "name": "stdout",
     "output_type": "stream",
     "text": [
      "[None] 0 1\n",
      "[25] 1 1\n",
      "[25, 26, 23, 27, 22, 28, 29, None] 7 8\n",
      "[25, 26, 23, 29, 27, 22, None, None] 6 8\n"
     ]
    }
   ],
   "source": [
    "class DinamicArray:\n",
    "    def __init__(self):\n",
    "        self.array = [None]\n",
    "        self.size = 0\n",
    "        self.capacity = 1\n",
    "\n",
    "    def append(self, data): #добавление в конец\n",
    "        if self.size == self.capacity:\n",
    "            self.grow_size()\n",
    "        self.array[self.size] = data\n",
    "        self.size += 1\n",
    "\n",
    "    def grow_size(self): #увеличние емкости массива\n",
    "        self.capacity *=2\n",
    "        new_array = [None] * self.capacity\n",
    "        for i in range(self.size):\n",
    "            new_array[i] = self.array[i]\n",
    "        self.array = new_array\n",
    "\n",
    "    def is_empty(self): #проверка не пустой ли массив: True - пустой\n",
    "        return self.size == 0\n",
    "\n",
    "    def remove(self):\n",
    "        if self.is_empty():\n",
    "            raise IndexError('Нельзя удалить из пустого массива')\n",
    "            # print('Нельзя удалить из пустого массива')\n",
    "        self.size -= 1\n",
    "        self.array[self.size] = None\n",
    "\n",
    "    def insert_at(self, index, data):\n",
    "        if index < 0 or index > self.size:\n",
    "            raise IndexError('Индекс вне диапазона')\n",
    "        if self.size == self.capacity:\n",
    "            self.grow_size()\n",
    "\n",
    "        for i in range(self.size, index, -1):\n",
    "            self.array[i] = self.array[i-1]\n",
    "        self.array[index] = data\n",
    "        self.size += 1\n",
    "   \n",
    "\n",
    "    \n",
    "\n",
    "\n",
    "D = DinamicArray()\n",
    "# for i in range(16):\n",
    "#     D.append(i)\n",
    "#     print(D.array, D.size, D.capacity)\n",
    "print(D.array, D.size, D.capacity)\n",
    "D.append(25)\n",
    "print(D.array, D.size, D.capacity)\n",
    "D.append(26)\n",
    "D.append(23)\n",
    "D.append(27)\n",
    "D.append(22)\n",
    "D.append(28)\n",
    "D.append(29)\n",
    "print(D.array, D.size, D.capacity)\n",
    "D.remove()\n",
    "D.remove()\n",
    "D.insert_at(3, 29)\n",
    "print(D.array, D.size, D.capacity)"
   ]
  },
  {
   "cell_type": "code",
   "execution_count": null,
   "id": "f12d8e3d-a33d-40fa-afb6-f3dd38b5711e",
   "metadata": {},
   "outputs": [],
   "source": [
    "Remove by index"
   ]
  },
  {
   "cell_type": "code",
   "execution_count": 20,
   "id": "8c4ac9fc-a624-44a8-8e76-458f7d03ae28",
   "metadata": {},
   "outputs": [
    {
     "name": "stdout",
     "output_type": "stream",
     "text": [
      "[None] 0 1\n",
      "[25] 1 1\n",
      "[25, 26, 23, 27, 22, 28, 29, None] 7 8\n",
      "[25, 26, 23, 30, 27, 22, None, None] 6 8\n",
      "[25, 26, 23, 30, 27, 22]\n"
     ]
    }
   ],
   "source": [
    "class DinamicArray:\n",
    "    def __init__(self):\n",
    "        self.array = [None]\n",
    "        self.size = 0\n",
    "        self.capacity = 1\n",
    "\n",
    "    def append(self, data): #добавление в конец\n",
    "        if self.size == self.capacity:\n",
    "            self.grow_size()\n",
    "        self.array[self.size] = data\n",
    "        self.size += 1\n",
    "\n",
    "    def grow_size(self): #увеличние емкости массива\n",
    "        self.capacity *=2\n",
    "        new_array = [None] * self.capacity\n",
    "        for i in range(self.size):\n",
    "            new_array[i] = self.array[i]\n",
    "        self.array = new_array\n",
    "\n",
    "    def is_empty(self): #проверка не пустой ли массив: True - пустой\n",
    "        return self.size == 0\n",
    "\n",
    "    def remove(self): # удаление элемента\n",
    "        if self.is_empty():\n",
    "            raise IndexError('Нельзя удалить из пустого массива')\n",
    "            # print('Нельзя удалить из пустого массива')\n",
    "        self.size -= 1\n",
    "        self.array[self.size] = None\n",
    "\n",
    "    def insert_at(self, index, data): #добавление элемента по индексу\n",
    "        if index < 0 or index > self.size:\n",
    "            raise IndexError('Индекс вне диапазона')\n",
    "        if self.size == self.capacity:\n",
    "            self.grow_size()\n",
    "\n",
    "        for i in range(self.size, index, -1):\n",
    "            self.array[i] = self.array[i-1]\n",
    "        self.array[index] = data\n",
    "        self.size += 1\n",
    "\n",
    "    def remove_at(self, index): #удаление элемента по индексу\n",
    "        if index < 0 or index > self.size:\n",
    "            raise IndexError('Индекс вне диапазона')\n",
    "\n",
    "        for i in range(index, self.size-1):\n",
    "            self.array[i] = self.array[i+1]\n",
    "            self.size -= 1\n",
    "            self.array[self.size] = None\n",
    "\n",
    "    def clean(self):\n",
    "        self.array = [None] * self.capacity\n",
    "        self.size = 0\n",
    "\n",
    "    def contains(self, data):\n",
    "        for i in range(self.size):\n",
    "            if self.array[i] == data:\n",
    "                return True\n",
    "        return False\n",
    "\n",
    "    def __str__(self):\n",
    "        return str([self.array[i] for i in range(self.size)])\n",
    "        \n",
    "   \n",
    "\n",
    "    \n",
    "\n",
    "\n",
    "D = DinamicArray()\n",
    "# for i in range(16):\n",
    "#     D.append(i)\n",
    "#     print(D.array, D.size, D.capacity)\n",
    "print(D.array, D.size, D.capacity)\n",
    "D.append(25)\n",
    "print(D.array, D.size, D.capacity)\n",
    "D.append(26)\n",
    "D.append(23)\n",
    "D.append(27)\n",
    "D.append(22)\n",
    "D.append(28)\n",
    "D.append(29)\n",
    "print(D.array, D.size, D.capacity)\n",
    "D.remove()\n",
    "D.remove()\n",
    "D.insert_at(3, 30)\n",
    "print(D.array, D.size, D.capacity)\n",
    "D.contains(30)\n",
    "print(D)\n",
    "# print(D.array, D.size, D.capacity)"
   ]
  },
  {
   "cell_type": "code",
   "execution_count": 22,
   "id": "6daba595-b7c1-47a9-b248-7926db8adc47",
   "metadata": {},
   "outputs": [
    {
     "name": "stdout",
     "output_type": "stream",
     "text": [
      "<class 'list'>\n",
      "[1, 4, 2, 12, 6]\n"
     ]
    }
   ],
   "source": [
    "my_list = []\n",
    "print(type(my_list))\n",
    "my_list.append(1)\n",
    "my_list.append(4)\n",
    "my_list.append(2)\n",
    "my_list.append(12)\n",
    "my_list.append(6)\n",
    "\n",
    "print(my_list)"
   ]
  },
  {
   "cell_type": "raw",
   "id": "e8e6a29f-a65d-4cde-9af1-2fc54218fb31",
   "metadata": {},
   "source": [
    "Дан словарь слов в виде списка (массива). Написать функцию getAnagrams(), которая принимает слово из словаря и словарь, а возвращает список анаграмму данного слова. \n",
    "\n",
    "Например, словарь следующий voc = [\"ivan\", \"vani\", \"navi\", \"mir\", \"rim\", \"car\", \"to\", \"as\", \"sa\", \"war\", \"raw\", \"world\", \"maria\"]. Вызов getAnagrams(“ivan”, voc) вернет [“ivan”, “vani”, “navi”]\n",
    "\n",
    "Подумайте о различных вариантах решения: перебором “в лоб”, или через дополнительную структуру данных, которая сильно повысит эффективность решения. Подсказка: подумайте, как проще всего определить, что одно слова является анаграммой другого?"
   ]
  },
  {
   "cell_type": "code",
   "execution_count": 26,
   "id": "b5db7345-1e91-4564-8e77-22de79b44021",
   "metadata": {},
   "outputs": [
    {
     "data": {
      "text/plain": [
       "['ivan', 'vani', 'navi']"
      ]
     },
     "execution_count": 26,
     "metadata": {},
     "output_type": "execute_result"
    }
   ],
   "source": [
    "def getAnagrams(word, voc):\n",
    "    sorted_word =''.join(sorted(word))\n",
    "    \n",
    "    return[w for w in voc if ''.join(sorted(w)) == sorted_word]\n",
    "\n",
    "voc = [\"ivan\", \"vani\", \"navi\", \"mir\", \"rim\", \"car\", \"to\", \"as\", \"sa\", \"war\", \"raw\", \"world\", \"maria\"]\n",
    "getAnagrams('ivan', voc)\n"
   ]
  },
  {
   "cell_type": "code",
   "execution_count": null,
   "id": "87021046-d961-4b34-9886-53e25c0234c9",
   "metadata": {},
   "outputs": [],
   "source": []
  }
 ],
 "metadata": {
  "kernelspec": {
   "display_name": "Python 3 (ipykernel)",
   "language": "python",
   "name": "python3"
  },
  "language_info": {
   "codemirror_mode": {
    "name": "ipython",
    "version": 3
   },
   "file_extension": ".py",
   "mimetype": "text/x-python",
   "name": "python",
   "nbconvert_exporter": "python",
   "pygments_lexer": "ipython3",
   "version": "3.12.5"
  }
 },
 "nbformat": 4,
 "nbformat_minor": 5
}
