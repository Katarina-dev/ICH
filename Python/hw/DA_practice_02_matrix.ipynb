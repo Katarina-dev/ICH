{
 "cells": [
  {
   "cell_type": "code",
   "execution_count": null,
   "id": "aadaa67a-a5fc-4fe6-a2fb-19fc7052ed6a",
   "metadata": {},
   "outputs": [],
   "source": [
    "1. Напишите программу, которая:\n",
    "a. Запрашивает у пользователя ввод двух списков – в первом 5\n",
    "элементов, во втором 4. Списки вводятся в виде чисел, разделенных\n",
    "пробелами.\n",
    "b. Объединяет введенные списки в один новый список из 9 элементов.\n",
    "c. Преобразует полученный список в массив NumPy.\n",
    "d. Трансформирует одномерный массив в матрицу размера 3х3.\n",
    "Обозначим эту матрицу Х.\n",
    "e. Выводит полученную матрицу.\n"
   ]
  },
  {
   "cell_type": "code",
   "execution_count": 15,
   "id": "4d594f18-e7bb-4558-b09b-7903eb11325b",
   "metadata": {},
   "outputs": [
    {
     "name": "stdin",
     "output_type": "stream",
     "text": [
      "Enter 5 elements with spaces 1 2 3 4 5\n",
      "Enter 4 elements with spaces 6 7 8 9\n"
     ]
    },
    {
     "name": "stdout",
     "output_type": "stream",
     "text": [
      "[1, 2, 3, 4, 5, 6, 7, 8, 9]\n",
      "[[1 2 3]\n",
      " [4 5 6]\n",
      " [7 8 9]]\n"
     ]
    }
   ],
   "source": [
    "import numpy as np\n",
    "\n",
    "lst_1 = list(map(int, input('Enter 5 elements with spaces').split()))\n",
    "lst_2 = list(map(int, input('Enter 4 elements with spaces').split()))\n",
    "lst_total = lst_1 + lst_2\n",
    "print(lst_total)\n",
    "X = np.array(lst_total).reshape(3,3)\n",
    "print(X)"
   ]
  },
  {
   "cell_type": "code",
   "execution_count": null,
   "id": "5c5408a9-f735-4bde-a035-5bb71e760844",
   "metadata": {},
   "outputs": [],
   "source": [
    "2. Продолжение предыдущей задачи. Далее она:\n",
    "a. В каждой строке и в каждом столбце находит среднее, максимум,\n",
    "минимум, сумму, произведение.\n",
    "b. Для всей матрицы находит среднее, максимум, минимум, сумму,\n",
    "произведение и след.\n",
    "c. Выводит транспонированную матрицу для матрицы Х.\n"
   ]
  },
  {
   "cell_type": "code",
   "execution_count": 5,
   "id": "dab0c28d-0054-43af-9180-208b213e35d8",
   "metadata": {},
   "outputs": [
    {
     "name": "stdout",
     "output_type": "stream",
     "text": [
      "[2. 5. 8.]\n",
      "[4. 5. 6.]\n",
      "[ 6 15 24]\n",
      "[12 15 18]\n"
     ]
    }
   ],
   "source": [
    "print(np.mean(X, axis=1)) # описание, что перебирать (столбцы), X-ось\n",
    "print(np.mean(X, axis=0)) # строки по вертикали (axis = 0, это как Y-ось)\n",
    "print(np.sum(X, axis=1))\n",
    "print(np.sum(X, axis=0))"
   ]
  },
  {
   "cell_type": "code",
   "execution_count": null,
   "id": "020f960b-f2e4-4d66-9f11-3547504a86ed",
   "metadata": {},
   "outputs": [],
   "source": [
    "# вариант 2\n",
    "\n",
    "print(f\"X:\\n{X}\")\n",
    "print()\n",
    "print(\"Operations by ROWs\")\n",
    "print(f\"Mean by rows X = {np.mean(X, axis=1)}\")\n",
    "print(f\"Max  by rows X = {np.max(X,axis=1)}\")\n",
    "print(f\"Min  by rows X = {np.min(X,axis=1)}\")\n",
    "print(f\"Sum  by rows X = {np.min(X,axis=1)}\")\n",
    "print()\n",
    "print(\"operations by COLUMNs\")\n",
    "print(f\"Mean by columns X = {np.mean(X, axis=0)}\")\n",
    "print(f\"Max  by columns X = {np.max(X,axis=0)}\")\n",
    "print(f\"Min  by columns X = {np.min(X,axis=0)}\")\n",
    "print(f\"Sum  by columns X = {np.sum(X,axis=0)}\")\n",
    "print()\n",
    "print(\"Operations with Full Table\") \n",
    "print(f\"Mean  X = {np.mean(X)}\")\n",
    "print(f\"Max   X = {np.max(X)}\")\n",
    "print(f\"Min   X = {np.min(X)}\")\n",
    "print(f\"Prod  X = {np.prod(X)}\")\n",
    "print(f\"Trace X = {np.trace(X)}\")\n",
    "print()\n",
    "print(f\"X.T :\\n {X.T}\")"
   ]
  },
  {
   "cell_type": "code",
   "execution_count": 6,
   "id": "f24db3f6-6695-4d42-9488-6a89772976c5",
   "metadata": {},
   "outputs": [
    {
     "name": "stdout",
     "output_type": "stream",
     "text": [
      "15\n"
     ]
    }
   ],
   "source": [
    "lst_trace = np.trace(X)\n",
    "print(lst_trace)"
   ]
  },
  {
   "cell_type": "code",
   "execution_count": 7,
   "id": "9eea7294-4d53-47d4-b584-22ccc221160c",
   "metadata": {},
   "outputs": [
    {
     "name": "stdout",
     "output_type": "stream",
     "text": [
      "[[1 4 7]\n",
      " [2 5 8]\n",
      " [3 6 9]]\n"
     ]
    }
   ],
   "source": [
    "lst_T = X.T\n",
    "print(lst_T)"
   ]
  },
  {
   "cell_type": "code",
   "execution_count": null,
   "id": "cccc3c6c-a9e7-4431-80a0-45138522e202",
   "metadata": {},
   "outputs": [],
   "source": [
    "3. Продолжение предыдущей задачи. Далее она:\n",
    "a. Генерирует массив из трех случайных элементов. Этот вектор-строку\n",
    "обозначим А.\n",
    "b. Трансформирует вектор-строку в вектор-столбец. Его обозначим B.\n",
    "c. Матрицу Х умножает на вектор-строку А.\n",
    "d. Матрицу Х умножает на вектор-столбец B.\n",
    "e. Выполняет матричное умножение матриц из предыдущих пунктов.\n"
   ]
  },
  {
   "cell_type": "code",
   "execution_count": 8,
   "id": "4e3c4cfd-9fce-4809-aac7-56da4e9b07d2",
   "metadata": {},
   "outputs": [
    {
     "name": "stdout",
     "output_type": "stream",
     "text": [
      "Матрица X:\n",
      "[[1 2 3]\n",
      " [4 5 6]\n",
      " [7 8 9]]\n",
      "\n",
      "Вектор-строка A:\n",
      "[7 8 7]\n",
      "\n",
      "Вектор-столбец B:\n",
      "[[7]\n",
      " [8]\n",
      " [7]]\n",
      "\n",
      "Умножение матрицы X на вектор-строку A:\n",
      "[[ 7 16 21]\n",
      " [28 40 42]\n",
      " [49 64 63]]\n",
      "\n",
      "Умножение матрицы X на вектор-столбец B:\n",
      "[[ 7 14 21]\n",
      " [32 40 48]\n",
      " [49 56 63]]\n",
      "\n",
      "Матричное умножение результатов из пунктов c и d:\n",
      "[[1590 1914 2238]\n",
      " [3534 4344 5154]\n",
      " [5478 6774 8070]]\n"
     ]
    }
   ],
   "source": [
    "print(\"Матрица X:\")\n",
    "print(X)\n",
    "\n",
    "# vector_A = np.array([rd.uniform(0, 10) for i in range (3)])\n",
    "vector_A = np.random.randint(1, 11, size=3)\n",
    "print(\"\\nВектор-строка A:\")\n",
    "print(vector_A)\n",
    "\n",
    "vector_B = vector_A[:, np.newaxis]\n",
    "print(\"\\nВектор-столбец B:\")\n",
    "print(vector_B)\n",
    "\n",
    "result_c = X * vector_A\n",
    "print(\"\\nУмножение матрицы X на вектор-строку A:\")\n",
    "print(result_c)\n",
    "\n",
    "result_d = X * vector_B\n",
    "print(\"\\nУмножение матрицы X на вектор-столбец B:\")\n",
    "print(result_d)\n",
    "\n",
    "result_e = result_c @ result_d\n",
    "print(\"\\nМатричное умножение результатов из пунктов c и d:\")\n",
    "print(result_e)"
   ]
  },
  {
   "cell_type": "code",
   "execution_count": null,
   "id": "015ef690-01b9-4c06-bdb4-badb603f2472",
   "metadata": {},
   "outputs": [],
   "source": [
    "4. Продолжение предыдущей задачи. Далее она:\n",
    "a. Запрашивает у пользователя число i от 0 до 2.\n",
    "b. Выводит строку i из матрицы Х.\n",
    "c. Выводит столбец i из матрицы Х."
   ]
  },
  {
   "cell_type": "code",
   "execution_count": 14,
   "id": "563aa349-a9fe-44da-8739-ccdffee41294",
   "metadata": {},
   "outputs": [
    {
     "name": "stdout",
     "output_type": "stream",
     "text": [
      "[[1 2 3]\n",
      " [4 5 6]\n",
      " [7 8 9]]\n"
     ]
    },
    {
     "name": "stdin",
     "output_type": "stream",
     "text": [
      "Enter number from 0 to 2 0\n"
     ]
    },
    {
     "name": "stdout",
     "output_type": "stream",
     "text": [
      "[1 2 3]\n",
      "[1 4 7]\n"
     ]
    }
   ],
   "source": [
    "print(X)\n",
    "num = int(input('Enter number from 0 to 2')) #check num [0-2]\n",
    "print(X[num])\n",
    "print(X[:, num])"
   ]
  },
  {
   "cell_type": "code",
   "execution_count": null,
   "id": "0f06779a-5c77-4cdf-91c5-540b71856a7a",
   "metadata": {},
   "outputs": [],
   "source": [
    "5. Создайте матрицу 5х5 из чисел от 1 до 25. Из этой матрицы извлеките две\n",
    "подматрицы: С размера 2х3 из левого верхнего угла исходной матрицы, и В\n",
    "размера 3х2 из правого нижнего угла исходной матрицы. Найдите матричное\n",
    "произведение С на B и B на С."
   ]
  },
  {
   "cell_type": "code",
   "execution_count": 28,
   "id": "48347a9e-ac59-463a-84e2-c89233c30746",
   "metadata": {},
   "outputs": [
    {
     "name": "stdout",
     "output_type": "stream",
     "text": [
      "[[ 1  2  3  4  5]\n",
      " [ 6  7  8  9 10]\n",
      " [11 12 13 14 15]\n",
      " [16 17 18 19 20]\n",
      " [21 22 23 24 25]]\n",
      "[[1 2 3]\n",
      " [6 7 8]]\n",
      "[[14 15]\n",
      " [19 20]\n",
      " [24 25]]\n",
      "[[124 130]\n",
      " [409 430]]\n",
      "[[104 133 162]\n",
      " [139 178 217]\n",
      " [174 223 272]]\n"
     ]
    }
   ],
   "source": [
    "mat = np.arange(1, 26).reshape(5,5)\n",
    "print(mat)\n",
    "C = mat[0:2, 0:3]\n",
    "print(C)\n",
    "B = mat[2:5, 3:5]\n",
    "print(B)\n",
    "print(C @ B)\n",
    "print(B @ C)"
   ]
  },
  {
   "cell_type": "code",
   "execution_count": 29,
   "id": "812458af-b188-4b3a-84ed-a490c2505b37",
   "metadata": {},
   "outputs": [
    {
     "ename": "ValueError",
     "evalue": "operands could not be broadcast together with shapes (3,2) (2,3) ",
     "output_type": "error",
     "traceback": [
      "\u001b[1;31m---------------------------------------------------------------------------\u001b[0m",
      "\u001b[1;31mValueError\u001b[0m                                Traceback (most recent call last)",
      "Cell \u001b[1;32mIn[29], line 1\u001b[0m\n\u001b[1;32m----> 1\u001b[0m \u001b[38;5;28mprint\u001b[39m(\u001b[43mB\u001b[49m\u001b[43m \u001b[49m\u001b[38;5;241;43m*\u001b[39;49m\u001b[43m \u001b[49m\u001b[43mC\u001b[49m)\n",
      "\u001b[1;31mValueError\u001b[0m: operands could not be broadcast together with shapes (3,2) (2,3) "
     ]
    }
   ],
   "source": [
    "print(B * C)"
   ]
  },
  {
   "cell_type": "code",
   "execution_count": 30,
   "id": "d911d145-ec5e-4e06-8c49-9715f37dce7b",
   "metadata": {},
   "outputs": [
    {
     "name": "stdout",
     "output_type": "stream",
     "text": [
      "[[ 14  90]\n",
      " [ 38 140]\n",
      " [ 72 200]]\n"
     ]
    }
   ],
   "source": [
    "print(B * C.T)"
   ]
  },
  {
   "cell_type": "code",
   "execution_count": null,
   "id": "64c5b39f-6513-4798-8def-0edb63749ee1",
   "metadata": {},
   "outputs": [],
   "source": [
    "6. Запросите у пользователя ввод трех чисел – x, y, z. Создайте трехмерный\n",
    "массив размера x*y*z и заполните его числами от 10 до 20 с подходящим\n",
    "шагом. Выведите его. Запросите у пользователя координаты элемента этого\n",
    "тензора и его новое значение. Замените выбранный элемент на новое\n",
    "значение.\n",
    "Вычислите среднее, максимум, минимум, сумму, произведение по каждой\n",
    "оси."
   ]
  },
  {
   "cell_type": "code",
   "execution_count": null,
   "id": "9659c457-af6e-4047-848a-9f7e63ff7e8b",
   "metadata": {},
   "outputs": [],
   "source": [
    "x = int(input(\"Введите размер x: \"))\n",
    "y = int(input(\"Введите размер y: \"))\n",
    "z = int(input(\"Введите размер z: \"))\n",
    "arr = np.linspace(10, 20, x * y * z).reshape(x, y, z)\n",
    "print(arr)"
   ]
  },
  {
   "cell_type": "code",
   "execution_count": null,
   "id": "7c153a2a-a510-4ea2-ab7b-92c9bfdc578a",
   "metadata": {},
   "outputs": [],
   "source": [
    "# Запросите у пользователя координаты элемента этого тензора и его новое значение. \n",
    "# Замените выбранный элемент на новое значение\n",
    "i = int(input(\"Введите координату по оси x: \"))\n",
    "j = int(input(\"Введите координату по оси y: \"))\n",
    "k = int(input(\"Введите координату по оси z: \"))\n",
    "new_value = float(input(\"Введите новое значение: \"))\n",
    "\n",
    "arr[i, j, k] = new_value\n",
    "# Запросите у пользователя координаты элемента этого тензора и его новое значение. \n",
    "# Замените выбранный элемент на новое значение\n",
    "i = int(input(\"Введите координату по оси x: \"))\n",
    "j = int(input(\"Введите координату по оси y: \"))\n",
    "k = int(input(\"Введите координату по оси z: \"))\n",
    "new_value = float(input(\"Введите новое значение: \"))\n",
    "\n",
    "arr[i, j, k] = new_value\n",
    "print(\"Обновленный массив:\\n\", arr)"
   ]
  },
  {
   "cell_type": "code",
   "execution_count": null,
   "id": "e9a2c44a-7fa2-4749-8b4c-3a0d9d2bb424",
   "metadata": {},
   "outputs": [],
   "source": [
    "# Вычислите среднее, максимум, минимум, сумму, произведение по каждой оси\n",
    "print(\"\\nОсь x:\")\n",
    "print(\"Среднее:\", np.mean(arr, axis=0))\n",
    "print(\"Максимум:\", np.max(arr, axis=0))\n",
    "print(\"Минимум:\", np.min(arr, axis=0))\n",
    "print(\"Сумма:\", np.sum(arr, axis=0))\n",
    "print(\"Произведение:\", np.prod(arr, axis=0))\n",
    "\n",
    "print(\"\\nОсь y:\")\n",
    "print(\"Среднее:\", np.mean(arr, axis=1))\n",
    "print(\"Максимум:\", np.max(arr, axis=1))\n",
    "print(\"Минимум:\", np.min(arr, axis=1))\n",
    "print(\"Сумма:\", np.sum(arr, axis=1))\n",
    "print(\"Произведение:\", np.prod(arr, axis=1))\n",
    "\n",
    "print(\"\\nОсь z:\")\n",
    "print(\"Среднее:\", np.mean(arr, axis=2))\n",
    "print(\"Максимум:\", np.max(arr, axis=2))\n",
    "print(\"Минимум:\", np.min(arr, axis=2))\n",
    "print(\"Сумма:\", np.sum(arr, axis=2))\n",
    "print(\"Произведение:\", np.prod(arr, axis=2))"
   ]
  }
 ],
 "metadata": {
  "kernelspec": {
   "display_name": "Python 3 (ipykernel)",
   "language": "python",
   "name": "python3"
  },
  "language_info": {
   "codemirror_mode": {
    "name": "ipython",
    "version": 3
   },
   "file_extension": ".py",
   "mimetype": "text/x-python",
   "name": "python",
   "nbconvert_exporter": "python",
   "pygments_lexer": "ipython3",
   "version": "3.12.5"
  }
 },
 "nbformat": 4,
 "nbformat_minor": 5
}
