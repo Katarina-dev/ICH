{
 "cells": [
  {
   "cell_type": "code",
   "execution_count": null,
   "id": "aadaa67a-a5fc-4fe6-a2fb-19fc7052ed6a",
   "metadata": {},
   "outputs": [],
   "source": [
    "1. Напишите программу, которая:\n",
    "a. Запрашивает у пользователя ввод двух списков – в первом 5\n",
    "элементов, во втором 4. Списки вводятся в виде чисел, разделенных\n",
    "пробелами.\n",
    "b. Объединяет введенные списки в один новый список из 9 элементов.\n",
    "c. Преобразует полученный список в массив NumPy.\n",
    "d. Трансформирует одномерный массив в матрицу размера 3х3.\n",
    "Обозначим эту матрицу Х.\n",
    "e. Выводит полученную матрицу.\n"
   ]
  },
  {
   "cell_type": "code",
   "execution_count": 7,
   "id": "4d594f18-e7bb-4558-b09b-7903eb11325b",
   "metadata": {},
   "outputs": [
    {
     "name": "stdin",
     "output_type": "stream",
     "text": [
      "Enter 5 elements with spaces 1 2 3 4 5\n",
      "Enter 4 elements with spaces 6 7 8 9\n"
     ]
    },
    {
     "name": "stdout",
     "output_type": "stream",
     "text": [
      "[1, 2, 3, 4, 5, 6, 7, 8, 9]\n",
      "[[1 2 3]\n",
      " [4 5 6]\n",
      " [7 8 9]]\n"
     ]
    }
   ],
   "source": [
    "import numpy as np\n",
    "\n",
    "lst_1 = list(map(int, input('Enter 5 elements with spaces').split()))\n",
    "lst_2 = list(map(int, input('Enter 4 elements with spaces').split()))\n",
    "lst_total = lst_1 + lst_2\n",
    "print(lst_total)\n",
    "X = np.array(lst_total).reshape(3,3)\n",
    "print(X)"
   ]
  },
  {
   "cell_type": "code",
   "execution_count": null,
   "id": "5c5408a9-f735-4bde-a035-5bb71e760844",
   "metadata": {},
   "outputs": [],
   "source": [
    "2. Продолжение предыдущей задачи. Далее она:\n",
    "a. В каждой строке и в каждом столбце находит среднее, максимум,\n",
    "минимум, сумму, произведение.\n",
    "b. Для всей матрицы находит среднее, максимум, минимум, сумму,\n",
    "произведение и след.\n",
    "c. Выводит транспонированную матрицу для матрицы Х.\n"
   ]
  },
  {
   "cell_type": "code",
   "execution_count": 11,
   "id": "dab0c28d-0054-43af-9180-208b213e35d8",
   "metadata": {},
   "outputs": [
    {
     "name": "stdout",
     "output_type": "stream",
     "text": [
      "[2. 5. 8.]\n",
      "[4. 5. 6.]\n",
      "[ 6 15 24]\n",
      "[12 15 18]\n"
     ]
    }
   ],
   "source": [
    "print(np.mean(X, axis=1)) # описание, что перебирать (столбцы), X-ось\n",
    "print(np.mean(X, axis=0)) # строки по вертикали (axis = 0, это как Y-ось)\n",
    "print(np.sum(X, axis=1))\n",
    "print(np.sum(X, axis=0))"
   ]
  },
  {
   "cell_type": "code",
   "execution_count": null,
   "id": "020f960b-f2e4-4d66-9f11-3547504a86ed",
   "metadata": {},
   "outputs": [],
   "source": [
    "# вариант 2\n",
    "\n",
    "print(f\"X:\\n{X}\")\n",
    "print()\n",
    "print(\"Operations by ROWs\")\n",
    "print(f\"Mean by rows X = {np.mean(X, axis=1)}\")\n",
    "print(f\"Max  by rows X = {np.max(X,axis=1)}\")\n",
    "print(f\"Min  by rows X = {np.min(X,axis=1)}\")\n",
    "print(f\"Sum  by rows X = {np.min(X,axis=1)}\")\n",
    "print()\n",
    "print(\"operations by COLUMNs\")\n",
    "print(f\"Mean by columns X = {np.mean(X, axis=0)}\")\n",
    "print(f\"Max  by columns X = {np.max(X,axis=0)}\")\n",
    "print(f\"Min  by columns X = {np.min(X,axis=0)}\")\n",
    "print(f\"Sum  by columns X = {np.sum(X,axis=0)}\")\n",
    "print()\n",
    "print(\"Operations with Full Table\") \n",
    "print(f\"Mean  X = {np.mean(X)}\")\n",
    "print(f\"Max   X = {np.max(X)}\")\n",
    "print(f\"Min   X = {np.min(X)}\")\n",
    "print(f\"Prod  X = {np.prod(X)}\")\n",
    "print(f\"Trace X = {np.trace(X)}\")\n",
    "print()\n",
    "print(f\"X.T :\\n {X.T}\")"
   ]
  },
  {
   "cell_type": "code",
   "execution_count": 12,
   "id": "f24db3f6-6695-4d42-9488-6a89772976c5",
   "metadata": {},
   "outputs": [
    {
     "name": "stdout",
     "output_type": "stream",
     "text": [
      "15\n"
     ]
    }
   ],
   "source": [
    "lst_trace = np.trace(X)\n",
    "print(lst_trace)"
   ]
  },
  {
   "cell_type": "code",
   "execution_count": 13,
   "id": "9eea7294-4d53-47d4-b584-22ccc221160c",
   "metadata": {},
   "outputs": [
    {
     "name": "stdout",
     "output_type": "stream",
     "text": [
      "[[1 4 7]\n",
      " [2 5 8]\n",
      " [3 6 9]]\n"
     ]
    }
   ],
   "source": [
    "lst_T = X.T\n",
    "print(lst_T)"
   ]
  },
  {
   "cell_type": "code",
   "execution_count": null,
   "id": "cccc3c6c-a9e7-4431-80a0-45138522e202",
   "metadata": {},
   "outputs": [],
   "source": []
  }
 ],
 "metadata": {
  "kernelspec": {
   "display_name": "Python 3 (ipykernel)",
   "language": "python",
   "name": "python3"
  },
  "language_info": {
   "codemirror_mode": {
    "name": "ipython",
    "version": 3
   },
   "file_extension": ".py",
   "mimetype": "text/x-python",
   "name": "python",
   "nbconvert_exporter": "python",
   "pygments_lexer": "ipython3",
   "version": "3.12.5"
  }
 },
 "nbformat": 4,
 "nbformat_minor": 5
}
