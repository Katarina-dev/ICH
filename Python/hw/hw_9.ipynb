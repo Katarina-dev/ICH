{
 "cells": [
  {
   "cell_type": "code",
   "execution_count": 11,
   "id": "95d836fc-f630-4d02-aea6-7bbfea45edfe",
   "metadata": {},
   "outputs": [
    {
     "name": "stdin",
     "output_type": "stream",
     "text": [
      "Введите строку: Pack my box with five dozen liquor jugs\n"
     ]
    },
    {
     "name": "stdout",
     "output_type": "stream",
     "text": [
      "Строка является панграммой.\n"
     ]
    }
   ],
   "source": [
    "# 1. Напишите программу, которая запрашивает у пользователя строку и определяет, является ли она панграммой. \n",
    "# Панграмма - это фраза, содержащая все буквы алфавита. Программа должна игнорировать регистр букв и пробелы при проверке панграммы. \n",
    "# Выведите соответствующее сообщение на экран с помощью команды print. Решить задачу для латиницы.\n",
    "\n",
    "\n",
    "name = input('Введите строку:')\n",
    "name = name.lower()\n",
    "name = name.replace(' ','')\n",
    "num = list(range(97, 123))\n",
    "i = 0\n",
    "\n",
    "name = sorted(name)\n",
    "#print(name)\n",
    "num = sorted(num)\n",
    "\n",
    "spisok = []\n",
    "\n",
    "while i < len(name):\n",
    "    pos = ord(name[i])\n",
    "    spisok += [pos]\n",
    "    i += 1\n",
    "    \n",
    "#print(spisok)\n",
    "#print(num)\n",
    "\n",
    "new_spisok = set(spisok)\n",
    "new_num = set(num)\n",
    "#print(new_spisok)\n",
    "#print(new_num)\n",
    "\n",
    "if new_spisok == new_num:\n",
    "    print('Строка является панграммой.')\n",
    "else:\n",
    "    print('Строка не является панграммой.')\n",
    "    "
   ]
  },
  {
   "cell_type": "code",
   "execution_count": 13,
   "id": "a09ad43c-3068-40cd-a751-fa07a3f55e27",
   "metadata": {},
   "outputs": [
    {
     "name": "stdin",
     "output_type": "stream",
     "text": [
      "Enter string >> Hello World\n"
     ]
    },
    {
     "name": "stdout",
     "output_type": "stream",
     "text": [
      "Количество гласных букв: 3\n",
      "Количество согласных букв: 7\n"
     ]
    }
   ],
   "source": [
    "# 2. Напишите программу, которая запрашивает у пользователя строку и выводит на экран количество гласных и согласных букв в ней. \n",
    "# Используйте функцию len() для подсчета количества букв. Выведите результат на экран с помощью команды print. Решить задачу для латиницы.\n",
    "\n",
    "#Option №1\n",
    "\n",
    "t = input(\"Enter string >>\")\n",
    "t = t.lower()\n",
    "gl = [\"a\", \"e\", \"i\", \"o\", \"u\", \"y\"]\n",
    "sog = [\"b\",\"c\",\"d\",\"f\",\"g\",\"h\",\"j\",\"k\",\"l\",\"m\",\"n\",\"p\",\"q\",\"r\",\"s\",\"t\",\"v\",\"w\",\"x\",\"z\"] \n",
    "i = 0\n",
    "y = 0\n",
    "\n",
    "while i < len(t):\n",
    "    res = gl.count(t[i])\n",
    "    i += 1 \n",
    "    y += res\n",
    "print(\"Количество гласных букв:\", y)\n",
    "\n",
    "i = 0\n",
    "y = 0\n",
    "\n",
    "while i < len(t):\n",
    "    res = sog.count(t[i])\n",
    "    i += 1 \n",
    "    y += res\n",
    "print(\"Количество согласных букв:\", y)"
   ]
  },
  {
   "cell_type": "code",
   "execution_count": 14,
   "id": "373b7251-0945-42ae-af21-efb3b9237328",
   "metadata": {},
   "outputs": [
    {
     "name": "stdin",
     "output_type": "stream",
     "text": [
      "Enter string >> Hello World\n"
     ]
    },
    {
     "name": "stdout",
     "output_type": "stream",
     "text": [
      "Количество гласных букв: 3\n",
      "Количество согласных букв: 7\n"
     ]
    }
   ],
   "source": [
    "#Option №2\n",
    "\n",
    "t = input('Enter string >>')\n",
    "t = t.lower()\n",
    "gl = [\"a\", \"e\", \"i\", \"o\", \"u\", \"y\"]\n",
    "sog = [\"b\",\"c\",\"d\",\"f\",\"g\",\"h\",\"j\",\"k\",\"l\",\"m\",\"n\",\"p\",\"q\",\"r\",\"s\",\"t\",\"v\",\"w\",\"x\",\"z\"] \n",
    "i = 0\n",
    "u = 0\n",
    "\n",
    "while i < len(t):\n",
    "    if t[i] in gl:\n",
    "        u += 1\n",
    "    res = t[i] in gl\n",
    "    i += 1\n",
    "    #num = int(res)\n",
    "print(\"Количество гласных букв:\",u)\n",
    "\n",
    "i = 0\n",
    "u = 0\n",
    "\n",
    "while i < len(t):\n",
    "    if t[i] in sog:\n",
    "        u += 1\n",
    "    res = t[i] in sog\n",
    "    i += 1\n",
    " #num = int(res)\n",
    "print(\"Количество согласных букв:\",u)"
   ]
  },
  {
   "cell_type": "code",
   "execution_count": null,
   "id": "c9d314ff-ed0a-4b52-974c-034a67fa70a8",
   "metadata": {},
   "outputs": [],
   "source": []
  }
 ],
 "metadata": {
  "kernelspec": {
   "display_name": "Python 3 (ipykernel)",
   "language": "python",
   "name": "python3"
  },
  "language_info": {
   "codemirror_mode": {
    "name": "ipython",
    "version": 3
   },
   "file_extension": ".py",
   "mimetype": "text/x-python",
   "name": "python",
   "nbconvert_exporter": "python",
   "pygments_lexer": "ipython3",
   "version": "3.12.5"
  }
 },
 "nbformat": 4,
 "nbformat_minor": 5
}
