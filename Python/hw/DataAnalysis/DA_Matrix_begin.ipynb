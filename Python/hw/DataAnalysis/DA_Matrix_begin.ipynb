{
 "cells": [
  {
   "cell_type": "code",
   "execution_count": null,
   "id": "71f15bda-bbaf-4afb-9e76-59166afb2418",
   "metadata": {},
   "outputs": [],
   "source": [
    "УРОК 2.1. ИНДЕКСАЦИЯ, НАЧАЛО РАБОТЫ С МАТРИЦАМИ"
   ]
  },
  {
   "cell_type": "code",
   "execution_count": null,
   "id": "cfa1903e-9c6c-4d7f-b166-a10fa5b311db",
   "metadata": {},
   "outputs": [],
   "source": [
    "Трёхмерный массив (3D-массив) можно представить как набор двумерных таблиц (матриц), сложенных в \"стопку\". \n",
    "В NumPy они имеют три измерения (оси):\n",
    "\n",
    "Ось 0 (блоки) → Количество столбцов в каждой строке.\n",
    "Ось 1 (строки) → Количество строк в каждой матрице.\n",
    "Ось 2 (столбцы) → «Глубина» массива (сколько 2D-матриц в стопке).\n",
    "\n",
    "\n",
    "cube = np.array([[[1, 2], [3, 4]], [[5, 6], [7, 8]]])\n",
    "\n",
    "cube = np.array([\n",
    "    [   # Первый блок (cube[0])\n",
    "        [1, 2],   # Первая строка\n",
    "        [3, 4]    # Вторая строка\n",
    "    ],\n",
    "    [   # Второй блок (cube[1])\n",
    "        [5, 6],   # Первая строка\n",
    "        [7, 8]    # Вторая строка\n",
    "    ]\n",
    "])\n",
    "\n",
    "print(cube.shape)  # (2, 2, 2)\n",
    "\n",
    "array[номер_блока, номер_строки, номер_столбца]\n",
    "\n",
    "print(cube[1, 0, 1])  # 6  (Блок 1 → Первая строка → Второй элемент)\n",
    "print(cube[0, 1, 0])  # 3  (Блок 0 → Вторая строка → Первый элемент)\n",
    "\n",
    "print(cube[1, :, 0])  # [5 7] (Берём 1-й элементы всех строк блока 1)\n",
    "print(cube[:, 1, 1])  # [4 8] (Берём 2-е элементы 2-й строки во всех блоках)"
   ]
  },
  {
   "cell_type": "code",
   "execution_count": 3,
   "id": "ad12cc8f-ad69-4966-a986-ae8a30580b6d",
   "metadata": {},
   "outputs": [],
   "source": [
    "import numpy as np"
   ]
  },
  {
   "cell_type": "code",
   "execution_count": 6,
   "id": "b811dd35-2eb3-4ef3-aabf-bd0c8d4f1f91",
   "metadata": {},
   "outputs": [
    {
     "name": "stdout",
     "output_type": "stream",
     "text": [
      "[ 4  6 10]\n"
     ]
    }
   ],
   "source": [
    "b = np.array([6, 4, 10]) \n",
    "print(np.sort(b)) # всегда создает новый отсортированный массив, а старый не меняется"
   ]
  },
  {
   "cell_type": "code",
   "execution_count": 9,
   "id": "d2b955f3-761a-4c9e-8f3f-cae410cc635a",
   "metadata": {},
   "outputs": [
    {
     "name": "stdout",
     "output_type": "stream",
     "text": [
      "[ 4  6 10]\n"
     ]
    }
   ],
   "source": [
    "b = np.array([6, 4, 10]) \n",
    "b.sort() # сортирует массив на месте, от меньшего к большему, не создает новый, меняет старый\n",
    "print(b)"
   ]
  },
  {
   "cell_type": "code",
   "execution_count": 11,
   "id": "91cc8bd5-3c70-47c7-a8ef-8a98722621a9",
   "metadata": {},
   "outputs": [
    {
     "name": "stdout",
     "output_type": "stream",
     "text": [
      "[1 3 2 4 6]\n"
     ]
    }
   ],
   "source": [
    "a = np.array([1, 3, 2, 4, 6, 5])\n",
    "a = np.delete(a, 5) #удаляет по индексу, а не по значению\n",
    "print(a)"
   ]
  },
  {
   "cell_type": "code",
   "execution_count": 12,
   "id": "3e29d825-5947-4036-8e6d-4a87d5a7a4ec",
   "metadata": {},
   "outputs": [
    {
     "name": "stdout",
     "output_type": "stream",
     "text": [
      "[1 3 0 0 2 4 6]\n"
     ]
    }
   ],
   "source": [
    "a = np.insert(a, 2, [0, 0]) # вставляет по индексу\n",
    "print(a)\n"
   ]
  },
  {
   "cell_type": "code",
   "execution_count": 13,
   "id": "c65f4b69-f864-4519-aa96-201213e025ea",
   "metadata": {},
   "outputs": [
    {
     "name": "stdout",
     "output_type": "stream",
     "text": [
      "[1 3 0 0 2 4 6 1 2 3]\n"
     ]
    }
   ],
   "source": [
    "a = np.append(a, [1, 2, 3]) # то же самое, что insert, но добавляет в конец\n",
    "print(a)"
   ]
  },
  {
   "cell_type": "code",
   "execution_count": 14,
   "id": "8c0a808c-a5dd-4ade-b4e5-96fa085e3297",
   "metadata": {},
   "outputs": [
    {
     "name": "stdout",
     "output_type": "stream",
     "text": [
      "1\n"
     ]
    }
   ],
   "source": [
    "one_d_array = np.array([1, 2, 3])\n",
    "print(one_d_array[0]) # 1\n"
   ]
  },
  {
   "cell_type": "code",
   "execution_count": 15,
   "id": "8d9187ba-a552-4fbb-8a8c-d565cfeb25cc",
   "metadata": {},
   "outputs": [
    {
     "name": "stdout",
     "output_type": "stream",
     "text": [
      "[4 5 6]\n"
     ]
    }
   ],
   "source": [
    "two_d_array = np.array([[1, 2, 3], [4, 5, 6]])\n",
    "print(two_d_array[1]) # Выведет вторую строку [4 5 6]"
   ]
  },
  {
   "cell_type": "code",
   "execution_count": 16,
   "id": "d058bb88-4158-4f03-b58f-0098ef73f157",
   "metadata": {},
   "outputs": [
    {
     "name": "stdout",
     "output_type": "stream",
     "text": [
      "6\n",
      "6\n"
     ]
    }
   ],
   "source": [
    "print(two_d_array[1, 2]) # Выведет 6, элемент во второй строке и третьем столбце\n",
    "print(two_d_array[1][2]) # Тоже выведет 6, но обычно принято обращаться через запятую в рамках одних скобок, то же самое, \n",
    "#что и print(two_d_array[1, 2])"
   ]
  },
  {
   "cell_type": "code",
   "execution_count": 17,
   "id": "f4621d7a-026b-481a-b5eb-a9db1b6a90a2",
   "metadata": {},
   "outputs": [
    {
     "name": "stdout",
     "output_type": "stream",
     "text": [
      "[1 2 5]\n"
     ]
    }
   ],
   "source": [
    "int_array = np.array([1, 2, 3])\n",
    "int_array[2] = 5\n",
    "print(int_array)"
   ]
  },
  {
   "cell_type": "code",
   "execution_count": 19,
   "id": "c2d920e3-3d78-4d7f-b54b-7a62e8e16a50",
   "metadata": {},
   "outputs": [
    {
     "name": "stdout",
     "output_type": "stream",
     "text": [
      "[1 2]\n",
      "[[1 2 3]\n",
      " [4 5 6]]\n",
      "[[1 2]\n",
      " [4 5]]\n"
     ]
    }
   ],
   "source": [
    "# one_d_array = np.array([1, 2, 3])\n",
    "# two_d_array = np.array([[1, 2, 3], [4, 5, 6]])\n",
    "\n",
    "print(one_d_array[0:2]) # Выведет [1 2]\n",
    "print(two_d_array[0:2]) # [[1 2 3], [4 5 6]] – выведет с 0 по 2 строку не вкл\n",
    "print(two_d_array[0:2, 0:2]) # [[1 2], [4 5]] – выведет с 0 по 2 строку не вкл и с 0 по 2 столбец не вкл"
   ]
  },
  {
   "cell_type": "code",
   "execution_count": 20,
   "id": "93db2924-f156-4f48-9746-72cddcf4fe42",
   "metadata": {},
   "outputs": [
    {
     "name": "stdout",
     "output_type": "stream",
     "text": [
      "[1 2 3]\n",
      "[2 5]\n"
     ]
    }
   ],
   "source": [
    "print(two_d_array[0, :]) # [1 2 3] – первая строка\n",
    "print(two_d_array[:, 1]) # [2 5] – второй столбец\n"
   ]
  },
  {
   "cell_type": "code",
   "execution_count": 22,
   "id": "f215dc74-2aba-4e0f-8fd7-58892460f3dc",
   "metadata": {},
   "outputs": [
    {
     "name": "stdout",
     "output_type": "stream",
     "text": [
      "[2.2 3.3]\n",
      "[101.    3.3]\n",
      "[  1.1 101.    3.3   4.4   5.5]\n"
     ]
    }
   ],
   "source": [
    "x = np.array([1.1, 2.2, 3.3, 4.4, 5.5])\n",
    "s = x[1:3:1]\n",
    "print(s)\n",
    "\n",
    "s[0] = 101\n",
    "print(s)\n",
    "print(x)\n",
    "# срез никогда не создает новые массивы, срез - это как view в sql"
   ]
  },
  {
   "cell_type": "code",
   "execution_count": 23,
   "id": "080fa777-a2b3-44a6-a2c8-fb3096fe90f3",
   "metadata": {},
   "outputs": [
    {
     "data": {
      "text/plain": [
       "array([  1.1, 101. ,   3.3,   4.4,   5.5])"
      ]
     },
     "execution_count": 23,
     "metadata": {},
     "output_type": "execute_result"
    }
   ],
   "source": [
    "y = x.copy()\n",
    "y"
   ]
  },
  {
   "cell_type": "code",
   "execution_count": 24,
   "id": "897ef949-42df-4759-86ed-4a338e476a3e",
   "metadata": {},
   "outputs": [
    {
     "name": "stdout",
     "output_type": "stream",
     "text": [
      "[2.2, 3.3]\n"
     ]
    }
   ],
   "source": [
    "x = [1.1, 2.2, 3.3, 4.4, 5.5] #срез создает новый список в отличие от массива\n",
    "s = x[1:3:1]\n",
    "print(s)"
   ]
  },
  {
   "cell_type": "code",
   "execution_count": 25,
   "id": "3dc2158c-88ba-45ad-bd44-5a355c43a80a",
   "metadata": {},
   "outputs": [
    {
     "name": "stdout",
     "output_type": "stream",
     "text": [
      "[101, 3.3]\n",
      "[1.1, 2.2, 3.3, 4.4, 5.5]\n"
     ]
    }
   ],
   "source": [
    "s[0] = 101\n",
    "print(s)\n",
    "print(x)"
   ]
  },
  {
   "cell_type": "code",
   "execution_count": 26,
   "id": "feba8cc9-e052-4c90-84aa-3edafbfa93bd",
   "metadata": {},
   "outputs": [
    {
     "name": "stdout",
     "output_type": "stream",
     "text": [
      "6\n",
      "[3 7]\n",
      "[[3 4]\n",
      " [7 8]]\n"
     ]
    }
   ],
   "source": [
    "cube = np.array([[[1, 2], [3, 4]], [[5, 6], [7, 8]]])\n",
    "print(cube[1, 0, 1])\n",
    "print(cube[:, 1, 0])\n",
    "print(cube[:, 1])"
   ]
  },
  {
   "cell_type": "code",
   "execution_count": 27,
   "id": "9fcfa702-034a-4099-924a-d22a6f5446fb",
   "metadata": {},
   "outputs": [
    {
     "name": "stdout",
     "output_type": "stream",
     "text": [
      "[0. 1. 2. 3.]\n",
      "(4,)\n",
      "[[0. 1.]\n",
      " [2. 3.]]\n"
     ]
    }
   ],
   "source": [
    "b = np.linspace(0, 3, 4)\n",
    "print(b)\n",
    "print(b.shape) # меняет на месте, лучше использовать на больших объемах данных\n",
    "\n",
    "b.shape = 2, 2\n",
    "print(b)\n"
   ]
  },
  {
   "cell_type": "code",
   "execution_count": 32,
   "id": "0555e295-84fd-47cd-9801-1fd6798c2009",
   "metadata": {},
   "outputs": [
    {
     "name": "stdout",
     "output_type": "stream",
     "text": [
      "[[0. 1.]\n",
      " [2. 3.]]\n"
     ]
    }
   ],
   "source": [
    "c = b.reshape(2, 2) # создает новый, можно использовать на маленьких объемах данных\n",
    "print(b)"
   ]
  },
  {
   "cell_type": "code",
   "execution_count": 28,
   "id": "6ff3e8a8-2749-4155-91d6-586deccf73fd",
   "metadata": {},
   "outputs": [
    {
     "name": "stdout",
     "output_type": "stream",
     "text": [
      "[[0. 1.]\n",
      " [2. 3.]]\n"
     ]
    }
   ],
   "source": [
    "print(np.linspace(0, 3, 4).reshape((2, 2)))"
   ]
  },
  {
   "cell_type": "code",
   "execution_count": 33,
   "id": "61602243-fbb5-4d03-9c72-6c9d18fee7af",
   "metadata": {},
   "outputs": [
    {
     "name": "stdout",
     "output_type": "stream",
     "text": [
      "[[0. 1.]\n",
      " [2. 3.]]\n"
     ]
    }
   ],
   "source": [
    "b.ravel() # растягивает многомерные массивы в одну строку, может поменять изначальный, что не всегда удается\n",
    "print(b)"
   ]
  },
  {
   "cell_type": "code",
   "execution_count": 30,
   "id": "48ddce96-e497-411c-9c80-c35195bd1d51",
   "metadata": {},
   "outputs": [
    {
     "name": "stdout",
     "output_type": "stream",
     "text": [
      "[0. 1. 2. 3.]\n"
     ]
    }
   ],
   "source": [
    "print(b.flatten()) # растягивает многомерные массивы в одну строку, всегда возвращает копию, \n",
    "#лучше использовать его, если нет проблем с памятью и производительностью"
   ]
  },
  {
   "cell_type": "code",
   "execution_count": 34,
   "id": "85dbece7-8f3b-44ef-b874-1e983631990b",
   "metadata": {},
   "outputs": [
    {
     "name": "stdout",
     "output_type": "stream",
     "text": [
      "[0. 1. 2. 3.]\n"
     ]
    }
   ],
   "source": [
    "print(b.ravel())"
   ]
  },
  {
   "cell_type": "code",
   "execution_count": 36,
   "id": "f5440c53-8b00-446d-978e-3fe2aa6eeea9",
   "metadata": {},
   "outputs": [
    {
     "name": "stdout",
     "output_type": "stream",
     "text": [
      "[[0. 1.]\n",
      " [2. 3.]]\n",
      "[[0. 2.]\n",
      " [1. 3.]]\n",
      "[[0. 1.]\n",
      " [2. 3.]]\n",
      "[[0. 1.]\n",
      " [2. 3.]]\n"
     ]
    }
   ],
   "source": [
    "print(b)\n",
    "print(b.T) # транспонирует матрицу, только двумерную!\n",
    "print(b.T.T)\n",
    "print(b)"
   ]
  },
  {
   "cell_type": "code",
   "execution_count": 37,
   "id": "87db8bc5-a28e-4c6c-a1ba-bf66fb803336",
   "metadata": {},
   "outputs": [
    {
     "name": "stdout",
     "output_type": "stream",
     "text": [
      "[[11 22 33]\n",
      " [12 24 36]\n",
      " [13 26 39]]\n"
     ]
    }
   ],
   "source": [
    "a = np.array([1, 2, 3])\n",
    "b = np.array([[11], [12], [13]])\n",
    "print(a * b) # такое умножение работает только на двумерных матрицах\n"
   ]
  },
  {
   "cell_type": "code",
   "execution_count": 38,
   "id": "2f3a2e21-998e-4e29-8542-bc80eb30f2a2",
   "metadata": {},
   "outputs": [
    {
     "name": "stdout",
     "output_type": "stream",
     "text": [
      "[74]\n"
     ]
    }
   ],
   "source": [
    "a = np.array([1, 2, 3])\n",
    "b = np.array([[11], [12], [13]])\n",
    "print(a @ b) #сколько столбцов во второй матрице - столько столбцов в итоге. Сколько строк в первой матрице, столько строк в итоге\n"
   ]
  },
  {
   "cell_type": "code",
   "execution_count": null,
   "id": "a61e928c-14f4-4188-b3c8-517a736cab51",
   "metadata": {},
   "outputs": [],
   "source": [
    "Матричное умножение - вектор-строка х вектор-столбец"
   ]
  },
  {
   "cell_type": "code",
   "execution_count": null,
   "id": "035144da-c9ae-4e1c-8858-c117142ad3e4",
   "metadata": {},
   "outputs": [],
   "source": [
    "a -- n строк k столбцов\n",
    "b -- k строк m столбцов\n",
    "\n",
    "a @ b -- n строк m столбцов"
   ]
  },
  {
   "cell_type": "code",
   "execution_count": 40,
   "id": "d6712f52-f35d-403b-b645-88e7c5f40070",
   "metadata": {},
   "outputs": [
    {
     "data": {
      "text/plain": [
       "array([[  74, 1400],\n",
       "       [ 109, 1900]])"
      ]
     },
     "execution_count": 40,
     "metadata": {},
     "output_type": "execute_result"
    }
   ],
   "source": [
    "# Вычисляем элемент (0,0):\n",
    "# Берём первую строку a и первый столбец b:\n",
    "# (1 * 11) + (2 * 12) + (3 * 13) = 11 + 24 + 39 = 74\n",
    "\n",
    "# Вычисляем элемент (0,1):\n",
    "# Берём первую строку a и второй столбец b:\n",
    "# (1 * 100) + (2 * 200) + (3 * 300) = 100 + 400 + 900 = 1400\n",
    "\n",
    "# Вычисляем элемент (1,0):\n",
    "# Берём вторую строку a и первый столбец b:\n",
    "# (4 * 11) + (0 * 12) + (5 * 13) = 44 + 0 + 65 = 109\n",
    "\n",
    "# Вычисляем элемент (1,1):\n",
    "# Берём вторую строку a и второй столбец b:\n",
    "# (4 * 100) + (0 * 200) + (5 * 300) = 400 + 0 + 1500 = 1900\n",
    "\n",
    "mat_1 = np.array([[1, 2, 3], [4, 0, 5]])\n",
    "mat_2 = np.array([[11, 100], [12, 200], [13, 300]])\n",
    "mat_1 @ mat_2"
   ]
  },
  {
   "cell_type": "code",
   "execution_count": null,
   "id": "8bcaa91b-b2d5-4406-83e5-197d7104b59c",
   "metadata": {},
   "outputs": [],
   "source": [
    "# Правило:\n",
    "# Если у нас матрицы (M × K) @ (K × N) → (M × N),\n",
    "# то число столбцов первой матрицы должно быть равно числу строк второй.\n",
    "\n",
    "# У нас:\n",
    "\n",
    "# b имеет (3×2)\n",
    "# a имеет (2×3)\n",
    "# Число столбцов b (2) равно числу строк a (2), значит, умножение возможно.\n",
    "\n",
    "# При умножении:\n",
    "\n",
    "# Берём строку из b\n",
    "# Берём столбец из a\n",
    "# Перемножаем соответствующие элементы и складываем их\n",
    "\n",
    "# Вычисляем элемент (0,0)\n",
    "# Берём первую строку b и первый столбец a:\n",
    "# (11 * 1) + (100 * 4) = 11 + 400 = 411\n",
    "\n",
    "# Вычисляем элемент (0,1)\n",
    "# Берём первую строку b и второй столбец a:\n",
    "# (11 * 2) + (100 * 0) = 22 + 0 = 22\n",
    "\n",
    "# Вычисляем элемент (0,2)\n",
    "# Берём первую строку b и третий столбец a:\n",
    "# (11 * 3) + (100 * 5) = 33 + 500 = 533\n",
    "\n",
    "# Вычисляем элемент (1,0)\n",
    "# Берём вторую строку b и первый столбец a:\n",
    "# (12 * 1) + (200 * 4) = 12 + 800 = 812\n",
    "\n",
    "# Вычисляем элемент (1,1)\n",
    "# Берём вторую строку b и второй столбец a:\n",
    "# (12 * 2) + (200 * 0) = 24 + 0 = 24\n",
    "\n",
    "# Вычисляем элемент (1,2)\n",
    "# Берём вторую строку b и третий столбец a:\n",
    "# (12 * 3) + (200 * 5) = 36 + 1000 = 1036\n",
    "\n",
    "# Вычисляем элемент (2,0)\n",
    "# Берём третью строку b и первый столбец a:\n",
    "# (13 * 1) + (300 * 4) = 13 + 1200 = 1213\n",
    "\n",
    "# Вычисляем элемент (2,1)\n",
    "# Берём третью строку b и второй столбец a:\n",
    "# (13 * 2) + (300 * 0) = 26 + 0 = 26\n",
    "\n",
    "# Вычисляем элемент (2,2)\n",
    "# Берём третью строку b и третий столбец a:\n",
    "# (13 * 3) + (300 * 5) = 39 + 1500 = 1539\n",
    "\n",
    "a = np.array([[1, 2, 3], [4, 0, 5]])\n",
    "b = np.array([[11, 100], [12, 200], [13, 300]])\n",
    "print(b @ a)\n"
   ]
  },
  {
   "cell_type": "code",
   "execution_count": 41,
   "id": "0f170018-d417-4105-9e92-0865fac5dbf9",
   "metadata": {},
   "outputs": [
    {
     "name": "stdout",
     "output_type": "stream",
     "text": [
      "[[2 3]\n",
      " [2 3]]\n",
      "[[ 0 -1]\n",
      " [ 0  5]]\n"
     ]
    }
   ],
   "source": [
    "mat_1 = np.array([[0, 1], [0, 1]])\n",
    "mat_2 = np.array([[-1, 0], [2, 3]])\n",
    "print(mat_1 @ mat_2)\n",
    "print(mat_2 @ mat_1)"
   ]
  },
  {
   "cell_type": "code",
   "execution_count": 44,
   "id": "3ddaa860-b01c-4668-b239-c67fd5b002f8",
   "metadata": {},
   "outputs": [
    {
     "name": "stdout",
     "output_type": "stream",
     "text": [
      "[[[1 2]\n",
      "  [3 4]]\n",
      "\n",
      " [[5 6]\n",
      "  [7 8]]]\n"
     ]
    }
   ],
   "source": [
    "cube = np.array([[[1, 2], [3, 4]], [[5, 6], [7, 8]]])\n",
    "print(cube)"
   ]
  },
  {
   "cell_type": "code",
   "execution_count": 45,
   "id": "2f123bed-c37e-433d-8bc8-7e6291ad11ba",
   "metadata": {},
   "outputs": [
    {
     "name": "stdout",
     "output_type": "stream",
     "text": [
      "[[1 2]\n",
      " [5 6]]\n"
     ]
    }
   ],
   "source": [
    "print(cube[:, 0])\n"
   ]
  },
  {
   "cell_type": "code",
   "execution_count": 46,
   "id": "43c685fd-7cb4-42b6-8ae8-fcbaed6e1dbd",
   "metadata": {},
   "outputs": [
    {
     "name": "stdout",
     "output_type": "stream",
     "text": [
      "[5 7]\n"
     ]
    }
   ],
   "source": [
    "print(cube[1, :, 0])\n"
   ]
  },
  {
   "cell_type": "code",
   "execution_count": 47,
   "id": "5bcd5bbd-9e3e-49a8-bd5c-f48730418d7b",
   "metadata": {},
   "outputs": [
    {
     "name": "stdout",
     "output_type": "stream",
     "text": [
      "[[30 40]\n",
      " [70 80]]\n",
      "[[[ 1  2]\n",
      "  [30 40]]\n",
      "\n",
      " [[ 5  6]\n",
      "  [70 80]]]\n"
     ]
    }
   ],
   "source": [
    "s = cube[:, 1]\n",
    "s *= 10\n",
    "print(s)\n",
    "print(cube)"
   ]
  },
  {
   "cell_type": "code",
   "execution_count": 48,
   "id": "2752f025-5153-4c49-8454-7633ca2be043",
   "metadata": {},
   "outputs": [
    {
     "data": {
      "text/plain": [
       "array([[19, 22],\n",
       "       [43, 50]])"
      ]
     },
     "execution_count": 48,
     "metadata": {},
     "output_type": "execute_result"
    }
   ],
   "source": [
    "a = np.array([[1, 2], [3, 4]])\n",
    "b = np.array([[5, 6], [7, 8]])\n",
    "a @ b"
   ]
  },
  {
   "cell_type": "code",
   "execution_count": 49,
   "id": "210edfbf-82d5-4662-b211-2af1b6b68c33",
   "metadata": {},
   "outputs": [
    {
     "name": "stdout",
     "output_type": "stream",
     "text": [
      "[[1. 0. 0. 0.]\n",
      " [0. 1. 0. 0.]\n",
      " [0. 0. 1. 0.]\n",
      " [0. 0. 0. 1.]]\n"
     ]
    }
   ],
   "source": [
    "I = np.eye(4) #единичная матрица\n",
    "print(I)"
   ]
  },
  {
   "cell_type": "code",
   "execution_count": 50,
   "id": "00180d4d-3eeb-47d0-9730-5218b83faea8",
   "metadata": {},
   "outputs": [
    {
     "name": "stdout",
     "output_type": "stream",
     "text": [
      "[[ 0  1  2  3]\n",
      " [ 4  5  6  7]\n",
      " [ 8  9 10 11]\n",
      " [12 13 14 15]]\n",
      "[[ 0.  1.  2.  3.]\n",
      " [ 4.  5.  6.  7.]\n",
      " [ 8.  9. 10. 11.]\n",
      " [12. 13. 14. 15.]]\n"
     ]
    }
   ],
   "source": [
    "a = np.arange(16).reshape(4,4)\n",
    "print(a)\n",
    "print(a @ I) # умножение на единичную матрицу будет как на единицу"
   ]
  },
  {
   "cell_type": "code",
   "execution_count": 51,
   "id": "10e4d210-4721-4d5e-9c85-634f7b047f98",
   "metadata": {},
   "outputs": [
    {
     "name": "stdout",
     "output_type": "stream",
     "text": [
      "[[ 0  1  2  3]\n",
      " [ 4  5  6  7]\n",
      " [ 8  9 10 11]\n",
      " [12 13 14 15]]\n",
      "[[ 0.  1.  2.  3.]\n",
      " [ 4.  5.  6.  7.]\n",
      " [ 8.  9. 10. 11.]\n",
      " [12. 13. 14. 15.]]\n"
     ]
    }
   ],
   "source": [
    "a = np.arange(16).reshape(4,4)\n",
    "print(a)\n",
    "print(I @ a)"
   ]
  },
  {
   "cell_type": "code",
   "execution_count": 57,
   "id": "bdec387a-d93b-49d5-b61d-d4b19f273fbf",
   "metadata": {},
   "outputs": [
    {
     "name": "stdout",
     "output_type": "stream",
     "text": [
      "[[[0 0]\n",
      "  [0 0]\n",
      "  [0 0]\n",
      "  [0 0]]\n",
      "\n",
      " [[1 1]\n",
      "  [1 1]\n",
      "  [1 1]\n",
      "  [1 1]]\n",
      "\n",
      " [[2 2]\n",
      "  [2 2]\n",
      "  [2 2]\n",
      "  [2 2]]]\n",
      "[[[0 0]\n",
      "  [1 1]\n",
      "  [2 2]\n",
      "  [3 3]]\n",
      "\n",
      " [[0 0]\n",
      "  [1 1]\n",
      "  [2 2]\n",
      "  [3 3]]\n",
      "\n",
      " [[0 0]\n",
      "  [1 1]\n",
      "  [2 2]\n",
      "  [3 3]]]\n",
      "[[[11 12]\n",
      "  [12 13]\n",
      "  [13 14]\n",
      "  [14 15]]\n",
      "\n",
      " [[21 22]\n",
      "  [22 23]\n",
      "  [23 24]\n",
      "  [24 25]]\n",
      "\n",
      " [[31 32]\n",
      "  [32 33]\n",
      "  [33 34]\n",
      "  [34 35]]]\n"
     ]
    }
   ],
   "source": [
    "def f(i, j, k):\n",
    "    print(i)\n",
    "    print(j)\n",
    "    return 10 * (i + 1) + (j + 1) + k ** 2\n",
    "    \n",
    "print(np.fromfunction(f, (3, 4, 2), dtype=np.int64))"
   ]
  },
  {
   "cell_type": "code",
   "execution_count": 58,
   "id": "67a4d8d3-dc88-4898-ae5b-14c6b89704a9",
   "metadata": {},
   "outputs": [
    {
     "name": "stdout",
     "output_type": "stream",
     "text": [
      "[[0 0 0 0]\n",
      " [1 1 1 1]\n",
      " [2 2 2 2]]\n",
      "[[0 1 2 3]\n",
      " [0 1 2 3]\n",
      " [0 1 2 3]]\n",
      "[[ 0  1  2  3]\n",
      " [10 11 12 13]\n",
      " [20 21 22 23]]\n"
     ]
    }
   ],
   "source": [
    "def f(i, j):\n",
    "    print(i)\n",
    "    print(j)\n",
    "    return 10 * i + j\n",
    "    \n",
    "print(np.fromfunction(f, (3, 4), dtype=np.int64))"
   ]
  },
  {
   "cell_type": "code",
   "execution_count": 59,
   "id": "c3d826cc-10de-4335-98b6-42b96d836b6d",
   "metadata": {},
   "outputs": [
    {
     "name": "stdout",
     "output_type": "stream",
     "text": [
      "[1 3 2 4 5 6]\n"
     ]
    }
   ],
   "source": [
    "a = np.array([1, 3, 2])\n",
    "b = np.array([4, 5, 6])\n",
    "a = np.hstack((a, b)) #склеивает горизонтально,лучше использовать для двумерных. А для многомерных лучше concatenate(универсальней)\n",
    "print(a)\n"
   ]
  },
  {
   "cell_type": "code",
   "execution_count": 60,
   "id": "e70b7ac7-54fe-457a-800e-de8bd1ca138a",
   "metadata": {},
   "outputs": [
    {
     "name": "stdout",
     "output_type": "stream",
     "text": [
      "[[1 3 2]\n",
      " [4 5 6]]\n"
     ]
    }
   ],
   "source": [
    "a = np.array([1, 3, 2])\n",
    "b = np.array([4, 5, 6])\n",
    "a = np.vstack((a, b)) # склеивает вертикально\n",
    "print(a)"
   ]
  },
  {
   "cell_type": "code",
   "execution_count": 62,
   "id": "d6fc043e-f28e-4386-8abd-96603dd18acf",
   "metadata": {},
   "outputs": [
    {
     "name": "stdout",
     "output_type": "stream",
     "text": [
      "[array([[1, 3, 2],\n",
      "       [4, 5, 6]]), array([], shape=(2, 0), dtype=int64), array([], shape=(2, 0), dtype=int64)]\n"
     ]
    }
   ],
   "source": [
    "print(np.hsplit(a, [3, 5])) # вырезает кусок по индексам"
   ]
  },
  {
   "cell_type": "code",
   "execution_count": 63,
   "id": "13f8fca1-7b66-4b57-b965-a4a2202ffa71",
   "metadata": {},
   "outputs": [
    {
     "name": "stdout",
     "output_type": "stream",
     "text": [
      "[[0 1]\n",
      " [2 3]]\n",
      "[[4 5 6]\n",
      " [7 8 9]]\n",
      "[[4 5]\n",
      " [6 7]\n",
      " [8 9]]\n"
     ]
    }
   ],
   "source": [
    "a = np.array([[0, 1], [2, 3]])\n",
    "b = np.array([[4, 5, 6], [7, 8, 9]])\n",
    "c = np.array([[4, 5], [6, 7], [8, 9]])\n",
    "print(a)\n",
    "print(b)\n",
    "print(c)\n"
   ]
  },
  {
   "cell_type": "code",
   "execution_count": 64,
   "id": "e9e0c0e2-7929-4a16-b1cd-72755361e664",
   "metadata": {},
   "outputs": [
    {
     "name": "stdout",
     "output_type": "stream",
     "text": [
      "[[0 1 4 5 6]\n",
      " [2 3 7 8 9]]\n"
     ]
    }
   ],
   "source": [
    "print(np.hstack((a, b))) # лучше использовать hstack вместо concatenate\n"
   ]
  },
  {
   "cell_type": "code",
   "execution_count": 65,
   "id": "5cf341bc-96d4-473e-a567-295541f9eaf1",
   "metadata": {},
   "outputs": [
    {
     "name": "stdout",
     "output_type": "stream",
     "text": [
      "[[0 1]\n",
      " [2 3]\n",
      " [4 5]\n",
      " [6 7]\n",
      " [8 9]]\n"
     ]
    }
   ],
   "source": [
    "print(np.vstack((a, c)))\n"
   ]
  },
  {
   "cell_type": "code",
   "execution_count": 66,
   "id": "9dc77370-078c-4f10-9b35-7403633e29f0",
   "metadata": {},
   "outputs": [
    {
     "name": "stdout",
     "output_type": "stream",
     "text": [
      "[[4 5 6]\n",
      " [7 8 9]]\n",
      "39\n",
      "[11 13 15]\n",
      "[15 24]\n"
     ]
    }
   ],
   "source": [
    "print(b)\n",
    "print(b.sum())\n",
    "print(b.sum(axis=0))\n",
    "print(b.sum(axis=1))\n"
   ]
  },
  {
   "cell_type": "code",
   "execution_count": 67,
   "id": "1d429243-6c11-4d77-8305-1acf601b9d5a",
   "metadata": {},
   "outputs": [
    {
     "name": "stdout",
     "output_type": "stream",
     "text": [
      "9\n",
      "[7 8 9]\n",
      "[4 7]\n"
     ]
    }
   ],
   "source": [
    "print(b.max())\n",
    "print(b.max(axis=0)) # в каждом столбце\n",
    "print(b.min(axis=1)) # в каждой строке"
   ]
  },
  {
   "cell_type": "code",
   "execution_count": 68,
   "id": "898c12a0-486d-4cd3-8414-c909dda33da9",
   "metadata": {},
   "outputs": [
    {
     "name": "stdout",
     "output_type": "stream",
     "text": [
      "12\n"
     ]
    }
   ],
   "source": [
    "print(np.trace(b)) # след матрицы – сумма диагональных элементов"
   ]
  },
  {
   "cell_type": "code",
   "execution_count": 69,
   "id": "ff6e5b66-a729-4bde-9e26-13e97ce93368",
   "metadata": {},
   "outputs": [
    {
     "name": "stdout",
     "output_type": "stream",
     "text": [
      "[[[ 0  1  2  3]\n",
      "  [ 4  5  6  7]\n",
      "  [ 8  9 10 11]]\n",
      "\n",
      " [[12 13 14 15]\n",
      "  [16 17 18 19]\n",
      "  [20 21 22 23]]]\n"
     ]
    }
   ],
   "source": [
    "X = np.arange(24).reshape(2, 3, 4) # Многомерный массив называется тензором\n",
    "print(X)\n"
   ]
  },
  {
   "cell_type": "code",
   "execution_count": 70,
   "id": "40243a39-f453-453f-b76d-d6ade9d95fd4",
   "metadata": {},
   "outputs": [
    {
     "name": "stdout",
     "output_type": "stream",
     "text": [
      "[[12 14 16 18]\n",
      " [20 22 24 26]\n",
      " [28 30 32 34]]\n"
     ]
    }
   ],
   "source": [
    "print(X.sum(axis=0)) # ось 0 - это столбцы\n"
   ]
  },
  {
   "cell_type": "code",
   "execution_count": 71,
   "id": "befdec57-10cb-406a-9f3b-32d437fc4e7e",
   "metadata": {},
   "outputs": [
    {
     "name": "stdout",
     "output_type": "stream",
     "text": [
      "[ 66 210]\n"
     ]
    }
   ],
   "source": [
    "print(X.sum(axis=(1, 2)))  # Суммируем сразу по двум осям\n"
   ]
  },
  {
   "cell_type": "code",
   "execution_count": 72,
   "id": "d0a733fb-b012-49f1-9be1-a786f3efd895",
   "metadata": {},
   "outputs": [
    {
     "name": "stdout",
     "output_type": "stream",
     "text": [
      "[2 4 6]\n"
     ]
    }
   ],
   "source": [
    "a = np.array([1, 2, 3])\n",
    "b = np.array([2, 2, 2])\n",
    "print(a * b) #BROADCASTING\n"
   ]
  },
  {
   "cell_type": "code",
   "execution_count": 73,
   "id": "beaad469-80d9-4bba-be4a-4b8634eae2a2",
   "metadata": {},
   "outputs": [
    {
     "name": "stdout",
     "output_type": "stream",
     "text": [
      "[[ 0  1  2]\n",
      " [10 11 12]\n",
      " [20 21 22]\n",
      " [30 31 32]]\n"
     ]
    }
   ],
   "source": [
    "a = np.array([[ 0, 0, 0],\n",
    "[10, 10, 10],\n",
    "[20, 20, 20],\n",
    "[30, 30, 30]])\n",
    "b = np.array([0, 1, 2])\n",
    "print(a + b)\n"
   ]
  },
  {
   "cell_type": "code",
   "execution_count": 2,
   "id": "661ed366-37f5-4ced-8ac9-317d9342103e",
   "metadata": {},
   "outputs": [
    {
     "name": "stdout",
     "output_type": "stream",
     "text": [
      "(4, 12, 3)\n"
     ]
    }
   ],
   "source": [
    "# Подумайте, массив какого размера получится, если перемножить массив 4х1х3 и\n",
    "# массив 12х1. Убедитесь на практике в правильности вашего ответа.\n",
    "import numpy as np\n",
    "a = np.ones((4, 1, 3)) # 4 1 3\n",
    "b = np.ones((12, 1))# 1 12 1. Python добавляет единицу сначала справа, потом слева для того, чтобы растянуть\n",
    "mul_shape = (a * b).shape\n",
    "print(mul_shape)\n"
   ]
  },
  {
   "cell_type": "code",
   "execution_count": 81,
   "id": "f8654cd8-feca-4809-b5fe-4bd4ad3327ba",
   "metadata": {},
   "outputs": [
    {
     "name": "stdout",
     "output_type": "stream",
     "text": [
      "(1, 10)\n"
     ]
    }
   ],
   "source": [
    "a = np.array([1,2,3,4,5,6,7,8,9,10])\n",
    "b = a[np.newaxis, :] # добавление оси axis0\n",
    "print(b.shape)"
   ]
  },
  {
   "cell_type": "code",
   "execution_count": 82,
   "id": "f9b37271-b865-4b5f-98d8-86493113318b",
   "metadata": {},
   "outputs": [
    {
     "name": "stdout",
     "output_type": "stream",
     "text": [
      "(1, 10, 1)\n"
     ]
    }
   ],
   "source": [
    "c = a[np.newaxis, :, np.newaxis]\n",
    "print(c.shape)"
   ]
  },
  {
   "cell_type": "code",
   "execution_count": 83,
   "id": "a33f282a-7ec7-4caa-97bb-dafb740d6016",
   "metadata": {},
   "outputs": [
    {
     "name": "stdout",
     "output_type": "stream",
     "text": [
      "[[ 0.          0.          0.        ]\n",
      " [10.          5.          3.33333333]\n",
      " [20.         10.          6.66666667]\n",
      " [30.         15.         10.        ]]\n"
     ]
    }
   ],
   "source": [
    "a = np.array([[0, 0, 0],\n",
    "[10, 10, 10],\n",
    "[20, 20, 20],\n",
    "[30, 30, 30]])\n",
    "b = np.array([0, 1, 2])\n",
    "result = a / (b + 1) # делим поэлементно\n",
    "print(result)\n"
   ]
  },
  {
   "cell_type": "code",
   "execution_count": 90,
   "id": "0b7f45ce-0e15-4344-9087-8c13c335d761",
   "metadata": {},
   "outputs": [
    {
     "name": "stdout",
     "output_type": "stream",
     "text": [
      "[[10 11 12 13]\n",
      " [14 15 16 17]\n",
      " [18 19 20 21]\n",
      " [22 23 24 25]\n",
      " [26 27 28 29]\n",
      " [30 31 32 33]]\n",
      "[15 16 17 18]\n",
      "[[0.66666667 0.6875     0.70588235 0.72222222]\n",
      " [0.93333333 0.9375     0.94117647 0.94444444]\n",
      " [1.2        1.1875     1.17647059 1.16666667]\n",
      " [1.46666667 1.4375     1.41176471 1.38888889]\n",
      " [1.73333333 1.6875     1.64705882 1.61111111]\n",
      " [2.         1.9375     1.88235294 1.83333333]]\n",
      "4.169526143790849\n"
     ]
    }
   ],
   "source": [
    "# Создайте два массива: первый - двумерный массив (матрица) размером 6x4, \n",
    "# заполненный числами от 10 до 33; второй - одномерный массив длины 4 с числами от 15 до 18. \n",
    "# Выполните поэлементное деление матрицы на одномерный массив, \n",
    "# используя правила Broadcasting, и вычислите след результирующей матрицы.\n",
    "\n",
    "import numpy as np\n",
    "\n",
    "f1 = np.arange(10, 34, 1).reshape(6, 4)\n",
    "f2 = np.arange(15, 19, 1)\n",
    "print(f1)\n",
    "print(f2)\n",
    "\n",
    "div_f = f1 / f2\n",
    "print(div_f)\n",
    "\n",
    "trace_f = np.trace(div_f)\n",
    "print(trace_f)"
   ]
  },
  {
   "cell_type": "code",
   "execution_count": 93,
   "id": "43f3cd33-e4fe-481f-b68d-1675736917d1",
   "metadata": {},
   "outputs": [
    {
     "name": "stdout",
     "output_type": "stream",
     "text": [
      "[[ 1  2  3  4  5  6  7  8]\n",
      " [ 9 10 11 12 13 14 15 16]\n",
      " [17 18 19 20 21 22 23 24]]\n"
     ]
    },
    {
     "data": {
      "text/plain": [
       "array([27, 30, 33, 36, 39, 42, 45, 48])"
      ]
     },
     "execution_count": 93,
     "metadata": {},
     "output_type": "execute_result"
    }
   ],
   "source": [
    "# Создайте двумерный массив размером 3x8, заполненный числами от 1 до 24. Выполните суммирование по первой оси (axis=0), \n",
    "# посчитайте среднее значение по второй оси. Выведите полученный результат.\n",
    "\n",
    "s1 = np.arange(1, 25, 1).reshape(3, 8)\n",
    "print(s1)\n",
    "np.sum(s1, axis=0)\n"
   ]
  },
  {
   "cell_type": "code",
   "execution_count": 94,
   "id": "300f7262-a2ef-414a-ad34-a97632f26ea3",
   "metadata": {},
   "outputs": [
    {
     "data": {
      "text/plain": [
       "array([ 4.5, 12.5, 20.5])"
      ]
     },
     "execution_count": 94,
     "metadata": {},
     "output_type": "execute_result"
    }
   ],
   "source": [
    "np.mean(s1, axis=1) # когда ось 1, то строки оставляем неподвижными, в рамках одной строки считаем"
   ]
  },
  {
   "cell_type": "code",
   "execution_count": 74,
   "id": "816dc221-875b-4415-8ef1-35dddf82cee0",
   "metadata": {},
   "outputs": [
    {
     "name": "stdout",
     "output_type": "stream",
     "text": [
      "[[[1 2]\n",
      "  [3 4]]\n",
      "\n",
      " [[5 6]\n",
      "  [7 8]]]\n"
     ]
    }
   ],
   "source": [
    "cube = np.array([[[1, 2], [3, 4]], [[5, 6], [7, 8]]])\n",
    "print(cube)\n"
   ]
  },
  {
   "cell_type": "code",
   "execution_count": 75,
   "id": "1945d7db-7d98-4292-a72c-24d3444f8131",
   "metadata": {},
   "outputs": [
    {
     "name": "stdout",
     "output_type": "stream",
     "text": [
      "6\n"
     ]
    }
   ],
   "source": [
    "print(cube[1, 0, 1])\n"
   ]
  },
  {
   "cell_type": "code",
   "execution_count": 76,
   "id": "3279d9a5-91eb-4e33-a071-d87ccb688143",
   "metadata": {},
   "outputs": [
    {
     "name": "stdout",
     "output_type": "stream",
     "text": [
      "[3 7]\n"
     ]
    }
   ],
   "source": [
    "print(cube[:, 1, 0])\n"
   ]
  },
  {
   "cell_type": "code",
   "execution_count": 77,
   "id": "b6a9c001-212e-48f1-979c-79b6de30388d",
   "metadata": {},
   "outputs": [
    {
     "name": "stdout",
     "output_type": "stream",
     "text": [
      "[[3 4]\n",
      " [7 8]]\n"
     ]
    }
   ],
   "source": [
    "print(cube[:, 1])"
   ]
  },
  {
   "cell_type": "code",
   "execution_count": 79,
   "id": "435a5fd4-adf6-4e3b-859c-eadadce57774",
   "metadata": {},
   "outputs": [
    {
     "data": {
      "text/plain": [
       "array([[2, 3],\n",
       "       [2, 3]])"
      ]
     },
     "execution_count": 79,
     "metadata": {},
     "output_type": "execute_result"
    }
   ],
   "source": [
    "aa = np.array([[0, 1], [0, 1]])\n",
    "bb = np.array([[-1, 0], [2, 3]])\n",
    "aa @ bb\n",
    "\n",
    "# 0 * (-1) + 1 * 2 =2\n",
    "# 0 * 0 + 1 * 3 = 3\n",
    "# 0 * (-1) + 1 * 2 = 2\n",
    "# 0 * 0 + 1 * 3 = 3\n",
    "\n",
    "\n",
    "# 1 * 0 + 1 * 3 = 3\n",
    "#  [[2, 3], [2, 3]]"
   ]
  },
  {
   "cell_type": "code",
   "execution_count": 80,
   "id": "1eed676d-03c9-41fc-81d6-45a582afde7b",
   "metadata": {},
   "outputs": [
    {
     "data": {
      "text/plain": [
       "array([[ 0, -1],\n",
       "       [ 0,  5]])"
      ]
     },
     "execution_count": 80,
     "metadata": {},
     "output_type": "execute_result"
    }
   ],
   "source": [
    "aa = np.array([[0, 1], [0, 1]])\n",
    "bb = np.array([[-1, 0], [2, 3]])\n",
    "bb @ aa\n",
    "\n",
    "# -1 * 0 + 0 * 0 = 0\n",
    "# -1 * 1 + 0 * 1 = -1\n",
    "# 2 * 0 + 3 * 0 =0\n",
    "# 2 * 1 + 3 * 1 =5\n",
    "# [0, -1], [0, 5]"
   ]
  },
  {
   "cell_type": "code",
   "execution_count": null,
   "id": "8aeb117c-2996-40aa-b022-4014f86bce9a",
   "metadata": {},
   "outputs": [],
   "source": []
  }
 ],
 "metadata": {
  "kernelspec": {
   "display_name": "Python 3 (ipykernel)",
   "language": "python",
   "name": "python3"
  },
  "language_info": {
   "codemirror_mode": {
    "name": "ipython",
    "version": 3
   },
   "file_extension": ".py",
   "mimetype": "text/x-python",
   "name": "python",
   "nbconvert_exporter": "python",
   "pygments_lexer": "ipython3",
   "version": "3.12.5"
  }
 },
 "nbformat": 4,
 "nbformat_minor": 5
}
