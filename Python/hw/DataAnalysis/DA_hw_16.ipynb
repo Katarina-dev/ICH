{
 "cells": [
  {
   "cell_type": "raw",
   "id": "3ff9cb57-e560-477e-a8f7-09bc0c7e589b",
   "metadata": {},
   "source": [
    "Компания оценивает своих сотрудников по трем показателям: продажи, удовлетворенность клиентов и пунктуальность. Среднее значение и стандартное отклонение для каждого показателя следующие:\n",
    "\n",
    "Продажи: Среднее = 500, Стандартное отклонение = 50\n",
    "\n",
    "Удовлетворенность клиентов: Среднее = 80, Стандартное отклонение = 10\n",
    "\n",
    "Пунктуальность: Среднее = 95, Стандартное отклонение = 5\n",
    "\n",
    "У сотрудника следующие показатели:\n",
    "\n",
    "Продажи: 550\n",
    "\n",
    "Удовлетворенность клиентов: 85\n",
    "\n",
    "Пунктуальность: 90\n",
    "\n",
    "Рассчитайте Z-баллы для каждой метрики и определите, в какой метрике сотрудник показал лучшие результаты по сравнению со средним показателем по компании."
   ]
  },
  {
   "cell_type": "code",
   "execution_count": 1,
   "id": "effa01c3-4e80-464a-b175-a487a01388f2",
   "metadata": {},
   "outputs": [],
   "source": [
    "import numpy as np"
   ]
  },
  {
   "cell_type": "code",
   "execution_count": 4,
   "id": "a11f6f13-431c-4479-a8a1-ebb1b1e0b2f5",
   "metadata": {},
   "outputs": [
    {
     "name": "stdout",
     "output_type": "stream",
     "text": [
      "The best indicator is sales: 1.0\n",
      "Z-Score Sales: 1.0\n",
      "Z-Score Satisfaction: 0.5\n",
      "Z-score Punctuality: -1.0\n"
     ]
    }
   ],
   "source": [
    "mean_sales = 500\n",
    "std_sales = 50\n",
    "\n",
    "mean_satisfaction = 80\n",
    "std_satisfaction = 10\n",
    "\n",
    "mean_punctuality = 95\n",
    "std_punctuality = 5\n",
    "\n",
    "x_sales = 550\n",
    "x_satisfaction = 85\n",
    "x_punctuality = 90\n",
    "\n",
    "z_score_sales = (x_sales - mean_sales)/std_sales\n",
    "z_score_satisfaction = (x_satisfaction - mean_satisfaction)/std_satisfaction\n",
    "z_score_punctuality = (x_punctuality - mean_punctuality)/std_punctuality\n",
    "\n",
    "best_indicator = max(z_score_sales, z_score_satisfaction, z_score_punctuality)\n",
    "\n",
    "if best_indicator == z_score_sales:\n",
    "    print(f\"The best indicator is sales: {z_score_sales}\")\n",
    "elif best_indicator == z_score_satisfaction:\n",
    "    print(f\"The best indicator is customer satisfaction: {z_score_satisfaction}\")\n",
    "elif best_indicator == z_score_punctuality:\n",
    "    print(f\"The best indicator is punctuality: {z_score_punctuality}\")\n",
    "    \n",
    "\n",
    "print(f\"Z-Score Sales: {z_score_sales}\")\n",
    "print(f\"Z-Score Satisfaction: {z_score_satisfaction}\")\n",
    "print(f\"Z-score Punctuality: {z_score_punctuality}\")\n"
   ]
  },
  {
   "cell_type": "raw",
   "id": "f3de127d-0290-4b17-9e98-a68c3b795156",
   "metadata": {},
   "source": [
    "Среднее время выполнения задания на фабрике составляет 30 минут со стандартным отклонением 5 минут. Рассчитайте вероятность того, что выполнение случайно выбранной задачи займет от 25 до 35 минут. Используйте коэффициент Z и таблицу стандартного нормального распределения."
   ]
  },
  {
   "cell_type": "code",
   "execution_count": 6,
   "id": "1a0016ce-effc-478b-aff9-29d9317c9cee",
   "metadata": {},
   "outputs": [
    {
     "name": "stdout",
     "output_type": "stream",
     "text": [
      "Random task execution takes form 25 to 35 minutes with probability 0.6827\n"
     ]
    }
   ],
   "source": [
    "from scipy.stats import norm\n",
    "\n",
    "mean_task = 30\n",
    "std_task = 5\n",
    "low_bound = 25\n",
    "high_bound = 35\n",
    "\n",
    "z_score_1 = (low_bound - mean_task)/std_task\n",
    "z_score_2 = (high_bound - mean_task)/std_task\n",
    "\n",
    "probability = norm.cdf(z_score_2) - norm.cdf(z_score_1)\n",
    "\n",
    "print(f\"Random task execution takes form 25 to 35 minutes with probability {probability:.4f}\")"
   ]
  },
  {
   "cell_type": "raw",
   "id": "fc787d99-c890-48f2-a3e3-678bfcd14698",
   "metadata": {},
   "source": [
    "Определенное заболевание поражает 1% населения. Тест на это заболевание имеет 99 % чувствительности (истинно положительный результат) и 2 % ложноположительных результатов. Если у человека положительный тест, какова вероятность того, что у него действительно есть болезнь?"
   ]
  },
  {
   "cell_type": "markdown",
   "id": "3c20ce07-7f23-49d2-9df7-0b2fcf5424d8",
   "metadata": {},
   "source": [
    "$P(A)=0.01$ -- вероятность, что человек болен\n",
    "\n",
    "$P(B|A)=0.99$ -- вероятность, что тест положительный, если человек болен\n",
    "\n",
    "$\\overline A$ -- человек здоров\n",
    "\n",
    "$P(\\overline A) = 1 - P(A)= 0.99$ -- вычислили\n",
    "\n",
    "$ P(B|\\overline{A}) = 0.02$ -- ложноположительный результат (тест положительный, если человек здоров)\n",
    "\n",
    "$P(A|B) = ?$ -- вероятность того, что у человека действительно есть болезнь, если у него положительный тест\n",
    "\n",
    "$P(B) = P(B|A) * P(A) + P(B|\\overline{A})* P(\\overline A) = 0.99 *0.01 + 0.02 * 0.99$\n"
   ]
  },
  {
   "cell_type": "code",
   "execution_count": 14,
   "id": "ba6cf57f-5904-48d6-b079-9a511d08b459",
   "metadata": {},
   "outputs": [
    {
     "name": "stdout",
     "output_type": "stream",
     "text": [
      "0.0297\n"
     ]
    }
   ],
   "source": [
    "print(f\"{0.99 *0.01 + 0.02 * 0.99:.4f}\")"
   ]
  },
  {
   "cell_type": "markdown",
   "id": "cbe2eff2-d386-4d3d-b2d8-670240016892",
   "metadata": {},
   "source": [
    "$P(A|B)=\\frac{P(B|A) * P(A)}{P(B)}$"
   ]
  },
  {
   "cell_type": "code",
   "execution_count": 16,
   "id": "2acf2d92-888e-41a8-8635-ad709f23d392",
   "metadata": {},
   "outputs": [
    {
     "name": "stdout",
     "output_type": "stream",
     "text": [
      "0.3333\n"
     ]
    }
   ],
   "source": [
    "print(f\"{0.99*0.01/0.0297:.4f}\")"
   ]
  },
  {
   "cell_type": "code",
   "execution_count": null,
   "id": "29456064-5595-4b44-96bb-3ffff0c5de91",
   "metadata": {},
   "outputs": [],
   "source": []
  }
 ],
 "metadata": {
  "kernelspec": {
   "display_name": "Python 3 (ipykernel)",
   "language": "python",
   "name": "python3"
  },
  "language_info": {
   "codemirror_mode": {
    "name": "ipython",
    "version": 3
   },
   "file_extension": ".py",
   "mimetype": "text/x-python",
   "name": "python",
   "nbconvert_exporter": "python",
   "pygments_lexer": "ipython3",
   "version": "3.12.5"
  }
 },
 "nbformat": 4,
 "nbformat_minor": 5
}
