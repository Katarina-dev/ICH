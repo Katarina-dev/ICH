{
 "cells": [
  {
   "cell_type": "markdown",
   "id": "75e73723-44a3-45c2-8ddc-ba0130916963",
   "metadata": {},
   "source": [
    "hW_02_AGrid"
   ]
  },
  {
   "cell_type": "markdown",
   "id": "710c6adf-6726-4d13-a834-c386d6fae282",
   "metadata": {},
   "source": [
    "1. Индексация массивов NumPy:\r\n",
    "\r\n",
    "\r\n",
    "Напишите программу, которая:\r\n",
    "\r\n",
    "- Запрашивает у пользователя ввод одномерного массива, элементы которого вводятся в виде чисел, разделенных пробелами.\r\n",
    "\r\n",
    "- Преобразует введенную строку в массив NumPy.\r\n",
    "\r\n",
    "- Запрашивает у пользователя индекс элемента, который необходимо извлечь из массива.\r\n",
    "\r\n",
    "- Выводит значение элемента по запрошенному индексу.\r\n",
    "\r\n",
    "- Запрашивает у пользователя ввод диапазона индексов в формате `начало:конец`, чтобы извлечь срез массива.\r\n",
    "\r\n",
    "- Выводит срез массива.\r\n",
    "\r\n",
    "\r\n",
    "Пример вывода:\r\n",
    "\r\n",
    "\r\n",
    "Введите массив: 1 2 3 4 5\r\n",
    "\r\n",
    "Введите индекс элемента: 2\r\n",
    "\r\n",
    "Элемент с индексом 2: 3\r\n",
    "\r\n",
    "Введите диапазон индексов (начало:конец): 1:4\r\n",
    "\r\n",
    "Срез массива: [2 3 4]"
   ]
  },
  {
   "cell_type": "code",
   "execution_count": 1,
   "id": "d2ba1c9e-7ac1-4dc9-bf58-70df27b8e507",
   "metadata": {},
   "outputs": [
    {
     "name": "stdin",
     "output_type": "stream",
     "text": [
      "Array:  1 2 3 4 5\n"
     ]
    }
   ],
   "source": [
    "import numpy as np\n",
    "\n",
    "arr_input = input('Array: ')\n",
    "arr = np.array(list(map(int, arr_input.split())))"
   ]
  },
  {
   "cell_type": "code",
   "execution_count": 3,
   "id": "8e06a2b3-9959-4d79-83da-26bf8aed2ea8",
   "metadata": {},
   "outputs": [
    {
     "name": "stdin",
     "output_type": "stream",
     "text": [
      "Index:  2\n"
     ]
    },
    {
     "name": "stdout",
     "output_type": "stream",
     "text": [
      "Element with index 2: 3\n"
     ]
    }
   ],
   "source": [
    "i = int(input('Index: '))\n",
    "num = arr[i]\n",
    "\n",
    "print(f'Element with index {i}: {num}')"
   ]
  },
  {
   "cell_type": "code",
   "execution_count": 4,
   "id": "559ef26a-e736-4d1a-8c56-e4e4b04d499b",
   "metadata": {},
   "outputs": [
    {
     "name": "stdin",
     "output_type": "stream",
     "text": [
      "Slice(with a \":\" between the numbers: ) 1:4\n"
     ]
    },
    {
     "name": "stdout",
     "output_type": "stream",
     "text": [
      "Slice of array: [2 3 4]\n"
     ]
    }
   ],
   "source": [
    "i_slice = input('Slice(with a \":\" between the numbers: )').split(':')\n",
    "slice = list(map(int, i_slice))\n",
    "slice = arr[slice[0]:slice[1]]\n",
    "\n",
    "print(f'Slice of array: {slice}')"
   ]
  },
  {
   "cell_type": "markdown",
   "id": "89d6d71e-b106-4acd-b755-261ca15d2c8d",
   "metadata": {},
   "source": [
    "2. Операции с матрицами в NumPy:\r\n",
    "\r\n",
    "\r\n",
    "Напишите программу, которая:\r\n",
    "\r\n",
    "- Запрашивает у пользователя размеры матрицы MxN.\r\n",
    "\r\n",
    "- Генерирует две матрицы указанных размеров, заполненные случайными числами от 0 до 9.\r\n",
    "\r\n",
    "- Выводит обе сгенерированные матрицы на экран.\r\n",
    "\r\n",
    "- Выполняет и выводит результат одной из следующих операций (на выбор пользователя): сложение матриц, умножение матриц, транспонирование одной из матриц.\r\n",
    "\r\n",
    "- Если выбрано умножение, убедитесь, что размеры матриц соответствуют правилам матричного умножения.\r\n",
    "\r\n",
    "\r\n",
    "Пример вывода:\r\n",
    "\r\n",
    "\r\n",
    "Введите размеры матрицы MxN: 2x3\r\n",
    "\r\n",
    "\r\n",
    "Первая матрица:\r\n",
    "\r\n",
    "[[1 2 3]\r\n",
    "\r\n",
    " [4 5 6]]\r\n",
    "\r\n",
    "\r\n",
    "Вторая матрица:\r\n",
    "\r\n",
    "[[6 5 4]\r\n",
    "\r\n",
    " [3 2 1]]\r\n",
    "\r\n",
    "\r\n",
    "Выберите операцию (сложение, умножение, транспонирование): сложение\r\n",
    "\r\n",
    "\r\n",
    "Результ сложения:\r\n",
    "\r\n",
    "[[ 7  7  7]\r\n",
    "\r\n",
    " [ 7  7  7]]\r\n",
    "\r\n"
   ]
  },
  {
   "cell_type": "code",
   "execution_count": 43,
   "id": "d053b532-af40-4a64-af6e-3fc10289c48c",
   "metadata": {},
   "outputs": [
    {
     "name": "stdout",
     "output_type": "stream",
     "text": [
      "Введите размеры матрицы M x N\n"
     ]
    },
    {
     "name": "stdin",
     "output_type": "stream",
     "text": [
      "M =  4\n",
      "N =  3\n"
     ]
    }
   ],
   "source": [
    "print('Введите размеры матрицы M x N')\n",
    "m = int(input('M = '))\n",
    "n = int(input('N = '))\n",
    "mn = m * n"
   ]
  },
  {
   "cell_type": "code",
   "execution_count": 44,
   "id": "63c1733a-c1d5-4946-a260-c923106d9c82",
   "metadata": {},
   "outputs": [
    {
     "name": "stdout",
     "output_type": "stream",
     "text": [
      "Matrix A\n",
      "[[7 8 0]\n",
      " [1 4 2]\n",
      " [9 5 9]\n",
      " [1 6 4]]\n",
      "\n",
      "Matrix B\n",
      "[[7 9 9]\n",
      " [5 5 8]\n",
      " [4 4 9]\n",
      " [2 4 8]]\n"
     ]
    }
   ],
   "source": [
    "A = np.random.randint(0, 10, size=mn).reshape(m, n)\n",
    "B = np.random.randint(0, 10, size=mn).reshape(m, n)\n",
    "\n",
    "print('Matrix A')\n",
    "print(A)\n",
    "print()\n",
    "print('Matrix B')\n",
    "print(B)"
   ]
  },
  {
   "cell_type": "code",
   "execution_count": 47,
   "id": "f67c3821-4dae-4515-b208-bffb7cef65c9",
   "metadata": {},
   "outputs": [
    {
     "name": "stdin",
     "output_type": "stream",
     "text": [
      "Выберите операцию:\n",
      "        1 - сложение,\n",
      "        2 - поэлементное умножение,\n",
      "        3 - матричное умножение,\n",
      "        4 - транспонирование):  4\n"
     ]
    }
   ],
   "source": [
    "w = int(input('''Выберите операцию:\n",
    "        1 - сложение,\n",
    "        2 - поэлементное умножение,\n",
    "        3 - матричное умножение,\n",
    "        4 - транспонирование): '''))"
   ]
  },
  {
   "cell_type": "code",
   "execution_count": 48,
   "id": "4cbb53ec-9d4c-45dd-bad6-87a95cfb4975",
   "metadata": {},
   "outputs": [
    {
     "name": "stdin",
     "output_type": "stream",
     "text": [
      "Какую матрицу транспонировать? A/B:  a\n"
     ]
    },
    {
     "name": "stdout",
     "output_type": "stream",
     "text": [
      "Результат транспонирования матрицы A:\n",
      "[[7 1 9 1]\n",
      " [8 4 5 6]\n",
      " [0 2 9 4]]\n"
     ]
    }
   ],
   "source": [
    "if w == 1:\n",
    "    print(f'Результат сложения:\\n{A + B}')\n",
    "\n",
    "elif w == 2:\n",
    "    if A.shape == B.shape:\n",
    "        print(f'Результат поэлементного умножения:\\n{A * B}')\n",
    "    else:\n",
    "        print('Ошибка: размеры матриц не совпадают для поэлементного умножения.')\n",
    "\n",
    "elif w == 3:\n",
    "    if A.shape[1] == B.shape[0]:\n",
    "        print(f'Результат матричного умножения:\\n{A @ B}')\n",
    "    else:\n",
    "        print('Ошибка: размеры матриц не соответствуют для матричного умножения.')\n",
    "\n",
    "elif w == 4:\n",
    "    M = input('Какую матрицу транспонировать? A/B: ').lower()\n",
    "    if M == 'a':\n",
    "        print(f'Результат транспонирования матрицы A:\\n{A.T}')\n",
    "    elif M == 'b':\n",
    "        print(f'Результат транспонирования матрицы B:\\n{B.T}')\n",
    "    else:\n",
    "        print('Неверный ввод. Введите \"A\" или \"B\".')\n",
    "\n",
    "else:\n",
    "    print('Неправильный ввод. Введите цифру от 1 до 4.')"
   ]
  },
  {
   "cell_type": "code",
   "execution_count": null,
   "id": "cbb89fb0-ce7b-461b-91ac-10792dcfdef3",
   "metadata": {},
   "outputs": [],
   "source": []
  }
 ],
 "metadata": {
  "kernelspec": {
   "display_name": "Python 3 (ipykernel)",
   "language": "python",
   "name": "python3"
  },
  "language_info": {
   "codemirror_mode": {
    "name": "ipython",
    "version": 3
   },
   "file_extension": ".py",
   "mimetype": "text/x-python",
   "name": "python",
   "nbconvert_exporter": "python",
   "pygments_lexer": "ipython3",
   "version": "3.13.3"
  }
 },
 "nbformat": 4,
 "nbformat_minor": 5
}
