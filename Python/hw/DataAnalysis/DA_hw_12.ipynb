{
 "cells": [
  {
   "cell_type": "raw",
   "id": "14873775-3a2f-48df-9433-679b1ac5d4b7",
   "metadata": {},
   "source": [
    "Анализ данных с помощью объединений и конкатенации\n",
    "\n",
    "Набор данных: Используйте набор данных \"tips\" и набор данных \"flights\" из Seaborn.\n",
    "\n",
    "Инструкции:\n",
    "\n",
    "Загрузите наборы данных \"tips\" и \"flights\" в отдельные Polars DataFrames.\n",
    "\n",
    "Из набора данных 'flights' выберите столбцы 'year', 'month' и 'passengers'.\n",
    "\n",
    "Создайте новый DataFrame из 'flights', который агрегирует общее количество пассажиров за год.\n",
    "\n",
    "Объедините эти агрегированные данные с набором данных 'tips' по столбцу 'year' (примечание: для этого вам может понадобиться создать столбец 'year' в 'tips').\n",
    "\n",
    "Конкатенируйте DataFrame 'tips' (отфильтрованный по времени 'Dinner') с первыми 50 строками 'flights' (подумайте, каким образом).\n",
    "\n",
    "Отобразите первые 10 строк объединенного и конкатенированного DataFrame."
   ]
  },
  {
   "cell_type": "code",
   "execution_count": 1,
   "id": "e36bddfa-5854-4baa-8a48-b37229b55414",
   "metadata": {},
   "outputs": [],
   "source": [
    "import seaborn as sns\n",
    "import polars as pl"
   ]
  },
  {
   "cell_type": "raw",
   "id": "9d5545d5-a63d-47fc-86e0-3b7b984be3c1",
   "metadata": {},
   "source": [
    "Загрузите наборы данных \"tips\" и \"flights\" в отдельные Polars DataFrames."
   ]
  },
  {
   "cell_type": "code",
   "execution_count": 4,
   "id": "8cc4991a-6277-4aca-af54-cff244a3ac6c",
   "metadata": {},
   "outputs": [
    {
     "data": {
      "text/html": [
       "<div>\n",
       "<style scoped>\n",
       "    .dataframe tbody tr th:only-of-type {\n",
       "        vertical-align: middle;\n",
       "    }\n",
       "\n",
       "    .dataframe tbody tr th {\n",
       "        vertical-align: top;\n",
       "    }\n",
       "\n",
       "    .dataframe thead th {\n",
       "        text-align: right;\n",
       "    }\n",
       "</style>\n",
       "<table border=\"1\" class=\"dataframe\">\n",
       "  <thead>\n",
       "    <tr style=\"text-align: right;\">\n",
       "      <th></th>\n",
       "      <th>total_bill</th>\n",
       "      <th>tip</th>\n",
       "      <th>sex</th>\n",
       "      <th>smoker</th>\n",
       "      <th>day</th>\n",
       "      <th>time</th>\n",
       "      <th>size</th>\n",
       "    </tr>\n",
       "  </thead>\n",
       "  <tbody>\n",
       "    <tr>\n",
       "      <th>0</th>\n",
       "      <td>16.99</td>\n",
       "      <td>1.01</td>\n",
       "      <td>Female</td>\n",
       "      <td>No</td>\n",
       "      <td>Sun</td>\n",
       "      <td>Dinner</td>\n",
       "      <td>2</td>\n",
       "    </tr>\n",
       "    <tr>\n",
       "      <th>1</th>\n",
       "      <td>10.34</td>\n",
       "      <td>1.66</td>\n",
       "      <td>Male</td>\n",
       "      <td>No</td>\n",
       "      <td>Sun</td>\n",
       "      <td>Dinner</td>\n",
       "      <td>3</td>\n",
       "    </tr>\n",
       "    <tr>\n",
       "      <th>2</th>\n",
       "      <td>21.01</td>\n",
       "      <td>3.50</td>\n",
       "      <td>Male</td>\n",
       "      <td>No</td>\n",
       "      <td>Sun</td>\n",
       "      <td>Dinner</td>\n",
       "      <td>3</td>\n",
       "    </tr>\n",
       "    <tr>\n",
       "      <th>3</th>\n",
       "      <td>23.68</td>\n",
       "      <td>3.31</td>\n",
       "      <td>Male</td>\n",
       "      <td>No</td>\n",
       "      <td>Sun</td>\n",
       "      <td>Dinner</td>\n",
       "      <td>2</td>\n",
       "    </tr>\n",
       "    <tr>\n",
       "      <th>4</th>\n",
       "      <td>24.59</td>\n",
       "      <td>3.61</td>\n",
       "      <td>Female</td>\n",
       "      <td>No</td>\n",
       "      <td>Sun</td>\n",
       "      <td>Dinner</td>\n",
       "      <td>4</td>\n",
       "    </tr>\n",
       "  </tbody>\n",
       "</table>\n",
       "</div>"
      ],
      "text/plain": [
       "   total_bill   tip     sex smoker  day    time  size\n",
       "0       16.99  1.01  Female     No  Sun  Dinner     2\n",
       "1       10.34  1.66    Male     No  Sun  Dinner     3\n",
       "2       21.01  3.50    Male     No  Sun  Dinner     3\n",
       "3       23.68  3.31    Male     No  Sun  Dinner     2\n",
       "4       24.59  3.61  Female     No  Sun  Dinner     4"
      ]
     },
     "execution_count": 4,
     "metadata": {},
     "output_type": "execute_result"
    }
   ],
   "source": [
    "tip_df = sns.load_dataset('tips')\n",
    "tip_df.head()"
   ]
  },
  {
   "cell_type": "code",
   "execution_count": 6,
   "id": "f032e7ea-aac3-4f3e-be46-9d8e0286b920",
   "metadata": {},
   "outputs": [
    {
     "data": {
      "text/html": [
       "<div>\n",
       "<style scoped>\n",
       "    .dataframe tbody tr th:only-of-type {\n",
       "        vertical-align: middle;\n",
       "    }\n",
       "\n",
       "    .dataframe tbody tr th {\n",
       "        vertical-align: top;\n",
       "    }\n",
       "\n",
       "    .dataframe thead th {\n",
       "        text-align: right;\n",
       "    }\n",
       "</style>\n",
       "<table border=\"1\" class=\"dataframe\">\n",
       "  <thead>\n",
       "    <tr style=\"text-align: right;\">\n",
       "      <th></th>\n",
       "      <th>year</th>\n",
       "      <th>month</th>\n",
       "      <th>passengers</th>\n",
       "    </tr>\n",
       "  </thead>\n",
       "  <tbody>\n",
       "    <tr>\n",
       "      <th>0</th>\n",
       "      <td>1949</td>\n",
       "      <td>Jan</td>\n",
       "      <td>112</td>\n",
       "    </tr>\n",
       "    <tr>\n",
       "      <th>1</th>\n",
       "      <td>1949</td>\n",
       "      <td>Feb</td>\n",
       "      <td>118</td>\n",
       "    </tr>\n",
       "    <tr>\n",
       "      <th>2</th>\n",
       "      <td>1949</td>\n",
       "      <td>Mar</td>\n",
       "      <td>132</td>\n",
       "    </tr>\n",
       "    <tr>\n",
       "      <th>3</th>\n",
       "      <td>1949</td>\n",
       "      <td>Apr</td>\n",
       "      <td>129</td>\n",
       "    </tr>\n",
       "    <tr>\n",
       "      <th>4</th>\n",
       "      <td>1949</td>\n",
       "      <td>May</td>\n",
       "      <td>121</td>\n",
       "    </tr>\n",
       "  </tbody>\n",
       "</table>\n",
       "</div>"
      ],
      "text/plain": [
       "   year month  passengers\n",
       "0  1949   Jan         112\n",
       "1  1949   Feb         118\n",
       "2  1949   Mar         132\n",
       "3  1949   Apr         129\n",
       "4  1949   May         121"
      ]
     },
     "execution_count": 6,
     "metadata": {},
     "output_type": "execute_result"
    }
   ],
   "source": [
    "fli_df = sns.load_dataset('flights')\n",
    "fli_df.head()"
   ]
  },
  {
   "cell_type": "code",
   "execution_count": 9,
   "id": "14a07429-2902-4959-8b25-8bce34c220db",
   "metadata": {},
   "outputs": [],
   "source": [
    "tip_df.to_csv('tips.csv', index=False)"
   ]
  },
  {
   "cell_type": "code",
   "execution_count": 10,
   "id": "b31cd235-5a56-493e-a9c9-6ace68389767",
   "metadata": {},
   "outputs": [],
   "source": [
    "fli_df.to_csv('flights.csv', index=False)"
   ]
  },
  {
   "cell_type": "code",
   "execution_count": 11,
   "id": "e35556f2-872f-4c94-a220-e11166756904",
   "metadata": {},
   "outputs": [],
   "source": [
    "lazy_tip_df = pl.scan_csv('tips.csv')"
   ]
  },
  {
   "cell_type": "raw",
   "id": "a09804dd-8b84-4200-85ab-1609ad0be877",
   "metadata": {},
   "source": [
    "Из набора данных 'flights' выберите столбцы 'year', 'month' и 'passengers'.\n",
    "Создайте новый DataFrame из 'flights', который агрегирует общее количество пассажиров за год."
   ]
  },
  {
   "cell_type": "code",
   "execution_count": 25,
   "id": "b012d578-5fe5-45a9-b2fc-17ec4cc94f0a",
   "metadata": {},
   "outputs": [
    {
     "name": "stdout",
     "output_type": "stream",
     "text": [
      "shape: (12, 2)\n",
      "┌──────┬──────────────────┐\n",
      "│ year ┆ count_passengers │\n",
      "│ ---  ┆ ---              │\n",
      "│ i64  ┆ i64              │\n",
      "╞══════╪══════════════════╡\n",
      "│ 1949 ┆ 1520             │\n",
      "│ 1950 ┆ 1676             │\n",
      "│ 1951 ┆ 2042             │\n",
      "│ 1952 ┆ 2364             │\n",
      "│ 1953 ┆ 2700             │\n",
      "│ …    ┆ …                │\n",
      "│ 1956 ┆ 3939             │\n",
      "│ 1957 ┆ 4421             │\n",
      "│ 1958 ┆ 4572             │\n",
      "│ 1959 ┆ 5140             │\n",
      "│ 1960 ┆ 5714             │\n",
      "└──────┴──────────────────┘\n"
     ]
    }
   ],
   "source": [
    "lazy_fli_df = (pl.scan_csv('flights.csv'))\n",
    "lazy_fli_select = lazy_fli_df.select(['year', 'month', 'passengers'])\n",
    "lazy_fli_group = lazy_fli_select.group_by(\"year\").agg([pl.col(\"passengers\").sum().alias(\"count_passengers\")]).sort('year').collect()\n",
    "\n",
    "print(lazy_fli_group)"
   ]
  },
  {
   "cell_type": "code",
   "execution_count": 44,
   "id": "1b9a9b45-cb4b-468f-a05f-824ae9fa647a",
   "metadata": {},
   "outputs": [
    {
     "name": "stdout",
     "output_type": "stream",
     "text": [
      "<class 'pandas.core.frame.DataFrame'>\n",
      "RangeIndex: 144 entries, 0 to 143\n",
      "Data columns (total 3 columns):\n",
      " #   Column      Non-Null Count  Dtype   \n",
      "---  ------      --------------  -----   \n",
      " 0   year        144 non-null    int64   \n",
      " 1   month       144 non-null    category\n",
      " 2   passengers  144 non-null    int64   \n",
      "dtypes: category(1), int64(2)\n",
      "memory usage: 2.9 KB\n"
     ]
    }
   ],
   "source": [
    "fli_df.info()"
   ]
  },
  {
   "cell_type": "code",
   "execution_count": 45,
   "id": "59d94d14-78e6-4b57-aa43-34609e43100a",
   "metadata": {},
   "outputs": [
    {
     "name": "stdout",
     "output_type": "stream",
     "text": [
      "<class 'pandas.core.frame.DataFrame'>\n",
      "RangeIndex: 244 entries, 0 to 243\n",
      "Data columns (total 7 columns):\n",
      " #   Column      Non-Null Count  Dtype   \n",
      "---  ------      --------------  -----   \n",
      " 0   total_bill  244 non-null    float64 \n",
      " 1   tip         244 non-null    float64 \n",
      " 2   sex         244 non-null    category\n",
      " 3   smoker      244 non-null    category\n",
      " 4   day         244 non-null    category\n",
      " 5   time        244 non-null    category\n",
      " 6   size        244 non-null    int64   \n",
      "dtypes: category(4), float64(2), int64(1)\n",
      "memory usage: 7.4 KB\n"
     ]
    }
   ],
   "source": [
    "tip_df.info()"
   ]
  },
  {
   "cell_type": "raw",
   "id": "f318de44-cf50-459c-b12b-139eb1d6c335",
   "metadata": {},
   "source": [
    "Объедините эти агрегированные данные с набором данных 'tips' по столбцу 'year' (примечание: для этого вам может понадобиться создать столбец 'year' в 'tips')."
   ]
  },
  {
   "cell_type": "code",
   "execution_count": 31,
   "id": "7ea2e9f4-5ca2-486d-b926-1b55ca7fa8ac",
   "metadata": {},
   "outputs": [
    {
     "name": "stdout",
     "output_type": "stream",
     "text": [
      "shape: (244, 8)\n",
      "┌────────────┬──────┬────────┬────────┬──────┬────────┬──────┬──────┐\n",
      "│ total_bill ┆ tip  ┆ sex    ┆ smoker ┆ day  ┆ time   ┆ size ┆ year │\n",
      "│ ---        ┆ ---  ┆ ---    ┆ ---    ┆ ---  ┆ ---    ┆ ---  ┆ ---  │\n",
      "│ f64        ┆ f64  ┆ str    ┆ str    ┆ str  ┆ str    ┆ i64  ┆ i64  │\n",
      "╞════════════╪══════╪════════╪════════╪══════╪════════╪══════╪══════╡\n",
      "│ 16.99      ┆ 1.01 ┆ Female ┆ No     ┆ Sun  ┆ Dinner ┆ 2    ┆ 1952 │\n",
      "│ 10.34      ┆ 1.66 ┆ Male   ┆ No     ┆ Sun  ┆ Dinner ┆ 3    ┆ 1952 │\n",
      "│ 21.01      ┆ 3.5  ┆ Male   ┆ No     ┆ Sun  ┆ Dinner ┆ 3    ┆ 1952 │\n",
      "│ 23.68      ┆ 3.31 ┆ Male   ┆ No     ┆ Sun  ┆ Dinner ┆ 2    ┆ 1952 │\n",
      "│ 24.59      ┆ 3.61 ┆ Female ┆ No     ┆ Sun  ┆ Dinner ┆ 4    ┆ 1952 │\n",
      "│ …          ┆ …    ┆ …      ┆ …      ┆ …    ┆ …      ┆ …    ┆ …    │\n",
      "│ 29.03      ┆ 5.92 ┆ Male   ┆ No     ┆ Sat  ┆ Dinner ┆ 3    ┆ 1952 │\n",
      "│ 27.18      ┆ 2.0  ┆ Female ┆ Yes    ┆ Sat  ┆ Dinner ┆ 2    ┆ 1952 │\n",
      "│ 22.67      ┆ 2.0  ┆ Male   ┆ Yes    ┆ Sat  ┆ Dinner ┆ 2    ┆ 1952 │\n",
      "│ 17.82      ┆ 1.75 ┆ Male   ┆ No     ┆ Sat  ┆ Dinner ┆ 2    ┆ 1952 │\n",
      "│ 18.78      ┆ 3.0  ┆ Female ┆ No     ┆ Thur ┆ Dinner ┆ 2    ┆ 1952 │\n",
      "└────────────┴──────┴────────┴────────┴──────┴────────┴──────┴──────┘\n"
     ]
    }
   ],
   "source": [
    "lazy_tip_df = (\n",
    "    pl.scan_csv('tips.csv')\n",
    "    .with_columns(pl.lit('1952').alias('year').cast(pl.Int64))\n",
    ").collect()\n",
    "print(lazy_tip_df)"
   ]
  },
  {
   "cell_type": "code",
   "execution_count": 32,
   "id": "d0d795d6-7200-4a01-bc62-d532459da7be",
   "metadata": {},
   "outputs": [
    {
     "name": "stdout",
     "output_type": "stream",
     "text": [
      "Left Join Result:\n",
      " shape: (244, 9)\n",
      "┌──────┬──────────────────┬────────────┬──────┬───┬────────┬──────┬────────┬──────┐\n",
      "│ year ┆ count_passengers ┆ total_bill ┆ tip  ┆ … ┆ smoker ┆ day  ┆ time   ┆ size │\n",
      "│ ---  ┆ ---              ┆ ---        ┆ ---  ┆   ┆ ---    ┆ ---  ┆ ---    ┆ ---  │\n",
      "│ i64  ┆ i64              ┆ f64        ┆ f64  ┆   ┆ str    ┆ str  ┆ str    ┆ i64  │\n",
      "╞══════╪══════════════════╪════════════╪══════╪═══╪════════╪══════╪════════╪══════╡\n",
      "│ 1952 ┆ 2364             ┆ 16.99      ┆ 1.01 ┆ … ┆ No     ┆ Sun  ┆ Dinner ┆ 2    │\n",
      "│ 1952 ┆ 2364             ┆ 10.34      ┆ 1.66 ┆ … ┆ No     ┆ Sun  ┆ Dinner ┆ 3    │\n",
      "│ 1952 ┆ 2364             ┆ 21.01      ┆ 3.5  ┆ … ┆ No     ┆ Sun  ┆ Dinner ┆ 3    │\n",
      "│ 1952 ┆ 2364             ┆ 23.68      ┆ 3.31 ┆ … ┆ No     ┆ Sun  ┆ Dinner ┆ 2    │\n",
      "│ 1952 ┆ 2364             ┆ 24.59      ┆ 3.61 ┆ … ┆ No     ┆ Sun  ┆ Dinner ┆ 4    │\n",
      "│ …    ┆ …                ┆ …          ┆ …    ┆ … ┆ …      ┆ …    ┆ …      ┆ …    │\n",
      "│ 1952 ┆ 2364             ┆ 29.03      ┆ 5.92 ┆ … ┆ No     ┆ Sat  ┆ Dinner ┆ 3    │\n",
      "│ 1952 ┆ 2364             ┆ 27.18      ┆ 2.0  ┆ … ┆ Yes    ┆ Sat  ┆ Dinner ┆ 2    │\n",
      "│ 1952 ┆ 2364             ┆ 22.67      ┆ 2.0  ┆ … ┆ Yes    ┆ Sat  ┆ Dinner ┆ 2    │\n",
      "│ 1952 ┆ 2364             ┆ 17.82      ┆ 1.75 ┆ … ┆ No     ┆ Sat  ┆ Dinner ┆ 2    │\n",
      "│ 1952 ┆ 2364             ┆ 18.78      ┆ 3.0  ┆ … ┆ No     ┆ Thur ┆ Dinner ┆ 2    │\n",
      "└──────┴──────────────────┴────────────┴──────┴───┴────────┴──────┴────────┴──────┘\n"
     ]
    }
   ],
   "source": [
    "inner_joined_df = lazy_fli_group.join(lazy_tip_df, on='year', how='inner')\n",
    "print(inner_joined_df)"
   ]
  },
  {
   "cell_type": "raw",
   "id": "11d1611c-2f88-4462-8819-9ff1975426d8",
   "metadata": {},
   "source": [
    "Конкатенируйте DataFrame 'tips' (отфильтрованный по времени 'Dinner') с первыми 50 строками 'flights' (подумайте, каким образом).\n",
    "\n",
    "Отобразите первые 10 строк объединенного и конкатенированного DataFrame."
   ]
  },
  {
   "cell_type": "code",
   "execution_count": 57,
   "id": "b34868b7-ba84-4e0e-b3ef-30d9a95aef47",
   "metadata": {},
   "outputs": [
    {
     "name": "stdout",
     "output_type": "stream",
     "text": [
      "naive plan: (run LazyFrame.explain(optimized=True) to see the optimized plan)\n",
      "\n",
      " WITH_COLUMNS:\n",
      " [null.strict_cast(Int64).alias(\"year\"), String(No data).alias(\"month\"), null.strict_cast(Int64).alias(\"passengers\")] \n",
      "  FILTER [(col(\"time\")) == (String(Dinner))] FROM\n",
      "    Csv SCAN [tips.csv]\n",
      "    PROJECT */7 COLUMNS\n"
     ]
    }
   ],
   "source": [
    "lazy_tip_df_dinner = (pl.scan_csv('tips.csv')\n",
    "                    .filter(pl.col('time')=='Dinner')\n",
    "                    .with_columns([pl.lit(None).alias('year').cast(pl.Int64),  \n",
    "                    pl.lit('No data').alias('month').cast(pl.Utf8),  \n",
    "                    pl.lit(None).alias('passengers').cast(pl.Int64)\n",
    "]))\n",
    "\n",
    "print(lazy_tip_df_dinner)"
   ]
  },
  {
   "cell_type": "code",
   "execution_count": 58,
   "id": "f22c3455-c8d7-4efc-8f6a-b86b2278b81a",
   "metadata": {},
   "outputs": [
    {
     "name": "stdout",
     "output_type": "stream",
     "text": [
      "naive plan: (run LazyFrame.explain(optimized=True) to see the optimized plan)\n",
      "\n",
      " WITH_COLUMNS:\n",
      " [null.strict_cast(Float64).alias(\"total_bill\"), String(No data).alias(\"sex\"), String(No data).alias(\"smoker\"), String(No data).alias(\"day\"), String(No data).alias(\"time\"), null.strict_cast(Float64).alias(\"tip\"), null.strict_cast(Int64).alias(\"size\")] \n",
      "  SLICE[offset: 0, len: 50]\n",
      "    Csv SCAN [flights.csv]\n",
      "    PROJECT */3 COLUMNS\n"
     ]
    }
   ],
   "source": [
    "lazy_fli_df_fifty = (pl.scan_csv('flights.csv').head(50).with_columns([\n",
    "                    pl.lit(None).alias('total_bill').cast(pl.Float64),\n",
    "                    pl.lit('No data').alias('sex').cast(pl.Utf8),  \n",
    "                    pl.lit('No data').alias('smoker').cast(pl.Utf8),\n",
    "                    pl.lit('No data').alias('day').cast(pl.Utf8),\n",
    "                    pl.lit('No data').alias('time').cast(pl.Utf8),    \n",
    "                    pl.lit(None).alias('tip').cast(pl.Float64),                    \n",
    "                    pl.lit(None).alias('size').cast(pl.Int64), \n",
    "]))\n",
    "\n",
    "print(lazy_fli_df_fifty)"
   ]
  },
  {
   "cell_type": "code",
   "execution_count": 61,
   "id": "b25172a0-25be-42c5-9c1a-0b602b8895a2",
   "metadata": {},
   "outputs": [
    {
     "name": "stdout",
     "output_type": "stream",
     "text": [
      "shape: (10, 10)\n",
      "┌─────┬─────────┬────────────┬────────┬───┬────────┬──────┬────────────┬──────┐\n",
      "│ day ┆ month   ┆ passengers ┆ sex    ┆ … ┆ time   ┆ tip  ┆ total_bill ┆ year │\n",
      "│ --- ┆ ---     ┆ ---        ┆ ---    ┆   ┆ ---    ┆ ---  ┆ ---        ┆ ---  │\n",
      "│ str ┆ str     ┆ i64        ┆ str    ┆   ┆ str    ┆ f64  ┆ f64        ┆ i64  │\n",
      "╞═════╪═════════╪════════════╪════════╪═══╪════════╪══════╪════════════╪══════╡\n",
      "│ Sun ┆ No data ┆ null       ┆ Female ┆ … ┆ Dinner ┆ 1.01 ┆ 16.99      ┆ null │\n",
      "│ Sun ┆ No data ┆ null       ┆ Male   ┆ … ┆ Dinner ┆ 1.66 ┆ 10.34      ┆ null │\n",
      "│ Sun ┆ No data ┆ null       ┆ Male   ┆ … ┆ Dinner ┆ 3.5  ┆ 21.01      ┆ null │\n",
      "│ Sun ┆ No data ┆ null       ┆ Male   ┆ … ┆ Dinner ┆ 3.31 ┆ 23.68      ┆ null │\n",
      "│ Sun ┆ No data ┆ null       ┆ Female ┆ … ┆ Dinner ┆ 3.61 ┆ 24.59      ┆ null │\n",
      "│ Sun ┆ No data ┆ null       ┆ Male   ┆ … ┆ Dinner ┆ 4.71 ┆ 25.29      ┆ null │\n",
      "│ Sun ┆ No data ┆ null       ┆ Male   ┆ … ┆ Dinner ┆ 2.0  ┆ 8.77       ┆ null │\n",
      "│ Sun ┆ No data ┆ null       ┆ Male   ┆ … ┆ Dinner ┆ 3.12 ┆ 26.88      ┆ null │\n",
      "│ Sun ┆ No data ┆ null       ┆ Male   ┆ … ┆ Dinner ┆ 1.96 ┆ 15.04      ┆ null │\n",
      "│ Sun ┆ No data ┆ null       ┆ Male   ┆ … ┆ Dinner ┆ 3.23 ┆ 14.78      ┆ null │\n",
      "└─────┴─────────┴────────────┴────────┴───┴────────┴──────┴────────────┴──────┘\n"
     ]
    }
   ],
   "source": [
    "common_columns = sorted(lazy_tip_df_dinner.collect_schema().keys()) \n",
    "df1 = lazy_tip_df_dinner.collect().select(common_columns) \n",
    "df2 = lazy_fli_df_fifty.collect().select(common_columns) \n",
    "\n",
    "\n",
    "concat_df = pl.concat([df1, df2], how='vertical')\n",
    "\n",
    "\n",
    "print(concat_df.head(10))"
   ]
  }
 ],
 "metadata": {
  "kernelspec": {
   "display_name": "Python 3 (ipykernel)",
   "language": "python",
   "name": "python3"
  },
  "language_info": {
   "codemirror_mode": {
    "name": "ipython",
    "version": 3
   },
   "file_extension": ".py",
   "mimetype": "text/x-python",
   "name": "python",
   "nbconvert_exporter": "python",
   "pygments_lexer": "ipython3",
   "version": "3.12.5"
  }
 },
 "nbformat": 4,
 "nbformat_minor": 5
}
