{
 "cells": [
  {
   "cell_type": "code",
   "execution_count": null,
   "id": "bd54cc60-486c-4c51-94fe-dfcdeb0e0cf9",
   "metadata": {},
   "outputs": [],
   "source": [
    "1. Индексация массивов NumPy:\n",
    "\n",
    "Напишите программу, которая:\n",
    "\n",
    "- Запрашивает у пользователя ввод одномерного массива, элементы которого вводятся в виде чисел, разделенных пробелами.\n",
    "\n",
    "- Преобразует введенную строку в массив NumPy.\n",
    "\n",
    "- Запрашивает у пользователя индекс элемента, который необходимо извлечь из массива.\n",
    "\n",
    "- Выводит значение элемента по запрошенному индексу.\n",
    "\n",
    "- Запрашивает у пользователя ввод диапазона индексов в формате `начало:конец`, чтобы извлечь срез массива.\n",
    "\n",
    "- Выводит срез массива.\n"
   ]
  },
  {
   "cell_type": "code",
   "execution_count": 63,
   "id": "b46c5b5a-70b1-418c-9da5-36cb7b0d381c",
   "metadata": {},
   "outputs": [
    {
     "name": "stdin",
     "output_type": "stream",
     "text": [
      "Enter numbers with spaces 1 2 3 4 5 6 7 8 9\n"
     ]
    },
    {
     "name": "stdout",
     "output_type": "stream",
     "text": [
      "[1 2 3 4 5 6 7 8 9]\n"
     ]
    },
    {
     "name": "stdin",
     "output_type": "stream",
     "text": [
      "Enter element number for extracting: 2\n"
     ]
    },
    {
     "name": "stdout",
     "output_type": "stream",
     "text": [
      "3\n"
     ]
    },
    {
     "name": "stdin",
     "output_type": "stream",
     "text": [
      "Enter the first index range for slicing:  4:7\n"
     ]
    },
    {
     "name": "stdout",
     "output_type": "stream",
     "text": [
      "Срез массива: [5 6 7]\n"
     ]
    }
   ],
   "source": [
    "import numpy as np\n",
    "\n",
    "nums = list(map(int, input('Enter numbers with spaces').split()))\n",
    "arr = np.array(nums)\n",
    "print(arr)\n",
    "element = int(input('Enter element number for extracting:'))\n",
    "print(arr[element])\n",
    "slice_1, slice_2 = map(int, input('Enter the first index range for slicing: ').split(':'))\n",
    "print(f'Срез массива: {arr[slice_1:slice_2]}')\n"
   ]
  },
  {
   "cell_type": "code",
   "execution_count": null,
   "id": "148b1796-9966-4ea7-b39a-f56626f31b04",
   "metadata": {},
   "outputs": [],
   "source": [
    "2. Операции с матрицами в NumPy:\n",
    "\n",
    "Напишите программу, которая:\n",
    "\n",
    "- Запрашивает у пользователя размеры матрицы MxN.\n",
    "\n",
    "- Генерирует две матрицы указанных размеров, заполненные случайными числами от 0 до 9.\n",
    "\n",
    "- Выводит обе сгенерированные матрицы на экран.q\n",
    "\n",
    "- Выполняет и выводит результат одной из следующих операций (на выбор пользователя): сложение матриц, умножение матриц, транспонирование одной из матриц.\n",
    "\n",
    "- Если выбрано умножение, убедитесь, что размеры матриц соответствуют правилам матричного умножения."
   ]
  },
  {
   "cell_type": "code",
   "execution_count": null,
   "id": "8c7ba629-8287-4c37-8921-1156aef21939",
   "metadata": {},
   "outputs": [
    {
     "name": "stdin",
     "output_type": "stream",
     "text": [
      "Enter matrix size in format MxN:  3x4\n"
     ]
    },
    {
     "name": "stdout",
     "output_type": "stream",
     "text": [
      "\n",
      "Matrix 1:\n",
      "[[4 2 6 9]\n",
      " [4 2 2 9]\n",
      " [8 5 9 5]]\n",
      "\n",
      "Matrix 2:\n",
      "[[5 2 8 9]\n",
      " [0 8 0 1]\n",
      " [3 1 9 8]]\n"
     ]
    },
    {
     "name": "stdin",
     "output_type": "stream",
     "text": [
      "\n",
      "Select operation:\n",
      " - addition\n",
      " - multiplication\n",
      " - matrix multiplication\n",
      " - transposition\n",
      "Enter 'q' to quit.\n",
      "Your choice:  addition\n"
     ]
    },
    {
     "name": "stdout",
     "output_type": "stream",
     "text": [
      "\n",
      "Matrix Addition Result:\n",
      "[[ 9  4 14 18]\n",
      " [ 4 10  2 10]\n",
      " [11  6 18 13]]\n"
     ]
    },
    {
     "name": "stdin",
     "output_type": "stream",
     "text": [
      "\n",
      "Select operation:\n",
      " - addition\n",
      " - multiplication\n",
      " - matrix multiplication\n",
      " - transposition\n",
      "Enter 'q' to quit.\n",
      "Your choice:  multiplication\n"
     ]
    },
    {
     "name": "stdout",
     "output_type": "stream",
     "text": [
      "\n",
      "Element-wise Multiplication Result:\n",
      "[[20  4 48 81]\n",
      " [ 0 16  0  9]\n",
      " [24  5 81 40]]\n"
     ]
    },
    {
     "name": "stdin",
     "output_type": "stream",
     "text": [
      "\n",
      "Select operation:\n",
      " - addition\n",
      " - multiplication\n",
      " - matrix multiplication\n",
      " - transposition\n",
      "Enter 'q' to quit.\n",
      "Your choice:  matrix multiplication\n"
     ]
    },
    {
     "name": "stdout",
     "output_type": "stream",
     "text": [
      "\n",
      "Matrix multiplication not possible: 3x4 @ 3x4 — sizes do not match.\n"
     ]
    },
    {
     "name": "stdin",
     "output_type": "stream",
     "text": [
      "\n",
      "Select operation:\n",
      " - addition\n",
      " - multiplication\n",
      " - matrix multiplication\n",
      " - transposition\n",
      "Enter 'q' to quit.\n",
      "Your choice:  transposition\n",
      "Which matrix to transpose (1 or 2)?  q\n"
     ]
    },
    {
     "name": "stdout",
     "output_type": "stream",
     "text": [
      "Invalid matrix number. Enter 1 or 2.\n"
     ]
    }
   ],
   "source": [
    "import random as rd\n",
    "import numpy as np\n",
    "\n",
    "\n",
    "size_input = input('Enter matrix size in format MxN: ').lower().replace(' ', '')\n",
    "try:\n",
    "    M, N = map(int, size_input.split('x'))\n",
    "except ValueError:\n",
    "    print(\"Invalid input format. Please enter size like '3x4'.\")\n",
    "    exit()\n",
    "\n",
    "mat_1 = np.random.randint(0, 10, (M, N))\n",
    "mat_2 = np.random.randint(0, 10, (M, N))\n",
    "\n",
    "print(\"\\nMatrix 1:\")\n",
    "print(mat_1)\n",
    "\n",
    "print(\"\\nMatrix 2:\")\n",
    "print(mat_2)\n",
    "\n",
    "while True:\n",
    "    operation = input(\n",
    "        \"\\nSelect operation:\\n\"\n",
    "        \" - addition\\n\"\n",
    "        \" - multiplication\\n\"\n",
    "        \" - matrix multiplication\\n\"\n",
    "        \" - transposition\\n\"\n",
    "        \"Enter 'q' to quit.\\nYour choice: \").lower()\n",
    "\n",
    "    if operation == 'addition':\n",
    "        print(\"\\nMatrix Addition Result:\")\n",
    "        print(mat_1 + mat_2)\n",
    "\n",
    "    elif operation == 'multiplication':\n",
    "        print(\"\\nElement-wise Multiplication Result:\")\n",
    "        print(mat_1 * mat_2)\n",
    "\n",
    "    elif operation == 'matrix multiplication':\n",
    "\n",
    "        if mat_1.shape[1] == mat_2.shape[0]:\n",
    "            result = mat_1 @ mat_2\n",
    "            print(\"\\nMatrix Multiplication Result:\")\n",
    "            print(result)\n",
    "        else:\n",
    "            print(f\"\\nMatrix multiplication not possible: \"\n",
    "                  f\"{mat_1.shape[0]}x{mat_1.shape[1]} @ {mat_2.shape[0]}x{mat_2.shape[1]} — sizes do not match.\")\n",
    "\n",
    "    elif operation == 'transposition':\n",
    "        T_mat = input(\"Which matrix to transpose (1 or 2)? \")\n",
    "        if T_mat == '1':\n",
    "            print(\"\\nTransposed Matrix 1:\")\n",
    "            print(mat_1.T)\n",
    "        elif T_mat == '2':\n",
    "            print(\"\\nTransposed Matrix 2:\")\n",
    "            print(mat_2.T)\n",
    "        else:\n",
    "            print(\"Invalid matrix number. Enter 1 or 2.\")\n",
    "\n",
    "    elif operation == 'q':\n",
    "        print(\"Exit\")\n",
    "        break\n",
    "\n",
    "    else:\n",
    "        print(\"Invalid operation. Choose from: addition, multiplication, matrix multiplication, transposition.\")"
   ]
  },
  {
   "cell_type": "code",
   "execution_count": null,
   "id": "dfb4af80-8c74-4e9b-ae7f-179f102c97b2",
   "metadata": {},
   "outputs": [],
   "source": []
  }
 ],
 "metadata": {
  "kernelspec": {
   "display_name": "Python 3 (ipykernel)",
   "language": "python",
   "name": "python3"
  },
  "language_info": {
   "codemirror_mode": {
    "name": "ipython",
    "version": 3
   },
   "file_extension": ".py",
   "mimetype": "text/x-python",
   "name": "python",
   "nbconvert_exporter": "python",
   "pygments_lexer": "ipython3",
   "version": "3.13.3"
  }
 },
 "nbformat": 4,
 "nbformat_minor": 5
}
