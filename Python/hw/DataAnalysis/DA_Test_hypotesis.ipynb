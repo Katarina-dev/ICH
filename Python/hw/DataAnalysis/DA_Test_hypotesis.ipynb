{
 "cells": [
  {
   "cell_type": "code",
   "execution_count": null,
   "id": "5325529b-508c-48f4-9549-744e1049594e",
   "metadata": {},
   "outputs": [],
   "source": [
    "Урок 18-1\n",
    "Основы статистики. Проверка гипотез"
   ]
  },
  {
   "cell_type": "raw",
   "id": "c2ff0517-f9c9-45f5-a89c-2811940610d5",
   "metadata": {},
   "source": [
    "P-значение (p-value) - это статистическая метрика, используемая для оценки\n",
    "доказательств против нулевой гипотезы путем сравнения их с наблюдаемыми\n",
    "данными.\n"
   ]
  },
  {
   "cell_type": "raw",
   "id": "801c326d-baff-4438-98e5-946211c12374",
   "metadata": {},
   "source": [
    "Интерпретация p-значения напрямую связана с заранее определенным уровнем\n",
    "значимости, который часто обозначается как 𝛼. Уровень значимости - это порог, с\n",
    "которым сравнивается p-значение, чтобы решить, следует ли отвергать нулевую\n",
    "гипотезу.\n",
    "● Если p-значение ≤ 𝛼: Результаты считаются статистически значимыми, что\n",
    "свидетельствует о сильном доказательстве против нулевой гипотезы. Это\n",
    "приводит к отклонению нулевой гипотезы в пользу альтернативной гипотезы.\n",
    "● Если p-значение >𝛼: Результаты не являются статистически значимыми, что\n",
    "указывает на недостаточное количество доказательств для отклонения\n",
    "нулевой гипотезы. Таким образом, нулевая гипотеза сохраняется.\n"
   ]
  },
  {
   "cell_type": "code",
   "execution_count": null,
   "id": "1ce0fda5-b80c-4918-849a-b9f481962b3a",
   "metadata": {},
   "outputs": [],
   "source": [
    "Одновыборочный t-тест используется при сравнении среднего значения одной\n",
    "выборки с известным или предполагаемым средним значением генеральной\n",
    "совокупности. Он полезен, когда вы хотите узнать, значительно ли отличается\n",
    "среднее значение вашей выборки от среднего значения генеральной совокупности.\n",
    "Используйте одновыборочный t-тест, когда у вас есть один набор наблюдений и вы\n",
    "хотите сравнить его среднее со средним по генеральной совокупности или\n",
    "конкретным значением. Например, если компания по производству газировки\n",
    "утверждает, что ее банки содержат в среднем 12 унций газировки, вы можете взять\n",
    "несколько банок и использовать одновыборочный t-тест, чтобы проверить,\n",
    "отличается ли среднее количество от 12 унций.\n"
   ]
  },
  {
   "cell_type": "code",
   "execution_count": null,
   "id": "e61812ac-121d-41d1-8b8b-f0f0e3e471ca",
   "metadata": {},
   "outputs": [],
   "source": [
    "Двухвыборочный t-тест, также известный как t-тест независимых выборок,\n",
    "сравнивает средние значения двух независимых групп, чтобы определить, есть ли\n",
    "статистические доказательства того, что соответствующие средние значения\n",
    "генеральных совокупностей значительно отличаются. Этот тест подходит, когда две\n",
    "выборки независимы, то есть они никак не связаны и не сопряжены.\n",
    "Этот тест подходит для сравнения средних двух разных групп. Например, если вы\n",
    "хотите сравнить средние результаты тестов двух разных классов учеников или\n",
    "средний рост мужчин и женщин."
   ]
  },
  {
   "cell_type": "code",
   "execution_count": null,
   "id": "f4790544-7c74-4f35-a2a2-18a86abc21fe",
   "metadata": {},
   "outputs": [],
   "source": [
    "Одновыборочный t-тест используется для сравнения среднего значения одной\n",
    "выборки с известным или предполагаемым средним значением генеральной\n",
    "совокупности.\n"
   ]
  },
  {
   "cell_type": "code",
   "execution_count": 33,
   "id": "4798a5fe-13fe-4848-a379-000a4a5f9a67",
   "metadata": {},
   "outputs": [],
   "source": [
    "import numpy as np\n",
    "from scipy import stats"
   ]
  },
  {
   "cell_type": "code",
   "execution_count": 4,
   "id": "5f147fa4-d51f-4d5e-9d98-c25681c1d964",
   "metadata": {},
   "outputs": [],
   "source": [
    "# Данные выборки\n",
    "data = np.array([98, 102, 95, 105, 99, 101, 97, 103, 100, 98])\n",
    "# Гипотетическое среднее значение генеральной совокупности\n",
    "popmean = 100"
   ]
  },
  {
   "cell_type": "code",
   "execution_count": null,
   "id": "a55b809b-b13b-4301-a96e-8ee3926a84e2",
   "metadata": {},
   "outputs": [],
   "source": [
    "Выполните одновыборочный t-тест:"
   ]
  },
  {
   "cell_type": "code",
   "execution_count": 5,
   "id": "d3d461bd-a6b9-47b8-bc6c-6a6a81866d07",
   "metadata": {},
   "outputs": [
    {
     "name": "stdout",
     "output_type": "stream",
     "text": [
      "T-статистика: -0.2100420126042044\n",
      "P-value: 0.8383128367369509\n"
     ]
    }
   ],
   "source": [
    "t_statistic, p_value = stats.ttest_1samp(data, popmean)\n",
    "\n",
    "print(f\"T-статистика: {t_statistic}\")\n",
    "print(f\"P-value: {p_value}\")"
   ]
  },
  {
   "cell_type": "code",
   "execution_count": null,
   "id": "3ec7d648-0e3c-42d0-98bb-9202b8459372",
   "metadata": {},
   "outputs": [],
   "source": [
    "Двухвыборочный t-тест, также известный как t-тест независимых выборок,\n",
    "сравнивает средние значения двух независимых групп.\n",
    "Шаги:\n",
    "Определите две независимые выборки:"
   ]
  },
  {
   "cell_type": "code",
   "execution_count": 8,
   "id": "f0bc93c2-d2c5-4bde-9bd1-fc632521287d",
   "metadata": {},
   "outputs": [],
   "source": [
    "# Две независимые выборки\n",
    "group1 = np.random.normal(loc=10, scale=2, size=100)\n",
    "group2 = np.random.normal(loc=12, scale=2, size=100)\n"
   ]
  },
  {
   "cell_type": "code",
   "execution_count": null,
   "id": "5beb83ab-1922-47d3-b73c-bbbb57489a75",
   "metadata": {},
   "outputs": [],
   "source": [
    "Выполните двухвыборочный t-тест:"
   ]
  },
  {
   "cell_type": "code",
   "execution_count": 9,
   "id": "b8fe9745-a89b-4246-aa0f-9fa83c6939f0",
   "metadata": {},
   "outputs": [
    {
     "name": "stdout",
     "output_type": "stream",
     "text": [
      "T-статистика: -6.205319286654672\n",
      "P-value: 3.1344852175488473e-09\n"
     ]
    }
   ],
   "source": [
    "t_statistic, p_value = stats.ttest_ind(group1, group2)\n",
    "\n",
    "print(f\"T-статистика: {t_statistic}\")\n",
    "print(f\"P-value: {p_value}\")"
   ]
  },
  {
   "cell_type": "code",
   "execution_count": null,
   "id": "c5901488-c85f-414e-b2e3-786cecebaa73",
   "metadata": {},
   "outputs": [],
   "source": [
    "Парный t-тест используется, когда выборки связаны или совпадают каким-либо\n",
    "образом, например, измерения, проведенные у одних и тех же испытуемых в разное\n",
    "время.\n",
    "Шаги:\n",
    "Определите парные выборки:"
   ]
  },
  {
   "cell_type": "code",
   "execution_count": 14,
   "id": "53a0f2d1-001f-47b1-8104-54148db955b4",
   "metadata": {},
   "outputs": [],
   "source": [
    "# Парные выборки\n",
    "before = np.random.normal(loc=10, scale=2, size=30)\n",
    "after = before + np.random.normal(loc=0.5, scale=0.5, size=30)"
   ]
  },
  {
   "cell_type": "code",
   "execution_count": null,
   "id": "15dfff5d-cf81-47d1-9da7-a66b9615dbfa",
   "metadata": {},
   "outputs": [],
   "source": [
    "Выполните парный t-тест:"
   ]
  },
  {
   "cell_type": "code",
   "execution_count": 15,
   "id": "939e601e-1a67-44ac-b4e5-d8b23a8d85b3",
   "metadata": {},
   "outputs": [
    {
     "name": "stdout",
     "output_type": "stream",
     "text": [
      "T-статистика: -6.60848892833003\n",
      "P-value: 3.0453534825689616e-07\n"
     ]
    }
   ],
   "source": [
    "t_statistic, p_value = stats.ttest_rel(before, after)\n",
    "print(f\"T-статистика: {t_statistic}\")\n",
    "print(f\"P-value: {p_value}\")\n"
   ]
  },
  {
   "cell_type": "code",
   "execution_count": null,
   "id": "1f7b4f1f-5cc3-4c91-9d61-8415bb1ad501",
   "metadata": {},
   "outputs": [],
   "source": [
    "Используйте набор данных Iris, чтобы сравнить средние значения длины лепестков двух видов цветков Iris с помощью t-теста."
   ]
  },
  {
   "cell_type": "code",
   "execution_count": 24,
   "id": "3c811218-5162-4d91-af10-070915375368",
   "metadata": {},
   "outputs": [
    {
     "data": {
      "text/html": [
       "<div>\n",
       "<style scoped>\n",
       "    .dataframe tbody tr th:only-of-type {\n",
       "        vertical-align: middle;\n",
       "    }\n",
       "\n",
       "    .dataframe tbody tr th {\n",
       "        vertical-align: top;\n",
       "    }\n",
       "\n",
       "    .dataframe thead th {\n",
       "        text-align: right;\n",
       "    }\n",
       "</style>\n",
       "<table border=\"1\" class=\"dataframe\">\n",
       "  <thead>\n",
       "    <tr style=\"text-align: right;\">\n",
       "      <th></th>\n",
       "      <th>sepal length (cm)</th>\n",
       "      <th>sepal width (cm)</th>\n",
       "      <th>petal length (cm)</th>\n",
       "      <th>petal width (cm)</th>\n",
       "      <th>species</th>\n",
       "    </tr>\n",
       "  </thead>\n",
       "  <tbody>\n",
       "    <tr>\n",
       "      <th>0</th>\n",
       "      <td>5.1</td>\n",
       "      <td>3.5</td>\n",
       "      <td>1.4</td>\n",
       "      <td>0.2</td>\n",
       "      <td>0</td>\n",
       "    </tr>\n",
       "    <tr>\n",
       "      <th>1</th>\n",
       "      <td>4.9</td>\n",
       "      <td>3.0</td>\n",
       "      <td>1.4</td>\n",
       "      <td>0.2</td>\n",
       "      <td>0</td>\n",
       "    </tr>\n",
       "    <tr>\n",
       "      <th>2</th>\n",
       "      <td>4.7</td>\n",
       "      <td>3.2</td>\n",
       "      <td>1.3</td>\n",
       "      <td>0.2</td>\n",
       "      <td>0</td>\n",
       "    </tr>\n",
       "    <tr>\n",
       "      <th>3</th>\n",
       "      <td>4.6</td>\n",
       "      <td>3.1</td>\n",
       "      <td>1.5</td>\n",
       "      <td>0.2</td>\n",
       "      <td>0</td>\n",
       "    </tr>\n",
       "    <tr>\n",
       "      <th>4</th>\n",
       "      <td>5.0</td>\n",
       "      <td>3.6</td>\n",
       "      <td>1.4</td>\n",
       "      <td>0.2</td>\n",
       "      <td>0</td>\n",
       "    </tr>\n",
       "    <tr>\n",
       "      <th>...</th>\n",
       "      <td>...</td>\n",
       "      <td>...</td>\n",
       "      <td>...</td>\n",
       "      <td>...</td>\n",
       "      <td>...</td>\n",
       "    </tr>\n",
       "    <tr>\n",
       "      <th>145</th>\n",
       "      <td>6.7</td>\n",
       "      <td>3.0</td>\n",
       "      <td>5.2</td>\n",
       "      <td>2.3</td>\n",
       "      <td>2</td>\n",
       "    </tr>\n",
       "    <tr>\n",
       "      <th>146</th>\n",
       "      <td>6.3</td>\n",
       "      <td>2.5</td>\n",
       "      <td>5.0</td>\n",
       "      <td>1.9</td>\n",
       "      <td>2</td>\n",
       "    </tr>\n",
       "    <tr>\n",
       "      <th>147</th>\n",
       "      <td>6.5</td>\n",
       "      <td>3.0</td>\n",
       "      <td>5.2</td>\n",
       "      <td>2.0</td>\n",
       "      <td>2</td>\n",
       "    </tr>\n",
       "    <tr>\n",
       "      <th>148</th>\n",
       "      <td>6.2</td>\n",
       "      <td>3.4</td>\n",
       "      <td>5.4</td>\n",
       "      <td>2.3</td>\n",
       "      <td>2</td>\n",
       "    </tr>\n",
       "    <tr>\n",
       "      <th>149</th>\n",
       "      <td>5.9</td>\n",
       "      <td>3.0</td>\n",
       "      <td>5.1</td>\n",
       "      <td>1.8</td>\n",
       "      <td>2</td>\n",
       "    </tr>\n",
       "  </tbody>\n",
       "</table>\n",
       "<p>150 rows × 5 columns</p>\n",
       "</div>"
      ],
      "text/plain": [
       "     sepal length (cm)  sepal width (cm)  petal length (cm)  petal width (cm)  \\\n",
       "0                  5.1               3.5                1.4               0.2   \n",
       "1                  4.9               3.0                1.4               0.2   \n",
       "2                  4.7               3.2                1.3               0.2   \n",
       "3                  4.6               3.1                1.5               0.2   \n",
       "4                  5.0               3.6                1.4               0.2   \n",
       "..                 ...               ...                ...               ...   \n",
       "145                6.7               3.0                5.2               2.3   \n",
       "146                6.3               2.5                5.0               1.9   \n",
       "147                6.5               3.0                5.2               2.0   \n",
       "148                6.2               3.4                5.4               2.3   \n",
       "149                5.9               3.0                5.1               1.8   \n",
       "\n",
       "     species  \n",
       "0          0  \n",
       "1          0  \n",
       "2          0  \n",
       "3          0  \n",
       "4          0  \n",
       "..       ...  \n",
       "145        2  \n",
       "146        2  \n",
       "147        2  \n",
       "148        2  \n",
       "149        2  \n",
       "\n",
       "[150 rows x 5 columns]"
      ]
     },
     "execution_count": 24,
     "metadata": {},
     "output_type": "execute_result"
    }
   ],
   "source": [
    "import pandas as pd\n",
    "from scipy.stats import ttest_ind\n",
    "from sklearn.datasets import load_iris\n",
    "\n",
    "data = load_iris()\n",
    "iris = pd.DataFrame(data.data, columns=data.feature_names)\n",
    "iris['species'] = data.target\n",
    "iris"
   ]
  },
  {
   "cell_type": "code",
   "execution_count": 26,
   "id": "2f4dbbea-f837-45d4-adba-7135fd6d8d9c",
   "metadata": {},
   "outputs": [
    {
     "name": "stdout",
     "output_type": "stream",
     "text": [
      "P-value: 3.1788195478061495e-22\n"
     ]
    }
   ],
   "source": [
    "iris_1 = iris[iris['species'] == 1]['petal length (cm)'] \n",
    "iris_2 = iris[iris['species'] == 2]['petal length (cm)'] \n",
    "\n",
    "t_statistic, p_value = stats.ttest_ind(iris_1, iris_2)\n",
    "print(f\"P-value: {p_value}\")"
   ]
  },
  {
   "cell_type": "code",
   "execution_count": null,
   "id": "58b88bed-8a7d-43c4-aebd-0e4f4438ac43",
   "metadata": {},
   "outputs": [],
   "source": [
    "Z-тест - это статистический метод, используемый для проверки гипотез, в\n",
    "частности при сравнении средних между двумя большими выборками или при\n",
    "сравнении среднего по выборке с определенным значением при условии, что\n",
    "дисперсия генеральной совокупности известна.\n"
   ]
  },
  {
   "cell_type": "code",
   "execution_count": 31,
   "id": "ced2f788-33d4-4846-be23-60dccda5b1cb",
   "metadata": {},
   "outputs": [
    {
     "name": "stdout",
     "output_type": "stream",
     "text": [
      "Z-score: 0.8838834764831844\n",
      "P-value: 0.376759117811582\n"
     ]
    }
   ],
   "source": [
    "from math import sqrt\n",
    "\n",
    "# Заданные значения\n",
    "x_bar = 102 # среднее значение выборки\n",
    "n = 50 # количество студентов\n",
    "sigma = 16 # стандартное отклонение генеральной совокупности\n",
    "mu = 100 # среднее значение генеральной совокупности\n",
    "# Вычисление Z-балла\n",
    "z = (x_bar - mu) / (sigma / sqrt(n))\n",
    "# Нахождение p-значения\n",
    "p_value = stats.norm.sf(abs(z)) * 2 # тест с двумя хвостами\n",
    "print(f\"Z-score: {z}\")\n",
    "print(f\"P-value: {p_value}\")"
   ]
  },
  {
   "cell_type": "code",
   "execution_count": 32,
   "id": "40d98647-7cf5-432d-adf4-f06461710245",
   "metadata": {},
   "outputs": [
    {
     "name": "stdout",
     "output_type": "stream",
     "text": [
      "Z-score: 0.8838834764831844\n",
      "P-value: 0.376759117811582\n"
     ]
    }
   ],
   "source": [
    "import scipy.stats as stats\n",
    "from math import sqrt\n",
    "\n",
    "# Заданные значения\n",
    "x_bar = 102 # среднее значение выборки\n",
    "n = 50 # количество студентов\n",
    "sigma = 16 # стандартное отклонение генеральной совокупности\n",
    "mu = 100 # среднее значение генеральной совокупности\n",
    "# Вычисление Z-балла\n",
    "z = (x_bar - mu) / (sigma / sqrt(n))\n",
    "# Нахождение p-значения\n",
    "p_value = stats.norm.sf(abs(z)) * 2 # тест с двумя хвостами\n",
    "print(f\"Z-score: {z}\")\n",
    "print(f\"P-value: {p_value}\")"
   ]
  },
  {
   "cell_type": "code",
   "execution_count": 30,
   "id": "d045c5f0-e6bb-44ea-85eb-21b5953f5def",
   "metadata": {},
   "outputs": [
    {
     "name": "stdout",
     "output_type": "stream",
     "text": [
      "Z-статистика: -4.131173276068746\n",
      "P-value: 3.609163929264418e-05\n"
     ]
    }
   ],
   "source": [
    "from statsmodels.stats.weightstats import ztest\n",
    "import numpy as np\n",
    "\n",
    "# Моделирование выборочных данных\n",
    "np.random.seed(0)\n",
    "factory_A = np.random.normal(loc=5, scale=0.1, size=50)\n",
    "factory_B = np.random.normal(loc=5.1, scale=0.1, size=50)\n",
    "\n",
    "# Выполнение двухвыборочного Z-теста\n",
    "z_stat, p_value = ztest(factory_A, factory_B)\n",
    "print(f\"Z-статистика: {z_stat}\")\n",
    "print(f\"P-value: {p_value}\")"
   ]
  },
  {
   "cell_type": "code",
   "execution_count": null,
   "id": "56a69c1d-208e-4d43-9f72-a127683430d6",
   "metadata": {},
   "outputs": [],
   "source": [
    "1. Используйте набор данных Iris, чтобы сравнить средние значения длины\n",
    "лепестков двух видов цветков Iris с помощью t-теста."
   ]
  },
  {
   "cell_type": "code",
   "execution_count": 38,
   "id": "8f330e2a-79db-4319-9a6a-937afbeba5a0",
   "metadata": {},
   "outputs": [
    {
     "name": "stdout",
     "output_type": "stream",
     "text": [
      "P-value: 0.1791091927267241\n"
     ]
    }
   ],
   "source": [
    "import pandas as pd\n",
    "from scipy.stats import ttest_ind, norm\n",
    "from sklearn.datasets import load_iris\n",
    "import seaborn as sns\n",
    "\n",
    "mean = 1.5\n",
    "std = 0.2\n",
    "\n",
    "iris = sns.load_dataset('iris')\n",
    "\n",
    "iris_setosa_petal_length = iris[iris.species == 'setosa']['petal_length']\n",
    "# z_stat, p_value = ztest(iris_setosa_petal_length, value=mean)\n",
    "\n",
    "z_stat = (iris_setosa_petal_length.mean() - mean) / (std / np.sqrt(len(iris_setosa_petal_length)))\n",
    "p_value = 2 * (1 - norm.cdf(abs(z_stat)))\n",
    "\n",
    "print(f\"P-value: {p_value}\")"
   ]
  }
 ],
 "metadata": {
  "kernelspec": {
   "display_name": "Python 3 (ipykernel)",
   "language": "python",
   "name": "python3"
  },
  "language_info": {
   "codemirror_mode": {
    "name": "ipython",
    "version": 3
   },
   "file_extension": ".py",
   "mimetype": "text/x-python",
   "name": "python",
   "nbconvert_exporter": "python",
   "pygments_lexer": "ipython3",
   "version": "3.13.3"
  }
 },
 "nbformat": 4,
 "nbformat_minor": 5
}
