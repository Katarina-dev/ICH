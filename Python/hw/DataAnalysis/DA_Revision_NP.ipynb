{
 "cells": [
  {
   "cell_type": "markdown",
   "id": "2c22d816-e8c9-4cac-a8cd-17f375fb94ab",
   "metadata": {},
   "source": [
    "Создание массивов в NumPy"
   ]
  },
  {
   "cell_type": "code",
   "execution_count": 1,
   "id": "8fc165fe-7f53-4aee-83be-110d82aee664",
   "metadata": {},
   "outputs": [],
   "source": [
    "import numpy as np"
   ]
  },
  {
   "cell_type": "code",
   "execution_count": 3,
   "id": "a432443a-b06a-43c7-b895-4b58c4ae26e1",
   "metadata": {},
   "outputs": [
    {
     "data": {
      "text/plain": [
       "array(<class 'object'>, dtype=object)"
      ]
     },
     "execution_count": 3,
     "metadata": {},
     "output_type": "execute_result"
    }
   ],
   "source": [
    "np.array(object, dtype=None, copy=True, order='K', ndmin=0)"
   ]
  },
  {
   "cell_type": "code",
   "execution_count": 4,
   "id": "50baf72b-5c11-4578-92e1-a1ca597f8730",
   "metadata": {},
   "outputs": [
    {
     "name": "stdout",
     "output_type": "stream",
     "text": [
      "Массив из списка: [1 2 3 4 5]\n",
      "Массив из кортежа: [ 6  7  8  9 10]\n",
      "Двумерный массив из списка списков:\n",
      " [[1 2 3]\n",
      " [4 5 6]]\n"
     ]
    }
   ],
   "source": [
    "import numpy as np\n",
    "# Создание одномерного массива из списка\n",
    "list_data = [1, 2, 3, 4, 5]\n",
    "array_from_list = np.array(list_data)\n",
    "print(\"Массив из списка:\", array_from_list)\n",
    "# Создание одномерного массива из кортежа\n",
    "tuple_data = (6, 7, 8, 9, 10)\n",
    "array_from_tuple = np.array(tuple_data)\n",
    "print(\"Массив из кортежа:\", array_from_tuple)\n",
    "# Создание двумерного массива из списка списков\n",
    "list_of_lists = [[1, 2, 3], [4, 5, 6]]\n",
    "array_2d = np.array(list_of_lists)\n",
    "print(\"Двумерный массив из списка списков:\\n\", array_2d)"
   ]
  },
  {
   "cell_type": "code",
   "execution_count": null,
   "id": "5783b2f1-e723-4907-a651-dc69c9f4bd55",
   "metadata": {},
   "outputs": [],
   "source": [
    "Атрибуты массивов\n",
    "в NumPy"
   ]
  },
  {
   "cell_type": "code",
   "execution_count": 5,
   "id": "7cc00f69-06da-45ec-a6c3-20ca422b7d3a",
   "metadata": {},
   "outputs": [
    {
     "name": "stdout",
     "output_type": "stream",
     "text": [
      "1\n",
      "2\n"
     ]
    }
   ],
   "source": [
    "# Создание одномерного массива\n",
    "array1 = np.array([1, 2, 3])\n",
    "print(array1.ndim) # Вывод: 1\n",
    "# Создание двумерного массива\n",
    "array2 = np.array([[2, 3, 4], [5, 6, 7]])\n",
    "print(array2.ndim)"
   ]
  },
  {
   "cell_type": "code",
   "execution_count": 6,
   "id": "13572df7-196d-401f-aa3c-aff6e4d63b16",
   "metadata": {},
   "outputs": [
    {
     "name": "stdout",
     "output_type": "stream",
     "text": [
      "(3,)\n",
      "(2, 3)\n"
     ]
    }
   ],
   "source": [
    "# Создание одномерного массива\n",
    "array1 = np.array([1, 2, 3])\n",
    "print(array1.shape) # Вывод: (3,)\n",
    "# Создание двумерного массива\n",
    "array2 = np.array([[3, 4, 5], [6, 7, 8]])\n",
    "print(array2.shape)"
   ]
  },
  {
   "cell_type": "code",
   "execution_count": 7,
   "id": "073c4eed-7ba4-437e-bf6d-38ce3ba3f461",
   "metadata": {},
   "outputs": [
    {
     "name": "stdout",
     "output_type": "stream",
     "text": [
      "3\n",
      "6\n"
     ]
    }
   ],
   "source": [
    "# Создание одномерного массива\n",
    "array1 = np.array([1, 2, 3])\n",
    "print(array1.size) # Выходные данные: 3\n",
    "# Создание двумерного массива\n",
    "array2 = np.array([[3, 5, 7], [8, 9, 10]])\n",
    "print(array2.size) "
   ]
  },
  {
   "cell_type": "code",
   "execution_count": 8,
   "id": "21d205cd-c77b-47ab-b8b9-8288238b4bbb",
   "metadata": {},
   "outputs": [
    {
     "name": "stdout",
     "output_type": "stream",
     "text": [
      "int64\n",
      "<U6\n"
     ]
    }
   ],
   "source": [
    "# Создание массива целых чисел\n",
    "array1 = np.array([10, 20, 30])\n",
    "print(array1.dtype) # Выходные данные: int64\n",
    "# Создание массива строк\n",
    "array2 = np.array([\"Python\", \"NumPy\", \"Data\"])\n",
    "print(array2.dtype) "
   ]
  },
  {
   "cell_type": "code",
   "execution_count": 9,
   "id": "19c7f1f4-5f50-40d0-82ae-8f63d2cacf11",
   "metadata": {},
   "outputs": [
    {
     "name": "stdout",
     "output_type": "stream",
     "text": [
      "8\n",
      "4\n"
     ]
    }
   ],
   "source": [
    "# Создание массива 64-битных целых чисел\n",
    "array1 = np.array([1, 2, 3], dtype=np.int64)\n",
    "print(array1.itemsize) # Выходные данные: 8\n",
    "# Создание массива 32-битных целых чисел\n",
    "array2 = np.array([1, 2, 3], dtype=np.int32)\n",
    "print(array2.itemsize)"
   ]
  },
  {
   "cell_type": "code",
   "execution_count": 10,
   "id": "98e2c410-5d27-4634-9178-8001e4fbad7a",
   "metadata": {},
   "outputs": [
    {
     "name": "stdout",
     "output_type": "stream",
     "text": [
      "Массив из списка: [1 2 3 4 5]\n",
      "Массив из кортежа: [ 6  7  8  9 10]\n",
      "Двумерный массив из списка списков:\n",
      " [[1 2 3]\n",
      " [4 5 6]]\n"
     ]
    }
   ],
   "source": [
    "# Создание одномерного массива из списка\n",
    "list_data = [1, 2, 3, 4, 5]\n",
    "array_from_list = np.array(list_data)\n",
    "print(\"Массив из списка:\", array_from_list)\n",
    "# Создание одномерного массива из кортежа\n",
    "tuple_data = (6, 7, 8, 9, 10)\n",
    "array_from_tuple = np.array(tuple_data)\n",
    "print(\"Массив из кортежа:\", array_from_tuple)\n",
    "# Создание двумерного массива из списка списков\n",
    "list_of_lists = [[1, 2, 3], [4, 5, 6]]\n",
    "array_2d = np.array(list_of_lists)\n",
    "print(\"Двумерный массив из списка списков:\\n\", array_2d)"
   ]
  },
  {
   "cell_type": "code",
   "execution_count": 11,
   "id": "af59e58c-066b-4311-9e95-26c3ccf7988a",
   "metadata": {},
   "outputs": [
    {
     "name": "stdout",
     "output_type": "stream",
     "text": [
      "одномерный массив единиц: [1. 1. 1. 1. 1.]\n",
      "Двумерный массив единиц:\n",
      " [[1. 1. 1. 1.]\n",
      " [1. 1. 1. 1.]\n",
      " [1. 1. 1. 1.]]\n"
     ]
    }
   ],
   "source": [
    "# Создание одномерного массива единиц\n",
    "array1 = np.ones(5)\n",
    "print(\"одномерный массив единиц:\", array1)\n",
    "# Создание двумерного массива единиц\n",
    "array2 = np.ones((3, 4))\n",
    "print(\"Двумерный массив единиц:\\n\", array2)"
   ]
  },
  {
   "cell_type": "code",
   "execution_count": 12,
   "id": "38c18f45-5e6d-476a-beee-c9d1f9cf0cfd",
   "metadata": {},
   "outputs": [
    {
     "name": "stdout",
     "output_type": "stream",
     "text": [
      "Одномерный массив, заполненный значением 7: [7 7 7 7 7]\n",
      "Двумерный массив, заполненный значением 3.14:\n",
      " [[3.14 3.14 3.14 3.14]\n",
      " [3.14 3.14 3.14 3.14]\n",
      " [3.14 3.14 3.14 3.14]]\n"
     ]
    }
   ],
   "source": [
    "# Создание одномерного массива, заполненного значением 7\n",
    "array1 = np.full(5, 7)\n",
    "print(\"Одномерный массив, заполненный значением 7:\",\n",
    "array1)\n",
    "# Создание двумерного массива, заполненного значением\n",
    "3,14\n",
    "array2 = np.full((3, 4), 3.14)\n",
    "print(\"Двумерный массив, заполненный значением 3.14:\\n\",\n",
    "array2)\n"
   ]
  },
  {
   "cell_type": "code",
   "execution_count": null,
   "id": "7ab716f9-9728-4113-b739-e1a2d3468b90",
   "metadata": {},
   "outputs": [],
   "source": [
    "Инициализация\n",
    "массивов"
   ]
  },
  {
   "cell_type": "code",
   "execution_count": 13,
   "id": "bfa85e47-a1af-40d3-8e98-596e6f475494",
   "metadata": {},
   "outputs": [
    {
     "name": "stdout",
     "output_type": "stream",
     "text": [
      "Массив со значениями от 0 до 9: [0 1 2 3 4 5 6 7 8 9]\n",
      "Массив со значениями от 1 до 9: [1 2 3 4 5 6 7 8 9]\n",
      "Массив со значениями от 1 до 9 с шагом 2: [1 3 5 7 9]\n",
      "Массив со значениями с плавающей точкой от 0 до 1 с шагом 0,1: [0.  0.1 0.2 0.3 0.4 0.5 0.6 0.7 0.8 0.9]\n"
     ]
    }
   ],
   "source": [
    "# Создание массива со значениями от 0 до 9\n",
    "array1 = np.arange(10)\n",
    "print(\"Массив со значениями от 0 до 9:\", array1)\n",
    "# Создание массива со значениями от 1 до 9\n",
    "array2 = np.arange(1, 10)\n",
    "print(\"Массив со значениями от 1 до 9:\", array2)\n",
    "# Создание массива со значениями от 1 до 9 с шагом 2\n",
    "array3 = np.arange(1, 10, 2)\n",
    "print(\"Массив со значениями от 1 до 9 с шагом 2:\", array3)\n",
    "# Создание массива со значениями с плавающей точкой\n",
    "array4 = np.arange(0, 1, 0.1)\n",
    "print(\"Массив со значениями с плавающей точкой от 0 до 1 с шагом 0,1:\", array4)"
   ]
  },
  {
   "cell_type": "code",
   "execution_count": 14,
   "id": "b04c02ff-6443-4708-abe1-837b8c6e6102",
   "metadata": {},
   "outputs": [
    {
     "name": "stdout",
     "output_type": "stream",
     "text": [
      "Массив с 10 равномерно распределенными значениями от 0 до 1: [0.         0.11111111 0.22222222 0.33333333 0.44444444 0.55555556\n",
      " 0.66666667 0.77777778 0.88888889 1.        ]\n",
      "Массив с 5 равномерно распределенными значениями от 1 до 10: [ 1.    3.25  5.5   7.75 10.  ]\n",
      "Массив с 5 равномерно распределенными значениями от 1 до 10, исключая конечную точку: [1.  2.8 4.6 6.4 8.2]\n",
      "Массив с 5 равномерно расположенными значениями от 0 до 1: [0.   0.25 0.5  0.75 1.  ]\n",
      "Размер шага: 0.25\n"
     ]
    }
   ],
   "source": [
    "# Создание массива с 10 равномерно распределенными значениями от 0 до 1\n",
    "array1 = np.linspace(0, 1, 10)\n",
    "print(\"Массив с 10 равномерно распределенными значениями от 0 до 1:\", array1)\n",
    "\n",
    "# Создание массива с 5 равномерно распределенными значениями от 1 до 10\n",
    "array2 = np.linspace(1, 10, 5)\n",
    "print(\"Массив с 5 равномерно распределенными значениями от 1 до 10:\", array2)\n",
    "\n",
    "# Создание массива с 5 равномерно распределенными значениями от 1 до 10, исключая конечную точку\n",
    "array3 = np.linspace(1, 10, 5, endpoint=False)\n",
    "print(\"Массив с 5 равномерно распределенными значениями от 1 до 10, исключая конечную точку:\", array3)\n",
    "\n",
    "# Создание массива и возвращение размера шага\n",
    "array4, step = np.linspace(0, 1, 5, retstep=True)\n",
    "print(\"Массив с 5 равномерно расположенными значениями от 0 до 1:\", array4)\n",
    "print(\"Размер шага:\", step)"
   ]
  },
  {
   "cell_type": "code",
   "execution_count": null,
   "id": "ca247f05-e1f4-420f-ac39-68ef16feca36",
   "metadata": {},
   "outputs": [],
   "source": [
    "Арифметические\n",
    "операции в NumPy"
   ]
  },
  {
   "cell_type": "code",
   "execution_count": 15,
   "id": "2e67da20-e8a7-4287-8c88-64393993e6fd",
   "metadata": {},
   "outputs": [
    {
     "name": "stdout",
     "output_type": "stream",
     "text": [
      "[5 7 9]\n"
     ]
    }
   ],
   "source": [
    "a = np.array([1, 2, 3])\n",
    "b = np.array([4, 5, 6])\n",
    "result = a + b\n",
    "print(result)"
   ]
  },
  {
   "cell_type": "code",
   "execution_count": 16,
   "id": "256be0c7-2b07-4c98-8b8f-57bc55b08b94",
   "metadata": {},
   "outputs": [
    {
     "name": "stdout",
     "output_type": "stream",
     "text": [
      "[5 7 9]\n"
     ]
    }
   ],
   "source": [
    "result = np.add(a, b) # когдав функцию нужно передать функцию, + не получится передать\n",
    "print(result)"
   ]
  },
  {
   "cell_type": "code",
   "execution_count": 17,
   "id": "cd24d1c7-39b3-4df9-9f66-36afe319c911",
   "metadata": {},
   "outputs": [
    {
     "name": "stdout",
     "output_type": "stream",
     "text": [
      "[-3 -3 -3]\n"
     ]
    }
   ],
   "source": [
    "result = a - b # используем всегда \"-\", пока не нужно передать функцию\n",
    "print(result) "
   ]
  },
  {
   "cell_type": "code",
   "execution_count": 18,
   "id": "15396402-73cb-45c2-aecd-13e269807779",
   "metadata": {},
   "outputs": [
    {
     "name": "stdout",
     "output_type": "stream",
     "text": [
      "[-3 -3 -3]\n"
     ]
    }
   ],
   "source": [
    "result = np.subtract(a, b)\n",
    "print(result) "
   ]
  },
  {
   "cell_type": "code",
   "execution_count": 19,
   "id": "7f2b7f17-b722-45ee-a718-380191ba2c17",
   "metadata": {},
   "outputs": [
    {
     "name": "stdout",
     "output_type": "stream",
     "text": [
      "[ 4 10 18]\n"
     ]
    }
   ],
   "source": [
    "result = a * b\n",
    "print(result) "
   ]
  },
  {
   "cell_type": "code",
   "execution_count": 20,
   "id": "061343a5-1f4b-47a8-8efc-802a74e9e472",
   "metadata": {},
   "outputs": [
    {
     "name": "stdout",
     "output_type": "stream",
     "text": [
      "[ 4 10 18]\n"
     ]
    }
   ],
   "source": [
    "result = np.multiply(a, b)\n",
    "print(result)"
   ]
  },
  {
   "cell_type": "code",
   "execution_count": 21,
   "id": "286ad7c5-0bd9-4347-bfcc-2fd1aab45f24",
   "metadata": {},
   "outputs": [
    {
     "name": "stdout",
     "output_type": "stream",
     "text": [
      "[0.25 0.4  0.5 ]\n"
     ]
    }
   ],
   "source": [
    "result = a / b\n",
    "print(result)"
   ]
  },
  {
   "cell_type": "code",
   "execution_count": 22,
   "id": "c4ceab6e-4de6-41f4-b9fb-6d3aad90731a",
   "metadata": {},
   "outputs": [
    {
     "name": "stdout",
     "output_type": "stream",
     "text": [
      "[0.25 0.4  0.5 ]\n"
     ]
    }
   ],
   "source": [
    "result = np.divide(a, b)\n",
    "print(result)"
   ]
  },
  {
   "cell_type": "code",
   "execution_count": 23,
   "id": "f0d68edd-a6f3-4716-b863-d117bb79f051",
   "metadata": {},
   "outputs": [
    {
     "name": "stdout",
     "output_type": "stream",
     "text": [
      "[  1  32 729]\n"
     ]
    }
   ],
   "source": [
    "result= a ** b\n",
    "print(result) "
   ]
  },
  {
   "cell_type": "code",
   "execution_count": 24,
   "id": "cda99ac1-6daf-4149-890c-b6a981ee8724",
   "metadata": {},
   "outputs": [
    {
     "name": "stdout",
     "output_type": "stream",
     "text": [
      "[  1  32 729]\n"
     ]
    }
   ],
   "source": [
    "result = np.power(a, b)\n",
    "print(result)"
   ]
  },
  {
   "cell_type": "code",
   "execution_count": null,
   "id": "57746112-bf31-4574-9e30-88cef5d6c500",
   "metadata": {},
   "outputs": [],
   "source": [
    "Все базовые операции выполняются поэлементно"
   ]
  },
  {
   "cell_type": "code",
   "execution_count": null,
   "id": "4d3b7c60-02f9-407b-9e55-3ff23a6dec89",
   "metadata": {},
   "outputs": [],
   "source": [
    "Правила broadcasting’а\n",
    "\n",
    "● Если массивы не имеют одинакового количества измерений, добавляйте 1 к форме\n",
    "меньшего массива до тех пор, пока обе формы не станут одинаковой длины.\n",
    "● Массивы совместимы для broadcasting’а, если для каждой размерности их размеры\n",
    "либо одинаковы, либо один из них равен 1.\n",
    "● Результирующая форма массива - это максимальный размер по каждому измерению\n",
    "входных массивов."
   ]
  },
  {
   "cell_type": "code",
   "execution_count": 26,
   "id": "6d8dca3a-f8af-4112-806b-4f98820d9072",
   "metadata": {},
   "outputs": [
    {
     "name": "stdout",
     "output_type": "stream",
     "text": [
      "[[ 5  6  7  8]\n",
      " [ 6  7  8  9]\n",
      " [ 7  8  9 10]]\n"
     ]
    }
   ],
   "source": [
    "# Массив a формы (3, 1)\n",
    "a = np.array([[1], [2], [3]])\n",
    "# Массив b формы (1, 4)\n",
    "b = np.array([4, 5, 6, 7])\n",
    "# Передача a и b в форму (3, 4)\n",
    "result = a + b\n",
    "print(result)"
   ]
  },
  {
   "cell_type": "raw",
   "id": "b149cdd9-8283-45b9-acb0-a58433146247",
   "metadata": {},
   "source": [
    "Было изначально:\n",
    "1\n",
    "2\n",
    "3\n",
    "\n",
    "4 5 6 7 -- строка (длина 4), а можно считать, что прямоугольник (одна строка, четыре столбца)\n",
    "\n",
    "Стало после броадкастинга\n",
    "1 1 1 1\n",
    "2 2 2 2\n",
    "3 3 3 3\n",
    "\n",
    "4 5 6 7\n",
    "4 5 6 7\n",
    "4 5 6 7"
   ]
  },
  {
   "cell_type": "markdown",
   "id": "07785cf3-fe1c-4c75-bbc8-2f9e4273247a",
   "metadata": {},
   "source": [
    "Операции над матрицами"
   ]
  },
  {
   "cell_type": "code",
   "execution_count": 31,
   "id": "f18b9012-dc8d-4f70-b843-15c64ff0deca",
   "metadata": {},
   "outputs": [
    {
     "name": "stdout",
     "output_type": "stream",
     "text": [
      "[[1 3]\n",
      " [5 7]]\n",
      "[[2 6]\n",
      " [4 8]]\n",
      "Матричное умножение:\n",
      " [[14 30]\n",
      " [38 86]]\n"
     ]
    }
   ],
   "source": [
    "# Создание двух матриц\n",
    "matrix1 = np.array([[1, 3], [5, 7]])\n",
    "matrix2 = np.array([[2, 6], [4, 8]])\n",
    "print(matrix1)\n",
    "print(matrix2)\n",
    "\n",
    "# Умножение матриц\n",
    "result = np.dot(matrix1, matrix2)\n",
    "print(\"Матричное умножение:\\n\", result)\n"
   ]
  },
  {
   "cell_type": "code",
   "execution_count": 32,
   "id": "5ed57dcf-4fec-487c-ba45-f9fed5cdeaf3",
   "metadata": {},
   "outputs": [
    {
     "name": "stdout",
     "output_type": "stream",
     "text": [
      "Транспонирование:\n",
      " [[1 5]\n",
      " [3 7]]\n"
     ]
    }
   ],
   "source": [
    "# Создание матрицы\n",
    "matrix = np.array([[1, 3], [5, 7]])\n",
    "# Транспонирование матрицы\n",
    "transpose = np.transpose(matrix)\n",
    "print(\"Транспонирование:\\n\", transpose)"
   ]
  },
  {
   "cell_type": "code",
   "execution_count": null,
   "id": "bb32fe54-543e-4966-8638-dd732ca4d672",
   "metadata": {},
   "outputs": [],
   "source": [
    "Изменение формы и\n",
    "размера массивов\n",
    "в NumPy"
   ]
  },
  {
   "cell_type": "code",
   "execution_count": 33,
   "id": "7877517f-0105-4d77-9d0d-d61bf843e83e",
   "metadata": {},
   "outputs": [
    {
     "name": "stdout",
     "output_type": "stream",
     "text": [
      "От 1D к 2D:\n",
      " [[ 1  2  3]\n",
      " [ 4  5  6]\n",
      " [ 7  8  9]\n",
      " [10 11 12]]\n",
      "От 1D к 3D:\n",
      " [[[ 1  2]\n",
      "  [ 3  4]\n",
      "  [ 5  6]]\n",
      "\n",
      " [[ 7  8]\n",
      "  [ 9 10]\n",
      "  [11 12]]]\n",
      "Использование -1 для неизвестной размерности:\n",
      " [[[ 1  2  3]\n",
      "  [ 4  5  6]]\n",
      "\n",
      " [[ 7  8  9]\n",
      "  [10 11 12]]]\n"
     ]
    }
   ],
   "source": [
    "# 1D в 2D\n",
    "arr = np.array([1, 2, 3, 4, 5, 6, 7, 8, 9, 10, 11, 12])\n",
    "newarr = arr.reshape(4, 3)\n",
    "print(\"От 1D к 2D:\\n\", newarr)\n",
    "# 1D в 3D\n",
    "newarr = arr.reshape(2, 3, 2)\n",
    "print(\"От 1D к 3D:\\n\", newarr)\n",
    "# Использование -1 для неизвестной размерности\n",
    "newarr = arr.reshape(2, 2, -1)\n",
    "print(\"Использование -1 для неизвестной размерности:\\n\", newarr)"
   ]
  },
  {
   "cell_type": "code",
   "execution_count": 34,
   "id": "eadbafd9-a725-4f8c-b6e3-cac23c7f1d79",
   "metadata": {},
   "outputs": [
    {
     "name": "stdout",
     "output_type": "stream",
     "text": [
      "Изменен размер массива на больший:\n",
      " [[0 1 2]\n",
      " [3 0 1]]\n",
      "Изменен размер массива на меньший:\n",
      " [[0 1 2 3]]\n"
     ]
    }
   ],
   "source": [
    "# Исходный массив\n",
    "arr = np.array([[0, 1], [2, 3]])\n",
    "# Изменение размера массива в большую сторону\n",
    "resized_arr = np.resize(arr, (2, 3))\n",
    "print(\"Изменен размер массива на больший:\\n\", resized_arr)\n",
    "# Изменение размера массива в меньшую сторону\n",
    "resized_arr = np.resize(arr, (1, 4))\n",
    "print(\"Изменен размер массива на меньший:\\n\", resized_arr)"
   ]
  },
  {
   "cell_type": "code",
   "execution_count": 35,
   "id": "381dcbd1-48bc-461d-bba7-34f3a0c77dd5",
   "metadata": {},
   "outputs": [
    {
     "name": "stdout",
     "output_type": "stream",
     "text": [
      "Добавление новой оси с помощью np.newaxis:\n",
      " [[1]\n",
      " [2]\n",
      " [3]]\n"
     ]
    }
   ],
   "source": [
    "# Исходный одномерный массив\n",
    "arr = np.array([1, 2, 3])\n",
    "# Добавление новой оси\n",
    "newarr = arr[:, np.newaxis]\n",
    "print(\"Добавление новой оси с помощью np.newaxis:\\n\", newarr)"
   ]
  },
  {
   "cell_type": "code",
   "execution_count": null,
   "id": "d9891f48-7911-4ea9-a3bd-ba7ae6106f2f",
   "metadata": {},
   "outputs": [],
   "source": [
    "Случайные числа\n",
    "в NumPy"
   ]
  },
  {
   "cell_type": "code",
   "execution_count": 36,
   "id": "375c050c-25f0-4a40-b57e-89be43930b28",
   "metadata": {},
   "outputs": [
    {
     "name": "stdout",
     "output_type": "stream",
     "text": [
      "Одиночное случайное число: 0.36207459968768174\n",
      "Одномерный массив случайных чисел: [0.95775142 0.29421966 0.66108523 0.62778517 0.66088336]\n",
      "Двумерный массив случайных чисел:\n",
      " [[0.49563006 0.46451123 0.70012063 0.83579579]\n",
      " [0.06923061 0.21509291 0.71220086 0.21646634]\n",
      " [0.59506777 0.85498821 0.43050171 0.62993554]]\n"
     ]
    }
   ],
   "source": [
    "# Генерация одного случайного числа\n",
    "random_number = np.random.rand()\n",
    "print(\"Одиночное случайное число:\", random_number)\n",
    "\n",
    "# Генерация одномерного массива случайных чисел\n",
    "random_array_1d = np.random.rand(5)\n",
    "print(\"Одномерный массив случайных чисел:\", random_array_1d)\n",
    "\n",
    "# Генерация двумерного массива случайных чисел\n",
    "random_array_2d = np.random.rand(3, 4)\n",
    "print(\"Двумерный массив случайных чисел:\\n\", random_array_2d)"
   ]
  },
  {
   "cell_type": "code",
   "execution_count": 37,
   "id": "ab4fa3b4-f455-44c3-a0b3-e23811a5b090",
   "metadata": {},
   "outputs": [
    {
     "name": "stdout",
     "output_type": "stream",
     "text": [
      "Одиночное случайное число из стандартного нормального распределения: -0.6228721691175431\n",
      "1D массив случайных чисел из стандартного нормального распределения: [ 1.30347225  0.639693    1.42864467 -0.09550928  0.51946621]\n",
      "Двумерный массив случайных чисел из стандартного нормального распределения:\n",
      " [[-0.57839054  0.02865901  0.58113294  0.18124356]\n",
      " [-0.53095152 -0.30531344  1.0885241   1.94782781]\n",
      " [ 0.79203095 -0.27332492 -0.48273965 -0.68394919]]\n"
     ]
    }
   ],
   "source": [
    "# Генерация одного случайного числа из стандартного нормального распределения\n",
    "random_number = np.random.randn()\n",
    "print(\"Одиночное случайное число из стандартного нормального распределения:\", random_number)\n",
    "\n",
    "# Генерация одномерного массива случайных чисел из стандартного нормального распределения\n",
    "random_array_1d = np.random.randn(5)\n",
    "print(\"1D массив случайных чисел из стандартного нормального распределения:\", random_array_1d)\n",
    "\n",
    "# Генерирование двумерного массива случайных чисел из стандартного нормального распределения\n",
    "random_array_2d = np.random.randn(3, 4)\n",
    "print(\"Двумерный массив случайных чисел из стандартного нормального распределения:\\n\",\n",
    "random_array_2d)"
   ]
  },
  {
   "cell_type": "code",
   "execution_count": 38,
   "id": "31bea38a-03d8-40b6-ad13-78c3bbfaa9dd",
   "metadata": {},
   "outputs": [
    {
     "name": "stdout",
     "output_type": "stream",
     "text": [
      "Одиночное случайное целое число: 1\n",
      "1D массив случайных целых чисел: [6 6 9 8 7]\n",
      "Двумерный массив случайных целых чисел:\n",
      " [[6 6 1 8]\n",
      " [9 2 9 3]\n",
      " [5 1 5 7]]\n"
     ]
    }
   ],
   "source": [
    "# Генерация одного случайного целого числа\n",
    "random_int = np.random.randint(10)\n",
    "print(\"Одиночное случайное целое число:\", random_int)\n",
    "\n",
    "# Генерация одномерного массива случайных целых чисел\n",
    "random_array_1d = np.random.randint(1, 10, 5)\n",
    "print(\"1D массив случайных целых чисел:\", random_array_1d)\n",
    "\n",
    "# Генерирование двумерного массива случайных целых чисел\n",
    "random_array_2d = np.random.randint(1, 10, (3, 4))\n",
    "print(\"Двумерный массив случайных целых чисел:\\n\", random_array_2d)"
   ]
  },
  {
   "cell_type": "code",
   "execution_count": 39,
   "id": "5b23e43f-1e0e-44a3-97c4-ae35975eff7d",
   "metadata": {},
   "outputs": [
    {
     "name": "stdout",
     "output_type": "stream",
     "text": [
      "Случайно выбранный элемент: 5\n",
      "Случайно выбранные элементы с заменой: [2 3 1]\n",
      "Случайный выбор элементов без замены: [2 3 5]\n",
      "Случайно выбранные элементы с заданными вероятностями: [2 2 5]\n"
     ]
    }
   ],
   "source": [
    "# Создание массива\n",
    "arr = np.array([1, 2, 3, 4, 5])\n",
    "\n",
    "# Случайный выбор одного элемента\n",
    "random_choice = np.random.choice(arr)\n",
    "print(\"Случайно выбранный элемент:\", random_choice)\n",
    "\n",
    "# Случайный выбор нескольких элементов с заменой\n",
    "random_choices = np.random.choice(arr, size=3, replace=True)\n",
    "print(\"Случайно выбранные элементы с заменой:\", random_choices)\n",
    "\n",
    "# Случайный выбор нескольких элементов без замены\n",
    "random_choices = np.random.choice(arr, size=3, replace=False)\n",
    "print(\"Случайный выбор элементов без замены:\", random_choices)\n",
    "\n",
    "# Случайный выбор элементов с заданными вероятностями\n",
    "random_choices = np.random.choice(arr, size=3, p=[0.1, 0.2, 0.3, 0.2, 0.2])\n",
    "print(\"Случайно выбранные элементы с заданными вероятностями:\", random_choices)"
   ]
  },
  {
   "cell_type": "code",
   "execution_count": 40,
   "id": "143b8ece-7c0c-401c-95df-5060ee938d71",
   "metadata": {},
   "outputs": [
    {
     "name": "stdout",
     "output_type": "stream",
     "text": [
      "Случайный массив 1: [0.37454012 0.95071431 0.73199394]\n",
      "Случайный массив 2: [0.37454012 0.95071431 0.73199394]\n"
     ]
    }
   ],
   "source": [
    "# Установка семени\n",
    "np.random.seed(42)\n",
    "\n",
    "# Генерация случайных чисел\n",
    "random_array_1 = np.random.rand(3)\n",
    "print(\"Случайный массив 1:\", random_array_1)\n",
    "\n",
    "# Сброс затравки\n",
    "np.random.seed(42)\n",
    "\n",
    "# Снова генерируем случайные числа\n",
    "random_array_2 = np.random.rand(3)\n",
    "print(\"Случайный массив 2:\", random_array_2)"
   ]
  },
  {
   "cell_type": "code",
   "execution_count": null,
   "id": "919d3b1f-dd5d-42d7-87b7-35f8ced701e1",
   "metadata": {},
   "outputs": [],
   "source": [
    "Создайте одномерный массив, преобразуйте его в двумерный, а затем “сплющите” обратно в одномерный."
   ]
  },
  {
   "cell_type": "code",
   "execution_count": 45,
   "id": "567a6347-b7ac-4283-8531-8881ac55c8a1",
   "metadata": {},
   "outputs": [
    {
     "name": "stdout",
     "output_type": "stream",
     "text": [
      "1D array: [ 1  2  3  4  5  6  7  8  9 10 11 12]\n",
      "2D array:\n",
      " [[ 1  2  3  4]\n",
      " [ 5  6  7  8]\n",
      " [ 9 10 11 12]]\n",
      "Flattened array: [ 1  2  3  4  5  6  7  8  9 10 11 12]\n",
      "[ 1  2  3  4  5  6  7  8  9 10 11 12]\n"
     ]
    }
   ],
   "source": [
    "array_1d = np.arange(1, 13)\n",
    "print(\"1D array:\", array_1d)\n",
    "\n",
    "array_2d = array_1d.reshape(3, 4)\n",
    "print(\"2D array:\\n\", array_2d)\n",
    "\n",
    "flattened_array = array_2d.flatten()\n",
    "print(\"Flattened array:\", flattened_array)\n",
    "\n",
    "print(array_2d.reshape(array_2d.size))"
   ]
  },
  {
   "cell_type": "code",
   "execution_count": null,
   "id": "0d7b102d-b1fe-428d-9d02-2b8eb8206d9d",
   "metadata": {},
   "outputs": [],
   "source": [
    "2. Сгенерируйте случайный массив и рассчитайте базовую статистику."
   ]
  },
  {
   "cell_type": "code",
   "execution_count": 47,
   "id": "a9d9144e-e13a-47f9-bc6e-8731ffe9b8c4",
   "metadata": {},
   "outputs": [
    {
     "name": "stdout",
     "output_type": "stream",
     "text": [
      "Random array:\n",
      " [[0.37454012 0.95071431 0.73199394 0.59865848 0.15601864]\n",
      " [0.15599452 0.05808361 0.86617615 0.60111501 0.70807258]\n",
      " [0.02058449 0.96990985 0.83244264 0.21233911 0.18182497]\n",
      " [0.18340451 0.30424224 0.52475643 0.43194502 0.29122914]]\n",
      "Mean value: 0.4577022883977855\n",
      "Standard deviation: 0.29989606193622076\n",
      "Minimum value: 0.020584494295802447\n",
      "Maximum value: 0.9699098521619943\n",
      "Median value: 0.4032425687447391\n"
     ]
    }
   ],
   "source": [
    "np.random.seed(42)\n",
    "random_array = np.random.rand(4, 5)\n",
    "print(\"Random array:\\n\", random_array)\n",
    "mean_value = np.mean(random_array)\n",
    "median_value = np.median(random_array)\n",
    "std_deviation = np.std(random_array)\n",
    "min_value = np.min(random_array)\n",
    "max_value = np.max(random_array)\n",
    "print(\"Mean value:\", mean_value)\n",
    "print(\"Standard deviation:\", std_deviation)\n",
    "print(\"Minimum value:\", min_value)\n",
    "print(\"Maximum value:\", max_value)\n",
    "print(\"Median value:\", median_value)"
   ]
  },
  {
   "cell_type": "code",
   "execution_count": null,
   "id": "72f14cf2-6d85-44a3-be34-63f48329aa66",
   "metadata": {},
   "outputs": [],
   "source": []
  }
 ],
 "metadata": {
  "kernelspec": {
   "display_name": "Python 3 (ipykernel)",
   "language": "python",
   "name": "python3"
  },
  "language_info": {
   "codemirror_mode": {
    "name": "ipython",
    "version": 3
   },
   "file_extension": ".py",
   "mimetype": "text/x-python",
   "name": "python",
   "nbconvert_exporter": "python",
   "pygments_lexer": "ipython3",
   "version": "3.13.3"
  }
 },
 "nbformat": 4,
 "nbformat_minor": 5
}
