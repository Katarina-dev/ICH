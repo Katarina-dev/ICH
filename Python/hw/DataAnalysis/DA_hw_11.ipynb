{
 "cells": [
  {
   "cell_type": "code",
   "execution_count": null,
   "id": "ff5ebd19-3266-4682-ac73-e04d79ed3255",
   "metadata": {},
   "outputs": [],
   "source": [
    "Загрузите данные на свой жёсткий диск.\n",
    "\n",
    "Считайте их в polars.\n",
    "\n",
    "Посчитайте уникальное количество кодов категорий двумя разными способами.\n",
    "\n",
    "Замените отсутствующие коды категорий значением по выбору и убедитесь, что описательная статистика поменялась.\n",
    "\n",
    "На основе оконных функций постройте поле, состоящее из максимальной цены в разбивке по коду категории.\n",
    "\n",
    "Постройте новое поле, принимающее значение True, если цена больше средней цены, и False в ином случае."
   ]
  },
  {
   "cell_type": "code",
   "execution_count": 1,
   "id": "dd11721b-e72b-47de-b7a6-ed31f800016b",
   "metadata": {},
   "outputs": [],
   "source": [
    "import polars as pl"
   ]
  },
  {
   "cell_type": "code",
   "execution_count": 4,
   "id": "4ce01fbc-802c-4eba-91d2-65554554495b",
   "metadata": {},
   "outputs": [
    {
     "data": {
      "text/html": [
       "<div><style>\n",
       ".dataframe > thead > tr,\n",
       ".dataframe > tbody > tr {\n",
       "  text-align: right;\n",
       "  white-space: pre-wrap;\n",
       "}\n",
       "</style>\n",
       "<small>shape: (3, 9)</small><table border=\"1\" class=\"dataframe\"><thead><tr><th>event_time</th><th>event_type</th><th>product_id</th><th>category_id</th><th>category_code</th><th>brand</th><th>price</th><th>user_id</th><th>user_session</th></tr><tr><td>str</td><td>str</td><td>i64</td><td>i64</td><td>str</td><td>str</td><td>f64</td><td>i64</td><td>str</td></tr></thead><tbody><tr><td>&quot;2020-09-24 11:57:06 UTC&quot;</td><td>&quot;view&quot;</td><td>1996170</td><td>2144415922528452715</td><td>&quot;electronics.telephone&quot;</td><td>null</td><td>31.9</td><td>1515915625519388267</td><td>&quot;LJuJVLEjPT&quot;</td></tr><tr><td>&quot;2020-09-24 11:57:26 UTC&quot;</td><td>&quot;view&quot;</td><td>139905</td><td>2144415926932472027</td><td>&quot;computers.components.cooler&quot;</td><td>&quot;zalman&quot;</td><td>17.16</td><td>1515915625519380411</td><td>&quot;tdicluNnRY&quot;</td></tr><tr><td>&quot;2020-09-24 11:57:27 UTC&quot;</td><td>&quot;view&quot;</td><td>215454</td><td>2144415927158964449</td><td>null</td><td>null</td><td>9.81</td><td>1515915625513238515</td><td>&quot;4TMArHtXQy&quot;</td></tr></tbody></table></div>"
      ],
      "text/plain": [
       "shape: (3, 9)\n",
       "┌──────────────┬────────────┬────────────┬────────────────────┬───┬────────┬───────┬────────────────────┬──────────────┐\n",
       "│ event_time   ┆ event_type ┆ product_id ┆ category_id        ┆ … ┆ brand  ┆ price ┆ user_id            ┆ user_session │\n",
       "│ ---          ┆ ---        ┆ ---        ┆ ---                ┆   ┆ ---    ┆ ---   ┆ ---                ┆ ---          │\n",
       "│ str          ┆ str        ┆ i64        ┆ i64                ┆   ┆ str    ┆ f64   ┆ i64                ┆ str          │\n",
       "╞══════════════╪════════════╪════════════╪════════════════════╪═══╪════════╪═══════╪════════════════════╪══════════════╡\n",
       "│ 2020-09-24   ┆ view       ┆ 1996170    ┆ 214441592252845271 ┆ … ┆ null   ┆ 31.9  ┆ 151591562551938826 ┆ LJuJVLEjPT   │\n",
       "│ 11:57:06 UTC ┆            ┆            ┆ 5                  ┆   ┆        ┆       ┆ 7                  ┆              │\n",
       "│ 2020-09-24   ┆ view       ┆ 139905     ┆ 214441592693247202 ┆ … ┆ zalman ┆ 17.16 ┆ 151591562551938041 ┆ tdicluNnRY   │\n",
       "│ 11:57:26 UTC ┆            ┆            ┆ 7                  ┆   ┆        ┆       ┆ 1                  ┆              │\n",
       "│ 2020-09-24   ┆ view       ┆ 215454     ┆ 214441592715896444 ┆ … ┆ null   ┆ 9.81  ┆ 151591562551323851 ┆ 4TMArHtXQy   │\n",
       "│ 11:57:27 UTC ┆            ┆            ┆ 9                  ┆   ┆        ┆       ┆ 5                  ┆              │\n",
       "└──────────────┴────────────┴────────────┴────────────────────┴───┴────────┴───────┴────────────────────┴──────────────┘"
      ]
     },
     "metadata": {},
     "output_type": "display_data"
    }
   ],
   "source": [
    "data = pl.read_csv('events.csv',\n",
    "null_values = 'NAN')\n",
    "display(data.head(3))"
   ]
  },
  {
   "cell_type": "code",
   "execution_count": 5,
   "id": "caec3c3c-abfc-4cec-9b87-d454208914d8",
   "metadata": {},
   "outputs": [
    {
     "data": {
      "text/html": [
       "<div><style>\n",
       ".dataframe > thead > tr,\n",
       ".dataframe > tbody > tr {\n",
       "  text-align: right;\n",
       "  white-space: pre-wrap;\n",
       "}\n",
       "</style>\n",
       "<small>shape: (9, 10)</small><table border=\"1\" class=\"dataframe\"><thead><tr><th>statistic</th><th>event_time</th><th>event_type</th><th>product_id</th><th>category_id</th><th>category_code</th><th>brand</th><th>price</th><th>user_id</th><th>user_session</th></tr><tr><td>str</td><td>str</td><td>str</td><td>f64</td><td>f64</td><td>str</td><td>str</td><td>f64</td><td>f64</td><td>str</td></tr></thead><tbody><tr><td>&quot;count&quot;</td><td>&quot;885129&quot;</td><td>&quot;885129&quot;</td><td>885129.0</td><td>885129.0</td><td>&quot;648910&quot;</td><td>&quot;672765&quot;</td><td>885129.0</td><td>885129.0</td><td>&quot;884964&quot;</td></tr><tr><td>&quot;null_count&quot;</td><td>&quot;0&quot;</td><td>&quot;0&quot;</td><td>0.0</td><td>0.0</td><td>&quot;236219&quot;</td><td>&quot;212364&quot;</td><td>0.0</td><td>0.0</td><td>&quot;165&quot;</td></tr><tr><td>&quot;mean&quot;</td><td>null</td><td>null</td><td>1.9066e6</td><td>2.1444e18</td><td>null</td><td>null</td><td>146.328713</td><td>1.5159e18</td><td>null</td></tr><tr><td>&quot;std&quot;</td><td>null</td><td>null</td><td>1.4587e6</td><td>6.1651e14</td><td>null</td><td>null</td><td>296.807683</td><td>3.5549e7</td><td>null</td></tr><tr><td>&quot;min&quot;</td><td>&quot;2020-09-24 11:57:06 UTC&quot;</td><td>&quot;cart&quot;</td><td>102.0</td><td>2.1444e18</td><td>&quot;accessories.bag&quot;</td><td>&quot;a-data&quot;</td><td>0.22</td><td>1.5159e18</td><td>&quot;000AMhYaQu&quot;</td></tr><tr><td>&quot;25%&quot;</td><td>null</td><td>null</td><td>698803.0</td><td>2.1444e18</td><td>null</td><td>null</td><td>26.46</td><td>1.5159e18</td><td>null</td></tr><tr><td>&quot;50%&quot;</td><td>null</td><td>null</td><td>1.452883e6</td><td>2.1444e18</td><td>null</td><td>null</td><td>65.71</td><td>1.5159e18</td><td>null</td></tr><tr><td>&quot;75%&quot;</td><td>null</td><td>null</td><td>3.721194e6</td><td>2.1444e18</td><td>null</td><td>null</td><td>190.49</td><td>1.5159e18</td><td>null</td></tr><tr><td>&quot;max&quot;</td><td>&quot;2021-02-28 23:59:09 UTC&quot;</td><td>&quot;view&quot;</td><td>4.18388e6</td><td>2.2278e18</td><td>&quot;stationery.stapler&quot;</td><td>&quot;zyxel&quot;</td><td>64771.06</td><td>1.5159e18</td><td>&quot;zzzYMiLcf7&quot;</td></tr></tbody></table></div>"
      ],
      "text/plain": [
       "shape: (9, 10)\n",
       "┌────────────┬─────────────────────────┬────────────┬────────────┬───┬────────┬────────────┬───────────┬──────────────┐\n",
       "│ statistic  ┆ event_time              ┆ event_type ┆ product_id ┆ … ┆ brand  ┆ price      ┆ user_id   ┆ user_session │\n",
       "│ ---        ┆ ---                     ┆ ---        ┆ ---        ┆   ┆ ---    ┆ ---        ┆ ---       ┆ ---          │\n",
       "│ str        ┆ str                     ┆ str        ┆ f64        ┆   ┆ str    ┆ f64        ┆ f64       ┆ str          │\n",
       "╞════════════╪═════════════════════════╪════════════╪════════════╪═══╪════════╪════════════╪═══════════╪══════════════╡\n",
       "│ count      ┆ 885129                  ┆ 885129     ┆ 885129.0   ┆ … ┆ 672765 ┆ 885129.0   ┆ 885129.0  ┆ 884964       │\n",
       "│ null_count ┆ 0                       ┆ 0          ┆ 0.0        ┆ … ┆ 212364 ┆ 0.0        ┆ 0.0       ┆ 165          │\n",
       "│ mean       ┆ null                    ┆ null       ┆ 1.9066e6   ┆ … ┆ null   ┆ 146.328713 ┆ 1.5159e18 ┆ null         │\n",
       "│ std        ┆ null                    ┆ null       ┆ 1.4587e6   ┆ … ┆ null   ┆ 296.807683 ┆ 3.5549e7  ┆ null         │\n",
       "│ min        ┆ 2020-09-24 11:57:06 UTC ┆ cart       ┆ 102.0      ┆ … ┆ a-data ┆ 0.22       ┆ 1.5159e18 ┆ 000AMhYaQu   │\n",
       "│ 25%        ┆ null                    ┆ null       ┆ 698803.0   ┆ … ┆ null   ┆ 26.46      ┆ 1.5159e18 ┆ null         │\n",
       "│ 50%        ┆ null                    ┆ null       ┆ 1.452883e6 ┆ … ┆ null   ┆ 65.71      ┆ 1.5159e18 ┆ null         │\n",
       "│ 75%        ┆ null                    ┆ null       ┆ 3.721194e6 ┆ … ┆ null   ┆ 190.49     ┆ 1.5159e18 ┆ null         │\n",
       "│ max        ┆ 2021-02-28 23:59:09 UTC ┆ view       ┆ 4.18388e6  ┆ … ┆ zyxel  ┆ 64771.06   ┆ 1.5159e18 ┆ zzzYMiLcf7   │\n",
       "└────────────┴─────────────────────────┴────────────┴────────────┴───┴────────┴────────────┴───────────┴──────────────┘"
      ]
     },
     "execution_count": 5,
     "metadata": {},
     "output_type": "execute_result"
    }
   ],
   "source": [
    "data.describe()"
   ]
  },
  {
   "cell_type": "code",
   "execution_count": null,
   "id": "415c55ed-0102-4e91-8d84-052c10084e8c",
   "metadata": {},
   "outputs": [],
   "source": [
    "Посчитайте уникальное количество кодов категорий двумя разными способами."
   ]
  },
  {
   "cell_type": "code",
   "execution_count": 8,
   "id": "d885f4c8-1f70-448f-9d6c-b5b286d5d8cc",
   "metadata": {},
   "outputs": [
    {
     "data": {
      "text/html": [
       "<div><style>\n",
       ".dataframe > thead > tr,\n",
       ".dataframe > tbody > tr {\n",
       "  text-align: right;\n",
       "  white-space: pre-wrap;\n",
       "}\n",
       "</style>\n",
       "<small>shape: (1, 1)</small><table border=\"1\" class=\"dataframe\"><thead><tr><th>category_code</th></tr><tr><td>u32</td></tr></thead><tbody><tr><td>108</td></tr></tbody></table></div>"
      ],
      "text/plain": [
       "shape: (1, 1)\n",
       "┌───────────────┐\n",
       "│ category_code │\n",
       "│ ---           │\n",
       "│ u32           │\n",
       "╞═══════════════╡\n",
       "│ 108           │\n",
       "└───────────────┘"
      ]
     },
     "execution_count": 8,
     "metadata": {},
     "output_type": "execute_result"
    }
   ],
   "source": [
    "data.select(pl.col.category_code.n_unique())"
   ]
  },
  {
   "cell_type": "code",
   "execution_count": 9,
   "id": "5d61568a-7777-4ed4-944d-c500d60edead",
   "metadata": {},
   "outputs": [
    {
     "data": {
      "text/html": [
       "<div><style>\n",
       ".dataframe > thead > tr,\n",
       ".dataframe > tbody > tr {\n",
       "  text-align: right;\n",
       "  white-space: pre-wrap;\n",
       "}\n",
       "</style>\n",
       "<small>shape: (1, 1)</small><table border=\"1\" class=\"dataframe\"><thead><tr><th>category_id_approx</th></tr><tr><td>u32</td></tr></thead><tbody><tr><td>108</td></tr></tbody></table></div>"
      ],
      "text/plain": [
       "shape: (1, 1)\n",
       "┌────────────────────┐\n",
       "│ category_id_approx │\n",
       "│ ---                │\n",
       "│ u32                │\n",
       "╞════════════════════╡\n",
       "│ 108                │\n",
       "└────────────────────┘"
      ]
     },
     "execution_count": 9,
     "metadata": {},
     "output_type": "execute_result"
    }
   ],
   "source": [
    "data.select(pl.col.category_code.approx_n_unique().alias('category_id_approx'))"
   ]
  },
  {
   "cell_type": "code",
   "execution_count": null,
   "id": "9fd7c089-83c3-4793-b690-791579e28ff3",
   "metadata": {},
   "outputs": [],
   "source": [
    "Замените отсутствующие коды категорий значением по выбору и убедитесь, что описательная статистика поменялась."
   ]
  },
  {
   "cell_type": "code",
   "execution_count": 18,
   "id": "3401a176-a97b-4869-9a32-2804ecb9def1",
   "metadata": {},
   "outputs": [
    {
     "data": {
      "text/html": [
       "<div><style>\n",
       ".dataframe > thead > tr,\n",
       ".dataframe > tbody > tr {\n",
       "  text-align: right;\n",
       "  white-space: pre-wrap;\n",
       "}\n",
       "</style>\n",
       "<small>shape: (885_129, 9)</small><table border=\"1\" class=\"dataframe\"><thead><tr><th>event_time</th><th>event_type</th><th>product_id</th><th>category_id</th><th>category_code</th><th>brand</th><th>price</th><th>user_id</th><th>user_session</th></tr><tr><td>str</td><td>str</td><td>i64</td><td>i64</td><td>str</td><td>str</td><td>f64</td><td>i64</td><td>str</td></tr></thead><tbody><tr><td>&quot;2020-09-24 11:57:06 UTC&quot;</td><td>&quot;view&quot;</td><td>1996170</td><td>2144415922528452715</td><td>&quot;electronics.telephone&quot;</td><td>null</td><td>31.9</td><td>1515915625519388267</td><td>&quot;LJuJVLEjPT&quot;</td></tr><tr><td>&quot;2020-09-24 11:57:26 UTC&quot;</td><td>&quot;view&quot;</td><td>139905</td><td>2144415926932472027</td><td>&quot;computers.components.cooler&quot;</td><td>&quot;zalman&quot;</td><td>17.16</td><td>1515915625519380411</td><td>&quot;tdicluNnRY&quot;</td></tr><tr><td>&quot;2020-09-24 11:57:27 UTC&quot;</td><td>&quot;view&quot;</td><td>215454</td><td>2144415927158964449</td><td>&quot;No data&quot;</td><td>null</td><td>9.81</td><td>1515915625513238515</td><td>&quot;4TMArHtXQy&quot;</td></tr><tr><td>&quot;2020-09-24 11:57:33 UTC&quot;</td><td>&quot;view&quot;</td><td>635807</td><td>2144415923107266682</td><td>&quot;computers.peripherals.printer&quot;</td><td>&quot;pantum&quot;</td><td>113.81</td><td>1515915625519014356</td><td>&quot;aGFYrNgC08&quot;</td></tr><tr><td>&quot;2020-09-24 11:57:36 UTC&quot;</td><td>&quot;view&quot;</td><td>3658723</td><td>2144415921169498184</td><td>&quot;No data&quot;</td><td>&quot;cameronsino&quot;</td><td>15.87</td><td>1515915625510743344</td><td>&quot;aa4mmk0kwQ&quot;</td></tr><tr><td>&hellip;</td><td>&hellip;</td><td>&hellip;</td><td>&hellip;</td><td>&hellip;</td><td>&hellip;</td><td>&hellip;</td><td>&hellip;</td><td>&hellip;</td></tr><tr><td>&quot;2021-02-28 23:55:01 UTC&quot;</td><td>&quot;view&quot;</td><td>953226</td><td>2144415927553229037</td><td>&quot;No data&quot;</td><td>null</td><td>219.94</td><td>1515915625611023730</td><td>&quot;FRLqIttxKU&quot;</td></tr><tr><td>&quot;2021-02-28 23:58:05 UTC&quot;</td><td>&quot;view&quot;</td><td>1715907</td><td>2144415927049912542</td><td>&quot;electronics.video.tv&quot;</td><td>&quot;starwind&quot;</td><td>80.03</td><td>1515915625611024014</td><td>&quot;g6WqPf50Ma&quot;</td></tr><tr><td>&quot;2021-02-28 23:58:09 UTC&quot;</td><td>&quot;view&quot;</td><td>4170534</td><td>2144415939364389423</td><td>&quot;electronics.clocks&quot;</td><td>&quot;amazfit&quot;</td><td>64.92</td><td>1515915625611024020</td><td>&quot;xNIJBqZdkd&quot;</td></tr><tr><td>&quot;2021-02-28 23:58:14 UTC&quot;</td><td>&quot;view&quot;</td><td>888273</td><td>2144415921932861531</td><td>&quot;electronics.telephone&quot;</td><td>null</td><td>10.16</td><td>1515915625611024030</td><td>&quot;9pCbKMIcSx&quot;</td></tr><tr><td>&quot;2021-02-28 23:59:09 UTC&quot;</td><td>&quot;view&quot;</td><td>743182</td><td>2144415935631458761</td><td>&quot;construction.tools.soldering&quot;</td><td>&quot;kada&quot;</td><td>65.08</td><td>1515915625556087775</td><td>&quot;BejOXRngEW&quot;</td></tr></tbody></table></div>"
      ],
      "text/plain": [
       "shape: (885_129, 9)\n",
       "┌────────────────┬────────────┬────────────┬────────────────┬───┬─────────────┬────────┬────────────────┬──────────────┐\n",
       "│ event_time     ┆ event_type ┆ product_id ┆ category_id    ┆ … ┆ brand       ┆ price  ┆ user_id        ┆ user_session │\n",
       "│ ---            ┆ ---        ┆ ---        ┆ ---            ┆   ┆ ---         ┆ ---    ┆ ---            ┆ ---          │\n",
       "│ str            ┆ str        ┆ i64        ┆ i64            ┆   ┆ str         ┆ f64    ┆ i64            ┆ str          │\n",
       "╞════════════════╪════════════╪════════════╪════════════════╪═══╪═════════════╪════════╪════════════════╪══════════════╡\n",
       "│ 2020-09-24     ┆ view       ┆ 1996170    ┆ 21444159225284 ┆ … ┆ null        ┆ 31.9   ┆ 15159156255193 ┆ LJuJVLEjPT   │\n",
       "│ 11:57:06 UTC   ┆            ┆            ┆ 52715          ┆   ┆             ┆        ┆ 88267          ┆              │\n",
       "│ 2020-09-24     ┆ view       ┆ 139905     ┆ 21444159269324 ┆ … ┆ zalman      ┆ 17.16  ┆ 15159156255193 ┆ tdicluNnRY   │\n",
       "│ 11:57:26 UTC   ┆            ┆            ┆ 72027          ┆   ┆             ┆        ┆ 80411          ┆              │\n",
       "│ 2020-09-24     ┆ view       ┆ 215454     ┆ 21444159271589 ┆ … ┆ null        ┆ 9.81   ┆ 15159156255132 ┆ 4TMArHtXQy   │\n",
       "│ 11:57:27 UTC   ┆            ┆            ┆ 64449          ┆   ┆             ┆        ┆ 38515          ┆              │\n",
       "│ 2020-09-24     ┆ view       ┆ 635807     ┆ 21444159231072 ┆ … ┆ pantum      ┆ 113.81 ┆ 15159156255190 ┆ aGFYrNgC08   │\n",
       "│ 11:57:33 UTC   ┆            ┆            ┆ 66682          ┆   ┆             ┆        ┆ 14356          ┆              │\n",
       "│ 2020-09-24     ┆ view       ┆ 3658723    ┆ 21444159211694 ┆ … ┆ cameronsino ┆ 15.87  ┆ 15159156255107 ┆ aa4mmk0kwQ   │\n",
       "│ 11:57:36 UTC   ┆            ┆            ┆ 98184          ┆   ┆             ┆        ┆ 43344          ┆              │\n",
       "│ …              ┆ …          ┆ …          ┆ …              ┆ … ┆ …           ┆ …      ┆ …              ┆ …            │\n",
       "│ 2021-02-28     ┆ view       ┆ 953226     ┆ 21444159275532 ┆ … ┆ null        ┆ 219.94 ┆ 15159156256110 ┆ FRLqIttxKU   │\n",
       "│ 23:55:01 UTC   ┆            ┆            ┆ 29037          ┆   ┆             ┆        ┆ 23730          ┆              │\n",
       "│ 2021-02-28     ┆ view       ┆ 1715907    ┆ 21444159270499 ┆ … ┆ starwind    ┆ 80.03  ┆ 15159156256110 ┆ g6WqPf50Ma   │\n",
       "│ 23:58:05 UTC   ┆            ┆            ┆ 12542          ┆   ┆             ┆        ┆ 24014          ┆              │\n",
       "│ 2021-02-28     ┆ view       ┆ 4170534    ┆ 21444159393643 ┆ … ┆ amazfit     ┆ 64.92  ┆ 15159156256110 ┆ xNIJBqZdkd   │\n",
       "│ 23:58:09 UTC   ┆            ┆            ┆ 89423          ┆   ┆             ┆        ┆ 24020          ┆              │\n",
       "│ 2021-02-28     ┆ view       ┆ 888273     ┆ 21444159219328 ┆ … ┆ null        ┆ 10.16  ┆ 15159156256110 ┆ 9pCbKMIcSx   │\n",
       "│ 23:58:14 UTC   ┆            ┆            ┆ 61531          ┆   ┆             ┆        ┆ 24030          ┆              │\n",
       "│ 2021-02-28     ┆ view       ┆ 743182     ┆ 21444159356314 ┆ … ┆ kada        ┆ 65.08  ┆ 15159156255560 ┆ BejOXRngEW   │\n",
       "│ 23:59:09 UTC   ┆            ┆            ┆ 58761          ┆   ┆             ┆        ┆ 87775          ┆              │\n",
       "└────────────────┴────────────┴────────────┴────────────────┴───┴─────────────┴────────┴────────────────┴──────────────┘"
      ]
     },
     "execution_count": 18,
     "metadata": {},
     "output_type": "execute_result"
    }
   ],
   "source": [
    "data_filled = data.with_columns(pl.col.category_code.fill_null('No data'))\n",
    "data_filled"
   ]
  },
  {
   "cell_type": "code",
   "execution_count": 19,
   "id": "26018a9d-803c-48d3-a682-e6ac55ef57ff",
   "metadata": {},
   "outputs": [
    {
     "data": {
      "text/plain": [
       "0"
      ]
     },
     "execution_count": 19,
     "metadata": {},
     "output_type": "execute_result"
    }
   ],
   "source": [
    "data_filled['category_code'].null_count()"
   ]
  },
  {
   "cell_type": "code",
   "execution_count": 20,
   "id": "798d3ca4-b65a-4c46-bf1e-8bf2e74dd899",
   "metadata": {},
   "outputs": [
    {
     "data": {
      "text/html": [
       "<div><style>\n",
       ".dataframe > thead > tr,\n",
       ".dataframe > tbody > tr {\n",
       "  text-align: right;\n",
       "  white-space: pre-wrap;\n",
       "}\n",
       "</style>\n",
       "<small>shape: (9, 10)</small><table border=\"1\" class=\"dataframe\"><thead><tr><th>statistic</th><th>event_time</th><th>event_type</th><th>product_id</th><th>category_id</th><th>category_code</th><th>brand</th><th>price</th><th>user_id</th><th>user_session</th></tr><tr><td>str</td><td>str</td><td>str</td><td>f64</td><td>f64</td><td>str</td><td>str</td><td>f64</td><td>f64</td><td>str</td></tr></thead><tbody><tr><td>&quot;count&quot;</td><td>&quot;885129&quot;</td><td>&quot;885129&quot;</td><td>885129.0</td><td>885129.0</td><td>&quot;885129&quot;</td><td>&quot;672765&quot;</td><td>885129.0</td><td>885129.0</td><td>&quot;884964&quot;</td></tr><tr><td>&quot;null_count&quot;</td><td>&quot;0&quot;</td><td>&quot;0&quot;</td><td>0.0</td><td>0.0</td><td>&quot;0&quot;</td><td>&quot;212364&quot;</td><td>0.0</td><td>0.0</td><td>&quot;165&quot;</td></tr><tr><td>&quot;mean&quot;</td><td>null</td><td>null</td><td>1.9066e6</td><td>2.1444e18</td><td>null</td><td>null</td><td>146.328713</td><td>1.5159e18</td><td>null</td></tr><tr><td>&quot;std&quot;</td><td>null</td><td>null</td><td>1.4587e6</td><td>6.1651e14</td><td>null</td><td>null</td><td>296.807683</td><td>3.5549e7</td><td>null</td></tr><tr><td>&quot;min&quot;</td><td>&quot;2020-09-24 11:57:06 UTC&quot;</td><td>&quot;cart&quot;</td><td>102.0</td><td>2.1444e18</td><td>&quot;No data&quot;</td><td>&quot;a-data&quot;</td><td>0.22</td><td>1.5159e18</td><td>&quot;000AMhYaQu&quot;</td></tr><tr><td>&quot;25%&quot;</td><td>null</td><td>null</td><td>698803.0</td><td>2.1444e18</td><td>null</td><td>null</td><td>26.46</td><td>1.5159e18</td><td>null</td></tr><tr><td>&quot;50%&quot;</td><td>null</td><td>null</td><td>1.452883e6</td><td>2.1444e18</td><td>null</td><td>null</td><td>65.71</td><td>1.5159e18</td><td>null</td></tr><tr><td>&quot;75%&quot;</td><td>null</td><td>null</td><td>3.721194e6</td><td>2.1444e18</td><td>null</td><td>null</td><td>190.49</td><td>1.5159e18</td><td>null</td></tr><tr><td>&quot;max&quot;</td><td>&quot;2021-02-28 23:59:09 UTC&quot;</td><td>&quot;view&quot;</td><td>4.18388e6</td><td>2.2278e18</td><td>&quot;stationery.stapler&quot;</td><td>&quot;zyxel&quot;</td><td>64771.06</td><td>1.5159e18</td><td>&quot;zzzYMiLcf7&quot;</td></tr></tbody></table></div>"
      ],
      "text/plain": [
       "shape: (9, 10)\n",
       "┌────────────┬─────────────────────────┬────────────┬────────────┬───┬────────┬────────────┬───────────┬──────────────┐\n",
       "│ statistic  ┆ event_time              ┆ event_type ┆ product_id ┆ … ┆ brand  ┆ price      ┆ user_id   ┆ user_session │\n",
       "│ ---        ┆ ---                     ┆ ---        ┆ ---        ┆   ┆ ---    ┆ ---        ┆ ---       ┆ ---          │\n",
       "│ str        ┆ str                     ┆ str        ┆ f64        ┆   ┆ str    ┆ f64        ┆ f64       ┆ str          │\n",
       "╞════════════╪═════════════════════════╪════════════╪════════════╪═══╪════════╪════════════╪═══════════╪══════════════╡\n",
       "│ count      ┆ 885129                  ┆ 885129     ┆ 885129.0   ┆ … ┆ 672765 ┆ 885129.0   ┆ 885129.0  ┆ 884964       │\n",
       "│ null_count ┆ 0                       ┆ 0          ┆ 0.0        ┆ … ┆ 212364 ┆ 0.0        ┆ 0.0       ┆ 165          │\n",
       "│ mean       ┆ null                    ┆ null       ┆ 1.9066e6   ┆ … ┆ null   ┆ 146.328713 ┆ 1.5159e18 ┆ null         │\n",
       "│ std        ┆ null                    ┆ null       ┆ 1.4587e6   ┆ … ┆ null   ┆ 296.807683 ┆ 3.5549e7  ┆ null         │\n",
       "│ min        ┆ 2020-09-24 11:57:06 UTC ┆ cart       ┆ 102.0      ┆ … ┆ a-data ┆ 0.22       ┆ 1.5159e18 ┆ 000AMhYaQu   │\n",
       "│ 25%        ┆ null                    ┆ null       ┆ 698803.0   ┆ … ┆ null   ┆ 26.46      ┆ 1.5159e18 ┆ null         │\n",
       "│ 50%        ┆ null                    ┆ null       ┆ 1.452883e6 ┆ … ┆ null   ┆ 65.71      ┆ 1.5159e18 ┆ null         │\n",
       "│ 75%        ┆ null                    ┆ null       ┆ 3.721194e6 ┆ … ┆ null   ┆ 190.49     ┆ 1.5159e18 ┆ null         │\n",
       "│ max        ┆ 2021-02-28 23:59:09 UTC ┆ view       ┆ 4.18388e6  ┆ … ┆ zyxel  ┆ 64771.06   ┆ 1.5159e18 ┆ zzzYMiLcf7   │\n",
       "└────────────┴─────────────────────────┴────────────┴────────────┴───┴────────┴────────────┴───────────┴──────────────┘"
      ]
     },
     "execution_count": 20,
     "metadata": {},
     "output_type": "execute_result"
    }
   ],
   "source": [
    "data_filled.describe()"
   ]
  },
  {
   "cell_type": "code",
   "execution_count": null,
   "id": "3d7f9a46-3ead-4054-b20d-379d5133dc31",
   "metadata": {},
   "outputs": [],
   "source": [
    "На основе оконных функций постройте поле, состоящее из максимальной цены в разбивке по коду категории."
   ]
  },
  {
   "cell_type": "code",
   "execution_count": 23,
   "id": "b01130dd-eedd-4aa3-b77f-9febc5fccdbf",
   "metadata": {},
   "outputs": [
    {
     "data": {
      "text/html": [
       "<div><style>\n",
       ".dataframe > thead > tr,\n",
       ".dataframe > tbody > tr {\n",
       "  text-align: right;\n",
       "  white-space: pre-wrap;\n",
       "}\n",
       "</style>\n",
       "<small>shape: (10, 10)</small><table border=\"1\" class=\"dataframe\"><thead><tr><th>event_time</th><th>event_type</th><th>product_id</th><th>category_id</th><th>category_code</th><th>brand</th><th>price</th><th>user_id</th><th>user_session</th><th>max_price_by_category</th></tr><tr><td>str</td><td>str</td><td>i64</td><td>i64</td><td>str</td><td>str</td><td>f64</td><td>i64</td><td>str</td><td>f64</td></tr></thead><tbody><tr><td>&quot;2020-09-24 11:57:06 UTC&quot;</td><td>&quot;view&quot;</td><td>1996170</td><td>2144415922528452715</td><td>&quot;electronics.telephone&quot;</td><td>null</td><td>31.9</td><td>1515915625519388267</td><td>&quot;LJuJVLEjPT&quot;</td><td>1790.03</td></tr><tr><td>&quot;2020-09-24 11:57:26 UTC&quot;</td><td>&quot;view&quot;</td><td>139905</td><td>2144415926932472027</td><td>&quot;computers.components.cooler&quot;</td><td>&quot;zalman&quot;</td><td>17.16</td><td>1515915625519380411</td><td>&quot;tdicluNnRY&quot;</td><td>221.14</td></tr><tr><td>&quot;2020-09-24 11:57:27 UTC&quot;</td><td>&quot;view&quot;</td><td>215454</td><td>2144415927158964449</td><td>&quot;No data&quot;</td><td>null</td><td>9.81</td><td>1515915625513238515</td><td>&quot;4TMArHtXQy&quot;</td><td>26985.35</td></tr><tr><td>&quot;2020-09-24 11:57:33 UTC&quot;</td><td>&quot;view&quot;</td><td>635807</td><td>2144415923107266682</td><td>&quot;computers.peripherals.printer&quot;</td><td>&quot;pantum&quot;</td><td>113.81</td><td>1515915625519014356</td><td>&quot;aGFYrNgC08&quot;</td><td>26909.62</td></tr><tr><td>&quot;2020-09-24 11:57:36 UTC&quot;</td><td>&quot;view&quot;</td><td>3658723</td><td>2144415921169498184</td><td>&quot;No data&quot;</td><td>&quot;cameronsino&quot;</td><td>15.87</td><td>1515915625510743344</td><td>&quot;aa4mmk0kwQ&quot;</td><td>26985.35</td></tr><tr><td>&quot;2020-09-24 11:57:59 UTC&quot;</td><td>&quot;view&quot;</td><td>664325</td><td>2144415951611757447</td><td>&quot;construction.tools.saw&quot;</td><td>&quot;carver&quot;</td><td>52.33</td><td>1515915625519388062</td><td>&quot;vnkdP81DDW&quot;</td><td>872.86</td></tr><tr><td>&quot;2020-09-24 11:58:23 UTC&quot;</td><td>&quot;view&quot;</td><td>3791349</td><td>2144415935086199225</td><td>&quot;computers.desktop&quot;</td><td>null</td><td>215.41</td><td>1515915625519388877</td><td>&quot;J1t6sIYXiV&quot;</td><td>910.63</td></tr><tr><td>&quot;2020-09-24 11:58:24 UTC&quot;</td><td>&quot;view&quot;</td><td>716611</td><td>2144415923694469257</td><td>&quot;computers.network.router&quot;</td><td>&quot;d-link&quot;</td><td>53.14</td><td>1515915625519388882</td><td>&quot;kVBeYDPcBw&quot;</td><td>6953.75</td></tr><tr><td>&quot;2020-09-24 11:58:25 UTC&quot;</td><td>&quot;view&quot;</td><td>657859</td><td>2144415939431498289</td><td>&quot;No data&quot;</td><td>null</td><td>34.17</td><td>1515915625519320570</td><td>&quot;HEl15U7JVy&quot;</td><td>26985.35</td></tr><tr><td>&quot;2020-09-24 11:58:31 UTC&quot;</td><td>&quot;view&quot;</td><td>716611</td><td>2144415923694469257</td><td>&quot;computers.network.router&quot;</td><td>&quot;d-link&quot;</td><td>53.14</td><td>1515915625519388929</td><td>&quot;F3VB9LYp39&quot;</td><td>6953.75</td></tr></tbody></table></div>"
      ],
      "text/plain": [
       "shape: (10, 10)\n",
       "┌────────────────┬────────────┬────────────┬───────────────┬───┬────────┬───────────────┬──────────────┬───────────────┐\n",
       "│ event_time     ┆ event_type ┆ product_id ┆ category_id   ┆ … ┆ price  ┆ user_id       ┆ user_session ┆ max_price_by_ │\n",
       "│ ---            ┆ ---        ┆ ---        ┆ ---           ┆   ┆ ---    ┆ ---           ┆ ---          ┆ category      │\n",
       "│ str            ┆ str        ┆ i64        ┆ i64           ┆   ┆ f64    ┆ i64           ┆ str          ┆ ---           │\n",
       "│                ┆            ┆            ┆               ┆   ┆        ┆               ┆              ┆ f64           │\n",
       "╞════════════════╪════════════╪════════════╪═══════════════╪═══╪════════╪═══════════════╪══════════════╪═══════════════╡\n",
       "│ 2020-09-24     ┆ view       ┆ 1996170    ┆ 2144415922528 ┆ … ┆ 31.9   ┆ 1515915625519 ┆ LJuJVLEjPT   ┆ 1790.03       │\n",
       "│ 11:57:06 UTC   ┆            ┆            ┆ 452715        ┆   ┆        ┆ 388267        ┆              ┆               │\n",
       "│ 2020-09-24     ┆ view       ┆ 139905     ┆ 2144415926932 ┆ … ┆ 17.16  ┆ 1515915625519 ┆ tdicluNnRY   ┆ 221.14        │\n",
       "│ 11:57:26 UTC   ┆            ┆            ┆ 472027        ┆   ┆        ┆ 380411        ┆              ┆               │\n",
       "│ 2020-09-24     ┆ view       ┆ 215454     ┆ 2144415927158 ┆ … ┆ 9.81   ┆ 1515915625513 ┆ 4TMArHtXQy   ┆ 26985.35      │\n",
       "│ 11:57:27 UTC   ┆            ┆            ┆ 964449        ┆   ┆        ┆ 238515        ┆              ┆               │\n",
       "│ 2020-09-24     ┆ view       ┆ 635807     ┆ 2144415923107 ┆ … ┆ 113.81 ┆ 1515915625519 ┆ aGFYrNgC08   ┆ 26909.62      │\n",
       "│ 11:57:33 UTC   ┆            ┆            ┆ 266682        ┆   ┆        ┆ 014356        ┆              ┆               │\n",
       "│ 2020-09-24     ┆ view       ┆ 3658723    ┆ 2144415921169 ┆ … ┆ 15.87  ┆ 1515915625510 ┆ aa4mmk0kwQ   ┆ 26985.35      │\n",
       "│ 11:57:36 UTC   ┆            ┆            ┆ 498184        ┆   ┆        ┆ 743344        ┆              ┆               │\n",
       "│ 2020-09-24     ┆ view       ┆ 664325     ┆ 2144415951611 ┆ … ┆ 52.33  ┆ 1515915625519 ┆ vnkdP81DDW   ┆ 872.86        │\n",
       "│ 11:57:59 UTC   ┆            ┆            ┆ 757447        ┆   ┆        ┆ 388062        ┆              ┆               │\n",
       "│ 2020-09-24     ┆ view       ┆ 3791349    ┆ 2144415935086 ┆ … ┆ 215.41 ┆ 1515915625519 ┆ J1t6sIYXiV   ┆ 910.63        │\n",
       "│ 11:58:23 UTC   ┆            ┆            ┆ 199225        ┆   ┆        ┆ 388877        ┆              ┆               │\n",
       "│ 2020-09-24     ┆ view       ┆ 716611     ┆ 2144415923694 ┆ … ┆ 53.14  ┆ 1515915625519 ┆ kVBeYDPcBw   ┆ 6953.75       │\n",
       "│ 11:58:24 UTC   ┆            ┆            ┆ 469257        ┆   ┆        ┆ 388882        ┆              ┆               │\n",
       "│ 2020-09-24     ┆ view       ┆ 657859     ┆ 2144415939431 ┆ … ┆ 34.17  ┆ 1515915625519 ┆ HEl15U7JVy   ┆ 26985.35      │\n",
       "│ 11:58:25 UTC   ┆            ┆            ┆ 498289        ┆   ┆        ┆ 320570        ┆              ┆               │\n",
       "│ 2020-09-24     ┆ view       ┆ 716611     ┆ 2144415923694 ┆ … ┆ 53.14  ┆ 1515915625519 ┆ F3VB9LYp39   ┆ 6953.75       │\n",
       "│ 11:58:31 UTC   ┆            ┆            ┆ 469257        ┆   ┆        ┆ 388929        ┆              ┆               │\n",
       "└────────────────┴────────────┴────────────┴───────────────┴───┴────────┴───────────────┴──────────────┴───────────────┘"
      ]
     },
     "execution_count": 23,
     "metadata": {},
     "output_type": "execute_result"
    }
   ],
   "source": [
    "data_filled.with_columns([pl.col(\"price\").max().over(pl.col('category_code')).alias('max_price_by_category')]).head(10)"
   ]
  },
  {
   "cell_type": "code",
   "execution_count": null,
   "id": "fd3bd2be-dff8-4f18-8e38-97fb971ab776",
   "metadata": {},
   "outputs": [],
   "source": [
    "Постройте новое поле, принимающее значение True, если цена больше средней цены, и False в ином случае."
   ]
  },
  {
   "cell_type": "code",
   "execution_count": 25,
   "id": "f0d21a4c-856b-435d-8615-b337ce596d52",
   "metadata": {},
   "outputs": [
    {
     "data": {
      "text/html": [
       "<div><style>\n",
       ".dataframe > thead > tr,\n",
       ".dataframe > tbody > tr {\n",
       "  text-align: right;\n",
       "  white-space: pre-wrap;\n",
       "}\n",
       "</style>\n",
       "<small>shape: (885_129, 10)</small><table border=\"1\" class=\"dataframe\"><thead><tr><th>event_time</th><th>event_type</th><th>product_id</th><th>category_id</th><th>category_code</th><th>brand</th><th>price</th><th>user_id</th><th>user_session</th><th>conditional_price</th></tr><tr><td>str</td><td>str</td><td>i64</td><td>i64</td><td>str</td><td>str</td><td>f64</td><td>i64</td><td>str</td><td>bool</td></tr></thead><tbody><tr><td>&quot;2020-09-24 11:57:06 UTC&quot;</td><td>&quot;view&quot;</td><td>1996170</td><td>2144415922528452715</td><td>&quot;electronics.telephone&quot;</td><td>null</td><td>31.9</td><td>1515915625519388267</td><td>&quot;LJuJVLEjPT&quot;</td><td>false</td></tr><tr><td>&quot;2020-09-24 11:57:26 UTC&quot;</td><td>&quot;view&quot;</td><td>139905</td><td>2144415926932472027</td><td>&quot;computers.components.cooler&quot;</td><td>&quot;zalman&quot;</td><td>17.16</td><td>1515915625519380411</td><td>&quot;tdicluNnRY&quot;</td><td>false</td></tr><tr><td>&quot;2020-09-24 11:57:27 UTC&quot;</td><td>&quot;view&quot;</td><td>215454</td><td>2144415927158964449</td><td>null</td><td>null</td><td>9.81</td><td>1515915625513238515</td><td>&quot;4TMArHtXQy&quot;</td><td>false</td></tr><tr><td>&quot;2020-09-24 11:57:33 UTC&quot;</td><td>&quot;view&quot;</td><td>635807</td><td>2144415923107266682</td><td>&quot;computers.peripherals.printer&quot;</td><td>&quot;pantum&quot;</td><td>113.81</td><td>1515915625519014356</td><td>&quot;aGFYrNgC08&quot;</td><td>false</td></tr><tr><td>&quot;2020-09-24 11:57:36 UTC&quot;</td><td>&quot;view&quot;</td><td>3658723</td><td>2144415921169498184</td><td>null</td><td>&quot;cameronsino&quot;</td><td>15.87</td><td>1515915625510743344</td><td>&quot;aa4mmk0kwQ&quot;</td><td>false</td></tr><tr><td>&hellip;</td><td>&hellip;</td><td>&hellip;</td><td>&hellip;</td><td>&hellip;</td><td>&hellip;</td><td>&hellip;</td><td>&hellip;</td><td>&hellip;</td><td>&hellip;</td></tr><tr><td>&quot;2021-02-28 23:55:01 UTC&quot;</td><td>&quot;view&quot;</td><td>953226</td><td>2144415927553229037</td><td>null</td><td>null</td><td>219.94</td><td>1515915625611023730</td><td>&quot;FRLqIttxKU&quot;</td><td>true</td></tr><tr><td>&quot;2021-02-28 23:58:05 UTC&quot;</td><td>&quot;view&quot;</td><td>1715907</td><td>2144415927049912542</td><td>&quot;electronics.video.tv&quot;</td><td>&quot;starwind&quot;</td><td>80.03</td><td>1515915625611024014</td><td>&quot;g6WqPf50Ma&quot;</td><td>false</td></tr><tr><td>&quot;2021-02-28 23:58:09 UTC&quot;</td><td>&quot;view&quot;</td><td>4170534</td><td>2144415939364389423</td><td>&quot;electronics.clocks&quot;</td><td>&quot;amazfit&quot;</td><td>64.92</td><td>1515915625611024020</td><td>&quot;xNIJBqZdkd&quot;</td><td>false</td></tr><tr><td>&quot;2021-02-28 23:58:14 UTC&quot;</td><td>&quot;view&quot;</td><td>888273</td><td>2144415921932861531</td><td>&quot;electronics.telephone&quot;</td><td>null</td><td>10.16</td><td>1515915625611024030</td><td>&quot;9pCbKMIcSx&quot;</td><td>false</td></tr><tr><td>&quot;2021-02-28 23:59:09 UTC&quot;</td><td>&quot;view&quot;</td><td>743182</td><td>2144415935631458761</td><td>&quot;construction.tools.soldering&quot;</td><td>&quot;kada&quot;</td><td>65.08</td><td>1515915625556087775</td><td>&quot;BejOXRngEW&quot;</td><td>false</td></tr></tbody></table></div>"
      ],
      "text/plain": [
       "shape: (885_129, 10)\n",
       "┌────────────────┬────────────┬────────────┬───────────────┬───┬────────┬───────────────┬──────────────┬───────────────┐\n",
       "│ event_time     ┆ event_type ┆ product_id ┆ category_id   ┆ … ┆ price  ┆ user_id       ┆ user_session ┆ conditional_p │\n",
       "│ ---            ┆ ---        ┆ ---        ┆ ---           ┆   ┆ ---    ┆ ---           ┆ ---          ┆ rice          │\n",
       "│ str            ┆ str        ┆ i64        ┆ i64           ┆   ┆ f64    ┆ i64           ┆ str          ┆ ---           │\n",
       "│                ┆            ┆            ┆               ┆   ┆        ┆               ┆              ┆ bool          │\n",
       "╞════════════════╪════════════╪════════════╪═══════════════╪═══╪════════╪═══════════════╪══════════════╪═══════════════╡\n",
       "│ 2020-09-24     ┆ view       ┆ 1996170    ┆ 2144415922528 ┆ … ┆ 31.9   ┆ 1515915625519 ┆ LJuJVLEjPT   ┆ false         │\n",
       "│ 11:57:06 UTC   ┆            ┆            ┆ 452715        ┆   ┆        ┆ 388267        ┆              ┆               │\n",
       "│ 2020-09-24     ┆ view       ┆ 139905     ┆ 2144415926932 ┆ … ┆ 17.16  ┆ 1515915625519 ┆ tdicluNnRY   ┆ false         │\n",
       "│ 11:57:26 UTC   ┆            ┆            ┆ 472027        ┆   ┆        ┆ 380411        ┆              ┆               │\n",
       "│ 2020-09-24     ┆ view       ┆ 215454     ┆ 2144415927158 ┆ … ┆ 9.81   ┆ 1515915625513 ┆ 4TMArHtXQy   ┆ false         │\n",
       "│ 11:57:27 UTC   ┆            ┆            ┆ 964449        ┆   ┆        ┆ 238515        ┆              ┆               │\n",
       "│ 2020-09-24     ┆ view       ┆ 635807     ┆ 2144415923107 ┆ … ┆ 113.81 ┆ 1515915625519 ┆ aGFYrNgC08   ┆ false         │\n",
       "│ 11:57:33 UTC   ┆            ┆            ┆ 266682        ┆   ┆        ┆ 014356        ┆              ┆               │\n",
       "│ 2020-09-24     ┆ view       ┆ 3658723    ┆ 2144415921169 ┆ … ┆ 15.87  ┆ 1515915625510 ┆ aa4mmk0kwQ   ┆ false         │\n",
       "│ 11:57:36 UTC   ┆            ┆            ┆ 498184        ┆   ┆        ┆ 743344        ┆              ┆               │\n",
       "│ …              ┆ …          ┆ …          ┆ …             ┆ … ┆ …      ┆ …             ┆ …            ┆ …             │\n",
       "│ 2021-02-28     ┆ view       ┆ 953226     ┆ 2144415927553 ┆ … ┆ 219.94 ┆ 1515915625611 ┆ FRLqIttxKU   ┆ true          │\n",
       "│ 23:55:01 UTC   ┆            ┆            ┆ 229037        ┆   ┆        ┆ 023730        ┆              ┆               │\n",
       "│ 2021-02-28     ┆ view       ┆ 1715907    ┆ 2144415927049 ┆ … ┆ 80.03  ┆ 1515915625611 ┆ g6WqPf50Ma   ┆ false         │\n",
       "│ 23:58:05 UTC   ┆            ┆            ┆ 912542        ┆   ┆        ┆ 024014        ┆              ┆               │\n",
       "│ 2021-02-28     ┆ view       ┆ 4170534    ┆ 2144415939364 ┆ … ┆ 64.92  ┆ 1515915625611 ┆ xNIJBqZdkd   ┆ false         │\n",
       "│ 23:58:09 UTC   ┆            ┆            ┆ 389423        ┆   ┆        ┆ 024020        ┆              ┆               │\n",
       "│ 2021-02-28     ┆ view       ┆ 888273     ┆ 2144415921932 ┆ … ┆ 10.16  ┆ 1515915625611 ┆ 9pCbKMIcSx   ┆ false         │\n",
       "│ 23:58:14 UTC   ┆            ┆            ┆ 861531        ┆   ┆        ┆ 024030        ┆              ┆               │\n",
       "│ 2021-02-28     ┆ view       ┆ 743182     ┆ 2144415935631 ┆ … ┆ 65.08  ┆ 1515915625556 ┆ BejOXRngEW   ┆ false         │\n",
       "│ 23:59:09 UTC   ┆            ┆            ┆ 458761        ┆   ┆        ┆ 087775        ┆              ┆               │\n",
       "└────────────────┴────────────┴────────────┴───────────────┴───┴────────┴───────────────┴──────────────┴───────────────┘"
      ]
     },
     "execution_count": 25,
     "metadata": {},
     "output_type": "execute_result"
    }
   ],
   "source": [
    "data.with_columns(pl.when(pl.col('price') > pl.col('price').mean())\n",
    "                  .then(pl.lit(True))\n",
    "                  .otherwise(pl.lit(False))\n",
    "                  .alias('conditional_price')\n",
    "                 )"
   ]
  },
  {
   "cell_type": "code",
   "execution_count": null,
   "id": "d01d1d7d-9575-4b6f-ba1c-e6d18a5a81a7",
   "metadata": {},
   "outputs": [],
   "source": []
  }
 ],
 "metadata": {
  "kernelspec": {
   "display_name": "Python 3 (ipykernel)",
   "language": "python",
   "name": "python3"
  },
  "language_info": {
   "codemirror_mode": {
    "name": "ipython",
    "version": 3
   },
   "file_extension": ".py",
   "mimetype": "text/x-python",
   "name": "python",
   "nbconvert_exporter": "python",
   "pygments_lexer": "ipython3",
   "version": "3.12.5"
  }
 },
 "nbformat": 4,
 "nbformat_minor": 5
}
