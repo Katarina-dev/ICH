{
 "cells": [
  {
   "cell_type": "code",
   "execution_count": 1,
   "id": "53fc4f88-5904-4732-8e97-572f81774561",
   "metadata": {},
   "outputs": [],
   "source": [
    "import polars as pl"
   ]
  },
  {
   "cell_type": "code",
   "execution_count": 4,
   "id": "c947e7c0-98fe-4434-94ae-ad391545e291",
   "metadata": {},
   "outputs": [
    {
     "data": {
      "text/html": [
       "<div><style>\n",
       ".dataframe > thead > tr,\n",
       ".dataframe > tbody > tr {\n",
       "  text-align: right;\n",
       "  white-space: pre-wrap;\n",
       "}\n",
       "</style>\n",
       "<small>shape: (3, 3)</small><table border=\"1\" class=\"dataframe\"><thead><tr><th>A</th><th>B</th><th>C</th></tr><tr><td>i64</td><td>str</td><td>bool</td></tr></thead><tbody><tr><td>1</td><td>&quot;foo&quot;</td><td>true</td></tr><tr><td>2</td><td>&quot;bar&quot;</td><td>false</td></tr><tr><td>3</td><td>&quot;baz&quot;</td><td>true</td></tr></tbody></table></div>"
      ],
      "text/plain": [
       "shape: (3, 3)\n",
       "┌─────┬─────┬───────┐\n",
       "│ A   ┆ B   ┆ C     │\n",
       "│ --- ┆ --- ┆ ---   │\n",
       "│ i64 ┆ str ┆ bool  │\n",
       "╞═════╪═════╪═══════╡\n",
       "│ 1   ┆ foo ┆ true  │\n",
       "│ 2   ┆ bar ┆ false │\n",
       "│ 3   ┆ baz ┆ true  │\n",
       "└─────┴─────┴───────┘"
      ]
     },
     "metadata": {},
     "output_type": "display_data"
    }
   ],
   "source": [
    "data = {\n",
    "'A': [1, 2, 3],\n",
    "'B': ['foo', 'bar', 'baz'],\n",
    "'C': [True, False, True]\n",
    "}\n",
    "df = pl.DataFrame(data)\n",
    "display(df)"
   ]
  },
  {
   "cell_type": "code",
   "execution_count": 6,
   "id": "f95108d9-0c5e-4f2e-afd3-b3b5fbdae88b",
   "metadata": {},
   "outputs": [
    {
     "name": "stdout",
     "output_type": "stream",
     "text": [
      "shape: (3, 3)\n",
      "┌─────┬─────┬───────┐\n",
      "│ A   ┆ B   ┆ C     │\n",
      "│ --- ┆ --- ┆ ---   │\n",
      "│ i64 ┆ str ┆ bool  │\n",
      "╞═════╪═════╪═══════╡\n",
      "│ 1   ┆ foo ┆ true  │\n",
      "│ 2   ┆ bar ┆ false │\n",
      "│ 3   ┆ baz ┆ true  │\n",
      "└─────┴─────┴───────┘\n"
     ]
    }
   ],
   "source": [
    "data = [\n",
    "(1, 'foo', True),\n",
    "(2, 'bar', False),\n",
    "(3, 'baz', True)\n",
    "]\n",
    "df = pl.DataFrame(data, schema=['A', 'B', 'C'], orient='row')\n",
    "print(df)"
   ]
  },
  {
   "cell_type": "code",
   "execution_count": 7,
   "id": "d8395a0d-e4bf-46fd-a7c1-64bef76715c3",
   "metadata": {},
   "outputs": [],
   "source": [
    "import numpy as np"
   ]
  },
  {
   "cell_type": "code",
   "execution_count": 9,
   "id": "9f89f98b-68b7-4128-ba39-a5f64fba99d6",
   "metadata": {},
   "outputs": [
    {
     "name": "stdout",
     "output_type": "stream",
     "text": [
      "shape: (3, 3)\n",
      "┌────────┬──────────┬──────────┐\n",
      "│ fruit  ┆ quantity ┆ price    │\n",
      "│ ---    ┆ ---      ┆ ---      │\n",
      "│ str    ┆ i32      ┆ f64      │\n",
      "╞════════╪══════════╪══════════╡\n",
      "│ apple  ┆ 59       ┆ 0.625647 │\n",
      "│ banana ┆ 82       ┆ 0.525618 │\n",
      "│ cherry ┆ 32       ┆ 0.865054 │\n",
      "└────────┴──────────┴──────────┘\n",
      "[String, Int32, Float64]\n",
      "Schema({'fruit': String, 'quantity': Int32, 'price': Float64})\n",
      "shape: (9, 4)\n",
      "┌────────────┬────────────┬───────────┬──────────┐\n",
      "│ statistic  ┆ fruit      ┆ quantity  ┆ price    │\n",
      "│ ---        ┆ ---        ┆ ---       ┆ ---      │\n",
      "│ str        ┆ str        ┆ f64       ┆ f64      │\n",
      "╞════════════╪════════════╪═══════════╪══════════╡\n",
      "│ count      ┆ 5          ┆ 5.0       ┆ 5.0      │\n",
      "│ null_count ┆ 0          ┆ 0.0       ┆ 0.0      │\n",
      "│ mean       ┆ null       ┆ 66.0      ┆ 0.587148 │\n",
      "│ std        ┆ null       ┆ 24.423349 ┆ 0.322717 │\n",
      "│ min        ┆ apple      ┆ 32.0      ┆ 0.071376 │\n",
      "│ 25%        ┆ null       ┆ 59.0      ┆ 0.525618 │\n",
      "│ 50%        ┆ null       ┆ 61.0      ┆ 0.625647 │\n",
      "│ 75%        ┆ null       ┆ 82.0      ┆ 0.848042 │\n",
      "│ max        ┆ watermelon ┆ 96.0      ┆ 0.865054 │\n",
      "└────────────┴────────────┴───────────┴──────────┘\n",
      "Schema({'fruit': String, 'quantity': Int32, 'price': Float64})\n"
     ]
    }
   ],
   "source": [
    "strings_data = [\"apple\", \"banana\", \"cherry\", \"watermelon\", \"elderberry\"]\n",
    "integers_data = np.random.randint(1, 100, size=5)\n",
    "floats_data = np.random.rand(5)\n",
    "df = pl.DataFrame({\n",
    "\"fruit\": strings_data,\n",
    "\"quantity\": integers_data,\n",
    "\"price\": floats_data\n",
    "})\n",
    "print(df.head(3))\n",
    "print(df.dtypes)\n",
    "print(df.schema)\n",
    "print(df.describe())\n",
    "print(df.schema)"
   ]
  },
  {
   "cell_type": "code",
   "execution_count": 10,
   "id": "1264daa7-372d-4bca-833d-96364d898a71",
   "metadata": {},
   "outputs": [
    {
     "data": {
      "text/html": [
       "<div><style>\n",
       ".dataframe > thead > tr,\n",
       ".dataframe > tbody > tr {\n",
       "  text-align: right;\n",
       "  white-space: pre-wrap;\n",
       "}\n",
       "</style>\n",
       "<small>shape: (1, 3)</small><table border=\"1\" class=\"dataframe\"><thead><tr><th>fruit</th><th>quantity</th><th>price</th></tr><tr><td>str</td><td>i32</td><td>f64</td></tr></thead><tbody><tr><td>&quot;apple&quot;</td><td>59</td><td>0.625647</td></tr></tbody></table></div>"
      ],
      "text/plain": [
       "shape: (1, 3)\n",
       "┌───────┬──────────┬──────────┐\n",
       "│ fruit ┆ quantity ┆ price    │\n",
       "│ ---   ┆ ---      ┆ ---      │\n",
       "│ str   ┆ i32      ┆ f64      │\n",
       "╞═══════╪══════════╪══════════╡\n",
       "│ apple ┆ 59       ┆ 0.625647 │\n",
       "└───────┴──────────┴──────────┘"
      ]
     },
     "execution_count": 10,
     "metadata": {},
     "output_type": "execute_result"
    }
   ],
   "source": [
    "df[0,:] #первая строка, все колонки"
   ]
  },
  {
   "cell_type": "code",
   "execution_count": 11,
   "id": "ced191ec-364a-41ad-b41c-6727fc3957d0",
   "metadata": {},
   "outputs": [
    {
     "data": {
      "text/html": [
       "<div><style>\n",
       ".dataframe > thead > tr,\n",
       ".dataframe > tbody > tr {\n",
       "  text-align: right;\n",
       "  white-space: pre-wrap;\n",
       "}\n",
       "</style>\n",
       "<small>shape: (5, 2)</small><table border=\"1\" class=\"dataframe\"><thead><tr><th>fruit</th><th>price</th></tr><tr><td>str</td><td>f64</td></tr></thead><tbody><tr><td>&quot;apple&quot;</td><td>0.625647</td></tr><tr><td>&quot;banana&quot;</td><td>0.525618</td></tr><tr><td>&quot;cherry&quot;</td><td>0.865054</td></tr><tr><td>&quot;watermelon&quot;</td><td>0.071376</td></tr><tr><td>&quot;elderberry&quot;</td><td>0.848042</td></tr></tbody></table></div>"
      ],
      "text/plain": [
       "shape: (5, 2)\n",
       "┌────────────┬──────────┐\n",
       "│ fruit      ┆ price    │\n",
       "│ ---        ┆ ---      │\n",
       "│ str        ┆ f64      │\n",
       "╞════════════╪══════════╡\n",
       "│ apple      ┆ 0.625647 │\n",
       "│ banana     ┆ 0.525618 │\n",
       "│ cherry     ┆ 0.865054 │\n",
       "│ watermelon ┆ 0.071376 │\n",
       "│ elderberry ┆ 0.848042 │\n",
       "└────────────┴──────────┘"
      ]
     },
     "execution_count": 11,
     "metadata": {},
     "output_type": "execute_result"
    }
   ],
   "source": [
    "df[:,['fruit', \"price\"]] #все строки по колонкам 'fruit', \"price\""
   ]
  },
  {
   "cell_type": "code",
   "execution_count": 12,
   "id": "d49c6c14-95f2-4ed9-b047-3451c8a6d8a0",
   "metadata": {},
   "outputs": [
    {
     "data": {
      "text/html": [
       "<div><style>\n",
       ".dataframe > thead > tr,\n",
       ".dataframe > tbody > tr {\n",
       "  text-align: right;\n",
       "  white-space: pre-wrap;\n",
       "}\n",
       "</style>\n",
       "<small>shape: (3, 3)</small><table border=\"1\" class=\"dataframe\"><thead><tr><th>fruit</th><th>quantity</th><th>price</th></tr><tr><td>str</td><td>i32</td><td>f64</td></tr></thead><tbody><tr><td>&quot;apple&quot;</td><td>59</td><td>0.625647</td></tr><tr><td>&quot;cherry&quot;</td><td>32</td><td>0.865054</td></tr><tr><td>&quot;elderberry&quot;</td><td>61</td><td>0.848042</td></tr></tbody></table></div>"
      ],
      "text/plain": [
       "shape: (3, 3)\n",
       "┌────────────┬──────────┬──────────┐\n",
       "│ fruit      ┆ quantity ┆ price    │\n",
       "│ ---        ┆ ---      ┆ ---      │\n",
       "│ str        ┆ i32      ┆ f64      │\n",
       "╞════════════╪══════════╪══════════╡\n",
       "│ apple      ┆ 59       ┆ 0.625647 │\n",
       "│ cherry     ┆ 32       ┆ 0.865054 │\n",
       "│ elderberry ┆ 61       ┆ 0.848042 │\n",
       "└────────────┴──────────┴──────────┘"
      ]
     },
     "execution_count": 12,
     "metadata": {},
     "output_type": "execute_result"
    }
   ],
   "source": [
    "df.filter(pl.col(\"price\") > 0.550).head() #фильтрует данные по значению в колонке"
   ]
  },
  {
   "cell_type": "code",
   "execution_count": 13,
   "id": "57b282f2-bf01-4f58-853c-c47b37e8072f",
   "metadata": {},
   "outputs": [
    {
     "data": {
      "text/html": [
       "<div><style>\n",
       ".dataframe > thead > tr,\n",
       ".dataframe > tbody > tr {\n",
       "  text-align: right;\n",
       "  white-space: pre-wrap;\n",
       "}\n",
       "</style>\n",
       "<small>shape: (5, 2)</small><table border=\"1\" class=\"dataframe\"><thead><tr><th>fruit</th><th>price</th></tr><tr><td>str</td><td>f64</td></tr></thead><tbody><tr><td>&quot;apple&quot;</td><td>0.625647</td></tr><tr><td>&quot;banana&quot;</td><td>0.525618</td></tr><tr><td>&quot;cherry&quot;</td><td>0.865054</td></tr><tr><td>&quot;watermelon&quot;</td><td>0.071376</td></tr><tr><td>&quot;elderberry&quot;</td><td>0.848042</td></tr></tbody></table></div>"
      ],
      "text/plain": [
       "shape: (5, 2)\n",
       "┌────────────┬──────────┐\n",
       "│ fruit      ┆ price    │\n",
       "│ ---        ┆ ---      │\n",
       "│ str        ┆ f64      │\n",
       "╞════════════╪══════════╡\n",
       "│ apple      ┆ 0.625647 │\n",
       "│ banana     ┆ 0.525618 │\n",
       "│ cherry     ┆ 0.865054 │\n",
       "│ watermelon ┆ 0.071376 │\n",
       "│ elderberry ┆ 0.848042 │\n",
       "└────────────┴──────────┘"
      ]
     },
     "execution_count": 13,
     "metadata": {},
     "output_type": "execute_result"
    }
   ],
   "source": [
    "df.select(['fruit', 'price'])"
   ]
  },
  {
   "cell_type": "code",
   "execution_count": 14,
   "id": "267a65f1-da1c-4372-a9af-d0755d25f8a6",
   "metadata": {},
   "outputs": [
    {
     "data": {
      "text/html": [
       "<div><style>\n",
       ".dataframe > thead > tr,\n",
       ".dataframe > tbody > tr {\n",
       "  text-align: right;\n",
       "  white-space: pre-wrap;\n",
       "}\n",
       "</style>\n",
       "<small>shape: (5, 4)</small><table border=\"1\" class=\"dataframe\"><thead><tr><th>fruit</th><th>quantity</th><th>price</th><th>total</th></tr><tr><td>str</td><td>i32</td><td>f64</td><td>f64</td></tr></thead><tbody><tr><td>&quot;apple&quot;</td><td>59</td><td>0.625647</td><td>36.91317</td></tr><tr><td>&quot;banana&quot;</td><td>82</td><td>0.525618</td><td>43.100694</td></tr><tr><td>&quot;cherry&quot;</td><td>32</td><td>0.865054</td><td>27.681725</td></tr><tr><td>&quot;watermelon&quot;</td><td>96</td><td>0.071376</td><td>6.852137</td></tr><tr><td>&quot;elderberry&quot;</td><td>61</td><td>0.848042</td><td>51.730587</td></tr></tbody></table></div>"
      ],
      "text/plain": [
       "shape: (5, 4)\n",
       "┌────────────┬──────────┬──────────┬───────────┐\n",
       "│ fruit      ┆ quantity ┆ price    ┆ total     │\n",
       "│ ---        ┆ ---      ┆ ---      ┆ ---       │\n",
       "│ str        ┆ i32      ┆ f64      ┆ f64       │\n",
       "╞════════════╪══════════╪══════════╪═══════════╡\n",
       "│ apple      ┆ 59       ┆ 0.625647 ┆ 36.91317  │\n",
       "│ banana     ┆ 82       ┆ 0.525618 ┆ 43.100694 │\n",
       "│ cherry     ┆ 32       ┆ 0.865054 ┆ 27.681725 │\n",
       "│ watermelon ┆ 96       ┆ 0.071376 ┆ 6.852137  │\n",
       "│ elderberry ┆ 61       ┆ 0.848042 ┆ 51.730587 │\n",
       "└────────────┴──────────┴──────────┴───────────┘"
      ]
     },
     "execution_count": 14,
     "metadata": {},
     "output_type": "execute_result"
    }
   ],
   "source": [
    "#добавление новой колонки\n",
    "df.with_columns([\n",
    "(pl.col(\"price\") * pl.col(\"quantity\")).alias(\"total\")\n",
    "])\n"
   ]
  },
  {
   "cell_type": "code",
   "execution_count": 17,
   "id": "587e3e0e-754a-41d7-8dbc-3578606faa81",
   "metadata": {},
   "outputs": [
    {
     "data": {
      "text/html": [
       "<div><style>\n",
       ".dataframe > thead > tr,\n",
       ".dataframe > tbody > tr {\n",
       "  text-align: right;\n",
       "  white-space: pre-wrap;\n",
       "}\n",
       "</style>\n",
       "<small>shape: (4, 2)</small><table border=\"1\" class=\"dataframe\"><thead><tr><th>fruit</th><th>total</th></tr><tr><td>str</td><td>f64</td></tr></thead><tbody><tr><td>&quot;apple&quot;</td><td>36.91317</td></tr><tr><td>&quot;banana&quot;</td><td>43.100694</td></tr><tr><td>&quot;cherry&quot;</td><td>27.681725</td></tr><tr><td>&quot;elderberry&quot;</td><td>51.730587</td></tr></tbody></table></div>"
      ],
      "text/plain": [
       "shape: (4, 2)\n",
       "┌────────────┬───────────┐\n",
       "│ fruit      ┆ total     │\n",
       "│ ---        ┆ ---       │\n",
       "│ str        ┆ f64       │\n",
       "╞════════════╪═══════════╡\n",
       "│ apple      ┆ 36.91317  │\n",
       "│ banana     ┆ 43.100694 │\n",
       "│ cherry     ┆ 27.681725 │\n",
       "│ elderberry ┆ 51.730587 │\n",
       "└────────────┴───────────┘"
      ]
     },
     "execution_count": 17,
     "metadata": {},
     "output_type": "execute_result"
    }
   ],
   "source": [
    "#добавление новой колонки и указываем условия вывода\n",
    "df.with_columns([\n",
    "(pl.col(\"price\") * pl.col(\"quantity\")).alias(\"total\")\n",
    "]).filter(pl.col.total > 20).select(['fruit', 'total'])"
   ]
  },
  {
   "cell_type": "code",
   "execution_count": null,
   "id": "32c68dba-da54-4038-89e7-1be65fc1184e",
   "metadata": {},
   "outputs": [],
   "source": [
    ".str.contains(\"Sales\")) #для неточного поиска по строковым данным"
   ]
  },
  {
   "cell_type": "raw",
   "id": "904a3c6f-7f0f-449d-b6bf-cb785f475ff6",
   "metadata": {},
   "source": [
    "3. Загрузите набор данных титаника.\n",
    "4. Выберите только столбцы класс, пол, возраст.\n",
    "5. Выберите пассажиров, путешествовавших в первом классе и заплативших\n",
    "более 100 фунтов за билет.\n",
    "6. Добавьте столбец “стоимость билета в долларах”.\n",
    "7. Выберите выживших пассажиров женского пола моложе 18 лет.\n",
    "8. Добавьте столбец “количество родственников на борту”.\n",
    "9. Выберите пассажиров, выживших с братьями или сестрами, или супругами."
   ]
  },
  {
   "cell_type": "code",
   "execution_count": 21,
   "id": "e3f6e41c-6aa5-47e7-999a-683f9d2400e0",
   "metadata": {},
   "outputs": [],
   "source": [
    "import seaborn as sns"
   ]
  },
  {
   "cell_type": "code",
   "execution_count": 22,
   "id": "fe67736a-9d2d-4ffb-aed8-5b90008b4896",
   "metadata": {},
   "outputs": [
    {
     "data": {
      "text/html": [
       "<div>\n",
       "<style scoped>\n",
       "    .dataframe tbody tr th:only-of-type {\n",
       "        vertical-align: middle;\n",
       "    }\n",
       "\n",
       "    .dataframe tbody tr th {\n",
       "        vertical-align: top;\n",
       "    }\n",
       "\n",
       "    .dataframe thead th {\n",
       "        text-align: right;\n",
       "    }\n",
       "</style>\n",
       "<table border=\"1\" class=\"dataframe\">\n",
       "  <thead>\n",
       "    <tr style=\"text-align: right;\">\n",
       "      <th></th>\n",
       "      <th>survived</th>\n",
       "      <th>pclass</th>\n",
       "      <th>sex</th>\n",
       "      <th>age</th>\n",
       "      <th>sibsp</th>\n",
       "      <th>parch</th>\n",
       "      <th>fare</th>\n",
       "      <th>embarked</th>\n",
       "      <th>class</th>\n",
       "      <th>who</th>\n",
       "      <th>adult_male</th>\n",
       "      <th>deck</th>\n",
       "      <th>embark_town</th>\n",
       "      <th>alive</th>\n",
       "      <th>alone</th>\n",
       "    </tr>\n",
       "  </thead>\n",
       "  <tbody>\n",
       "    <tr>\n",
       "      <th>0</th>\n",
       "      <td>0</td>\n",
       "      <td>3</td>\n",
       "      <td>male</td>\n",
       "      <td>22.0</td>\n",
       "      <td>1</td>\n",
       "      <td>0</td>\n",
       "      <td>7.2500</td>\n",
       "      <td>S</td>\n",
       "      <td>Third</td>\n",
       "      <td>man</td>\n",
       "      <td>True</td>\n",
       "      <td>NaN</td>\n",
       "      <td>Southampton</td>\n",
       "      <td>no</td>\n",
       "      <td>False</td>\n",
       "    </tr>\n",
       "    <tr>\n",
       "      <th>1</th>\n",
       "      <td>1</td>\n",
       "      <td>1</td>\n",
       "      <td>female</td>\n",
       "      <td>38.0</td>\n",
       "      <td>1</td>\n",
       "      <td>0</td>\n",
       "      <td>71.2833</td>\n",
       "      <td>C</td>\n",
       "      <td>First</td>\n",
       "      <td>woman</td>\n",
       "      <td>False</td>\n",
       "      <td>C</td>\n",
       "      <td>Cherbourg</td>\n",
       "      <td>yes</td>\n",
       "      <td>False</td>\n",
       "    </tr>\n",
       "    <tr>\n",
       "      <th>2</th>\n",
       "      <td>1</td>\n",
       "      <td>3</td>\n",
       "      <td>female</td>\n",
       "      <td>26.0</td>\n",
       "      <td>0</td>\n",
       "      <td>0</td>\n",
       "      <td>7.9250</td>\n",
       "      <td>S</td>\n",
       "      <td>Third</td>\n",
       "      <td>woman</td>\n",
       "      <td>False</td>\n",
       "      <td>NaN</td>\n",
       "      <td>Southampton</td>\n",
       "      <td>yes</td>\n",
       "      <td>True</td>\n",
       "    </tr>\n",
       "    <tr>\n",
       "      <th>3</th>\n",
       "      <td>1</td>\n",
       "      <td>1</td>\n",
       "      <td>female</td>\n",
       "      <td>35.0</td>\n",
       "      <td>1</td>\n",
       "      <td>0</td>\n",
       "      <td>53.1000</td>\n",
       "      <td>S</td>\n",
       "      <td>First</td>\n",
       "      <td>woman</td>\n",
       "      <td>False</td>\n",
       "      <td>C</td>\n",
       "      <td>Southampton</td>\n",
       "      <td>yes</td>\n",
       "      <td>False</td>\n",
       "    </tr>\n",
       "    <tr>\n",
       "      <th>4</th>\n",
       "      <td>0</td>\n",
       "      <td>3</td>\n",
       "      <td>male</td>\n",
       "      <td>35.0</td>\n",
       "      <td>0</td>\n",
       "      <td>0</td>\n",
       "      <td>8.0500</td>\n",
       "      <td>S</td>\n",
       "      <td>Third</td>\n",
       "      <td>man</td>\n",
       "      <td>True</td>\n",
       "      <td>NaN</td>\n",
       "      <td>Southampton</td>\n",
       "      <td>no</td>\n",
       "      <td>True</td>\n",
       "    </tr>\n",
       "    <tr>\n",
       "      <th>...</th>\n",
       "      <td>...</td>\n",
       "      <td>...</td>\n",
       "      <td>...</td>\n",
       "      <td>...</td>\n",
       "      <td>...</td>\n",
       "      <td>...</td>\n",
       "      <td>...</td>\n",
       "      <td>...</td>\n",
       "      <td>...</td>\n",
       "      <td>...</td>\n",
       "      <td>...</td>\n",
       "      <td>...</td>\n",
       "      <td>...</td>\n",
       "      <td>...</td>\n",
       "      <td>...</td>\n",
       "    </tr>\n",
       "    <tr>\n",
       "      <th>886</th>\n",
       "      <td>0</td>\n",
       "      <td>2</td>\n",
       "      <td>male</td>\n",
       "      <td>27.0</td>\n",
       "      <td>0</td>\n",
       "      <td>0</td>\n",
       "      <td>13.0000</td>\n",
       "      <td>S</td>\n",
       "      <td>Second</td>\n",
       "      <td>man</td>\n",
       "      <td>True</td>\n",
       "      <td>NaN</td>\n",
       "      <td>Southampton</td>\n",
       "      <td>no</td>\n",
       "      <td>True</td>\n",
       "    </tr>\n",
       "    <tr>\n",
       "      <th>887</th>\n",
       "      <td>1</td>\n",
       "      <td>1</td>\n",
       "      <td>female</td>\n",
       "      <td>19.0</td>\n",
       "      <td>0</td>\n",
       "      <td>0</td>\n",
       "      <td>30.0000</td>\n",
       "      <td>S</td>\n",
       "      <td>First</td>\n",
       "      <td>woman</td>\n",
       "      <td>False</td>\n",
       "      <td>B</td>\n",
       "      <td>Southampton</td>\n",
       "      <td>yes</td>\n",
       "      <td>True</td>\n",
       "    </tr>\n",
       "    <tr>\n",
       "      <th>888</th>\n",
       "      <td>0</td>\n",
       "      <td>3</td>\n",
       "      <td>female</td>\n",
       "      <td>NaN</td>\n",
       "      <td>1</td>\n",
       "      <td>2</td>\n",
       "      <td>23.4500</td>\n",
       "      <td>S</td>\n",
       "      <td>Third</td>\n",
       "      <td>woman</td>\n",
       "      <td>False</td>\n",
       "      <td>NaN</td>\n",
       "      <td>Southampton</td>\n",
       "      <td>no</td>\n",
       "      <td>False</td>\n",
       "    </tr>\n",
       "    <tr>\n",
       "      <th>889</th>\n",
       "      <td>1</td>\n",
       "      <td>1</td>\n",
       "      <td>male</td>\n",
       "      <td>26.0</td>\n",
       "      <td>0</td>\n",
       "      <td>0</td>\n",
       "      <td>30.0000</td>\n",
       "      <td>C</td>\n",
       "      <td>First</td>\n",
       "      <td>man</td>\n",
       "      <td>True</td>\n",
       "      <td>C</td>\n",
       "      <td>Cherbourg</td>\n",
       "      <td>yes</td>\n",
       "      <td>True</td>\n",
       "    </tr>\n",
       "    <tr>\n",
       "      <th>890</th>\n",
       "      <td>0</td>\n",
       "      <td>3</td>\n",
       "      <td>male</td>\n",
       "      <td>32.0</td>\n",
       "      <td>0</td>\n",
       "      <td>0</td>\n",
       "      <td>7.7500</td>\n",
       "      <td>Q</td>\n",
       "      <td>Third</td>\n",
       "      <td>man</td>\n",
       "      <td>True</td>\n",
       "      <td>NaN</td>\n",
       "      <td>Queenstown</td>\n",
       "      <td>no</td>\n",
       "      <td>True</td>\n",
       "    </tr>\n",
       "  </tbody>\n",
       "</table>\n",
       "<p>891 rows × 15 columns</p>\n",
       "</div>"
      ],
      "text/plain": [
       "     survived  pclass     sex   age  sibsp  parch     fare embarked   class  \\\n",
       "0           0       3    male  22.0      1      0   7.2500        S   Third   \n",
       "1           1       1  female  38.0      1      0  71.2833        C   First   \n",
       "2           1       3  female  26.0      0      0   7.9250        S   Third   \n",
       "3           1       1  female  35.0      1      0  53.1000        S   First   \n",
       "4           0       3    male  35.0      0      0   8.0500        S   Third   \n",
       "..        ...     ...     ...   ...    ...    ...      ...      ...     ...   \n",
       "886         0       2    male  27.0      0      0  13.0000        S  Second   \n",
       "887         1       1  female  19.0      0      0  30.0000        S   First   \n",
       "888         0       3  female   NaN      1      2  23.4500        S   Third   \n",
       "889         1       1    male  26.0      0      0  30.0000        C   First   \n",
       "890         0       3    male  32.0      0      0   7.7500        Q   Third   \n",
       "\n",
       "       who  adult_male deck  embark_town alive  alone  \n",
       "0      man        True  NaN  Southampton    no  False  \n",
       "1    woman       False    C    Cherbourg   yes  False  \n",
       "2    woman       False  NaN  Southampton   yes   True  \n",
       "3    woman       False    C  Southampton   yes  False  \n",
       "4      man        True  NaN  Southampton    no   True  \n",
       "..     ...         ...  ...          ...   ...    ...  \n",
       "886    man        True  NaN  Southampton    no   True  \n",
       "887  woman       False    B  Southampton   yes   True  \n",
       "888  woman       False  NaN  Southampton    no  False  \n",
       "889    man        True    C    Cherbourg   yes   True  \n",
       "890    man        True  NaN   Queenstown    no   True  \n",
       "\n",
       "[891 rows x 15 columns]"
      ]
     },
     "execution_count": 22,
     "metadata": {},
     "output_type": "execute_result"
    }
   ],
   "source": [
    "df = sns.load_dataset('titanic')\n",
    "df"
   ]
  },
  {
   "cell_type": "code",
   "execution_count": 24,
   "id": "7a4ae2ae-f84e-4a6c-9aab-607bc3b8f61c",
   "metadata": {},
   "outputs": [
    {
     "data": {
      "text/html": [
       "<div><style>\n",
       ".dataframe > thead > tr,\n",
       ".dataframe > tbody > tr {\n",
       "  text-align: right;\n",
       "  white-space: pre-wrap;\n",
       "}\n",
       "</style>\n",
       "<small>shape: (3, 3)</small><table border=\"1\" class=\"dataframe\"><thead><tr><th>class</th><th>sex</th><th>age</th></tr><tr><td>cat</td><td>str</td><td>f64</td></tr></thead><tbody><tr><td>&quot;Third&quot;</td><td>&quot;male&quot;</td><td>22.0</td></tr><tr><td>&quot;First&quot;</td><td>&quot;female&quot;</td><td>38.0</td></tr><tr><td>&quot;Third&quot;</td><td>&quot;female&quot;</td><td>26.0</td></tr></tbody></table></div>"
      ],
      "text/plain": [
       "shape: (3, 3)\n",
       "┌───────┬────────┬──────┐\n",
       "│ class ┆ sex    ┆ age  │\n",
       "│ ---   ┆ ---    ┆ ---  │\n",
       "│ cat   ┆ str    ┆ f64  │\n",
       "╞═══════╪════════╪══════╡\n",
       "│ Third ┆ male   ┆ 22.0 │\n",
       "│ First ┆ female ┆ 38.0 │\n",
       "│ Third ┆ female ┆ 26.0 │\n",
       "└───────┴────────┴──────┘"
      ]
     },
     "execution_count": 24,
     "metadata": {},
     "output_type": "execute_result"
    }
   ],
   "source": [
    "dfp = pl.from_pandas(df)\n",
    "dfp.select(['class','sex','age']).head(3)"
   ]
  },
  {
   "cell_type": "code",
   "execution_count": 30,
   "id": "b5c9d5ec-e839-4e69-bd90-428051f5d04b",
   "metadata": {},
   "outputs": [
    {
     "data": {
      "text/html": [
       "<div><style>\n",
       ".dataframe > thead > tr,\n",
       ".dataframe > tbody > tr {\n",
       "  text-align: right;\n",
       "  white-space: pre-wrap;\n",
       "}\n",
       "</style>\n",
       "<small>shape: (53, 15)</small><table border=\"1\" class=\"dataframe\"><thead><tr><th>survived</th><th>pclass</th><th>sex</th><th>age</th><th>sibsp</th><th>parch</th><th>fare</th><th>embarked</th><th>class</th><th>who</th><th>adult_male</th><th>deck</th><th>embark_town</th><th>alive</th><th>alone</th></tr><tr><td>i64</td><td>i64</td><td>str</td><td>f64</td><td>i64</td><td>i64</td><td>f64</td><td>str</td><td>cat</td><td>str</td><td>bool</td><td>cat</td><td>str</td><td>str</td><td>bool</td></tr></thead><tbody><tr><td>0</td><td>1</td><td>&quot;male&quot;</td><td>19.0</td><td>3</td><td>2</td><td>263.0</td><td>&quot;S&quot;</td><td>&quot;First&quot;</td><td>&quot;man&quot;</td><td>true</td><td>&quot;C&quot;</td><td>&quot;Southampton&quot;</td><td>&quot;no&quot;</td><td>false</td></tr><tr><td>1</td><td>1</td><td>&quot;female&quot;</td><td>null</td><td>1</td><td>0</td><td>146.5208</td><td>&quot;C&quot;</td><td>&quot;First&quot;</td><td>&quot;woman&quot;</td><td>false</td><td>&quot;B&quot;</td><td>&quot;Cherbourg&quot;</td><td>&quot;yes&quot;</td><td>false</td></tr><tr><td>1</td><td>1</td><td>&quot;female&quot;</td><td>23.0</td><td>3</td><td>2</td><td>263.0</td><td>&quot;S&quot;</td><td>&quot;First&quot;</td><td>&quot;woman&quot;</td><td>false</td><td>&quot;C&quot;</td><td>&quot;Southampton&quot;</td><td>&quot;yes&quot;</td><td>false</td></tr><tr><td>0</td><td>1</td><td>&quot;male&quot;</td><td>24.0</td><td>0</td><td>1</td><td>247.5208</td><td>&quot;C&quot;</td><td>&quot;First&quot;</td><td>&quot;man&quot;</td><td>true</td><td>&quot;B&quot;</td><td>&quot;Cherbourg&quot;</td><td>&quot;no&quot;</td><td>false</td></tr><tr><td>1</td><td>1</td><td>&quot;female&quot;</td><td>58.0</td><td>0</td><td>0</td><td>146.5208</td><td>&quot;C&quot;</td><td>&quot;First&quot;</td><td>&quot;woman&quot;</td><td>false</td><td>&quot;B&quot;</td><td>&quot;Cherbourg&quot;</td><td>&quot;yes&quot;</td><td>true</td></tr><tr><td>&hellip;</td><td>&hellip;</td><td>&hellip;</td><td>&hellip;</td><td>&hellip;</td><td>&hellip;</td><td>&hellip;</td><td>&hellip;</td><td>&hellip;</td><td>&hellip;</td><td>&hellip;</td><td>&hellip;</td><td>&hellip;</td><td>&hellip;</td><td>&hellip;</td></tr><tr><td>1</td><td>1</td><td>&quot;female&quot;</td><td>21.0</td><td>2</td><td>2</td><td>262.375</td><td>&quot;C&quot;</td><td>&quot;First&quot;</td><td>&quot;woman&quot;</td><td>false</td><td>&quot;B&quot;</td><td>&quot;Cherbourg&quot;</td><td>&quot;yes&quot;</td><td>false</td></tr><tr><td>1</td><td>1</td><td>&quot;female&quot;</td><td>36.0</td><td>1</td><td>2</td><td>120.0</td><td>&quot;S&quot;</td><td>&quot;First&quot;</td><td>&quot;woman&quot;</td><td>false</td><td>&quot;B&quot;</td><td>&quot;Southampton&quot;</td><td>&quot;yes&quot;</td><td>false</td></tr><tr><td>1</td><td>1</td><td>&quot;female&quot;</td><td>43.0</td><td>0</td><td>1</td><td>211.3375</td><td>&quot;S&quot;</td><td>&quot;First&quot;</td><td>&quot;woman&quot;</td><td>false</td><td>&quot;B&quot;</td><td>&quot;Southampton&quot;</td><td>&quot;yes&quot;</td><td>false</td></tr><tr><td>1</td><td>1</td><td>&quot;male&quot;</td><td>11.0</td><td>1</td><td>2</td><td>120.0</td><td>&quot;S&quot;</td><td>&quot;First&quot;</td><td>&quot;child&quot;</td><td>false</td><td>&quot;B&quot;</td><td>&quot;Southampton&quot;</td><td>&quot;yes&quot;</td><td>false</td></tr><tr><td>1</td><td>1</td><td>&quot;female&quot;</td><td>45.0</td><td>1</td><td>1</td><td>164.8667</td><td>&quot;S&quot;</td><td>&quot;First&quot;</td><td>&quot;woman&quot;</td><td>false</td><td>null</td><td>&quot;Southampton&quot;</td><td>&quot;yes&quot;</td><td>false</td></tr></tbody></table></div>"
      ],
      "text/plain": [
       "shape: (53, 15)\n",
       "┌──────────┬────────┬────────┬──────┬───┬──────┬─────────────┬───────┬───────┐\n",
       "│ survived ┆ pclass ┆ sex    ┆ age  ┆ … ┆ deck ┆ embark_town ┆ alive ┆ alone │\n",
       "│ ---      ┆ ---    ┆ ---    ┆ ---  ┆   ┆ ---  ┆ ---         ┆ ---   ┆ ---   │\n",
       "│ i64      ┆ i64    ┆ str    ┆ f64  ┆   ┆ cat  ┆ str         ┆ str   ┆ bool  │\n",
       "╞══════════╪════════╪════════╪══════╪═══╪══════╪═════════════╪═══════╪═══════╡\n",
       "│ 0        ┆ 1      ┆ male   ┆ 19.0 ┆ … ┆ C    ┆ Southampton ┆ no    ┆ false │\n",
       "│ 1        ┆ 1      ┆ female ┆ null ┆ … ┆ B    ┆ Cherbourg   ┆ yes   ┆ false │\n",
       "│ 1        ┆ 1      ┆ female ┆ 23.0 ┆ … ┆ C    ┆ Southampton ┆ yes   ┆ false │\n",
       "│ 0        ┆ 1      ┆ male   ┆ 24.0 ┆ … ┆ B    ┆ Cherbourg   ┆ no    ┆ false │\n",
       "│ 1        ┆ 1      ┆ female ┆ 58.0 ┆ … ┆ B    ┆ Cherbourg   ┆ yes   ┆ true  │\n",
       "│ …        ┆ …      ┆ …      ┆ …    ┆ … ┆ …    ┆ …           ┆ …     ┆ …     │\n",
       "│ 1        ┆ 1      ┆ female ┆ 21.0 ┆ … ┆ B    ┆ Cherbourg   ┆ yes   ┆ false │\n",
       "│ 1        ┆ 1      ┆ female ┆ 36.0 ┆ … ┆ B    ┆ Southampton ┆ yes   ┆ false │\n",
       "│ 1        ┆ 1      ┆ female ┆ 43.0 ┆ … ┆ B    ┆ Southampton ┆ yes   ┆ false │\n",
       "│ 1        ┆ 1      ┆ male   ┆ 11.0 ┆ … ┆ B    ┆ Southampton ┆ yes   ┆ false │\n",
       "│ 1        ┆ 1      ┆ female ┆ 45.0 ┆ … ┆ null ┆ Southampton ┆ yes   ┆ false │\n",
       "└──────────┴────────┴────────┴──────┴───┴──────┴─────────────┴───────┴───────┘"
      ]
     },
     "execution_count": 30,
     "metadata": {},
     "output_type": "execute_result"
    }
   ],
   "source": [
    "dfp.filter((pl.col('class') == 'First') & (pl.col.fare > 100))"
   ]
  },
  {
   "cell_type": "code",
   "execution_count": 31,
   "id": "4b318e59-a32b-4756-92c6-dee518f4fbee",
   "metadata": {},
   "outputs": [
    {
     "data": {
      "text/html": [
       "<div><style>\n",
       ".dataframe > thead > tr,\n",
       ".dataframe > tbody > tr {\n",
       "  text-align: right;\n",
       "  white-space: pre-wrap;\n",
       "}\n",
       "</style>\n",
       "<small>shape: (53, 15)</small><table border=\"1\" class=\"dataframe\"><thead><tr><th>survived</th><th>pclass</th><th>sex</th><th>age</th><th>sibsp</th><th>parch</th><th>fare</th><th>embarked</th><th>class</th><th>who</th><th>adult_male</th><th>deck</th><th>embark_town</th><th>alive</th><th>alone</th></tr><tr><td>i64</td><td>i64</td><td>str</td><td>f64</td><td>i64</td><td>i64</td><td>f64</td><td>str</td><td>cat</td><td>str</td><td>bool</td><td>cat</td><td>str</td><td>str</td><td>bool</td></tr></thead><tbody><tr><td>0</td><td>1</td><td>&quot;male&quot;</td><td>19.0</td><td>3</td><td>2</td><td>263.0</td><td>&quot;S&quot;</td><td>&quot;First&quot;</td><td>&quot;man&quot;</td><td>true</td><td>&quot;C&quot;</td><td>&quot;Southampton&quot;</td><td>&quot;no&quot;</td><td>false</td></tr><tr><td>1</td><td>1</td><td>&quot;female&quot;</td><td>null</td><td>1</td><td>0</td><td>146.5208</td><td>&quot;C&quot;</td><td>&quot;First&quot;</td><td>&quot;woman&quot;</td><td>false</td><td>&quot;B&quot;</td><td>&quot;Cherbourg&quot;</td><td>&quot;yes&quot;</td><td>false</td></tr><tr><td>1</td><td>1</td><td>&quot;female&quot;</td><td>23.0</td><td>3</td><td>2</td><td>263.0</td><td>&quot;S&quot;</td><td>&quot;First&quot;</td><td>&quot;woman&quot;</td><td>false</td><td>&quot;C&quot;</td><td>&quot;Southampton&quot;</td><td>&quot;yes&quot;</td><td>false</td></tr><tr><td>0</td><td>1</td><td>&quot;male&quot;</td><td>24.0</td><td>0</td><td>1</td><td>247.5208</td><td>&quot;C&quot;</td><td>&quot;First&quot;</td><td>&quot;man&quot;</td><td>true</td><td>&quot;B&quot;</td><td>&quot;Cherbourg&quot;</td><td>&quot;no&quot;</td><td>false</td></tr><tr><td>1</td><td>1</td><td>&quot;female&quot;</td><td>58.0</td><td>0</td><td>0</td><td>146.5208</td><td>&quot;C&quot;</td><td>&quot;First&quot;</td><td>&quot;woman&quot;</td><td>false</td><td>&quot;B&quot;</td><td>&quot;Cherbourg&quot;</td><td>&quot;yes&quot;</td><td>true</td></tr><tr><td>&hellip;</td><td>&hellip;</td><td>&hellip;</td><td>&hellip;</td><td>&hellip;</td><td>&hellip;</td><td>&hellip;</td><td>&hellip;</td><td>&hellip;</td><td>&hellip;</td><td>&hellip;</td><td>&hellip;</td><td>&hellip;</td><td>&hellip;</td><td>&hellip;</td></tr><tr><td>1</td><td>1</td><td>&quot;female&quot;</td><td>21.0</td><td>2</td><td>2</td><td>262.375</td><td>&quot;C&quot;</td><td>&quot;First&quot;</td><td>&quot;woman&quot;</td><td>false</td><td>&quot;B&quot;</td><td>&quot;Cherbourg&quot;</td><td>&quot;yes&quot;</td><td>false</td></tr><tr><td>1</td><td>1</td><td>&quot;female&quot;</td><td>36.0</td><td>1</td><td>2</td><td>120.0</td><td>&quot;S&quot;</td><td>&quot;First&quot;</td><td>&quot;woman&quot;</td><td>false</td><td>&quot;B&quot;</td><td>&quot;Southampton&quot;</td><td>&quot;yes&quot;</td><td>false</td></tr><tr><td>1</td><td>1</td><td>&quot;female&quot;</td><td>43.0</td><td>0</td><td>1</td><td>211.3375</td><td>&quot;S&quot;</td><td>&quot;First&quot;</td><td>&quot;woman&quot;</td><td>false</td><td>&quot;B&quot;</td><td>&quot;Southampton&quot;</td><td>&quot;yes&quot;</td><td>false</td></tr><tr><td>1</td><td>1</td><td>&quot;male&quot;</td><td>11.0</td><td>1</td><td>2</td><td>120.0</td><td>&quot;S&quot;</td><td>&quot;First&quot;</td><td>&quot;child&quot;</td><td>false</td><td>&quot;B&quot;</td><td>&quot;Southampton&quot;</td><td>&quot;yes&quot;</td><td>false</td></tr><tr><td>1</td><td>1</td><td>&quot;female&quot;</td><td>45.0</td><td>1</td><td>1</td><td>164.8667</td><td>&quot;S&quot;</td><td>&quot;First&quot;</td><td>&quot;woman&quot;</td><td>false</td><td>null</td><td>&quot;Southampton&quot;</td><td>&quot;yes&quot;</td><td>false</td></tr></tbody></table></div>"
      ],
      "text/plain": [
       "shape: (53, 15)\n",
       "┌──────────┬────────┬────────┬──────┬───┬──────┬─────────────┬───────┬───────┐\n",
       "│ survived ┆ pclass ┆ sex    ┆ age  ┆ … ┆ deck ┆ embark_town ┆ alive ┆ alone │\n",
       "│ ---      ┆ ---    ┆ ---    ┆ ---  ┆   ┆ ---  ┆ ---         ┆ ---   ┆ ---   │\n",
       "│ i64      ┆ i64    ┆ str    ┆ f64  ┆   ┆ cat  ┆ str         ┆ str   ┆ bool  │\n",
       "╞══════════╪════════╪════════╪══════╪═══╪══════╪═════════════╪═══════╪═══════╡\n",
       "│ 0        ┆ 1      ┆ male   ┆ 19.0 ┆ … ┆ C    ┆ Southampton ┆ no    ┆ false │\n",
       "│ 1        ┆ 1      ┆ female ┆ null ┆ … ┆ B    ┆ Cherbourg   ┆ yes   ┆ false │\n",
       "│ 1        ┆ 1      ┆ female ┆ 23.0 ┆ … ┆ C    ┆ Southampton ┆ yes   ┆ false │\n",
       "│ 0        ┆ 1      ┆ male   ┆ 24.0 ┆ … ┆ B    ┆ Cherbourg   ┆ no    ┆ false │\n",
       "│ 1        ┆ 1      ┆ female ┆ 58.0 ┆ … ┆ B    ┆ Cherbourg   ┆ yes   ┆ true  │\n",
       "│ …        ┆ …      ┆ …      ┆ …    ┆ … ┆ …    ┆ …           ┆ …     ┆ …     │\n",
       "│ 1        ┆ 1      ┆ female ┆ 21.0 ┆ … ┆ B    ┆ Cherbourg   ┆ yes   ┆ false │\n",
       "│ 1        ┆ 1      ┆ female ┆ 36.0 ┆ … ┆ B    ┆ Southampton ┆ yes   ┆ false │\n",
       "│ 1        ┆ 1      ┆ female ┆ 43.0 ┆ … ┆ B    ┆ Southampton ┆ yes   ┆ false │\n",
       "│ 1        ┆ 1      ┆ male   ┆ 11.0 ┆ … ┆ B    ┆ Southampton ┆ yes   ┆ false │\n",
       "│ 1        ┆ 1      ┆ female ┆ 45.0 ┆ … ┆ null ┆ Southampton ┆ yes   ┆ false │\n",
       "└──────────┴────────┴────────┴──────┴───┴──────┴─────────────┴───────┴───────┘"
      ]
     },
     "execution_count": 31,
     "metadata": {},
     "output_type": "execute_result"
    }
   ],
   "source": [
    "dfp.filter((pl.col.pclass == 1) & (pl.col.fare > 100))"
   ]
  },
  {
   "cell_type": "code",
   "execution_count": 33,
   "id": "0fe40412-3ef4-4bcc-9a60-490cb9bc90ce",
   "metadata": {},
   "outputs": [
    {
     "data": {
      "text/html": [
       "<div><style>\n",
       ".dataframe > thead > tr,\n",
       ".dataframe > tbody > tr {\n",
       "  text-align: right;\n",
       "  white-space: pre-wrap;\n",
       "}\n",
       "</style>\n",
       "<small>shape: (891, 16)</small><table border=\"1\" class=\"dataframe\"><thead><tr><th>survived</th><th>pclass</th><th>sex</th><th>age</th><th>sibsp</th><th>parch</th><th>fare</th><th>embarked</th><th>class</th><th>who</th><th>adult_male</th><th>deck</th><th>embark_town</th><th>alive</th><th>alone</th><th>Fareusd</th></tr><tr><td>i64</td><td>i64</td><td>str</td><td>f64</td><td>i64</td><td>i64</td><td>f64</td><td>str</td><td>cat</td><td>str</td><td>bool</td><td>cat</td><td>str</td><td>str</td><td>bool</td><td>f64</td></tr></thead><tbody><tr><td>0</td><td>3</td><td>&quot;male&quot;</td><td>22.0</td><td>1</td><td>0</td><td>7.25</td><td>&quot;S&quot;</td><td>&quot;Third&quot;</td><td>&quot;man&quot;</td><td>true</td><td>null</td><td>&quot;Southampton&quot;</td><td>&quot;no&quot;</td><td>false</td><td>8.7</td></tr><tr><td>1</td><td>1</td><td>&quot;female&quot;</td><td>38.0</td><td>1</td><td>0</td><td>71.2833</td><td>&quot;C&quot;</td><td>&quot;First&quot;</td><td>&quot;woman&quot;</td><td>false</td><td>&quot;C&quot;</td><td>&quot;Cherbourg&quot;</td><td>&quot;yes&quot;</td><td>false</td><td>85.53996</td></tr><tr><td>1</td><td>3</td><td>&quot;female&quot;</td><td>26.0</td><td>0</td><td>0</td><td>7.925</td><td>&quot;S&quot;</td><td>&quot;Third&quot;</td><td>&quot;woman&quot;</td><td>false</td><td>null</td><td>&quot;Southampton&quot;</td><td>&quot;yes&quot;</td><td>true</td><td>9.51</td></tr><tr><td>1</td><td>1</td><td>&quot;female&quot;</td><td>35.0</td><td>1</td><td>0</td><td>53.1</td><td>&quot;S&quot;</td><td>&quot;First&quot;</td><td>&quot;woman&quot;</td><td>false</td><td>&quot;C&quot;</td><td>&quot;Southampton&quot;</td><td>&quot;yes&quot;</td><td>false</td><td>63.72</td></tr><tr><td>0</td><td>3</td><td>&quot;male&quot;</td><td>35.0</td><td>0</td><td>0</td><td>8.05</td><td>&quot;S&quot;</td><td>&quot;Third&quot;</td><td>&quot;man&quot;</td><td>true</td><td>null</td><td>&quot;Southampton&quot;</td><td>&quot;no&quot;</td><td>true</td><td>9.66</td></tr><tr><td>&hellip;</td><td>&hellip;</td><td>&hellip;</td><td>&hellip;</td><td>&hellip;</td><td>&hellip;</td><td>&hellip;</td><td>&hellip;</td><td>&hellip;</td><td>&hellip;</td><td>&hellip;</td><td>&hellip;</td><td>&hellip;</td><td>&hellip;</td><td>&hellip;</td><td>&hellip;</td></tr><tr><td>0</td><td>2</td><td>&quot;male&quot;</td><td>27.0</td><td>0</td><td>0</td><td>13.0</td><td>&quot;S&quot;</td><td>&quot;Second&quot;</td><td>&quot;man&quot;</td><td>true</td><td>null</td><td>&quot;Southampton&quot;</td><td>&quot;no&quot;</td><td>true</td><td>15.6</td></tr><tr><td>1</td><td>1</td><td>&quot;female&quot;</td><td>19.0</td><td>0</td><td>0</td><td>30.0</td><td>&quot;S&quot;</td><td>&quot;First&quot;</td><td>&quot;woman&quot;</td><td>false</td><td>&quot;B&quot;</td><td>&quot;Southampton&quot;</td><td>&quot;yes&quot;</td><td>true</td><td>36.0</td></tr><tr><td>0</td><td>3</td><td>&quot;female&quot;</td><td>null</td><td>1</td><td>2</td><td>23.45</td><td>&quot;S&quot;</td><td>&quot;Third&quot;</td><td>&quot;woman&quot;</td><td>false</td><td>null</td><td>&quot;Southampton&quot;</td><td>&quot;no&quot;</td><td>false</td><td>28.14</td></tr><tr><td>1</td><td>1</td><td>&quot;male&quot;</td><td>26.0</td><td>0</td><td>0</td><td>30.0</td><td>&quot;C&quot;</td><td>&quot;First&quot;</td><td>&quot;man&quot;</td><td>true</td><td>&quot;C&quot;</td><td>&quot;Cherbourg&quot;</td><td>&quot;yes&quot;</td><td>true</td><td>36.0</td></tr><tr><td>0</td><td>3</td><td>&quot;male&quot;</td><td>32.0</td><td>0</td><td>0</td><td>7.75</td><td>&quot;Q&quot;</td><td>&quot;Third&quot;</td><td>&quot;man&quot;</td><td>true</td><td>null</td><td>&quot;Queenstown&quot;</td><td>&quot;no&quot;</td><td>true</td><td>9.3</td></tr></tbody></table></div>"
      ],
      "text/plain": [
       "shape: (891, 16)\n",
       "┌──────────┬────────┬────────┬──────┬───┬─────────────┬───────┬───────┬──────────┐\n",
       "│ survived ┆ pclass ┆ sex    ┆ age  ┆ … ┆ embark_town ┆ alive ┆ alone ┆ Fareusd  │\n",
       "│ ---      ┆ ---    ┆ ---    ┆ ---  ┆   ┆ ---         ┆ ---   ┆ ---   ┆ ---      │\n",
       "│ i64      ┆ i64    ┆ str    ┆ f64  ┆   ┆ str         ┆ str   ┆ bool  ┆ f64      │\n",
       "╞══════════╪════════╪════════╪══════╪═══╪═════════════╪═══════╪═══════╪══════════╡\n",
       "│ 0        ┆ 3      ┆ male   ┆ 22.0 ┆ … ┆ Southampton ┆ no    ┆ false ┆ 8.7      │\n",
       "│ 1        ┆ 1      ┆ female ┆ 38.0 ┆ … ┆ Cherbourg   ┆ yes   ┆ false ┆ 85.53996 │\n",
       "│ 1        ┆ 3      ┆ female ┆ 26.0 ┆ … ┆ Southampton ┆ yes   ┆ true  ┆ 9.51     │\n",
       "│ 1        ┆ 1      ┆ female ┆ 35.0 ┆ … ┆ Southampton ┆ yes   ┆ false ┆ 63.72    │\n",
       "│ 0        ┆ 3      ┆ male   ┆ 35.0 ┆ … ┆ Southampton ┆ no    ┆ true  ┆ 9.66     │\n",
       "│ …        ┆ …      ┆ …      ┆ …    ┆ … ┆ …           ┆ …     ┆ …     ┆ …        │\n",
       "│ 0        ┆ 2      ┆ male   ┆ 27.0 ┆ … ┆ Southampton ┆ no    ┆ true  ┆ 15.6     │\n",
       "│ 1        ┆ 1      ┆ female ┆ 19.0 ┆ … ┆ Southampton ┆ yes   ┆ true  ┆ 36.0     │\n",
       "│ 0        ┆ 3      ┆ female ┆ null ┆ … ┆ Southampton ┆ no    ┆ false ┆ 28.14    │\n",
       "│ 1        ┆ 1      ┆ male   ┆ 26.0 ┆ … ┆ Cherbourg   ┆ yes   ┆ true  ┆ 36.0     │\n",
       "│ 0        ┆ 3      ┆ male   ┆ 32.0 ┆ … ┆ Queenstown  ┆ no    ┆ true  ┆ 9.3      │\n",
       "└──────────┴────────┴────────┴──────┴───┴─────────────┴───────┴───────┴──────────┘"
      ]
     },
     "execution_count": 33,
     "metadata": {},
     "output_type": "execute_result"
    }
   ],
   "source": [
    "dfp = dfp.with_columns((pl.col.fare * 1.2).alias('Fareusd'))\n",
    "dfp"
   ]
  },
  {
   "cell_type": "code",
   "execution_count": 39,
   "id": "1630d349-df19-480a-b4a9-8bef3b7d2b26",
   "metadata": {},
   "outputs": [
    {
     "data": {
      "text/html": [
       "<div><style>\n",
       ".dataframe > thead > tr,\n",
       ".dataframe > tbody > tr {\n",
       "  text-align: right;\n",
       "  white-space: pre-wrap;\n",
       "}\n",
       "</style>\n",
       "<small>shape: (38, 16)</small><table border=\"1\" class=\"dataframe\"><thead><tr><th>survived</th><th>pclass</th><th>sex</th><th>age</th><th>sibsp</th><th>parch</th><th>fare</th><th>embarked</th><th>class</th><th>who</th><th>adult_male</th><th>deck</th><th>embark_town</th><th>alive</th><th>alone</th><th>Fareusd</th></tr><tr><td>i64</td><td>i64</td><td>str</td><td>f64</td><td>i64</td><td>i64</td><td>f64</td><td>str</td><td>cat</td><td>str</td><td>bool</td><td>cat</td><td>str</td><td>str</td><td>bool</td><td>f64</td></tr></thead><tbody><tr><td>1</td><td>2</td><td>&quot;female&quot;</td><td>14.0</td><td>1</td><td>0</td><td>30.0708</td><td>&quot;C&quot;</td><td>&quot;Second&quot;</td><td>&quot;child&quot;</td><td>false</td><td>null</td><td>&quot;Cherbourg&quot;</td><td>&quot;yes&quot;</td><td>false</td><td>36.08496</td></tr><tr><td>1</td><td>3</td><td>&quot;female&quot;</td><td>4.0</td><td>1</td><td>1</td><td>16.7</td><td>&quot;S&quot;</td><td>&quot;Third&quot;</td><td>&quot;child&quot;</td><td>false</td><td>&quot;G&quot;</td><td>&quot;Southampton&quot;</td><td>&quot;yes&quot;</td><td>false</td><td>20.04</td></tr><tr><td>1</td><td>3</td><td>&quot;female&quot;</td><td>15.0</td><td>0</td><td>0</td><td>8.0292</td><td>&quot;Q&quot;</td><td>&quot;Third&quot;</td><td>&quot;child&quot;</td><td>false</td><td>null</td><td>&quot;Queenstown&quot;</td><td>&quot;yes&quot;</td><td>true</td><td>9.63504</td></tr><tr><td>1</td><td>3</td><td>&quot;female&quot;</td><td>14.0</td><td>1</td><td>0</td><td>11.2417</td><td>&quot;C&quot;</td><td>&quot;Third&quot;</td><td>&quot;child&quot;</td><td>false</td><td>null</td><td>&quot;Cherbourg&quot;</td><td>&quot;yes&quot;</td><td>false</td><td>13.49004</td></tr><tr><td>1</td><td>2</td><td>&quot;female&quot;</td><td>3.0</td><td>1</td><td>2</td><td>41.5792</td><td>&quot;C&quot;</td><td>&quot;Second&quot;</td><td>&quot;child&quot;</td><td>false</td><td>null</td><td>&quot;Cherbourg&quot;</td><td>&quot;yes&quot;</td><td>false</td><td>49.89504</td></tr><tr><td>&hellip;</td><td>&hellip;</td><td>&hellip;</td><td>&hellip;</td><td>&hellip;</td><td>&hellip;</td><td>&hellip;</td><td>&hellip;</td><td>&hellip;</td><td>&hellip;</td><td>&hellip;</td><td>&hellip;</td><td>&hellip;</td><td>&hellip;</td><td>&hellip;</td><td>&hellip;</td></tr><tr><td>1</td><td>3</td><td>&quot;female&quot;</td><td>13.0</td><td>0</td><td>0</td><td>7.2292</td><td>&quot;C&quot;</td><td>&quot;Third&quot;</td><td>&quot;child&quot;</td><td>false</td><td>null</td><td>&quot;Cherbourg&quot;</td><td>&quot;yes&quot;</td><td>true</td><td>8.67504</td></tr><tr><td>1</td><td>1</td><td>&quot;female&quot;</td><td>17.0</td><td>1</td><td>0</td><td>57.0</td><td>&quot;S&quot;</td><td>&quot;First&quot;</td><td>&quot;woman&quot;</td><td>false</td><td>&quot;B&quot;</td><td>&quot;Southampton&quot;</td><td>&quot;yes&quot;</td><td>false</td><td>68.4</td></tr><tr><td>1</td><td>3</td><td>&quot;female&quot;</td><td>15.0</td><td>1</td><td>0</td><td>14.4542</td><td>&quot;C&quot;</td><td>&quot;Third&quot;</td><td>&quot;child&quot;</td><td>false</td><td>null</td><td>&quot;Cherbourg&quot;</td><td>&quot;yes&quot;</td><td>false</td><td>17.34504</td></tr><tr><td>1</td><td>1</td><td>&quot;female&quot;</td><td>16.0</td><td>0</td><td>1</td><td>39.4</td><td>&quot;S&quot;</td><td>&quot;First&quot;</td><td>&quot;woman&quot;</td><td>false</td><td>&quot;D&quot;</td><td>&quot;Southampton&quot;</td><td>&quot;yes&quot;</td><td>false</td><td>47.28</td></tr><tr><td>1</td><td>3</td><td>&quot;female&quot;</td><td>15.0</td><td>0</td><td>0</td><td>7.225</td><td>&quot;C&quot;</td><td>&quot;Third&quot;</td><td>&quot;child&quot;</td><td>false</td><td>null</td><td>&quot;Cherbourg&quot;</td><td>&quot;yes&quot;</td><td>true</td><td>8.67</td></tr></tbody></table></div>"
      ],
      "text/plain": [
       "shape: (38, 16)\n",
       "┌──────────┬────────┬────────┬──────┬───┬─────────────┬───────┬───────┬──────────┐\n",
       "│ survived ┆ pclass ┆ sex    ┆ age  ┆ … ┆ embark_town ┆ alive ┆ alone ┆ Fareusd  │\n",
       "│ ---      ┆ ---    ┆ ---    ┆ ---  ┆   ┆ ---         ┆ ---   ┆ ---   ┆ ---      │\n",
       "│ i64      ┆ i64    ┆ str    ┆ f64  ┆   ┆ str         ┆ str   ┆ bool  ┆ f64      │\n",
       "╞══════════╪════════╪════════╪══════╪═══╪═════════════╪═══════╪═══════╪══════════╡\n",
       "│ 1        ┆ 2      ┆ female ┆ 14.0 ┆ … ┆ Cherbourg   ┆ yes   ┆ false ┆ 36.08496 │\n",
       "│ 1        ┆ 3      ┆ female ┆ 4.0  ┆ … ┆ Southampton ┆ yes   ┆ false ┆ 20.04    │\n",
       "│ 1        ┆ 3      ┆ female ┆ 15.0 ┆ … ┆ Queenstown  ┆ yes   ┆ true  ┆ 9.63504  │\n",
       "│ 1        ┆ 3      ┆ female ┆ 14.0 ┆ … ┆ Cherbourg   ┆ yes   ┆ false ┆ 13.49004 │\n",
       "│ 1        ┆ 2      ┆ female ┆ 3.0  ┆ … ┆ Cherbourg   ┆ yes   ┆ false ┆ 49.89504 │\n",
       "│ …        ┆ …      ┆ …      ┆ …    ┆ … ┆ …           ┆ …     ┆ …     ┆ …        │\n",
       "│ 1        ┆ 3      ┆ female ┆ 13.0 ┆ … ┆ Cherbourg   ┆ yes   ┆ true  ┆ 8.67504  │\n",
       "│ 1        ┆ 1      ┆ female ┆ 17.0 ┆ … ┆ Southampton ┆ yes   ┆ false ┆ 68.4     │\n",
       "│ 1        ┆ 3      ┆ female ┆ 15.0 ┆ … ┆ Cherbourg   ┆ yes   ┆ false ┆ 17.34504 │\n",
       "│ 1        ┆ 1      ┆ female ┆ 16.0 ┆ … ┆ Southampton ┆ yes   ┆ false ┆ 47.28    │\n",
       "│ 1        ┆ 3      ┆ female ┆ 15.0 ┆ … ┆ Cherbourg   ┆ yes   ┆ true  ┆ 8.67     │\n",
       "└──────────┴────────┴────────┴──────┴───┴─────────────┴───────┴───────┴──────────┘"
      ]
     },
     "execution_count": 39,
     "metadata": {},
     "output_type": "execute_result"
    }
   ],
   "source": [
    "dfp.filter((pl.col.survived == 1) & (pl.col.sex == 'female') & (pl.col.age < 18))"
   ]
  },
  {
   "cell_type": "raw",
   "id": "aef72e7e-0051-4c9a-b09f-92f27813a8b6",
   "metadata": {},
   "source": [
    "8. Добавьте столбец “количество родственников на борту”.\n",
    "9. Выберите пассажиров, выживших с братьями или сестрами, или супругами."
   ]
  },
  {
   "cell_type": "code",
   "execution_count": 45,
   "id": "a41e8600-d56e-40b7-b95d-401b83c5bf8b",
   "metadata": {},
   "outputs": [
    {
     "data": {
      "text/html": [
       "<div><style>\n",
       ".dataframe > thead > tr,\n",
       ".dataframe > tbody > tr {\n",
       "  text-align: right;\n",
       "  white-space: pre-wrap;\n",
       "}\n",
       "</style>\n",
       "<small>shape: (891, 17)</small><table border=\"1\" class=\"dataframe\"><thead><tr><th>survived</th><th>pclass</th><th>sex</th><th>age</th><th>sibsp</th><th>parch</th><th>fare</th><th>embarked</th><th>class</th><th>who</th><th>adult_male</th><th>deck</th><th>embark_town</th><th>alive</th><th>alone</th><th>Fareusd</th><th>Relateves</th></tr><tr><td>i64</td><td>i64</td><td>str</td><td>f64</td><td>i64</td><td>i64</td><td>f64</td><td>str</td><td>cat</td><td>str</td><td>bool</td><td>cat</td><td>str</td><td>str</td><td>bool</td><td>f64</td><td>i64</td></tr></thead><tbody><tr><td>0</td><td>3</td><td>&quot;male&quot;</td><td>22.0</td><td>1</td><td>0</td><td>7.25</td><td>&quot;S&quot;</td><td>&quot;Third&quot;</td><td>&quot;man&quot;</td><td>true</td><td>null</td><td>&quot;Southampton&quot;</td><td>&quot;no&quot;</td><td>false</td><td>8.7</td><td>1</td></tr><tr><td>1</td><td>1</td><td>&quot;female&quot;</td><td>38.0</td><td>1</td><td>0</td><td>71.2833</td><td>&quot;C&quot;</td><td>&quot;First&quot;</td><td>&quot;woman&quot;</td><td>false</td><td>&quot;C&quot;</td><td>&quot;Cherbourg&quot;</td><td>&quot;yes&quot;</td><td>false</td><td>85.53996</td><td>1</td></tr><tr><td>1</td><td>3</td><td>&quot;female&quot;</td><td>26.0</td><td>0</td><td>0</td><td>7.925</td><td>&quot;S&quot;</td><td>&quot;Third&quot;</td><td>&quot;woman&quot;</td><td>false</td><td>null</td><td>&quot;Southampton&quot;</td><td>&quot;yes&quot;</td><td>true</td><td>9.51</td><td>0</td></tr><tr><td>1</td><td>1</td><td>&quot;female&quot;</td><td>35.0</td><td>1</td><td>0</td><td>53.1</td><td>&quot;S&quot;</td><td>&quot;First&quot;</td><td>&quot;woman&quot;</td><td>false</td><td>&quot;C&quot;</td><td>&quot;Southampton&quot;</td><td>&quot;yes&quot;</td><td>false</td><td>63.72</td><td>1</td></tr><tr><td>0</td><td>3</td><td>&quot;male&quot;</td><td>35.0</td><td>0</td><td>0</td><td>8.05</td><td>&quot;S&quot;</td><td>&quot;Third&quot;</td><td>&quot;man&quot;</td><td>true</td><td>null</td><td>&quot;Southampton&quot;</td><td>&quot;no&quot;</td><td>true</td><td>9.66</td><td>0</td></tr><tr><td>&hellip;</td><td>&hellip;</td><td>&hellip;</td><td>&hellip;</td><td>&hellip;</td><td>&hellip;</td><td>&hellip;</td><td>&hellip;</td><td>&hellip;</td><td>&hellip;</td><td>&hellip;</td><td>&hellip;</td><td>&hellip;</td><td>&hellip;</td><td>&hellip;</td><td>&hellip;</td><td>&hellip;</td></tr><tr><td>0</td><td>2</td><td>&quot;male&quot;</td><td>27.0</td><td>0</td><td>0</td><td>13.0</td><td>&quot;S&quot;</td><td>&quot;Second&quot;</td><td>&quot;man&quot;</td><td>true</td><td>null</td><td>&quot;Southampton&quot;</td><td>&quot;no&quot;</td><td>true</td><td>15.6</td><td>0</td></tr><tr><td>1</td><td>1</td><td>&quot;female&quot;</td><td>19.0</td><td>0</td><td>0</td><td>30.0</td><td>&quot;S&quot;</td><td>&quot;First&quot;</td><td>&quot;woman&quot;</td><td>false</td><td>&quot;B&quot;</td><td>&quot;Southampton&quot;</td><td>&quot;yes&quot;</td><td>true</td><td>36.0</td><td>0</td></tr><tr><td>0</td><td>3</td><td>&quot;female&quot;</td><td>null</td><td>1</td><td>2</td><td>23.45</td><td>&quot;S&quot;</td><td>&quot;Third&quot;</td><td>&quot;woman&quot;</td><td>false</td><td>null</td><td>&quot;Southampton&quot;</td><td>&quot;no&quot;</td><td>false</td><td>28.14</td><td>3</td></tr><tr><td>1</td><td>1</td><td>&quot;male&quot;</td><td>26.0</td><td>0</td><td>0</td><td>30.0</td><td>&quot;C&quot;</td><td>&quot;First&quot;</td><td>&quot;man&quot;</td><td>true</td><td>&quot;C&quot;</td><td>&quot;Cherbourg&quot;</td><td>&quot;yes&quot;</td><td>true</td><td>36.0</td><td>0</td></tr><tr><td>0</td><td>3</td><td>&quot;male&quot;</td><td>32.0</td><td>0</td><td>0</td><td>7.75</td><td>&quot;Q&quot;</td><td>&quot;Third&quot;</td><td>&quot;man&quot;</td><td>true</td><td>null</td><td>&quot;Queenstown&quot;</td><td>&quot;no&quot;</td><td>true</td><td>9.3</td><td>0</td></tr></tbody></table></div>"
      ],
      "text/plain": [
       "shape: (891, 17)\n",
       "┌──────────┬────────┬────────┬──────┬───┬───────┬───────┬──────────┬───────────┐\n",
       "│ survived ┆ pclass ┆ sex    ┆ age  ┆ … ┆ alive ┆ alone ┆ Fareusd  ┆ Relateves │\n",
       "│ ---      ┆ ---    ┆ ---    ┆ ---  ┆   ┆ ---   ┆ ---   ┆ ---      ┆ ---       │\n",
       "│ i64      ┆ i64    ┆ str    ┆ f64  ┆   ┆ str   ┆ bool  ┆ f64      ┆ i64       │\n",
       "╞══════════╪════════╪════════╪══════╪═══╪═══════╪═══════╪══════════╪═══════════╡\n",
       "│ 0        ┆ 3      ┆ male   ┆ 22.0 ┆ … ┆ no    ┆ false ┆ 8.7      ┆ 1         │\n",
       "│ 1        ┆ 1      ┆ female ┆ 38.0 ┆ … ┆ yes   ┆ false ┆ 85.53996 ┆ 1         │\n",
       "│ 1        ┆ 3      ┆ female ┆ 26.0 ┆ … ┆ yes   ┆ true  ┆ 9.51     ┆ 0         │\n",
       "│ 1        ┆ 1      ┆ female ┆ 35.0 ┆ … ┆ yes   ┆ false ┆ 63.72    ┆ 1         │\n",
       "│ 0        ┆ 3      ┆ male   ┆ 35.0 ┆ … ┆ no    ┆ true  ┆ 9.66     ┆ 0         │\n",
       "│ …        ┆ …      ┆ …      ┆ …    ┆ … ┆ …     ┆ …     ┆ …        ┆ …         │\n",
       "│ 0        ┆ 2      ┆ male   ┆ 27.0 ┆ … ┆ no    ┆ true  ┆ 15.6     ┆ 0         │\n",
       "│ 1        ┆ 1      ┆ female ┆ 19.0 ┆ … ┆ yes   ┆ true  ┆ 36.0     ┆ 0         │\n",
       "│ 0        ┆ 3      ┆ female ┆ null ┆ … ┆ no    ┆ false ┆ 28.14    ┆ 3         │\n",
       "│ 1        ┆ 1      ┆ male   ┆ 26.0 ┆ … ┆ yes   ┆ true  ┆ 36.0     ┆ 0         │\n",
       "│ 0        ┆ 3      ┆ male   ┆ 32.0 ┆ … ┆ no    ┆ true  ┆ 9.3      ┆ 0         │\n",
       "└──────────┴────────┴────────┴──────┴───┴───────┴───────┴──────────┴───────────┘"
      ]
     },
     "execution_count": 45,
     "metadata": {},
     "output_type": "execute_result"
    }
   ],
   "source": [
    "dfp = dfp.with_columns((pl.col.sibsp + pl.col.parch).alias(\"Relateves\"))\n",
    "# dfp = dfp.drop(\"Relateves\")\n",
    "dfp"
   ]
  },
  {
   "cell_type": "code",
   "execution_count": 49,
   "id": "37350529-02a1-45ac-b205-740101f3c7bf",
   "metadata": {},
   "outputs": [
    {
     "data": {
      "text/html": [
       "<div><style>\n",
       ".dataframe > thead > tr,\n",
       ".dataframe > tbody > tr {\n",
       "  text-align: right;\n",
       "  white-space: pre-wrap;\n",
       "}\n",
       "</style>\n",
       "<small>shape: (891, 17)</small><table border=\"1\" class=\"dataframe\"><thead><tr><th>survived</th><th>pclass</th><th>sex</th><th>age</th><th>sibsp</th><th>parch</th><th>fare</th><th>embarked</th><th>class</th><th>who</th><th>adult_male</th><th>deck</th><th>embark_town</th><th>alive</th><th>alone</th><th>Fareusd</th><th>Relateves</th></tr><tr><td>i64</td><td>i64</td><td>str</td><td>f64</td><td>i64</td><td>i64</td><td>f64</td><td>str</td><td>cat</td><td>str</td><td>bool</td><td>cat</td><td>str</td><td>str</td><td>bool</td><td>f64</td><td>i64</td></tr></thead><tbody><tr><td>0</td><td>3</td><td>&quot;male&quot;</td><td>22.0</td><td>1</td><td>0</td><td>7.25</td><td>&quot;S&quot;</td><td>&quot;Third&quot;</td><td>&quot;man&quot;</td><td>true</td><td>null</td><td>&quot;Southampton&quot;</td><td>&quot;no&quot;</td><td>false</td><td>8.7</td><td>1</td></tr><tr><td>1</td><td>1</td><td>&quot;female&quot;</td><td>38.0</td><td>1</td><td>0</td><td>71.2833</td><td>&quot;C&quot;</td><td>&quot;First&quot;</td><td>&quot;woman&quot;</td><td>false</td><td>&quot;C&quot;</td><td>&quot;Cherbourg&quot;</td><td>&quot;yes&quot;</td><td>false</td><td>85.53996</td><td>1</td></tr><tr><td>1</td><td>3</td><td>&quot;female&quot;</td><td>26.0</td><td>0</td><td>0</td><td>7.925</td><td>&quot;S&quot;</td><td>&quot;Third&quot;</td><td>&quot;woman&quot;</td><td>false</td><td>null</td><td>&quot;Southampton&quot;</td><td>&quot;yes&quot;</td><td>true</td><td>9.51</td><td>0</td></tr><tr><td>1</td><td>1</td><td>&quot;female&quot;</td><td>35.0</td><td>1</td><td>0</td><td>53.1</td><td>&quot;S&quot;</td><td>&quot;First&quot;</td><td>&quot;woman&quot;</td><td>false</td><td>&quot;C&quot;</td><td>&quot;Southampton&quot;</td><td>&quot;yes&quot;</td><td>false</td><td>63.72</td><td>1</td></tr><tr><td>0</td><td>3</td><td>&quot;male&quot;</td><td>35.0</td><td>0</td><td>0</td><td>8.05</td><td>&quot;S&quot;</td><td>&quot;Third&quot;</td><td>&quot;man&quot;</td><td>true</td><td>null</td><td>&quot;Southampton&quot;</td><td>&quot;no&quot;</td><td>true</td><td>9.66</td><td>0</td></tr><tr><td>&hellip;</td><td>&hellip;</td><td>&hellip;</td><td>&hellip;</td><td>&hellip;</td><td>&hellip;</td><td>&hellip;</td><td>&hellip;</td><td>&hellip;</td><td>&hellip;</td><td>&hellip;</td><td>&hellip;</td><td>&hellip;</td><td>&hellip;</td><td>&hellip;</td><td>&hellip;</td><td>&hellip;</td></tr><tr><td>0</td><td>2</td><td>&quot;male&quot;</td><td>27.0</td><td>0</td><td>0</td><td>13.0</td><td>&quot;S&quot;</td><td>&quot;Second&quot;</td><td>&quot;man&quot;</td><td>true</td><td>null</td><td>&quot;Southampton&quot;</td><td>&quot;no&quot;</td><td>true</td><td>15.6</td><td>0</td></tr><tr><td>1</td><td>1</td><td>&quot;female&quot;</td><td>19.0</td><td>0</td><td>0</td><td>30.0</td><td>&quot;S&quot;</td><td>&quot;First&quot;</td><td>&quot;woman&quot;</td><td>false</td><td>&quot;B&quot;</td><td>&quot;Southampton&quot;</td><td>&quot;yes&quot;</td><td>true</td><td>36.0</td><td>0</td></tr><tr><td>0</td><td>3</td><td>&quot;female&quot;</td><td>null</td><td>1</td><td>2</td><td>23.45</td><td>&quot;S&quot;</td><td>&quot;Third&quot;</td><td>&quot;woman&quot;</td><td>false</td><td>null</td><td>&quot;Southampton&quot;</td><td>&quot;no&quot;</td><td>false</td><td>28.14</td><td>3</td></tr><tr><td>1</td><td>1</td><td>&quot;male&quot;</td><td>26.0</td><td>0</td><td>0</td><td>30.0</td><td>&quot;C&quot;</td><td>&quot;First&quot;</td><td>&quot;man&quot;</td><td>true</td><td>&quot;C&quot;</td><td>&quot;Cherbourg&quot;</td><td>&quot;yes&quot;</td><td>true</td><td>36.0</td><td>0</td></tr><tr><td>0</td><td>3</td><td>&quot;male&quot;</td><td>32.0</td><td>0</td><td>0</td><td>7.75</td><td>&quot;Q&quot;</td><td>&quot;Third&quot;</td><td>&quot;man&quot;</td><td>true</td><td>null</td><td>&quot;Queenstown&quot;</td><td>&quot;no&quot;</td><td>true</td><td>9.3</td><td>0</td></tr></tbody></table></div>"
      ],
      "text/plain": [
       "shape: (891, 17)\n",
       "┌──────────┬────────┬────────┬──────┬───┬───────┬───────┬──────────┬───────────┐\n",
       "│ survived ┆ pclass ┆ sex    ┆ age  ┆ … ┆ alive ┆ alone ┆ Fareusd  ┆ Relateves │\n",
       "│ ---      ┆ ---    ┆ ---    ┆ ---  ┆   ┆ ---   ┆ ---   ┆ ---      ┆ ---       │\n",
       "│ i64      ┆ i64    ┆ str    ┆ f64  ┆   ┆ str   ┆ bool  ┆ f64      ┆ i64       │\n",
       "╞══════════╪════════╪════════╪══════╪═══╪═══════╪═══════╪══════════╪═══════════╡\n",
       "│ 0        ┆ 3      ┆ male   ┆ 22.0 ┆ … ┆ no    ┆ false ┆ 8.7      ┆ 1         │\n",
       "│ 1        ┆ 1      ┆ female ┆ 38.0 ┆ … ┆ yes   ┆ false ┆ 85.53996 ┆ 1         │\n",
       "│ 1        ┆ 3      ┆ female ┆ 26.0 ┆ … ┆ yes   ┆ true  ┆ 9.51     ┆ 0         │\n",
       "│ 1        ┆ 1      ┆ female ┆ 35.0 ┆ … ┆ yes   ┆ false ┆ 63.72    ┆ 1         │\n",
       "│ 0        ┆ 3      ┆ male   ┆ 35.0 ┆ … ┆ no    ┆ true  ┆ 9.66     ┆ 0         │\n",
       "│ …        ┆ …      ┆ …      ┆ …    ┆ … ┆ …     ┆ …     ┆ …        ┆ …         │\n",
       "│ 0        ┆ 2      ┆ male   ┆ 27.0 ┆ … ┆ no    ┆ true  ┆ 15.6     ┆ 0         │\n",
       "│ 1        ┆ 1      ┆ female ┆ 19.0 ┆ … ┆ yes   ┆ true  ┆ 36.0     ┆ 0         │\n",
       "│ 0        ┆ 3      ┆ female ┆ null ┆ … ┆ no    ┆ false ┆ 28.14    ┆ 3         │\n",
       "│ 1        ┆ 1      ┆ male   ┆ 26.0 ┆ … ┆ yes   ┆ true  ┆ 36.0     ┆ 0         │\n",
       "│ 0        ┆ 3      ┆ male   ┆ 32.0 ┆ … ┆ no    ┆ true  ┆ 9.3      ┆ 0         │\n",
       "└──────────┴────────┴────────┴──────┴───┴───────┴───────┴──────────┴───────────┘"
      ]
     },
     "execution_count": 49,
     "metadata": {},
     "output_type": "execute_result"
    }
   ],
   "source": [
    "dfp.filter((pl.col('sibsp') > 0) & (pl.col('survived') > 0))\n",
    "dfp"
   ]
  },
  {
   "cell_type": "raw",
   "id": "ecebaf29-2ab0-4ae2-8df0-9e4510ea2e2f",
   "metadata": {},
   "source": [
    "Датасет book"
   ]
  },
  {
   "cell_type": "code",
   "execution_count": 85,
   "id": "61bc43aa-e674-41bc-9bbe-45e8c50e2fbc",
   "metadata": {},
   "outputs": [
    {
     "name": "stdout",
     "output_type": "stream",
     "text": [
      "shape: (5, 3)\n",
      "┌─────────────┬────────┬──────────────┐\n",
      "│ price       ┆ year   ┆ type         │\n",
      "│ ---         ┆ ---    ┆ ---          │\n",
      "│ f64         ┆ f64    ┆ str          │\n",
      "╞═════════════╪════════╪══════════════╡\n",
      "│ 707.529256  ┆ 2018.0 ┆ encyclopedia │\n",
      "│ 1025.203348 ┆ 1992.0 ┆ textbook     │\n",
      "│ 568.548657  ┆ 1990.0 ┆ encyclopedia │\n",
      "│ 895.109864  ┆ 1995.0 ┆ newspaper    │\n",
      "│ 206.532754  ┆ 1986.0 ┆ book         │\n",
      "└─────────────┴────────┴──────────────┘\n",
      "shape: (9, 4)\n",
      "┌────────────┬─────────────┬─────────────┬──────────┐\n",
      "│ statistic  ┆ price       ┆ year        ┆ type     │\n",
      "│ ---        ┆ ---         ┆ ---         ┆ ---      │\n",
      "│ str        ┆ f64         ┆ f64         ┆ str      │\n",
      "╞════════════╪═════════════╪═════════════╪══════════╡\n",
      "│ count      ┆ 50000.0     ┆ 48749.0     ┆ 50000    │\n",
      "│ null_count ┆ 0.0         ┆ 1251.0      ┆ 0        │\n",
      "│ mean       ┆ 1003.51169  ┆ 2004.470553 ┆ null     │\n",
      "│ std        ┆ 1000.386795 ┆ 11.52278    ┆ null     │\n",
      "│ min        ┆ 0.007358    ┆ 1985.0      ┆ book     │\n",
      "│ 25%        ┆ 292.38947   ┆ 1994.0      ┆ null     │\n",
      "│ 50%        ┆ 697.459594  ┆ 2004.0      ┆ null     │\n",
      "│ 75%        ┆ 1392.214487 ┆ 2014.0      ┆ null     │\n",
      "│ max        ┆ 9777.052347 ┆ 2024.0      ┆ textbook │\n",
      "└────────────┴─────────────┴─────────────┴──────────┘\n"
     ]
    }
   ],
   "source": [
    "df=pl.read_csv('books_data.csv', null_values='NaN')\n",
    "print(df.head())\n",
    "print(df.describe())"
   ]
  },
  {
   "cell_type": "code",
   "execution_count": null,
   "id": "1e006cef-fa8e-4c45-b118-3156b2b720b8",
   "metadata": {},
   "outputs": [],
   "source": [
    "df = df.drop_nulls() # Отбрасываем строки с любыми пропущенными значениям"
   ]
  },
  {
   "cell_type": "code",
   "execution_count": null,
   "id": "772c679d-c684-4c53-a6fd-f1787ceb153e",
   "metadata": {},
   "outputs": [],
   "source": [
    "df = df.fill_null(0) # Замена отсутствующих значений на 0"
   ]
  },
  {
   "cell_type": "code",
   "execution_count": 55,
   "id": "fb1db04c-63a0-46e1-aa21-c3e47bb4f4b9",
   "metadata": {},
   "outputs": [
    {
     "data": {
      "text/html": [
       "<div><style>\n",
       ".dataframe > thead > tr,\n",
       ".dataframe > tbody > tr {\n",
       "  text-align: right;\n",
       "  white-space: pre-wrap;\n",
       "}\n",
       "</style>\n",
       "<small>shape: (9, 5)</small><table border=\"1\" class=\"dataframe\"><thead><tr><th>statistic</th><th>price</th><th>year</th><th>type</th><th>new_year</th></tr><tr><td>str</td><td>f64</td><td>f64</td><td>str</td><td>f64</td></tr></thead><tbody><tr><td>&quot;count&quot;</td><td>50000.0</td><td>48749.0</td><td>&quot;50000&quot;</td><td>50000.0</td></tr><tr><td>&quot;null_count&quot;</td><td>0.0</td><td>1251.0</td><td>&quot;0&quot;</td><td>0.0</td></tr><tr><td>&quot;mean&quot;</td><td>1003.51169</td><td>2004.470553</td><td>null</td><td>2004.4753</td></tr><tr><td>&quot;std&quot;</td><td>1000.386795</td><td>11.52278</td><td>null</td><td>11.518846</td></tr><tr><td>&quot;min&quot;</td><td>0.007358</td><td>1985.0</td><td>&quot;book&quot;</td><td>1985.0</td></tr><tr><td>&quot;25%&quot;</td><td>292.38947</td><td>1994.0</td><td>null</td><td>1994.0</td></tr><tr><td>&quot;50%&quot;</td><td>697.459594</td><td>2004.0</td><td>null</td><td>2004.0</td></tr><tr><td>&quot;75%&quot;</td><td>1392.214487</td><td>2014.0</td><td>null</td><td>2014.0</td></tr><tr><td>&quot;max&quot;</td><td>9777.052347</td><td>2024.0</td><td>&quot;textbook&quot;</td><td>2024.0</td></tr></tbody></table></div>"
      ],
      "text/plain": [
       "shape: (9, 5)\n",
       "┌────────────┬─────────────┬─────────────┬──────────┬───────────┐\n",
       "│ statistic  ┆ price       ┆ year        ┆ type     ┆ new_year  │\n",
       "│ ---        ┆ ---         ┆ ---         ┆ ---      ┆ ---       │\n",
       "│ str        ┆ f64         ┆ f64         ┆ str      ┆ f64       │\n",
       "╞════════════╪═════════════╪═════════════╪══════════╪═══════════╡\n",
       "│ count      ┆ 50000.0     ┆ 48749.0     ┆ 50000    ┆ 50000.0   │\n",
       "│ null_count ┆ 0.0         ┆ 1251.0      ┆ 0        ┆ 0.0       │\n",
       "│ mean       ┆ 1003.51169  ┆ 2004.470553 ┆ null     ┆ 2004.4753 │\n",
       "│ std        ┆ 1000.386795 ┆ 11.52278    ┆ null     ┆ 11.518846 │\n",
       "│ min        ┆ 0.007358    ┆ 1985.0      ┆ book     ┆ 1985.0    │\n",
       "│ 25%        ┆ 292.38947   ┆ 1994.0      ┆ null     ┆ 1994.0    │\n",
       "│ 50%        ┆ 697.459594  ┆ 2004.0      ┆ null     ┆ 2004.0    │\n",
       "│ 75%        ┆ 1392.214487 ┆ 2014.0      ┆ null     ┆ 2014.0    │\n",
       "│ max        ┆ 9777.052347 ┆ 2024.0      ┆ textbook ┆ 2024.0    │\n",
       "└────────────┴─────────────┴─────────────┴──────────┴───────────┘"
      ]
     },
     "execution_count": 55,
     "metadata": {},
     "output_type": "execute_result"
    }
   ],
   "source": [
    "df.with_columns(pl.col('year').forward_fill().alias('new_year')).describe() # Прямое заполнение недостающих значений в определенном столбце\n"
   ]
  },
  {
   "cell_type": "raw",
   "id": "7227dcac-a8bb-43e6-b8be-0dd558d4e500",
   "metadata": {},
   "source": [
    "Датафрейм не меняется в полярсе никогда. Создается новая колонка и на место старой ставится."
   ]
  },
  {
   "cell_type": "code",
   "execution_count": null,
   "id": "2439183a-0584-4cae-ae10-0c579b66e036",
   "metadata": {},
   "outputs": [],
   "source": [
    "df.with_columns(pl.col('year').forward_fill()"
   ]
  },
  {
   "cell_type": "code",
   "execution_count": 59,
   "id": "c835f1ef-0b99-4256-946d-5661a42cbb62",
   "metadata": {},
   "outputs": [
    {
     "data": {
      "text/html": [
       "<div><style>\n",
       ".dataframe > thead > tr,\n",
       ".dataframe > tbody > tr {\n",
       "  text-align: right;\n",
       "  white-space: pre-wrap;\n",
       "}\n",
       "</style>\n",
       "<small>shape: (50_000, 3)</small><table border=\"1\" class=\"dataframe\"><thead><tr><th>price</th><th>year</th><th>type</th></tr><tr><td>f64</td><td>i32</td><td>str</td></tr></thead><tbody><tr><td>707.529256</td><td>2018</td><td>&quot;encyclopedia&quot;</td></tr><tr><td>1025.203348</td><td>1992</td><td>&quot;textbook&quot;</td></tr><tr><td>568.548657</td><td>1990</td><td>&quot;encyclopedia&quot;</td></tr><tr><td>895.109864</td><td>1995</td><td>&quot;newspaper&quot;</td></tr><tr><td>206.532754</td><td>1986</td><td>&quot;book&quot;</td></tr><tr><td>&hellip;</td><td>&hellip;</td><td>&hellip;</td></tr><tr><td>1528.844126</td><td>2008</td><td>&quot;magazine&quot;</td></tr><tr><td>813.274714</td><td>2022</td><td>&quot;newspaper&quot;</td></tr><tr><td>1145.045726</td><td>1986</td><td>&quot;textbook&quot;</td></tr><tr><td>475.132386</td><td>2006</td><td>&quot;encyclopedia&quot;</td></tr><tr><td>121.605306</td><td>2021</td><td>&quot;book&quot;</td></tr></tbody></table></div>"
      ],
      "text/plain": [
       "shape: (50_000, 3)\n",
       "┌─────────────┬──────┬──────────────┐\n",
       "│ price       ┆ year ┆ type         │\n",
       "│ ---         ┆ ---  ┆ ---          │\n",
       "│ f64         ┆ i32  ┆ str          │\n",
       "╞═════════════╪══════╪══════════════╡\n",
       "│ 707.529256  ┆ 2018 ┆ encyclopedia │\n",
       "│ 1025.203348 ┆ 1992 ┆ textbook     │\n",
       "│ 568.548657  ┆ 1990 ┆ encyclopedia │\n",
       "│ 895.109864  ┆ 1995 ┆ newspaper    │\n",
       "│ 206.532754  ┆ 1986 ┆ book         │\n",
       "│ …           ┆ …    ┆ …            │\n",
       "│ 1528.844126 ┆ 2008 ┆ magazine     │\n",
       "│ 813.274714  ┆ 2022 ┆ newspaper    │\n",
       "│ 1145.045726 ┆ 1986 ┆ textbook     │\n",
       "│ 475.132386  ┆ 2006 ┆ encyclopedia │\n",
       "│ 121.605306  ┆ 2021 ┆ book         │\n",
       "└─────────────┴──────┴──────────────┘"
      ]
     },
     "execution_count": 59,
     "metadata": {},
     "output_type": "execute_result"
    }
   ],
   "source": [
    "df = df.with_columns(\n",
    "df['year'].cast(pl.Int32) # or pl.Int64 if larger values are expected\n",
    ")\n",
    "df"
   ]
  },
  {
   "cell_type": "code",
   "execution_count": 60,
   "id": "e2e1a877-3584-40f1-b5c1-2a4264110489",
   "metadata": {},
   "outputs": [
    {
     "data": {
      "text/html": [
       "<div><style>\n",
       ".dataframe > thead > tr,\n",
       ".dataframe > tbody > tr {\n",
       "  text-align: right;\n",
       "  white-space: pre-wrap;\n",
       "}\n",
       "</style>\n",
       "<small>shape: (1, 10)</small><table border=\"1\" class=\"dataframe\"><thead><tr><th>count</th><th>null_count</th><th>mean</th><th>std_dev</th><th>median</th><th>min</th><th>25%</th><th>50%</th><th>75%</th><th>max</th></tr><tr><td>u32</td><td>u32</td><td>f64</td><td>f64</td><td>f64</td><td>f64</td><td>f64</td><td>f64</td><td>f64</td><td>f64</td></tr></thead><tbody><tr><td>50000</td><td>0</td><td>1003.51169</td><td>1000.386795</td><td>697.412055</td><td>0.007358</td><td>292.38947</td><td>697.459594</td><td>1392.214487</td><td>9777.052347</td></tr></tbody></table></div>"
      ],
      "text/plain": [
       "shape: (1, 10)\n",
       "┌───────┬────────────┬────────────┬─────────────┬───┬───────────┬────────────┬─────────────┬─────────────┐\n",
       "│ count ┆ null_count ┆ mean       ┆ std_dev     ┆ … ┆ 25%       ┆ 50%        ┆ 75%         ┆ max         │\n",
       "│ ---   ┆ ---        ┆ ---        ┆ ---         ┆   ┆ ---       ┆ ---        ┆ ---         ┆ ---         │\n",
       "│ u32   ┆ u32        ┆ f64        ┆ f64         ┆   ┆ f64       ┆ f64        ┆ f64         ┆ f64         │\n",
       "╞═══════╪════════════╪════════════╪═════════════╪═══╪═══════════╪════════════╪═════════════╪═════════════╡\n",
       "│ 50000 ┆ 0          ┆ 1003.51169 ┆ 1000.386795 ┆ … ┆ 292.38947 ┆ 697.459594 ┆ 1392.214487 ┆ 9777.052347 │\n",
       "└───────┴────────────┴────────────┴─────────────┴───┴───────────┴────────────┴─────────────┴─────────────┘"
      ]
     },
     "execution_count": 60,
     "metadata": {},
     "output_type": "execute_result"
    }
   ],
   "source": [
    "#вместо такой записи лучше использовать df.describe()\n",
    "df.select([\n",
    "pl.col(\"price\").count().alias(\"count\"),\n",
    "pl.col(\"price\").null_count().alias(\"null_count\"),\n",
    "pl.col(\"price\").mean().alias(\"mean\"),\n",
    "pl.col(\"price\").std().alias(\"std_dev\"),\n",
    "pl.col(\"price\").median().alias(\"median\"),\n",
    "pl.col(\"price\").min().alias(\"min\"),\n",
    "pl.col(\"price\").quantile(0.25).alias(\"25%\"),\n",
    "pl.col(\"price\").quantile(0.5).alias(\"50%\"),\n",
    "pl.col(\"price\").quantile(0.75).alias(\"75%\"),\n",
    "pl.col(\"price\").max().alias(\"max\"),\n",
    "])"
   ]
  },
  {
   "cell_type": "code",
   "execution_count": 61,
   "id": "44ea48a6-e7dc-40e2-946c-ce0578437c25",
   "metadata": {},
   "outputs": [
    {
     "data": {
      "text/html": [
       "<div><style>\n",
       ".dataframe > thead > tr,\n",
       ".dataframe > tbody > tr {\n",
       "  text-align: right;\n",
       "  white-space: pre-wrap;\n",
       "}\n",
       "</style>\n",
       "<small>shape: (9, 4)</small><table border=\"1\" class=\"dataframe\"><thead><tr><th>statistic</th><th>price</th><th>year</th><th>type</th></tr><tr><td>str</td><td>f64</td><td>f64</td><td>str</td></tr></thead><tbody><tr><td>&quot;count&quot;</td><td>50000.0</td><td>48749.0</td><td>&quot;50000&quot;</td></tr><tr><td>&quot;null_count&quot;</td><td>0.0</td><td>1251.0</td><td>&quot;0&quot;</td></tr><tr><td>&quot;mean&quot;</td><td>1003.51169</td><td>2004.470553</td><td>null</td></tr><tr><td>&quot;std&quot;</td><td>1000.386795</td><td>11.52278</td><td>null</td></tr><tr><td>&quot;min&quot;</td><td>0.007358</td><td>1985.0</td><td>&quot;book&quot;</td></tr><tr><td>&quot;25%&quot;</td><td>292.38947</td><td>1994.0</td><td>null</td></tr><tr><td>&quot;50%&quot;</td><td>697.459594</td><td>2004.0</td><td>null</td></tr><tr><td>&quot;75%&quot;</td><td>1392.214487</td><td>2014.0</td><td>null</td></tr><tr><td>&quot;max&quot;</td><td>9777.052347</td><td>2024.0</td><td>&quot;textbook&quot;</td></tr></tbody></table></div>"
      ],
      "text/plain": [
       "shape: (9, 4)\n",
       "┌────────────┬─────────────┬─────────────┬──────────┐\n",
       "│ statistic  ┆ price       ┆ year        ┆ type     │\n",
       "│ ---        ┆ ---         ┆ ---         ┆ ---      │\n",
       "│ str        ┆ f64         ┆ f64         ┆ str      │\n",
       "╞════════════╪═════════════╪═════════════╪══════════╡\n",
       "│ count      ┆ 50000.0     ┆ 48749.0     ┆ 50000    │\n",
       "│ null_count ┆ 0.0         ┆ 1251.0      ┆ 0        │\n",
       "│ mean       ┆ 1003.51169  ┆ 2004.470553 ┆ null     │\n",
       "│ std        ┆ 1000.386795 ┆ 11.52278    ┆ null     │\n",
       "│ min        ┆ 0.007358    ┆ 1985.0      ┆ book     │\n",
       "│ 25%        ┆ 292.38947   ┆ 1994.0      ┆ null     │\n",
       "│ 50%        ┆ 697.459594  ┆ 2004.0      ┆ null     │\n",
       "│ 75%        ┆ 1392.214487 ┆ 2014.0      ┆ null     │\n",
       "│ max        ┆ 9777.052347 ┆ 2024.0      ┆ textbook │\n",
       "└────────────┴─────────────┴─────────────┴──────────┘"
      ]
     },
     "execution_count": 61,
     "metadata": {},
     "output_type": "execute_result"
    }
   ],
   "source": [
    "df.describe()"
   ]
  },
  {
   "cell_type": "code",
   "execution_count": 65,
   "id": "d43a7904-8efa-4349-818a-33ade69d20a1",
   "metadata": {},
   "outputs": [
    {
     "data": {
      "text/html": [
       "<div><style>\n",
       ".dataframe > thead > tr,\n",
       ".dataframe > tbody > tr {\n",
       "  text-align: right;\n",
       "  white-space: pre-wrap;\n",
       "}\n",
       "</style>\n",
       "<small>shape: (5, 4)</small><table border=\"1\" class=\"dataframe\"><thead><tr><th>type</th><th>mean_price</th><th>median_year</th><th>count</th></tr><tr><td>str</td><td>f64</td><td>f64</td><td>u32</td></tr></thead><tbody><tr><td>&quot;newspaper&quot;</td><td>993.727707</td><td>2004.0</td><td>9966</td></tr><tr><td>&quot;textbook&quot;</td><td>999.892266</td><td>2005.0</td><td>10034</td></tr><tr><td>&quot;book&quot;</td><td>1000.189494</td><td>2005.0</td><td>9953</td></tr><tr><td>&quot;magazine&quot;</td><td>1014.972812</td><td>2004.0</td><td>10019</td></tr><tr><td>&quot;encyclopedia&quot;</td><td>1008.703284</td><td>2004.0</td><td>10028</td></tr></tbody></table></div>"
      ],
      "text/plain": [
       "shape: (5, 4)\n",
       "┌──────────────┬─────────────┬─────────────┬───────┐\n",
       "│ type         ┆ mean_price  ┆ median_year ┆ count │\n",
       "│ ---          ┆ ---         ┆ ---         ┆ ---   │\n",
       "│ str          ┆ f64         ┆ f64         ┆ u32   │\n",
       "╞══════════════╪═════════════╪═════════════╪═══════╡\n",
       "│ newspaper    ┆ 993.727707  ┆ 2004.0      ┆ 9966  │\n",
       "│ textbook     ┆ 999.892266  ┆ 2005.0      ┆ 10034 │\n",
       "│ book         ┆ 1000.189494 ┆ 2005.0      ┆ 9953  │\n",
       "│ magazine     ┆ 1014.972812 ┆ 2004.0      ┆ 10019 │\n",
       "│ encyclopedia ┆ 1008.703284 ┆ 2004.0      ┆ 10028 │\n",
       "└──────────────┴─────────────┴─────────────┴───────┘"
      ]
     },
     "execution_count": 65,
     "metadata": {},
     "output_type": "execute_result"
    }
   ],
   "source": [
    "df.group_by(\"type\").agg(\n",
    "[\n",
    "pl.mean(\"price\").alias(\"mean_price\"),\n",
    "pl.median(\"year\").alias(\"median_year\"),\n",
    "pl.len().alias('count')\n",
    "])"
   ]
  },
  {
   "cell_type": "code",
   "execution_count": 70,
   "id": "6dbd31f5-68cf-4a6e-ae84-5642aa7389e1",
   "metadata": {},
   "outputs": [
    {
     "data": {
      "text/html": [
       "<div><style>\n",
       ".dataframe > thead > tr,\n",
       ".dataframe > tbody > tr {\n",
       "  text-align: right;\n",
       "  white-space: pre-wrap;\n",
       "}\n",
       "</style>\n",
       "<small>shape: (41, 6)</small><table border=\"1\" class=\"dataframe\"><thead><tr><th>year</th><th>textbook</th><th>encyclopedia</th><th>magazine</th><th>book</th><th>newspaper</th></tr><tr><td>i32</td><td>u32</td><td>u32</td><td>u32</td><td>u32</td><td>u32</td></tr></thead><tbody><tr><td>1989</td><td>265</td><td>251</td><td>252</td><td>266</td><td>257</td></tr><tr><td>1995</td><td>247</td><td>235</td><td>242</td><td>222</td><td>243</td></tr><tr><td>2013</td><td>249</td><td>222</td><td>244</td><td>225</td><td>222</td></tr><tr><td>2017</td><td>252</td><td>248</td><td>255</td><td>231</td><td>243</td></tr><tr><td>1985</td><td>240</td><td>243</td><td>241</td><td>239</td><td>247</td></tr><tr><td>&hellip;</td><td>&hellip;</td><td>&hellip;</td><td>&hellip;</td><td>&hellip;</td><td>&hellip;</td></tr><tr><td>2004</td><td>258</td><td>256</td><td>243</td><td>213</td><td>255</td></tr><tr><td>2011</td><td>234</td><td>254</td><td>281</td><td>227</td><td>230</td></tr><tr><td>2005</td><td>233</td><td>254</td><td>224</td><td>253</td><td>233</td></tr><tr><td>2012</td><td>260</td><td>255</td><td>227</td><td>238</td><td>246</td></tr><tr><td>2003</td><td>274</td><td>232</td><td>255</td><td>236</td><td>217</td></tr></tbody></table></div>"
      ],
      "text/plain": [
       "shape: (41, 6)\n",
       "┌──────┬──────────┬──────────────┬──────────┬──────┬───────────┐\n",
       "│ year ┆ textbook ┆ encyclopedia ┆ magazine ┆ book ┆ newspaper │\n",
       "│ ---  ┆ ---      ┆ ---          ┆ ---      ┆ ---  ┆ ---       │\n",
       "│ i32  ┆ u32      ┆ u32          ┆ u32      ┆ u32  ┆ u32       │\n",
       "╞══════╪══════════╪══════════════╪══════════╪══════╪═══════════╡\n",
       "│ 1989 ┆ 265      ┆ 251          ┆ 252      ┆ 266  ┆ 257       │\n",
       "│ 1995 ┆ 247      ┆ 235          ┆ 242      ┆ 222  ┆ 243       │\n",
       "│ 2013 ┆ 249      ┆ 222          ┆ 244      ┆ 225  ┆ 222       │\n",
       "│ 2017 ┆ 252      ┆ 248          ┆ 255      ┆ 231  ┆ 243       │\n",
       "│ 1985 ┆ 240      ┆ 243          ┆ 241      ┆ 239  ┆ 247       │\n",
       "│ …    ┆ …        ┆ …            ┆ …        ┆ …    ┆ …         │\n",
       "│ 2004 ┆ 258      ┆ 256          ┆ 243      ┆ 213  ┆ 255       │\n",
       "│ 2011 ┆ 234      ┆ 254          ┆ 281      ┆ 227  ┆ 230       │\n",
       "│ 2005 ┆ 233      ┆ 254          ┆ 224      ┆ 253  ┆ 233       │\n",
       "│ 2012 ┆ 260      ┆ 255          ┆ 227      ┆ 238  ┆ 246       │\n",
       "│ 2003 ┆ 274      ┆ 232          ┆ 255      ┆ 236  ┆ 217       │\n",
       "└──────┴──────────┴──────────────┴──────────┴──────┴───────────┘"
      ]
     },
     "execution_count": 70,
     "metadata": {},
     "output_type": "execute_result"
    }
   ],
   "source": [
    "df.group_by([\"type\", \"year\"]).agg([\n",
    "pl.len()\n",
    "]).pivot(\n",
    "values=\"len\",\n",
    "index=[\"year\"],\n",
    "on=['type'])"
   ]
  },
  {
   "cell_type": "code",
   "execution_count": 68,
   "id": "b710406a-db82-455c-b299-c4f2265cc43f",
   "metadata": {},
   "outputs": [
    {
     "data": {
      "text/html": [
       "<div><style>\n",
       ".dataframe > thead > tr,\n",
       ".dataframe > tbody > tr {\n",
       "  text-align: right;\n",
       "  white-space: pre-wrap;\n",
       "}\n",
       "</style>\n",
       "<small>shape: (205, 3)</small><table border=\"1\" class=\"dataframe\"><thead><tr><th>type</th><th>year</th><th>len</th></tr><tr><td>str</td><td>i32</td><td>u32</td></tr></thead><tbody><tr><td>&quot;book&quot;</td><td>2016</td><td>232</td></tr><tr><td>&quot;textbook&quot;</td><td>2003</td><td>274</td></tr><tr><td>&quot;magazine&quot;</td><td>1994</td><td>245</td></tr><tr><td>&quot;encyclopedia&quot;</td><td>2024</td><td>215</td></tr><tr><td>&quot;book&quot;</td><td>2018</td><td>264</td></tr><tr><td>&hellip;</td><td>&hellip;</td><td>&hellip;</td></tr><tr><td>&quot;magazine&quot;</td><td>2008</td><td>257</td></tr><tr><td>&quot;magazine&quot;</td><td>1985</td><td>241</td></tr><tr><td>&quot;magazine&quot;</td><td>1992</td><td>242</td></tr><tr><td>&quot;textbook&quot;</td><td>1999</td><td>244</td></tr><tr><td>&quot;encyclopedia&quot;</td><td>2011</td><td>254</td></tr></tbody></table></div>"
      ],
      "text/plain": [
       "shape: (205, 3)\n",
       "┌──────────────┬──────┬─────┐\n",
       "│ type         ┆ year ┆ len │\n",
       "│ ---          ┆ ---  ┆ --- │\n",
       "│ str          ┆ i32  ┆ u32 │\n",
       "╞══════════════╪══════╪═════╡\n",
       "│ book         ┆ 2016 ┆ 232 │\n",
       "│ textbook     ┆ 2003 ┆ 274 │\n",
       "│ magazine     ┆ 1994 ┆ 245 │\n",
       "│ encyclopedia ┆ 2024 ┆ 215 │\n",
       "│ book         ┆ 2018 ┆ 264 │\n",
       "│ …            ┆ …    ┆ …   │\n",
       "│ magazine     ┆ 2008 ┆ 257 │\n",
       "│ magazine     ┆ 1985 ┆ 241 │\n",
       "│ magazine     ┆ 1992 ┆ 242 │\n",
       "│ textbook     ┆ 1999 ┆ 244 │\n",
       "│ encyclopedia ┆ 2011 ┆ 254 │\n",
       "└──────────────┴──────┴─────┘"
      ]
     },
     "execution_count": 68,
     "metadata": {},
     "output_type": "execute_result"
    }
   ],
   "source": [
    "df.group_by([\"type\", \"year\"]).agg([\n",
    "pl.len()\n",
    "])"
   ]
  },
  {
   "cell_type": "code",
   "execution_count": 71,
   "id": "d90338b9-3845-4299-a698-b4a56b953680",
   "metadata": {},
   "outputs": [
    {
     "data": {
      "text/html": [
       "<div><style>\n",
       ".dataframe > thead > tr,\n",
       ".dataframe > tbody > tr {\n",
       "  text-align: right;\n",
       "  white-space: pre-wrap;\n",
       "}\n",
       "</style>\n",
       "<small>shape: (50_000, 3)</small><table border=\"1\" class=\"dataframe\"><thead><tr><th>price</th><th>year</th><th>type</th></tr><tr><td>f64</td><td>i32</td><td>str</td></tr></thead><tbody><tr><td>707.529256</td><td>2018</td><td>&quot;encyclopedia&quot;</td></tr><tr><td>1025.203348</td><td>1992</td><td>&quot;textbook&quot;</td></tr><tr><td>568.548657</td><td>1990</td><td>&quot;encyclopedia&quot;</td></tr><tr><td>895.109864</td><td>1995</td><td>&quot;newspaper&quot;</td></tr><tr><td>206.532754</td><td>1986</td><td>&quot;book&quot;</td></tr><tr><td>&hellip;</td><td>&hellip;</td><td>&hellip;</td></tr><tr><td>1528.844126</td><td>2008</td><td>&quot;magazine&quot;</td></tr><tr><td>813.274714</td><td>2022</td><td>&quot;newspaper&quot;</td></tr><tr><td>1145.045726</td><td>1986</td><td>&quot;textbook&quot;</td></tr><tr><td>475.132386</td><td>2006</td><td>&quot;encyclopedia&quot;</td></tr><tr><td>121.605306</td><td>2021</td><td>&quot;book&quot;</td></tr></tbody></table></div>"
      ],
      "text/plain": [
       "shape: (50_000, 3)\n",
       "┌─────────────┬──────┬──────────────┐\n",
       "│ price       ┆ year ┆ type         │\n",
       "│ ---         ┆ ---  ┆ ---          │\n",
       "│ f64         ┆ i32  ┆ str          │\n",
       "╞═════════════╪══════╪══════════════╡\n",
       "│ 707.529256  ┆ 2018 ┆ encyclopedia │\n",
       "│ 1025.203348 ┆ 1992 ┆ textbook     │\n",
       "│ 568.548657  ┆ 1990 ┆ encyclopedia │\n",
       "│ 895.109864  ┆ 1995 ┆ newspaper    │\n",
       "│ 206.532754  ┆ 1986 ┆ book         │\n",
       "│ …           ┆ …    ┆ …            │\n",
       "│ 1528.844126 ┆ 2008 ┆ magazine     │\n",
       "│ 813.274714  ┆ 2022 ┆ newspaper    │\n",
       "│ 1145.045726 ┆ 1986 ┆ textbook     │\n",
       "│ 475.132386  ┆ 2006 ┆ encyclopedia │\n",
       "│ 121.605306  ┆ 2021 ┆ book         │\n",
       "└─────────────┴──────┴──────────────┘"
      ]
     },
     "execution_count": 71,
     "metadata": {},
     "output_type": "execute_result"
    }
   ],
   "source": [
    "df"
   ]
  },
  {
   "cell_type": "code",
   "execution_count": 73,
   "id": "4dbc25a9-51b3-43a9-ba48-01de4a5c33cf",
   "metadata": {},
   "outputs": [
    {
     "data": {
      "text/html": [
       "<div><style>\n",
       ".dataframe > thead > tr,\n",
       ".dataframe > tbody > tr {\n",
       "  text-align: right;\n",
       "  white-space: pre-wrap;\n",
       "}\n",
       "</style>\n",
       "<small>shape: (10, 4)</small><table border=\"1\" class=\"dataframe\"><thead><tr><th>price</th><th>year</th><th>type</th><th>mean_price_by_type</th></tr><tr><td>f64</td><td>i32</td><td>str</td><td>f64</td></tr></thead><tbody><tr><td>707.529256</td><td>2018</td><td>&quot;encyclopedia&quot;</td><td>1008.703284</td></tr><tr><td>1025.203348</td><td>1992</td><td>&quot;textbook&quot;</td><td>999.892266</td></tr><tr><td>568.548657</td><td>1990</td><td>&quot;encyclopedia&quot;</td><td>1008.703284</td></tr><tr><td>895.109864</td><td>1995</td><td>&quot;newspaper&quot;</td><td>993.727707</td></tr><tr><td>206.532754</td><td>1986</td><td>&quot;book&quot;</td><td>1000.189494</td></tr><tr><td>3383.637351</td><td>1995</td><td>&quot;magazine&quot;</td><td>1014.972812</td></tr><tr><td>9.753627</td><td>2011</td><td>&quot;newspaper&quot;</td><td>993.727707</td></tr><tr><td>2809.215763</td><td>1994</td><td>&quot;book&quot;</td><td>1000.189494</td></tr><tr><td>575.332756</td><td>1991</td><td>&quot;encyclopedia&quot;</td><td>1008.703284</td></tr><tr><td>300.534013</td><td>1990</td><td>&quot;textbook&quot;</td><td>999.892266</td></tr></tbody></table></div>"
      ],
      "text/plain": [
       "shape: (10, 4)\n",
       "┌─────────────┬──────┬──────────────┬────────────────────┐\n",
       "│ price       ┆ year ┆ type         ┆ mean_price_by_type │\n",
       "│ ---         ┆ ---  ┆ ---          ┆ ---                │\n",
       "│ f64         ┆ i32  ┆ str          ┆ f64                │\n",
       "╞═════════════╪══════╪══════════════╪════════════════════╡\n",
       "│ 707.529256  ┆ 2018 ┆ encyclopedia ┆ 1008.703284        │\n",
       "│ 1025.203348 ┆ 1992 ┆ textbook     ┆ 999.892266         │\n",
       "│ 568.548657  ┆ 1990 ┆ encyclopedia ┆ 1008.703284        │\n",
       "│ 895.109864  ┆ 1995 ┆ newspaper    ┆ 993.727707         │\n",
       "│ 206.532754  ┆ 1986 ┆ book         ┆ 1000.189494        │\n",
       "│ 3383.637351 ┆ 1995 ┆ magazine     ┆ 1014.972812        │\n",
       "│ 9.753627    ┆ 2011 ┆ newspaper    ┆ 993.727707         │\n",
       "│ 2809.215763 ┆ 1994 ┆ book         ┆ 1000.189494        │\n",
       "│ 575.332756  ┆ 1991 ┆ encyclopedia ┆ 1008.703284        │\n",
       "│ 300.534013  ┆ 1990 ┆ textbook     ┆ 999.892266         │\n",
       "└─────────────┴──────┴──────────────┴────────────────────┘"
      ]
     },
     "execution_count": 73,
     "metadata": {},
     "output_type": "execute_result"
    }
   ],
   "source": [
    "#находим среднее значение цены для каждого типа продукции (оконные функции)\n",
    "df.with_columns([\n",
    "pl.col(\"price\").mean().over(\"type\").alias(\"mean_price_by_type\")\n",
    "]).head(10)"
   ]
  },
  {
   "cell_type": "code",
   "execution_count": 76,
   "id": "7676b8e0-3108-4feb-9189-1be828ffae90",
   "metadata": {},
   "outputs": [
    {
     "data": {
      "text/html": [
       "<div><style>\n",
       ".dataframe > thead > tr,\n",
       ".dataframe > tbody > tr {\n",
       "  text-align: right;\n",
       "  white-space: pre-wrap;\n",
       "}\n",
       "</style>\n",
       "<small>shape: (1, 2)</small><table border=\"1\" class=\"dataframe\"><thead><tr><th>unique</th><th>unique_approx</th></tr><tr><td>u32</td><td>u32</td></tr></thead><tbody><tr><td>41</td><td>41</td></tr></tbody></table></div>"
      ],
      "text/plain": [
       "shape: (1, 2)\n",
       "┌────────┬───────────────┐\n",
       "│ unique ┆ unique_approx │\n",
       "│ ---    ┆ ---           │\n",
       "│ u32    ┆ u32           │\n",
       "╞════════╪═══════════════╡\n",
       "│ 41     ┆ 41            │\n",
       "└────────┴───────────────┘"
      ]
     },
     "execution_count": 76,
     "metadata": {},
     "output_type": "execute_result"
    }
   ],
   "source": [
    "df.select(\n",
    "pl.col(\"year\").n_unique().alias(\"unique\"),\n",
    "pl.approx_n_unique(\"year\").alias(\"unique_approx\"), #приблизительный подсчет кол-ва\n",
    ")"
   ]
  },
  {
   "cell_type": "code",
   "execution_count": null,
   "id": "b930b876-5b9f-4707-bb74-69e0b92056d1",
   "metadata": {},
   "outputs": [],
   "source": [
    "df.filter(~(pl.col(\"category\") == \"High\")) # \"тильда\" означает отрицание, так же как и \"!=\"\n",
    "df.filter((pl.col(\"category\") != \"High\"))"
   ]
  },
  {
   "cell_type": "code",
   "execution_count": 77,
   "id": "3b136069-375e-458f-8c0e-b9e49808a835",
   "metadata": {},
   "outputs": [
    {
     "data": {
      "text/html": [
       "<div><style>\n",
       ".dataframe > thead > tr,\n",
       ".dataframe > tbody > tr {\n",
       "  text-align: right;\n",
       "  white-space: pre-wrap;\n",
       "}\n",
       "</style>\n",
       "<small>shape: (29_295, 3)</small><table border=\"1\" class=\"dataframe\"><thead><tr><th>price</th><th>year</th><th>type</th></tr><tr><td>f64</td><td>i32</td><td>str</td></tr></thead><tbody><tr><td>707.529256</td><td>2018</td><td>&quot;encyclopedia&quot;</td></tr><tr><td>9.753627</td><td>2011</td><td>&quot;newspaper&quot;</td></tr><tr><td>541.135894</td><td>2009</td><td>&quot;magazine&quot;</td></tr><tr><td>312.145612</td><td>2020</td><td>&quot;book&quot;</td></tr><tr><td>899.770155</td><td>2017</td><td>&quot;book&quot;</td></tr><tr><td>&hellip;</td><td>&hellip;</td><td>&hellip;</td></tr><tr><td>2178.280054</td><td>2003</td><td>&quot;encyclopedia&quot;</td></tr><tr><td>1528.844126</td><td>2008</td><td>&quot;magazine&quot;</td></tr><tr><td>813.274714</td><td>2022</td><td>&quot;newspaper&quot;</td></tr><tr><td>475.132386</td><td>2006</td><td>&quot;encyclopedia&quot;</td></tr><tr><td>121.605306</td><td>2021</td><td>&quot;book&quot;</td></tr></tbody></table></div>"
      ],
      "text/plain": [
       "shape: (29_295, 3)\n",
       "┌─────────────┬──────┬──────────────┐\n",
       "│ price       ┆ year ┆ type         │\n",
       "│ ---         ┆ ---  ┆ ---          │\n",
       "│ f64         ┆ i32  ┆ str          │\n",
       "╞═════════════╪══════╪══════════════╡\n",
       "│ 707.529256  ┆ 2018 ┆ encyclopedia │\n",
       "│ 9.753627    ┆ 2011 ┆ newspaper    │\n",
       "│ 541.135894  ┆ 2009 ┆ magazine     │\n",
       "│ 312.145612  ┆ 2020 ┆ book         │\n",
       "│ 899.770155  ┆ 2017 ┆ book         │\n",
       "│ …           ┆ …    ┆ …            │\n",
       "│ 2178.280054 ┆ 2003 ┆ encyclopedia │\n",
       "│ 1528.844126 ┆ 2008 ┆ magazine     │\n",
       "│ 813.274714  ┆ 2022 ┆ newspaper    │\n",
       "│ 475.132386  ┆ 2006 ┆ encyclopedia │\n",
       "│ 121.605306  ┆ 2021 ┆ book         │\n",
       "└─────────────┴──────┴──────────────┘"
      ]
     },
     "execution_count": 77,
     "metadata": {},
     "output_type": "execute_result"
    }
   ],
   "source": [
    "def this_mil(year):\n",
    "    return year > 2000\n",
    "\n",
    "df.filter(this_mil(pl.col('year'))) # аналог WHERE в SQL для сложных условий"
   ]
  },
  {
   "cell_type": "code",
   "execution_count": 79,
   "id": "58011fa6-d3d6-4505-95a2-aa8395865de3",
   "metadata": {},
   "outputs": [
    {
     "data": {
      "text/html": [
       "<div><style>\n",
       ".dataframe > thead > tr,\n",
       ".dataframe > tbody > tr {\n",
       "  text-align: right;\n",
       "  white-space: pre-wrap;\n",
       "}\n",
       "</style>\n",
       "<small>shape: (50_000, 2)</small><table border=\"1\" class=\"dataframe\"><thead><tr><th>year</th><th>conditional</th></tr><tr><td>i32</td><td>bool</td></tr></thead><tbody><tr><td>2018</td><td>true</td></tr><tr><td>1992</td><td>false</td></tr><tr><td>1990</td><td>false</td></tr><tr><td>1995</td><td>false</td></tr><tr><td>1986</td><td>false</td></tr><tr><td>&hellip;</td><td>&hellip;</td></tr><tr><td>2008</td><td>false</td></tr><tr><td>2022</td><td>true</td></tr><tr><td>1986</td><td>false</td></tr><tr><td>2006</td><td>false</td></tr><tr><td>2021</td><td>true</td></tr></tbody></table></div>"
      ],
      "text/plain": [
       "shape: (50_000, 2)\n",
       "┌──────┬─────────────┐\n",
       "│ year ┆ conditional │\n",
       "│ ---  ┆ ---         │\n",
       "│ i32  ┆ bool        │\n",
       "╞══════╪═════════════╡\n",
       "│ 2018 ┆ true        │\n",
       "│ 1992 ┆ false       │\n",
       "│ 1990 ┆ false       │\n",
       "│ 1995 ┆ false       │\n",
       "│ 1986 ┆ false       │\n",
       "│ …    ┆ …           │\n",
       "│ 2008 ┆ false       │\n",
       "│ 2022 ┆ true        │\n",
       "│ 1986 ┆ false       │\n",
       "│ 2006 ┆ false       │\n",
       "│ 2021 ┆ true        │\n",
       "└──────┴─────────────┘"
      ]
     },
     "execution_count": 79,
     "metadata": {},
     "output_type": "execute_result"
    }
   ],
   "source": [
    "df.select(\n",
    "pl.col(\"year\"),\n",
    "pl.when(pl.col(\"year\") > 2014)\n",
    ".then(pl.lit(True))\n",
    ".otherwise(pl.lit(False)) #lit нужна, чтобы отправить булевское значение\n",
    ".alias(\"conditional\"),\n",
    ")"
   ]
  },
  {
   "cell_type": "code",
   "execution_count": 86,
   "id": "f4cd622c-4f87-4a97-8c9c-bc5421935353",
   "metadata": {},
   "outputs": [
    {
     "data": {
      "text/html": [
       "<div><style>\n",
       ".dataframe > thead > tr,\n",
       ".dataframe > tbody > tr {\n",
       "  text-align: right;\n",
       "  white-space: pre-wrap;\n",
       "}\n",
       "</style>\n",
       "<small>shape: (10, 4)</small><table border=\"1\" class=\"dataframe\"><thead><tr><th>price</th><th>year</th><th>type</th><th>sum_price_by_type</th></tr><tr><td>f64</td><td>f64</td><td>str</td><td>f64</td></tr></thead><tbody><tr><td>707.529256</td><td>2018.0</td><td>&quot;encyclopedia&quot;</td><td>1.0115e7</td></tr><tr><td>1025.203348</td><td>1992.0</td><td>&quot;textbook&quot;</td><td>1.0033e7</td></tr><tr><td>568.548657</td><td>1990.0</td><td>&quot;encyclopedia&quot;</td><td>1.0115e7</td></tr><tr><td>895.109864</td><td>1995.0</td><td>&quot;newspaper&quot;</td><td>9.9035e6</td></tr><tr><td>206.532754</td><td>1986.0</td><td>&quot;book&quot;</td><td>9.9549e6</td></tr><tr><td>3383.637351</td><td>1995.0</td><td>&quot;magazine&quot;</td><td>1.0169e7</td></tr><tr><td>9.753627</td><td>2011.0</td><td>&quot;newspaper&quot;</td><td>9.9035e6</td></tr><tr><td>2809.215763</td><td>1994.0</td><td>&quot;book&quot;</td><td>9.9549e6</td></tr><tr><td>575.332756</td><td>1991.0</td><td>&quot;encyclopedia&quot;</td><td>1.0115e7</td></tr><tr><td>300.534013</td><td>1990.0</td><td>&quot;textbook&quot;</td><td>1.0033e7</td></tr></tbody></table></div>"
      ],
      "text/plain": [
       "shape: (10, 4)\n",
       "┌─────────────┬────────┬──────────────┬───────────────────┐\n",
       "│ price       ┆ year   ┆ type         ┆ sum_price_by_type │\n",
       "│ ---         ┆ ---    ┆ ---          ┆ ---               │\n",
       "│ f64         ┆ f64    ┆ str          ┆ f64               │\n",
       "╞═════════════╪════════╪══════════════╪═══════════════════╡\n",
       "│ 707.529256  ┆ 2018.0 ┆ encyclopedia ┆ 1.0115e7          │\n",
       "│ 1025.203348 ┆ 1992.0 ┆ textbook     ┆ 1.0033e7          │\n",
       "│ 568.548657  ┆ 1990.0 ┆ encyclopedia ┆ 1.0115e7          │\n",
       "│ 895.109864  ┆ 1995.0 ┆ newspaper    ┆ 9.9035e6          │\n",
       "│ 206.532754  ┆ 1986.0 ┆ book         ┆ 9.9549e6          │\n",
       "│ 3383.637351 ┆ 1995.0 ┆ magazine     ┆ 1.0169e7          │\n",
       "│ 9.753627    ┆ 2011.0 ┆ newspaper    ┆ 9.9035e6          │\n",
       "│ 2809.215763 ┆ 1994.0 ┆ book         ┆ 9.9549e6          │\n",
       "│ 575.332756  ┆ 1991.0 ┆ encyclopedia ┆ 1.0115e7          │\n",
       "│ 300.534013  ┆ 1990.0 ┆ textbook     ┆ 1.0033e7          │\n",
       "└─────────────┴────────┴──────────────┴───────────────────┘"
      ]
     },
     "execution_count": 86,
     "metadata": {},
     "output_type": "execute_result"
    }
   ],
   "source": [
    "df.with_columns([\n",
    "pl.col(\"price\").sum().over(\"type\").alias(\"sum_price_by_type\")\n",
    "]).head(10)"
   ]
  },
  {
   "cell_type": "code",
   "execution_count": null,
   "id": "572e3bef-a9a0-4002-8787-0fe2b53a3322",
   "metadata": {},
   "outputs": [],
   "source": [
    "Practice"
   ]
  },
  {
   "cell_type": "code",
   "execution_count": 80,
   "id": "5857f1b8-a36a-4b2a-9290-def3a1a9810e",
   "metadata": {},
   "outputs": [
    {
     "data": {
      "text/html": [
       "<div><style>\n",
       ".dataframe > thead > tr,\n",
       ".dataframe > tbody > tr {\n",
       "  text-align: right;\n",
       "  white-space: pre-wrap;\n",
       "}\n",
       "</style>\n",
       "<small>shape: (5, 3)</small><table border=\"1\" class=\"dataframe\"><thead><tr><th>building_type</th><th>sqft</th><th>year</th></tr><tr><td>str</td><td>i64</td><td>i64</td></tr></thead><tbody><tr><td>&quot;A&quot;</td><td>1000</td><td>2009</td></tr><tr><td>&quot;B&quot;</td><td>900</td><td>2007</td></tr><tr><td>&quot;C&quot;</td><td>400</td><td>2005</td></tr><tr><td>&quot;C&quot;</td><td>500</td><td>2001</td></tr><tr><td>&quot;A&quot;</td><td>800</td><td>2010</td></tr></tbody></table></div>"
      ],
      "text/plain": [
       "shape: (5, 3)\n",
       "┌───────────────┬──────┬──────┐\n",
       "│ building_type ┆ sqft ┆ year │\n",
       "│ ---           ┆ ---  ┆ ---  │\n",
       "│ str           ┆ i64  ┆ i64  │\n",
       "╞═══════════════╪══════╪══════╡\n",
       "│ A             ┆ 1000 ┆ 2009 │\n",
       "│ B             ┆ 900  ┆ 2007 │\n",
       "│ C             ┆ 400  ┆ 2005 │\n",
       "│ C             ┆ 500  ┆ 2001 │\n",
       "│ A             ┆ 800  ┆ 2010 │\n",
       "└───────────────┴──────┴──────┘"
      ]
     },
     "execution_count": 80,
     "metadata": {},
     "output_type": "execute_result"
    }
   ],
   "source": [
    "data = {'building_type': ['A', 'B', 'C', 'C', 'A'],\n",
    "        'sqft': [1000, 900, 400, 500, 800],\n",
    "        'year': [2009, 2007, 2005, 2001, 2010]}\n",
    "df = pl.DataFrame(data)\n",
    "df"
   ]
  },
  {
   "cell_type": "code",
   "execution_count": 83,
   "id": "cd785993-7446-499e-9cdc-4780d8652ff0",
   "metadata": {},
   "outputs": [
    {
     "data": {
      "text/html": [
       "<div><style>\n",
       ".dataframe > thead > tr,\n",
       ".dataframe > tbody > tr {\n",
       "  text-align: right;\n",
       "  white-space: pre-wrap;\n",
       "}\n",
       "</style>\n",
       "<small>shape: (3, 4)</small><table border=\"1\" class=\"dataframe\"><thead><tr><th>building_type</th><th>mean_sqft</th><th>median_year</th><th>len</th></tr><tr><td>str</td><td>f64</td><td>f64</td><td>u32</td></tr></thead><tbody><tr><td>&quot;A&quot;</td><td>900.0</td><td>2009.5</td><td>2</td></tr><tr><td>&quot;B&quot;</td><td>900.0</td><td>2007.0</td><td>1</td></tr><tr><td>&quot;C&quot;</td><td>450.0</td><td>2003.0</td><td>2</td></tr></tbody></table></div>"
      ],
      "text/plain": [
       "shape: (3, 4)\n",
       "┌───────────────┬───────────┬─────────────┬─────┐\n",
       "│ building_type ┆ mean_sqft ┆ median_year ┆ len │\n",
       "│ ---           ┆ ---       ┆ ---         ┆ --- │\n",
       "│ str           ┆ f64       ┆ f64         ┆ u32 │\n",
       "╞═══════════════╪═══════════╪═════════════╪═════╡\n",
       "│ A             ┆ 900.0     ┆ 2009.5      ┆ 2   │\n",
       "│ B             ┆ 900.0     ┆ 2007.0      ┆ 1   │\n",
       "│ C             ┆ 450.0     ┆ 2003.0      ┆ 2   │\n",
       "└───────────────┴───────────┴─────────────┴─────┘"
      ]
     },
     "execution_count": 83,
     "metadata": {},
     "output_type": "execute_result"
    }
   ],
   "source": [
    "df.group_by('building_type').agg([\n",
    "    pl.col.sqft.mean().alias('mean_sqft'), \n",
    "    pl.col.year.median().alias('median_year'),\n",
    "    pl.len()])"
   ]
  },
  {
   "cell_type": "raw",
   "id": "849ee0ba-dedd-42e8-866e-61a3cd49c511",
   "metadata": {},
   "source": [
    "1. Загрузите данные на свой жёсткий диск.\n",
    "2. Считайте их в polars.\n",
    "3. Определите тип данных каждого столбца.\n",
    "4. Поменяйте типы данных на необходимые (замените строку на дату).\n",
    "5. Постройте таблицу описательных статистик.\n",
    "6. Посчитайте уникальное количество брендов двумя разными способами и\n",
    "покажите их разницу.\n",
    "7. Замените отсутствующие бренды значением по выбору и убедитесь, что\n",
    "описательная статистика поменялась.\n",
    "8. Возьмите случайные 5000 строк из датасета и постройте таблицу:\n",
    "9. Постройте pivot таблицу следующего вида:\n",
    "10. На основе оконных функций постройте поле, состоящее из средней цены в\n",
    "разбивке по бренду."
   ]
  },
  {
   "cell_type": "code",
   "execution_count": 94,
   "id": "8c5b6746-c69e-4411-80f3-9eb516999e4f",
   "metadata": {},
   "outputs": [
    {
     "data": {
      "text/html": [
       "<div><style>\n",
       ".dataframe > thead > tr,\n",
       ".dataframe > tbody > tr {\n",
       "  text-align: right;\n",
       "  white-space: pre-wrap;\n",
       "}\n",
       "</style>\n",
       "<small>shape: (3, 9)</small><table border=\"1\" class=\"dataframe\"><thead><tr><th>event_time</th><th>event_type</th><th>product_id</th><th>category_id</th><th>category_code</th><th>brand</th><th>price</th><th>user_id</th><th>user_session</th></tr><tr><td>str</td><td>str</td><td>i64</td><td>i64</td><td>str</td><td>str</td><td>f64</td><td>i64</td><td>str</td></tr></thead><tbody><tr><td>&quot;2020-09-24 11:57:06 UTC&quot;</td><td>&quot;view&quot;</td><td>1996170</td><td>2144415922528452715</td><td>&quot;electronics.telephone&quot;</td><td>null</td><td>31.9</td><td>1515915625519388267</td><td>&quot;LJuJVLEjPT&quot;</td></tr><tr><td>&quot;2020-09-24 11:57:26 UTC&quot;</td><td>&quot;view&quot;</td><td>139905</td><td>2144415926932472027</td><td>&quot;computers.components.cooler&quot;</td><td>&quot;zalman&quot;</td><td>17.16</td><td>1515915625519380411</td><td>&quot;tdicluNnRY&quot;</td></tr><tr><td>&quot;2020-09-24 11:57:27 UTC&quot;</td><td>&quot;view&quot;</td><td>215454</td><td>2144415927158964449</td><td>null</td><td>null</td><td>9.81</td><td>1515915625513238515</td><td>&quot;4TMArHtXQy&quot;</td></tr></tbody></table></div>"
      ],
      "text/plain": [
       "shape: (3, 9)\n",
       "┌──────────────┬────────────┬────────────┬────────────────────┬───┬────────┬───────┬────────────────────┬──────────────┐\n",
       "│ event_time   ┆ event_type ┆ product_id ┆ category_id        ┆ … ┆ brand  ┆ price ┆ user_id            ┆ user_session │\n",
       "│ ---          ┆ ---        ┆ ---        ┆ ---                ┆   ┆ ---    ┆ ---   ┆ ---                ┆ ---          │\n",
       "│ str          ┆ str        ┆ i64        ┆ i64                ┆   ┆ str    ┆ f64   ┆ i64                ┆ str          │\n",
       "╞══════════════╪════════════╪════════════╪════════════════════╪═══╪════════╪═══════╪════════════════════╪══════════════╡\n",
       "│ 2020-09-24   ┆ view       ┆ 1996170    ┆ 214441592252845271 ┆ … ┆ null   ┆ 31.9  ┆ 151591562551938826 ┆ LJuJVLEjPT   │\n",
       "│ 11:57:06 UTC ┆            ┆            ┆ 5                  ┆   ┆        ┆       ┆ 7                  ┆              │\n",
       "│ 2020-09-24   ┆ view       ┆ 139905     ┆ 214441592693247202 ┆ … ┆ zalman ┆ 17.16 ┆ 151591562551938041 ┆ tdicluNnRY   │\n",
       "│ 11:57:26 UTC ┆            ┆            ┆ 7                  ┆   ┆        ┆       ┆ 1                  ┆              │\n",
       "│ 2020-09-24   ┆ view       ┆ 215454     ┆ 214441592715896444 ┆ … ┆ null   ┆ 9.81  ┆ 151591562551323851 ┆ 4TMArHtXQy   │\n",
       "│ 11:57:27 UTC ┆            ┆            ┆ 9                  ┆   ┆        ┆       ┆ 5                  ┆              │\n",
       "└──────────────┴────────────┴────────────┴────────────────────┴───┴────────┴───────┴────────────────────┴──────────────┘"
      ]
     },
     "metadata": {},
     "output_type": "display_data"
    },
    {
     "data": {
      "text/html": [
       "<div><style>\n",
       ".dataframe > thead > tr,\n",
       ".dataframe > tbody > tr {\n",
       "  text-align: right;\n",
       "  white-space: pre-wrap;\n",
       "}\n",
       "</style>\n",
       "<small>shape: (9, 10)</small><table border=\"1\" class=\"dataframe\"><thead><tr><th>statistic</th><th>event_time</th><th>event_type</th><th>product_id</th><th>category_id</th><th>category_code</th><th>brand</th><th>price</th><th>user_id</th><th>user_session</th></tr><tr><td>str</td><td>str</td><td>str</td><td>f64</td><td>f64</td><td>str</td><td>str</td><td>f64</td><td>f64</td><td>str</td></tr></thead><tbody><tr><td>&quot;count&quot;</td><td>&quot;885129&quot;</td><td>&quot;885129&quot;</td><td>885129.0</td><td>885129.0</td><td>&quot;648910&quot;</td><td>&quot;672765&quot;</td><td>885129.0</td><td>885129.0</td><td>&quot;884964&quot;</td></tr><tr><td>&quot;null_count&quot;</td><td>&quot;0&quot;</td><td>&quot;0&quot;</td><td>0.0</td><td>0.0</td><td>&quot;236219&quot;</td><td>&quot;212364&quot;</td><td>0.0</td><td>0.0</td><td>&quot;165&quot;</td></tr><tr><td>&quot;mean&quot;</td><td>null</td><td>null</td><td>1.9066e6</td><td>2.1444e18</td><td>null</td><td>null</td><td>146.328713</td><td>1.5159e18</td><td>null</td></tr><tr><td>&quot;std&quot;</td><td>null</td><td>null</td><td>1.4587e6</td><td>6.1651e14</td><td>null</td><td>null</td><td>296.807683</td><td>3.5549e7</td><td>null</td></tr><tr><td>&quot;min&quot;</td><td>&quot;2020-09-24 11:57:06 UTC&quot;</td><td>&quot;cart&quot;</td><td>102.0</td><td>2.1444e18</td><td>&quot;accessories.bag&quot;</td><td>&quot;a-data&quot;</td><td>0.22</td><td>1.5159e18</td><td>&quot;000AMhYaQu&quot;</td></tr><tr><td>&quot;25%&quot;</td><td>null</td><td>null</td><td>698803.0</td><td>2.1444e18</td><td>null</td><td>null</td><td>26.46</td><td>1.5159e18</td><td>null</td></tr><tr><td>&quot;50%&quot;</td><td>null</td><td>null</td><td>1.452883e6</td><td>2.1444e18</td><td>null</td><td>null</td><td>65.71</td><td>1.5159e18</td><td>null</td></tr><tr><td>&quot;75%&quot;</td><td>null</td><td>null</td><td>3.721194e6</td><td>2.1444e18</td><td>null</td><td>null</td><td>190.49</td><td>1.5159e18</td><td>null</td></tr><tr><td>&quot;max&quot;</td><td>&quot;2021-02-28 23:59:09 UTC&quot;</td><td>&quot;view&quot;</td><td>4.18388e6</td><td>2.2278e18</td><td>&quot;stationery.stapler&quot;</td><td>&quot;zyxel&quot;</td><td>64771.06</td><td>1.5159e18</td><td>&quot;zzzYMiLcf7&quot;</td></tr></tbody></table></div>"
      ],
      "text/plain": [
       "shape: (9, 10)\n",
       "┌────────────┬─────────────────────────┬────────────┬────────────┬───┬────────┬────────────┬───────────┬──────────────┐\n",
       "│ statistic  ┆ event_time              ┆ event_type ┆ product_id ┆ … ┆ brand  ┆ price      ┆ user_id   ┆ user_session │\n",
       "│ ---        ┆ ---                     ┆ ---        ┆ ---        ┆   ┆ ---    ┆ ---        ┆ ---       ┆ ---          │\n",
       "│ str        ┆ str                     ┆ str        ┆ f64        ┆   ┆ str    ┆ f64        ┆ f64       ┆ str          │\n",
       "╞════════════╪═════════════════════════╪════════════╪════════════╪═══╪════════╪════════════╪═══════════╪══════════════╡\n",
       "│ count      ┆ 885129                  ┆ 885129     ┆ 885129.0   ┆ … ┆ 672765 ┆ 885129.0   ┆ 885129.0  ┆ 884964       │\n",
       "│ null_count ┆ 0                       ┆ 0          ┆ 0.0        ┆ … ┆ 212364 ┆ 0.0        ┆ 0.0       ┆ 165          │\n",
       "│ mean       ┆ null                    ┆ null       ┆ 1.9066e6   ┆ … ┆ null   ┆ 146.328713 ┆ 1.5159e18 ┆ null         │\n",
       "│ std        ┆ null                    ┆ null       ┆ 1.4587e6   ┆ … ┆ null   ┆ 296.807683 ┆ 3.5549e7  ┆ null         │\n",
       "│ min        ┆ 2020-09-24 11:57:06 UTC ┆ cart       ┆ 102.0      ┆ … ┆ a-data ┆ 0.22       ┆ 1.5159e18 ┆ 000AMhYaQu   │\n",
       "│ 25%        ┆ null                    ┆ null       ┆ 698803.0   ┆ … ┆ null   ┆ 26.46      ┆ 1.5159e18 ┆ null         │\n",
       "│ 50%        ┆ null                    ┆ null       ┆ 1.452883e6 ┆ … ┆ null   ┆ 65.71      ┆ 1.5159e18 ┆ null         │\n",
       "│ 75%        ┆ null                    ┆ null       ┆ 3.721194e6 ┆ … ┆ null   ┆ 190.49     ┆ 1.5159e18 ┆ null         │\n",
       "│ max        ┆ 2021-02-28 23:59:09 UTC ┆ view       ┆ 4.18388e6  ┆ … ┆ zyxel  ┆ 64771.06   ┆ 1.5159e18 ┆ zzzYMiLcf7   │\n",
       "└────────────┴─────────────────────────┴────────────┴────────────┴───┴────────┴────────────┴───────────┴──────────────┘"
      ]
     },
     "execution_count": 94,
     "metadata": {},
     "output_type": "execute_result"
    }
   ],
   "source": [
    "data = pl.read_csv('events.csv',\n",
    "null_values='NaN')\n",
    "display(data.head(3))\n",
    "data.describe()"
   ]
  },
  {
   "cell_type": "code",
   "execution_count": 99,
   "id": "732191e8-ee93-4488-8074-4025112f8fbb",
   "metadata": {},
   "outputs": [
    {
     "data": {
      "text/html": [
       "<div><style>\n",
       ".dataframe > thead > tr,\n",
       ".dataframe > tbody > tr {\n",
       "  text-align: right;\n",
       "  white-space: pre-wrap;\n",
       "}\n",
       "</style>\n",
       "<small>shape: (9, 1)</small><table border=\"1\" class=\"dataframe\"><thead><tr><th>event_time</th></tr><tr><td>str</td></tr></thead><tbody><tr><td>&quot;885129&quot;</td></tr><tr><td>&quot;0&quot;</td></tr><tr><td>&quot;2020-12-14 11:05:10.680594&quot;</td></tr><tr><td>null</td></tr><tr><td>&quot;2020-09-24 11:57:06&quot;</td></tr><tr><td>&quot;2020-11-05 20:48:22&quot;</td></tr><tr><td>&quot;2020-12-14 15:34:14&quot;</td></tr><tr><td>&quot;2021-01-23 07:16:12&quot;</td></tr><tr><td>&quot;2021-02-28 23:59:09&quot;</td></tr></tbody></table></div>"
      ],
      "text/plain": [
       "shape: (9, 1)\n",
       "┌────────────────────────────┐\n",
       "│ event_time                 │\n",
       "│ ---                        │\n",
       "│ str                        │\n",
       "╞════════════════════════════╡\n",
       "│ 885129                     │\n",
       "│ 0                          │\n",
       "│ 2020-12-14 11:05:10.680594 │\n",
       "│ null                       │\n",
       "│ 2020-09-24 11:57:06        │\n",
       "│ 2020-11-05 20:48:22        │\n",
       "│ 2020-12-14 15:34:14        │\n",
       "│ 2021-01-23 07:16:12        │\n",
       "│ 2021-02-28 23:59:09        │\n",
       "└────────────────────────────┘"
      ]
     },
     "execution_count": 99,
     "metadata": {},
     "output_type": "execute_result"
    }
   ],
   "source": [
    "data.with_columns(pl.col.event_time.str.to_datetime('%Y-%m-%d %H:%M:%S UTC')).describe()\\\n",
    ".select('event_time')\n",
    "\n"
   ]
  },
  {
   "cell_type": "code",
   "execution_count": 100,
   "id": "053e4e6d-f72e-416b-ae0e-5cfb79a69ae5",
   "metadata": {},
   "outputs": [
    {
     "data": {
      "text/html": [
       "<div><style>\n",
       ".dataframe > thead > tr,\n",
       ".dataframe > tbody > tr {\n",
       "  text-align: right;\n",
       "  white-space: pre-wrap;\n",
       "}\n",
       "</style>\n",
       "<small>shape: (1, 2)</small><table border=\"1\" class=\"dataframe\"><thead><tr><th>brand</th><th>Brand_approx</th></tr><tr><td>u32</td><td>u32</td></tr></thead><tbody><tr><td>1000</td><td>1003</td></tr></tbody></table></div>"
      ],
      "text/plain": [
       "shape: (1, 2)\n",
       "┌───────┬──────────────┐\n",
       "│ brand ┆ Brand_approx │\n",
       "│ ---   ┆ ---          │\n",
       "│ u32   ┆ u32          │\n",
       "╞═══════╪══════════════╡\n",
       "│ 1000  ┆ 1003         │\n",
       "└───────┴──────────────┘"
      ]
     },
     "execution_count": 100,
     "metadata": {},
     "output_type": "execute_result"
    }
   ],
   "source": [
    "data.select(pl.col.brand.n_unique(), pl.col.brand.approx_n_unique().alias('Brand_approx'))"
   ]
  },
  {
   "cell_type": "code",
   "execution_count": 103,
   "id": "88c89f9a-cad4-4541-a4dc-0744d8a5d40d",
   "metadata": {},
   "outputs": [],
   "source": [
    "df  = data.with_columns(pl.col.brand.fill_null('zyxel'))"
   ]
  },
  {
   "cell_type": "code",
   "execution_count": 104,
   "id": "ba3aa30a-1ed1-4df4-b5ff-bba0cb0fa127",
   "metadata": {},
   "outputs": [
    {
     "data": {
      "text/html": [
       "<div><style>\n",
       ".dataframe > thead > tr,\n",
       ".dataframe > tbody > tr {\n",
       "  text-align: right;\n",
       "  white-space: pre-wrap;\n",
       "}\n",
       "</style>\n",
       "<small>shape: (1, 2)</small><table border=\"1\" class=\"dataframe\"><thead><tr><th>brand</th><th>Brand_approx</th></tr><tr><td>u32</td><td>u32</td></tr></thead><tbody><tr><td>999</td><td>1002</td></tr></tbody></table></div>"
      ],
      "text/plain": [
       "shape: (1, 2)\n",
       "┌───────┬──────────────┐\n",
       "│ brand ┆ Brand_approx │\n",
       "│ ---   ┆ ---          │\n",
       "│ u32   ┆ u32          │\n",
       "╞═══════╪══════════════╡\n",
       "│ 999   ┆ 1002         │\n",
       "└───────┴──────────────┘"
      ]
     },
     "execution_count": 104,
     "metadata": {},
     "output_type": "execute_result"
    }
   ],
   "source": [
    "df.select(pl.col.brand.n_unique(), pl.col.brand.approx_n_unique().alias('Brand_approx'))"
   ]
  },
  {
   "cell_type": "code",
   "execution_count": null,
   "id": "d66e998b-c8e7-49cd-9ff7-fdb9bcb564d1",
   "metadata": {},
   "outputs": [],
   "source": []
  }
 ],
 "metadata": {
  "kernelspec": {
   "display_name": "Python 3 (ipykernel)",
   "language": "python",
   "name": "python3"
  },
  "language_info": {
   "codemirror_mode": {
    "name": "ipython",
    "version": 3
   },
   "file_extension": ".py",
   "mimetype": "text/x-python",
   "name": "python",
   "nbconvert_exporter": "python",
   "pygments_lexer": "ipython3",
   "version": "3.12.5"
  }
 },
 "nbformat": 4,
 "nbformat_minor": 5
}
