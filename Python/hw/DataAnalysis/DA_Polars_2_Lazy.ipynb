{
 "cells": [
  {
   "cell_type": "code",
   "execution_count": null,
   "id": "05faa7ae-29cc-426c-a286-ef03ad953492",
   "metadata": {},
   "outputs": [],
   "source": [
    "Урок 12-1\n",
    "Polars: работа с несколькими\n",
    "таблицами"
   ]
  },
  {
   "cell_type": "code",
   "execution_count": 2,
   "id": "24afb77a-e0c1-482e-9083-eb00097af2e5",
   "metadata": {},
   "outputs": [],
   "source": [
    "import polars as pl\n",
    "import numpy as np"
   ]
  },
  {
   "cell_type": "code",
   "execution_count": 3,
   "id": "99d5fe69-8821-41b4-af69-792aa54510db",
   "metadata": {},
   "outputs": [
    {
     "data": {
      "text/html": [
       "<div><style>\n",
       ".dataframe > thead > tr,\n",
       ".dataframe > tbody > tr {\n",
       "  text-align: right;\n",
       "  white-space: pre-wrap;\n",
       "}\n",
       "</style>\n",
       "<small>shape: (100, 2)</small><table border=\"1\" class=\"dataframe\"><thead><tr><th>user_id</th><th>score</th></tr><tr><td>i32</td><td>i32</td></tr></thead><tbody><tr><td>62</td><td>672</td></tr><tr><td>57</td><td>350</td></tr><tr><td>6</td><td>614</td></tr><tr><td>28</td><td>497</td></tr><tr><td>28</td><td>810</td></tr><tr><td>&hellip;</td><td>&hellip;</td></tr><tr><td>82</td><td>944</td></tr><tr><td>1</td><td>236</td></tr><tr><td>11</td><td>479</td></tr><tr><td>92</td><td>548</td></tr><tr><td>57</td><td>696</td></tr></tbody></table></div>"
      ],
      "text/plain": [
       "shape: (100, 2)\n",
       "┌─────────┬───────┐\n",
       "│ user_id ┆ score │\n",
       "│ ---     ┆ ---   │\n",
       "│ i32     ┆ i32   │\n",
       "╞═════════╪═══════╡\n",
       "│ 62      ┆ 672   │\n",
       "│ 57      ┆ 350   │\n",
       "│ 6       ┆ 614   │\n",
       "│ 28      ┆ 497   │\n",
       "│ 28      ┆ 810   │\n",
       "│ …       ┆ …     │\n",
       "│ 82      ┆ 944   │\n",
       "│ 1       ┆ 236   │\n",
       "│ 11      ┆ 479   │\n",
       "│ 92      ┆ 548   │\n",
       "│ 57      ┆ 696   │\n",
       "└─────────┴───────┘"
      ]
     },
     "execution_count": 3,
     "metadata": {},
     "output_type": "execute_result"
    }
   ],
   "source": [
    "# Create a random seed for reproducibility\n",
    "np.random.seed(42)\n",
    "# Dataset 1: User information\n",
    "data1 = {\n",
    "'user_id': np.arange(1, 101),\n",
    "'name': np.random.choice(['Alice', 'Bob', 'Charlie', 'David'], 100)\n",
    "}\n",
    "df1 = pl.DataFrame(data1)\n",
    "# Dataset 2: User age information\n",
    "data2 = {\n",
    "'user_id': np.arange(51, 151),\n",
    "'age': np.random.randint(18, 65, size=100)\n",
    "}\n",
    "df2 = pl.DataFrame(data2)\n",
    "# Dataset 3: User scores\n",
    "data3 = {\n",
    "'user_id': np.random.randint(1, 101, size=100),\n",
    "'score': np.random.randint(200, 1000, size=100)\n",
    "}\n",
    "df3 = pl.DataFrame(data3)\n",
    "df3"
   ]
  },
  {
   "cell_type": "code",
   "execution_count": null,
   "id": "bcdfe50c-4f01-4a8f-b292-8c2c8ed1d55a",
   "metadata": {},
   "outputs": [],
   "source": [
    "1. Inner Join: Возвращает строки, которые имеют совпадающие значения в обеих\n",
    "таблицах. Этот тип объединения используется, когда вы хотите получить только те\n",
    "записи, которые имеют соответствующие записи в обоих объединяемых DataFrames."
   ]
  },
  {
   "cell_type": "code",
   "execution_count": 13,
   "id": "3fb60e5d-f52c-45ac-8de8-d173b7c871c4",
   "metadata": {},
   "outputs": [
    {
     "name": "stdout",
     "output_type": "stream",
     "text": [
      "Inner Join Result:\n",
      " shape: (50, 3)\n",
      "┌─────────┬─────────┬─────┐\n",
      "│ user_id ┆ name    ┆ age │\n",
      "│ ---     ┆ ---     ┆ --- │\n",
      "│ i64     ┆ str     ┆ i32 │\n",
      "╞═════════╪═════════╪═════╡\n",
      "│ 51      ┆ Charlie ┆ 35  │\n",
      "│ 52      ┆ Bob     ┆ 43  │\n",
      "│ 53      ┆ Charlie ┆ 61  │\n",
      "│ 54      ┆ David   ┆ 51  │\n",
      "│ 55      ┆ Charlie ┆ 27  │\n",
      "│ …       ┆ …       ┆ …   │\n",
      "│ 96      ┆ Bob     ┆ 45  │\n",
      "│ 97      ┆ Bob     ┆ 24  │\n",
      "│ 98      ┆ David   ┆ 26  │\n",
      "│ 99      ┆ Bob     ┆ 25  │\n",
      "│ 100     ┆ Alice   ┆ 29  │\n",
      "└─────────┴─────────┴─────┘\n"
     ]
    }
   ],
   "source": [
    "inner_joined_df = df1.join(df2, on='user_id', how='inner')\n",
    "print(\"Inner Join Result:\\n\", inner_joined_df)\n"
   ]
  },
  {
   "cell_type": "code",
   "execution_count": null,
   "id": "ce1ac6d6-2600-43ab-986c-6224a397ad56",
   "metadata": {},
   "outputs": [],
   "source": [
    "2. Left Join: Возвращает все строки из левой таблицы и совпадающие строки из\n",
    "правой таблицы. Если совпадений нет, результатом будет `NULL` на стороне правой\n",
    "таблицы.\n"
   ]
  },
  {
   "cell_type": "code",
   "execution_count": 12,
   "id": "e040916c-55d3-428f-b9c7-2bb0ea265825",
   "metadata": {},
   "outputs": [
    {
     "name": "stdout",
     "output_type": "stream",
     "text": [
      "Left Join Result:\n",
      " shape: (100, 3)\n",
      "┌─────────┬─────────┬──────┐\n",
      "│ user_id ┆ name    ┆ age  │\n",
      "│ ---     ┆ ---     ┆ ---  │\n",
      "│ i64     ┆ str     ┆ i32  │\n",
      "╞═════════╪═════════╪══════╡\n",
      "│ 1       ┆ Charlie ┆ null │\n",
      "│ 2       ┆ David   ┆ null │\n",
      "│ 3       ┆ Alice   ┆ null │\n",
      "│ 4       ┆ Charlie ┆ null │\n",
      "│ 5       ┆ Charlie ┆ null │\n",
      "│ …       ┆ …       ┆ …    │\n",
      "│ 96      ┆ Bob     ┆ 45   │\n",
      "│ 97      ┆ Bob     ┆ 24   │\n",
      "│ 98      ┆ David   ┆ 26   │\n",
      "│ 99      ┆ Bob     ┆ 25   │\n",
      "│ 100     ┆ Alice   ┆ 29   │\n",
      "└─────────┴─────────┴──────┘\n"
     ]
    }
   ],
   "source": [
    "left_joined_df = df1.join(df2, on='user_id', how='left')\n",
    "print(\"Left Join Result:\\n\", left_joined_df)"
   ]
  },
  {
   "cell_type": "code",
   "execution_count": null,
   "id": "359a33f9-940e-43d3-9b6d-645122ed0a46",
   "metadata": {},
   "outputs": [],
   "source": [
    "3. Outer Join: Также известное как полное внешнее соединение, оно возвращает все\n",
    "строки из левой и правой таблиц. Если совпадений нет, результатом будет `NULL` на\n",
    "стороне таблицы без совпадений. Он заполняет недостающие значения в столбцах\n",
    "соединения.\n"
   ]
  },
  {
   "cell_type": "code",
   "execution_count": 11,
   "id": "50f91a79-7568-427d-b1ae-e3c3bad0a63d",
   "metadata": {},
   "outputs": [
    {
     "name": "stdout",
     "output_type": "stream",
     "text": [
      "Full Outer Join Result:\n",
      " shape: (150, 4)\n",
      "┌─────────┬─────────┬───────────────┬──────┐\n",
      "│ user_id ┆ name    ┆ user_id_right ┆ age  │\n",
      "│ ---     ┆ ---     ┆ ---           ┆ ---  │\n",
      "│ i64     ┆ str     ┆ i64           ┆ i32  │\n",
      "╞═════════╪═════════╪═══════════════╪══════╡\n",
      "│ 51      ┆ Charlie ┆ 51            ┆ 35   │\n",
      "│ 52      ┆ Bob     ┆ 52            ┆ 43   │\n",
      "│ 53      ┆ Charlie ┆ 53            ┆ 61   │\n",
      "│ 54      ┆ David   ┆ 54            ┆ 51   │\n",
      "│ 55      ┆ Charlie ┆ 55            ┆ 27   │\n",
      "│ …       ┆ …       ┆ …             ┆ …    │\n",
      "│ 10      ┆ Bob     ┆ null          ┆ null │\n",
      "│ 13      ┆ Charlie ┆ null          ┆ null │\n",
      "│ 36      ┆ Alice   ┆ null          ┆ null │\n",
      "│ 27      ┆ Bob     ┆ null          ┆ null │\n",
      "│ 21      ┆ Bob     ┆ null          ┆ null │\n",
      "└─────────┴─────────┴───────────────┴──────┘\n"
     ]
    }
   ],
   "source": [
    "full_outer_joined_df = df1.join(df2, on='user_id', how='full') #outer будет заменен на full,т.к. не будет поддерживаться\n",
    "print(\"Full Outer Join Result:\\n\", full_outer_joined_df)"
   ]
  },
  {
   "cell_type": "code",
   "execution_count": null,
   "id": "2c7e1794-29de-478d-bb34-588adea8437b",
   "metadata": {},
   "outputs": [],
   "source": [
    "4. Cross Join: Получает декартово произведение двух таблиц. Это означает, что\n",
    "каждая строка первой таблицы объединяется со всеми строками второй таблицы."
   ]
  },
  {
   "cell_type": "code",
   "execution_count": 8,
   "id": "85db7c45-d5d7-4356-b1d1-0a55cde24e02",
   "metadata": {},
   "outputs": [
    {
     "name": "stdout",
     "output_type": "stream",
     "text": [
      "Cross Join Result (first 5 rows):\n",
      " shape: (9, 2)\n",
      "┌──────────────┬───────┐\n",
      "│ brand        ┆ sizes │\n",
      "│ ---          ┆ ---   │\n",
      "│ str          ┆ str   │\n",
      "╞══════════════╪═══════╡\n",
      "│ lacoste      ┆ S     │\n",
      "│ lacoste      ┆ M     │\n",
      "│ lacoste      ┆ L     │\n",
      "│ prada        ┆ S     │\n",
      "│ prada        ┆ M     │\n",
      "│ prada        ┆ L     │\n",
      "│ calvin klein ┆ S     │\n",
      "│ calvin klein ┆ M     │\n",
      "│ calvin klein ┆ L     │\n",
      "└──────────────┴───────┘\n"
     ]
    }
   ],
   "source": [
    "df_brands = pl.DataFrame({\n",
    "'brand': ['lacoste', 'prada', 'calvin klein']\n",
    "})\n",
    "df_sizes = pl.DataFrame({\n",
    "'sizes': ['S', 'M', 'L']\n",
    "})\n",
    "cross_joined_df = df_brands.join(df_sizes, how='cross')\n",
    "print(\"Cross Join Result (first 5 rows):\\n\", cross_joined_df)"
   ]
  },
  {
   "cell_type": "code",
   "execution_count": null,
   "id": "c3725a5f-26e9-4730-a13e-1c43af05c093",
   "metadata": {},
   "outputs": [],
   "source": [
    "5. Semi Join: Возвращает все строки из левой таблицы, для которых есть\n",
    "совпадающие ключи в правой таблице, но не включает ни одного столбца из правой\n",
    "таблицы. Это эффективно фильтрует левую таблицу на основе наличия ключей в\n",
    "правой таблице.\n"
   ]
  },
  {
   "cell_type": "code",
   "execution_count": 9,
   "id": "6561f95d-13f8-488b-8243-6521f10c8811",
   "metadata": {},
   "outputs": [
    {
     "name": "stdout",
     "output_type": "stream",
     "text": [
      "Semi Join Result (50, 2):\n",
      " shape: (50, 2)\n",
      "┌─────────┬─────────┐\n",
      "│ user_id ┆ name    │\n",
      "│ ---     ┆ ---     │\n",
      "│ i64     ┆ str     │\n",
      "╞═════════╪═════════╡\n",
      "│ 51      ┆ Charlie │\n",
      "│ 52      ┆ Bob     │\n",
      "│ 53      ┆ Charlie │\n",
      "│ 54      ┆ David   │\n",
      "│ 55      ┆ Charlie │\n",
      "│ …       ┆ …       │\n",
      "│ 96      ┆ Bob     │\n",
      "│ 97      ┆ Bob     │\n",
      "│ 98      ┆ David   │\n",
      "│ 99      ┆ Bob     │\n",
      "│ 100     ┆ Alice   │\n",
      "└─────────┴─────────┘\n"
     ]
    }
   ],
   "source": [
    "semi_joined_df = df1.join(df2, on='user_id', how='semi')\n",
    "print(f\"Semi Join Result {semi_joined_df.shape}:\\n\", semi_joined_df)\n"
   ]
  },
  {
   "cell_type": "code",
   "execution_count": null,
   "id": "6ecbab6c-f479-4ee6-8fa6-336d274fcdb2",
   "metadata": {},
   "outputs": [],
   "source": [
    "6. Anti Join: Возвращает все строки из левой таблицы, для которых нет совпадающих\n",
    "ключей в правой таблице. Это полезно для поиска расхождений или исключений\n",
    "между двумя наборами данных.\n"
   ]
  },
  {
   "cell_type": "code",
   "execution_count": 14,
   "id": "7f4295d4-a4bc-4a50-8f3c-3f46dd59d1b6",
   "metadata": {},
   "outputs": [
    {
     "name": "stdout",
     "output_type": "stream",
     "text": [
      "Anti Join Result (50, 2):\n",
      " shape: (50, 2)\n",
      "┌─────────┬─────────┐\n",
      "│ user_id ┆ name    │\n",
      "│ ---     ┆ ---     │\n",
      "│ i64     ┆ str     │\n",
      "╞═════════╪═════════╡\n",
      "│ 1       ┆ Charlie │\n",
      "│ 2       ┆ David   │\n",
      "│ 3       ┆ Alice   │\n",
      "│ 4       ┆ Charlie │\n",
      "│ 5       ┆ Charlie │\n",
      "│ …       ┆ …       │\n",
      "│ 46      ┆ David   │\n",
      "│ 47      ┆ David   │\n",
      "│ 48      ┆ Charlie │\n",
      "│ 49      ┆ Bob     │\n",
      "│ 50      ┆ Bob     │\n",
      "└─────────┴─────────┘\n"
     ]
    }
   ],
   "source": [
    "anti_joined_df = df1.join(df2, on='user_id', how='anti') # те, у кого не заполнен age (null)\n",
    "print(f\"Anti Join Result {anti_joined_df.shape}:\\n\", anti_joined_df)"
   ]
  },
  {
   "cell_type": "code",
   "execution_count": null,
   "id": "823e04c9-abc3-4b06-8922-c0546539eecf",
   "metadata": {},
   "outputs": [],
   "source": [
    "Соединение asof в Polars - это специализированный тип операции\n",
    "соединения, предназначенный в первую очередь для данных временных рядов,\n",
    "где целью является объединение двух наборов данных на основе ближайшего\n",
    "ключа, а не точного совпадения"
   ]
  },
  {
   "cell_type": "code",
   "execution_count": 15,
   "id": "66839bae-7231-4a63-b82c-c03516f33aea",
   "metadata": {},
   "outputs": [
    {
     "name": "stdout",
     "output_type": "stream",
     "text": [
      "shape: (3, 3)\n",
      "┌─────────────────────┬──────────┬───────┐\n",
      "│ time                ┆ quantity ┆ price │\n",
      "│ ---                 ┆ ---      ┆ ---   │\n",
      "│ datetime[μs]        ┆ i64      ┆ i64   │\n",
      "╞═════════════════════╪══════════╪═══════╡\n",
      "│ 2024-01-01 10:00:00 ┆ 10       ┆ null  │\n",
      "│ 2024-01-01 10:02:00 ┆ 20       ┆ 100   │\n",
      "│ 2024-01-01 10:05:00 ┆ 30       ┆ 200   │\n",
      "└─────────────────────┴──────────┴───────┘\n"
     ]
    }
   ],
   "source": [
    "df_q = pl.DataFrame({\n",
    "\"time\": [\"2024-01-01 10:00\", \"2024-01-01 10:02\", \"2024-01-01 10:05\"],\n",
    "\"quantity\": [10, 20, 30]\n",
    "}).with_columns(pl.col(\"time\").str.strptime(pl.Datetime)).sort('time') #вместо strptime можно использовать to_datetime\n",
    "df_p = pl.DataFrame({\n",
    "\"time\": [\"2024-01-01 10:01\", \"2024-01-01 10:03\", \"2024-01-01 10:06\"],\n",
    "\"price\": [100, 200, 300]\n",
    "}).with_columns(pl.col(\"time\").str.strptime(pl.Datetime)).sort('time')\n",
    "# Выполнение объединения по принципу asof\n",
    "result = df_q.join_asof(df_p, on=\"time\") #по умолчанию backword\n",
    "print(result)"
   ]
  },
  {
   "cell_type": "code",
   "execution_count": 19,
   "id": "fd061938-5dd2-4a78-8bad-15444f22c7a6",
   "metadata": {},
   "outputs": [
    {
     "name": "stdout",
     "output_type": "stream",
     "text": [
      "shape: (3, 3)\n",
      "┌─────────────────────┬──────────┬───────┐\n",
      "│ time                ┆ quantity ┆ price │\n",
      "│ ---                 ┆ ---      ┆ ---   │\n",
      "│ datetime[μs]        ┆ i64      ┆ i64   │\n",
      "╞═════════════════════╪══════════╪═══════╡\n",
      "│ 2024-01-01 10:00:00 ┆ 10       ┆ 100   │\n",
      "│ 2024-01-01 10:02:00 ┆ 20       ┆ 200   │\n",
      "│ 2024-01-01 10:05:00 ┆ 30       ┆ null  │\n",
      "└─────────────────────┴──────────┴───────┘\n"
     ]
    }
   ],
   "source": [
    "df_q = pl.DataFrame({\n",
    "\"time\": [\"2024-01-01 10:00\", \"2024-01-01 10:02\", \"2024-01-01 10:05\"],\n",
    "\"quantity\": [10, 20, 30]\n",
    "}).with_columns(pl.col(\"time\").str.strptime(pl.Datetime)).sort('time') #вместо strptime можно использовать to_datetime\n",
    "df_p = pl.DataFrame({\n",
    "\"time\": [\"2024-01-01 10:01\", \"2024-01-01 10:03\", \"2024-01-01 10:04\"],\n",
    "\"price\": [100, 200, 300]\n",
    "}).with_columns(pl.col(\"time\").str.strptime(pl.Datetime)).sort('time')\n",
    "# Выполнение объединения по принципу asof\n",
    "result = df_q.join_asof(df_p, on=\"time\", strategy='forward') #по умолчанию backword\n",
    "print(result)"
   ]
  },
  {
   "cell_type": "code",
   "execution_count": 18,
   "id": "955fb1b7-371d-4747-80cb-28d766caee07",
   "metadata": {},
   "outputs": [
    {
     "name": "stdout",
     "output_type": "stream",
     "text": [
      "shape: (3, 3)\n",
      "┌─────────────────────┬──────────┬───────┐\n",
      "│ time                ┆ quantity ┆ price │\n",
      "│ ---                 ┆ ---      ┆ ---   │\n",
      "│ datetime[μs]        ┆ i64      ┆ i64   │\n",
      "╞═════════════════════╪══════════╪═══════╡\n",
      "│ 2024-01-01 10:00:00 ┆ 10       ┆ 100   │\n",
      "│ 2024-01-01 10:02:00 ┆ 20       ┆ 200   │\n",
      "│ 2024-01-01 10:05:00 ┆ 30       ┆ 300   │\n",
      "└─────────────────────┴──────────┴───────┘\n"
     ]
    }
   ],
   "source": [
    "df_q = pl.DataFrame({\n",
    "\"time\": [\"2024-01-01 10:00\", \"2024-01-01 10:02\", \"2024-01-01 10:05\"],\n",
    "\"quantity\": [10, 20, 30]\n",
    "}).with_columns(pl.col(\"time\").str.strptime(pl.Datetime)).sort('time') #вместо strptime можно использовать to_datetime\n",
    "df_p = pl.DataFrame({\n",
    "\"time\": [\"2024-01-01 10:01\", \"2024-01-01 10:03\", \"2024-01-01 10:06\"],\n",
    "\"price\": [100, 200, 300]\n",
    "}).with_columns(pl.col(\"time\").str.strptime(pl.Datetime)).sort('time')\n",
    "# Выполнение объединения по принципу asof\n",
    "result = df_q.join_asof(df_p, on=\"time\", strategy='nearest') #по умолчанию backword\n",
    "print(result)"
   ]
  },
  {
   "cell_type": "code",
   "execution_count": null,
   "id": "ee0a5ea0-5f92-4326-be14-f425d93b0edb",
   "metadata": {},
   "outputs": [],
   "source": [
    "tolerance - это важная функция, которая позволяет\n",
    "указать предел расстояния между ключами\n",
    "объединения, чтобы строки считались\n",
    "совпадающими."
   ]
  },
  {
   "cell_type": "code",
   "execution_count": 24,
   "id": "5b78b253-3773-428a-b3ef-6911657ad970",
   "metadata": {},
   "outputs": [
    {
     "name": "stdout",
     "output_type": "stream",
     "text": [
      "shape: (3, 3)\n",
      "┌─────────────────────┬──────────┬───────┐\n",
      "│ time                ┆ quantity ┆ price │\n",
      "│ ---                 ┆ ---      ┆ ---   │\n",
      "│ datetime[μs]        ┆ i64      ┆ i64   │\n",
      "╞═════════════════════╪══════════╪═══════╡\n",
      "│ 2024-01-01 10:00:00 ┆ 10       ┆ 100   │\n",
      "│ 2024-01-01 10:02:00 ┆ 20       ┆ 200   │\n",
      "│ 2024-01-01 10:05:00 ┆ 30       ┆ null  │\n",
      "└─────────────────────┴──────────┴───────┘\n"
     ]
    }
   ],
   "source": [
    "from datetime import timedelta\n",
    "\n",
    "df_q = pl.DataFrame({\n",
    "\"time\": [\"2024-01-01 10:00\", \"2024-01-01 10:02\", \"2024-01-01 10:05\"],\n",
    "\"quantity\": [10, 20, 30]\n",
    "}).with_columns(pl.col(\"time\").str.strptime(pl.Datetime)).sort('time') #вместо strptime можно использовать to_datetime\n",
    "df_p = pl.DataFrame({\n",
    "\"time\": [\"2024-01-01 10:01\", \"2024-01-01 10:03\", \"2024-01-01 10:07\"],\n",
    "\"price\": [100, 200, 300]\n",
    "}).with_columns(pl.col(\"time\").str.strptime(pl.Datetime)).sort('time')\n",
    "\n",
    "# Выполняем объединение asof с допуском 1 минута\n",
    "result = df_q .join_asof(df_p, on='time', tolerance=timedelta(minutes=1), strategy='forward')\n",
    "print(result)"
   ]
  },
  {
   "cell_type": "code",
   "execution_count": null,
   "id": "4959eb9e-06c6-4abd-a415-c7c6455b168f",
   "metadata": {},
   "outputs": [],
   "source": [
    "Merge_sorted -это специализированный метод,\n",
    "предназначенный для объединения двух уже\n",
    "отсортированных DataFrame на основе\n",
    "указанного ключа, гарантируя, что\n",
    "результирующий DataFrame останется\n",
    "отсортированным. "
   ]
  },
  {
   "cell_type": "code",
   "execution_count": 25,
   "id": "a6f7f6de-e35c-44e8-8c5e-b53dc65d7a27",
   "metadata": {},
   "outputs": [
    {
     "name": "stdout",
     "output_type": "stream",
     "text": [
      "shape: (6, 2)\n",
      "┌────────┬─────┐\n",
      "│ Name   ┆ Age │\n",
      "│ ---    ┆ --- │\n",
      "│ str    ┆ i64 │\n",
      "╞════════╪═════╡\n",
      "│ Joseph ┆ 15  │\n",
      "│ Michel ┆ 16  │\n",
      "│ John   ┆ 18  │\n",
      "│ Ema    ┆ 22  │\n",
      "│ Albert ┆ 29  │\n",
      "│ Andrew ┆ 30  │\n",
      "└────────┴─────┘\n"
     ]
    }
   ],
   "source": [
    "df11 = pl.DataFrame({\n",
    " \"Name\": [\"John\", \"Joseph\", \"Albert\"],\n",
    " \"Age\": [18, 15, 29]\n",
    "}).sort(\"Age\")\n",
    "df12 = pl.DataFrame({\n",
    " \"Name\": [\"Ema\", \"Andrew\", \"Michel\"],\n",
    " \"Age\": [22, 30, 16]\n",
    "}).sort(\"Age\")\n",
    "df13 = df11.merge_sorted(df12, \"Age\")\n",
    "print(df13)"
   ]
  },
  {
   "cell_type": "code",
   "execution_count": null,
   "id": "a3597660-2977-47f8-8555-20de1dd10bbe",
   "metadata": {},
   "outputs": [],
   "source": [
    "Конкатенация\n",
    "Это операция, которая используется для\n",
    "объединения DataFrames или Series как по\n",
    "вертикали (укладывая их друг на друга), так и по\n",
    "горизонтали (растягивая их по сторонам)."
   ]
  },
  {
   "cell_type": "code",
   "execution_count": null,
   "id": "f54dd659-2fa3-44bb-8850-ca1d89061914",
   "metadata": {},
   "outputs": [],
   "source": [
    "Вертикальная\n",
    "конкатенация\n",
    "Это операция, которая объединяет фреймы\n",
    "DataFrames, складывая их друг на друга."
   ]
  },
  {
   "cell_type": "code",
   "execution_count": 26,
   "id": "46121cb3-6f91-41aa-9bdf-25a8039c32d8",
   "metadata": {},
   "outputs": [
    {
     "name": "stdout",
     "output_type": "stream",
     "text": [
      "shape: (4, 2)\n",
      "┌─────────┬─────┐\n",
      "│ Name    ┆ Age │\n",
      "│ ---     ┆ --- │\n",
      "│ str     ┆ i64 │\n",
      "╞═════════╪═════╡\n",
      "│ Alice   ┆ 25  │\n",
      "│ Bob     ┆ 30  │\n",
      "│ Charlie ┆ 35  │\n",
      "│ David   ┆ 40  │\n",
      "└─────────┴─────┘\n"
     ]
    }
   ],
   "source": [
    "df21 = pl.DataFrame({\n",
    " \"Name\": [\"Alice\", \"Bob\"],\n",
    " \"Age\": [25, 30]\n",
    "})\n",
    "df22 = pl.DataFrame({\n",
    " \"Name\": [\"Charlie\", \"David\"],\n",
    " \"Age\": [35, 40]\n",
    "})\n",
    "df_vertical = pl.concat([df21, df22])\n",
    "print(df_vertical)\n"
   ]
  },
  {
   "cell_type": "code",
   "execution_count": null,
   "id": "785fb5af-f17a-47df-80e6-70883ffe2ff8",
   "metadata": {},
   "outputs": [],
   "source": [
    "Горизонтальная\n",
    "конкатенация\n",
    "Это операция, которая объединяет фреймы\n",
    "DataFrames, растягивая их рядом друг с другом."
   ]
  },
  {
   "cell_type": "code",
   "execution_count": 27,
   "id": "d56dfa54-ae7c-4388-8ba3-53a2c8ad501a",
   "metadata": {},
   "outputs": [
    {
     "name": "stdout",
     "output_type": "stream",
     "text": [
      "shape: (2, 4)\n",
      "┌───────┬─────┬─────────────┬────────────┐\n",
      "│ Name  ┆ Age ┆ City        ┆ Occupation │\n",
      "│ ---   ┆ --- ┆ ---         ┆ ---        │\n",
      "│ str   ┆ i64 ┆ str         ┆ str        │\n",
      "╞═══════╪═════╪═════════════╪════════════╡\n",
      "│ Alice ┆ 25  ┆ New York    ┆ Engineer   │\n",
      "│ Bob   ┆ 30  ┆ Los Angeles ┆ Doctor     │\n",
      "└───────┴─────┴─────────────┴────────────┘\n"
     ]
    }
   ],
   "source": [
    "df23 = pl.DataFrame({\n",
    " \"City\": [\"New York\", \"Los Angeles\"],\n",
    " \"Occupation\": [\"Engineer\", \"Doctor\"]\n",
    "})\n",
    "df_horizontal = pl.concat([df21, df23],\n",
    "how=\"horizontal\")\n",
    "print(df_horizontal)"
   ]
  },
  {
   "cell_type": "code",
   "execution_count": null,
   "id": "e5520951-10ac-4508-90af-be4173302d0a",
   "metadata": {},
   "outputs": [],
   "source": [
    "Диагональная\n",
    "конкатенация\n",
    "Это мощный метод объединения DataFrames,\n",
    "которые могут иметь разные схемы. Эта\n",
    "операция не только добавляет записи из\n",
    "нескольких DataFrames, но и управляет\n",
    "различными столбцами, вводя нулевые\n",
    "значения там, где данные отсутствуют в\n",
    "исходных DataFrames."
   ]
  },
  {
   "cell_type": "code",
   "execution_count": null,
   "id": "09c4a06b-a96c-4951-8fb6-ac72d0c9a46c",
   "metadata": {},
   "outputs": [],
   "source": [
    "df_diagonal = pl.concat(\n",
    " [\n",
    " df21,\n",
    " df23,\n",
    " ],\n",
    " how=\"diagonal\",\n",
    ")\n",
    "print(df_diagonal)\n"
   ]
  },
  {
   "cell_type": "code",
   "execution_count": null,
   "id": "1fffa46f-e1b0-4e49-a729-8245757fd8d2",
   "metadata": {},
   "outputs": [],
   "source": [
    "Если вы не хотите, чтобы Polars повторно копировал конкатенированный DataFrame,\n",
    "укажите rechunk = False при выполнении конкатенации"
   ]
  },
  {
   "cell_type": "code",
   "execution_count": null,
   "id": "8bc78501-72cf-4f74-9b0f-88fd59943b1f",
   "metadata": {},
   "outputs": [],
   "source": [
    "Melt\n",
    "Это функция, используемая для преобразования\n",
    "DataFrame из широкого формата в длинный.\n",
    "Разворачивает DataFrame, превращая столбцы в\n",
    "строки."
   ]
  },
  {
   "cell_type": "code",
   "execution_count": 31,
   "id": "875e738d-55c0-4caa-8d9f-833dbc1eda70",
   "metadata": {},
   "outputs": [
    {
     "data": {
      "text/html": [
       "<div><style>\n",
       ".dataframe > thead > tr,\n",
       ".dataframe > tbody > tr {\n",
       "  text-align: right;\n",
       "  white-space: pre-wrap;\n",
       "}\n",
       "</style>\n",
       "<small>shape: (2, 3)</small><table border=\"1\" class=\"dataframe\"><thead><tr><th>Year</th><th>Product A</th><th>Product B</th></tr><tr><td>i64</td><td>i64</td><td>i64</td></tr></thead><tbody><tr><td>2020</td><td>100</td><td>90</td></tr><tr><td>2021</td><td>150</td><td>120</td></tr></tbody></table></div>"
      ],
      "text/plain": [
       "shape: (2, 3)\n",
       "┌──────┬───────────┬───────────┐\n",
       "│ Year ┆ Product A ┆ Product B │\n",
       "│ ---  ┆ ---       ┆ ---       │\n",
       "│ i64  ┆ i64       ┆ i64       │\n",
       "╞══════╪═══════════╪═══════════╡\n",
       "│ 2020 ┆ 100       ┆ 90        │\n",
       "│ 2021 ┆ 150       ┆ 120       │\n",
       "└──────┴───────────┴───────────┘"
      ]
     },
     "metadata": {},
     "output_type": "display_data"
    },
    {
     "name": "stdout",
     "output_type": "stream",
     "text": [
      "shape: (4, 3)\n",
      "┌──────┬───────────┬───────┐\n",
      "│ Year ┆ Product   ┆ Sales │\n",
      "│ ---  ┆ ---       ┆ ---   │\n",
      "│ i64  ┆ str       ┆ i64   │\n",
      "╞══════╪═══════════╪═══════╡\n",
      "│ 2020 ┆ Product A ┆ 100   │\n",
      "│ 2021 ┆ Product A ┆ 150   │\n",
      "│ 2020 ┆ Product B ┆ 90    │\n",
      "│ 2021 ┆ Product B ┆ 120   │\n",
      "└──────┴───────────┴───────┘\n"
     ]
    }
   ],
   "source": [
    "df = pl.DataFrame({\n",
    " \"Year\": [2020, 2021],\n",
    " \"Product A\": [100, 150],\n",
    " \"Product B\": [90, 120]\n",
    "})\n",
    "display(df)\n",
    "melted_df = df.unpivot(index=\"Year\", #unpivot теперь используется вместо melt\n",
    "on=[\"Product A\", \"Product B\"],\n",
    "variable_name=\"Product\",\n",
    "value_name=\"Sales\")\n",
    "print(melted_df)\n"
   ]
  },
  {
   "cell_type": "code",
   "execution_count": 34,
   "id": "3d10f57f-e64e-42be-af74-ec07e73730dc",
   "metadata": {},
   "outputs": [
    {
     "name": "stdout",
     "output_type": "stream",
     "text": [
      "shape: (4, 4)\n",
      "┌─────────────┬─────────┬───────────────┬─────────────────┐\n",
      "│ employee_id ┆ name    ┆ department_id ┆ department_name │\n",
      "│ ---         ┆ ---     ┆ ---           ┆ ---             │\n",
      "│ i64         ┆ str     ┆ i64           ┆ str             │\n",
      "╞═════════════╪═════════╪═══════════════╪═════════════════╡\n",
      "│ 1           ┆ Alice   ┆ 101           ┆ HR              │\n",
      "│ 2           ┆ Bob     ┆ 102           ┆ IT              │\n",
      "│ 3           ┆ Charlie ┆ 103           ┆ null            │\n",
      "│ 4           ┆ David   ┆ 101           ┆ HR              │\n",
      "└─────────────┴─────────┴───────────────┴─────────────────┘\n"
     ]
    }
   ],
   "source": [
    "df_employees = pl.DataFrame({\n",
    " \"employee_id\": [1, 2, 3, 4],\n",
    " \"name\": [\"Alice\", \"Bob\", \"Charlie\", \"David\"],\n",
    " \"department_id\": [101, 102, 103, 101]\n",
    "})\n",
    "df_departments = pl.DataFrame({\n",
    " \"department_id\": [101, 102, 104],\n",
    " \"department_name\": [\"HR\", \"IT\", \"Finance\"]\n",
    "})\n",
    "result = df_employees.join(df_departments, on=\"department_id\", how=\"left\")\n",
    "print(result)"
   ]
  },
  {
   "cell_type": "code",
   "execution_count": 35,
   "id": "5d82cfc8-2ba9-4f00-90e6-4c8e702d3829",
   "metadata": {},
   "outputs": [
    {
     "data": {
      "text/html": [
       "<div><style>\n",
       ".dataframe > thead > tr,\n",
       ".dataframe > tbody > tr {\n",
       "  text-align: right;\n",
       "  white-space: pre-wrap;\n",
       "}\n",
       "</style>\n",
       "<small>shape: (2, 3)</small><table border=\"1\" class=\"dataframe\"><thead><tr><th>student_id</th><th>student_name</th><th>grade</th></tr><tr><td>i64</td><td>str</td><td>str</td></tr></thead><tbody><tr><td>1</td><td>&quot;Alice&quot;</td><td>&quot;A&quot;</td></tr><tr><td>2</td><td>&quot;Bob&quot;</td><td>&quot;B&quot;</td></tr></tbody></table></div>"
      ],
      "text/plain": [
       "shape: (2, 3)\n",
       "┌────────────┬──────────────┬───────┐\n",
       "│ student_id ┆ student_name ┆ grade │\n",
       "│ ---        ┆ ---          ┆ ---   │\n",
       "│ i64        ┆ str          ┆ str   │\n",
       "╞════════════╪══════════════╪═══════╡\n",
       "│ 1          ┆ Alice        ┆ A     │\n",
       "│ 2          ┆ Bob          ┆ B     │\n",
       "└────────────┴──────────────┴───────┘"
      ]
     },
     "execution_count": 35,
     "metadata": {},
     "output_type": "execute_result"
    }
   ],
   "source": [
    "df_students = pl.DataFrame({\n",
    "    \"student_id\": [1, 2, 3],\n",
    "    \"student_name\": [\"Alice\", \"Bob\", \"Charlie\"]\n",
    "})\n",
    "\n",
    "df_grades = pl.DataFrame({\n",
    "    \"id\": [1, 2, 4],\n",
    "    \"grade\": [\"A\", \"B\", \"C\"]\n",
    "})\n",
    "\n",
    "result = df_students.join(df_grades, left_on=\"student_id\", right_on=\"id\", how=\"inner\")\n",
    "result"
   ]
  },
  {
   "cell_type": "code",
   "execution_count": null,
   "id": "41e26619-015a-4369-a2bd-6f2c57c02459",
   "metadata": {},
   "outputs": [],
   "source": [
    "Урок 12-2\n",
    "Polars: бенчмарки и LazyFrame"
   ]
  },
  {
   "cell_type": "code",
   "execution_count": null,
   "id": "f46b1a7a-f3eb-41d1-822a-709a121ff195",
   "metadata": {},
   "outputs": [],
   "source": [
    "Ленивые вычисления - это вычислительная стратегия, которая откладывает\n",
    "вычисление выражений до тех пор, пока не понадобятся их значения."
   ]
  },
  {
   "cell_type": "code",
   "execution_count": null,
   "id": "4fad745d-07ac-4091-a427-7c628ecaf982",
   "metadata": {},
   "outputs": [],
   "source": [
    "LazyFrame - это структура данных в Polars, которая представляет собой\n",
    "отложенные вычисления или серию преобразований, применяемых к набору\n",
    "данных."
   ]
  },
  {
   "cell_type": "code",
   "execution_count": null,
   "id": "2f845f22-680f-4134-b34f-1b917469466d",
   "metadata": {},
   "outputs": [],
   "source": [
    "collect\n",
    "Это метод, который является важнейшим\n",
    "компонентом работы с объектами LazyFrame,\n",
    "особенно при работе с большими наборами\n",
    "данных или потоковыми данными. Используется\n",
    "для выполнения запланированных операций над\n",
    "LazyFrame и сбора результатов в ожидающий\n",
    "вычислений DataFrame. "
   ]
  },
  {
   "cell_type": "code",
   "execution_count": 36,
   "id": "cb00a936-17ac-4dee-b7c1-0b4ebc35a600",
   "metadata": {},
   "outputs": [
    {
     "data": {
      "text/html": [
       "<i>naive plan: (run <b>LazyFrame.explain(optimized=True)</b> to see the optimized plan)</i>\n",
       "    <p></p>\n",
       "    <div>DF [\"name\", \"age\", \"city\"]; PROJECT */3 COLUMNS</div>"
      ],
      "text/plain": [
       "<LazyFrame at 0x248F8801DC0>"
      ]
     },
     "execution_count": 36,
     "metadata": {},
     "output_type": "execute_result"
    }
   ],
   "source": [
    "df = pl.DataFrame({\n",
    "\"name\": [\"Alice\", \"Bob\", \"Charlie\"],\n",
    "\"age\": [25, 30, 35],\n",
    "\"city\": [\"New York\", \"Los Angeles\", \"Chicago\"]\n",
    "})\n",
    "lazy_df = df.lazy()\n",
    "lazy_df"
   ]
  },
  {
   "cell_type": "code",
   "execution_count": 37,
   "id": "41ce6992-752f-4544-b5de-dee07f5f14a9",
   "metadata": {},
   "outputs": [
    {
     "data": {
      "text/html": [
       "<i>naive plan: (run <b>LazyFrame.explain(optimized=True)</b> to see the optimized plan)</i>\n",
       "    <p></p>\n",
       "    <div>DF [\"event_time\", \"event_type\", \"product_id\", \"category_id\", ...]; PROJECT */9 COLUMNS</div>"
      ],
      "text/plain": [
       "<LazyFrame at 0x248FE4ED640>"
      ]
     },
     "execution_count": 37,
     "metadata": {},
     "output_type": "execute_result"
    }
   ],
   "source": [
    "lazy_df_from_csv = pl.read_csv(\"events.csv\").lazy()\n",
    "lazy_df_from_csv "
   ]
  },
  {
   "cell_type": "code",
   "execution_count": 38,
   "id": "381e494e-456a-4987-9feb-a05eb225dda2",
   "metadata": {},
   "outputs": [],
   "source": [
    "lazy_df_from_scratch = pl.DataFrame({\n",
    "\"id\": [1, 2, 3],\n",
    "\"value\": [10, 20, 30]\n",
    "}).lazy()"
   ]
  },
  {
   "cell_type": "code",
   "execution_count": 40,
   "id": "7e3e4506-498d-4659-9b3d-a64e9da2609b",
   "metadata": {},
   "outputs": [],
   "source": [
    "lazy_df_from_csv_scan = pl.scan_csv(\"events.csv\") #не читает csv, а готовится к его чтению, файл в память не загружается\n",
    "# lazy_df_from_parquet_scan = pl.scan_parquet(\"very_large_dataset.parquet\")"
   ]
  },
  {
   "cell_type": "code",
   "execution_count": 42,
   "id": "1f3d38f4-1f71-4dd2-a3f4-eba2503d2336",
   "metadata": {},
   "outputs": [
    {
     "data": {
      "text/html": [
       "<div><style>\n",
       ".dataframe > thead > tr,\n",
       ".dataframe > tbody > tr {\n",
       "  text-align: right;\n",
       "  white-space: pre-wrap;\n",
       "}\n",
       "</style>\n",
       "<small>shape: (885_129, 9)</small><table border=\"1\" class=\"dataframe\"><thead><tr><th>event_time</th><th>event_type</th><th>product_id</th><th>category_id</th><th>category_code</th><th>brand</th><th>price</th><th>user_id</th><th>user_session</th></tr><tr><td>str</td><td>str</td><td>i64</td><td>i64</td><td>str</td><td>str</td><td>f64</td><td>i64</td><td>str</td></tr></thead><tbody><tr><td>&quot;2020-09-24 11:57:06 UTC&quot;</td><td>&quot;view&quot;</td><td>1996170</td><td>2144415922528452715</td><td>&quot;electronics.telephone&quot;</td><td>null</td><td>31.9</td><td>1515915625519388267</td><td>&quot;LJuJVLEjPT&quot;</td></tr><tr><td>&quot;2020-09-24 11:57:26 UTC&quot;</td><td>&quot;view&quot;</td><td>139905</td><td>2144415926932472027</td><td>&quot;computers.components.cooler&quot;</td><td>&quot;zalman&quot;</td><td>17.16</td><td>1515915625519380411</td><td>&quot;tdicluNnRY&quot;</td></tr><tr><td>&quot;2020-09-24 11:57:27 UTC&quot;</td><td>&quot;view&quot;</td><td>215454</td><td>2144415927158964449</td><td>null</td><td>null</td><td>9.81</td><td>1515915625513238515</td><td>&quot;4TMArHtXQy&quot;</td></tr><tr><td>&quot;2020-09-24 11:57:33 UTC&quot;</td><td>&quot;view&quot;</td><td>635807</td><td>2144415923107266682</td><td>&quot;computers.peripherals.printer&quot;</td><td>&quot;pantum&quot;</td><td>113.81</td><td>1515915625519014356</td><td>&quot;aGFYrNgC08&quot;</td></tr><tr><td>&quot;2020-09-24 11:57:36 UTC&quot;</td><td>&quot;view&quot;</td><td>3658723</td><td>2144415921169498184</td><td>null</td><td>&quot;cameronsino&quot;</td><td>15.87</td><td>1515915625510743344</td><td>&quot;aa4mmk0kwQ&quot;</td></tr><tr><td>&hellip;</td><td>&hellip;</td><td>&hellip;</td><td>&hellip;</td><td>&hellip;</td><td>&hellip;</td><td>&hellip;</td><td>&hellip;</td><td>&hellip;</td></tr><tr><td>&quot;2021-02-28 23:55:01 UTC&quot;</td><td>&quot;view&quot;</td><td>953226</td><td>2144415927553229037</td><td>null</td><td>null</td><td>219.94</td><td>1515915625611023730</td><td>&quot;FRLqIttxKU&quot;</td></tr><tr><td>&quot;2021-02-28 23:58:05 UTC&quot;</td><td>&quot;view&quot;</td><td>1715907</td><td>2144415927049912542</td><td>&quot;electronics.video.tv&quot;</td><td>&quot;starwind&quot;</td><td>80.03</td><td>1515915625611024014</td><td>&quot;g6WqPf50Ma&quot;</td></tr><tr><td>&quot;2021-02-28 23:58:09 UTC&quot;</td><td>&quot;view&quot;</td><td>4170534</td><td>2144415939364389423</td><td>&quot;electronics.clocks&quot;</td><td>&quot;amazfit&quot;</td><td>64.92</td><td>1515915625611024020</td><td>&quot;xNIJBqZdkd&quot;</td></tr><tr><td>&quot;2021-02-28 23:58:14 UTC&quot;</td><td>&quot;view&quot;</td><td>888273</td><td>2144415921932861531</td><td>&quot;electronics.telephone&quot;</td><td>null</td><td>10.16</td><td>1515915625611024030</td><td>&quot;9pCbKMIcSx&quot;</td></tr><tr><td>&quot;2021-02-28 23:59:09 UTC&quot;</td><td>&quot;view&quot;</td><td>743182</td><td>2144415935631458761</td><td>&quot;construction.tools.soldering&quot;</td><td>&quot;kada&quot;</td><td>65.08</td><td>1515915625556087775</td><td>&quot;BejOXRngEW&quot;</td></tr></tbody></table></div>"
      ],
      "text/plain": [
       "shape: (885_129, 9)\n",
       "┌────────────────┬────────────┬────────────┬────────────────┬───┬─────────────┬────────┬────────────────┬──────────────┐\n",
       "│ event_time     ┆ event_type ┆ product_id ┆ category_id    ┆ … ┆ brand       ┆ price  ┆ user_id        ┆ user_session │\n",
       "│ ---            ┆ ---        ┆ ---        ┆ ---            ┆   ┆ ---         ┆ ---    ┆ ---            ┆ ---          │\n",
       "│ str            ┆ str        ┆ i64        ┆ i64            ┆   ┆ str         ┆ f64    ┆ i64            ┆ str          │\n",
       "╞════════════════╪════════════╪════════════╪════════════════╪═══╪═════════════╪════════╪════════════════╪══════════════╡\n",
       "│ 2020-09-24     ┆ view       ┆ 1996170    ┆ 21444159225284 ┆ … ┆ null        ┆ 31.9   ┆ 15159156255193 ┆ LJuJVLEjPT   │\n",
       "│ 11:57:06 UTC   ┆            ┆            ┆ 52715          ┆   ┆             ┆        ┆ 88267          ┆              │\n",
       "│ 2020-09-24     ┆ view       ┆ 139905     ┆ 21444159269324 ┆ … ┆ zalman      ┆ 17.16  ┆ 15159156255193 ┆ tdicluNnRY   │\n",
       "│ 11:57:26 UTC   ┆            ┆            ┆ 72027          ┆   ┆             ┆        ┆ 80411          ┆              │\n",
       "│ 2020-09-24     ┆ view       ┆ 215454     ┆ 21444159271589 ┆ … ┆ null        ┆ 9.81   ┆ 15159156255132 ┆ 4TMArHtXQy   │\n",
       "│ 11:57:27 UTC   ┆            ┆            ┆ 64449          ┆   ┆             ┆        ┆ 38515          ┆              │\n",
       "│ 2020-09-24     ┆ view       ┆ 635807     ┆ 21444159231072 ┆ … ┆ pantum      ┆ 113.81 ┆ 15159156255190 ┆ aGFYrNgC08   │\n",
       "│ 11:57:33 UTC   ┆            ┆            ┆ 66682          ┆   ┆             ┆        ┆ 14356          ┆              │\n",
       "│ 2020-09-24     ┆ view       ┆ 3658723    ┆ 21444159211694 ┆ … ┆ cameronsino ┆ 15.87  ┆ 15159156255107 ┆ aa4mmk0kwQ   │\n",
       "│ 11:57:36 UTC   ┆            ┆            ┆ 98184          ┆   ┆             ┆        ┆ 43344          ┆              │\n",
       "│ …              ┆ …          ┆ …          ┆ …              ┆ … ┆ …           ┆ …      ┆ …              ┆ …            │\n",
       "│ 2021-02-28     ┆ view       ┆ 953226     ┆ 21444159275532 ┆ … ┆ null        ┆ 219.94 ┆ 15159156256110 ┆ FRLqIttxKU   │\n",
       "│ 23:55:01 UTC   ┆            ┆            ┆ 29037          ┆   ┆             ┆        ┆ 23730          ┆              │\n",
       "│ 2021-02-28     ┆ view       ┆ 1715907    ┆ 21444159270499 ┆ … ┆ starwind    ┆ 80.03  ┆ 15159156256110 ┆ g6WqPf50Ma   │\n",
       "│ 23:58:05 UTC   ┆            ┆            ┆ 12542          ┆   ┆             ┆        ┆ 24014          ┆              │\n",
       "│ 2021-02-28     ┆ view       ┆ 4170534    ┆ 21444159393643 ┆ … ┆ amazfit     ┆ 64.92  ┆ 15159156256110 ┆ xNIJBqZdkd   │\n",
       "│ 23:58:09 UTC   ┆            ┆            ┆ 89423          ┆   ┆             ┆        ┆ 24020          ┆              │\n",
       "│ 2021-02-28     ┆ view       ┆ 888273     ┆ 21444159219328 ┆ … ┆ null        ┆ 10.16  ┆ 15159156256110 ┆ 9pCbKMIcSx   │\n",
       "│ 23:58:14 UTC   ┆            ┆            ┆ 61531          ┆   ┆             ┆        ┆ 24030          ┆              │\n",
       "│ 2021-02-28     ┆ view       ┆ 743182     ┆ 21444159356314 ┆ … ┆ kada        ┆ 65.08  ┆ 15159156255560 ┆ BejOXRngEW   │\n",
       "│ 23:59:09 UTC   ┆            ┆            ┆ 58761          ┆   ┆             ┆        ┆ 87775          ┆              │\n",
       "└────────────────┴────────────┴────────────┴────────────────┴───┴─────────────┴────────┴────────────────┴──────────────┘"
      ]
     },
     "execution_count": 42,
     "metadata": {},
     "output_type": "execute_result"
    }
   ],
   "source": [
    "result_df = lazy_df_from_csv_scan.collect()#возвращает обычный датафрейм, не lazy\n",
    "result_df"
   ]
  },
  {
   "cell_type": "code",
   "execution_count": 43,
   "id": "5f6704ca-0724-4270-b864-6eeb84bb4cbc",
   "metadata": {},
   "outputs": [
    {
     "name": "stdout",
     "output_type": "stream",
     "text": [
      "shape: (1_000, 2)\n",
      "┌─────────────┬───────────────┐\n",
      "│ brand       ┆ average_price │\n",
      "│ ---         ┆ ---           │\n",
      "│ str         ┆ f64           │\n",
      "╞═════════════╪═══════════════╡\n",
      "│ kraftool    ┆ 41.271081     │\n",
      "│ mastech     ┆ 39.987097     │\n",
      "│ sapphire    ┆ 298.241557    │\n",
      "│ qcyber      ┆ 38.342129     │\n",
      "│ aosenma     ┆ 43.170667     │\n",
      "│ …           ┆ …             │\n",
      "│ holder      ┆ 31.466232     │\n",
      "│ h-tek       ┆ 43.14         │\n",
      "│ adaptec     ┆ 232.387143    │\n",
      "│ toshiba     ┆ 94.383039     │\n",
      "│ silverstone ┆ 36.066667     │\n",
      "└─────────────┴───────────────┘\n"
     ]
    }
   ],
   "source": [
    "result_df = (\n",
    "    pl.scan_csv(\"events.csv\")\n",
    "    .select(['brand', 'event_type', 'price'])\n",
    "    .filter(pl.col('event_type') == 'view')\n",
    "    .group_by(\"brand\").agg([pl.col(\"price\").mean().alias(\"average_price\")])\n",
    ").collect() #collect выполняет отсканированный датафрейм и все действия, что были заданы для него (аналог кнопки Run)\n",
    "print(result_df)"
   ]
  },
  {
   "cell_type": "code",
   "execution_count": null,
   "id": "c7bd7f29-a420-4283-97be-96a4dfd839a3",
   "metadata": {},
   "outputs": [],
   "source": [
    "План выполнения в Polars - это представление последовательности операций\n",
    "(таких как select, filter, group by и aggregate), которые планируется выполнить над\n",
    "набором данных."
   ]
  },
  {
   "cell_type": "code",
   "execution_count": null,
   "id": "00549688-082f-42d2-9baf-c61711a3f8ba",
   "metadata": {},
   "outputs": [],
   "source": [
    "Вычислительный граф\n",
    "Описывает зависимости между операциями и\n",
    "порядок их выполнения. Визуализация графа\n",
    "может дать ценные сведения об эффективности\n",
    "и структуре конвейера обработки данных."
   ]
  },
  {
   "cell_type": "code",
   "execution_count": 3,
   "id": "b3d644d9-b1ce-4282-8e5b-d98d020b8243",
   "metadata": {},
   "outputs": [
    {
     "data": {
      "image/svg+xml": [
       "<svg xmlns=\"http://www.w3.org/2000/svg\" xmlns:xlink=\"http://www.w3.org/1999/xlink\" width=\"299pt\" height=\"236pt\" viewBox=\"0.00 0.00 298.50 236.00\">\n",
       "<g id=\"graph0\" class=\"graph\" transform=\"scale(1 1) rotate(0) translate(4 232)\">\n",
       "<title>polars_query</title>\n",
       "<polygon fill=\"white\" stroke=\"none\" points=\"-4,4 -4,-232 294.5,-232 294.5,4 -4,4\"/>\n",
       "<!-- p1 -->\n",
       "<g id=\"node1\" class=\"node\">\n",
       "<title>p1</title>\n",
       "<polygon fill=\"none\" stroke=\"black\" points=\"290.5,-228 0,-228 0,-170.5 290.5,-170.5 290.5,-228\"/>\n",
       "<text text-anchor=\"middle\" x=\"145.25\" y=\"-210.7\" font-family=\"Times New Roman,serif\" font-size=\"14.00\">AGG [col(&quot;price&quot;).mean().alias(&quot;average_price&quot;)]</text>\n",
       "<text text-anchor=\"middle\" x=\"145.25\" y=\"-194.2\" font-family=\"Times New Roman,serif\" font-size=\"14.00\">BY</text>\n",
       "<text text-anchor=\"middle\" x=\"145.25\" y=\"-177.7\" font-family=\"Times New Roman,serif\" font-size=\"14.00\">[col(&quot;brand&quot;)]</text>\n",
       "</g>\n",
       "<!-- p2 -->\n",
       "<g id=\"node2\" class=\"node\">\n",
       "<title>p2</title>\n",
       "<polygon fill=\"none\" stroke=\"black\" points=\"241.75,-134.5 48.75,-134.5 48.75,-93.5 241.75,-93.5 241.75,-134.5\"/>\n",
       "<text text-anchor=\"middle\" x=\"145.25\" y=\"-117.2\" font-family=\"Times New Roman,serif\" font-size=\"14.00\">simple π 3/3</text>\n",
       "<text text-anchor=\"middle\" x=\"145.25\" y=\"-100.7\" font-family=\"Times New Roman,serif\" font-size=\"14.00\">[&quot;brand&quot;, &quot;event_type&quot;, &quot;price&quot;]</text>\n",
       "</g>\n",
       "<!-- p1&#45;&#45;p2 -->\n",
       "<g id=\"edge1\" class=\"edge\">\n",
       "<title>p1--p2</title>\n",
       "<path fill=\"none\" stroke=\"black\" d=\"M145.25,-170.07C145.25,-158.46 145.25,-145.3 145.25,-134.75\"/>\n",
       "</g>\n",
       "<!-- p3 -->\n",
       "<g id=\"node3\" class=\"node\">\n",
       "<title>p3</title>\n",
       "<polygon fill=\"none\" stroke=\"black\" points=\"266.88,-57.5 23.62,-57.5 23.62,0 266.88,0 266.88,-57.5\"/>\n",
       "<text text-anchor=\"middle\" x=\"145.25\" y=\"-40.2\" font-family=\"Times New Roman,serif\" font-size=\"14.00\">Csv SCAN [events.csv]</text>\n",
       "<text text-anchor=\"middle\" x=\"145.25\" y=\"-23.7\" font-family=\"Times New Roman,serif\" font-size=\"14.00\">π 3/9;</text>\n",
       "<text text-anchor=\"middle\" x=\"145.25\" y=\"-7.2\" font-family=\"Times New Roman,serif\" font-size=\"14.00\">σ [(col(&quot;event_type&quot;)) == (String(view))]</text>\n",
       "</g>\n",
       "<!-- p2&#45;&#45;p3 -->\n",
       "<g id=\"edge2\" class=\"edge\">\n",
       "<title>p2--p3</title>\n",
       "<path fill=\"none\" stroke=\"black\" d=\"M145.25,-93.27C145.25,-82.69 145.25,-69.48 145.25,-57.84\"/>\n",
       "</g>\n",
       "</g>\n",
       "</svg>"
      ],
      "text/plain": [
       "<IPython.core.display.SVG object>"
      ]
     },
     "metadata": {},
     "output_type": "display_data"
    }
   ],
   "source": [
    "result_df = (\n",
    "    pl.scan_csv(\"events.csv\")\n",
    "    .select(['brand', 'event_type', 'price'])\n",
    "    .filter(pl.col('event_type') == 'view')\n",
    "    .group_by(\"brand\").agg([pl.col(\"price\").mean().alias(\"average_price\")])\n",
    ").show_graph() #показывает, КАК будет выполняться план"
   ]
  },
  {
   "cell_type": "raw",
   "id": "c5b1f447-802a-4ee6-a4e1-1a5d476b9fd4",
   "metadata": {},
   "source": [
    "streaming (engine='auto' в новой версии)\n",
    "Это параметр в методе collect, который\n",
    "позволяет Polars обрабатывать и возвращать\n",
    "данные в потоковом режиме. При значении True\n",
    "метод collect обрабатывает данные по частям, а\n",
    "не загружает в память сразу весь набор данных. "
   ]
  },
  {
   "cell_type": "code",
   "execution_count": 13,
   "id": "aa38a628-1b40-4740-a63b-2440db3c9c48",
   "metadata": {},
   "outputs": [
    {
     "data": {
      "text/html": [
       "<div><style>\n",
       ".dataframe > thead > tr,\n",
       ".dataframe > tbody > tr {\n",
       "  text-align: right;\n",
       "  white-space: pre-wrap;\n",
       "}\n",
       "</style>\n",
       "<small>shape: (345_080, 9)</small><table border=\"1\" class=\"dataframe\"><thead><tr><th>event_time</th><th>event_type</th><th>product_id</th><th>category_id</th><th>category_code</th><th>brand</th><th>price</th><th>user_id</th><th>user_session</th></tr><tr><td>str</td><td>str</td><td>i64</td><td>i64</td><td>str</td><td>str</td><td>f64</td><td>i64</td><td>str</td></tr></thead><tbody><tr><td>&quot;2020-09-24 11:57:33 UTC&quot;</td><td>&quot;view&quot;</td><td>635807</td><td>2144415923107266682</td><td>&quot;computers.peripherals.printer&quot;</td><td>&quot;pantum&quot;</td><td>113.81</td><td>1515915625519014356</td><td>&quot;aGFYrNgC08&quot;</td></tr><tr><td>&quot;2020-09-24 11:58:23 UTC&quot;</td><td>&quot;view&quot;</td><td>3791349</td><td>2144415935086199225</td><td>&quot;computers.desktop&quot;</td><td>null</td><td>215.41</td><td>1515915625519388877</td><td>&quot;J1t6sIYXiV&quot;</td></tr><tr><td>&quot;2020-09-24 12:00:00 UTC&quot;</td><td>&quot;view&quot;</td><td>1080093</td><td>2144415923107266682</td><td>&quot;computers.peripherals.printer&quot;</td><td>&quot;ricoh&quot;</td><td>268.17</td><td>1515915625519389483</td><td>&quot;63xjTFC54g&quot;</td></tr><tr><td>&quot;2020-09-24 12:00:01 UTC&quot;</td><td>&quot;view&quot;</td><td>1455459</td><td>2144415927049912542</td><td>&quot;electronics.video.tv&quot;</td><td>&quot;sony&quot;</td><td>635.63</td><td>1515915625519385419</td><td>&quot;sF2S2yMO09&quot;</td></tr><tr><td>&quot;2020-09-24 12:00:39 UTC&quot;</td><td>&quot;view&quot;</td><td>1021484</td><td>2144415944976368325</td><td>null</td><td>null</td><td>202.98</td><td>1515915625519389101</td><td>&quot;fO4BG6BTMi&quot;</td></tr><tr><td>&hellip;</td><td>&hellip;</td><td>&hellip;</td><td>&hellip;</td><td>&hellip;</td><td>&hellip;</td><td>&hellip;</td><td>&hellip;</td><td>&hellip;</td></tr><tr><td>&quot;2021-02-28 23:47:49 UTC&quot;</td><td>&quot;view&quot;</td><td>1271549</td><td>2144415924424278172</td><td>&quot;electronics.audio.acoustic&quot;</td><td>&quot;edifier&quot;</td><td>405.65</td><td>1515915625611022987</td><td>&quot;7geq5gYdXF&quot;</td></tr><tr><td>&quot;2021-02-28 23:51:25 UTC&quot;</td><td>&quot;view&quot;</td><td>622796</td><td>2144415922738167921</td><td>&quot;computers.components.cdrw&quot;</td><td>&quot;asus&quot;</td><td>147.38</td><td>1515915625572947504</td><td>&quot;LJ4H6CRcME&quot;</td></tr><tr><td>&quot;2021-02-28 23:51:25 UTC&quot;</td><td>&quot;view&quot;</td><td>622796</td><td>2144415922738167921</td><td>&quot;computers.components.cdrw&quot;</td><td>&quot;asus&quot;</td><td>147.38</td><td>1515915625572947504</td><td>&quot;SqlXaC3Wrw&quot;</td></tr><tr><td>&quot;2021-02-28 23:53:13 UTC&quot;</td><td>&quot;view&quot;</td><td>4079420</td><td>2144415922427789416</td><td>&quot;computers.components.videocard…</td><td>&quot;msi&quot;</td><td>449.51</td><td>1515915625611023581</td><td>&quot;zrl0oKrysT&quot;</td></tr><tr><td>&quot;2021-02-28 23:55:01 UTC&quot;</td><td>&quot;view&quot;</td><td>953226</td><td>2144415927553229037</td><td>null</td><td>null</td><td>219.94</td><td>1515915625611023730</td><td>&quot;FRLqIttxKU&quot;</td></tr></tbody></table></div>"
      ],
      "text/plain": [
       "shape: (345_080, 9)\n",
       "┌──────────────┬────────────┬────────────┬───────────────────┬───┬─────────┬────────┬───────────────────┬──────────────┐\n",
       "│ event_time   ┆ event_type ┆ product_id ┆ category_id       ┆ … ┆ brand   ┆ price  ┆ user_id           ┆ user_session │\n",
       "│ ---          ┆ ---        ┆ ---        ┆ ---               ┆   ┆ ---     ┆ ---    ┆ ---               ┆ ---          │\n",
       "│ str          ┆ str        ┆ i64        ┆ i64               ┆   ┆ str     ┆ f64    ┆ i64               ┆ str          │\n",
       "╞══════════════╪════════════╪════════════╪═══════════════════╪═══╪═════════╪════════╪═══════════════════╪══════════════╡\n",
       "│ 2020-09-24   ┆ view       ┆ 635807     ┆ 21444159231072666 ┆ … ┆ pantum  ┆ 113.81 ┆ 15159156255190143 ┆ aGFYrNgC08   │\n",
       "│ 11:57:33 UTC ┆            ┆            ┆ 82                ┆   ┆         ┆        ┆ 56                ┆              │\n",
       "│ 2020-09-24   ┆ view       ┆ 3791349    ┆ 21444159350861992 ┆ … ┆ null    ┆ 215.41 ┆ 15159156255193888 ┆ J1t6sIYXiV   │\n",
       "│ 11:58:23 UTC ┆            ┆            ┆ 25                ┆   ┆         ┆        ┆ 77                ┆              │\n",
       "│ 2020-09-24   ┆ view       ┆ 1080093    ┆ 21444159231072666 ┆ … ┆ ricoh   ┆ 268.17 ┆ 15159156255193894 ┆ 63xjTFC54g   │\n",
       "│ 12:00:00 UTC ┆            ┆            ┆ 82                ┆   ┆         ┆        ┆ 83                ┆              │\n",
       "│ 2020-09-24   ┆ view       ┆ 1455459    ┆ 21444159270499125 ┆ … ┆ sony    ┆ 635.63 ┆ 15159156255193854 ┆ sF2S2yMO09   │\n",
       "│ 12:00:01 UTC ┆            ┆            ┆ 42                ┆   ┆         ┆        ┆ 19                ┆              │\n",
       "│ 2020-09-24   ┆ view       ┆ 1021484    ┆ 21444159449763683 ┆ … ┆ null    ┆ 202.98 ┆ 15159156255193891 ┆ fO4BG6BTMi   │\n",
       "│ 12:00:39 UTC ┆            ┆            ┆ 25                ┆   ┆         ┆        ┆ 01                ┆              │\n",
       "│ …            ┆ …          ┆ …          ┆ …                 ┆ … ┆ …       ┆ …      ┆ …                 ┆ …            │\n",
       "│ 2021-02-28   ┆ view       ┆ 1271549    ┆ 21444159244242781 ┆ … ┆ edifier ┆ 405.65 ┆ 15159156256110229 ┆ 7geq5gYdXF   │\n",
       "│ 23:47:49 UTC ┆            ┆            ┆ 72                ┆   ┆         ┆        ┆ 87                ┆              │\n",
       "│ 2021-02-28   ┆ view       ┆ 622796     ┆ 21444159227381679 ┆ … ┆ asus    ┆ 147.38 ┆ 15159156255729475 ┆ LJ4H6CRcME   │\n",
       "│ 23:51:25 UTC ┆            ┆            ┆ 21                ┆   ┆         ┆        ┆ 04                ┆              │\n",
       "│ 2021-02-28   ┆ view       ┆ 622796     ┆ 21444159227381679 ┆ … ┆ asus    ┆ 147.38 ┆ 15159156255729475 ┆ SqlXaC3Wrw   │\n",
       "│ 23:51:25 UTC ┆            ┆            ┆ 21                ┆   ┆         ┆        ┆ 04                ┆              │\n",
       "│ 2021-02-28   ┆ view       ┆ 4079420    ┆ 21444159224277894 ┆ … ┆ msi     ┆ 449.51 ┆ 15159156256110235 ┆ zrl0oKrysT   │\n",
       "│ 23:53:13 UTC ┆            ┆            ┆ 16                ┆   ┆         ┆        ┆ 81                ┆              │\n",
       "│ 2021-02-28   ┆ view       ┆ 953226     ┆ 21444159275532290 ┆ … ┆ null    ┆ 219.94 ┆ 15159156256110237 ┆ FRLqIttxKU   │\n",
       "│ 23:55:01 UTC ┆            ┆            ┆ 37                ┆   ┆         ┆        ┆ 30                ┆              │\n",
       "└──────────────┴────────────┴────────────┴───────────────────┴───┴─────────┴────────┴───────────────────┴──────────────┘"
      ]
     },
     "execution_count": 13,
     "metadata": {},
     "output_type": "execute_result"
    }
   ],
   "source": [
    "lazy_df = pl.scan_csv(\"events.csv\").filter(pl.col(\"price\") > 100)\n",
    "result_df = lazy_df.collect(engine='auto')\n",
    "result_df"
   ]
  },
  {
   "cell_type": "code",
   "execution_count": 10,
   "id": "fb442bac-bd38-419a-9919-410c2ff3e90f",
   "metadata": {},
   "outputs": [
    {
     "data": {
      "text/plain": [
       "\u001b[1;31mSignature:\u001b[0m\n",
       "\u001b[0mlazy_df\u001b[0m\u001b[1;33m.\u001b[0m\u001b[0mcollect\u001b[0m\u001b[1;33m(\u001b[0m\u001b[1;33m\n",
       "\u001b[0m    \u001b[1;33m*\u001b[0m\u001b[1;33m,\u001b[0m\u001b[1;33m\n",
       "\u001b[0m    \u001b[0mtype_coercion\u001b[0m\u001b[1;33m:\u001b[0m \u001b[1;34m'bool'\u001b[0m \u001b[1;33m=\u001b[0m \u001b[1;32mTrue\u001b[0m\u001b[1;33m,\u001b[0m\u001b[1;33m\n",
       "\u001b[0m    \u001b[0m_type_check\u001b[0m\u001b[1;33m:\u001b[0m \u001b[1;34m'bool'\u001b[0m \u001b[1;33m=\u001b[0m \u001b[1;32mTrue\u001b[0m\u001b[1;33m,\u001b[0m\u001b[1;33m\n",
       "\u001b[0m    \u001b[0mpredicate_pushdown\u001b[0m\u001b[1;33m:\u001b[0m \u001b[1;34m'bool'\u001b[0m \u001b[1;33m=\u001b[0m \u001b[1;32mTrue\u001b[0m\u001b[1;33m,\u001b[0m\u001b[1;33m\n",
       "\u001b[0m    \u001b[0mprojection_pushdown\u001b[0m\u001b[1;33m:\u001b[0m \u001b[1;34m'bool'\u001b[0m \u001b[1;33m=\u001b[0m \u001b[1;32mTrue\u001b[0m\u001b[1;33m,\u001b[0m\u001b[1;33m\n",
       "\u001b[0m    \u001b[0msimplify_expression\u001b[0m\u001b[1;33m:\u001b[0m \u001b[1;34m'bool'\u001b[0m \u001b[1;33m=\u001b[0m \u001b[1;32mTrue\u001b[0m\u001b[1;33m,\u001b[0m\u001b[1;33m\n",
       "\u001b[0m    \u001b[0mslice_pushdown\u001b[0m\u001b[1;33m:\u001b[0m \u001b[1;34m'bool'\u001b[0m \u001b[1;33m=\u001b[0m \u001b[1;32mTrue\u001b[0m\u001b[1;33m,\u001b[0m\u001b[1;33m\n",
       "\u001b[0m    \u001b[0mcomm_subplan_elim\u001b[0m\u001b[1;33m:\u001b[0m \u001b[1;34m'bool'\u001b[0m \u001b[1;33m=\u001b[0m \u001b[1;32mTrue\u001b[0m\u001b[1;33m,\u001b[0m\u001b[1;33m\n",
       "\u001b[0m    \u001b[0mcomm_subexpr_elim\u001b[0m\u001b[1;33m:\u001b[0m \u001b[1;34m'bool'\u001b[0m \u001b[1;33m=\u001b[0m \u001b[1;32mTrue\u001b[0m\u001b[1;33m,\u001b[0m\u001b[1;33m\n",
       "\u001b[0m    \u001b[0mcluster_with_columns\u001b[0m\u001b[1;33m:\u001b[0m \u001b[1;34m'bool'\u001b[0m \u001b[1;33m=\u001b[0m \u001b[1;32mTrue\u001b[0m\u001b[1;33m,\u001b[0m\u001b[1;33m\n",
       "\u001b[0m    \u001b[0mcollapse_joins\u001b[0m\u001b[1;33m:\u001b[0m \u001b[1;34m'bool'\u001b[0m \u001b[1;33m=\u001b[0m \u001b[1;32mTrue\u001b[0m\u001b[1;33m,\u001b[0m\u001b[1;33m\n",
       "\u001b[0m    \u001b[0mno_optimization\u001b[0m\u001b[1;33m:\u001b[0m \u001b[1;34m'bool'\u001b[0m \u001b[1;33m=\u001b[0m \u001b[1;32mFalse\u001b[0m\u001b[1;33m,\u001b[0m\u001b[1;33m\n",
       "\u001b[0m    \u001b[0mengine\u001b[0m\u001b[1;33m:\u001b[0m \u001b[1;34m'EngineType'\u001b[0m \u001b[1;33m=\u001b[0m \u001b[1;34m'auto'\u001b[0m\u001b[1;33m,\u001b[0m\u001b[1;33m\n",
       "\u001b[0m    \u001b[0mbackground\u001b[0m\u001b[1;33m:\u001b[0m \u001b[1;34m'bool'\u001b[0m \u001b[1;33m=\u001b[0m \u001b[1;32mFalse\u001b[0m\u001b[1;33m,\u001b[0m\u001b[1;33m\n",
       "\u001b[0m    \u001b[0m_check_order\u001b[0m\u001b[1;33m:\u001b[0m \u001b[1;34m'bool'\u001b[0m \u001b[1;33m=\u001b[0m \u001b[1;32mTrue\u001b[0m\u001b[1;33m,\u001b[0m\u001b[1;33m\n",
       "\u001b[0m    \u001b[0m_eager\u001b[0m\u001b[1;33m:\u001b[0m \u001b[1;34m'bool'\u001b[0m \u001b[1;33m=\u001b[0m \u001b[1;32mFalse\u001b[0m\u001b[1;33m,\u001b[0m\u001b[1;33m\n",
       "\u001b[0m    \u001b[1;33m**\u001b[0m\u001b[0m_kwargs\u001b[0m\u001b[1;33m:\u001b[0m \u001b[1;34m'Any'\u001b[0m\u001b[1;33m,\u001b[0m\u001b[1;33m\n",
       "\u001b[0m\u001b[1;33m)\u001b[0m \u001b[1;33m->\u001b[0m \u001b[1;34m'DataFrame | InProcessQuery'\u001b[0m\u001b[1;33m\u001b[0m\u001b[1;33m\u001b[0m\u001b[0m\n",
       "\u001b[1;31mDocstring:\u001b[0m\n",
       "Materialize this LazyFrame into a DataFrame.\n",
       "\n",
       "By default, all query optimizations are enabled. Individual optimizations may\n",
       "be disabled by setting the corresponding parameter to `False`.\n",
       "\n",
       "Parameters\n",
       "----------\n",
       "type_coercion\n",
       "    Do type coercion optimization.\n",
       "predicate_pushdown\n",
       "    Do predicate pushdown optimization.\n",
       "projection_pushdown\n",
       "    Do projection pushdown optimization.\n",
       "simplify_expression\n",
       "    Run simplify expressions optimization.\n",
       "slice_pushdown\n",
       "    Slice pushdown optimization.\n",
       "comm_subplan_elim\n",
       "    Will try to cache branching subplans that occur on self-joins or unions.\n",
       "comm_subexpr_elim\n",
       "    Common subexpressions will be cached and reused.\n",
       "cluster_with_columns\n",
       "    Combine sequential independent calls to with_columns\n",
       "collapse_joins\n",
       "    Collapse a join and filters into a faster join\n",
       "no_optimization\n",
       "    Turn off (certain) optimizations.\n",
       "engine\n",
       "    Select the engine used to process the query, optional.\n",
       "    At the moment, if set to `\"auto\"` (default), the query\n",
       "    is run using the polars in-memory engine. Polars will also\n",
       "    attempt to use the engine set by the `POLARS_ENGINE_AFFINITY`\n",
       "    environment variable. If it cannot run the query using the\n",
       "    selected engine, the query is run using the polars in-memory\n",
       "    engine. If set to `\"gpu\"`, the GPU engine is used. Fine-grained\n",
       "    control over the GPU engine, for example which device to use\n",
       "    on a system with multiple devices, is possible by providing a\n",
       "    :class:`~.GPUEngine` object with configuration options.\n",
       "\n",
       "    .. note::\n",
       "       GPU mode is considered **unstable**. Not all queries will run\n",
       "       successfully on the GPU, however, they should fall back transparently\n",
       "       to the default engine if execution is not supported.\n",
       "\n",
       "       Running with `POLARS_VERBOSE=1` will provide information if a query\n",
       "       falls back (and why).\n",
       "\n",
       "    .. note::\n",
       "       The GPU engine does not support streaming, or running in the\n",
       "       background. If either are enabled, then GPU execution is switched off.\n",
       "\n",
       "background\n",
       "    Run the query in the background and get a handle to the query.\n",
       "    This handle can be used to fetch the result or cancel the query.\n",
       "\n",
       "    .. warning::\n",
       "        Background mode is considered **unstable**. It may be changed\n",
       "        at any point without it being considered a breaking change.\n",
       "\n",
       "Returns\n",
       "-------\n",
       "DataFrame\n",
       "\n",
       "See Also\n",
       "--------\n",
       "explain : Print the query plan that is evaluated with collect.\n",
       "profile : Collect the LazyFrame and time each node in the computation graph.\n",
       "polars.collect_all : Collect multiple LazyFrames at the same time.\n",
       "polars.Config.set_streaming_chunk_size : Set the size of streaming batches.\n",
       "\n",
       "Examples\n",
       "--------\n",
       ">>> lf = pl.LazyFrame(\n",
       "...     {\n",
       "...         \"a\": [\"a\", \"b\", \"a\", \"b\", \"b\", \"c\"],\n",
       "...         \"b\": [1, 2, 3, 4, 5, 6],\n",
       "...         \"c\": [6, 5, 4, 3, 2, 1],\n",
       "...     }\n",
       "... )\n",
       ">>> lf.group_by(\"a\").agg(pl.all().sum()).collect()  # doctest: +SKIP\n",
       "shape: (3, 3)\n",
       "┌─────┬─────┬─────┐\n",
       "│ a   ┆ b   ┆ c   │\n",
       "│ --- ┆ --- ┆ --- │\n",
       "│ str ┆ i64 ┆ i64 │\n",
       "╞═════╪═════╪═════╡\n",
       "│ a   ┆ 4   ┆ 10  │\n",
       "│ b   ┆ 11  ┆ 10  │\n",
       "│ c   ┆ 6   ┆ 1   │\n",
       "└─────┴─────┴─────┘\n",
       "\n",
       "Collect in streaming mode\n",
       "\n",
       ">>> lf.group_by(\"a\").agg(pl.all().sum()).collect(\n",
       "...     engine=\"streaming\"\n",
       "... )  # doctest: +SKIP\n",
       "shape: (3, 3)\n",
       "┌─────┬─────┬─────┐\n",
       "│ a   ┆ b   ┆ c   │\n",
       "│ --- ┆ --- ┆ --- │\n",
       "│ str ┆ i64 ┆ i64 │\n",
       "╞═════╪═════╪═════╡\n",
       "│ a   ┆ 4   ┆ 10  │\n",
       "│ b   ┆ 11  ┆ 10  │\n",
       "│ c   ┆ 6   ┆ 1   │\n",
       "└─────┴─────┴─────┘\n",
       "\n",
       "Collect in GPU mode\n",
       "\n",
       ">>> lf.group_by(\"a\").agg(pl.all().sum()).collect(engine=\"gpu\")  # doctest: +SKIP\n",
       "shape: (3, 3)\n",
       "┌─────┬─────┬─────┐\n",
       "│ a   ┆ b   ┆ c   │\n",
       "│ --- ┆ --- ┆ --- │\n",
       "│ str ┆ i64 ┆ i64 │\n",
       "╞═════╪═════╪═════╡\n",
       "│ b   ┆ 11  ┆ 10  │\n",
       "│ a   ┆ 4   ┆ 10  │\n",
       "│ c   ┆ 6   ┆ 1   │\n",
       "└─────┴─────┴─────┘\n",
       "\n",
       "With control over the device used\n",
       "\n",
       ">>> lf.group_by(\"a\").agg(pl.all().sum()).collect(\n",
       "...     engine=pl.GPUEngine(device=1)\n",
       "... )  # doctest: +SKIP\n",
       "shape: (3, 3)\n",
       "┌─────┬─────┬─────┐\n",
       "│ a   ┆ b   ┆ c   │\n",
       "│ --- ┆ --- ┆ --- │\n",
       "│ str ┆ i64 ┆ i64 │\n",
       "╞═════╪═════╪═════╡\n",
       "│ b   ┆ 11  ┆ 10  │\n",
       "│ a   ┆ 4   ┆ 10  │\n",
       "│ c   ┆ 6   ┆ 1   │\n",
       "└─────┴─────┴─────┘\n",
       "\u001b[1;31mFile:\u001b[0m      c:\\users\\user\\appdata\\local\\programs\\python\\python312\\lib\\site-packages\\polars\\lazyframe\\frame.py\n",
       "\u001b[1;31mType:\u001b[0m      method"
      ]
     },
     "metadata": {},
     "output_type": "display_data"
    }
   ],
   "source": [
    "?lazy_df.collect"
   ]
  },
  {
   "cell_type": "code",
   "execution_count": 20,
   "id": "fd177ff6-3aa7-4037-bd9d-e23d140a1256",
   "metadata": {},
   "outputs": [],
   "source": [
    "import timeit\n"
   ]
  },
  {
   "cell_type": "code",
   "execution_count": 22,
   "id": "06663088-a3d2-47cd-ae23-f592d42e9819",
   "metadata": {},
   "outputs": [
    {
     "name": "stderr",
     "output_type": "stream",
     "text": [
      "UsageError: Line magic function `%%timeit` not found.\n"
     ]
    }
   ],
   "source": [
    "  # PANDAS\n",
    "\n",
    "%%timeit\n",
    "import pandas as pd\n",
    "\n",
    "df = pd.read_csv(\"events.csv\")\n",
    "df_selected = df[['brand', 'event_type','price']]\n",
    "df_filtered = df_selected[df_selected['event_type'] == 'view']\n",
    "result_df = df_filtered.groupby('brand')['price'].mean().rese\n",
    "t_index(name='average_price')\n",
    "print(result_df)"
   ]
  },
  {
   "cell_type": "code",
   "execution_count": 17,
   "id": "023a5dba-6e7b-4c76-90e1-397329c77356",
   "metadata": {},
   "outputs": [
    {
     "name": "stderr",
     "output_type": "stream",
     "text": [
      "UsageError: Line magic function `%%timeit` not found.\n"
     ]
    }
   ],
   "source": [
    "  # POLARS\n",
    "%%timeit\n",
    "import polars as pl\n",
    "\n",
    "result_df = (\n",
    " pl.scan_csv(\"events.csv\")\n",
    " .select(['brand', 'event_type', 'price'])\n",
    " .filter(pl.col('event_type') == 'view')\n",
    ".group_by(\"brand\").agg([pl.col(\"price\").mean().alias(\"average_price\")])\n",
    ").collect()\n",
    "print(result_df)\n"
   ]
  },
  {
   "cell_type": "code",
   "execution_count": null,
   "id": "7674226c-5f97-4db6-ad50-205bb1d3211c",
   "metadata": {},
   "outputs": [],
   "source": [
    "Цикл в жадном режиме"
   ]
  },
  {
   "cell_type": "code",
   "execution_count": null,
   "id": "a235f1c2-2e17-4a05-b589-8402cc83824d",
   "metadata": {},
   "outputs": [],
   "source": [
    "df_list = []\n",
    "for file in file_list:\n",
    "    df_list.append(\n",
    "        pl.read_csv(file)\n",
    "    )\n",
    "df = pl.concat(df_list)\n",
    "\n",
    "output = (\n",
    "    df\n",
    "    .groupby('brand')\n",
    "    .agg([pl.col(\"price\").mean().alias(\"average_price\")])\n",
    ")"
   ]
  },
  {
   "cell_type": "code",
   "execution_count": null,
   "id": "9536d818-e702-4e83-8996-d6d62bb6a5bb",
   "metadata": {},
   "outputs": [],
   "source": [
    "Цикл в ленивом режиме"
   ]
  },
  {
   "cell_type": "code",
   "execution_count": null,
   "id": "34deb2bc-972a-40be-b369-e6043ce8cc17",
   "metadata": {},
   "outputs": [],
   "source": [
    "df_list = []\n",
    "for file in file_list:\n",
    "    df_list.append(\n",
    "        pl.scan_csv(file)\n",
    "    )\n",
    "    \n",
    "df = pl.concat(df_list)\n",
    "\n",
    "output = (\n",
    "    df\n",
    "    .groupby('brand')\n",
    "    .agg([pl.col(\"price\").mean().alias(\"average_price\")])\n",
    ").collect()"
   ]
  },
  {
   "cell_type": "code",
   "execution_count": null,
   "id": "4d65b283-252a-4831-8b70-b87927ee6910",
   "metadata": {},
   "outputs": [],
   "source": [
    "# читает все csv в папке\n",
    "output = (\n",
    " pl.scan_csv(\"./*.csv\")\n",
    " .groupby('brand')\n",
    " .agg([pl.col(\"price\").mean().alias(\"average_price\")])\n",
    ").collect(streaming = True)"
   ]
  },
  {
   "cell_type": "code",
   "execution_count": null,
   "id": "6a5466da-1f50-4d67-a5d2-add442ab5a36",
   "metadata": {},
   "outputs": [],
   "source": [
    "lazy_df = pl.scan_csv(\"data.csv\")\n",
    "result = lazy_df.filter(pl.col(\"name\") == \"Alice\").select([\"id\", \"sales\"])\n",
    "result_df = result.collect()\n",
    "print(result_df)"
   ]
  },
  {
   "cell_type": "code",
   "execution_count": null,
   "id": "c7bf60fd-bff4-4310-a674-0d6a2463f0d9",
   "metadata": {},
   "outputs": [],
   "source": [
    "pl.scan_csv(\"data.csv\").filter(pl.col(\"name\") == \"Alice\").select([\"id\", \"sales\"]).collect()"
   ]
  },
  {
   "cell_type": "raw",
   "id": "ac9dfebe-562c-4703-9331-f10768b1c141",
   "metadata": {},
   "source": [
    "Python DA Практикум 12"
   ]
  },
  {
   "cell_type": "code",
   "execution_count": null,
   "id": "cad07dfa-61d9-4c6e-a722-bf3b777e66a7",
   "metadata": {},
   "outputs": [],
   "source": [
    "Задание 1: Создание большого набора данных\n",
    "Создайте DataFrame с 1 000 строк и следующими столбцами:\n",
    "● id: Последовательные целые числа от 1 до 1 000.\n",
    "● имя: Случайные имена из предопределенного списка.\n",
    "● возраст: Случайный возраст от 18 до 65 лет.\n",
    "● salary: Случайная зарплата в диапазоне от 30 000 до 100 000.\n",
    "● отдел: Случайные названия отделов из предопределенного списка.\n",
    "● join_date: Случайные даты в течение последних 10 лет"
   ]
  },
  {
   "cell_type": "code",
   "execution_count": 27,
   "id": "ecb97593-2588-4a0f-ab05-1a6c828e0856",
   "metadata": {},
   "outputs": [
    {
     "data": {
      "text/html": [
       "<div><style>\n",
       ".dataframe > thead > tr,\n",
       ".dataframe > tbody > tr {\n",
       "  text-align: right;\n",
       "  white-space: pre-wrap;\n",
       "}\n",
       "</style>\n",
       "<small>shape: (1_000, 6)</small><table border=\"1\" class=\"dataframe\"><thead><tr><th>id</th><th>surnames</th><th>age</th><th>salary</th><th>departments</th><th>join_date</th></tr><tr><td>i64</td><td>str</td><td>i64</td><td>i64</td><td>str</td><td>datetime[μs]</td></tr></thead><tbody><tr><td>1</td><td>&quot;Miller&quot;</td><td>54</td><td>51389</td><td>&quot;Sales&quot;</td><td>2015-08-22 12:56:34.506171</td></tr><tr><td>2</td><td>&quot;Martinez&quot;</td><td>33</td><td>56034</td><td>&quot;IT&quot;</td><td>2018-03-05 12:56:34.506171</td></tr><tr><td>3</td><td>&quot;Jones&quot;</td><td>29</td><td>48552</td><td>&quot;Marketing&quot;</td><td>2020-12-28 12:56:34.506171</td></tr><tr><td>4</td><td>&quot;Brown&quot;</td><td>19</td><td>64921</td><td>&quot;HR&quot;</td><td>2021-01-29 12:56:34.506171</td></tr><tr><td>5</td><td>&quot;Johnson&quot;</td><td>55</td><td>34647</td><td>&quot;Marketing&quot;</td><td>2015-06-17 12:56:34.506171</td></tr><tr><td>&hellip;</td><td>&hellip;</td><td>&hellip;</td><td>&hellip;</td><td>&hellip;</td><td>&hellip;</td></tr><tr><td>996</td><td>&quot;Smith&quot;</td><td>40</td><td>95833</td><td>&quot;Marketing&quot;</td><td>2020-07-27 12:56:34.508171</td></tr><tr><td>997</td><td>&quot;Johnson&quot;</td><td>52</td><td>77623</td><td>&quot;Marketing&quot;</td><td>2017-08-04 12:56:34.508171</td></tr><tr><td>998</td><td>&quot;Jones&quot;</td><td>57</td><td>77253</td><td>&quot;HR&quot;</td><td>2021-07-18 12:56:34.508171</td></tr><tr><td>999</td><td>&quot;Walger&quot;</td><td>52</td><td>34336</td><td>&quot;Marketing&quot;</td><td>2016-07-19 12:56:34.508171</td></tr><tr><td>1000</td><td>&quot;Brown&quot;</td><td>54</td><td>66331</td><td>&quot;Marketing&quot;</td><td>2020-04-15 12:56:34.508171</td></tr></tbody></table></div>"
      ],
      "text/plain": [
       "shape: (1_000, 6)\n",
       "┌──────┬──────────┬─────┬────────┬─────────────┬────────────────────────────┐\n",
       "│ id   ┆ surnames ┆ age ┆ salary ┆ departments ┆ join_date                  │\n",
       "│ ---  ┆ ---      ┆ --- ┆ ---    ┆ ---         ┆ ---                        │\n",
       "│ i64  ┆ str      ┆ i64 ┆ i64    ┆ str         ┆ datetime[μs]               │\n",
       "╞══════╪══════════╪═════╪════════╪═════════════╪════════════════════════════╡\n",
       "│ 1    ┆ Miller   ┆ 54  ┆ 51389  ┆ Sales       ┆ 2015-08-22 12:56:34.506171 │\n",
       "│ 2    ┆ Martinez ┆ 33  ┆ 56034  ┆ IT          ┆ 2018-03-05 12:56:34.506171 │\n",
       "│ 3    ┆ Jones    ┆ 29  ┆ 48552  ┆ Marketing   ┆ 2020-12-28 12:56:34.506171 │\n",
       "│ 4    ┆ Brown    ┆ 19  ┆ 64921  ┆ HR          ┆ 2021-01-29 12:56:34.506171 │\n",
       "│ 5    ┆ Johnson  ┆ 55  ┆ 34647  ┆ Marketing   ┆ 2015-06-17 12:56:34.506171 │\n",
       "│ …    ┆ …        ┆ …   ┆ …      ┆ …           ┆ …                          │\n",
       "│ 996  ┆ Smith    ┆ 40  ┆ 95833  ┆ Marketing   ┆ 2020-07-27 12:56:34.508171 │\n",
       "│ 997  ┆ Johnson  ┆ 52  ┆ 77623  ┆ Marketing   ┆ 2017-08-04 12:56:34.508171 │\n",
       "│ 998  ┆ Jones    ┆ 57  ┆ 77253  ┆ HR          ┆ 2021-07-18 12:56:34.508171 │\n",
       "│ 999  ┆ Walger   ┆ 52  ┆ 34336  ┆ Marketing   ┆ 2016-07-19 12:56:34.508171 │\n",
       "│ 1000 ┆ Brown    ┆ 54  ┆ 66331  ┆ Marketing   ┆ 2020-04-15 12:56:34.508171 │\n",
       "└──────┴──────────┴─────┴────────┴─────────────┴────────────────────────────┘"
      ]
     },
     "execution_count": 27,
     "metadata": {},
     "output_type": "execute_result"
    }
   ],
   "source": [
    "import random\n",
    "from datetime import datetime, timedelta\n",
    "\n",
    "random.seed(9)\n",
    "_id = range(1, 1001)\n",
    "surnames = [random.choice(['Walger','Smith', 'Johnson', 'Williams', 'Brown', 'Jones', 'Garcia', 'Miller', 'Davis', 'Martinez', 'Taylor']) for _ in range(1000)]\n",
    "age = [random.randint(18, 65) for _ in range(1000)]\n",
    "salary = [random.randint(30000, 100000) for _ in range(1000)]\n",
    "departments = [random.choice(['Sales', 'IT', 'Marketing', 'Accounting', 'HR', 'Logistics']) for _ in range(1000)]\n",
    "join_date = [datetime.now() - timedelta(days = random.randint(0, 3650)) for _ in range(1000)]\n",
    "\n",
    "df = pl.DataFrame({'id': _id, \n",
    "                   'surnames': surnames, \n",
    "                   'age': age, \n",
    "                   'salary': salary, \n",
    "                   'departments': departments, \n",
    "                   'join_date': join_date})\n",
    "df"
   ]
  },
  {
   "cell_type": "code",
   "execution_count": null,
   "id": "eb42ddd1-202b-40b4-a6cc-6e3052495785",
   "metadata": {},
   "outputs": [],
   "source": [
    "Задание 2: Базовые преобразования\n",
    "● Фильтрация: Отфильтровать сотрудников, которые относятся к отделу \"ИТ\" и\n",
    "старше 30 лет.\n",
    "● Сортировка: Отсортируйте отфильтрованный DataFrame по зарплате в порядке\n",
    "убывания.\n",
    "● Выбор столбцов: Выберите только id, имя и зарплату из отсортированных\n",
    "DataFrame."
   ]
  },
  {
   "cell_type": "code",
   "execution_count": 29,
   "id": "07a81c53-ce59-40e9-a4b3-a4bfe720168e",
   "metadata": {},
   "outputs": [
    {
     "data": {
      "text/html": [
       "<div><style>\n",
       ".dataframe > thead > tr,\n",
       ".dataframe > tbody > tr {\n",
       "  text-align: right;\n",
       "  white-space: pre-wrap;\n",
       "}\n",
       "</style>\n",
       "<small>shape: (125, 3)</small><table border=\"1\" class=\"dataframe\"><thead><tr><th>id</th><th>surnames</th><th>salary</th></tr><tr><td>i64</td><td>str</td><td>i64</td></tr></thead><tbody><tr><td>570</td><td>&quot;Garcia&quot;</td><td>99840</td></tr><tr><td>650</td><td>&quot;Davis&quot;</td><td>99777</td></tr><tr><td>132</td><td>&quot;Smith&quot;</td><td>98140</td></tr><tr><td>301</td><td>&quot;Garcia&quot;</td><td>97751</td></tr><tr><td>722</td><td>&quot;Brown&quot;</td><td>97705</td></tr><tr><td>&hellip;</td><td>&hellip;</td><td>&hellip;</td></tr><tr><td>528</td><td>&quot;Johnson&quot;</td><td>33335</td></tr><tr><td>972</td><td>&quot;Davis&quot;</td><td>32924</td></tr><tr><td>157</td><td>&quot;Brown&quot;</td><td>32204</td></tr><tr><td>19</td><td>&quot;Johnson&quot;</td><td>31450</td></tr><tr><td>415</td><td>&quot;Garcia&quot;</td><td>31128</td></tr></tbody></table></div>"
      ],
      "text/plain": [
       "shape: (125, 3)\n",
       "┌─────┬──────────┬────────┐\n",
       "│ id  ┆ surnames ┆ salary │\n",
       "│ --- ┆ ---      ┆ ---    │\n",
       "│ i64 ┆ str      ┆ i64    │\n",
       "╞═════╪══════════╪════════╡\n",
       "│ 570 ┆ Garcia   ┆ 99840  │\n",
       "│ 650 ┆ Davis    ┆ 99777  │\n",
       "│ 132 ┆ Smith    ┆ 98140  │\n",
       "│ 301 ┆ Garcia   ┆ 97751  │\n",
       "│ 722 ┆ Brown    ┆ 97705  │\n",
       "│ …   ┆ …        ┆ …      │\n",
       "│ 528 ┆ Johnson  ┆ 33335  │\n",
       "│ 972 ┆ Davis    ┆ 32924  │\n",
       "│ 157 ┆ Brown    ┆ 32204  │\n",
       "│ 19  ┆ Johnson  ┆ 31450  │\n",
       "│ 415 ┆ Garcia   ┆ 31128  │\n",
       "└─────┴──────────┴────────┘"
      ]
     },
     "execution_count": 29,
     "metadata": {},
     "output_type": "execute_result"
    }
   ],
   "source": [
    "df.filter((pl.col('departments') == 'IT') & (pl.col('age') >= 30)).sort('salary', descending = True).select(['id', 'surnames', 'salary'])"
   ]
  },
  {
   "cell_type": "code",
   "execution_count": null,
   "id": "dec8e53b-d77f-489a-a255-f9d23a9e2eb3",
   "metadata": {},
   "outputs": [],
   "source": [
    "Задача 3: Расширенные преобразования\n",
    "● Группировка по и агрегирование: Вычислите среднюю зарплату по отделу.\n",
    "● Melt: Преобразуйте DataFrame из широкого формата в длинный, используя id и\n",
    "name в качестве переменных-идентификаторов.\n",
    "● Join: Создайте небольшой DataFrame с названиями отделов и их\n",
    "местоположением. Выполните внутреннее объединение с исходным\n",
    "DataFrame, чтобы добавить информацию о местоположении."
   ]
  },
  {
   "cell_type": "code",
   "execution_count": 30,
   "id": "a509da41-9ebf-49af-8ccd-a40902e29c80",
   "metadata": {},
   "outputs": [
    {
     "data": {
      "text/html": [
       "<div><style>\n",
       ".dataframe > thead > tr,\n",
       ".dataframe > tbody > tr {\n",
       "  text-align: right;\n",
       "  white-space: pre-wrap;\n",
       "}\n",
       "</style>\n",
       "<small>shape: (2_000, 4)</small><table border=\"1\" class=\"dataframe\"><thead><tr><th>id</th><th>surnames</th><th>sa</th><th>val</th></tr><tr><td>i64</td><td>str</td><td>str</td><td>i64</td></tr></thead><tbody><tr><td>1</td><td>&quot;Miller&quot;</td><td>&quot;salary&quot;</td><td>51389</td></tr><tr><td>2</td><td>&quot;Martinez&quot;</td><td>&quot;salary&quot;</td><td>56034</td></tr><tr><td>3</td><td>&quot;Jones&quot;</td><td>&quot;salary&quot;</td><td>48552</td></tr><tr><td>4</td><td>&quot;Brown&quot;</td><td>&quot;salary&quot;</td><td>64921</td></tr><tr><td>5</td><td>&quot;Johnson&quot;</td><td>&quot;salary&quot;</td><td>34647</td></tr><tr><td>&hellip;</td><td>&hellip;</td><td>&hellip;</td><td>&hellip;</td></tr><tr><td>996</td><td>&quot;Smith&quot;</td><td>&quot;age&quot;</td><td>40</td></tr><tr><td>997</td><td>&quot;Johnson&quot;</td><td>&quot;age&quot;</td><td>52</td></tr><tr><td>998</td><td>&quot;Jones&quot;</td><td>&quot;age&quot;</td><td>57</td></tr><tr><td>999</td><td>&quot;Walger&quot;</td><td>&quot;age&quot;</td><td>52</td></tr><tr><td>1000</td><td>&quot;Brown&quot;</td><td>&quot;age&quot;</td><td>54</td></tr></tbody></table></div>"
      ],
      "text/plain": [
       "shape: (2_000, 4)\n",
       "┌──────┬──────────┬────────┬───────┐\n",
       "│ id   ┆ surnames ┆ sa     ┆ val   │\n",
       "│ ---  ┆ ---      ┆ ---    ┆ ---   │\n",
       "│ i64  ┆ str      ┆ str    ┆ i64   │\n",
       "╞══════╪══════════╪════════╪═══════╡\n",
       "│ 1    ┆ Miller   ┆ salary ┆ 51389 │\n",
       "│ 2    ┆ Martinez ┆ salary ┆ 56034 │\n",
       "│ 3    ┆ Jones    ┆ salary ┆ 48552 │\n",
       "│ 4    ┆ Brown    ┆ salary ┆ 64921 │\n",
       "│ 5    ┆ Johnson  ┆ salary ┆ 34647 │\n",
       "│ …    ┆ …        ┆ …      ┆ …     │\n",
       "│ 996  ┆ Smith    ┆ age    ┆ 40    │\n",
       "│ 997  ┆ Johnson  ┆ age    ┆ 52    │\n",
       "│ 998  ┆ Jones    ┆ age    ┆ 57    │\n",
       "│ 999  ┆ Walger   ┆ age    ┆ 52    │\n",
       "│ 1000 ┆ Brown    ┆ age    ┆ 54    │\n",
       "└──────┴──────────┴────────┴───────┘"
      ]
     },
     "execution_count": 30,
     "metadata": {},
     "output_type": "execute_result"
    }
   ],
   "source": [
    "df.group_by('departments').agg(pl.col('salary').mean())\n",
    "# melted_df = df.unpivot(index=\"Year\", on=[\"Product A\", \"Product B\"], variable_name=\"Product\", value_name=\"Sales\")\n",
    "\n",
    "df.unpivot(index=[\"id\",'surnames'],on=['salary','age'],variable_name=\"sa\",value_name=\"val\")"
   ]
  },
  {
   "cell_type": "code",
   "execution_count": 31,
   "id": "4228c8fb-04b9-4b9f-b906-0e734ac46b87",
   "metadata": {},
   "outputs": [
    {
     "data": {
      "text/html": [
       "<div><style>\n",
       ".dataframe > thead > tr,\n",
       ".dataframe > tbody > tr {\n",
       "  text-align: right;\n",
       "  white-space: pre-wrap;\n",
       "}\n",
       "</style>\n",
       "<small>shape: (1_000, 7)</small><table border=\"1\" class=\"dataframe\"><thead><tr><th>id</th><th>surnames</th><th>age</th><th>salary</th><th>departments</th><th>join_date</th><th>location</th></tr><tr><td>i64</td><td>str</td><td>i64</td><td>i64</td><td>str</td><td>datetime[μs]</td><td>str</td></tr></thead><tbody><tr><td>1</td><td>&quot;Miller&quot;</td><td>54</td><td>51389</td><td>&quot;Sales&quot;</td><td>2015-08-22 12:56:34.506171</td><td>&quot;New York&quot;</td></tr><tr><td>2</td><td>&quot;Martinez&quot;</td><td>33</td><td>56034</td><td>&quot;IT&quot;</td><td>2018-03-05 12:56:34.506171</td><td>&quot;London&quot;</td></tr><tr><td>3</td><td>&quot;Jones&quot;</td><td>29</td><td>48552</td><td>&quot;Marketing&quot;</td><td>2020-12-28 12:56:34.506171</td><td>&quot;Paris&quot;</td></tr><tr><td>4</td><td>&quot;Brown&quot;</td><td>19</td><td>64921</td><td>&quot;HR&quot;</td><td>2021-01-29 12:56:34.506171</td><td>&quot;Sydney&quot;</td></tr><tr><td>5</td><td>&quot;Johnson&quot;</td><td>55</td><td>34647</td><td>&quot;Marketing&quot;</td><td>2015-06-17 12:56:34.506171</td><td>&quot;Paris&quot;</td></tr><tr><td>&hellip;</td><td>&hellip;</td><td>&hellip;</td><td>&hellip;</td><td>&hellip;</td><td>&hellip;</td><td>&hellip;</td></tr><tr><td>996</td><td>&quot;Smith&quot;</td><td>40</td><td>95833</td><td>&quot;Marketing&quot;</td><td>2020-07-27 12:56:34.508171</td><td>&quot;Paris&quot;</td></tr><tr><td>997</td><td>&quot;Johnson&quot;</td><td>52</td><td>77623</td><td>&quot;Marketing&quot;</td><td>2017-08-04 12:56:34.508171</td><td>&quot;Paris&quot;</td></tr><tr><td>998</td><td>&quot;Jones&quot;</td><td>57</td><td>77253</td><td>&quot;HR&quot;</td><td>2021-07-18 12:56:34.508171</td><td>&quot;Sydney&quot;</td></tr><tr><td>999</td><td>&quot;Walger&quot;</td><td>52</td><td>34336</td><td>&quot;Marketing&quot;</td><td>2016-07-19 12:56:34.508171</td><td>&quot;Paris&quot;</td></tr><tr><td>1000</td><td>&quot;Brown&quot;</td><td>54</td><td>66331</td><td>&quot;Marketing&quot;</td><td>2020-04-15 12:56:34.508171</td><td>&quot;Paris&quot;</td></tr></tbody></table></div>"
      ],
      "text/plain": [
       "shape: (1_000, 7)\n",
       "┌──────┬──────────┬─────┬────────┬─────────────┬────────────────────────────┬──────────┐\n",
       "│ id   ┆ surnames ┆ age ┆ salary ┆ departments ┆ join_date                  ┆ location │\n",
       "│ ---  ┆ ---      ┆ --- ┆ ---    ┆ ---         ┆ ---                        ┆ ---      │\n",
       "│ i64  ┆ str      ┆ i64 ┆ i64    ┆ str         ┆ datetime[μs]               ┆ str      │\n",
       "╞══════╪══════════╪═════╪════════╪═════════════╪════════════════════════════╪══════════╡\n",
       "│ 1    ┆ Miller   ┆ 54  ┆ 51389  ┆ Sales       ┆ 2015-08-22 12:56:34.506171 ┆ New York │\n",
       "│ 2    ┆ Martinez ┆ 33  ┆ 56034  ┆ IT          ┆ 2018-03-05 12:56:34.506171 ┆ London   │\n",
       "│ 3    ┆ Jones    ┆ 29  ┆ 48552  ┆ Marketing   ┆ 2020-12-28 12:56:34.506171 ┆ Paris    │\n",
       "│ 4    ┆ Brown    ┆ 19  ┆ 64921  ┆ HR          ┆ 2021-01-29 12:56:34.506171 ┆ Sydney   │\n",
       "│ 5    ┆ Johnson  ┆ 55  ┆ 34647  ┆ Marketing   ┆ 2015-06-17 12:56:34.506171 ┆ Paris    │\n",
       "│ …    ┆ …        ┆ …   ┆ …      ┆ …           ┆ …                          ┆ …        │\n",
       "│ 996  ┆ Smith    ┆ 40  ┆ 95833  ┆ Marketing   ┆ 2020-07-27 12:56:34.508171 ┆ Paris    │\n",
       "│ 997  ┆ Johnson  ┆ 52  ┆ 77623  ┆ Marketing   ┆ 2017-08-04 12:56:34.508171 ┆ Paris    │\n",
       "│ 998  ┆ Jones    ┆ 57  ┆ 77253  ┆ HR          ┆ 2021-07-18 12:56:34.508171 ┆ Sydney   │\n",
       "│ 999  ┆ Walger   ┆ 52  ┆ 34336  ┆ Marketing   ┆ 2016-07-19 12:56:34.508171 ┆ Paris    │\n",
       "│ 1000 ┆ Brown    ┆ 54  ┆ 66331  ┆ Marketing   ┆ 2020-04-15 12:56:34.508171 ┆ Paris    │\n",
       "└──────┴──────────┴─────┴────────┴─────────────┴────────────────────────────┴──────────┘"
      ]
     },
     "execution_count": 31,
     "metadata": {},
     "output_type": "execute_result"
    }
   ],
   "source": [
    "df.group_by('departments').agg(pl.col('salary').mean())\n",
    "# melted_df = df.unpivot(index=\"Year\", on=[\"Product A\", \"Product B\"], variable_name=\"Product\", value_name=\"Sales\")\n",
    "\n",
    "df.unpivot(index=[\"id\",'surnames'],on=['salary','age'],variable_name=\"sa\",value_name=\"val\")\n",
    "\n",
    "location_data=pl.DataFrame({\n",
    "    'departments': ['Sales', 'IT', 'Marketing', 'Accounting', 'HR', 'Logistics'],\n",
    "    'location': ['New York', 'London', 'Paris', 'Tokyo', 'Sydney', 'Berlin']\n",
    "})\n",
    "df.join( location_data, on= 'departments', how='inner')"
   ]
  },
  {
   "cell_type": "code",
   "execution_count": null,
   "id": "2ab762a7-9ef6-4609-99fc-eb71f51f526d",
   "metadata": {},
   "outputs": [],
   "source": [
    "Задание 4: Использование ленивых вычислений\n",
    "1. Преобразуйте исходный DataFrame в LazyFrame.\n",
    "2. Применить преобразования: Примените ряд преобразований с помощью\n",
    "ленивого API (фильтр, выборка, группировка по и агрегирование).\n",
    "3. Соберите результат в DataFrame."
   ]
  },
  {
   "cell_type": "code",
   "execution_count": 32,
   "id": "d1c00602-776d-4e5a-bf19-30a5430bec37",
   "metadata": {},
   "outputs": [
    {
     "data": {
      "text/html": [
       "<div><style>\n",
       ".dataframe > thead > tr,\n",
       ".dataframe > tbody > tr {\n",
       "  text-align: right;\n",
       "  white-space: pre-wrap;\n",
       "}\n",
       "</style>\n",
       "<small>shape: (6, 2)</small><table border=\"1\" class=\"dataframe\"><thead><tr><th>departments</th><th>salary</th></tr><tr><td>str</td><td>i64</td></tr></thead><tbody><tr><td>&quot;Logistics&quot;</td><td>77395</td></tr><tr><td>&quot;IT&quot;</td><td>79455</td></tr><tr><td>&quot;Marketing&quot;</td><td>79507</td></tr><tr><td>&quot;Accounting&quot;</td><td>79770</td></tr><tr><td>&quot;HR&quot;</td><td>79829</td></tr><tr><td>&quot;Sales&quot;</td><td>79981</td></tr></tbody></table></div>"
      ],
      "text/plain": [
       "shape: (6, 2)\n",
       "┌─────────────┬────────┐\n",
       "│ departments ┆ salary │\n",
       "│ ---         ┆ ---    │\n",
       "│ str         ┆ i64    │\n",
       "╞═════════════╪════════╡\n",
       "│ Logistics   ┆ 77395  │\n",
       "│ IT          ┆ 79455  │\n",
       "│ Marketing   ┆ 79507  │\n",
       "│ Accounting  ┆ 79770  │\n",
       "│ HR          ┆ 79829  │\n",
       "│ Sales       ┆ 79981  │\n",
       "└─────────────┴────────┘"
      ]
     },
     "execution_count": 32,
     "metadata": {},
     "output_type": "execute_result"
    }
   ],
   "source": [
    "lazy_df = df.lazy()\n",
    "lazy_df.filter((pl.col('age') >= 42) & (pl.col('salary') <= 80000)).select([\"departments\", \"salary\"])\\\n",
    ".group_by([\"departments\"]).agg(pl.col.salary.max()).sort(\"salary\").collect()"
   ]
  },
  {
   "cell_type": "code",
   "execution_count": null,
   "id": "7615ad8e-21e1-4a42-8278-f5c0a0aacbab",
   "metadata": {},
   "outputs": [],
   "source": [
    "*Задание 5: Визуализация\n",
    "● Гистограмма: Создайте гистограмму распределения по возрасту.\n",
    "● Гистограмма: Создайте гистограмму, показывающую среднюю зарплату по\n",
    "отделам."
   ]
  },
  {
   "cell_type": "code",
   "execution_count": null,
   "id": "99002a48-7b16-4062-9301-49fc4d86b393",
   "metadata": {},
   "outputs": [],
   "source": [
    "Лучше сначала все считать в поларсе, а потом отправлять в пандас.\n",
    "Графики лучше отрисовывать в пандас."
   ]
  },
  {
   "cell_type": "code",
   "execution_count": 47,
   "id": "13332afa-4dc5-4bc0-bcd1-34ad11f10193",
   "metadata": {},
   "outputs": [
    {
     "data": {
      "text/html": [
       "<div><style>\n",
       ".dataframe > thead > tr,\n",
       ".dataframe > tbody > tr {\n",
       "  text-align: right;\n",
       "  white-space: pre-wrap;\n",
       "}\n",
       "</style>\n",
       "<small>shape: (10, 3)</small><table border=\"1\" class=\"dataframe\"><thead><tr><th>breakpoint</th><th>category</th><th>count</th></tr><tr><td>f64</td><td>cat</td><td>u32</td></tr></thead><tbody><tr><td>22.7</td><td>&quot;(17.953, 22.7]&quot;</td><td>117</td></tr><tr><td>27.4</td><td>&quot;(22.7, 27.4]&quot;</td><td>98</td></tr><tr><td>32.1</td><td>&quot;(27.4, 32.1]&quot;</td><td>93</td></tr><tr><td>36.8</td><td>&quot;(32.1, 36.8]&quot;</td><td>77</td></tr><tr><td>41.5</td><td>&quot;(36.8, 41.5]&quot;</td><td>103</td></tr><tr><td>46.2</td><td>&quot;(41.5, 46.2]&quot;</td><td>114</td></tr><tr><td>50.9</td><td>&quot;(46.2, 50.9]&quot;</td><td>84</td></tr><tr><td>55.6</td><td>&quot;(50.9, 55.6]&quot;</td><td>100</td></tr><tr><td>60.3</td><td>&quot;(55.6, 60.3]&quot;</td><td>105</td></tr><tr><td>65.0</td><td>&quot;(60.3, 65.0]&quot;</td><td>109</td></tr></tbody></table></div>"
      ],
      "text/plain": [
       "shape: (10, 3)\n",
       "┌────────────┬────────────────┬───────┐\n",
       "│ breakpoint ┆ category       ┆ count │\n",
       "│ ---        ┆ ---            ┆ ---   │\n",
       "│ f64        ┆ cat            ┆ u32   │\n",
       "╞════════════╪════════════════╪═══════╡\n",
       "│ 22.7       ┆ (17.953, 22.7] ┆ 117   │\n",
       "│ 27.4       ┆ (22.7, 27.4]   ┆ 98    │\n",
       "│ 32.1       ┆ (27.4, 32.1]   ┆ 93    │\n",
       "│ 36.8       ┆ (32.1, 36.8]   ┆ 77    │\n",
       "│ 41.5       ┆ (36.8, 41.5]   ┆ 103   │\n",
       "│ 46.2       ┆ (41.5, 46.2]   ┆ 114   │\n",
       "│ 50.9       ┆ (46.2, 50.9]   ┆ 84    │\n",
       "│ 55.6       ┆ (50.9, 55.6]   ┆ 100   │\n",
       "│ 60.3       ┆ (55.6, 60.3]   ┆ 105   │\n",
       "│ 65.0       ┆ (60.3, 65.0]   ┆ 109   │\n",
       "└────────────┴────────────────┴───────┘"
      ]
     },
     "execution_count": 47,
     "metadata": {},
     "output_type": "execute_result"
    }
   ],
   "source": [
    "df_hist = df['age'].hist()\n",
    "df_hist "
   ]
  },
  {
   "cell_type": "code",
   "execution_count": 45,
   "id": "eb75d873-d1d7-4af9-b7b2-6a457f23d111",
   "metadata": {},
   "outputs": [
    {
     "data": {
      "text/plain": [
       "(array([117.,  98.,  93.,  77., 103., 114.,  84., 100., 105., 109.]),\n",
       " array([18. , 22.7, 27.4, 32.1, 36.8, 41.5, 46.2, 50.9, 55.6, 60.3, 65. ]),\n",
       " <BarContainer object of 10 artists>)"
      ]
     },
     "execution_count": 45,
     "metadata": {},
     "output_type": "execute_result"
    },
    {
     "data": {
      "image/png": "[encoded data removed]",
      "text/plain": [
       "<Figure size 640x480 with 1 Axes>"
      ]
     },
     "metadata": {},
     "output_type": "display_data"
    }
   ],
   "source": [
    "import matplotlib.pyplot as plt\n",
    "\n",
    "plt.hist(df['age'])"
   ]
  },
  {
   "cell_type": "code",
   "execution_count": 48,
   "id": "b0b732ec-10f7-43e7-b45e-95a063b43a82",
   "metadata": {},
   "outputs": [
    {
     "data": {
      "text/plain": [
       "<BarContainer object of 10 artists>"
      ]
     },
     "execution_count": 48,
     "metadata": {},
     "output_type": "execute_result"
    },
    {
     "data": {
      "image/png": "[encoded data removed]",
      "text/plain": [
       "<Figure size 640x480 with 1 Axes>"
      ]
     },
     "metadata": {},
     "output_type": "display_data"
    }
   ],
   "source": [
    "plt.bar(df_hist['breakpoint'] - 2.5, df_hist['count'], width=5)"
   ]
  },
  {
   "cell_type": "code",
   "execution_count": null,
   "id": "4c0e9d1f-297c-4647-b9a7-e284bf08cac2",
   "metadata": {},
   "outputs": [],
   "source": [
    "# df_hist = df['age'].hist()\n",
    "# df_hist\n",
    "# import matplotlib.pyplot as plt\n",
    "\n",
    "# plt.hist(df['age'])\n",
    "# plt.show()\n",
    "# plt.bar(df_hist['breakpoint'] - 2.5, df_hist['count'], width=5)"
   ]
  },
  {
   "cell_type": "code",
   "execution_count": 50,
   "id": "59ddf82f-ecb7-44f2-bbe4-755a6310688c",
   "metadata": {},
   "outputs": [
    {
     "data": {
      "text/plain": [
       "<BarContainer object of 6 artists>"
      ]
     },
     "execution_count": 50,
     "metadata": {},
     "output_type": "execute_result"
    },
    {
     "data": {
      "image/png": "[encoded data removed]",
      "text/plain": [
       "<Figure size 640x480 with 1 Axes>"
      ]
     },
     "metadata": {},
     "output_type": "display_data"
    }
   ],
   "source": [
    "df_salary = df.group_by(pl.col('departments')).agg(pl.col('salary').mean())\n",
    "\n",
    "plt.bar(df_salary['departments'], df_salary['salary'])"
   ]
  },
  {
   "cell_type": "code",
   "execution_count": null,
   "id": "08267c29-9ce1-455c-864b-36678fa7ccc3",
   "metadata": {},
   "outputs": [],
   "source": [
    "# df_salary = df.group_by(pl.col('departments')).agg(pl.col('salary').mean())\n",
    "\n",
    "# plt.bar(df_salary['departments'], df_salary['salary'])"
   ]
  }
 ],
 "metadata": {
  "kernelspec": {
   "display_name": "Python 3 (ipykernel)",
   "language": "python",
   "name": "python3"
  },
  "language_info": {
   "codemirror_mode": {
    "name": "ipython",
    "version": 3
   },
   "file_extension": ".py",
   "mimetype": "text/x-python",
   "name": "python",
   "nbconvert_exporter": "python",
   "pygments_lexer": "ipython3",
   "version": "3.12.5"
  }
 },
 "nbformat": 4,
 "nbformat_minor": 5
}
