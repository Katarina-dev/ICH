{
 "cells": [
  {
   "cell_type": "code",
   "execution_count": null,
   "id": "df5b7a7f-f9b8-455e-a82e-474825231ba9",
   "metadata": {},
   "outputs": [],
   "source": [
    "Серии в Pandas"
   ]
  },
  {
   "cell_type": "code",
   "execution_count": 3,
   "id": "ad7934d5-9108-41f3-81b7-446e45721833",
   "metadata": {},
   "outputs": [],
   "source": [
    "import numpy as np\n",
    "import pandas as pd"
   ]
  },
  {
   "cell_type": "code",
   "execution_count": 1,
   "id": "cc8f89a8-3b63-4a05-9137-be241bacc1b2",
   "metadata": {},
   "outputs": [
    {
     "name": "stdout",
     "output_type": "stream",
     "text": [
      "0    10\n",
      "1    20\n",
      "2    30\n",
      "3    40\n",
      "4    50\n",
      "dtype: int64\n"
     ]
    }
   ],
   "source": [
    "\n",
    "data = [10, 20, 30, 40, 50]\n",
    "series = pd.Series(data)\n",
    "print(series)\n"
   ]
  },
  {
   "cell_type": "code",
   "execution_count": 4,
   "id": "83b168f7-4078-4079-8d99-2f6ce1c7f9d9",
   "metadata": {},
   "outputs": [
    {
     "name": "stdout",
     "output_type": "stream",
     "text": [
      "0     3.0\n",
      "1    18.0\n",
      "2    33.0\n",
      "dtype: float64\n",
      "0   -1.675613\n",
      "1   -0.566559\n",
      "2    0.974818\n",
      "3   -1.275923\n",
      "4   -0.388707\n",
      "dtype: float64\n"
     ]
    }
   ],
   "source": [
    "# Использование numpy.linspace()\n",
    "ser1 = pd.Series(np.linspace(3, 33, 3))\n",
    "print(ser1)\n",
    "# Использование numpy.random.normal()\n",
    "ser2 = pd.Series(np.random.normal(0.0, 1.0,\n",
    "5))\n",
    "print(ser2)\n"
   ]
  },
  {
   "cell_type": "code",
   "execution_count": 5,
   "id": "44ac572e-0e65-497e-b99e-a2bde8c8f180",
   "metadata": {},
   "outputs": [
    {
     "name": "stdout",
     "output_type": "stream",
     "text": [
      "0    11\n",
      "1    22\n",
      "2    33\n",
      "3    44\n",
      "4    55\n",
      "dtype: int64\n"
     ]
    }
   ],
   "source": [
    "series1 = pd.Series([1, 2, 3, 4, 5])\n",
    "series2 = pd.Series([10, 20, 30, 40, 50])\n",
    "# Сложение\n",
    "result= series1 + series2\n",
    "print(result)\n"
   ]
  },
  {
   "cell_type": "code",
   "execution_count": 6,
   "id": "af463884-891c-4c6f-9283-07ec29f854aa",
   "metadata": {},
   "outputs": [
    {
     "name": "stdout",
     "output_type": "stream",
     "text": [
      "15\n",
      "3.0\n"
     ]
    }
   ],
   "source": [
    "series = pd.Series([1, 2, 3, 4, 5])\n",
    "# Сумма\n",
    "print(series.sum())\n",
    "# Среднее\n",
    "print(series.mean())\n"
   ]
  },
  {
   "cell_type": "code",
   "execution_count": 7,
   "id": "1d765a23-aee5-4179-aadd-7192f949221a",
   "metadata": {},
   "outputs": [
    {
     "name": "stdout",
     "output_type": "stream",
     "text": [
      "10\n",
      "1    20\n",
      "2    30\n",
      "3    40\n",
      "dtype: int64\n"
     ]
    }
   ],
   "source": [
    "series = pd.Series([10, 20, 30, 40, 50])\n",
    "# Доступ к первому элементу\n",
    "print(series[0])\n",
    "# Нарезка\n",
    "print(series[1:4])"
   ]
  },
  {
   "cell_type": "code",
   "execution_count": 8,
   "id": "27a24ee9-539f-45b0-a121-52a88e18d218",
   "metadata": {},
   "outputs": [
    {
     "name": "stdout",
     "output_type": "stream",
     "text": [
      "20\n",
      "b    20\n",
      "c    30\n",
      "d    40\n",
      "dtype: int64\n"
     ]
    }
   ],
   "source": [
    "series = pd.Series([10, 20, 30, 40, 50],\n",
    "index=['a', 'b', 'c', 'd', 'e'])\n",
    "# Доступ к элементу с меткой 'b'\n",
    "print(series['b'])\n",
    "# Нарезка с метками\n",
    "print(series['b':'d'])\n"
   ]
  },
  {
   "cell_type": "code",
   "execution_count": null,
   "id": "54574465-f031-4ed7-9d2a-7304992e9a53",
   "metadata": {},
   "outputs": [],
   "source": [
    "DataFrame в Pandas"
   ]
  },
  {
   "cell_type": "code",
   "execution_count": null,
   "id": "3c2b24da-cc14-4432-9c84-de52092f7b3c",
   "metadata": {},
   "outputs": [],
   "source": [
    "Пример: Создание фрейма данных из\n",
    "словаря"
   ]
  },
  {
   "cell_type": "code",
   "execution_count": 9,
   "id": "e00e96c4-e086-4dce-aa48-688eb78cbf5d",
   "metadata": {},
   "outputs": [
    {
     "name": "stdout",
     "output_type": "stream",
     "text": [
      "   Name  Возраст\n",
      "0   Том       20\n",
      "1   Ник       21\n",
      "2  Криш       19\n",
      "3  Джек       18\n"
     ]
    }
   ],
   "source": [
    "data = {\n",
    " \"Name\": [\"Том\", \"Ник\", \"Криш\", \"Джек\"],\n",
    " \"Возраст\": [20, 21, 19, 18]\n",
    "}\n",
    "df = pd.DataFrame(data)\n",
    "print(df)\n"
   ]
  },
  {
   "cell_type": "code",
   "execution_count": null,
   "id": "fcf8db91-9cc3-4889-bcd0-678688eab721",
   "metadata": {},
   "outputs": [],
   "source": [
    "Пример: Создание фрейма данных из\n",
    "списка списков"
   ]
  },
  {
   "cell_type": "code",
   "execution_count": 10,
   "id": "96688f12-fad0-49e8-8c05-6fd4122a0f01",
   "metadata": {},
   "outputs": [
    {
     "name": "stdout",
     "output_type": "stream",
     "text": [
      "    Name  Age\n",
      "0    Tom   20\n",
      "1   Nick   21\n",
      "2  Krish   19\n",
      "3   Jack   18\n"
     ]
    }
   ],
   "source": [
    "data = [['Tom', 20], ['Nick', 21], ['Krish',19], ['Jack', 18]]\n",
    "df = pd.DataFrame(data, columns=['Name','Age'])\n",
    "print(df)"
   ]
  },
  {
   "cell_type": "code",
   "execution_count": null,
   "id": "d324cad7-5bb2-4216-bc40-42ac094b4df9",
   "metadata": {},
   "outputs": [],
   "source": [
    "Пример: Создание фрейма данных из\n",
    "массива NumPy"
   ]
  },
  {
   "cell_type": "code",
   "execution_count": 11,
   "id": "f8b5b6f0-6bdc-493d-988a-a7bef046e249",
   "metadata": {},
   "outputs": [
    {
     "name": "stdout",
     "output_type": "stream",
     "text": [
      "     Col1 Col2\n",
      "Row1    1    2\n",
      "Row2    3    4\n"
     ]
    }
   ],
   "source": [
    "data = np.array([['', 'Col1', 'Col2'], ['Row1', 1, 2], ['Row2', 3, 4]])\n",
    "df = pd.DataFrame(data=data[1:, 1:], index=data[1:, 0], columns=data[0, 1:])\n",
    "print(df)"
   ]
  },
  {
   "cell_type": "code",
   "execution_count": null,
   "id": "2166b712-0507-4ec9-b01f-f6a68efb666c",
   "metadata": {},
   "outputs": [],
   "source": [
    "Пример: Создание фрейма данных из файла CSV"
   ]
  },
  {
   "cell_type": "raw",
   "id": "874acf82-fe28-44b1-a668-b2ff9f723dc6",
   "metadata": {},
   "source": [
    "df = pd.read_csv('data.csv')\n",
    "print(df)"
   ]
  },
  {
   "cell_type": "code",
   "execution_count": null,
   "id": "6433a90e-b25a-4dfb-aed2-12ac4bdcc772",
   "metadata": {},
   "outputs": [],
   "source": [
    "Пример: Арифметические операции"
   ]
  },
  {
   "cell_type": "code",
   "execution_count": 13,
   "id": "14614bfb-14e8-4935-a54b-a22f71e6fc90",
   "metadata": {},
   "outputs": [
    {
     "name": "stdout",
     "output_type": "stream",
     "text": [
      "    A   B\n",
      "0  11  44\n",
      "1  22  55\n",
      "2  33  66\n"
     ]
    }
   ],
   "source": [
    "df1 = pd.DataFrame({'A': [1, 2, 3], 'B': [4,5, 6]})\n",
    "df2 = pd.DataFrame({'A': [10, 20, 30], 'B':[40, 50, 60]})\n",
    "# Сложение\n",
    "result= df1 + df2\n",
    "print(result)\n"
   ]
  },
  {
   "cell_type": "code",
   "execution_count": null,
   "id": "4ee87479-a844-4a75-bc7d-d54f4eb53d24",
   "metadata": {},
   "outputs": [],
   "source": [
    "Пример: Агрегация "
   ]
  },
  {
   "cell_type": "code",
   "execution_count": 14,
   "id": "c94a9931-08c6-4aad-ae03-70d79620bcbe",
   "metadata": {},
   "outputs": [
    {
     "name": "stdout",
     "output_type": "stream",
     "text": [
      "A     6\n",
      "B    15\n",
      "dtype: int64\n",
      "A    2.0\n",
      "B    5.0\n",
      "dtype: float64\n"
     ]
    }
   ],
   "source": [
    "df = pd.DataFrame({'A': [1, 2, 3], 'B': [4, 5, 6]})\n",
    "# Сумма\n",
    "print(df.sum())\n",
    "# Среднее\n",
    "print(df.mean())\n"
   ]
  },
  {
   "cell_type": "code",
   "execution_count": null,
   "id": "779ce729-9576-494f-b5ae-e5a187c36a5c",
   "metadata": {},
   "outputs": [],
   "source": [
    "Пример: Позиционное индексирование "
   ]
  },
  {
   "cell_type": "code",
   "execution_count": 15,
   "id": "dce09337-9831-48f6-b84b-9111ab6616da",
   "metadata": {},
   "outputs": [
    {
     "name": "stdout",
     "output_type": "stream",
     "text": [
      "A    1\n",
      "B    4\n",
      "Name: 0, dtype: int64\n",
      "   A  B\n",
      "1  2  5\n",
      "2  3  6\n"
     ]
    }
   ],
   "source": [
    "df = pd.DataFrame({'A': [1, 2, 3], 'B': [4, 5, 6]})\n",
    "\n",
    "# Доступ к первому ряду\n",
    "print(df.iloc[0])\n",
    "\n",
    "# Нарезка строк\n",
    "print(df.iloc[1:3])\n"
   ]
  },
  {
   "cell_type": "code",
   "execution_count": null,
   "id": "282adc60-831d-408d-ac66-094fb33639b4",
   "metadata": {},
   "outputs": [],
   "source": [
    "Пример: Индексирование на основе меток"
   ]
  },
  {
   "cell_type": "code",
   "execution_count": 16,
   "id": "b09f3705-fc64-4203-a15b-28a85f72e409",
   "metadata": {},
   "outputs": [
    {
     "name": "stdout",
     "output_type": "stream",
     "text": [
      "A    2\n",
      "B    5\n",
      "Name: row2, dtype: int64\n",
      "      A  B\n",
      "row1  1  4\n",
      "row2  2  5\n"
     ]
    }
   ],
   "source": [
    "df = pd.DataFrame({'A': [1, 2, 3], 'B': [4,\n",
    "5, 6]}, index=['row1', 'row2', 'row3'])\n",
    "# Доступ к ряду по метке\n",
    "print(df.loc['row2'])\n",
    "# Нарезка строк по меткам\n",
    "print(df.loc['row1':'row2'])\n"
   ]
  },
  {
   "cell_type": "code",
   "execution_count": null,
   "id": "e02b411b-de93-4bea-b1e4-80885548aa22",
   "metadata": {},
   "outputs": [],
   "source": [
    "Атрибуты фреймов данных"
   ]
  },
  {
   "cell_type": "code",
   "execution_count": null,
   "id": "593dd2cc-690b-4ccb-a176-071368d4ccac",
   "metadata": {},
   "outputs": [],
   "source": [
    "df.shape: Возвращает кортеж, представляющий размерность фрейма данных.\n",
    "df.columns: Возвращает метки столбцов DataFrame.\n",
    "df.index: Возвращает метки строк фрейма DataFrame"
   ]
  },
  {
   "cell_type": "code",
   "execution_count": null,
   "id": "7bf9a88e-395e-4221-b06f-e66af1450816",
   "metadata": {},
   "outputs": [],
   "source": [
    "Методы фреймов данных"
   ]
  },
  {
   "cell_type": "code",
   "execution_count": null,
   "id": "416592d0-cf39-4bf6-beea-beb216db5763",
   "metadata": {},
   "outputs": [],
   "source": [
    "df.head(n): Возвращает первые n строк фрейма DataFrame.\n",
    "df.tail(n): Возвращает последние n строк фрейма DataFrame.\n",
    "df.describe(): Генерирует описательную статистику фрейма DataFrame.\n",
    "df.info(): Предоставляет краткую информацию о DataFrame.\n",
    "df.drop(columns): Удаляет указанные столбцы из DataFrame.\n",
    "df.rename(columns): Переименовывает столбцы в DataFrame"
   ]
  },
  {
   "cell_type": "code",
   "execution_count": null,
   "id": "2f8dbc9b-d16f-49ee-85dd-f4f1e8d1ca8d",
   "metadata": {},
   "outputs": [],
   "source": [
    "Пример: Использование атрибутов и\n",
    "методов"
   ]
  },
  {
   "cell_type": "code",
   "execution_count": 17,
   "id": "a8471f3d-705b-409e-b571-5e89b153b7fb",
   "metadata": {},
   "outputs": [
    {
     "name": "stdout",
     "output_type": "stream",
     "text": [
      "(3, 2)\n",
      "Index(['A', 'B'], dtype='object')\n",
      "   A  B\n",
      "0  1  4\n",
      "1  2  5\n",
      "         A    B\n",
      "count  3.0  3.0\n",
      "mean   2.0  5.0\n",
      "std    1.0  1.0\n",
      "min    1.0  4.0\n",
      "25%    1.5  4.5\n",
      "50%    2.0  5.0\n",
      "75%    2.5  5.5\n",
      "max    3.0  6.0\n"
     ]
    }
   ],
   "source": [
    "df = pd.DataFrame({'A': [1, 2, 3], 'B': [4,\n",
    "5, 6]})\n",
    "\n",
    "# Форма фрейма данных\n",
    "print(df.shape)\n",
    "\n",
    "# Имена столбцов\n",
    "print(df.columns)\n",
    "\n",
    "# Первые две строки\n",
    "print(df.head(2))\n",
    "\n",
    "# Описательная статистика\n",
    "print(df.describe())\n"
   ]
  },
  {
   "cell_type": "code",
   "execution_count": null,
   "id": "a8317a25-4d99-4b7c-a21b-3cde52b694aa",
   "metadata": {},
   "outputs": [],
   "source": [
    "Очистка данных\n",
    "в Pandas"
   ]
  },
  {
   "cell_type": "code",
   "execution_count": null,
   "id": "aa067437-2259-4d02-b683-b93c1caaff1a",
   "metadata": {},
   "outputs": [],
   "source": [
    "Исследовательский анализ данных (EDA)"
   ]
  },
  {
   "cell_type": "code",
   "execution_count": null,
   "id": "8ffefe6b-3cee-4a16-bc36-fde3f0d6fc8c",
   "metadata": {},
   "outputs": [],
   "source": [
    "Это важнейший этап процесса анализа\n",
    "данных, включающий выявление и\n",
    "устранение ошибок, несоответствий и\n",
    "недостающих значений в наборе данных.\n",
    "Гарантирует, что данные точны, надежны и\n",
    "готовы к анализу или моделированию."
   ]
  },
  {
   "cell_type": "code",
   "execution_count": null,
   "id": "4b65d728-034d-4d73-8150-0220279924cc",
   "metadata": {},
   "outputs": [],
   "source": [
    "Исследовательский анализ данных (EDA)"
   ]
  },
  {
   "cell_type": "code",
   "execution_count": null,
   "id": "ece58621-e3c1-41ff-b2f7-d47ab7b8d01f",
   "metadata": {},
   "outputs": [],
   "source": [
    "print(df.info())\n",
    "print(df.describe())\n",
    "print(df.head())"
   ]
  },
  {
   "cell_type": "code",
   "execution_count": null,
   "id": "1799d0fb-0f43-487c-a52e-451d05c662e2",
   "metadata": {},
   "outputs": [],
   "source": [
    "Пример: Удаление строк с пропущенными\n",
    "значениями"
   ]
  },
  {
   "cell_type": "code",
   "execution_count": 18,
   "id": "d9662334-72d8-400e-9f78-fa5eaedc8e0f",
   "metadata": {},
   "outputs": [
    {
     "name": "stdout",
     "output_type": "stream",
     "text": [
      "     A    B    C\n",
      "1  2.0  2.0  2.0\n",
      "4  5.0  5.0  5.0\n"
     ]
    }
   ],
   "source": [
    "data = {'A': [1, 2, 3, None, 5], 'B': [None,\n",
    "2, 3, 4, 5], 'C': [1, 2, None, None, 5]}\n",
    "df = pd.DataFrame(data)\n",
    "df_cleaned = df.dropna()\n",
    "print(df_cleaned)"
   ]
  },
  {
   "cell_type": "code",
   "execution_count": null,
   "id": "09b9516a-1683-43b2-9451-a3dde1855081",
   "metadata": {},
   "outputs": [],
   "source": [
    "Пример: Заполнение пропущенных\n",
    "значений средним значением"
   ]
  },
  {
   "cell_type": "code",
   "execution_count": 21,
   "id": "f51091c4-86e3-4c99-a1bd-165197bf265d",
   "metadata": {},
   "outputs": [
    {
     "name": "stdout",
     "output_type": "stream",
     "text": [
      "      A    B         C\n",
      "0  1.00  3.5  1.000000\n",
      "1  2.00  2.0  2.000000\n",
      "2  3.00  3.0  2.666667\n",
      "3  2.75  4.0  2.666667\n",
      "4  5.00  5.0  5.000000\n"
     ]
    }
   ],
   "source": [
    "df_filled = df.fillna(df.mean())\n",
    "print(df_filled)"
   ]
  },
  {
   "cell_type": "code",
   "execution_count": null,
   "id": "010d1f07-60c3-4dc5-b9ea-b5e84e58bdbe",
   "metadata": {},
   "outputs": [],
   "source": [
    "Пример: Удаление дублирующихся строк"
   ]
  },
  {
   "cell_type": "code",
   "execution_count": 22,
   "id": "8df174ac-fae7-4978-942e-393c3b602cd4",
   "metadata": {},
   "outputs": [
    {
     "name": "stdout",
     "output_type": "stream",
     "text": [
      "     A    B    C\n",
      "0  1.0  NaN  1.0\n",
      "1  2.0  2.0  2.0\n",
      "2  3.0  3.0  NaN\n",
      "3  NaN  4.0  NaN\n",
      "4  5.0  5.0  5.0\n"
     ]
    }
   ],
   "source": [
    "df_no_duplicates = df.drop_duplicates()\n",
    "print(df_no_duplicates)"
   ]
  },
  {
   "cell_type": "code",
   "execution_count": null,
   "id": "146f32bb-314e-4495-b3d9-6f808dd5e7eb",
   "metadata": {},
   "outputs": [],
   "source": [
    "Слияние и\n",
    "объединение в\n",
    "Pandas"
   ]
  },
  {
   "cell_type": "code",
   "execution_count": null,
   "id": "cc1a3ed7-c857-4c1b-a720-54d0318140a3",
   "metadata": {},
   "outputs": [],
   "source": [
    "Пример: Слияние фреймов данных "
   ]
  },
  {
   "cell_type": "code",
   "execution_count": 19,
   "id": "ecf2cd13-0c3f-4822-962e-163b75f1b171",
   "metadata": {},
   "outputs": [
    {
     "name": "stdout",
     "output_type": "stream",
     "text": [
      "    a   b   c\n",
      "0  a1  b1  c1\n",
      "1  a2  b2  c2\n"
     ]
    }
   ],
   "source": [
    "df1 = pd.DataFrame({'a': ['a1', 'a2', 'a3'],\n",
    "'b': ['b1', 'b2', 'b3']})\n",
    "df2 = pd.DataFrame({'a': ['a1', 'a2', 'a4'],\n",
    "'c': ['c1', 'c2', 'c4']})\n",
    "merged_df = pd.merge(df1, df2, on='a')\n",
    "print(merged_df)"
   ]
  },
  {
   "cell_type": "code",
   "execution_count": 24,
   "id": "de6eaf9c-66dc-4725-a383-6ee01be09e52",
   "metadata": {
    "scrolled": true
   },
   "outputs": [
    {
     "data": {
      "text/plain": [
       "\u001b[31mSignature:\u001b[39m\n",
       "df.fillna(\n",
       "    value: \u001b[33m'Hashable | Mapping | Series | DataFrame | None'\u001b[39m = \u001b[38;5;28;01mNone\u001b[39;00m,\n",
       "    *,\n",
       "    method: \u001b[33m'FillnaOptions | None'\u001b[39m = \u001b[38;5;28;01mNone\u001b[39;00m,\n",
       "    axis: \u001b[33m'Axis | None'\u001b[39m = \u001b[38;5;28;01mNone\u001b[39;00m,\n",
       "    inplace: \u001b[33m'bool_t'\u001b[39m = \u001b[38;5;28;01mFalse\u001b[39;00m,\n",
       "    limit: \u001b[33m'int | None'\u001b[39m = \u001b[38;5;28;01mNone\u001b[39;00m,\n",
       "    downcast: \u001b[33m'dict | None | lib.NoDefault'\u001b[39m = <no_default>,\n",
       ") -> \u001b[33m'Self | None'\u001b[39m\n",
       "\u001b[31mDocstring:\u001b[39m\n",
       "Fill NA/NaN values using the specified method.\n",
       "\n",
       "Parameters\n",
       "----------\n",
       "value : scalar, dict, Series, or DataFrame\n",
       "    Value to use to fill holes (e.g. 0), alternately a\n",
       "    dict/Series/DataFrame of values specifying which value to use for\n",
       "    each index (for a Series) or column (for a DataFrame).  Values not\n",
       "    in the dict/Series/DataFrame will not be filled. This value cannot\n",
       "    be a list.\n",
       "method : {'backfill', 'bfill', 'ffill', None}, default None\n",
       "    Method to use for filling holes in reindexed Series:\n",
       "\n",
       "    * ffill: propagate last valid observation forward to next valid.\n",
       "    * backfill / bfill: use next valid observation to fill gap.\n",
       "\n",
       "    .. deprecated:: 2.1.0\n",
       "        Use ffill or bfill instead.\n",
       "\n",
       "axis : {0 or 'index'} for Series, {0 or 'index', 1 or 'columns'} for DataFrame\n",
       "    Axis along which to fill missing values. For `Series`\n",
       "    this parameter is unused and defaults to 0.\n",
       "inplace : bool, default False\n",
       "    If True, fill in-place. Note: this will modify any\n",
       "    other views on this object (e.g., a no-copy slice for a column in a\n",
       "    DataFrame).\n",
       "limit : int, default None\n",
       "    If method is specified, this is the maximum number of consecutive\n",
       "    NaN values to forward/backward fill. In other words, if there is\n",
       "    a gap with more than this number of consecutive NaNs, it will only\n",
       "    be partially filled. If method is not specified, this is the\n",
       "    maximum number of entries along the entire axis where NaNs will be\n",
       "    filled. Must be greater than 0 if not None.\n",
       "downcast : dict, default is None\n",
       "    A dict of item->dtype of what to downcast if possible,\n",
       "    or the string 'infer' which will try to downcast to an appropriate\n",
       "    equal type (e.g. float64 to int64 if possible).\n",
       "\n",
       "    .. deprecated:: 2.2.0\n",
       "\n",
       "Returns\n",
       "-------\n",
       "Series/DataFrame or None\n",
       "    Object with missing values filled or None if ``inplace=True``.\n",
       "\n",
       "See Also\n",
       "--------\n",
       "ffill : Fill values by propagating the last valid observation to next valid.\n",
       "bfill : Fill values by using the next valid observation to fill the gap.\n",
       "interpolate : Fill NaN values using interpolation.\n",
       "reindex : Conform object to new index.\n",
       "asfreq : Convert TimeSeries to specified frequency.\n",
       "\n",
       "Examples\n",
       "--------\n",
       ">>> df = pd.DataFrame([[np.nan, 2, np.nan, 0],\n",
       "...                    [3, 4, np.nan, 1],\n",
       "...                    [np.nan, np.nan, np.nan, np.nan],\n",
       "...                    [np.nan, 3, np.nan, 4]],\n",
       "...                   columns=list(\"ABCD\"))\n",
       ">>> df\n",
       "     A    B   C    D\n",
       "0  NaN  2.0 NaN  0.0\n",
       "1  3.0  4.0 NaN  1.0\n",
       "2  NaN  NaN NaN  NaN\n",
       "3  NaN  3.0 NaN  4.0\n",
       "\n",
       "Replace all NaN elements with 0s.\n",
       "\n",
       ">>> df.fillna(0)\n",
       "     A    B    C    D\n",
       "0  0.0  2.0  0.0  0.0\n",
       "1  3.0  4.0  0.0  1.0\n",
       "2  0.0  0.0  0.0  0.0\n",
       "3  0.0  3.0  0.0  4.0\n",
       "\n",
       "Replace all NaN elements in column 'A', 'B', 'C', and 'D', with 0, 1,\n",
       "2, and 3 respectively.\n",
       "\n",
       ">>> values = {\"A\": 0, \"B\": 1, \"C\": 2, \"D\": 3}\n",
       ">>> df.fillna(value=values)\n",
       "     A    B    C    D\n",
       "0  0.0  2.0  2.0  0.0\n",
       "1  3.0  4.0  2.0  1.0\n",
       "2  0.0  1.0  2.0  3.0\n",
       "3  0.0  3.0  2.0  4.0\n",
       "\n",
       "Only replace the first NaN element.\n",
       "\n",
       ">>> df.fillna(value=values, limit=1)\n",
       "     A    B    C    D\n",
       "0  0.0  2.0  2.0  0.0\n",
       "1  3.0  4.0  NaN  1.0\n",
       "2  NaN  1.0  NaN  3.0\n",
       "3  NaN  3.0  NaN  4.0\n",
       "\n",
       "When filling using a DataFrame, replacement happens along\n",
       "the same column names and same indices\n",
       "\n",
       ">>> df2 = pd.DataFrame(np.zeros((4, 4)), columns=list(\"ABCE\"))\n",
       ">>> df.fillna(df2)\n",
       "     A    B    C    D\n",
       "0  0.0  2.0  0.0  0.0\n",
       "1  3.0  4.0  0.0  1.0\n",
       "2  0.0  0.0  0.0  NaN\n",
       "3  0.0  3.0  0.0  4.0\n",
       "\n",
       "Note that column D is not affected since it is not present in df2.\n",
       "\u001b[31mFile:\u001b[39m      c:\\users\\user\\appdata\\local\\programs\\python\\python313\\lib\\site-packages\\pandas\\core\\generic.py\n",
       "\u001b[31mType:\u001b[39m      method"
      ]
     },
     "metadata": {},
     "output_type": "display_data"
    }
   ],
   "source": [
    "?df.fillna"
   ]
  },
  {
   "cell_type": "code",
   "execution_count": null,
   "id": "a5b8db65-71cd-4db7-8d7e-c67d257c959c",
   "metadata": {},
   "outputs": [],
   "source": [
    "Пример: Указание столбцов для слияния"
   ]
  },
  {
   "cell_type": "code",
   "execution_count": 25,
   "id": "fccf06c8-dfc9-409a-8c64-474a200705f9",
   "metadata": {},
   "outputs": [
    {
     "name": "stdout",
     "output_type": "stream",
     "text": [
      "    a   b  a_   c\n",
      "0  a1  b1  a1  c1\n",
      "1  a2  b2  a2  c2\n"
     ]
    }
   ],
   "source": [
    "df2 = df2.rename(columns={'a':'a_'})\n",
    "merged_df = pd.merge(df1, df2, left_on='a', right_on='a_')\n",
    "print(merged_df)"
   ]
  },
  {
   "cell_type": "code",
   "execution_count": null,
   "id": "445d93c2-0b0a-4eeb-83a8-8d7918efb7f4",
   "metadata": {},
   "outputs": [],
   "source": [
    "Пример: Базовое использование join()"
   ]
  },
  {
   "cell_type": "code",
   "execution_count": 26,
   "id": "697ba588-0d21-49a9-9537-3b11a684d7d2",
   "metadata": {},
   "outputs": [
    {
     "name": "stdout",
     "output_type": "stream",
     "text": [
      "     a    b\n",
      "i1  a1   b1\n",
      "i2  a2   b2\n",
      "i3  a3  NaN\n"
     ]
    }
   ],
   "source": [
    "df1 = pd.DataFrame({'a': ['a1', 'a2', 'a3']},index=['i1', 'i2', 'i3'])\n",
    "df2 = pd.DataFrame({'b': ['b1', 'b2', 'b3']},index=['i1', 'i2', 'i4'])\n",
    "\n",
    "joined_df = df1.join(df2, how='left')\n",
    "print(joined_df)"
   ]
  },
  {
   "cell_type": "code",
   "execution_count": null,
   "id": "3b4d79f8-ac1a-455a-a6c0-274094b4afb2",
   "metadata": {},
   "outputs": [],
   "source": [
    "Пример: Базовое использование функции\n",
    "concat()"
   ]
  },
  {
   "cell_type": "code",
   "execution_count": 27,
   "id": "dc59bb9a-1093-425d-8489-8574c1447bcd",
   "metadata": {},
   "outputs": [
    {
     "name": "stdout",
     "output_type": "stream",
     "text": [
      "    a   b\n",
      "0  a1  b1\n",
      "1  a2  b2\n",
      "2  a3  b3\n"
     ]
    }
   ],
   "source": [
    "df1 = pd.DataFrame({'a': ['a1', 'a2', 'a3']})\n",
    "df2 = pd.DataFrame({'b': ['b1', 'b2', 'b3']})\n",
    "concatenated_df = pd.concat([df1, df2],axis=1)\n",
    "print(concatenated_df)\n"
   ]
  },
  {
   "cell_type": "code",
   "execution_count": null,
   "id": "75bef967-d2a1-4efb-9e4c-1fa45e1f9b42",
   "metadata": {},
   "outputs": [],
   "source": [
    "Пример: Конкатенация с ключами "
   ]
  },
  {
   "cell_type": "code",
   "execution_count": 30,
   "id": "0f8d03b1-d957-4145-9bed-137d82d3a568",
   "metadata": {},
   "outputs": [
    {
     "name": "stdout",
     "output_type": "stream",
     "text": [
      "         a    b\n",
      "df1 0   a1  NaN\n",
      "    1   a2  NaN\n",
      "    2   a3  NaN\n",
      "df2 0  NaN   b1\n",
      "    1  NaN   b2\n",
      "    2  NaN   b3\n"
     ]
    },
    {
     "data": {
      "text/plain": [
       "MultiIndex([('df1', 0),\n",
       "            ('df1', 1),\n",
       "            ('df1', 2),\n",
       "            ('df2', 0),\n",
       "            ('df2', 1),\n",
       "            ('df2', 2)],\n",
       "           )"
      ]
     },
     "execution_count": 30,
     "metadata": {},
     "output_type": "execute_result"
    }
   ],
   "source": [
    "concatenated_df = pd.concat([df1, df2],keys=['df1', 'df2'])\n",
    "print(concatenated_df)\n",
    "concatenated_df.index"
   ]
  },
  {
   "cell_type": "code",
   "execution_count": 32,
   "id": "73a1b480-dfab-4357-ae3a-93482a27bc16",
   "metadata": {},
   "outputs": [
    {
     "data": {
      "text/plain": [
       "a     a2\n",
       "b    NaN\n",
       "Name: (df1, 1), dtype: object"
      ]
     },
     "execution_count": 32,
     "metadata": {},
     "output_type": "execute_result"
    }
   ],
   "source": [
    "concatenated_df.loc[('df1', 1)] # loc работает по имени, а iloc но номеру"
   ]
  },
  {
   "cell_type": "code",
   "execution_count": 36,
   "id": "71b00030-3da4-421d-8ff0-ed9a4e3563d7",
   "metadata": {},
   "outputs": [
    {
     "name": "stdout",
     "output_type": "stream",
     "text": [
      "a2\n"
     ]
    }
   ],
   "source": [
    "print(concatenated_df.loc[('df1', 1), 'a'])"
   ]
  },
  {
   "cell_type": "code",
   "execution_count": 35,
   "id": "4e2f78e8-31d1-4e5a-a458-c6e738f8e980",
   "metadata": {},
   "outputs": [
    {
     "name": "stdout",
     "output_type": "stream",
     "text": [
      "a2\n"
     ]
    }
   ],
   "source": [
    "print(concatenated_df.iloc[1, 0])"
   ]
  },
  {
   "cell_type": "code",
   "execution_count": null,
   "id": "cf05c5b6-8ea3-4779-94a0-66c7dcafb65e",
   "metadata": {},
   "outputs": [],
   "source": [
    "Группировка данных\n",
    "и сводные таблицы\n",
    "в Pandas"
   ]
  },
  {
   "cell_type": "code",
   "execution_count": null,
   "id": "0e85af0e-2164-4693-913e-0cc9770c4f80",
   "metadata": {},
   "outputs": [],
   "source": [
    "Пример: Базовое использование функции\n",
    "groupby()"
   ]
  },
  {
   "cell_type": "code",
   "execution_count": 38,
   "id": "34e18b6a-3b94-420f-955a-91f2d493db10",
   "metadata": {},
   "outputs": [
    {
     "name": "stdout",
     "output_type": "stream",
     "text": [
      "  Category  Value\n",
      "0        A     10\n",
      "1        B     20\n",
      "2        A     30\n",
      "3        B     40\n",
      "4        A     50\n",
      "5        B     60\n",
      "\n",
      "          Value\n",
      "Category       \n",
      "A            90\n",
      "B           120\n"
     ]
    }
   ],
   "source": [
    "# Образец данных\n",
    "data = {\n",
    " 'Category': ['A', 'B', 'A', 'B', 'A','B'],\n",
    " 'Value': [10, 20, 30, 40, 50, 60]\n",
    "}\n",
    "df = pd.DataFrame(data)\n",
    "print(df)\n",
    "print()\n",
    "\n",
    "# Группируем по \"Category\" и вычисляем сумму\"Value\"\n",
    "grouped_df = df.groupby('Category').sum()\n",
    "print(grouped_df)"
   ]
  },
  {
   "cell_type": "code",
   "execution_count": null,
   "id": "5777dd34-b01e-446c-88f6-926c8d89e743",
   "metadata": {},
   "outputs": [],
   "source": [
    "Пример: Расширенная группировка"
   ]
  },
  {
   "cell_type": "code",
   "execution_count": 39,
   "id": "1de58587-fe63-466b-aa76-3c456b200738",
   "metadata": {},
   "outputs": [
    {
     "name": "stdout",
     "output_type": "stream",
     "text": [
      "         Value          \n",
      "           sum  mean max\n",
      "Category                \n",
      "A           90  30.0  50\n",
      "B          120  40.0  60\n"
     ]
    }
   ],
   "source": [
    "# Группировка по 'Category' и вычисление нескольких агрегированных значений\n",
    "grouped_df = df.groupby('Category').agg({'Value': ['sum', 'mean', 'max']})\n",
    "print(grouped_df)"
   ]
  },
  {
   "cell_type": "code",
   "execution_count": null,
   "id": "0c66797d-ff41-41a4-bbcd-95e3d485973f",
   "metadata": {},
   "outputs": [],
   "source": [
    "Пример: Создание сводных таблиц с\n",
    "помощью функции pivot_table()"
   ]
  },
  {
   "cell_type": "code",
   "execution_count": 41,
   "id": "51c9e239-e9c9-4db5-b116-9df4287af53f",
   "metadata": {},
   "outputs": [
    {
     "name": "stdout",
     "output_type": "stream",
     "text": [
      "C        большой  маленький\n",
      "A   B                      \n",
      "bar one        3          4\n",
      "    two        0          3\n",
      "foo one        2          1\n",
      "    two        0          2\n"
     ]
    }
   ],
   "source": [
    "# Образец данных\n",
    "data = {\n",
    " 'A': ['foo', 'foo', 'foo', 'bar', 'bar', 'bar'],\n",
    " 'B': ['one', 'one', 'two', 'two', 'one', 'one'],\n",
    " 'C': ['маленький', 'большой', 'маленький', 'маленький', 'большой', 'маленький'],\n",
    " 'D': [1, 2, 2, 3, 3, 4]\n",
    "}\n",
    "df = pd.DataFrame(data)\n",
    "# Создание сводной таблицы\n",
    "pivot_table = pd.pivot_table(df, values='D', index=['A','B'], columns=['C'], aggfunc='sum', fill_value=0)\n",
    "print(pivot_table)"
   ]
  },
  {
   "cell_type": "code",
   "execution_count": null,
   "id": "105d85e0-a7e4-4b5f-aa21-56e9251bee9a",
   "metadata": {},
   "outputs": [],
   "source": [
    "pivot_table.plot(kind='line', title='Средние значения по A и B')"
   ]
  },
  {
   "cell_type": "code",
   "execution_count": null,
   "id": "aa24fa83-6807-44d7-a0c9-76d5aa22a826",
   "metadata": {},
   "outputs": [],
   "source": [
    "Пример: Построение графиков в таблицах\n",
    "Pivot"
   ]
  },
  {
   "cell_type": "code",
   "execution_count": 42,
   "id": "967ddbdd-f576-47dc-87b9-87fe6345398e",
   "metadata": {},
   "outputs": [
    {
     "data": {
      "text/plain": [
       "<Axes: title={'center': 'Средние значения по A и B'}, xlabel='A'>"
      ]
     },
     "execution_count": 42,
     "metadata": {},
     "output_type": "execute_result"
    },
    {
     "data": {
      "image/png": "[encoded data removed]",
      "text/plain": [
       "<Figure size 640x480 with 1 Axes>"
      ]
     },
     "metadata": {},
     "output_type": "display_data"
    }
   ],
   "source": [
    "# Построение графиков по таблице pivot\n",
    "pivot_table = pd.pivot_table(df, values='D', index='A', columns='B', aggfunc='mean')\n",
    "pivot_table.plot(kind='bar', title='Средние значения по A и B')"
   ]
  },
  {
   "cell_type": "code",
   "execution_count": 43,
   "id": "9fb52aaf-7fef-43ca-8d47-16d9e63e28db",
   "metadata": {},
   "outputs": [
    {
     "data": {
      "text/plain": [
       "array([<Axes: ylabel='one'>, <Axes: ylabel='two'>], dtype=object)"
      ]
     },
     "execution_count": 43,
     "metadata": {},
     "output_type": "execute_result"
    },
    {
     "data": {
      "image/png": "[encoded data removed]",
      "text/plain": [
       "<Figure size 640x480 with 2 Axes>"
      ]
     },
     "metadata": {},
     "output_type": "display_data"
    }
   ],
   "source": [
    "pivot_table.plot(kind='pie', subplots=True, title='Средние значения по A и B')"
   ]
  },
  {
   "cell_type": "code",
   "execution_count": null,
   "id": "07db0111-f42f-4a9b-93a9-0407a3f9de25",
   "metadata": {},
   "outputs": [],
   "source": [
    "Пример с несколькими агрегациями"
   ]
  },
  {
   "cell_type": "code",
   "execution_count": null,
   "id": "6e9bf06d-588a-49d5-b657-8a605d9b6460",
   "metadata": {},
   "outputs": [],
   "source": [
    "pivot_table = pd.pivot_table(df,\n",
    "values=['D'], index=['A', 'C'], aggfunc={'D':['mean', 'sum', 'max']})\n",
    "print(pivot_table)"
   ]
  },
  {
   "cell_type": "code",
   "execution_count": null,
   "id": "4be82c12-70b5-461f-af8a-85e4b9e9b55c",
   "metadata": {},
   "outputs": [],
   "source": [
    "1. Создайте DataFrame из словаря, добавьте новый столбец и вычислите среднее значение столбца."
   ]
  },
  {
   "cell_type": "code",
   "execution_count": 46,
   "id": "48a0f5f0-c999-4bed-acc6-e0d5a8b10aad",
   "metadata": {},
   "outputs": [
    {
     "name": "stdout",
     "output_type": "stream",
     "text": [
      "        Name  Math  Science  Total\n",
      "0      Alice    85       90    175\n",
      "1        Bob    78       82    160\n",
      "2    Charlie    92       95    187\n",
      "3      David    88       85    173\n",
      "sum            343      352    695\n",
      "Mean of Total: 173.75\n"
     ]
    }
   ],
   "source": [
    "data = {\n",
    "'Name': ['Alice', 'Bob', 'Charlie', 'David'],\n",
    "'Math': [85, 78, 92, 88],\n",
    "'Science': [90, 82, 95, 85]\n",
    "}\n",
    "df = pd.DataFrame(data)\n",
    "df['Total'] = df['Math'] + df['Science']\n",
    "mean_total = df['Total'].mean()\n",
    "\n",
    "df.loc['sum'] = df.sum()\n",
    "df.loc['sum','Name'] = ''\n",
    "\n",
    "print(df)\n",
    "print(f\"Mean of Total: {mean_total}\")"
   ]
  },
  {
   "cell_type": "code",
   "execution_count": null,
   "id": "06cc4ea8-fd7a-4dbb-bfab-babd90eb1857",
   "metadata": {},
   "outputs": [],
   "source": [
    "2. Фильтруйте строки на основе условия и сортируйте DataFrame по\n",
    "определенному столбцу."
   ]
  },
  {
   "cell_type": "code",
   "execution_count": 48,
   "id": "dac7e2ad-024f-4d4e-837d-2f2df1ee47b4",
   "metadata": {},
   "outputs": [
    {
     "name": "stdout",
     "output_type": "stream",
     "text": [
      "    Name  Age  Salary\n",
      "1    Bob   27   60000\n",
      "3  David   32   70000\n",
      "\n",
      "    Name  Age  Salary\n",
      "3  David   32   70000\n",
      "1    Bob   27   60000\n"
     ]
    }
   ],
   "source": [
    "data = {\n",
    "'Name': ['Alice', 'Bob', 'Charlie', 'David'],\n",
    "'Age': [24, 27, 22, 32],\n",
    "'Salary': [50000, 60000, 45000, 70000]\n",
    "}\n",
    "df = pd.DataFrame(data)\n",
    "filtered_df = df[df['Age'] > 25]\n",
    "print(filtered_df)\n",
    "\n",
    "sorted_df = filtered_df.sort_values(by='Salary', ascending=False)\n",
    "print()\n",
    "print(sorted_df)"
   ]
  },
  {
   "cell_type": "code",
   "execution_count": 49,
   "id": "aa3411fa-aeae-4faa-9661-67f8d7f4fc28",
   "metadata": {},
   "outputs": [
    {
     "data": {
      "text/plain": [
       "0    False\n",
       "1     True\n",
       "2    False\n",
       "3     True\n",
       "Name: Age, dtype: bool"
      ]
     },
     "execution_count": 49,
     "metadata": {},
     "output_type": "execute_result"
    }
   ],
   "source": [
    "df['Age'] > 25"
   ]
  },
  {
   "cell_type": "code",
   "execution_count": null,
   "id": "66e5fb8f-da9c-4e4f-9605-b2f9afedca12",
   "metadata": {},
   "outputs": [],
   "source": []
  }
 ],
 "metadata": {
  "kernelspec": {
   "display_name": "Python 3 (ipykernel)",
   "language": "python",
   "name": "python3"
  },
  "language_info": {
   "codemirror_mode": {
    "name": "ipython",
    "version": 3
   },
   "file_extension": ".py",
   "mimetype": "text/x-python",
   "name": "python",
   "nbconvert_exporter": "python",
   "pygments_lexer": "ipython3",
   "version": "3.13.3"
  }
 },
 "nbformat": 4,
 "nbformat_minor": 5
}
