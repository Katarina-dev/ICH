{
 "cells": [
  {
   "cell_type": "code",
   "execution_count": null,
   "id": "de72adfd-9ad5-4e68-8686-ab617e683c36",
   "metadata": {},
   "outputs": [],
   "source": [
    "было бы интересно  попробовать спрогнозировать пропущенные  цены на подержанные авто для датасета который мы почистили"
   ]
  }
 ],
 "metadata": {
  "kernelspec": {
   "display_name": "Python 3 (ipykernel)",
   "language": "python",
   "name": "python3"
  },
  "language_info": {
   "codemirror_mode": {
    "name": "ipython",
    "version": 3
   },
   "file_extension": ".py",
   "mimetype": "text/x-python",
   "name": "python",
   "nbconvert_exporter": "python",
   "pygments_lexer": "ipython3",
   "version": "3.13.3"
  }
 },
 "nbformat": 4,
 "nbformat_minor": 5
}
