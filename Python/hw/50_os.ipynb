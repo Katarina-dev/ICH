{
 "cells": [
  {
   "cell_type": "markdown",
   "id": "25da9ded-f776-4ffe-a6f7-07a6f3c59dc5",
   "metadata": {},
   "source": [
    "Скрипт принимает четыре аргумента командной строки:</br>\n",
    "Имя скрипта.</br>\n",
    "Первое число (a).</br>\n",
    "Второе число (b).</br>\n",
    "Название операции (operation), которая должна быть выполнена над числами.</br>\n",
    "python main.py 3 4 add"
   ]
  },
  {
   "cell_type": "code",
   "execution_count": 2,
   "id": "4780b1d4-fea1-48d1-8d2b-64f4ac6f22fa",
   "metadata": {},
   "outputs": [
    {
     "name": "stdout",
     "output_type": "stream",
     "text": [
      "['C:\\\\Users\\\\user\\\\AppData\\\\Local\\\\Programs\\\\Python\\\\Python312\\\\Lib\\\\site-packages\\\\ipykernel_launcher.py', '-f', 'C:\\\\Users\\\\user\\\\AppData\\\\Roaming\\\\jupyter\\\\runtime\\\\kernel-c14ab384-07a7-4b34-86e7-73c4ae6161c7.json']\n"
     ]
    },
    {
     "ename": "ValueError",
     "evalue": "not enough values to unpack (expected 4, got 3)",
     "output_type": "error",
     "traceback": [
      "\u001b[1;31m---------------------------------------------------------------------------\u001b[0m",
      "\u001b[1;31mValueError\u001b[0m                                Traceback (most recent call last)",
      "Cell \u001b[1;32mIn[2], line 5\u001b[0m\n\u001b[0;32m      2\u001b[0m \u001b[38;5;28;01mimport\u001b[39;00m \u001b[38;5;21;01moperator\u001b[39;00m\n\u001b[0;32m      4\u001b[0m \u001b[38;5;28mprint\u001b[39m(sys\u001b[38;5;241m.\u001b[39margv)\n\u001b[1;32m----> 5\u001b[0m _, a, b, operation \u001b[38;5;241m=\u001b[39m sys\u001b[38;5;241m.\u001b[39margv\n\u001b[0;32m      6\u001b[0m res \u001b[38;5;241m=\u001b[39m \u001b[38;5;28mgetattr\u001b[39m(operator, operation)(\u001b[38;5;28mint\u001b[39m(a), \u001b[38;5;28mint\u001b[39m(b))\n\u001b[0;32m      7\u001b[0m \u001b[38;5;28mprint\u001b[39m(res)\n",
      "\u001b[1;31mValueError\u001b[0m: not enough values to unpack (expected 4, got 3)"
     ]
    }
   ],
   "source": [
    "import sys\n",
    "import operator\n",
    "\n",
    "print(sys.argv)\n",
    "_, a, b, operation = sys.argv\n",
    "res = getattr(operator, operation)(int(a), int(b))\n",
    "print(res)"
   ]
  },
  {
   "cell_type": "code",
   "execution_count": null,
   "id": "2638ee55-f884-4e7c-88b8-155ff6041a67",
   "metadata": {},
   "outputs": [],
   "source": []
  },
  {
   "cell_type": "code",
   "execution_count": null,
   "id": "aa3301ab-ac1a-45c8-b26e-a8d435991ccf",
   "metadata": {},
   "outputs": [],
   "source": [
    "import argparse\n",
    "parser = argparse.ArgumentParser()\n",
    "\n",
    "parser.add_argument('--passport', help='Path to input file')\n",
    "parser.add_argument('--name', help='Path to output file')\n",
    "\n",
    "args = parser.parse_args()\n",
    "print(args.passport)\n",
    "print(args.name)"
   ]
  },
  {
   "cell_type": "markdown",
   "id": "43225cfc-9656-43ef-9b52-6ba45a2bd112",
   "metadata": {},
   "source": [
    "Скрипт подсчитывает частоту каждого слова в текстовом файле и сохраняет результат в JSON файл. Аргументы командной строки — это входной текстовый файл и выходной JSON файл."
   ]
  },
  {
   "cell_type": "code",
   "execution_count": 1,
   "id": "84551c30-170e-4c30-b929-f03923fa9c0e",
   "metadata": {},
   "outputs": [
    {
     "ename": "FileNotFoundError",
     "evalue": "[Errno 2] No such file or directory: '-f'",
     "output_type": "error",
     "traceback": [
      "\u001b[1;31m---------------------------------------------------------------------------\u001b[0m",
      "\u001b[1;31mFileNotFoundError\u001b[0m                         Traceback (most recent call last)",
      "Cell \u001b[1;32mIn[1], line 13\u001b[0m\n\u001b[0;32m     10\u001b[0m output_file \u001b[38;5;241m=\u001b[39m sys\u001b[38;5;241m.\u001b[39margv[\u001b[38;5;241m2\u001b[39m]\n\u001b[0;32m     12\u001b[0m \u001b[38;5;66;03m# Подсчет частоты слов\u001b[39;00m\n\u001b[1;32m---> 13\u001b[0m \u001b[38;5;28;01mwith\u001b[39;00m \u001b[38;5;28;43mopen\u001b[39;49m\u001b[43m(\u001b[49m\u001b[43minput_file\u001b[49m\u001b[43m,\u001b[49m\u001b[43m \u001b[49m\u001b[38;5;124;43m'\u001b[39;49m\u001b[38;5;124;43mr\u001b[39;49m\u001b[38;5;124;43m'\u001b[39;49m\u001b[43m)\u001b[49m \u001b[38;5;28;01mas\u001b[39;00m f:\n\u001b[0;32m     14\u001b[0m     words \u001b[38;5;241m=\u001b[39m f\u001b[38;5;241m.\u001b[39mread()\u001b[38;5;241m.\u001b[39msplit()\n\u001b[0;32m     15\u001b[0m word_count \u001b[38;5;241m=\u001b[39m Counter(words)\n",
      "File \u001b[1;32m~\\AppData\\Local\\Programs\\Python\\Python312\\Lib\\site-packages\\IPython\\core\\interactiveshell.py:324\u001b[0m, in \u001b[0;36m_modified_open\u001b[1;34m(file, *args, **kwargs)\u001b[0m\n\u001b[0;32m    317\u001b[0m \u001b[38;5;28;01mif\u001b[39;00m file \u001b[38;5;129;01min\u001b[39;00m {\u001b[38;5;241m0\u001b[39m, \u001b[38;5;241m1\u001b[39m, \u001b[38;5;241m2\u001b[39m}:\n\u001b[0;32m    318\u001b[0m     \u001b[38;5;28;01mraise\u001b[39;00m \u001b[38;5;167;01mValueError\u001b[39;00m(\n\u001b[0;32m    319\u001b[0m         \u001b[38;5;124mf\u001b[39m\u001b[38;5;124m\"\u001b[39m\u001b[38;5;124mIPython won\u001b[39m\u001b[38;5;124m'\u001b[39m\u001b[38;5;124mt let you open fd=\u001b[39m\u001b[38;5;132;01m{\u001b[39;00mfile\u001b[38;5;132;01m}\u001b[39;00m\u001b[38;5;124m by default \u001b[39m\u001b[38;5;124m\"\u001b[39m\n\u001b[0;32m    320\u001b[0m         \u001b[38;5;124m\"\u001b[39m\u001b[38;5;124mas it is likely to crash IPython. If you know what you are doing, \u001b[39m\u001b[38;5;124m\"\u001b[39m\n\u001b[0;32m    321\u001b[0m         \u001b[38;5;124m\"\u001b[39m\u001b[38;5;124myou can use builtins\u001b[39m\u001b[38;5;124m'\u001b[39m\u001b[38;5;124m open.\u001b[39m\u001b[38;5;124m\"\u001b[39m\n\u001b[0;32m    322\u001b[0m     )\n\u001b[1;32m--> 324\u001b[0m \u001b[38;5;28;01mreturn\u001b[39;00m \u001b[43mio_open\u001b[49m\u001b[43m(\u001b[49m\u001b[43mfile\u001b[49m\u001b[43m,\u001b[49m\u001b[43m \u001b[49m\u001b[38;5;241;43m*\u001b[39;49m\u001b[43margs\u001b[49m\u001b[43m,\u001b[49m\u001b[43m \u001b[49m\u001b[38;5;241;43m*\u001b[39;49m\u001b[38;5;241;43m*\u001b[39;49m\u001b[43mkwargs\u001b[49m\u001b[43m)\u001b[49m\n",
      "\u001b[1;31mFileNotFoundError\u001b[0m: [Errno 2] No such file or directory: '-f'"
     ]
    }
   ],
   "source": [
    "import sys\n",
    "import json\n",
    "from collections import Counter\n",
    "\n",
    "if len(sys.argv) != 3:\n",
    "    print(\"Usage: script.py <input_file.txt> <output_file.json>\")\n",
    "    sys.exit(1)\n",
    "\n",
    "input_file = sys.argv[1]\n",
    "output_file = sys.argv[2]\n",
    "\n",
    "# Подсчет частоты слов\n",
    "with open(input_file, 'r') as f:\n",
    "    words = f.read().split()\n",
    "word_count = Counter(words)\n",
    "\n",
    "# Сохранение результата в JSON файл\n",
    "with open(output_file, 'w') as f:\n",
    "    json.dump(word_count, f, indent=4)\n",
    "\n",
    "print(f\"Word frequency saved to {output_file}\")\n"
   ]
  },
  {
   "cell_type": "code",
   "execution_count": 7,
   "id": "0c4a7023-6f94-446e-b99a-c436e96e8554",
   "metadata": {},
   "outputs": [
    {
     "name": "stdout",
     "output_type": "stream",
     "text": [
      "Текущий рабочий каталог: D:\\ICH\\python_basic\\lectures_jupyter\n"
     ]
    }
   ],
   "source": [
    "import os\n",
    "\n",
    "# Получение текущего рабочего каталога\n",
    "current_dir = os.getcwd()\n",
    "print(f\"Текущий рабочий каталог: {current_dir}\")\n"
   ]
  },
  {
   "cell_type": "code",
   "execution_count": null,
   "id": "e2b7340e-2094-40a0-8818-0b2e6a1507aa",
   "metadata": {},
   "outputs": [],
   "source": [
    "import os\n",
    "\n",
    "# Путь к новому каталогу (замените на существующий каталог на вашей системе)\n",
    "new_dir = \"/path/to/directory\"\n",
    "\n",
    "# Изменение текущего рабочего каталога\n",
    "os.chdir(new_dir)\n",
    "print(f\"Текущий рабочий каталог изменен на: {os.getcwd()}\")\n"
   ]
  },
  {
   "cell_type": "code",
   "execution_count": 9,
   "id": "3f9d6dbd-6f2b-4820-b759-4e27e794f3db",
   "metadata": {},
   "outputs": [
    {
     "name": "stdout",
     "output_type": "stream",
     "text": [
      "Содержимое каталога '/path/to/directory': ['.ipynb_checkpoints', '2024-11-08.json', '46_generators.ipynb', '47_summary.ipynb', '48_annotations.ipynb', '50_os.ipynb', 'data_json.json', 'hello', 'venv']\n"
     ]
    }
   ],
   "source": [
    "import os\n",
    "\n",
    "# Список файлов и папок в каталоге\n",
    "items = os.listdir(os.getcwd())\n",
    "print(f\"Содержимое каталога '{directory}': {items}\")\n"
   ]
  },
  {
   "cell_type": "code",
   "execution_count": 11,
   "id": "db61faa9-b3e0-43c8-b20b-20a5eb184828",
   "metadata": {},
   "outputs": [
    {
     "name": "stdout",
     "output_type": "stream",
     "text": [
      "Каталог 'new_directory' успешно создан.\n"
     ]
    }
   ],
   "source": [
    "import os\n",
    "\n",
    "# Новый каталог (замените на путь, где можно создать каталог)\n",
    "new_directory = \"new_directory\"\n",
    "\n",
    "# Создание нового каталога\n",
    "os.mkdir(new_directory)\n",
    "print(f\"Каталог '{new_directory}' успешно создан.\")\n"
   ]
  },
  {
   "cell_type": "code",
   "execution_count": 13,
   "id": "91193db4-cc78-451c-aeb7-cc3f3b1a0617",
   "metadata": {},
   "outputs": [
    {
     "name": "stdout",
     "output_type": "stream",
     "text": [
      "Текущий каталог: D:\\ICH\\python_basic\\lectures_jupyter\n",
      "Подкаталоги: ['.ipynb_checkpoints', 'hello', 'new_directory', 'venv']\n",
      "Файлы: ['2024-11-08.json', '46_generators.ipynb', '47_summary.ipynb', '48_annotations.ipynb', '50_os.ipynb', 'data_json.json']\n",
      "--------------------\n",
      "Текущий каталог: D:\\ICH\\python_basic\\lectures_jupyter\\.ipynb_checkpoints\n",
      "Подкаталоги: []\n",
      "Файлы: ['2024-11-08-checkpoint.json', '46_generators-checkpoint.ipynb', '47_summary-checkpoint.ipynb', '48_annotations-checkpoint.ipynb', '50_os-checkpoint.ipynb', 'data_json-checkpoint.json', 'untitled-checkpoint.txt']\n",
      "--------------------\n",
      "Текущий каталог: D:\\ICH\\python_basic\\lectures_jupyter\\hello\n",
      "Подкаталоги: []\n",
      "Файлы: []\n",
      "--------------------\n",
      "Текущий каталог: D:\\ICH\\python_basic\\lectures_jupyter\\new_directory\n",
      "Подкаталоги: []\n",
      "Файлы: []\n",
      "--------------------\n"
     ]
    }
   ],
   "source": [
    "import os\n",
    "\n",
    "# Каталог для рекурсивного обхода\n",
    "directory = os.getcwd()\n",
    "\n",
    "# Рекурсивный обход каталога\n",
    "for root, dirs, files in os.walk(directory):\n",
    "    if 'venv' in root:\n",
    "        continue\n",
    "    print(f\"Текущий каталог: {root}\")\n",
    "    print(f\"Подкаталоги: {dirs}\")\n",
    "    print(f\"Файлы: {files}\")\n",
    "    print(\"-\" * 20)\n"
   ]
  },
  {
   "cell_type": "code",
   "execution_count": null,
   "id": "c46a2d67-01e4-4275-a477-75b76f7891c2",
   "metadata": {},
   "outputs": [],
   "source": []
  }
 ],
 "metadata": {
  "kernelspec": {
   "display_name": "Python 3 (ipykernel)",
   "language": "python",
   "name": "python3"
  },
  "language_info": {
   "codemirror_mode": {
    "name": "ipython",
    "version": 3
   },
   "file_extension": ".py",
   "mimetype": "text/x-python",
   "name": "python",
   "nbconvert_exporter": "python",
   "pygments_lexer": "ipython3",
   "version": "3.12.5"
  }
 },
 "nbformat": 4,
 "nbformat_minor": 5
}
