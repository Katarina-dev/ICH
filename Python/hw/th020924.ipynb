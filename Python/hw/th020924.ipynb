{
 "cells": [
  {
   "cell_type": "code",
   "execution_count": null,
   "id": "53a5bb36-f616-4834-a625-65f538184c0c",
   "metadata": {},
   "outputs": [],
   "source": [
    "count = 0\n",
    "s = 0\n",
    "while count < 5:\n",
    "    ans = input('Number or exit >>>')\n",
    "    if ans == 'exit':\n",
    "        print('Вышли по break')\n",
    "        break\n",
    "    s = s + int(ans)\n",
    "    count +=1\n",
    "else:\n",
    "    print('Вышли по count < 5')"
   ]
  },
  {
   "cell_type": "code",
   "execution_count": null,
   "id": "e9896a0d-1fcc-4626-ad1f-b61901911f23",
   "metadata": {},
   "outputs": [],
   "source": [
    "count = 0\n",
    "while count < 5:\n",
    "    pass\n",
    "if count == 5:\n",
    "    ...\n",
    "else:\n",
    "    pass"
   ]
  },
  {
   "cell_type": "code",
   "execution_count": 1,
   "id": "cf28293e-429c-4e23-b3c1-4cef77f0e790",
   "metadata": {},
   "outputs": [
    {
     "data": {
      "text/plain": [
       "'0b101100'"
      ]
     },
     "execution_count": 1,
     "metadata": {},
     "output_type": "execute_result"
    }
   ],
   "source": [
    "bin(44)"
   ]
  },
  {
   "cell_type": "code",
   "execution_count": 2,
   "id": "07982b1d-5e33-491d-a5a6-a68e04362385",
   "metadata": {},
   "outputs": [
    {
     "data": {
      "text/plain": [
       "'0b10000100'"
      ]
     },
     "execution_count": 2,
     "metadata": {},
     "output_type": "execute_result"
    }
   ],
   "source": [
    "bin(132)"
   ]
  }
 ],
 "metadata": {
  "kernelspec": {
   "display_name": "Python 3 (ipykernel)",
   "language": "python",
   "name": "python3"
  },
  "language_info": {
   "codemirror_mode": {
    "name": "ipython",
    "version": 3
   },
   "file_extension": ".py",
   "mimetype": "text/x-python",
   "name": "python",
   "nbconvert_exporter": "python",
   "pygments_lexer": "ipython3",
   "version": "3.12.5"
  }
 },
 "nbformat": 4,
 "nbformat_minor": 5
}
