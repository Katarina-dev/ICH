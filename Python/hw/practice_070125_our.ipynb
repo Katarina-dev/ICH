{
 "cells": [
  {
   "cell_type": "code",
   "execution_count": 3,
   "id": "fa3a1bbe-8c28-43d8-bc01-a7342308a85d",
   "metadata": {},
   "outputs": [
    {
     "name": "stdout",
     "output_type": "stream",
     "text": [
      "None\n"
     ]
    }
   ],
   "source": [
    "import requests\n",
    "from bs4 import BeautifulSoup\n",
    "\n",
    "url = 'https://www.flickr.com/explore/'\n",
    "\n",
    "\n",
    "def get_pictures(url):\n",
    "    response = requests.get(url).text\n",
    "    soup = BeautifulSoup(response, 'html.parser')\n",
    "    pictures = soup.find_all('img', attrs = {'loading': 'lazy'})\n",
    "    for img in pictures:\n",
    "        loading = img.get('src')\n",
    "        if loading:\n",
    "             if loading.startswith(\"//\"):  \n",
    "                 loading = \"https:\" + loading \n",
    "             image_links.append(loading)\n",
    "\n",
    "res = get_pictures(url)\n",
    "print(res)\n",
    "\n",
    "response = requests.get(url, stream = True)\n",
    "file_extension = url.split(\".\"[-1].split(\"?\")[0]\n",
    "count =1 \n",
    "name_file = f'image_{count}.{file_extension}'\n",
    "with open(name_file, 'wb') as file:\n",
    "    for chunk in response.iter_content(1024):\n",
    "        file.write(chunk)\n",
    "\n",
    "import os\n",
    "os.makedirs('images', exist_ok=True)\n",
    "\n",
    "def download_img(urls):\n",
    "    for id, link in enumerate(urls):\n",
    "        response = requests.get(link, stream = True)\n",
    "        file_extension = url.split(\".\"[-1].split(\"?\")[0]\n",
    "        name_file = f'image_{id}.{file_extension}' \n",
    "        name_file = os.path.join('images', name_file)\n",
    "        with open(name_file, 'wb') as file:\n",
    "            for chunk in response.iter_content(1024):\n",
    "                file.write(chunk)\n",
    "\n",
    "    "
   ]
  },
  {
   "cell_type": "code",
   "execution_count": null,
   "id": "151769fa-a1fe-411a-9d1f-14f9a889fab7",
   "metadata": {},
   "outputs": [],
   "source": []
  }
 ],
 "metadata": {
  "kernelspec": {
   "display_name": "Python 3 (ipykernel)",
   "language": "python",
   "name": "python3"
  },
  "language_info": {
   "codemirror_mode": {
    "name": "ipython",
    "version": 3
   },
   "file_extension": ".py",
   "mimetype": "text/x-python",
   "name": "python",
   "nbconvert_exporter": "python",
   "pygments_lexer": "ipython3",
   "version": "3.12.5"
  }
 },
 "nbformat": 4,
 "nbformat_minor": 5
}
