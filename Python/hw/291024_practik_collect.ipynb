{
 "cells": [
  {
   "cell_type": "code",
   "execution_count": 17,
   "id": "2c7ecb43-7e74-49a4-98b3-6704443e9178",
   "metadata": {},
   "outputs": [
    {
     "name": "stdin",
     "output_type": "stream",
     "text": [
      "Введите слово:  Goodbye\n"
     ]
    },
    {
     "ename": "ValueError",
     "evalue": "too many values to unpack (expected 2)",
     "output_type": "error",
     "traceback": [
      "\u001b[1;31m---------------------------------------------------------------------------\u001b[0m",
      "\u001b[1;31mValueError\u001b[0m                                Traceback (most recent call last)",
      "Cell \u001b[1;32mIn[17], line 10\u001b[0m\n\u001b[0;32m      8\u001b[0m my_dict \u001b[38;5;241m=\u001b[39m {\u001b[38;5;124m'\u001b[39m\u001b[38;5;124mHello\u001b[39m\u001b[38;5;124m'\u001b[39m: \u001b[38;5;124m'\u001b[39m\u001b[38;5;124mHi\u001b[39m\u001b[38;5;124m'\u001b[39m, \u001b[38;5;124m'\u001b[39m\u001b[38;5;124mBye\u001b[39m\u001b[38;5;124m'\u001b[39m: \u001b[38;5;124m'\u001b[39m\u001b[38;5;124mGoodbye\u001b[39m\u001b[38;5;124m'\u001b[39m, \u001b[38;5;124m'\u001b[39m\u001b[38;5;124mList\u001b[39m\u001b[38;5;124m'\u001b[39m: \u001b[38;5;124m'\u001b[39m\u001b[38;5;124mArray\u001b[39m\u001b[38;5;124m'\u001b[39m}\n\u001b[0;32m      9\u001b[0m search_key \u001b[38;5;241m=\u001b[39m \u001b[38;5;28minput\u001b[39m(\u001b[38;5;124m'\u001b[39m\u001b[38;5;124mВведите слово: \u001b[39m\u001b[38;5;124m'\u001b[39m)\n\u001b[1;32m---> 10\u001b[0m res \u001b[38;5;241m=\u001b[39m \u001b[43mget_synonim\u001b[49m\u001b[43m(\u001b[49m\u001b[43mmy_dict\u001b[49m\u001b[43m,\u001b[49m\u001b[43m \u001b[49m\u001b[43msearch_key\u001b[49m\u001b[43m)\u001b[49m\n\u001b[0;32m     11\u001b[0m \u001b[38;5;28mprint\u001b[39m(\u001b[38;5;124mf\u001b[39m\u001b[38;5;124m'\u001b[39m\u001b[38;5;124mЗначение для ключа \u001b[39m\u001b[38;5;132;01m{\u001b[39;00msearch_key\u001b[38;5;132;01m}\u001b[39;00m\u001b[38;5;124m: \u001b[39m\u001b[38;5;132;01m{\u001b[39;00mres\u001b[38;5;132;01m}\u001b[39;00m\u001b[38;5;124m'\u001b[39m)\n",
      "Cell \u001b[1;32mIn[17], line 2\u001b[0m, in \u001b[0;36mget_synonim\u001b[1;34m(x, key)\u001b[0m\n\u001b[0;32m      1\u001b[0m \u001b[38;5;28;01mdef\u001b[39;00m \u001b[38;5;21mget_synonim\u001b[39m(x, key):\n\u001b[1;32m----> 2\u001b[0m     \u001b[38;5;28;01mfor\u001b[39;00m key, value \u001b[38;5;129;01min\u001b[39;00m x:\n\u001b[0;32m      3\u001b[0m         \u001b[38;5;28;01mif\u001b[39;00m x\u001b[38;5;241m.\u001b[39mget(value, \u001b[38;5;124m'\u001b[39m\u001b[38;5;124m0\u001b[39m\u001b[38;5;124m'\u001b[39m):\n\u001b[0;32m      4\u001b[0m             \u001b[38;5;28;01mreturn\u001b[39;00m x[key]\n",
      "\u001b[1;31mValueError\u001b[0m: too many values to unpack (expected 2)"
     ]
    }
   ],
   "source": [
    "def get_synonim(x, value):\n",
    "    for key, value in x:\n",
    "        if x.get(value, '0'):\n",
    "            return x[key]\n",
    "        else:\n",
    "            return x[value]\n",
    "\n",
    "my_dict = {'Hello': 'Hi', 'Bye': 'Goodbye', 'List': 'Array'}\n",
    "search_key = input('Введите слово: ')\n",
    "res = get_synonim(my_dict, search_key)\n",
    "print(f'Значение для ключа {search_key}: {res}')"
   ]
  },
  {
   "cell_type": "code",
   "execution_count": null,
   "id": "bd5c3259-3f12-4cd5-a08d-f1aec13fecc5",
   "metadata": {},
   "outputs": [],
   "source": [
    "2. Дан список стран и городов каждой страны. Затем даны названия городов. Для\n",
    "каждого города укажите, в какой стране он находится. Пример словаря: {“Germany”:\n",
    "“Berlin Hamburg Munich Leipzig”, “Ukraine”: “Kiev Donetsk Odessa”}.\n",
    "which_country(“Munich”) = Germany.\n"
   ]
  },
  {
   "cell_type": "code",
   "execution_count": null,
   "id": "23b01b1e-7d6b-4ae8-b376-b77acb6fe85c",
   "metadata": {},
   "outputs": [],
   "source": [
    "countries = {'Germany': 'Berlin Hamburg Munich Leipzig', 'Ukraine': 'Kiev Donetsk Odessa'}\n",
    "    \n",
    "def which_country(city):\n",
    "    for country, cities in countries.items():\n",
    "        if city in cities:\n",
    "            return country\n",
    "    return 'не указанной в словаре'\n",
    "\n",
    "city = input('Введите название города: ').title()\n",
    "\n",
    "print(f'{city} находится в стране {which_country(city)}')"
   ]
  },
  {
   "cell_type": "code",
   "execution_count": null,
   "id": "4eaa3f9c-272d-49ac-89ef-622d2f86f01b",
   "metadata": {},
   "outputs": [],
   "source": [
    "1. Словарь синонимов. Вам дан словарь, состоящий из пар слов. Каждое слово\n",
    "является синонимом к парному ему слову. Все слова в словаре различны.\n",
    "Написать функцию, которая для заданного слова из словаря, определяет его\n",
    "синоним. Пример словаря: {“Hello”: “Hi”, “Bye”: “Goodbye”, “List”: “Array”}.\n",
    "get_synonim(“Goodbye”) -> Bye."
   ]
  },
  {
   "cell_type": "code",
   "execution_count": null,
   "id": "46929ec5-6580-48f0-8316-5ded7e3ffb83",
   "metadata": {},
   "outputs": [],
   "source": [
    "def get_synonym(word, synonyms):\n",
    "    for key, value in synonyms.items():\n",
    "        if word == key:\n",
    "            return value\n",
    "        elif word == value:\n",
    "            return key\n",
    "    return None\n",
    "\n",
    "synonyms = {\"Hello\": \"Hi\", \"Bye\": \"Goodbye\", \"List\": \"Array\"}\n",
    "print(get_synonym('Hello',synonyms))\n",
    "print(get_synonym('Goodbye',synonyms))\n",
    "print(get_synonym('List',synonyms))\n",
    "print(get_synonym('Me',synonyms))"
   ]
  },
  {
   "cell_type": "code",
   "execution_count": null,
   "id": "2dbdfb23-95a2-43de-8856-00486ec03fba",
   "metadata": {},
   "outputs": [],
   "source": [
    "Вам дана база данных клиентов, где каждому ID клиента соответствует его список продуктов, \n",
    "которые он покупал, например: {1: ['milk', 'bread'], 2: ['bread', 'butter'], 3: ['milk']}. \n",
    "Сгруппируйте клиентов по продуктам в новый словарь, где ключи — это продукты, а значения — это списки ID клиентов.\n",
    "\n",
    "Выходные данные:\n",
    "{'milk': [1, 3], 'bread': [1, 2], 'butter': [2]}"
   ]
  },
  {
   "cell_type": "code",
   "execution_count": 18,
   "id": "ef126790-5edd-41b1-98e5-b1b59db3e9e2",
   "metadata": {},
   "outputs": [
    {
     "name": "stdout",
     "output_type": "stream",
     "text": [
      "{'milk': [1, 3], 'bread': [1, 2], 'butter': [2]}\n"
     ]
    }
   ],
   "source": [
    "clients = {1: ['milk', 'bread'], 2: ['bread', 'butter'], 3: ['milk']}\n",
    "product_clients = {}\n",
    "\n",
    "for id, products in clients.items():\n",
    "    for product in products:\n",
    "        if product not in product_clients:\n",
    "            product_clients[product] = []\n",
    "        product_clients[product].append(id)\n",
    "\n",
    "print(product_clients)"
   ]
  },
  {
   "cell_type": "code",
   "execution_count": null,
   "id": "e89c9616-c7f2-40b4-b80a-d8e97724d420",
   "metadata": {},
   "outputs": [],
   "source": [
    "def get_sinonims(x, a):\n",
    "    if a in x:\n",
    "        return x[a]\n",
    "        \n",
    "    for key, value in x.items():\n",
    "        if value == a:\n",
    "            return key\n",
    "    \n",
    "\n",
    "sinonims_dict =  {'Hello': 'Hi', 'Bye': 'Goodbye', 'List': 'Array'}\n",
    "\n",
    "print(get_sinonims(sinonims_dict, 'Hi'))"
   ]
  },
  {
   "cell_type": "code",
   "execution_count": null,
   "id": "2145a272-9402-468b-a3cb-7251c2fc0c8a",
   "metadata": {},
   "outputs": [],
   "source": [
    "# Задача 2.\n",
    "# У вас есть словарь, где ключи — это месяцы, а значения — это количество новых клиентов. Постройте словарь с приростом клиентов за каждый месяц.\n",
    "# Пример входных данных:\n",
    "# {'January': 100, 'February': 150, 'March': 130, 'April': 200}\n",
    "# Выходные данные:\n",
    "# {'February': 50, 'March': -20, 'April': 70}\n",
    "\n",
    "clients =  {'January': 100, 'February': 150, 'March': 130, 'April': 200}\n",
    "\n",
    "month = list(clients.keys())\n",
    "clients_2 = {}\n",
    "\n",
    "for i in range(len(month) - 1):\n",
    "    current_month = month[i]\n",
    "    next_month = month[i + 1]\n",
    "    clients_2[next_month] = clients[next_month] - clients[current_month]\n",
    "    \n",
    "print(f'Выходные данные: {clients_2}')\n"
   ]
  },
  {
   "cell_type": "code",
   "execution_count": null,
   "id": "7a690312-75e5-4d5f-96fb-cfb87627a6b7",
   "metadata": {},
   "outputs": [],
   "source": [
    "'''\n",
    "Задача.\n",
    "Вам даны данные о продажах продуктов за прошедшую неделю в формате data.txt.\n",
    "Каждая строка содержит день, продукт и количество продаж.\n",
    "Создайте словарь, где ключи — это дни недели, а значения — вложенные словари, в которых продукт является ключом, а значение — это общее количество проданных единиц.\n",
    "Пример данных (data.txt):\n",
    "Monday,Apple,20\n",
    "Monday,Banana,15\n",
    "Tuesday,Apple,30\n",
    "Выходные данные:\n",
    "{\n",
    "    'Monday': {'Apple': 20, 'Banana': 15},\n",
    "    'Tuesday': {'Apple': 30}\n",
    "}\n",
    "'''\n",
    "#sales = [[Monday,Apple,20],[Monday,Banana,15],[Tuesday,Apple,30]]\n",
    "\n",
    "from collections import defaultdict\n",
    "\n",
    "sales = defaultdict(lambda: defaultdict(int))\n",
    "\n",
    "with open('Data_01.txt','r') as file :\n",
    "    for line in file:\n",
    "        day, product, quantity = line.split(',')\n",
    "        sales[day][product] += int(quantity)\n",
    "#print(sales)\n",
    "for key, value in sales.items():\n",
    "    print(key, ':', *value.items())"
   ]
  }
 ],
 "metadata": {
  "kernelspec": {
   "display_name": "Python 3 (ipykernel)",
   "language": "python",
   "name": "python3"
  },
  "language_info": {
   "codemirror_mode": {
    "name": "ipython",
    "version": 3
   },
   "file_extension": ".py",
   "mimetype": "text/x-python",
   "name": "python",
   "nbconvert_exporter": "python",
   "pygments_lexer": "ipython3",
   "version": "3.12.5"
  }
 },
 "nbformat": 4,
 "nbformat_minor": 5
}
