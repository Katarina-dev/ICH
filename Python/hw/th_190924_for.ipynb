{
 "cells": [
  {
   "cell_type": "code",
   "execution_count": 2,
   "id": "3e1eb1f9-0eb7-4091-8089-8d51adf3b9a3",
   "metadata": {},
   "outputs": [
    {
     "name": "stdout",
     "output_type": "stream",
     "text": [
      "H\n",
      "e\n",
      "l\n",
      "l\n",
      "o\n"
     ]
    }
   ],
   "source": [
    "text = 'Hello'\n",
    "for item in text:\n",
    "    print(item)"
   ]
  },
  {
   "cell_type": "code",
   "execution_count": 4,
   "id": "0e97656c-7e77-4a76-8f63-7c9434c7f19f",
   "metadata": {},
   "outputs": [
    {
     "name": "stdout",
     "output_type": "stream",
     "text": [
      "Hello"
     ]
    }
   ],
   "source": [
    "text = 'Hello'\n",
    "for item in text:\n",
    "    print(item, end= '')"
   ]
  },
  {
   "cell_type": "code",
   "execution_count": 37,
   "id": "28813034-e67b-435d-a033-ccdcfbbfe837",
   "metadata": {},
   "outputs": [
    {
     "name": "stdout",
     "output_type": "stream",
     "text": [
      "12688956"
     ]
    }
   ],
   "source": [
    "text = [12, 68, 89, 56]\n",
    "for item in text:\n",
    "    print(item, end= '')"
   ]
  },
  {
   "cell_type": "code",
   "execution_count": 38,
   "id": "ae5111f1-8176-42ee-9b34-ac846374b5d5",
   "metadata": {},
   "outputs": [
    {
     "name": "stdout",
     "output_type": "stream",
     "text": [
      "12688956"
     ]
    }
   ],
   "source": [
    "text = (12, 68, 89, 56)\n",
    "for item in text:\n",
    "    print(item, end= '')"
   ]
  },
  {
   "cell_type": "code",
   "execution_count": null,
   "id": "987d92f3-a4d1-4d2c-806a-a4319c6bc257",
   "metadata": {},
   "outputs": [],
   "source": [
    "range(5) -> 0, 1, 2, 3, 4 # арифметическая последовательность (шаг равен 1)"
   ]
  },
  {
   "cell_type": "code",
   "execution_count": null,
   "id": "edcfe9e1-31aa-4ec6-9bfa-fd087f92897a",
   "metadata": {},
   "outputs": [],
   "source": [
    "range(5, 10) -> 5, 6, 7, 8, 9 (шаг d = 1)"
   ]
  },
  {
   "cell_type": "code",
   "execution_count": null,
   "id": "e714cc10-0c7a-4703-bdec-567df8748ba3",
   "metadata": {},
   "outputs": [],
   "source": [
    "range(2, 10, 3) -> 2, 5, 8 (d = 3)"
   ]
  },
  {
   "cell_type": "code",
   "execution_count": null,
   "id": "79df081c-b679-4a3c-90e9-9da408b7928d",
   "metadata": {},
   "outputs": [],
   "source": [
    "range[start, stop, step)"
   ]
  },
  {
   "cell_type": "code",
   "execution_count": 16,
   "id": "0c329552-06db-4fc9-9607-221c78e81801",
   "metadata": {},
   "outputs": [
    {
     "name": "stdout",
     "output_type": "stream",
     "text": [
      "2 5 8\n"
     ]
    }
   ],
   "source": [
    "print(*range(2, 10, 3))"
   ]
  },
  {
   "cell_type": "code",
   "execution_count": null,
   "id": "c713d707-ec2d-494d-9bbd-90284c2c0ad9",
   "metadata": {},
   "outputs": [],
   "source": [
    "range(10, 2, -2)"
   ]
  },
  {
   "cell_type": "code",
   "execution_count": 6,
   "id": "0ed65dab-b43a-46ca-8bb4-6f29a8c4cfda",
   "metadata": {},
   "outputs": [
    {
     "name": "stdout",
     "output_type": "stream",
     "text": [
      "0\n",
      "1\n",
      "2\n",
      "3\n",
      "4\n"
     ]
    }
   ],
   "source": [
    "for i in range(5):\n",
    "    print(i)"
   ]
  },
  {
   "cell_type": "code",
   "execution_count": 39,
   "id": "f62eaadd-04e8-4fe5-96d1-559f8d20a5ac",
   "metadata": {},
   "outputs": [
    {
     "name": "stdin",
     "output_type": "stream",
     "text": [
      "n= 12\n",
      "n= 13\n",
      "n= 14\n",
      "n= 15\n",
      "n= 16\n"
     ]
    },
    {
     "name": "stdout",
     "output_type": "stream",
     "text": [
      "[12, 13, 14, 15, 16]\n"
     ]
    }
   ],
   "source": [
    "x = []\n",
    "for _ in range(5): # если не нужна переменная, можно использовать _\n",
    "    ans = int(input('n='))\n",
    "    x.append(ans)\n",
    "print(x)"
   ]
  },
  {
   "cell_type": "code",
   "execution_count": 9,
   "id": "5f264e70-8314-44d9-a32b-411244e9bf97",
   "metadata": {},
   "outputs": [
    {
     "name": "stdout",
     "output_type": "stream",
     "text": [
      "[0, 1, 2, 3, 4, 5, 6, 7, 8, 9]\n"
     ]
    }
   ],
   "source": [
    "x = list(range(10)) # можно сохранять в список\n",
    "print(x)"
   ]
  },
  {
   "cell_type": "code",
   "execution_count": 11,
   "id": "4a73d5f5-9255-48fa-a3b6-ae44f3e3feb4",
   "metadata": {},
   "outputs": [
    {
     "name": "stdout",
     "output_type": "stream",
     "text": [
      "0 H\n",
      "1 e\n",
      "2 l\n",
      "3 l\n",
      "4 o\n"
     ]
    }
   ],
   "source": [
    "x = 'Hello'\n",
    "\n",
    "for i in range(len(x)): # так не пишет в питоне, правильный вариант ниже\n",
    "    print(i, x[i])"
   ]
  },
  {
   "cell_type": "code",
   "execution_count": 14,
   "id": "27cd57a3-55b8-42e6-889b-c2cf83a8d61d",
   "metadata": {},
   "outputs": [
    {
     "name": "stdout",
     "output_type": "stream",
     "text": [
      "0 H\n",
      "1 e\n",
      "2 l\n",
      "3 l\n",
      "4 o\n"
     ]
    }
   ],
   "source": [
    "for i, item in enumerate(x): #пишем так. enumerate используется только для перебора ВСЕХ элементов\n",
    "    print(i, item)"
   ]
  },
  {
   "cell_type": "code",
   "execution_count": 13,
   "id": "fc177dcc-644d-4c60-aae6-907e2cdd7ae0",
   "metadata": {},
   "outputs": [
    {
     "name": "stdout",
     "output_type": "stream",
     "text": [
      "(0, 'H') (1, 'e') (2, 'l') (3, 'l') (4, 'o')\n"
     ]
    }
   ],
   "source": [
    "print(*enumerate(x))"
   ]
  },
  {
   "cell_type": "code",
   "execution_count": 15,
   "id": "4f7f48ad-78a9-4f42-8c8e-a47609244704",
   "metadata": {},
   "outputs": [
    {
     "name": "stdout",
     "output_type": "stream",
     "text": [
      "P*y*t*h*o*n\n"
     ]
    }
   ],
   "source": [
    "x = 'Python'\n",
    "print(*x, sep ='*')"
   ]
  },
  {
   "cell_type": "code",
   "execution_count": 18,
   "id": "16c7f402-60a5-491f-995c-f69464a5d50b",
   "metadata": {},
   "outputs": [
    {
     "name": "stdout",
     "output_type": "stream",
     "text": [
      "(0, 'P')\n",
      "(1, 'y')\n",
      "(2, 't')\n",
      "(3, 'h')\n",
      "(4, 'o')\n",
      "(5, 'n')\n"
     ]
    }
   ],
   "source": [
    "for item in enumerate(x): #пишем так\n",
    "    print(item)"
   ]
  },
  {
   "cell_type": "code",
   "execution_count": 19,
   "id": "c7d54722-de76-400b-9157-399f95d8f7e3",
   "metadata": {},
   "outputs": [
    {
     "name": "stdout",
     "output_type": "stream",
     "text": [
      "0 0\n",
      "1 1\n",
      "2 2\n",
      "3 3\n",
      "4 4\n",
      "5 5\n",
      "6 6\n",
      "7 7\n",
      "8 8\n",
      "9 9\n"
     ]
    }
   ],
   "source": [
    "x = [23, 56, 44, 78, 256, 8, 6, 55, 8, 9]\n",
    "\n",
    "for i, item in enumerate(x):\n",
    "    print(i, item)"
   ]
  },
  {
   "cell_type": "code",
   "execution_count": 24,
   "id": "4acf0ea4-a24a-41e5-9d72-785e99d9c9fd",
   "metadata": {},
   "outputs": [
    {
     "name": "stdout",
     "output_type": "stream",
     "text": [
      "0 23\n",
      "1 56\n",
      "2 44\n",
      "3 78\n",
      "4 256\n",
      "5 8\n",
      "6 6\n",
      "7 55\n",
      "8 8\n",
      "9 9\n",
      "\n"
     ]
    }
   ],
   "source": [
    "x = [23, 56, 44, 78, 256, 8, 6, 55, 8, 9]\n",
    "res =''\n",
    "for i, item in enumerate(x):\n",
    "    res += f'{i} {item}\\n'\n",
    "print(res)"
   ]
  },
  {
   "cell_type": "code",
   "execution_count": 28,
   "id": "bd95fd70-6d81-40f5-9797-6b935b770753",
   "metadata": {},
   "outputs": [
    {
     "name": "stdout",
     "output_type": "stream",
     "text": [
      "('apple', 10) ('banana', 20) ('orange', 30)\n"
     ]
    }
   ],
   "source": [
    "x = ['apple', 'banana', 'orange']\n",
    "y = [10, 20, 30]\n",
    "\n",
    "print(*zip(x,y)) #функция zip будет группировать элементы последовательности по их индексу и формировать кортеж\n"
   ]
  },
  {
   "cell_type": "code",
   "execution_count": 31,
   "id": "ce1a6e70-ee2a-41d2-bbaf-5ed9866ba330",
   "metadata": {},
   "outputs": [
    {
     "name": "stdout",
     "output_type": "stream",
     "text": [
      "apple 1 X 10 DKK\n",
      "banana 2 X 40 DKK\n",
      "orange 1.5 X 45.0 DKK\n",
      "Total: 95.0 DKK\n"
     ]
    }
   ],
   "source": [
    "x = ['apple', 'banana', 'orange']\n",
    "prices = [10, 20, 30]\n",
    "cart = [1, 2, 1.5]\n",
    "total = 0\n",
    "\n",
    "for item, price, quantity in zip(x, prices, cart):\n",
    "    print(f'{item} {quantity} X {quantity * price} DKK')\n",
    "    total += quantity * price\n",
    "print(f'Total: {total} DKK')"
   ]
  },
  {
   "cell_type": "code",
   "execution_count": 33,
   "id": "7b04de05-0680-4f54-b121-cd355eb453f3",
   "metadata": {},
   "outputs": [
    {
     "name": "stdout",
     "output_type": "stream",
     "text": [
      "123452468103691215481216205101520255 5\n"
     ]
    }
   ],
   "source": [
    "for i in range(1, 6):\n",
    "    for j in range(1, 6):\n",
    "        print(i * j, end ='')\n",
    "print(i, j)"
   ]
  },
  {
   "cell_type": "code",
   "execution_count": 34,
   "id": "1a3b9609-46c4-4bd0-9b56-d2d7523237f1",
   "metadata": {},
   "outputs": [
    {
     "name": "stdout",
     "output_type": "stream",
     "text": [
      "[]\n"
     ]
    }
   ],
   "source": [
    "print(list(range(0)))"
   ]
  },
  {
   "cell_type": "code",
   "execution_count": 35,
   "id": "8f253779-b734-4203-a90d-854149e69c5c",
   "metadata": {},
   "outputs": [
    {
     "name": "stdout",
     "output_type": "stream",
     "text": [
      "[1, 2, 3, 4, 5, 6, 7, 8, 9]\n"
     ]
    }
   ],
   "source": [
    "print(list(range(1, 10)))"
   ]
  },
  {
   "cell_type": "code",
   "execution_count": null,
   "id": "ba7087aa-c5ac-4027-849a-d3308dd9b270",
   "metadata": {},
   "outputs": [],
   "source": [
    "File:\n",
    "1. read\n",
    "2. write\n",
    "3. append (добавлять в конец инф-ю в файле)"
   ]
  },
  {
   "cell_type": "code",
   "execution_count": 36,
   "id": "3a545758-c41a-4839-83fc-d8e0583ddc85",
   "metadata": {},
   "outputs": [
    {
     "name": "stdout",
     "output_type": "stream",
     "text": [
      "Help on function open in module _io:\n",
      "\n",
      "open(file, mode='r', buffering=-1, encoding=None, errors=None, newline=None, closefd=True, opener=None)\n",
      "    Open file and return a stream.  Raise OSError upon failure.\n",
      "\n",
      "    file is either a text or byte string giving the name (and the path\n",
      "    if the file isn't in the current working directory) of the file to\n",
      "    be opened or an integer file descriptor of the file to be\n",
      "    wrapped. (If a file descriptor is given, it is closed when the\n",
      "    returned I/O object is closed, unless closefd is set to False.)\n",
      "\n",
      "    mode is an optional string that specifies the mode in which the file\n",
      "    is opened. It defaults to 'r' which means open for reading in text\n",
      "    mode.  Other common values are 'w' for writing (truncating the file if\n",
      "    it already exists), 'x' for creating and writing to a new file, and\n",
      "    'a' for appending (which on some Unix systems, means that all writes\n",
      "    append to the end of the file regardless of the current seek position).\n",
      "    In text mode, if encoding is not specified the encoding used is platform\n",
      "    dependent: locale.getencoding() is called to get the current locale encoding.\n",
      "    (For reading and writing raw bytes use binary mode and leave encoding\n",
      "    unspecified.) The available modes are:\n",
      "\n",
      "    ========= ===============================================================\n",
      "    Character Meaning\n",
      "    --------- ---------------------------------------------------------------\n",
      "    'r'       open for reading (default)\n",
      "    'w'       open for writing, truncating the file first\n",
      "    'x'       create a new file and open it for writing\n",
      "    'a'       open for writing, appending to the end of the file if it exists\n",
      "    'b'       binary mode\n",
      "    't'       text mode (default)\n",
      "    '+'       open a disk file for updating (reading and writing)\n",
      "    ========= ===============================================================\n",
      "\n",
      "    The default mode is 'rt' (open for reading text). For binary random\n",
      "    access, the mode 'w+b' opens and truncates the file to 0 bytes, while\n",
      "    'r+b' opens the file without truncation. The 'x' mode implies 'w' and\n",
      "    raises an `FileExistsError` if the file already exists.\n",
      "\n",
      "    Python distinguishes between files opened in binary and text modes,\n",
      "    even when the underlying operating system doesn't. Files opened in\n",
      "    binary mode (appending 'b' to the mode argument) return contents as\n",
      "    bytes objects without any decoding. In text mode (the default, or when\n",
      "    't' is appended to the mode argument), the contents of the file are\n",
      "    returned as strings, the bytes having been first decoded using a\n",
      "    platform-dependent encoding or using the specified encoding if given.\n",
      "\n",
      "    buffering is an optional integer used to set the buffering policy.\n",
      "    Pass 0 to switch buffering off (only allowed in binary mode), 1 to select\n",
      "    line buffering (only usable in text mode), and an integer > 1 to indicate\n",
      "    the size of a fixed-size chunk buffer.  When no buffering argument is\n",
      "    given, the default buffering policy works as follows:\n",
      "\n",
      "    * Binary files are buffered in fixed-size chunks; the size of the buffer\n",
      "      is chosen using a heuristic trying to determine the underlying device's\n",
      "      \"block size\" and falling back on `io.DEFAULT_BUFFER_SIZE`.\n",
      "      On many systems, the buffer will typically be 4096 or 8192 bytes long.\n",
      "\n",
      "    * \"Interactive\" text files (files for which isatty() returns True)\n",
      "      use line buffering.  Other text files use the policy described above\n",
      "      for binary files.\n",
      "\n",
      "    encoding is the name of the encoding used to decode or encode the\n",
      "    file. This should only be used in text mode. The default encoding is\n",
      "    platform dependent, but any encoding supported by Python can be\n",
      "    passed.  See the codecs module for the list of supported encodings.\n",
      "\n",
      "    errors is an optional string that specifies how encoding errors are to\n",
      "    be handled---this argument should not be used in binary mode. Pass\n",
      "    'strict' to raise a ValueError exception if there is an encoding error\n",
      "    (the default of None has the same effect), or pass 'ignore' to ignore\n",
      "    errors. (Note that ignoring encoding errors can lead to data loss.)\n",
      "    See the documentation for codecs.register or run 'help(codecs.Codec)'\n",
      "    for a list of the permitted encoding error strings.\n",
      "\n",
      "    newline controls how universal newlines works (it only applies to text\n",
      "    mode). It can be None, '', '\\n', '\\r', and '\\r\\n'.  It works as\n",
      "    follows:\n",
      "\n",
      "    * On input, if newline is None, universal newlines mode is\n",
      "      enabled. Lines in the input can end in '\\n', '\\r', or '\\r\\n', and\n",
      "      these are translated into '\\n' before being returned to the\n",
      "      caller. If it is '', universal newline mode is enabled, but line\n",
      "      endings are returned to the caller untranslated. If it has any of\n",
      "      the other legal values, input lines are only terminated by the given\n",
      "      string, and the line ending is returned to the caller untranslated.\n",
      "\n",
      "    * On output, if newline is None, any '\\n' characters written are\n",
      "      translated to the system default line separator, os.linesep. If\n",
      "      newline is '' or '\\n', no translation takes place. If newline is any\n",
      "      of the other legal values, any '\\n' characters written are translated\n",
      "      to the given string.\n",
      "\n",
      "    If closefd is False, the underlying file descriptor will be kept open\n",
      "    when the file is closed. This does not work when a file name is given\n",
      "    and must be True in that case.\n",
      "\n",
      "    A custom opener can be used by passing a callable as *opener*. The\n",
      "    underlying file descriptor for the file object is then obtained by\n",
      "    calling *opener* with (*file*, *flags*). *opener* must return an open\n",
      "    file descriptor (passing os.open as *opener* results in functionality\n",
      "    similar to passing None).\n",
      "\n",
      "    open() returns a file object whose type depends on the mode, and\n",
      "    through which the standard file operations such as reading and writing\n",
      "    are performed. When open() is used to open a file in a text mode ('w',\n",
      "    'r', 'wt', 'rt', etc.), it returns a TextIOWrapper. When used to open\n",
      "    a file in a binary mode, the returned class varies: in read binary\n",
      "    mode, it returns a BufferedReader; in write binary and append binary\n",
      "    modes, it returns a BufferedWriter, and in read/write mode, it returns\n",
      "    a BufferedRandom.\n",
      "\n",
      "    It is also possible to use a string or bytearray as a file for both\n",
      "    reading and writing. For strings StringIO can be used like a file\n",
      "    opened in a text mode, and for bytes a BytesIO can be used like a file\n",
      "    opened in a binary mode.\n",
      "\n"
     ]
    }
   ],
   "source": [
    "help(open)"
   ]
  },
  {
   "cell_type": "code",
   "execution_count": null,
   "id": "37f6a86a-db2d-4010-aecd-e92ff3b3b96b",
   "metadata": {},
   "outputs": [],
   "source": []
  }
 ],
 "metadata": {
  "kernelspec": {
   "display_name": "Python 3 (ipykernel)",
   "language": "python",
   "name": "python3"
  },
  "language_info": {
   "codemirror_mode": {
    "name": "ipython",
    "version": 3
   },
   "file_extension": ".py",
   "mimetype": "text/x-python",
   "name": "python",
   "nbconvert_exporter": "python",
   "pygments_lexer": "ipython3",
   "version": "3.12.5"
  }
 },
 "nbformat": 4,
 "nbformat_minor": 5
}
