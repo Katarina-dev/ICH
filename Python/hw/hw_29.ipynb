{
 "cells": [
  {
   "cell_type": "code",
   "execution_count": 2,
   "id": "6dc1f30a-b54b-440b-bb72-bb316c7d527a",
   "metadata": {},
   "outputs": [],
   "source": [
    "# 1. Создайте класс Rectangle для представления прямоугольника. Класс должен иметь атрибуты width (ширина) и height (высота), а также метод calculate_area(), \n",
    "# который вычисляет площадь прямоугольника. \n",
    "# Затем создайте экземпляр класса Rectangle с заданными значениями ширины и высоты и выведите его площадь."
   ]
  },
  {
   "cell_type": "code",
   "execution_count": 12,
   "id": "36b670a1-287f-46fb-b8be-5a63268af71b",
   "metadata": {},
   "outputs": [
    {
     "name": "stdout",
     "output_type": "stream",
     "text": [
      "Area of a rectangle:  20\n"
     ]
    }
   ],
   "source": [
    "class Rectangle: \n",
    "\n",
    "    def __init__(self, width, height ):\n",
    "        self.width = width\n",
    "        self.height = height\n",
    "       \n",
    "    def calculate_area(self):\n",
    "        return self.width * self.height\n",
    "\n",
    "my_rectangle = Rectangle(4, 5)\n",
    "print(\"Area of a rectangle: \", my_rectangle.calculate_area())"
   ]
  },
  {
   "cell_type": "code",
   "execution_count": null,
   "id": "3f2ed557-582f-4dbf-8950-42ccd0f6ca1c",
   "metadata": {},
   "outputs": [],
   "source": [
    "# 2. Создайте класс Student для представления студента. Класс должен иметь атрибуты name (имя) и age (возраст), а также метод display_info(), \n",
    "# который выводит информацию о студенте. \n",
    "# Затем создайте экземпляр класса Student с заданным именем и возрастом и вызовите метод display_info()."
   ]
  },
  {
   "cell_type": "code",
   "execution_count": 27,
   "id": "eb3b8e45-21d3-4e97-a007-8c6fd69ed749",
   "metadata": {},
   "outputs": [
    {
     "name": "stdout",
     "output_type": "stream",
     "text": [
      "Info about student:  \n",
      " Name: Vasya Petrov, age: 18\n",
      "Info about student:  \n",
      " Name: Masha Ivanova, age: 18\n"
     ]
    }
   ],
   "source": [
    "class Student:\n",
    "    count = 0\n",
    "\n",
    "    def __init__(self, name, age):\n",
    "        self.name = name\n",
    "        self.age = age\n",
    "        Student.count += 1\n",
    "\n",
    "    def display_info(self):\n",
    "        return f'Name: {self.name}, age: {self.age}'\n",
    "\n",
    "std = Student('Vasya Petrov', '18')\n",
    "std_2 = Student('Masha Ivanova', '18')\n",
    "print('Info about student: ', '\\n', std.display_info())\n",
    "print('Info about student: ', '\\n', std_2.display_info())"
   ]
  },
  {
   "cell_type": "code",
   "execution_count": null,
   "id": "00525129-fa66-462b-b991-11c962ca1f9a",
   "metadata": {},
   "outputs": [],
   "source": []
  }
 ],
 "metadata": {
  "kernelspec": {
   "display_name": "Python 3 (ipykernel)",
   "language": "python",
   "name": "python3"
  },
  "language_info": {
   "codemirror_mode": {
    "name": "ipython",
    "version": 3
   },
   "file_extension": ".py",
   "mimetype": "text/x-python",
   "name": "python",
   "nbconvert_exporter": "python",
   "pygments_lexer": "ipython3",
   "version": "3.12.5"
  }
 },
 "nbformat": 4,
 "nbformat_minor": 5
}
