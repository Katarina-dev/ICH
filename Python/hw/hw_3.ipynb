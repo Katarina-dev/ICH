{
 "cells": [
  {
   "cell_type": "code",
   "execution_count": 7,
   "id": "e81e5145-cb5e-4443-8ede-c4be69a6b52c",
   "metadata": {},
   "outputs": [
    {
     "name": "stdin",
     "output_type": "stream",
     "text": [
      "Введите первое число:  5\n",
      "Введите второе число:  2\n"
     ]
    },
    {
     "name": "stdout",
     "output_type": "stream",
     "text": [
      "Сумма:  7\n",
      "Разность:  3\n",
      "Произведение:  10\n",
      "Частное:  2.5\n",
      "Остаток от деления:  1\n",
      "Первое число в степение второго числа:  25\n"
     ]
    }
   ],
   "source": [
    "x = int(input(\"Введите первое число: \"));\n",
    "y = int(input(\"Введите второе число: \"));\n",
    "print(\"Сумма: \", x + y);\n",
    "print(\"Разность: \", x - y);\n",
    "print(\"Произведение: \", x * y);\n",
    "print(\"Частное: \", x / y);\n",
    "print(\"Остаток от деления: \", x % y);\n",
    "print(\"Первое число в степение второго числа: \", x ** y);"
   ]
  },
  {
   "cell_type": "code",
   "execution_count": 9,
   "id": "72c0a299-6dca-4e88-b9d0-989ab6a5d353",
   "metadata": {},
   "outputs": [
    {
     "name": "stdin",
     "output_type": "stream",
     "text": [
      "Введите радиус окружности:  5\n"
     ]
    },
    {
     "name": "stdout",
     "output_type": "stream",
     "text": [
      "Длина окружности:  31.4159\n",
      "Площадь окружности:  78.53975\n"
     ]
    }
   ],
   "source": [
    "r = int(input(\"Введите радиус окружности: \"));\n",
    "PI = 3.14159;\n",
    "print(\"Длина окружности: \", 2 * PI * r);\n",
    "print(\"Площадь окружности: \", PI * r **2);"
   ]
  },
  {
   "cell_type": "code",
   "execution_count": 23,
   "id": "7c70da97-64d1-4ba0-a3b8-d91c3b5ac797",
   "metadata": {},
   "outputs": [
    {
     "name": "stdin",
     "output_type": "stream",
     "text": [
      "Введите координаты первой точки (x1):  2\n",
      "Введите координаты первой точки (y1):  3\n",
      "Введите координаты первой точки (x2):  5\n",
      "Введите координаты первой точки (y2):  7\n"
     ]
    },
    {
     "name": "stdout",
     "output_type": "stream",
     "text": [
      "Расстояние между точками:  5.0\n"
     ]
    }
   ],
   "source": [
    "x1 = int(input(\"Введите координаты первой точки (x1): \"))\n",
    "y1 = int(input(\"Введите координаты первой точки (y1): \"))\n",
    "\n",
    "x2 = int(input(\"Введите координаты первой точки (x2): \"))\n",
    "y2 = int(input(\"Введите координаты первой точки (y2): \"))\n",
    "dist = ((((x2 - x1)**2) + (y2 - y1)**2)) ** 0.5\n",
    "print(\"Расстояние между точками: \", dist)"
   ]
  },
  {
   "cell_type": "code",
   "execution_count": null,
   "id": "762e2db7-b101-42e3-acd7-9dfc0994bbbd",
   "metadata": {},
   "outputs": [],
   "source": []
  }
 ],
 "metadata": {
  "kernelspec": {
   "display_name": "Python 3 (ipykernel)",
   "language": "python",
   "name": "python3"
  },
  "language_info": {
   "codemirror_mode": {
    "name": "ipython",
    "version": 3
   },
   "file_extension": ".py",
   "mimetype": "text/x-python",
   "name": "python",
   "nbconvert_exporter": "python",
   "pygments_lexer": "ipython3",
   "version": "3.12.5"
  }
 },
 "nbformat": 4,
 "nbformat_minor": 5
}
