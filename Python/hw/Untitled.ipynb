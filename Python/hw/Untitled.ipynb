{
 "cells": [
  {
   "cell_type": "code",
   "execution_count": 1,
   "id": "b4885102-6f94-4784-922e-02cc44d63179",
   "metadata": {},
   "outputs": [],
   "source": [
    "x = 5\n",
    "y = 10"
   ]
  },
  {
   "cell_type": "code",
   "execution_count": 2,
   "id": "a0ad71cd-ffb3-40af-85c9-e9b505255908",
   "metadata": {},
   "outputs": [
    {
     "name": "stdout",
     "output_type": "stream",
     "text": [
      "5 10 15\n"
     ]
    }
   ],
   "source": [
    "print(x, y, x+y)"
   ]
  },
  {
   "cell_type": "code",
   "execution_count": 3,
   "id": "c49ab7fe-f293-4655-9fa5-b053d221e0a6",
   "metadata": {},
   "outputs": [
    {
     "name": "stdout",
     "output_type": "stream",
     "text": [
      "Help on built-in function print in module builtins:\n",
      "\n",
      "print(*args, sep=' ', end='\\n', file=None, flush=False)\n",
      "    Prints the values to a stream, or to sys.stdout by default.\n",
      "\n",
      "    sep\n",
      "      string inserted between values, default a space.\n",
      "    end\n",
      "      string appended after the last value, default a newline.\n",
      "    file\n",
      "      a file-like object (stream); defaults to the current sys.stdout.\n",
      "    flush\n",
      "      whether to forcibly flush the stream.\n",
      "\n"
     ]
    }
   ],
   "source": [
    "help(print)"
   ]
  },
  {
   "cell_type": "code",
   "execution_count": 4,
   "id": "75824ead-b1fe-44a9-a197-8f581b3d8665",
   "metadata": {},
   "outputs": [
    {
     "name": "stdout",
     "output_type": "stream",
     "text": [
      "5,10,15\n"
     ]
    }
   ],
   "source": [
    "print(x, y, x + y, sep=',')"
   ]
  },
  {
   "cell_type": "code",
   "execution_count": 6,
   "id": "6f81748f-850c-45d5-af56-05f969897c5b",
   "metadata": {},
   "outputs": [
    {
     "name": "stdout",
     "output_type": "stream",
     "text": [
      "5\n",
      "10\n",
      "15\n"
     ]
    }
   ],
   "source": [
    "print(x, y, x + y, sep='\\n')"
   ]
  },
  {
   "cell_type": "code",
   "execution_count": 7,
   "id": "21782c60-82bc-4819-8961-2bf624bc6ed9",
   "metadata": {},
   "outputs": [
    {
     "name": "stdin",
     "output_type": "stream",
     "text": [
      "x= 1234\n"
     ]
    }
   ],
   "source": [
    "x = input('x=')"
   ]
  },
  {
   "cell_type": "code",
   "execution_count": 8,
   "id": "5a94870a-6771-4d8c-9099-1588ce44918a",
   "metadata": {},
   "outputs": [
    {
     "name": "stdout",
     "output_type": "stream",
     "text": [
      "1234\n"
     ]
    }
   ],
   "source": [
    "print(x)"
   ]
  },
  {
   "cell_type": "code",
   "execution_count": 9,
   "id": "b8a04146-d6f4-4f58-b024-a0f1f048f2f1",
   "metadata": {},
   "outputs": [
    {
     "name": "stdin",
     "output_type": "stream",
     "text": [
      "x= 123\n",
      "y= 234\n"
     ]
    }
   ],
   "source": [
    "x = input('x=')\n",
    "y = input('y=')"
   ]
  },
  {
   "cell_type": "code",
   "execution_count": 10,
   "id": "3903ef75-d9cd-4f65-8de0-e8a1f466ac48",
   "metadata": {},
   "outputs": [
    {
     "name": "stdout",
     "output_type": "stream",
     "text": [
      "123 234\n"
     ]
    }
   ],
   "source": [
    "print(x, y)"
   ]
  },
  {
   "cell_type": "code",
   "execution_count": 11,
   "id": "40ff7b6a-8d18-4a7c-9b03-4ed2d2c22f31",
   "metadata": {},
   "outputs": [
    {
     "name": "stdin",
     "output_type": "stream",
     "text": [
      "name= Nina\n",
      "surname= Lee\n"
     ]
    },
    {
     "name": "stdout",
     "output_type": "stream",
     "text": [
      "Hello, Nina Lee\n"
     ]
    }
   ],
   "source": [
    "# Step 1. Get values\n",
    "name = input('name=')\n",
    "surname = input('surname=')\n",
    "# Step 2. Greetings\n",
    "print('Hello,', name, surname)"
   ]
  },
  {
   "cell_type": "code",
   "execution_count": 1,
   "id": "5dd6c749-42fe-4854-a1a6-54e55b138b08",
   "metadata": {},
   "outputs": [
    {
     "data": {
      "text/plain": [
       "2"
      ]
     },
     "execution_count": 1,
     "metadata": {},
     "output_type": "execute_result"
    }
   ],
   "source": [
    "1 + 1"
   ]
  },
  {
   "cell_type": "code",
   "execution_count": null,
   "id": "d2427896-8a22-4e8f-9b0f-7872d5f93cf9",
   "metadata": {},
   "outputs": [],
   "source": []
  }
 ],
 "metadata": {
  "kernelspec": {
   "display_name": "Python 3 (ipykernel)",
   "language": "python",
   "name": "python3"
  },
  "language_info": {
   "codemirror_mode": {
    "name": "ipython",
    "version": 3
   },
   "file_extension": ".py",
   "mimetype": "text/x-python",
   "name": "python",
   "nbconvert_exporter": "python",
   "pygments_lexer": "ipython3",
   "version": "3.12.5"
  }
 },
 "nbformat": 4,
 "nbformat_minor": 5
}
