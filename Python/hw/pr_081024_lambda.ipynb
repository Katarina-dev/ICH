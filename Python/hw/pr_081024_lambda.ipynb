{
 "cells": [
  {
   "cell_type": "code",
   "execution_count": null,
   "id": "f8a244d1-4080-4fb4-888a-2ce5ecdb29a9",
   "metadata": {},
   "outputs": [],
   "source": [
    "1. Дано предложение из слов, разделенных пробелами. Написать функцию\n",
    "transform(), которая принимает такое предложение и возвращает\n",
    "аналогичное, но где все слова длины 3 в этом предложении - заглавными\n",
    "буквами. Пример: “The quick brown fox jumps over the lazy dog” -> “THE quick\n",
    "brown FOX jumps over THE lazy DOG”. Подсказка: решение в лоб может\n",
    "использовать цикл.\n"
   ]
  },
  {
   "cell_type": "code",
   "execution_count": 1,
   "id": "8c913ad9-1b40-40f8-a952-55aa233a39a1",
   "metadata": {},
   "outputs": [
    {
     "name": "stdout",
     "output_type": "stream",
     "text": [
      "THE quick brown FOX jumps over THE lazy DOG\n"
     ]
    }
   ],
   "source": [
    "def transform(sentence):\n",
    "    words = sentence.split()\n",
    "    trans_words = [word.upper() if len(word) == 3 else word for word in words]\n",
    "    return ' '.join(trans_words)\n",
    "\n",
    "sentence = \"The quick brown fox jumps over the lazy dog\"\n",
    "trans_sentence = transform(sentence)\n",
    "print(trans_sentence)"
   ]
  },
  {
   "cell_type": "code",
   "execution_count": null,
   "id": "f9c0ae0a-b747-407f-b137-a98869c73dd4",
   "metadata": {},
   "outputs": [],
   "source": [
    "transform = lambda s: ' '.join([word.upper() if len(word) == 3 else word for word in s.split()])"
   ]
  },
  {
   "cell_type": "code",
   "execution_count": null,
   "id": "b69556fb-dc1a-4909-98fb-e74721d60bac",
   "metadata": {},
   "outputs": [],
   "source": [
    "def transform(sentence):\n",
    "\n",
    "    words = sentence.split()  # Разделяем на слова\n",
    "    transformed_words = []  \n",
    "\n",
    "    for word in words:\n",
    "        if len(word) == 3:\n",
    "            transformed_words.append(word.upper()) \n",
    "        else:\n",
    "            transformed_words.append(word)\n",
    "\n",
    "    return ' '.join(transformed_words)  \n",
    "\n",
    "input_sentence = \"The quick brown fox jumps over the lazy dog\"\n",
    "result = transform(input_sentence)\n",
    "print(result)"
   ]
  },
  {
   "cell_type": "code",
   "execution_count": null,
   "id": "1521b653-237d-4864-a9f6-9d791ee83eb0",
   "metadata": {},
   "outputs": [],
   "source": [
    "#оптимальный вариант\n",
    "def transform(sentence):\n",
    "    words = sentence.split() \n",
    "    transformed_words = list(map(lambda word: word.upper() if len(word) == 3 else word, words))\n",
    "    return ' '.join(transformed_words) \n",
    "    \n",
    "input_sentence = \"The quick brown fox jumps over the lazy dog\"\n",
    "result = transform(input_sentence)\n",
    "print(result)"
   ]
  },
  {
   "cell_type": "code",
   "execution_count": null,
   "id": "bcb8e06e-16dc-4ad2-9882-e7c10435abcb",
   "metadata": {},
   "outputs": [],
   "source": [
    "2. Изменим немного условие задачи: мы хотим, чтобы функция из примера 1\n",
    "могла также менять слова длины 4 на написанные маленькими буквами. В\n",
    "общем виде, мы хотим, чтобы функции можно было дать условие, которому\n",
    "соответствует указанное действие. Например, все слова длины 4 хотим\n",
    "заменить на звездочки. А слова длины 2 - на черточки. Каждое выполнение\n",
    "функции - одно условие и одно действие. Подсказка: добавление условий в\n",
    "код - неправильный ход мысли. Правильный ход - расширить список\n",
    "параметров функции, добавив к нему два параметра, лямбда-функции,\n",
    "которые реализует условие и действие.\n"
   ]
  },
  {
   "cell_type": "code",
   "execution_count": null,
   "id": "670be7ef-6f61-4308-b149-5bdaab620ffd",
   "metadata": {},
   "outputs": [],
   "source": [
    "def transform(sentence):\n",
    "    words = sentence.split()\n",
    "    trans_words = [word.upper() if len(word) == 3 else word for word in words]\n",
    "    return ' '.join(trans_words)\n",
    "\n",
    "sentence = \"The quick brown fox jumps over the lazy dog\"\n",
    "trans_sentence = transform(sentence)\n",
    "print(trans_sentence)"
   ]
  },
  {
   "cell_type": "code",
   "execution_count": 3,
   "id": "3ec022b2-3d53-4b60-bee5-702e59847d80",
   "metadata": {},
   "outputs": [
    {
     "name": "stdout",
     "output_type": "stream",
     "text": [
      "*Hello*\n"
     ]
    }
   ],
   "source": [
    "def transform(text, condition, action):\n",
    "    res = []\n",
    "    text = text.split()\n",
    "    for item in text:\n",
    "        if condition(item):\n",
    "            res.append(action(item))\n",
    "        else:\n",
    "            res.append(item)\n",
    "    return ''.join(res)\n",
    "\n",
    "res = transform('Hello', lambda item: len(item) == 5, lambda item: f'*{item}*')\n",
    "print(res)"
   ]
  },
  {
   "cell_type": "code",
   "execution_count": 4,
   "id": "999908df-a3ab-46da-a73c-1f8b1c9b90ee",
   "metadata": {},
   "outputs": [
    {
     "name": "stdout",
     "output_type": "stream",
     "text": [
      "THE quick brown FOX jumps over THE lazy DOG\n",
      "The quick brown fox jumps over the lazy dog\n",
      "The quick brown fox jumps **** the **** dog\n",
      "The quick brown fox jumps over the lazy dog\n"
     ]
    }
   ],
   "source": [
    "def transform(sentence, condition, action):\n",
    "    words = sentence.split()\n",
    "    transformed_words = [action(word) if condition(word) else word for word in words]\n",
    "    return ' '.join(transformed_words)\n",
    "\n",
    "sentence = \"The quick brown fox jumps over the lazy dog\"\n",
    "\n",
    "transformed_sentence = transform(sentence, lambda word: len(word) == 3, lambda word: word.upper())\n",
    "print(transformed_sentence)  \n",
    "\n",
    "transformed_sentence = transform(sentence, lambda word: len(word) == 4, lambda word: word.lower())\n",
    "print(transformed_sentence)  \n",
    "\n",
    "transformed_sentence = transform(sentence, lambda word: len(word) == 4, lambda word: '****')\n",
    "print(transformed_sentence)  \n",
    "\n",
    "transformed_sentence = transform(sentence, lambda word: len(word) == 2, lambda word: '--')\n",
    "print(transformed_sentence)"
   ]
  },
  {
   "cell_type": "code",
   "execution_count": null,
   "id": "66c21a1d-1f80-48c0-9c45-0b158e36791f",
   "metadata": {},
   "outputs": [],
   "source": [
    "text = \"The quick brown fox jumps over the lazy dog\"\n",
    "# result = transform(text,length_is_3,to_stars)\n",
    "\n",
    "result = transform(text, lambda item: len(item) ==3, lambda item: '***')\n",
    "print(result)"
   ]
  },
  {
   "cell_type": "code",
   "execution_count": null,
   "id": "cb309bbc-9265-4751-8469-105e930dfb06",
   "metadata": {},
   "outputs": [],
   "source": [
    "def transform(sentence, condition, action):\n",
    "    words = sentence.split() \n",
    "    transformed_words = list(map(lambda word: action(word) if condition(word) else word, words))\n",
    "    return ' '.join(transformed_words) \n",
    "\n",
    "# --------------------condition\n",
    "def length_is_3(word):\n",
    "    return len(word) == 3\n",
    "\n",
    "def length_is_4(word):\n",
    "    return len(word) == 4\n",
    "\n",
    "def length_is_5(word):\n",
    "    return len(word) == 5\n",
    "# -------------------action\n",
    "def to_upper(word):\n",
    "    return word.upper()\n",
    "\n",
    "def to_stars(word):\n",
    "    return '*' * len(word)\n",
    "\n",
    "def to_strich(word):\n",
    "    return '-' * len(word)\n",
    "    \n",
    "text = \"The quick brown fox jumps over the lazy dog\"\n",
    "result = transform(text,length_is_5,to_stars)\n",
    "print(result)\n",
    "\n",
    "result = transform(text, lambda item: len(item) ==3, lambda item: '***')\n",
    "print(result)"
   ]
  },
  {
   "cell_type": "code",
   "execution_count": null,
   "id": "4c277cf3-8e79-43ae-9cb4-41907074b2e2",
   "metadata": {},
   "outputs": [],
   "source": [
    "4. Есть магазин по продаже мороженого. Одна порция стоит 5 евро. В кассе на\n",
    "момент открытия магазина - 0 евро. В магазин выстраивается очередь\n",
    "покупателей, у которых есть одна купюра, чтобы оплатить порцию\n",
    "мороженого.\n",
    "Задача: зная купюры всех покупателей в очереди (конечного размера),\n",
    "понять, получится ли продать мороженое всем (для этого надо иметь\n",
    "достаточно купюр, чтобы давать сдачу), или не получится.\n",
    "Существуют купюры следующего номинала: 5, 10, 20, 50 евро.\n",
    "Напишите функцию, которая принимает список с купюрами покупателей.\n",
    "Например, если очередь имеет купюры [5, 10, 5, 20], то функция вернет true\n",
    "(первому покупателю продадут мороженое за 5, со второго возьмут 10 и\n",
    "дадут сдачу 5, третьему дадут мороженое за 5, с четвертого возьмут 20 евро\n",
    "и дадут сдачу 15 купюрами 10 и 5 которые есть в кассе).\n",
    "Подсказка: наш кошелек продавца можно представить в виде списка,\n",
    "отсортированного по возрастанию. Когда нам надо понять, можем ли мы дать\n",
    "сдачу, то мы перебираем список кошелька и суммируем банкноты в нем. Если\n",
    "они могут в сумме дать сдачу, то мы их убираем из списка, добавляем\n",
    "банкноту, которой платили, пересортировываем, и так далее)."
   ]
  }
 ],
 "metadata": {
  "kernelspec": {
   "display_name": "Python 3 (ipykernel)",
   "language": "python",
   "name": "python3"
  },
  "language_info": {
   "codemirror_mode": {
    "name": "ipython",
    "version": 3
   },
   "file_extension": ".py",
   "mimetype": "text/x-python",
   "name": "python",
   "nbconvert_exporter": "python",
   "pygments_lexer": "ipython3",
   "version": "3.12.5"
  }
 },
 "nbformat": 4,
 "nbformat_minor": 5
}
