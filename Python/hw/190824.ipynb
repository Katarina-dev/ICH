{
 "cells": [
  {
   "cell_type": "code",
   "execution_count": 1,
   "id": "b0c91b07-0a09-45a1-afce-4a006441cc66",
   "metadata": {},
   "outputs": [
    {
     "name": "stdin",
     "output_type": "stream",
     "text": [
      "x= 12\n",
      "y= 13\n"
     ]
    }
   ],
   "source": [
    "x = input('x=')\n",
    "y = input('y=')"
   ]
  },
  {
   "cell_type": "code",
   "execution_count": 2,
   "id": "9695066b-4c34-4092-aa5d-92e9a7f1945b",
   "metadata": {},
   "outputs": [
    {
     "name": "stdout",
     "output_type": "stream",
     "text": [
      "1213\n"
     ]
    }
   ],
   "source": [
    "print(x+y)"
   ]
  },
  {
   "cell_type": "code",
   "execution_count": 3,
   "id": "58675bfe-efb8-4321-995f-ddb83cc9405e",
   "metadata": {},
   "outputs": [
    {
     "name": "stdin",
     "output_type": "stream",
     "text": [
      "x= 12\n",
      "y= 13\n"
     ]
    }
   ],
   "source": [
    "x = int(input('x='))\n",
    "y = int(input('y='))"
   ]
  },
  {
   "cell_type": "code",
   "execution_count": 4,
   "id": "afdcf607-8359-48e5-b8db-e8d1535ce250",
   "metadata": {},
   "outputs": [
    {
     "name": "stdout",
     "output_type": "stream",
     "text": [
      "25\n"
     ]
    }
   ],
   "source": [
    "print(x+y)"
   ]
  },
  {
   "cell_type": "code",
   "execution_count": 6,
   "id": "a56d691c-9f94-46ba-92d4-44bc6830d5f9",
   "metadata": {},
   "outputs": [
    {
     "name": "stdin",
     "output_type": "stream",
     "text": [
      "Сколько школьников? 10\n",
      "Сколько яблок? 30\n"
     ]
    },
    {
     "name": "stdout",
     "output_type": "stream",
     "text": [
      "3\n",
      "0\n"
     ]
    }
   ],
   "source": [
    "n = int(input(\"Сколько школьников?\"))\n",
    "k = int(input(\"Сколько яблок?\"))\n",
    "print(k//n)\n",
    "print(k % n)"
   ]
  },
  {
   "cell_type": "code",
   "execution_count": 7,
   "id": "57928112-ec7b-41b0-9a11-0a73c215dac4",
   "metadata": {},
   "outputs": [
    {
     "name": "stdin",
     "output_type": "stream",
     "text": [
      "Сколько школьников? 10\n",
      "Сколько яблок? 23\n"
     ]
    },
    {
     "name": "stdout",
     "output_type": "stream",
     "text": [
      "2\n",
      "3\n"
     ]
    }
   ],
   "source": [
    "n = int(input(\"Сколько школьников?\"))\n",
    "k = int(input(\"Сколько яблок?\"))\n",
    "print(k//n)\n",
    "print(k % n)"
   ]
  },
  {
   "cell_type": "code",
   "execution_count": null,
   "id": "862ed7be-2585-4703-963c-0f651c2cace2",
   "metadata": {},
   "outputs": [],
   "source": []
  }
 ],
 "metadata": {
  "kernelspec": {
   "display_name": "Python 3 (ipykernel)",
   "language": "python",
   "name": "python3"
  },
  "language_info": {
   "codemirror_mode": {
    "name": "ipython",
    "version": 3
   },
   "file_extension": ".py",
   "mimetype": "text/x-python",
   "name": "python",
   "nbconvert_exporter": "python",
   "pygments_lexer": "ipython3",
   "version": "3.12.5"
  }
 },
 "nbformat": 4,
 "nbformat_minor": 5
}
