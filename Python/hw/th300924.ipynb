{
 "cells": [
  {
   "cell_type": "code",
   "execution_count": null,
   "id": "6b6f0f2e-0ef4-4f97-acf1-e237ee831dd8",
   "metadata": {},
   "outputs": [],
   "source": [
    "lst = input('>>').split()\n",
    "for index, item in enumerate(lst): # заменяем строку на число\n",
    "    x[index] = int(item)\n"
   ]
  },
  {
   "cell_type": "code",
   "execution_count": null,
   "id": "76b49a8b-b5fd-4a8f-a139-40e087ba0bc9",
   "metadata": {},
   "outputs": [],
   "source": [
    "lst = list(map(int, lst))\n",
    "mid = len(lst) // 2 + len(lst) % 2\n",
    "y = int(input('>>'))\n",
    "lst.insert(mid, y)\n",
    "mid = len(lst) // 2\n",
    "del lst[mid]\n",
    "\n",
    "print(lst)"
   ]
  }
 ],
 "metadata": {
  "kernelspec": {
   "display_name": "Python 3 (ipykernel)",
   "language": "python",
   "name": "python3"
  },
  "language_info": {
   "codemirror_mode": {
    "name": "ipython",
    "version": 3
   },
   "file_extension": ".py",
   "mimetype": "text/x-python",
   "name": "python",
   "nbconvert_exporter": "python",
   "pygments_lexer": "ipython3",
   "version": "3.12.5"
  }
 },
 "nbformat": 4,
 "nbformat_minor": 5
}
