{
 "cells": [
  {
   "cell_type": "code",
   "execution_count": 1,
   "id": "b3831604-839e-4630-b76d-0c76c0d7b33c",
   "metadata": {},
   "outputs": [
    {
     "name": "stdout",
     "output_type": "stream",
     "text": [
      "Hello, world!\n"
     ]
    }
   ],
   "source": [
    "print(\"Hello, world!\")"
   ]
  },
  {
   "cell_type": "code",
   "execution_count": 4,
   "id": "306a570a-7381-41e5-ad9c-980e57a21684",
   "metadata": {},
   "outputs": [
    {
     "name": "stdin",
     "output_type": "stream",
     "text": [
      "Введите ваше имя: Kate\n"
     ]
    },
    {
     "name": "stdout",
     "output_type": "stream",
     "text": [
      "Hello, Kate\n"
     ]
    }
   ],
   "source": [
    "name = input(\"Введите ваше имя:\")\n",
    "print(f\"Hello, {name}\")"
   ]
  },
  {
   "cell_type": "code",
   "execution_count": 13,
   "id": "b7acbf35-c2aa-4b77-a84d-df50937fe31b",
   "metadata": {},
   "outputs": [
    {
     "name": "stdin",
     "output_type": "stream",
     "text": [
      "Введите x: 3\n",
      "Введите y: 5\n"
     ]
    },
    {
     "name": "stdout",
     "output_type": "stream",
     "text": [
      "243\n",
      "0.6\n"
     ]
    }
   ],
   "source": [
    "x = int(input(\"Введите x:\"))\n",
    "y = int(input(\"Введите y:\"))\n",
    "print(f'x**y={x**y});\n"
   ]
  },
  {
   "cell_type": "code",
   "execution_count": 17,
   "id": "619a698e-569e-496d-8c60-2bcde3181efe",
   "metadata": {},
   "outputs": [
    {
     "name": "stdin",
     "output_type": "stream",
     "text": [
      "x= 2\n",
      "y= 3\n"
     ]
    },
    {
     "name": "stdout",
     "output_type": "stream",
     "text": [
      "x/y= 0.6666666666666666\n"
     ]
    }
   ],
   "source": [
    "x = int(input('x='))\n",
    "y = int(input('y='))\n",
    "print(f\"x/y= {x / y}\")"
   ]
  },
  {
   "cell_type": "code",
   "execution_count": 22,
   "id": "e05d7648-a285-4cfc-a1b7-5e3bdc2a311d",
   "metadata": {},
   "outputs": [
    {
     "name": "stdout",
     "output_type": "stream",
     "text": [
      "Сумма = 0.60 Евро\n"
     ]
    }
   ],
   "source": [
    "x, y, z = 0.1, 0.2, 0.3\n",
    "res = x + y + z\n",
    "print(f\"Сумма = {res:.2f} Евро\")"
   ]
  },
  {
   "cell_type": "code",
   "execution_count": 25,
   "id": "44bd107a-bfd4-4e24-b286-f8c51cbff5d2",
   "metadata": {},
   "outputs": [
    {
     "name": "stdin",
     "output_type": "stream",
     "text": [
      "Введите часы: 9\n",
      "Введите минуты: 45\n"
     ]
    },
    {
     "name": "stdout",
     "output_type": "stream",
     "text": [
      "С полуночи прошло: 35100 секунд\n"
     ]
    }
   ],
   "source": [
    "h = int(input(\"Введите часы:\"))\n",
    "m = int(input(\"Введите минуты:\"))\n",
    "s = h*3600 + m*60\n",
    "print(f'С полуночи прошло: {s} секунд')"
   ]
  },
  {
   "cell_type": "code",
   "execution_count": 27,
   "id": "f27686c9-199e-46c3-bee9-fa607405334d",
   "metadata": {},
   "outputs": [
    {
     "name": "stdin",
     "output_type": "stream",
     "text": [
      "Введите катет a: 3\n",
      "Введите катет b: 4\n"
     ]
    },
    {
     "name": "stdout",
     "output_type": "stream",
     "text": [
      "Длина гипотенузы = 12.5\n"
     ]
    }
   ],
   "source": [
    "a = int(input(\"Введите катет a:\"))\n",
    "b = int(input(\"Введите катет b:\"))\n",
    "c = (a**2 + b**2)*0.5\n",
    "print(f'Длина гипотенузы = {c}')"
   ]
  },
  {
   "cell_type": "code",
   "execution_count": 28,
   "id": "778b81e5-49df-4f1e-abe9-d1138cb6d457",
   "metadata": {},
   "outputs": [
    {
     "name": "stdin",
     "output_type": "stream",
     "text": [
      "Введите катет a: 10\n",
      "Введите катет b: 10\n"
     ]
    },
    {
     "name": "stdout",
     "output_type": "stream",
     "text": [
      "Длина гипотенузы = 100.00\n"
     ]
    }
   ],
   "source": [
    "a = int(input(\"Введите катет a:\"))\n",
    "b = int(input(\"Введите катет b:\"))\n",
    "c = (a**2 + b**2)*0.5\n",
    "print(f'Длина гипотенузы = {c:.2f}')"
   ]
  },
  {
   "cell_type": "code",
   "execution_count": 31,
   "id": "0189a48f-4678-44e3-9824-7a1636333851",
   "metadata": {},
   "outputs": [
    {
     "name": "stdout",
     "output_type": "stream",
     "text": [
      " 16.0\n"
     ]
    }
   ],
   "source": [
    "res = 10 + 3 * (7 - 3)/2\n",
    "print(f' {res}')"
   ]
  },
  {
   "cell_type": "code",
   "execution_count": 34,
   "id": "f00a11fb-e093-49b3-84a2-eabbf5abe338",
   "metadata": {},
   "outputs": [
    {
     "name": "stdin",
     "output_type": "stream",
     "text": [
      "Введите начальную инвестированную сумму ($ USA): 100\n",
      "Введите годовую норма прибыли (%): 10\n",
      "Введите количество лет: 2\n"
     ]
    },
    {
     "name": "stdout",
     "output_type": "stream",
     "text": [
      "Сумма на депозите к концу года: 121.00000000000001\n"
     ]
    }
   ],
   "source": [
    "p = int(input(\"Введите начальную инвестированную сумму ($ USA):\"))\n",
    "r = int(input(\"Введите годовую норму прибыли (%):\"))\n",
    "n = int(input(\"Введите количество лет:\"))\n",
    "a = p * (1 + (r/100))**n\n",
    "print(f'Сумма на депозите к концу года: {a}')"
   ]
  }
 ],
 "metadata": {
  "kernelspec": {
   "display_name": "Python 3 (ipykernel)",
   "language": "python",
   "name": "python3"
  },
  "language_info": {
   "codemirror_mode": {
    "name": "ipython",
    "version": 3
   },
   "file_extension": ".py",
   "mimetype": "text/x-python",
   "name": "python",
   "nbconvert_exporter": "python",
   "pygments_lexer": "ipython3",
   "version": "3.12.5"
  }
 },
 "nbformat": 4,
 "nbformat_minor": 5
}
