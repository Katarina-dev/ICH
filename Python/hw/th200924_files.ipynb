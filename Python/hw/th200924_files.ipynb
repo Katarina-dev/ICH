{
 "cells": [
  {
   "cell_type": "code",
   "execution_count": null,
   "id": "0c192096-a9cc-449e-935c-4c6b8b06b0e8",
   "metadata": {},
   "outputs": [],
   "source": [
    "file = open('data2009.txt', 'w') #если файла data2009.txt нет,то будет создан новый. Если файл есть, то он перезапишется, данные удалятся!!!"
   ]
  },
  {
   "cell_type": "code",
   "execution_count": null,
   "id": "79c3d454-8d7c-4fb1-b55d-71fe0db5102a",
   "metadata": {},
   "outputs": [],
   "source": [
    "file.write('Hello, World!\\n')\n",
    "file.write(' Python\\n')"
   ]
  },
  {
   "cell_type": "code",
   "execution_count": null,
   "id": "9edffed3-62ac-45ac-af9c-b1d6025a5d8e",
   "metadata": {},
   "outputs": [],
   "source": [
    "file = open('data2009.txt', 'a') # данные доавбляются в конец файла"
   ]
  },
  {
   "cell_type": "code",
   "execution_count": null,
   "id": "c9b9194b-bbc4-4859-adc2-f1ca0cbd9368",
   "metadata": {},
   "outputs": [],
   "source": [
    "file = open('data2009.txt', 'r') # можно только читать данные"
   ]
  },
  {
   "cell_type": "code",
   "execution_count": null,
   "id": "29265d79-0e6b-4603-a9d6-0f11ffe8e296",
   "metadata": {},
   "outputs": [],
   "source": [
    "data = file.read() #весь файл в одну строку запишется в переменную data. Так делать нельзя,т.к. файл может быть большим"
   ]
  },
  {
   "cell_type": "code",
   "execution_count": null,
   "id": "20cc16db-3d4c-4461-a232-aba26d8d6ce1",
   "metadata": {},
   "outputs": [],
   "source": [
    "data = file.readlines() # данные запишутся в переменную в виде списка строк, тоже не рекомендуется"
   ]
  },
  {
   "cell_type": "code",
   "execution_count": null,
   "id": "2622e06f-2119-41f2-b901-6f7278d8d28d",
   "metadata": {},
   "outputs": [],
   "source": [
    "for line in file: # предпочтительный способ чтения файла\n",
    "    print(line.strip()) # избавляемся от лишних отступов"
   ]
  },
  {
   "cell_type": "code",
   "execution_count": null,
   "id": "acca15df-c9cf-472d-8e00-d8f10bbcd7d9",
   "metadata": {},
   "outputs": [],
   "source": [
    "with open('data2009.txt', 'r') as file: # открываем файл с контекстным менеджером, чтобы файл был потом закрылся и работа с фалом завершится\n",
    "    for line in file:\n",
    "        print(line.strip())"
   ]
  },
  {
   "cell_type": "code",
   "execution_count": null,
   "id": "8ca06cc0-cfc4-402c-b163-426c9c6f4280",
   "metadata": {},
   "outputs": [],
   "source": [
    "data = file.readline() # читает одну строку в файле"
   ]
  },
  {
   "cell_type": "code",
   "execution_count": null,
   "id": "03864478-f324-4098-969a-b5e94b9566ee",
   "metadata": {},
   "outputs": [],
   "source": [
    "data = file.writelines() "
   ]
  },
  {
   "cell_type": "code",
   "execution_count": null,
   "id": "919fa128-3f2b-4e3a-bfdf-59c55f002850",
   "metadata": {},
   "outputs": [],
   "source": [
    "with open('data2009.txt', 'r') as file: \n",
    "    while tmp := file.readline(): # walrus-operator :=\n",
    "        print(tmp.strip())"
   ]
  },
  {
   "cell_type": "code",
   "execution_count": null,
   "id": "fff179cd-e933-4d1e-ad35-bac8bcfed8ab",
   "metadata": {},
   "outputs": [],
   "source": [
    "with open('data2009.txt', 'r') as file: \n",
    "    while tmp := file.read(1): # будет читать по одному символу\n",
    "        print(tmp.strip())"
   ]
  },
  {
   "cell_type": "code",
   "execution_count": null,
   "id": "54b1d933-8bd0-4b08-9ae6-f4d88faa3483",
   "metadata": {},
   "outputs": [],
   "source": [
    "while (ans := input('Do you want to continue? (y/n): ')) != 'n':\n",
    "    print(ans)"
   ]
  },
  {
   "cell_type": "code",
   "execution_count": 8,
   "id": "d6bcd4b4-4446-4f33-9f2e-8d5178eeb007",
   "metadata": {},
   "outputs": [
    {
     "name": "stdout",
     "output_type": "stream",
     "text": [
      "Python is awesome!\n",
      "Python is awesome!\n",
      "Python is awesome!\n",
      "Python is awesome!\n",
      "Python is awesome!\n",
      "Python is awesome!\n",
      "Python is awesome!\n",
      "Python is awesome!\n",
      "Python is awesome!\n",
      "Python is awesome!\n"
     ]
    }
   ],
   "source": [
    "for _ in range(10):\n",
    "    print('Python is awesome!')"
   ]
  },
  {
   "cell_type": "code",
   "execution_count": 10,
   "id": "24a3962a-96eb-4170-afbf-f203d496ce2d",
   "metadata": {},
   "outputs": [
    {
     "name": "stdin",
     "output_type": "stream",
     "text": [
      ">> Hello,world! Python\n"
     ]
    },
    {
     "name": "stdout",
     "output_type": "stream",
     "text": [
      "nohtyP !dlrow,olleH\n"
     ]
    }
   ],
   "source": [
    "text = input('>>')"
   ]
  },
  {
   "cell_type": "code",
   "execution_count": 11,
   "id": "d7b0123f-4cde-4479-9849-1fd5e3bef55b",
   "metadata": {},
   "outputs": [
    {
     "name": "stdout",
     "output_type": "stream",
     "text": [
      "!\"#$%&'()*+,-./:;<=>?@[\\]^_`{|}~\n"
     ]
    }
   ],
   "source": [
    "import string\n",
    "print(string.punctuation)"
   ]
  },
  {
   "cell_type": "code",
   "execution_count": 12,
   "id": "c85c8b75-d441-449a-bee0-5f2418d22144",
   "metadata": {},
   "outputs": [
    {
     "name": "stdout",
     "output_type": "stream",
     "text": [
      "Hello world  Python\n"
     ]
    }
   ],
   "source": [
    "for char in string.punctuation:\n",
    "    text = text. replace(char, ' ')\n",
    "print(text)"
   ]
  },
  {
   "cell_type": "code",
   "execution_count": 13,
   "id": "06440988-ea18-4496-a384-4897f1595cbb",
   "metadata": {},
   "outputs": [
    {
     "name": "stdout",
     "output_type": "stream",
     "text": [
      "['Hello', 'world', 'Python']\n"
     ]
    }
   ],
   "source": [
    "text = text.split()\n",
    "print(text)"
   ]
  },
  {
   "cell_type": "code",
   "execution_count": 14,
   "id": "1107e03b-ee65-4b55-9ea3-e22b85b42b3b",
   "metadata": {},
   "outputs": [
    {
     "name": "stdout",
     "output_type": "stream",
     "text": [
      "['Hello', 'world', 'Python']\n",
      "['Python', 'world', 'Hello']\n"
     ]
    }
   ],
   "source": [
    "res = text[::-1]\n",
    "print(text)\n",
    "print(res)"
   ]
  },
  {
   "cell_type": "code",
   "execution_count": 15,
   "id": "4a158559-530f-4136-900c-b4713f6038e6",
   "metadata": {},
   "outputs": [
    {
     "name": "stdout",
     "output_type": "stream",
     "text": [
      "Python\n",
      "world\n",
      "Hello\n"
     ]
    }
   ],
   "source": [
    "for item in reversed(text): # выводит слова в обратном порядке, но не забивает память и не нужно создавать новую переменную. Обходит цикл в обратном порядке\n",
    "    print(item)"
   ]
  },
  {
   "cell_type": "code",
   "execution_count": 16,
   "id": "17885e63-815a-4839-86b2-4a2b3fc4fae0",
   "metadata": {},
   "outputs": [
    {
     "name": "stdout",
     "output_type": "stream",
     "text": [
      "Python\n",
      "world\n",
      "Hello\n"
     ]
    }
   ],
   "source": [
    "for i in range(-1, -len(text) - 1, -1): # аналог функции reversed\n",
    "    print(text[i])"
   ]
  },
  {
   "cell_type": "code",
   "execution_count": 17,
   "id": "4505b7a0-9dd0-4468-8530-a81c8698c4d3",
   "metadata": {},
   "outputs": [],
   "source": [
    "with open('data_revers.txt', 'w') as file: # записываем слова в обратном порядке в файл\n",
    "    for item in reversed(text):\n",
    "        file.write(f'{item}\\n')"
   ]
  },
  {
   "cell_type": "code",
   "execution_count": null,
   "id": "f8ec714a-d4af-438e-99e9-d5033c39e524",
   "metadata": {},
   "outputs": [],
   "source": []
  }
 ],
 "metadata": {
  "kernelspec": {
   "display_name": "Python 3 (ipykernel)",
   "language": "python",
   "name": "python3"
  },
  "language_info": {
   "codemirror_mode": {
    "name": "ipython",
    "version": 3
   },
   "file_extension": ".py",
   "mimetype": "text/x-python",
   "name": "python",
   "nbconvert_exporter": "python",
   "pygments_lexer": "ipython3",
   "version": "3.12.5"
  }
 },
 "nbformat": 4,
 "nbformat_minor": 5
}
