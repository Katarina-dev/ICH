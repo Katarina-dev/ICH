{
 "cells": [
  {
   "cell_type": "code",
   "execution_count": null,
   "id": "d3b64c8d-3a33-4c71-aab2-682c29c0f5b5",
   "metadata": {},
   "outputs": [],
   "source": [
    "1. Напишите программу, которая принимает список чисел от пользователя и передает его в функцию modify_list, \n",
    "которая изменяет элементы списка. \n",
    "Функция должна умножить нечетные числа на 2, а четные числа разделить на 2. \n",
    "Выведите измененный список на экран. Объясните, почему изменения происходят только внутри функции и как \n",
    "работают изменяемые и неизменяемые параметры."
   ]
  },
  {
   "cell_type": "code",
   "execution_count": 19,
   "id": "55a0e21e-ea5a-4cad-b52d-446a6ce5ec77",
   "metadata": {},
   "outputs": [
    {
     "name": "stdin",
     "output_type": "stream",
     "text": [
      "Введите список чисел, разделенных пробелами: 2 7 -1 0 9 -8\n"
     ]
    },
    {
     "name": "stdout",
     "output_type": "stream",
     "text": [
      "[1, 14, -2, 0, 18, -4]\n"
     ]
    }
   ],
   "source": [
    "def modify_list(a, filter = None):\n",
    "    if filter is None:\n",
    "        return a\n",
    "        \n",
    "    res = []\n",
    "    for x in a:\n",
    "        if filter(x) is not None:\n",
    "            res.append(filter(x)) \n",
    "    return res\n",
    "\n",
    "lst = list(map(int, input('Введите список чисел, разделенных пробелами:').split()))\n",
    "    \n",
    "print(modify_list(lst, lambda n: n // 2 if n % 2 == 0 else n * 2))"
   ]
  },
  {
   "cell_type": "code",
   "execution_count": null,
   "id": "9756beff-e3e9-4930-9c49-f865772c23f6",
   "metadata": {},
   "outputs": [],
   "source": [
    "2. Напишите программу, которая принимает произвольное количество аргументов от пользователя и передает \n",
    "их в функцию calculate_sum, которая возвращает сумму всех аргументов. \n",
    "Используйте оператор * при передаче аргументов в функцию. Выведите результат на экран."
   ]
  },
  {
   "cell_type": "code",
   "execution_count": 35,
   "id": "295e22b9-29d7-4c03-a427-2a2149cb276f",
   "metadata": {},
   "outputs": [
    {
     "name": "stdin",
     "output_type": "stream",
     "text": [
      "Введите числа, разделенные пробелами:  2 3 1 4\n"
     ]
    },
    {
     "name": "stdout",
     "output_type": "stream",
     "text": [
      "10\n"
     ]
    }
   ],
   "source": [
    "def calculate_sum(*args):\n",
    "    summa = 0\n",
    "    for i in args:\n",
    "        summa += i\n",
    "    return summa\n",
    "\n",
    "s = list(map(int, input('Введите числа, разделенные пробелами: ').split()))\n",
    "print(calculate_sum(*s))"
   ]
  },
  {
   "cell_type": "code",
   "execution_count": null,
   "id": "d3ba7d35-55f8-4f54-8af6-6c541fd2479d",
   "metadata": {},
   "outputs": [],
   "source": []
  }
 ],
 "metadata": {
  "kernelspec": {
   "display_name": "Python 3 (ipykernel)",
   "language": "python",
   "name": "python3"
  },
  "language_info": {
   "codemirror_mode": {
    "name": "ipython",
    "version": 3
   },
   "file_extension": ".py",
   "mimetype": "text/x-python",
   "name": "python",
   "nbconvert_exporter": "python",
   "pygments_lexer": "ipython3",
   "version": "3.12.5"
  }
 },
 "nbformat": 4,
 "nbformat_minor": 5
}
