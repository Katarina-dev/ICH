{
 "cells": [
  {
   "cell_type": "code",
   "execution_count": null,
   "id": "be77ec32-3e0e-4ad0-a21a-51187b1480a9",
   "metadata": {},
   "outputs": [],
   "source": [
    "# Напишите программу, которая принимает список слов от пользователя и использует генераторное выражение (comprehension) для создания нового списка, \n",
    "# содержащего только те слова, которые начинаются с гласной буквы. Затем программа должна использовать функцию map, чтобы преобразовать каждое слово в \n",
    "# верхний регистр. \n",
    "# В результате программа должна вывести новый список, содержащий только слова, начинающиеся с гласной буквы и записанные в верхнем регистре."
   ]
  },
  {
   "cell_type": "code",
   "execution_count": 23,
   "id": "ffd7fd92-cada-4282-b09d-034a6790ef62",
   "metadata": {},
   "outputs": [
    {
     "name": "stdin",
     "output_type": "stream",
     "text": [
      "Input words:  sun up apple door\n"
     ]
    },
    {
     "name": "stdout",
     "output_type": "stream",
     "text": [
      "['UP', 'APPLE']\n"
     ]
    }
   ],
   "source": [
    "def get_words_with_vowels(word):\n",
    "    vowels = ('a', 'e', 'i', 'o', 'u', 'A', 'E', 'I', 'O', 'U')\n",
    "    return word[0] in vowels\n",
    "\n",
    "def create_list_words(words):\n",
    "    yield [word for word in words if get_words_with_vowels(word)]\n",
    "\n",
    "def upper_words(words):\n",
    "    return list(map(lambda word: word.upper(), words))\n",
    "\n",
    "words = input(\"Input words: \").split()\n",
    "\n",
    "new_words = next(create_list_words(words))  # Получаем результат из генератора\n",
    "up_words = upper_words(new_words)\n",
    "\n",
    "print(list(up_words))\n"
   ]
  },
  {
   "cell_type": "code",
   "execution_count": null,
   "id": "adcc76ff-ecca-49e4-b342-96da9e34b979",
   "metadata": {},
   "outputs": [],
   "source": [
    "# Напишите программу, которая принимает список чисел от пользователя и использует функцию reduce из модуля functools, чтобы найти произведение всех чисел \n",
    "#в списке. Затем программа должна использовать функцию itertools.accumulate для накопления произведений чисел в новом списке. \n",
    "# В результате программа должна вывести список, содержащий накопленные произведения."
   ]
  },
  {
   "cell_type": "code",
   "execution_count": 22,
   "id": "7fe07bbe-4a71-4a6d-8d37-9387e84ac7b1",
   "metadata": {},
   "outputs": [
    {
     "name": "stdin",
     "output_type": "stream",
     "text": [
      "Input numbers:  1 2 3\n"
     ]
    },
    {
     "name": "stdout",
     "output_type": "stream",
     "text": [
      "[1, 2, 6]\n"
     ]
    }
   ],
   "source": [
    "from functools import reduce\n",
    "import itertools\n",
    "import operator\n",
    "\n",
    "def get_prod_nums(nums):\n",
    "    \n",
    "    prod = reduce(operator.mul, nums)\n",
    "    return itertools.accumulate(nums, operator.mul)\n",
    "\n",
    "user_nums = list(map(int, input(\"Input numbers: \").split()))\n",
    "print(list(get_prod_nums(user_nums)))\n"
   ]
  },
  {
   "cell_type": "code",
   "execution_count": null,
   "id": "96b66dd9-daab-4b07-8580-e01de637d290",
   "metadata": {},
   "outputs": [],
   "source": []
  }
 ],
 "metadata": {
  "kernelspec": {
   "display_name": "Python 3 (ipykernel)",
   "language": "python",
   "name": "python3"
  },
  "language_info": {
   "codemirror_mode": {
    "name": "ipython",
    "version": 3
   },
   "file_extension": ".py",
   "mimetype": "text/x-python",
   "name": "python",
   "nbconvert_exporter": "python",
   "pygments_lexer": "ipython3",
   "version": "3.12.5"
  }
 },
 "nbformat": 4,
 "nbformat_minor": 5
}
