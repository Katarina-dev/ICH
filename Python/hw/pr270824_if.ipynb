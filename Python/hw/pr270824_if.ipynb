{
 "cells": [
  {
   "cell_type": "code",
   "execution_count": 6,
   "id": "77a35585-0b76-4443-a429-394c516ab0c3",
   "metadata": {},
   "outputs": [
    {
     "name": "stdin",
     "output_type": "stream",
     "text": [
      "Enter num_1: 4\n",
      "Enter num_2: 5\n"
     ]
    },
    {
     "name": "stdout",
     "output_type": "stream",
     "text": [
      "5 more than 4\n",
      "5\n"
     ]
    }
   ],
   "source": [
    "#1.Даны два целых числа a и b. Напишите программу, которая находит большее из\n",
    "#двух чисел и печатает сообщение, какое число больше\n",
    "\n",
    "a = int(input('Enter num_1:'))\n",
    "b = int(input('Enter num_2:'))\n",
    "\n",
    "if a > b:\n",
    "    print(f'{a} more than {b}')\n",
    "elif a < b :\n",
    "    print(f'{b} more than {a}')\n",
    "else:\n",
    "    print('They are equal')\n",
    "    \n"
   ]
  },
  {
   "cell_type": "code",
   "execution_count": 10,
   "id": "0becf334-b55e-409a-9d64-446f9631cb6f",
   "metadata": {},
   "outputs": [
    {
     "name": "stdin",
     "output_type": "stream",
     "text": [
      "Enter num_1: 6\n",
      "Enter num_2: 2\n"
     ]
    },
    {
     "name": "stdout",
     "output_type": "stream",
     "text": [
      "6 more than 2\n"
     ]
    }
   ],
   "source": [
    "a = int(input('Enter num_1:'))\n",
    "b = int(input('Enter num_2:'))\n",
    "\n",
    "if a > b:\n",
    "    print(f'{a} more than {b}')\n",
    "else:\n",
    "    print(f'{b} more than {a}')"
   ]
  },
  {
   "cell_type": "code",
   "execution_count": null,
   "id": "d5c7ca2e-c442-43ac-b60f-5dab449dec4e",
   "metadata": {},
   "outputs": [],
   "source": [
    "a = int(input('Enter num_1:'))\n",
    "b = int(input('Enter num_2:'))\n",
    "print(max(a, b))"
   ]
  },
  {
   "cell_type": "code",
   "execution_count": null,
   "id": "800b427a-27f0-4a97-ad04-bce2e3f9c2cf",
   "metadata": {},
   "outputs": [],
   "source": [
    "a = int(input('Enter the first number')) \n",
    "b = int(input('Enter the second number'))\n",
    "c = int(input('Enter the third number'))\n",
    "\n",
    "if a > b and a > c:\n",
    "    print(f\"Max is: {a}\")\n",
    "elif b > c:\n",
    "    print(f\"Max is: {b}\")\n",
    "else:\n",
    "    print(f\"Max is: {c}\")"
   ]
  },
  {
   "cell_type": "code",
   "execution_count": null,
   "id": "33aa6e62-4347-4018-b396-a0b1ac469b19",
   "metadata": {},
   "outputs": [],
   "source": [
    "a = int(input('Enter the first number')) \n",
    "b = int(input('Enter the second number'))\n",
    "c = int(input('Enter the third number'))\n",
    "print(max(a, b, c))"
   ]
  },
  {
   "cell_type": "code",
   "execution_count": 22,
   "id": "05297b6a-ad04-4ca9-9db8-f7cf2204db35",
   "metadata": {},
   "outputs": [
    {
     "name": "stdin",
     "output_type": "stream",
     "text": [
      "Enter 1 or empty string: 1\n"
     ]
    },
    {
     "name": "stdout",
     "output_type": "stream",
     "text": [
      "Workday\n"
     ]
    }
   ],
   "source": [
    "#Есть логическая переменная weekday. Напишите программу, которая выводит\n",
    "#сообщение “рабочий день”, если переменная истинна и сообщение “выходной” -\n",
    "#если ложна.\n",
    "\n",
    "weekday = input('Enter 1 or empty string:')\n",
    "\n",
    "if weekday:\n",
    "    print(f'Workday')\n",
    "else:\n",
    "    print(f'Weekend')\n",
    "\n",
    "res = 'weekday' if weekday else 'workday'"
   ]
  },
  {
   "cell_type": "code",
   "execution_count": null,
   "id": "6a489a48-571f-48dc-aa49-d0b0362a2153",
   "metadata": {},
   "outputs": [],
   "source": [
    "weekday = input('Day of week')\n",
    "if weekday != 'Saturday' or weekday != 'Sunday':\n",
    "    res = 'Workday'\n",
    "else:\n",
    "    res = 'Weekend'\n",
    "print(res)"
   ]
  },
  {
   "cell_type": "code",
   "execution_count": null,
   "id": "21abf846-c0ba-480b-a8d8-17fafda20c2c",
   "metadata": {},
   "outputs": [],
   "source": [
    "weekday = input('Day of week')\n",
    "res = 'Weekend' if weekday != 'Saturday' or weekday != 'Sunday' else 'Weekend'"
   ]
  },
  {
   "cell_type": "code",
   "execution_count": null,
   "id": "b7581131-cca0-435a-bc96-70cd3c241f70",
   "metadata": {},
   "outputs": [],
   "source": [
    "#У нас есть две логические переменные: isWeekday, isVacation (выходной день и\n",
    "#каникулы). Они могут принимать разные значения, всего 4 комбинации: true - true,\n",
    "#true - false, false - false, false - true. Есть правило: мы можем поспать, если день не\n",
    "#рабочий или мы на каникулах. Напишите программу, которая в зависимости от\n",
    "#значений двух переменных печатает, можем ли мы поспать или нет. То есть для\n",
    "#значений isWeekday = False и isVacation = False программа должна печатать\n",
    "#“можете поспать”\n",
    "\n",
    "isWeekday = bool(int(input('0 - weekend, 1 - workday')))\n",
    "isVacation = bool(int(input('1 is vacation, 0 - not vacation')))\n",
    "\n",
    "if not isWeekend or isVacation:\n",
    "    print('You can sleep')\n",
    "else:\n",
    "    print('Work day. Wake up!')"
   ]
  },
  {
   "cell_type": "code",
   "execution_count": null,
   "id": "4b67e875-20fb-4016-a608-6b84189c2c0c",
   "metadata": {},
   "outputs": [],
   "source": [
    "5. У вас есть целое число X. Нужно написать программу, которая напечатает разницу\n",
    "между числом 21 и X, если X<=21 и напечатает удвоенную разницу 21 и X в\n",
    "противном случае.\n"
   ]
  },
  {
   "cell_type": "code",
   "execution_count": 26,
   "id": "41d879a9-d701-43fa-8c6c-57cad9d680c9",
   "metadata": {},
   "outputs": [
    {
     "name": "stdin",
     "output_type": "stream",
     "text": [
      "Enter integer 21\n"
     ]
    },
    {
     "name": "stdout",
     "output_type": "stream",
     "text": [
      "0\n"
     ]
    }
   ],
   "source": [
    "x = int(input('Enter integer'))\n",
    "\n",
    "if x <= 21:\n",
    "        print(21 - x)\n",
    "else:\n",
    "    print((21 - x)*2)"
   ]
  },
  {
   "cell_type": "code",
   "execution_count": null,
   "id": "9768bf4f-2202-444c-bffa-9ecbeac21d70",
   "metadata": {},
   "outputs": [],
   "source": [
    "Попросите пользователя ввести рейтинг обслуживания (от 1 до 5). \n",
    "Выведите соответствующее сообщение об уровне обслуживания (например, \"Отлично\", \"Хорошо\", \"Удовлетворительно\", \"Плохо\", \"Ужасно\")."
   ]
  },
  {
   "cell_type": "code",
   "execution_count": 38,
   "id": "d666836a-a0cb-4e07-87f0-4f342c13dda5",
   "metadata": {},
   "outputs": [
    {
     "name": "stdin",
     "output_type": "stream",
     "text": [
      "Enter rating ( 1 - 5) 5\n"
     ]
    },
    {
     "name": "stdout",
     "output_type": "stream",
     "text": [
      "Excellent\n"
     ]
    }
   ],
   "source": [
    "try:\n",
    "    rate = int(input('Enter rating ( 1 - 5)'))\n",
    "    rate = int(rate)\n",
    "except ValueError:\n",
    "    print(\"Что-то пошло не так\")\n",
    "\n",
    "if rate == 5:\n",
    "    print('Excellent')\n",
    "elif rate == 4:\n",
    "    print('Good')\n",
    "elif rate == 3:\n",
    "    print('Satisfactorily')\n",
    "elif rate == 2:\n",
    "    print('Bad')\n",
    "elif rate == 1:\n",
    "    print('Terrible')\n",
    "else:\n",
    "    print('Enter value 1 - 5')"
   ]
  },
  {
   "cell_type": "code",
   "execution_count": null,
   "id": "8cedf5e6-4bec-42db-b00a-c3dc1dcbb825",
   "metadata": {},
   "outputs": [
    {
     "name": "stdin",
     "output_type": "stream",
     "text": [
      "Введите рейтинг обслуживания (от 1 до 5):  выы\n"
     ]
    },
    {
     "name": "stdout",
     "output_type": "stream",
     "text": [
      "Некорректный ввод. Введите целое число от 1 до 5.\n"
     ]
    }
   ],
   "source": [
    "# Программа для вывода сообщения об уровне обслуживания\n",
    "while True:\n",
    "    try:\n",
    "        rating = int(input(\"Введите рейтинг обслуживания (от 1 до 5): \"))\n",
    "        if 1 <= rating <= 5:\n",
    "            break\n",
    "        else:\n",
    "            print(\"Некорректный рейтинг. Введите число от 1 до 5.\")\n",
    "    except ValueError:\n",
    "        print(\"Некорректный ввод. Введите целое число от 1 до 5.\")\n",
    "\n",
    "if rating == 5:\n",
    "    print(\"Отлично\")\n",
    "elif rating == 4:\n",
    "    print(\"Хорошо\")\n",
    "elif rating == 3:\n",
    "    print(\"Удовлетворительно\")\n",
    "elif rating == 2:\n",
    "    print(\"Плохо\")\n",
    "elif rating == 1:\n",
    "    print(\"Ужасно\")"
   ]
  },
  {
   "cell_type": "code",
   "execution_count": null,
   "id": "3efe1262-de47-487d-badf-6da0faabd9b8",
   "metadata": {},
   "outputs": [],
   "source": []
  }
 ],
 "metadata": {
  "kernelspec": {
   "display_name": "Python 3 (ipykernel)",
   "language": "python",
   "name": "python3"
  },
  "language_info": {
   "codemirror_mode": {
    "name": "ipython",
    "version": 3
   },
   "file_extension": ".py",
   "mimetype": "text/x-python",
   "name": "python",
   "nbconvert_exporter": "python",
   "pygments_lexer": "ipython3",
   "version": "3.12.5"
  }
 },
 "nbformat": 4,
 "nbformat_minor": 5
}
