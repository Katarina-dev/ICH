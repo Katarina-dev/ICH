{
 "cells": [
  {
   "cell_type": "code",
   "execution_count": null,
   "id": "8d1767a4-5477-4f5c-bde3-93541c7e9913",
   "metadata": {},
   "outputs": [],
   "source": [
    "#1.Напишите генератор, который возвращает последовательность целых чисел,\n",
    "#где каждое следующее больше предыдущего в 2 раза."
   ]
  },
  {
   "cell_type": "code",
   "execution_count": null,
   "id": "17c4324d-f1c0-4d7f-8ad5-41394b809608",
   "metadata": {},
   "outputs": [],
   "source": [
    "def my_gen(start: int):\n",
    "    current = start\n",
    "    while True:\n",
    "        yield current\n",
    "        current *= 2\n",
    "\n",
    "start = int(input('Введите начальное значение: '))\n",
    "n = int(input('Кол-во элементов: '))\n",
    "res = my_gen(start)\n",
    "\n",
    "for _ in range(n):\n",
    "    print(next(res))"
   ]
  },
  {
   "cell_type": "code",
   "execution_count": null,
   "id": "5d25843a-189b-42b8-8408-29d89d80082e",
   "metadata": {},
   "outputs": [],
   "source": [
    "2. Напишите генератор, в который передаются строки разной длины и который\n",
    "возвращает строки фиксированной длины 7 символов. Если длина переданной\n",
    "строки больше 7 символов, то возвращаются первые 7 символов. Если длина\n",
    "переданной строки меньше 7 символов, то недостающие "
   ]
  },
  {
   "cell_type": "code",
   "execution_count": null,
   "id": "c992be22-4cc9-4a7d-9208-dd2dd1d6c530",
   "metadata": {},
   "outputs": [],
   "source": [
    "def gen_str(strings: str) -> str:\n",
    "    for string in strings:\n",
    "        if len(string) > 7:\n",
    "            yield string[:7]\n",
    "        else:\n",
    "            yield string.zfill(7)\n",
    "\n",
    "list_strings = []\n",
    "\n",
    "while True:\n",
    "    strings = str(input('Введите строчки и over для выхода: ')).lower()\n",
    "    if strings == 'over':\n",
    "        break\n",
    "    list_strings.append(strings)\n",
    "\n",
    "for res in gen_str(list_strings):\n",
    "    print(f'Результат: {res}')"
   ]
  },
  {
   "cell_type": "code",
   "execution_count": null,
   "id": "74572f31-7caa-43b0-8aec-fa802e650dd5",
   "metadata": {},
   "outputs": [],
   "source": [
    "def my_gen():\n",
    "    for i in range(10):\n",
    "        yield f'*{i}*'\n",
    "\n",
    "\n",
    "f = my_gen()\n",
    "\n",
    "res = ','.join(f)\n",
    "print(res)"
   ]
  },
  {
   "cell_type": "code",
   "execution_count": null,
   "id": "8f348e74-dc08-4ef2-8f29-bf698ba3c627",
   "metadata": {},
   "outputs": [],
   "source": [
    "#3. У вас есть текстовый файл, где каждая строка - имя человека. Написать\n",
    "#программу, которая выводит следующее приветствие: “Привет, <имя 1>, <имя\n",
    "#2>,... <имя n> и добро пожаловать!”. Программу реализовать с помощью\n",
    "#генератора и суб-генератора, где суб-генератор возвращает имена из файла,\n",
    "#а основной генератор в нужный момент считывает и возвращает значения из\n",
    "#суб-генератора.\n"
   ]
  },
  {
   "cell_type": "code",
   "execution_count": null,
   "id": "931c679f-7d04-4da6-9111-c840298b95b3",
   "metadata": {},
   "outputs": [],
   "source": [
    "def read_name(filename):\n",
    "    with open(filename, 'r') as file:\n",
    "        for name in file:\n",
    "            yield name.strip()\n",
    "\n",
    "def greeting(filename):\n",
    "    names = read_name(filename)\n",
    "    res = ', '.join(names)\n",
    "    return f'Hello, {res}!'\n",
    "\n",
    "def greeting_gen(filename):\n",
    "    yield f'Hello'\n",
    "    yield from read_name(filename)\n",
    "    yield  f' and welcome!'\n",
    "\n",
    "result = greeting('names.txt') \n",
    "result_1 = ', '.join(greeting_gen('names.txt'))\n",
    "print(result_1)"
   ]
  }
 ],
 "metadata": {
  "kernelspec": {
   "display_name": "Python 3 (ipykernel)",
   "language": "python",
   "name": "python3"
  },
  "language_info": {
   "codemirror_mode": {
    "name": "ipython",
    "version": 3
   },
   "file_extension": ".py",
   "mimetype": "text/x-python",
   "name": "python",
   "nbconvert_exporter": "python",
   "pygments_lexer": "ipython3",
   "version": "3.12.5"
  }
 },
 "nbformat": 4,
 "nbformat_minor": 5
}
