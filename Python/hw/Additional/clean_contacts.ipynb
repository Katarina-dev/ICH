{
 "cells": [
  {
   "cell_type": "code",
   "execution_count": 4,
   "id": "363e50f5-ee24-4313-bfd9-af6a8a3b2a0a",
   "metadata": {},
   "outputs": [],
   "source": [
    "import pandas as pd\n",
    "# Загрузка с явным указанием типа данных для CONTACTID как строка\n",
    "dtype_dict = {\n",
    "    'Id': 'str',\n",
    "}\n",
    "# Загружаем Excel\n",
    "excel_file_contacts = pd.read_excel('Contacts (Done).xlsx', dtype=dtype_dict)\n",
    "\n",
    "excel_file_contacts.to_csv(\"Contacts.csv\", index=False, encoding='utf-8-sig')"
   ]
  },
  {
   "cell_type": "code",
   "execution_count": 5,
   "id": "8edcc676-4061-4112-8da3-92f8666590e2",
   "metadata": {},
   "outputs": [
    {
     "data": {
      "text/html": [
       "<div>\n",
       "<style scoped>\n",
       "    .dataframe tbody tr th:only-of-type {\n",
       "        vertical-align: middle;\n",
       "    }\n",
       "\n",
       "    .dataframe tbody tr th {\n",
       "        vertical-align: top;\n",
       "    }\n",
       "\n",
       "    .dataframe thead th {\n",
       "        text-align: right;\n",
       "    }\n",
       "</style>\n",
       "<table border=\"1\" class=\"dataframe\">\n",
       "  <thead>\n",
       "    <tr style=\"text-align: right;\">\n",
       "      <th></th>\n",
       "      <th>Id</th>\n",
       "      <th>Contact Owner Name</th>\n",
       "      <th>Created Time</th>\n",
       "      <th>Modified Time</th>\n",
       "    </tr>\n",
       "  </thead>\n",
       "  <tbody>\n",
       "    <tr>\n",
       "      <th>0</th>\n",
       "      <td>5805028000000645014</td>\n",
       "      <td>Rachel White</td>\n",
       "      <td>27.06.2023 11:28</td>\n",
       "      <td>22.12.2023 13:34</td>\n",
       "    </tr>\n",
       "    <tr>\n",
       "      <th>1</th>\n",
       "      <td>5805028000000872003</td>\n",
       "      <td>Charlie Davis</td>\n",
       "      <td>03.07.2023 11:31</td>\n",
       "      <td>21.05.2024 10:23</td>\n",
       "    </tr>\n",
       "    <tr>\n",
       "      <th>2</th>\n",
       "      <td>5805028000000889001</td>\n",
       "      <td>Bob Brown</td>\n",
       "      <td>02.07.2023 22:37</td>\n",
       "      <td>21.12.2023 13:17</td>\n",
       "    </tr>\n",
       "    <tr>\n",
       "      <th>3</th>\n",
       "      <td>5805028000000907006</td>\n",
       "      <td>Bob Brown</td>\n",
       "      <td>03.07.2023 05:44</td>\n",
       "      <td>29.12.2023 15:20</td>\n",
       "    </tr>\n",
       "    <tr>\n",
       "      <th>4</th>\n",
       "      <td>5805028000000939010</td>\n",
       "      <td>Nina Scott</td>\n",
       "      <td>04.07.2023 10:11</td>\n",
       "      <td>16.04.2024 16:14</td>\n",
       "    </tr>\n",
       "    <tr>\n",
       "      <th>...</th>\n",
       "      <td>...</td>\n",
       "      <td>...</td>\n",
       "      <td>...</td>\n",
       "      <td>...</td>\n",
       "    </tr>\n",
       "    <tr>\n",
       "      <th>18543</th>\n",
       "      <td>5805028000056889209</td>\n",
       "      <td>Ulysses Adams</td>\n",
       "      <td>21.06.2024 12:11</td>\n",
       "      <td>21.06.2024 14:11</td>\n",
       "    </tr>\n",
       "    <tr>\n",
       "      <th>18544</th>\n",
       "      <td>5805028000056889351</td>\n",
       "      <td>Eva Kent</td>\n",
       "      <td>21.06.2024 13:32</td>\n",
       "      <td>21.06.2024 15:32</td>\n",
       "    </tr>\n",
       "    <tr>\n",
       "      <th>18545</th>\n",
       "      <td>5805028000056892018</td>\n",
       "      <td>Eva Kent</td>\n",
       "      <td>21.06.2024 10:21</td>\n",
       "      <td>21.06.2024 12:21</td>\n",
       "    </tr>\n",
       "    <tr>\n",
       "      <th>18546</th>\n",
       "      <td>5805028000056892055</td>\n",
       "      <td>Yara Edwards</td>\n",
       "      <td>21.06.2024 10:22</td>\n",
       "      <td>21.06.2024 12:23</td>\n",
       "    </tr>\n",
       "    <tr>\n",
       "      <th>18547</th>\n",
       "      <td>5805028000056907001</td>\n",
       "      <td>Ben Hall</td>\n",
       "      <td>21.06.2024 10:56</td>\n",
       "      <td>21.06.2024 12:56</td>\n",
       "    </tr>\n",
       "  </tbody>\n",
       "</table>\n",
       "<p>18548 rows × 4 columns</p>\n",
       "</div>"
      ],
      "text/plain": [
       "                        Id Contact Owner Name      Created Time  \\\n",
       "0      5805028000000645014       Rachel White  27.06.2023 11:28   \n",
       "1      5805028000000872003      Charlie Davis  03.07.2023 11:31   \n",
       "2      5805028000000889001          Bob Brown  02.07.2023 22:37   \n",
       "3      5805028000000907006          Bob Brown  03.07.2023 05:44   \n",
       "4      5805028000000939010         Nina Scott  04.07.2023 10:11   \n",
       "...                    ...                ...               ...   \n",
       "18543  5805028000056889209      Ulysses Adams  21.06.2024 12:11   \n",
       "18544  5805028000056889351           Eva Kent  21.06.2024 13:32   \n",
       "18545  5805028000056892018           Eva Kent  21.06.2024 10:21   \n",
       "18546  5805028000056892055       Yara Edwards  21.06.2024 10:22   \n",
       "18547  5805028000056907001           Ben Hall  21.06.2024 10:56   \n",
       "\n",
       "          Modified Time  \n",
       "0      22.12.2023 13:34  \n",
       "1      21.05.2024 10:23  \n",
       "2      21.12.2023 13:17  \n",
       "3      29.12.2023 15:20  \n",
       "4      16.04.2024 16:14  \n",
       "...                 ...  \n",
       "18543  21.06.2024 14:11  \n",
       "18544  21.06.2024 15:32  \n",
       "18545  21.06.2024 12:21  \n",
       "18546  21.06.2024 12:23  \n",
       "18547  21.06.2024 12:56  \n",
       "\n",
       "[18548 rows x 4 columns]"
      ]
     },
     "execution_count": 5,
     "metadata": {},
     "output_type": "execute_result"
    }
   ],
   "source": [
    "contacts_df = pd.read_csv(\"Contacts.csv\", dtype={'Id': str})\n",
    "contacts_df"
   ]
  },
  {
   "cell_type": "code",
   "execution_count": 6,
   "id": "4daa431b-83f8-4fe0-8fbb-b77adef21c65",
   "metadata": {},
   "outputs": [
    {
     "name": "stdout",
     "output_type": "stream",
     "text": [
      "<class 'pandas.core.frame.DataFrame'>\n",
      "RangeIndex: 18548 entries, 0 to 18547\n",
      "Data columns (total 4 columns):\n",
      " #   Column              Non-Null Count  Dtype \n",
      "---  ------              --------------  ----- \n",
      " 0   Id                  18548 non-null  object\n",
      " 1   Contact Owner Name  18548 non-null  object\n",
      " 2   Created Time        18548 non-null  object\n",
      " 3   Modified Time       18548 non-null  object\n",
      "dtypes: object(4)\n",
      "memory usage: 579.8+ KB\n"
     ]
    }
   ],
   "source": [
    "contacts_df.info()"
   ]
  },
  {
   "cell_type": "code",
   "execution_count": 7,
   "id": "f395b713-88a2-49d6-bf7a-9d7f8e4aae81",
   "metadata": {},
   "outputs": [
    {
     "data": {
      "text/plain": [
       "Id                    object\n",
       "Contact Owner Name    object\n",
       "Created Time          object\n",
       "Modified Time         object\n",
       "dtype: object"
      ]
     },
     "execution_count": 7,
     "metadata": {},
     "output_type": "execute_result"
    }
   ],
   "source": [
    "contacts_df.dtypes"
   ]
  },
  {
   "cell_type": "code",
   "execution_count": 9,
   "id": "445350bd-525f-40eb-8a16-930d1e80fe1a",
   "metadata": {},
   "outputs": [
    {
     "data": {
      "text/plain": [
       "Id                    18548\n",
       "Contact Owner Name       28\n",
       "Created Time          17921\n",
       "Modified Time         16580\n",
       "dtype: int64"
      ]
     },
     "execution_count": 9,
     "metadata": {},
     "output_type": "execute_result"
    }
   ],
   "source": [
    "contacts_df.nunique()"
   ]
  },
  {
   "cell_type": "code",
   "execution_count": 10,
   "id": "17e40c65-311f-4432-9239-7fbbc161f7bc",
   "metadata": {},
   "outputs": [
    {
     "data": {
      "text/html": [
       "<div>\n",
       "<style scoped>\n",
       "    .dataframe tbody tr th:only-of-type {\n",
       "        vertical-align: middle;\n",
       "    }\n",
       "\n",
       "    .dataframe tbody tr th {\n",
       "        vertical-align: top;\n",
       "    }\n",
       "\n",
       "    .dataframe thead th {\n",
       "        text-align: right;\n",
       "    }\n",
       "</style>\n",
       "<table border=\"1\" class=\"dataframe\">\n",
       "  <thead>\n",
       "    <tr style=\"text-align: right;\">\n",
       "      <th></th>\n",
       "      <th>Id</th>\n",
       "      <th>Contact Owner Name</th>\n",
       "      <th>Created Time</th>\n",
       "      <th>Modified Time</th>\n",
       "    </tr>\n",
       "  </thead>\n",
       "  <tbody>\n",
       "  </tbody>\n",
       "</table>\n",
       "</div>"
      ],
      "text/plain": [
       "Empty DataFrame\n",
       "Columns: [Id, Contact Owner Name, Created Time, Modified Time]\n",
       "Index: []"
      ]
     },
     "execution_count": 10,
     "metadata": {},
     "output_type": "execute_result"
    }
   ],
   "source": [
    "contacts_df[contacts_df.duplicated()]"
   ]
  },
  {
   "cell_type": "code",
   "execution_count": 11,
   "id": "c1d78dee-6dfc-4213-b44d-ab0348be6bf9",
   "metadata": {},
   "outputs": [
    {
     "data": {
      "text/plain": [
       "Id                            object\n",
       "Contact Owner Name            object\n",
       "Created Time          datetime64[ns]\n",
       "Modified Time                 object\n",
       "dtype: object"
      ]
     },
     "execution_count": 11,
     "metadata": {},
     "output_type": "execute_result"
    }
   ],
   "source": [
    "contacts_df['Created Time'] = pd.to_datetime(contacts_df['Created Time'], errors = 'coerce', dayfirst=True)\n",
    "contacts_df.dtypes"
   ]
  },
  {
   "cell_type": "code",
   "execution_count": 12,
   "id": "b596e1bf-6ca3-4b29-ba5d-dc9ae94a6ce7",
   "metadata": {},
   "outputs": [
    {
     "data": {
      "text/plain": [
       "Id                            object\n",
       "Contact Owner Name            object\n",
       "Created Time          datetime64[ns]\n",
       "Modified Time         datetime64[ns]\n",
       "dtype: object"
      ]
     },
     "execution_count": 12,
     "metadata": {},
     "output_type": "execute_result"
    }
   ],
   "source": [
    "contacts_df['Modified Time'] = pd.to_datetime(contacts_df['Modified Time'], errors = 'coerce', dayfirst=True)\n",
    "contacts_df.dtypes"
   ]
  },
  {
   "cell_type": "code",
   "execution_count": 13,
   "id": "e8e17d8e-f987-42c1-857c-2dbfedd217a7",
   "metadata": {},
   "outputs": [
    {
     "data": {
      "text/html": [
       "<div>\n",
       "<style scoped>\n",
       "    .dataframe tbody tr th:only-of-type {\n",
       "        vertical-align: middle;\n",
       "    }\n",
       "\n",
       "    .dataframe tbody tr th {\n",
       "        vertical-align: top;\n",
       "    }\n",
       "\n",
       "    .dataframe thead th {\n",
       "        text-align: right;\n",
       "    }\n",
       "</style>\n",
       "<table border=\"1\" class=\"dataframe\">\n",
       "  <thead>\n",
       "    <tr style=\"text-align: right;\">\n",
       "      <th></th>\n",
       "      <th>Id</th>\n",
       "      <th>Contact Owner Name</th>\n",
       "      <th>Created Time</th>\n",
       "      <th>Modified Time</th>\n",
       "    </tr>\n",
       "  </thead>\n",
       "  <tbody>\n",
       "    <tr>\n",
       "      <th>0</th>\n",
       "      <td>5805028000000645014</td>\n",
       "      <td>Rachel White</td>\n",
       "      <td>2023-06-27 11:28:00</td>\n",
       "      <td>2023-12-22 13:34:00</td>\n",
       "    </tr>\n",
       "    <tr>\n",
       "      <th>1</th>\n",
       "      <td>5805028000000872003</td>\n",
       "      <td>Charlie Davis</td>\n",
       "      <td>2023-07-03 11:31:00</td>\n",
       "      <td>2024-05-21 10:23:00</td>\n",
       "    </tr>\n",
       "    <tr>\n",
       "      <th>2</th>\n",
       "      <td>5805028000000889001</td>\n",
       "      <td>Bob Brown</td>\n",
       "      <td>2023-07-02 22:37:00</td>\n",
       "      <td>2023-12-21 13:17:00</td>\n",
       "    </tr>\n",
       "    <tr>\n",
       "      <th>3</th>\n",
       "      <td>5805028000000907006</td>\n",
       "      <td>Bob Brown</td>\n",
       "      <td>2023-07-03 05:44:00</td>\n",
       "      <td>2023-12-29 15:20:00</td>\n",
       "    </tr>\n",
       "    <tr>\n",
       "      <th>4</th>\n",
       "      <td>5805028000000939010</td>\n",
       "      <td>Nina Scott</td>\n",
       "      <td>2023-07-04 10:11:00</td>\n",
       "      <td>2024-04-16 16:14:00</td>\n",
       "    </tr>\n",
       "    <tr>\n",
       "      <th>...</th>\n",
       "      <td>...</td>\n",
       "      <td>...</td>\n",
       "      <td>...</td>\n",
       "      <td>...</td>\n",
       "    </tr>\n",
       "    <tr>\n",
       "      <th>18543</th>\n",
       "      <td>5805028000056889209</td>\n",
       "      <td>Ulysses Adams</td>\n",
       "      <td>2024-06-21 12:11:00</td>\n",
       "      <td>2024-06-21 14:11:00</td>\n",
       "    </tr>\n",
       "    <tr>\n",
       "      <th>18544</th>\n",
       "      <td>5805028000056889351</td>\n",
       "      <td>Eva Kent</td>\n",
       "      <td>2024-06-21 13:32:00</td>\n",
       "      <td>2024-06-21 15:32:00</td>\n",
       "    </tr>\n",
       "    <tr>\n",
       "      <th>18545</th>\n",
       "      <td>5805028000056892018</td>\n",
       "      <td>Eva Kent</td>\n",
       "      <td>2024-06-21 10:21:00</td>\n",
       "      <td>2024-06-21 12:21:00</td>\n",
       "    </tr>\n",
       "    <tr>\n",
       "      <th>18546</th>\n",
       "      <td>5805028000056892055</td>\n",
       "      <td>Yara Edwards</td>\n",
       "      <td>2024-06-21 10:22:00</td>\n",
       "      <td>2024-06-21 12:23:00</td>\n",
       "    </tr>\n",
       "    <tr>\n",
       "      <th>18547</th>\n",
       "      <td>5805028000056907001</td>\n",
       "      <td>Ben Hall</td>\n",
       "      <td>2024-06-21 10:56:00</td>\n",
       "      <td>2024-06-21 12:56:00</td>\n",
       "    </tr>\n",
       "  </tbody>\n",
       "</table>\n",
       "<p>18548 rows × 4 columns</p>\n",
       "</div>"
      ],
      "text/plain": [
       "                        Id Contact Owner Name        Created Time  \\\n",
       "0      5805028000000645014       Rachel White 2023-06-27 11:28:00   \n",
       "1      5805028000000872003      Charlie Davis 2023-07-03 11:31:00   \n",
       "2      5805028000000889001          Bob Brown 2023-07-02 22:37:00   \n",
       "3      5805028000000907006          Bob Brown 2023-07-03 05:44:00   \n",
       "4      5805028000000939010         Nina Scott 2023-07-04 10:11:00   \n",
       "...                    ...                ...                 ...   \n",
       "18543  5805028000056889209      Ulysses Adams 2024-06-21 12:11:00   \n",
       "18544  5805028000056889351           Eva Kent 2024-06-21 13:32:00   \n",
       "18545  5805028000056892018           Eva Kent 2024-06-21 10:21:00   \n",
       "18546  5805028000056892055       Yara Edwards 2024-06-21 10:22:00   \n",
       "18547  5805028000056907001           Ben Hall 2024-06-21 10:56:00   \n",
       "\n",
       "            Modified Time  \n",
       "0     2023-12-22 13:34:00  \n",
       "1     2024-05-21 10:23:00  \n",
       "2     2023-12-21 13:17:00  \n",
       "3     2023-12-29 15:20:00  \n",
       "4     2024-04-16 16:14:00  \n",
       "...                   ...  \n",
       "18543 2024-06-21 14:11:00  \n",
       "18544 2024-06-21 15:32:00  \n",
       "18545 2024-06-21 12:21:00  \n",
       "18546 2024-06-21 12:23:00  \n",
       "18547 2024-06-21 12:56:00  \n",
       "\n",
       "[18548 rows x 4 columns]"
      ]
     },
     "execution_count": 13,
     "metadata": {},
     "output_type": "execute_result"
    }
   ],
   "source": [
    "contacts_df"
   ]
  },
  {
   "cell_type": "code",
   "execution_count": 14,
   "id": "eb08f09a-b44c-43d8-8c55-71a4b6621c14",
   "metadata": {},
   "outputs": [
    {
     "data": {
      "text/plain": [
       "Id                    18548\n",
       "Contact Owner Name       28\n",
       "Created Time          17921\n",
       "Modified Time         16580\n",
       "dtype: int64"
      ]
     },
     "execution_count": 14,
     "metadata": {},
     "output_type": "execute_result"
    }
   ],
   "source": [
    "contacts_df.nunique()"
   ]
  },
  {
   "cell_type": "code",
   "execution_count": 15,
   "id": "c30e592f-76bd-41f8-bd5a-22eee8aa6ca6",
   "metadata": {},
   "outputs": [
    {
     "data": {
      "text/html": [
       "<div>\n",
       "<style scoped>\n",
       "    .dataframe tbody tr th:only-of-type {\n",
       "        vertical-align: middle;\n",
       "    }\n",
       "\n",
       "    .dataframe tbody tr th {\n",
       "        vertical-align: top;\n",
       "    }\n",
       "\n",
       "    .dataframe thead th {\n",
       "        text-align: right;\n",
       "    }\n",
       "</style>\n",
       "<table border=\"1\" class=\"dataframe\">\n",
       "  <thead>\n",
       "    <tr style=\"text-align: right;\">\n",
       "      <th></th>\n",
       "      <th>Id</th>\n",
       "      <th>Contact Owner Name</th>\n",
       "      <th>Created Time</th>\n",
       "      <th>Modified Time</th>\n",
       "    </tr>\n",
       "  </thead>\n",
       "  <tbody>\n",
       "    <tr>\n",
       "      <th>0</th>\n",
       "      <td>5805028000000645014</td>\n",
       "      <td>Rachel White</td>\n",
       "      <td>2023-06-27 11:28:00</td>\n",
       "      <td>2023-12-22 13:34:00</td>\n",
       "    </tr>\n",
       "    <tr>\n",
       "      <th>1</th>\n",
       "      <td>5805028000000872003</td>\n",
       "      <td>Charlie Davis</td>\n",
       "      <td>2023-07-03 11:31:00</td>\n",
       "      <td>2024-05-21 10:23:00</td>\n",
       "    </tr>\n",
       "    <tr>\n",
       "      <th>2</th>\n",
       "      <td>5805028000000889001</td>\n",
       "      <td>Bob Brown</td>\n",
       "      <td>2023-07-02 22:37:00</td>\n",
       "      <td>2023-12-21 13:17:00</td>\n",
       "    </tr>\n",
       "    <tr>\n",
       "      <th>3</th>\n",
       "      <td>5805028000000907006</td>\n",
       "      <td>Bob Brown</td>\n",
       "      <td>2023-07-03 05:44:00</td>\n",
       "      <td>2023-12-29 15:20:00</td>\n",
       "    </tr>\n",
       "    <tr>\n",
       "      <th>4</th>\n",
       "      <td>5805028000000939010</td>\n",
       "      <td>Nina Scott</td>\n",
       "      <td>2023-07-04 10:11:00</td>\n",
       "      <td>2024-04-16 16:14:00</td>\n",
       "    </tr>\n",
       "    <tr>\n",
       "      <th>...</th>\n",
       "      <td>...</td>\n",
       "      <td>...</td>\n",
       "      <td>...</td>\n",
       "      <td>...</td>\n",
       "    </tr>\n",
       "    <tr>\n",
       "      <th>18543</th>\n",
       "      <td>5805028000056889209</td>\n",
       "      <td>Ulysses Adams</td>\n",
       "      <td>2024-06-21 12:11:00</td>\n",
       "      <td>2024-06-21 14:11:00</td>\n",
       "    </tr>\n",
       "    <tr>\n",
       "      <th>18544</th>\n",
       "      <td>5805028000056889351</td>\n",
       "      <td>Eva Kent</td>\n",
       "      <td>2024-06-21 13:32:00</td>\n",
       "      <td>2024-06-21 15:32:00</td>\n",
       "    </tr>\n",
       "    <tr>\n",
       "      <th>18545</th>\n",
       "      <td>5805028000056892018</td>\n",
       "      <td>Eva Kent</td>\n",
       "      <td>2024-06-21 10:21:00</td>\n",
       "      <td>2024-06-21 12:21:00</td>\n",
       "    </tr>\n",
       "    <tr>\n",
       "      <th>18546</th>\n",
       "      <td>5805028000056892055</td>\n",
       "      <td>Yara Edwards</td>\n",
       "      <td>2024-06-21 10:22:00</td>\n",
       "      <td>2024-06-21 12:23:00</td>\n",
       "    </tr>\n",
       "    <tr>\n",
       "      <th>18547</th>\n",
       "      <td>5805028000056907001</td>\n",
       "      <td>Ben Hall</td>\n",
       "      <td>2024-06-21 10:56:00</td>\n",
       "      <td>2024-06-21 12:56:00</td>\n",
       "    </tr>\n",
       "  </tbody>\n",
       "</table>\n",
       "<p>18548 rows × 4 columns</p>\n",
       "</div>"
      ],
      "text/plain": [
       "                        Id Contact Owner Name        Created Time  \\\n",
       "0      5805028000000645014       Rachel White 2023-06-27 11:28:00   \n",
       "1      5805028000000872003      Charlie Davis 2023-07-03 11:31:00   \n",
       "2      5805028000000889001          Bob Brown 2023-07-02 22:37:00   \n",
       "3      5805028000000907006          Bob Brown 2023-07-03 05:44:00   \n",
       "4      5805028000000939010         Nina Scott 2023-07-04 10:11:00   \n",
       "...                    ...                ...                 ...   \n",
       "18543  5805028000056889209      Ulysses Adams 2024-06-21 12:11:00   \n",
       "18544  5805028000056889351           Eva Kent 2024-06-21 13:32:00   \n",
       "18545  5805028000056892018           Eva Kent 2024-06-21 10:21:00   \n",
       "18546  5805028000056892055       Yara Edwards 2024-06-21 10:22:00   \n",
       "18547  5805028000056907001           Ben Hall 2024-06-21 10:56:00   \n",
       "\n",
       "            Modified Time  \n",
       "0     2023-12-22 13:34:00  \n",
       "1     2024-05-21 10:23:00  \n",
       "2     2023-12-21 13:17:00  \n",
       "3     2023-12-29 15:20:00  \n",
       "4     2024-04-16 16:14:00  \n",
       "...                   ...  \n",
       "18543 2024-06-21 14:11:00  \n",
       "18544 2024-06-21 15:32:00  \n",
       "18545 2024-06-21 12:21:00  \n",
       "18546 2024-06-21 12:23:00  \n",
       "18547 2024-06-21 12:56:00  \n",
       "\n",
       "[18548 rows x 4 columns]"
      ]
     },
     "execution_count": 15,
     "metadata": {},
     "output_type": "execute_result"
    }
   ],
   "source": [
    "contacts_df.loc[:, 'Contact Owner Name'] = contacts_df['Contact Owner Name'].str.strip().str.replace(r'\\s+', ' ', regex=True).str.title()\n",
    "contacts_df"
   ]
  },
  {
   "cell_type": "code",
   "execution_count": 16,
   "id": "7f31811b-ebb6-4e87-aaa6-3eee5dfc5faf",
   "metadata": {},
   "outputs": [
    {
     "data": {
      "text/plain": [
       "Id                    18548\n",
       "Contact Owner Name       28\n",
       "Created Time          17921\n",
       "Modified Time         16580\n",
       "dtype: int64"
      ]
     },
     "execution_count": 16,
     "metadata": {},
     "output_type": "execute_result"
    }
   ],
   "source": [
    "contacts_df.nunique()"
   ]
  },
  {
   "cell_type": "code",
   "execution_count": 17,
   "id": "004fc854-9c72-4be7-9f21-e868e8f00442",
   "metadata": {},
   "outputs": [
    {
     "data": {
      "text/plain": [
       "Id                    0\n",
       "Contact Owner Name    0\n",
       "Created Time          0\n",
       "Modified Time         0\n",
       "dtype: int64"
      ]
     },
     "execution_count": 17,
     "metadata": {},
     "output_type": "execute_result"
    }
   ],
   "source": [
    "contacts_df.isnull().sum()"
   ]
  },
  {
   "cell_type": "code",
   "execution_count": null,
   "id": "10c5109c-a42d-438c-ad18-71c7cbc271be",
   "metadata": {},
   "outputs": [],
   "source": []
  }
 ],
 "metadata": {
  "kernelspec": {
   "display_name": "Python 3 (ipykernel)",
   "language": "python",
   "name": "python3"
  },
  "language_info": {
   "codemirror_mode": {
    "name": "ipython",
    "version": 3
   },
   "file_extension": ".py",
   "mimetype": "text/x-python",
   "name": "python",
   "nbconvert_exporter": "python",
   "pygments_lexer": "ipython3",
   "version": "3.13.3"
  }
 },
 "nbformat": 4,
 "nbformat_minor": 5
}
