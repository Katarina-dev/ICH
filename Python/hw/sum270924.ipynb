{
 "cells": [
  {
   "cell_type": "code",
   "execution_count": 2,
   "id": "3a4e0150-384c-42cf-8239-0e8693208d94",
   "metadata": {},
   "outputs": [
    {
     "name": "stdout",
     "output_type": "stream",
     "text": [
      "(3, 2)\n"
     ]
    },
    {
     "name": "stdin",
     "output_type": "stream",
     "text": [
      "a>> 3\n",
      "b>> 2\n"
     ]
    },
    {
     "name": "stdout",
     "output_type": "stream",
     "text": [
      "Summa: 13, Product: 22\n"
     ]
    }
   ],
   "source": [
    "# 1. Напишите программу, которая принимает два числа и возвращает их сумму и произведение в виде кортежа (sum, product). Используйте функцию для вычисления суммы и произведения. Выведите результат на экран с помощью команды print.\n",
    "\n",
    "\n",
    "def sum_product(a, b):\n",
    "    return a + b, a * b\n",
    "\n",
    "res = sum_product(1,2)\n",
    "print(res)\n",
    "a, b = int(input('a>>')), int(input('b>>'))\n",
    "summa, product = sum_product(11, 2)\n",
    "print(f'Summa: {summa}, Product: {product}')"
   ]
  },
  {
   "cell_type": "code",
   "execution_count": 3,
   "id": "18feb16c-9dee-4588-bbf4-3ba6549c14fd",
   "metadata": {},
   "outputs": [
    {
     "name": "stdin",
     "output_type": "stream",
     "text": [
      "numbers: 12 33 55\n"
     ]
    },
    {
     "name": "stdout",
     "output_type": "stream",
     "text": [
      "(100, 55, 12)\n"
     ]
    }
   ],
   "source": [
    "#2. Напишите программу, которая принимает список чисел и возвращает сумму, минимальное и максимальное значение из списка. Используйте функцию для обработки списка чисел и возврата трех значений. Выведите результат на экран с помощью команды print.\n",
    "\n",
    "def lst_process(a):\n",
    "    return sum(a), max(a), min(a)\n",
    "\n",
    "lst = input('numbers:').split()\n",
    "lst = list(map(int, lst))\n",
    "res = lst_process(lst)\n",
    "print(res)"
   ]
  },
  {
   "cell_type": "code",
   "execution_count": 7,
   "id": "588efa2b-d71a-4675-9b5c-ba69d848c2b8",
   "metadata": {},
   "outputs": [
    {
     "name": "stdin",
     "output_type": "stream",
     "text": [
      "numbers: 3 5 6\n"
     ]
    },
    {
     "name": "stdout",
     "output_type": "stream",
     "text": [
      "(14, 6, 3)\n"
     ]
    }
   ],
   "source": [
    "def lst_process(a):\n",
    "    return sum(a), max(a), min(a)\n",
    "\n",
    "lst = input('numbers:').split()\n",
    "\n",
    "for index, item in enumerate(lst):\n",
    "    lst[index] = int(item)\n",
    "#\n",
    "#lst = list(map(int, lst))\n",
    "res = lst_process(lst)\n",
    "print(res)"
   ]
  },
  {
   "cell_type": "code",
   "execution_count": null,
   "id": "912d66bd-4f18-4574-b7d1-f52022ee37aa",
   "metadata": {},
   "outputs": [],
   "source": []
  }
 ],
 "metadata": {
  "kernelspec": {
   "display_name": "Python 3 (ipykernel)",
   "language": "python",
   "name": "python3"
  },
  "language_info": {
   "codemirror_mode": {
    "name": "ipython",
    "version": 3
   },
   "file_extension": ".py",
   "mimetype": "text/x-python",
   "name": "python",
   "nbconvert_exporter": "python",
   "pygments_lexer": "ipython3",
   "version": "3.12.5"
  }
 },
 "nbformat": 4,
 "nbformat_minor": 5
}
