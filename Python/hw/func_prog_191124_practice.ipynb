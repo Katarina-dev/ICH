{
 "cells": [
  {
   "cell_type": "code",
   "execution_count": null,
   "id": "b51f4270-10ee-4a92-a2fd-aa2a03213e69",
   "metadata": {},
   "outputs": [],
   "source": [
    "# 1. Дана последовательность слов. Написать функцию, которая возвращает\n",
    "# последовательность слов из исходной последовательности, длина которых больше трех.\n",
    "# Использовать lambda-функции и filter. "
   ]
  },
  {
   "cell_type": "code",
   "execution_count": 2,
   "id": "56aa1a47-00fa-40b9-a06f-ee634a71d7b1",
   "metadata": {},
   "outputs": [
    {
     "name": "stdout",
     "output_type": "stream",
     "text": [
      "['house', 'table']\n"
     ]
    }
   ],
   "source": [
    "def get_more_three(words):\n",
    "    return list(filter(lambda word: len(word) > 3, words))\n",
    "\n",
    "a = [\"cat\", \"dog\", \"house\", \"table\"]\n",
    "print(get_more_three(a))"
   ]
  },
  {
   "cell_type": "code",
   "execution_count": null,
   "id": "8f5aed0e-2514-4c09-beac-cc99d399e56f",
   "metadata": {},
   "outputs": [],
   "source": [
    "# 2. Дана последовательность слов (строк). Вернуть предложение, составленное из строк\n",
    "# данной последовательности. Слова в полученном предложении разделены пробелами. "
   ]
  },
  {
   "cell_type": "code",
   "execution_count": 3,
   "id": "b2eed3eb-abe8-4859-9447-608f5dad6040",
   "metadata": {},
   "outputs": [
    {
     "name": "stdout",
     "output_type": "stream",
     "text": [
      "cat dog house table\n"
     ]
    }
   ],
   "source": [
    "from functools import reduce\n",
    "\n",
    "words = [\"cat\", \"dog\", \"house\", \"table\"]\n",
    "\n",
    "new = reduce(lambda word_1, word_2: f'{word_1} {word_2}', words)\n",
    "\n",
    "print(new)\n"
   ]
  },
  {
   "cell_type": "code",
   "execution_count": 4,
   "id": "fda3b51d-dcd6-4216-9c56-e08020189526",
   "metadata": {},
   "outputs": [
    {
     "name": "stdout",
     "output_type": "stream",
     "text": [
      "cat dog house table\n"
     ]
    }
   ],
   "source": [
    "from functools import reduce\n",
    "\n",
    "words = [\"cat\", \"dog\", \"house\", \"table\"]\n",
    "\n",
    "new =  ' '.join(words)\n",
    "\n",
    "print(new)"
   ]
  },
  {
   "cell_type": "code",
   "execution_count": null,
   "id": "f0b825e2-2a0b-4639-9c1a-2d825820c2dc",
   "metadata": {},
   "outputs": [],
   "source": [
    "# 3. Дана последовательность слов. Написать функцию, которая возвращает\n",
    "# последовательность слов, в которой в словах длины 3 все буквы заглавные. Пример: [“The”,\n",
    "# “quick”, “brown”, “fox”] → [“THE”, “quick”, “brown”, “FOX”]"
   ]
  },
  {
   "cell_type": "code",
   "execution_count": 11,
   "id": "a7ce4800-bfeb-445f-8775-94db2dcb126c",
   "metadata": {},
   "outputs": [
    {
     "name": "stdout",
     "output_type": "stream",
     "text": [
      "['CAT', 'DOG', 'house', 'table']\n"
     ]
    }
   ],
   "source": [
    "words = [\"cat\", \"dog\", \"house\", \"table\"]\n",
    "\n",
    "new = list(map(lambda word: word.upper() if len(word) == 3 else word, words))\n",
    "print(new)"
   ]
  },
  {
   "cell_type": "code",
   "execution_count": null,
   "id": "b28cad61-6241-4f10-964e-4178c068e93d",
   "metadata": {},
   "outputs": [],
   "source": [
    "# 4. Изменить решение задачи 1 так, чтобы последовательность слов вычитывалась из текстового\n",
    "# файла, где каждое слово было в новой строке. "
   ]
  },
  {
   "cell_type": "code",
   "execution_count": null,
   "id": "bc7d4404-27ef-4db8-8acd-7439e8c5ecad",
   "metadata": {},
   "outputs": [],
   "source": [
    "import os\n",
    "\n",
    "my_file = os.path.abspath('data.txt')\n",
    "\n",
    "def open_file(f):\n",
    "    with open(f, 'r', encoding='utf-8') as file:\n",
    "        for line in file:\n",
    "            yield line.strip()\n",
    "    \n",
    "\n",
    "def string_long_3(strings_file):\n",
    "    strings_file = open_file(my_file)\n",
    "    return list(filter(lambda s: len(s) > 3, strings_file))\n",
    "    \n",
    "\n",
    "print(string_long_3(strings_file))"
   ]
  },
  {
   "cell_type": "code",
   "execution_count": null,
   "id": "5f7aec5c-ccff-4d50-a80a-028cd4adc583",
   "metadata": {},
   "outputs": [],
   "source": [
    "5. Дан текстовый файл, где каждая строка описывает человека в формате\n",
    "<Name>; <Age>\n",
    "Sergey;35\n",
    "Ivan;25\n",
    "Svetlana;20\n",
    "Maria;27\n",
    "Нужно написать программу, которая печатает имя самого старшего человека.\n",
    "Поменяйте программу так, чтобы она печатала список людей, чем возраст больше 25 лет. "
   ]
  },
  {
   "cell_type": "code",
   "execution_count": 14,
   "id": "b41854ef-c6c2-4201-9c3c-a134ddbd94c9",
   "metadata": {},
   "outputs": [
    {
     "name": "stdout",
     "output_type": "stream",
     "text": [
      "The oldest person: Sergey (Age: 35)\n",
      "People over 25 years old are:\n",
      "Sergey (Age: 35)\n",
      "Maria (Age: 27)\n"
     ]
    }
   ],
   "source": [
    "import os \n",
    "from collections import namedtuple\n",
    "Person = namedtuple('Person',['name','age'])\n",
    "\n",
    "my_file = os.path.abspath('NameAge.txt')\n",
    "\n",
    "def open_file(name_age_file):\n",
    "    with open(name_age_file, 'r', encoding='utf-8') as file:\n",
    "        for line in file:\n",
    "            yield Person(*line.strip().split(';'))\n",
    "\n",
    "\n",
    "def max_age(people):\n",
    "    return max(people, key=lambda person: int(person.age))\n",
    "\n",
    "\n",
    "def age_filter(people, age_filter):\n",
    "    return list(filter(lambda person: int(person.age) > age_filter, people))\n",
    "\n",
    "\n",
    "people = open_file(my_file)\n",
    "\n",
    "oldest_person = max_age(people)\n",
    "if oldest_person:\n",
    "    print(f'The oldest person: {oldest_person[0]} (Age: {oldest_person[1]})')\n",
    "people = open_file(my_file)\n",
    "age_f = age_filter(people,25)\n",
    "if age_f:\n",
    "    print(f'People over {25} years old are:')\n",
    "    for person in age_f:\n",
    "        print(f'{person.name} (Age: {person.age})')"
   ]
  },
  {
   "cell_type": "code",
   "execution_count": null,
   "id": "e680b012-1888-4f4b-baec-657f25669a2c",
   "metadata": {},
   "outputs": [],
   "source": [
    "import os\n",
    "\n",
    "my_file = os.path.abspath('NameAge.txt')\n",
    "\n",
    "def open_file(name_age_file):\n",
    "    with open(name_age_file, 'r', encoding='utf-8') as file:\n",
    "        new_list = []\n",
    "        for line in file:\n",
    "            name, age = line.strip().split(';')\n",
    "            new_list.append((name.strip(), int(age.strip())))\n",
    "        return new_list\n",
    "\n",
    "def max_age(people):\n",
    "    return max(people, key=lambda person: person[1])\n",
    "\n",
    "def age_filter(people, age_filter):\n",
    "    return [person for person in people if person[1] > age_filter]\n",
    "\n",
    "\n",
    "people = open_file(my_file)\n",
    "\n",
    "if people:\n",
    "    oldest_person = max_age(people)\n",
    "    if oldest_person:\n",
    "        print(f'The oldest person: {oldest_person[0]} (Фпу: {oldest_person[1]})')\n",
    "\n",
    "    age = 25\n",
    "    filtered_people = age_filter(people, age)\n",
    "    print()\n",
    "    print(f'People over {age} years old are:')\n",
    "    for person in filtered_people:\n",
    "        print(f'{person[0]} (Age: {person[1]})')"
   ]
  }
 ],
 "metadata": {
  "kernelspec": {
   "display_name": "Python 3 (ipykernel)",
   "language": "python",
   "name": "python3"
  },
  "language_info": {
   "codemirror_mode": {
    "name": "ipython",
    "version": 3
   },
   "file_extension": ".py",
   "mimetype": "text/x-python",
   "name": "python",
   "nbconvert_exporter": "python",
   "pygments_lexer": "ipython3",
   "version": "3.12.5"
  }
 },
 "nbformat": 4,
 "nbformat_minor": 5
}
