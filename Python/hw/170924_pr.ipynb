{
 "cells": [
  {
   "cell_type": "code",
   "execution_count": 7,
   "id": "68d966c5-fb6d-43b7-96ee-2897e74fb3fc",
   "metadata": {},
   "outputs": [
    {
     "name": "stdin",
     "output_type": "stream",
     "text": [
      "text>> HelloWorld\n"
     ]
    },
    {
     "name": "stdout",
     "output_type": "stream",
     "text": [
      "l\n"
     ]
    }
   ],
   "source": [
    "text = input('text>>')\n",
    "y = text[2]\n",
    "print(y)"
   ]
  },
  {
   "cell_type": "code",
   "execution_count": 8,
   "id": "a45196cf-1bf0-48fe-9bbb-fe8d4c8102ff",
   "metadata": {},
   "outputs": [
    {
     "name": "stdout",
     "output_type": "stream",
     "text": [
      "l\n"
     ]
    }
   ],
   "source": [
    "y = text[-2]\n",
    "print(y)"
   ]
  },
  {
   "cell_type": "code",
   "execution_count": 11,
   "id": "a869b8b8-733e-4bc0-a347-962f54a5f8b0",
   "metadata": {},
   "outputs": [
    {
     "name": "stdout",
     "output_type": "stream",
     "text": [
      "Hello\n"
     ]
    }
   ],
   "source": [
    "y = text[:5:]\n",
    "print(y)"
   ]
  },
  {
   "cell_type": "code",
   "execution_count": 13,
   "id": "19ca0886-ae2a-4966-a644-43b432272409",
   "metadata": {},
   "outputs": [
    {
     "name": "stdout",
     "output_type": "stream",
     "text": [
      "HelloWor\n"
     ]
    }
   ],
   "source": [
    "y = text[:-2:]\n",
    "print(y)"
   ]
  },
  {
   "cell_type": "code",
   "execution_count": 14,
   "id": "71e01395-a714-40cd-94ff-24017b4ace3d",
   "metadata": {},
   "outputs": [
    {
     "name": "stdout",
     "output_type": "stream",
     "text": [
      "Hlool\n"
     ]
    }
   ],
   "source": [
    "y = text[::2]\n",
    "print(y)"
   ]
  },
  {
   "cell_type": "code",
   "execution_count": 15,
   "id": "e6a28628-39e3-4737-b750-db84db658810",
   "metadata": {},
   "outputs": [
    {
     "name": "stdout",
     "output_type": "stream",
     "text": [
      "elWrd\n"
     ]
    }
   ],
   "source": [
    "y = text[1::2]\n",
    "print(y)"
   ]
  },
  {
   "cell_type": "code",
   "execution_count": 16,
   "id": "d1cc418e-6f6d-4917-9803-937fb3098538",
   "metadata": {},
   "outputs": [
    {
     "name": "stdout",
     "output_type": "stream",
     "text": [
      "dlroWolleH\n"
     ]
    }
   ],
   "source": [
    "y = text[::-1]\n",
    "print(y)"
   ]
  },
  {
   "cell_type": "code",
   "execution_count": 28,
   "id": "cc4ba070-d3e8-45e2-ac4a-b80152b2d183",
   "metadata": {},
   "outputs": [
    {
     "name": "stdout",
     "output_type": "stream",
     "text": [
      "drWle\n"
     ]
    }
   ],
   "source": [
    "y = text[::-2]\n",
    "print(y)"
   ]
  },
  {
   "cell_type": "code",
   "execution_count": 19,
   "id": "4d8fe314-a77e-486c-ad66-5109171890f1",
   "metadata": {},
   "outputs": [
    {
     "name": "stdout",
     "output_type": "stream",
     "text": [
      "10\n"
     ]
    }
   ],
   "source": [
    "print(len(text))"
   ]
  },
  {
   "cell_type": "code",
   "execution_count": null,
   "id": "76a39622-804b-4134-9782-04858706781f",
   "metadata": {},
   "outputs": [],
   "source": [
    "Напишите программу, которая печатает ценник по параметрам: “The price of <product> is\n",
    "“X” Euro”. В строке <product> и <X> - параметры. Убедитесь, что цена выводится в Евро с\n",
    "центами (не более двух знаков после запятой). \n"
   ]
  },
  {
   "cell_type": "code",
   "execution_count": 31,
   "id": "55bb4c6d-2c95-41bb-9cfb-895ef25723a2",
   "metadata": {},
   "outputs": [
    {
     "name": "stdin",
     "output_type": "stream",
     "text": [
      "product> name\n",
      "Product price>> 23.3456\n"
     ]
    },
    {
     "name": "stdout",
     "output_type": "stream",
     "text": [
      "The price of name is 23.35 Euro\n"
     ]
    }
   ],
   "source": [
    "product = input('product>')\n",
    "x = float(input('Product price>>'))\n",
    "res = f'The price of {product} is {x:.2f} Euro'\n",
    "print(res)"
   ]
  },
  {
   "cell_type": "code",
   "execution_count": null,
   "id": "f5542766-7ab3-450f-90fb-b678157e43ba",
   "metadata": {},
   "outputs": [],
   "source": [
    "Дана строка, состоящая из слов, разделенных пробелами. Определите, сколько в ней\n",
    "слов. Используйте для решения задачи метод count."
   ]
  },
  {
   "cell_type": "code",
   "execution_count": 33,
   "id": "b06468e2-f96e-4796-98ad-4f576cdb60ff",
   "metadata": {},
   "outputs": [
    {
     "name": "stdin",
     "output_type": "stream",
     "text": [
      "text>> numbers of space\n"
     ]
    },
    {
     "name": "stdout",
     "output_type": "stream",
     "text": [
      "Numbers of word 3\n"
     ]
    }
   ],
   "source": [
    "text = input('text>>')\n",
    "word_count = text.count(' ') + 1\n",
    "print(f'Numbers of word {word_count}')"
   ]
  },
  {
   "cell_type": "code",
   "execution_count": null,
   "id": "e6eef676-f1b9-4bf1-bcbf-52e6c68cfcad",
   "metadata": {},
   "outputs": [],
   "source": [
    "# если больше 1 пробела\n",
    "x = 'aa  bb  cc  dd'\n",
    "print(x.count(' ')+ 1)\n",
    "print(len(x.split()))"
   ]
  },
  {
   "cell_type": "code",
   "execution_count": 35,
   "id": "d39f0038-df1e-4a82-abbf-4686870d6493",
   "metadata": {},
   "outputs": [
    {
     "name": "stdout",
     "output_type": "stream",
     "text": [
      "4\n"
     ]
    }
   ],
   "source": [
    "x = 'aa,bb  cc  dd'\n",
    "import string\n",
    "for item in string.punctuation:\n",
    "    x = x.replace(item, ' ')\n",
    "print(len(x.split()))"
   ]
  },
  {
   "cell_type": "code",
   "execution_count": null,
   "id": "97fd5197-7a58-46ac-a39e-36c3242b2647",
   "metadata": {},
   "outputs": [],
   "source": [
    "4. Напишите программу, которая считает вхождение заданной подстроки в заданную строку.\n",
    "Например, для подстроки “ab” и строки “Abrakadabra” программа напечатает 2. "
   ]
  },
  {
   "cell_type": "code",
   "execution_count": 36,
   "id": "991f6772-c1cb-4872-aa05-ec1a0cea1444",
   "metadata": {},
   "outputs": [
    {
     "name": "stdin",
     "output_type": "stream",
     "text": [
      "text>> abracadabra\n",
      "text>> ab\n"
     ]
    },
    {
     "name": "stdout",
     "output_type": "stream",
     "text": [
      "2\n"
     ]
    }
   ],
   "source": [
    "text = input('text>>')\n",
    "sub = input('text>>')\n",
    "print(text.count(sub))\n"
   ]
  },
  {
   "cell_type": "code",
   "execution_count": null,
   "id": "cd41c13f-c645-48b5-860c-512a04a7dcf5",
   "metadata": {},
   "outputs": [],
   "source": [
    "Напишите программу, которая находит самое короткое слово в строке."
   ]
  },
  {
   "cell_type": "code",
   "execution_count": 39,
   "id": "3abd1c32-edfc-424a-91cb-45b85a6b7793",
   "metadata": {},
   "outputs": [
    {
     "name": "stdin",
     "output_type": "stream",
     "text": [
      "text>> Hello world and everybody\n"
     ]
    },
    {
     "name": "stdout",
     "output_type": "stream",
     "text": [
      "Short word: Hello\n"
     ]
    }
   ],
   "source": [
    "text = input('text>>')\n",
    "\n",
    "words = text.split()\n",
    "short = min(words, key = len)\n",
    "print(f'Short word: {short}')"
   ]
  },
  {
   "cell_type": "code",
   "execution_count": 2,
   "id": "51d2eaba-76ae-4d17-bc23-969e7e58cbf5",
   "metadata": {},
   "outputs": [
    {
     "name": "stdin",
     "output_type": "stream",
     "text": [
      "text>> hello world and everybody\n"
     ]
    },
    {
     "ename": "IndexError",
     "evalue": "list index out of range",
     "output_type": "error",
     "traceback": [
      "\u001b[1;31m---------------------------------------------------------------------------\u001b[0m",
      "\u001b[1;31mIndexError\u001b[0m                                Traceback (most recent call last)",
      "Cell \u001b[1;32mIn[2], line 7\u001b[0m\n\u001b[0;32m      4\u001b[0m i \u001b[38;5;241m=\u001b[39m \u001b[38;5;241m1\u001b[39m\n\u001b[0;32m      6\u001b[0m \u001b[38;5;28;01mwhile\u001b[39;00m i \u001b[38;5;241m<\u001b[39m \u001b[38;5;28mlen\u001b[39m(short_word):\n\u001b[1;32m----> 7\u001b[0m     \u001b[38;5;28;01mif\u001b[39;00m \u001b[38;5;28mlen\u001b[39m(\u001b[43mwords\u001b[49m\u001b[43m[\u001b[49m\u001b[43mi\u001b[49m\u001b[43m]\u001b[49m) \u001b[38;5;241m<\u001b[39m \u001b[38;5;28mlen\u001b[39m(short_word[\u001b[38;5;241m0\u001b[39m]):\n\u001b[0;32m      8\u001b[0m         short_word \u001b[38;5;241m=\u001b[39m words[i]\n\u001b[0;32m      9\u001b[0m     i \u001b[38;5;241m+\u001b[39m\u001b[38;5;241m=\u001b[39m \u001b[38;5;241m1\u001b[39m\n",
      "\u001b[1;31mIndexError\u001b[0m: list index out of range"
     ]
    }
   ],
   "source": [
    "text = input('text>>')\n",
    "words = text.split()\n",
    "short_word = words[0]\n",
    "i = 1\n",
    "\n",
    "while i < len(short_word):\n",
    "    if len(words[i]) < len(short_word[0]):\n",
    "        short_word = words[i]\n",
    "    i += 1\n",
    "print(f'The shortest word: {short_word}')"
   ]
  },
  {
   "cell_type": "code",
   "execution_count": null,
   "id": "4180d225-72b3-42bb-8b51-690cd9c85bbb",
   "metadata": {},
   "outputs": [],
   "source": [
    "# 5 Дана строка, состоящая ровно из двух слов, разделенных пробелом. Переставьте эти слова местами. \n",
    "#Результат запишите в строку и выведите получившуюся строку. \n",
    "#При решении этой задачи не стоит пользоваться циклами и инструкцией if\n",
    "\n",
    "s = input(\"Введите строку из двух слов: \")\n",
    "words = s.split()\n",
    "print(f\"{words[1]} {words[0]}\")"
   ]
  },
  {
   "cell_type": "code",
   "execution_count": null,
   "id": "ee9e0bbe-adea-4737-9bac-7d08ea3cfbda",
   "metadata": {},
   "outputs": [],
   "source": [
    "text = input('Insert text with 2 words:')\n",
    "words = text.split()\n",
    "res = ' '.join(words[::-1])\n",
    "print(res)"
   ]
  },
  {
   "cell_type": "code",
   "execution_count": null,
   "id": "e4d76581-092d-4005-9415-22ebe79d7e55",
   "metadata": {},
   "outputs": [],
   "source": [
    "# 7 Дана строка. Замените в этой строке все цифры 1 на слово one\n",
    "s = input(\"Введите строку: \")\n",
    "s = s.replace('1', 'one')\n",
    "print(s)"
   ]
  },
  {
   "cell_type": "code",
   "execution_count": null,
   "id": "f1114476-8191-42dd-9500-ea291a151562",
   "metadata": {},
   "outputs": [],
   "source": [
    "# Напишите программу, которая принимает строку и подсчитывает количество слов в ней.\n",
    "\n",
    "import string\n",
    "punct = string.punctuation\n",
    "\n",
    "# punctuation = '!\"#$%&()*+,-./:;<=>?@[\\]^_`{|}~'\n",
    "\n",
    "text = input('введите строку:')\n",
    "i = 0\n",
    "while i < len(punct): \n",
    "    text = text.replace(punct[i], ' ')\n",
    "    i += 1\n",
    "    \n",
    "print(len(text.split()))"
   ]
  },
  {
   "cell_type": "code",
   "execution_count": null,
   "id": "8759d41b-5f0f-423c-9faf-9d030127f720",
   "metadata": {},
   "outputs": [],
   "source": []
  },
  {
   "cell_type": "code",
   "execution_count": null,
   "id": "5b08b884-e4c5-4549-94d4-a6896bf709c6",
   "metadata": {},
   "outputs": [],
   "source": [
    "text = input('text').lower()\n",
    "\n",
    "words = text.split()\n",
    "\n",
    "i = 0\n",
    "\n",
    "while i < len(words):\n",
    "    curr_word = words[i]\n",
    "    res = text.count(curr_word)\n",
    "    if res > 0:\n",
    "        print(curr_word, res)\n",
    "    i += 1\n",
    "    text = text.replace(curr_word, '')"
   ]
  },
  {
   "cell_type": "code",
   "execution_count": null,
   "id": "3fdc1da3-ac31-4d6a-9b1c-cde4bd32fcdf",
   "metadata": {},
   "outputs": [],
   "source": [
    "Пользователь вводит с клавиатуры имя человека. Напишите программу для проверки введенного имени на валидность \n",
    "(имеется в виду, что, например, имя не может содержать цифр, оно должно начинаться с большой буквы, за которой должны следовать маленькие).\n",
    "\n",
    "name = input('What is your name: ')\n",
    "\n",
    "if name.isalpha() and name.istitle():\n",
    "    print(f'Your name: \"{name}\" is valid')\n",
    "else:\n",
    "    print(f'Your name: \"{name}\" is not valid')"
   ]
  },
  {
   "cell_type": "code",
   "execution_count": null,
   "id": "83c7941a-1e1c-4298-bcb8-d762ebfa4fc9",
   "metadata": {},
   "outputs": [],
   "source": [
    "# Напишите программу, которая сжимает строку, заменяя повторяющиеся символы на их количество (например, \"aaabcc\" -> \"a3b1c2\").\n",
    "\n",
    "x = input('text>>').lower()\n",
    "i = 0\n",
    "res = ''\n",
    "while i < len(x):\n",
    "    curr_item = x[i]\n",
    "    count = 1\n",
    "\n",
    "    while i + 1 < len(x) and curr_item == x[i + 1]:\n",
    "        i += 1\n",
    "        count += 1\n",
    "    res += curr_item + str(count)\n",
    "    i += 1\n",
    "\n",
    "print(res)"
   ]
  },
  {
   "cell_type": "code",
   "execution_count": null,
   "id": "84226730-21b1-4923-a3cf-2980379d1dfb",
   "metadata": {},
   "outputs": [],
   "source": [
    "x = 'aaabcc'\n",
    "i = 0\n",
    "res = ''\n",
    "while i < len(x):\n",
    "    curr_item = x[i]\n",
    "    count = 1\n",
    "\n",
    "    while i + 1 < len(x) and curr_item == x[i + 1]:\n",
    "        i += 1\n",
    "        count += 1\n",
    "    res += curr_item + str(count)\n",
    "    i += 1\n",
    "\n",
    "print(res)"
   ]
  },
  {
   "cell_type": "code",
   "execution_count": null,
   "id": "13ae7c6b-dc70-46b1-b428-6a684f776b0c",
   "metadata": {},
   "outputs": [],
   "source": [
    "# проверка на палиндром\n",
    "\n",
    "x = input() \n",
    "res = 'Yes' if x == x[::-1] else 'No'\n",
    "print(res)"
   ]
  }
 ],
 "metadata": {
  "kernelspec": {
   "display_name": "Python 3 (ipykernel)",
   "language": "python",
   "name": "python3"
  },
  "language_info": {
   "codemirror_mode": {
    "name": "ipython",
    "version": 3
   },
   "file_extension": ".py",
   "mimetype": "text/x-python",
   "name": "python",
   "nbconvert_exporter": "python",
   "pygments_lexer": "ipython3",
   "version": "3.12.5"
  }
 },
 "nbformat": 4,
 "nbformat_minor": 5
}
