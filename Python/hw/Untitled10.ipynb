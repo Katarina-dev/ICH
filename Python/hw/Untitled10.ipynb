{
 "cells": [
  {
   "cell_type": "code",
   "execution_count": 7,
   "id": "a2bb4132-9b7e-4acc-9bea-2a1d1136247a",
   "metadata": {},
   "outputs": [
    {
     "name": "stdin",
     "output_type": "stream",
     "text": [
      "Input link:  https://example.com/\n",
      "Input level title:  fghfg\n"
     ]
    },
    {
     "name": "stdout",
     "output_type": "stream",
     "text": [
      "Error: Header level must be only h1, h2, h3, h4, h5, h6\n"
     ]
    }
   ],
   "source": [
    "import requests\n",
    "from bs4 import BeautifulSoup\n",
    "\n",
    "\n",
    "def get_links(url, level):\n",
    "\n",
    "    response = requests.get(url)\n",
    "    html = response.text\n",
    "    soup = BeautifulSoup(html, 'html.parser')\n",
    "    headers = []\n",
    "\n",
    "    if level not in ['h1', 'h2', 'h3', 'h4', 'h5', 'h6']:\n",
    "            raise ValueError('Header level must be only h1, h2, h3, h4, h5, h6')\n",
    "\n",
    "\n",
    "\n",
    "    for header in soup.find_all(level):\n",
    "        headers.append(header.text.strip())\n",
    "        # else:\n",
    "            \n",
    "\n",
    "    return headers\n",
    "\n",
    "web_site =  input(\"Input link: \")\n",
    "title = input(\"Input level title: \")\n",
    "\n",
    "try:\n",
    "    test = get_links(web_site, title)\n",
    "    if test:    \n",
    "        print(\"\\n\".join(test))\n",
    "    else:\n",
    "        print(\"Headers weren't found\")\n",
    "except ValueError as e:\n",
    "    print(f'Error: {e}')\n"
   ]
  },
  {
   "cell_type": "code",
   "execution_count": null,
   "id": "dcb2ec20-7021-41e2-9532-04c0f02c25ee",
   "metadata": {},
   "outputs": [],
   "source": []
  }
 ],
 "metadata": {
  "kernelspec": {
   "display_name": "Python 3 (ipykernel)",
   "language": "python",
   "name": "python3"
  },
  "language_info": {
   "codemirror_mode": {
    "name": "ipython",
    "version": 3
   },
   "file_extension": ".py",
   "mimetype": "text/x-python",
   "name": "python",
   "nbconvert_exporter": "python",
   "pygments_lexer": "ipython3",
   "version": "3.12.5"
  }
 },
 "nbformat": 4,
 "nbformat_minor": 5
}
