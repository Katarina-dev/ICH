{
 "cells": [
  {
   "cell_type": "code",
   "execution_count": 60,
   "id": "ebfc3b6c-b0bf-45c6-9ca3-6c0090fd3fcf",
   "metadata": {},
   "outputs": [
    {
     "name": "stdin",
     "output_type": "stream",
     "text": [
      "Enter count of columns  3\n",
      "Enter count of string  3\n",
      "Enter string 1 with space:  1 2 3\n",
      "Enter string 2 with space:  4 5 6\n",
      "Enter string 3 with space:  7 8 9\n"
     ]
    },
    {
     "name": "stdout",
     "output_type": "stream",
     "text": [
      "[[1, 2, 3], [4, 5, 6], [7, 8, 9]]\n",
      "45\n"
     ]
    }
   ],
   "source": [
    "# 1. Напишите программу, которая принимает матрицу (вложенный список) от пользователя и находит сумму всех элементов в матрице. \n",
    "# Используйте вложенные списки и циклы для обхода элементов матрицы.\n",
    "\n",
    "x, y = int(input('Enter count of columns ')), int(input('Enter count of string '))\n",
    "nums = [list(map(int, input(f\"Enter string {j + 1} with space: \").split())) for j in range(y)]\n",
    "matrix = [i for i in nums]\n",
    "\n",
    "print(matrix)\n",
    "summa = sum(sum(row) for row in matrix)\n",
    "print(summa)"
   ]
  },
  {
   "cell_type": "code",
   "execution_count": 9,
   "id": "10e5a472-1197-4ca7-8f3e-f2f4338e08f8",
   "metadata": {},
   "outputs": [
    {
     "name": "stdin",
     "output_type": "stream",
     "text": [
      " 12 97 32 10 5 273\n"
     ]
    },
    {
     "name": "stdout",
     "output_type": "stream",
     "text": [
      "[273, 97, 32, 12, 10, 5]\n"
     ]
    }
   ],
   "source": [
    "# 2. Напишите программу, которая принимает список чисел от пользователя и сортирует его в порядке убывания, используя метод sort() \n",
    "# и параметр reverse=True. Выведите отсортированный список на экран.\n",
    "\n",
    "x = list(map(int, input().split()))\n",
    "x.sort(reverse = True)\n",
    "print(x)"
   ]
  },
  {
   "cell_type": "code",
   "execution_count": null,
   "id": "97c86581-4c85-4016-a373-8d0900a1c30b",
   "metadata": {},
   "outputs": [],
   "source": []
  }
 ],
 "metadata": {
  "kernelspec": {
   "display_name": "Python 3 (ipykernel)",
   "language": "python",
   "name": "python3"
  },
  "language_info": {
   "codemirror_mode": {
    "name": "ipython",
    "version": 3
   },
   "file_extension": ".py",
   "mimetype": "text/x-python",
   "name": "python",
   "nbconvert_exporter": "python",
   "pygments_lexer": "ipython3",
   "version": "3.12.5"
  }
 },
 "nbformat": 4,
 "nbformat_minor": 5
}
