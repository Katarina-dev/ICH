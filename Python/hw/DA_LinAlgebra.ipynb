{
 "cells": [
  {
   "cell_type": "code",
   "execution_count": null,
   "id": "24ae1f82-e920-4d42-9b60-e5917c9e1f5e",
   "metadata": {},
   "outputs": [],
   "source": [
    "УРОК 31. ЭЛЕМЕНТЫ МАТРИЧНОЙ\n",
    "АЛГЕБРЫ. ОБРАТНЫЕ МАТРИЦЫ И\n",
    "ОПРЕДЕЛИТЕЛЬ"
   ]
  },
  {
   "cell_type": "code",
   "execution_count": 3,
   "id": "b059c04c-babe-46ee-a14d-dad33e81e8a0",
   "metadata": {},
   "outputs": [
    {
     "name": "stdout",
     "output_type": "stream",
     "text": [
      "[11.  22.  16.5 11.  33.  55.  55. ]\n",
      "[33.8 35.6 42.8 51.8 60.8 66.2 69.8 69.8 60.8 51.8 42.8 35.6]\n"
     ]
    }
   ],
   "source": [
    "import numpy as np\n",
    "\n",
    "# Вектор ежедневных расходов (в евро)\n",
    "daily_expenses = np.array([10, 20, 15, 10, 30, 50, 50])\n",
    "# Температура воздуха по месяцам (в градусах Цельсия)\n",
    "temperature = np.array([1, 2, 6, 11, 16, 19, 21, 21, 16, 11, 6, 2])\n",
    "# Перевод ежедневных расходов в доллары\n",
    "print(daily_expenses * 1.1)\n",
    "\n",
    "# Перевод температуры в Фаренгейты\n",
    "print(1.8 * temperature + 32)\n"
   ]
  },
  {
   "cell_type": "code",
   "execution_count": 4,
   "id": "4ebf69f2-a99b-4dfa-828a-7ea40df7e1ba",
   "metadata": {},
   "outputs": [
    {
     "name": "stdout",
     "output_type": "stream",
     "text": [
      "[3500 5500 9500 4100 4600 4400 5600 6200 8500 4100 9500 6000]\n",
      "[ 3772.65  5893.8  10174.5   4493.6   5004.34  4766.96  6191.36  6767.92\n",
      "  9083.1   4330.01 10263.8   6541.2 ]\n"
     ]
    }
   ],
   "source": [
    "# Доходы мужа по месяцам (в евро)\n",
    "income_m = np.array([2000, 3000, 3500, 3000, 3000, 2500, 3500, 2000, 2500,\n",
    "3000, 3500, 4000])\n",
    "# Доходы жены по месяцам (в евро)\n",
    "income_f = np.array([1500, 2500, 6000, 1100, 1600, 1900, 2100, 4200, 6000,\n",
    "1100, 6000, 2000])\n",
    "# Курс евро к доллару по месяцам\n",
    "eur2usd = np.array([1.0779, 1.0716, 1.071, 1.096, 1.0879, 1.0834, 1.1056,\n",
    "1.0916, 1.0686, 1.0561, 1.0804, 1.0902])\n",
    "# Семейный доход в евро\n",
    "income = income_m + income_f\n",
    "print(income)\n",
    "\n",
    "# Семейный доход в долларах\n",
    "income_usd = income * eur2usd\n",
    "print(income_usd)"
   ]
  },
  {
   "cell_type": "code",
   "execution_count": 5,
   "id": "85e03702-e0d0-4b0e-9c60-01e2b957ee2e",
   "metadata": {},
   "outputs": [
    {
     "name": "stdout",
     "output_type": "stream",
     "text": [
      "185\n",
      "11.0\n",
      "50\n",
      "[19 21 21]\n"
     ]
    }
   ],
   "source": [
    "print(daily_expenses.sum())\n",
    "print(temperature.mean())\n",
    "print(daily_expenses.max())\n",
    "print(temperature[5:8]) #температура за летние месяцы"
   ]
  },
  {
   "cell_type": "code",
   "execution_count": 6,
   "id": "0fe2fdbf-9563-4003-9f71-67a319b3e990",
   "metadata": {},
   "outputs": [
    {
     "name": "stdout",
     "output_type": "stream",
     "text": [
      "[[2000 3000 3500 3000 3000 2500 3500 2000 2500 3000 3500 4000]\n",
      " [1500 2500 6000 1100 1600 1900 2100 4200 6000 1100 6000 2000]]\n"
     ]
    }
   ],
   "source": [
    "# Доходы членов семьи по месяцам\n",
    "income_matrix = np.array([[2000, 3000, 3500, 3000, 3000, 2500, 3500, 2000,\n",
    "2500, 3000, 3500, 4000], [1500, 2500, 6000, 1100, 1600, 1900, 2100, 4200, 6000,\n",
    "1100, 6000, 2000]])\n",
    "print(income_matrix)"
   ]
  },
  {
   "cell_type": "code",
   "execution_count": null,
   "id": "b4d45bf9-c677-4757-9448-00fefb400522",
   "metadata": {},
   "outputs": [],
   "source": [
    "Кондитерская производит несколько видов десертов.\n",
    "Для каждого необходимы мука, яйца и сахар, но в разном количестве.\n",
    "Необходимое количество описать матрицей, в которой каждая строка описывает одну партию какого-то десерта,\n",
    "при этом первый столбец показывает количество муки в килограммах, второй столбец – количество яиц в штуках,\n",
    "третий – количество сахара в килограммах."
   ]
  },
  {
   "cell_type": "code",
   "execution_count": 7,
   "id": "5864e45b-6c79-4d3d-be76-66de539606c0",
   "metadata": {},
   "outputs": [
    {
     "name": "stdout",
     "output_type": "stream",
     "text": [
      "[[ 0.5  6.   0.1]\n",
      " [ 1.  10.   0.5]\n",
      " [ 0.3 10.   0.6]\n",
      " [ 0.5  7.   0.3]]\n"
     ]
    }
   ],
   "source": [
    "# Расход продуктов\n",
    "goods = np.array([[0.5, 6, 0.1],\n",
    "[1, 10, 0.5],\n",
    "[0.3, 10, 0.6],\n",
    "[0.5, 7, 0.3]])\n",
    "print(goods)"
   ]
  },
  {
   "cell_type": "code",
   "execution_count": null,
   "id": "6569bac2-1657-408d-983f-c95232b5578f",
   "metadata": {},
   "outputs": [],
   "source": [
    "Пусть у нас также известна стоимость килограмма муки, одного яйца и килограмма\n",
    "сахара. "
   ]
  },
  {
   "cell_type": "code",
   "execution_count": 8,
   "id": "3dac32e6-80bb-4ff3-b8d3-cdc0fb2f5584",
   "metadata": {},
   "outputs": [
    {
     "name": "stdout",
     "output_type": "stream",
     "text": [
      "[[0.375 1.32  0.088]\n",
      " [0.75  2.2   0.44 ]\n",
      " [0.225 2.2   0.528]\n",
      " [0.375 1.54  0.264]]\n"
     ]
    }
   ],
   "source": [
    "prices = np.array([0.75, 0.22, 0.88])\n",
    "print(goods * prices) # нашли общую стоимость кажого ингредиента"
   ]
  },
  {
   "cell_type": "code",
   "execution_count": 9,
   "id": "4a82a981-747f-4f16-98db-3eb436d6ec2a",
   "metadata": {},
   "outputs": [
    {
     "name": "stdout",
     "output_type": "stream",
     "text": [
      "[[1.783]\n",
      " [3.39 ]\n",
      " [2.953]\n",
      " [2.179]]\n",
      "10.305000000000001\n"
     ]
    }
   ],
   "source": [
    "prices_col = prices.reshape(3,1) #преобразуем строку в колонку, потому что \n",
    "#таково правило матричного умножения(строки умножаем на столбцы). Numpy позволит умножит строку на строку, \n",
    "#но так будет не очень хорошо работать\n",
    "expenses = goods @ prices_col\n",
    "print(expenses)\n",
    "print(expenses.sum()) # нашли общую стоимость каждого блюда"
   ]
  },
  {
   "cell_type": "code",
   "execution_count": null,
   "id": "607aa1fe-2d05-4290-9f08-9fd05ebaafdc",
   "metadata": {},
   "outputs": [],
   "source": [
    "Фирма закупает ноутбуки и стационарные компьютеры для оборудования офисов на\n",
    "двух этажах здания. На первом этаже планируется поставить 20 стационарных\n",
    "компьютеров и 20 ноутбуков. На втором этаже – 12 стационарных компьютеров и 35\n",
    "ноутбуков. Компьютер стоит 850 евро, ноутбук – 1125 евро. Запишите матрицу А,\n",
    "описывающую количество компьютеров и ноутбуков на каждом этаже. Запишите\n",
    "вектор-столбец с ценами компьютеров и ноутбуков. С помощью матричных\n",
    "операций вычислите стоимость оборудования на каждом этаже.\n"
   ]
  },
  {
   "cell_type": "code",
   "execution_count": 11,
   "id": "c219522d-fcc5-4cfe-a870-9c41e39b6e06",
   "metadata": {},
   "outputs": [
    {
     "name": "stdout",
     "output_type": "stream",
     "text": [
      "[[39500]\n",
      " [49575]]\n"
     ]
    }
   ],
   "source": [
    "# Количество оборудования\n",
    "equipment = np.array([[20, 20], [12, 35]])\n",
    "# Цены\n",
    "prices = np.array([850, 1125]).reshape(2,1)\n",
    "# prices = np.array([[850], [1125]]) # так тоже получится столбец, тоже правильная запись\n",
    "print(equipment @ prices)"
   ]
  },
  {
   "cell_type": "code",
   "execution_count": null,
   "id": "cc456e60-1927-420d-aaa0-626f5b6138f0",
   "metadata": {},
   "outputs": [],
   "source": [
    "Фирма закупает ноутбуки и стационарные компьютеры для оборудования офисов на двух этажах здания.\n",
    "● На первом этаже планируется поставить 20 стационарных компьютеров и 20 ноутбуков.\n",
    "● На втором этаже – 12 стационарных компьютеров и 35 ноутбуков.\n",
    "Стоимость оборудования первого этажа должна составить 40000 евро, а второго этажа – 50000.\n",
    "Обозначим через Х - стоимость одного ПК, у - стоимость одного ноутбука."
   ]
  },
  {
   "cell_type": "code",
   "execution_count": null,
   "id": "c268d1db-80fe-44e1-8140-3097e09d9e72",
   "metadata": {},
   "outputs": [],
   "source": [
    "C: C @ A = E -- определение C = A ** (-1)\n",
    "\n",
    "A @ X = B -- задача найти X\n",
    "=====\n",
    "C @ A @ X = C @ B\n",
    "E @ X = C @ B\n",
    "X = C @ B"
   ]
  },
  {
   "cell_type": "code",
   "execution_count": 12,
   "id": "cdb13e2b-af16-490d-a30f-5d54cf68e401",
   "metadata": {},
   "outputs": [
    {
     "name": "stdout",
     "output_type": "stream",
     "text": [
      "[[ 0.07608696 -0.04347826]\n",
      " [-0.02608696  0.04347826]]\n",
      "[[ 1.00000000e+00  1.38777878e-16]\n",
      " [-1.11022302e-16  1.00000000e+00]]\n",
      "[[ 1.00000000e+00  0.00000000e+00]\n",
      " [-1.38777878e-17  1.00000000e+00]]\n"
     ]
    }
   ],
   "source": [
    "equipment = np.array([[20, 20], [12, 35]])\n",
    "inverse = np.linalg.inv(equipment) # обратная матрица\n",
    "print(inverse)\n",
    "print(inverse @ equipment)\n",
    "print(equipment @ inverse)\n"
   ]
  },
  {
   "cell_type": "code",
   "execution_count": 13,
   "id": "6b68e3da-a470-4abe-9383-056bc23357b2",
   "metadata": {},
   "outputs": [
    {
     "name": "stdout",
     "output_type": "stream",
     "text": [
      "[[ 1.00000000e+00  1.38777878e-16]\n",
      " [-1.11022302e-16  1.00000000e+00]]\n",
      "[[ 1.00000000e+00  0.00000000e+00]\n",
      " [-1.38777878e-17  1.00000000e+00]]\n"
     ]
    }
   ],
   "source": [
    "equipment = np.array([[20, 20], [12, 35]])\n",
    "\n",
    "inverse = np.linalg.inv(equipment) # обратная матрица\n",
    "\n",
    "# print(inverse) # A ** (-1)\n",
    "print(inverse @ equipment)\n",
    "print(equipment @ inverse) \n",
    "# A @ (A ** (-1)) = E то и  \n",
    "# (A ** (-1)) @ A  = E"
   ]
  },
  {
   "cell_type": "code",
   "execution_count": 15,
   "id": "29dbe21c-ca44-484b-9652-a6444280e618",
   "metadata": {},
   "outputs": [
    {
     "name": "stdout",
     "output_type": "stream",
     "text": [
      "[[ 869.56521739]\n",
      " [1130.43478261]]\n"
     ]
    }
   ],
   "source": [
    "equipment = np.array([[20, 20], [12, 35]])\n",
    "expenses = np.array([[40000], [50000]])\n",
    "inverse = np.linalg.inv(equipment)\n",
    "x = inverse @ expenses #нашли цены\n",
    "print(x)\n"
   ]
  },
  {
   "cell_type": "code",
   "execution_count": 16,
   "id": "2510790e-bc3d-4e46-9d59-6db1c97b249d",
   "metadata": {},
   "outputs": [
    {
     "data": {
      "text/plain": [
       "array([[40000.],\n",
       "       [50000.]])"
      ]
     },
     "execution_count": 16,
     "metadata": {},
     "output_type": "execute_result"
    }
   ],
   "source": [
    "equipment @ x # проверка: при данных ценах будет стоимость"
   ]
  },
  {
   "cell_type": "code",
   "execution_count": null,
   "id": "6fb06bf4-f82e-40f9-aed6-41133d6baa9c",
   "metadata": {},
   "outputs": [],
   "source": [
    "Давайте в предыдущей задаче изменим количество оборудования на этажах: пусть\n",
    "теперь на втором этаже компьютеров и ноутбуков будет по 30.\n",
    "Если мы попробуем найти обратную матрицу в этом случае, то получим ошибку:"
   ]
  },
  {
   "cell_type": "code",
   "execution_count": 17,
   "id": "1c6f7229-03e7-473e-8180-b33067d3ea1a",
   "metadata": {},
   "outputs": [
    {
     "ename": "LinAlgError",
     "evalue": "Singular matrix",
     "output_type": "error",
     "traceback": [
      "\u001b[1;31m---------------------------------------------------------------------------\u001b[0m",
      "\u001b[1;31mLinAlgError\u001b[0m                               Traceback (most recent call last)",
      "Cell \u001b[1;32mIn[17], line 2\u001b[0m\n\u001b[0;32m      1\u001b[0m equipment \u001b[38;5;241m=\u001b[39m np\u001b[38;5;241m.\u001b[39marray([[\u001b[38;5;241m20\u001b[39m, \u001b[38;5;241m20\u001b[39m], [\u001b[38;5;241m30\u001b[39m, \u001b[38;5;241m30\u001b[39m]])\n\u001b[1;32m----> 2\u001b[0m inverse \u001b[38;5;241m=\u001b[39m \u001b[43mnp\u001b[49m\u001b[38;5;241;43m.\u001b[39;49m\u001b[43mlinalg\u001b[49m\u001b[38;5;241;43m.\u001b[39;49m\u001b[43minv\u001b[49m\u001b[43m(\u001b[49m\u001b[43mequipment\u001b[49m\u001b[43m)\u001b[49m\n\u001b[0;32m      3\u001b[0m \u001b[38;5;28mprint\u001b[39m(inverse)\n",
      "File \u001b[1;32m~\\AppData\\Local\\Programs\\Python\\Python312\\Lib\\site-packages\\numpy\\linalg\\_linalg.py:609\u001b[0m, in \u001b[0;36minv\u001b[1;34m(a)\u001b[0m\n\u001b[0;32m    606\u001b[0m signature \u001b[38;5;241m=\u001b[39m \u001b[38;5;124m'\u001b[39m\u001b[38;5;124mD->D\u001b[39m\u001b[38;5;124m'\u001b[39m \u001b[38;5;28;01mif\u001b[39;00m isComplexType(t) \u001b[38;5;28;01melse\u001b[39;00m \u001b[38;5;124m'\u001b[39m\u001b[38;5;124md->d\u001b[39m\u001b[38;5;124m'\u001b[39m\n\u001b[0;32m    607\u001b[0m \u001b[38;5;28;01mwith\u001b[39;00m errstate(call\u001b[38;5;241m=\u001b[39m_raise_linalgerror_singular, invalid\u001b[38;5;241m=\u001b[39m\u001b[38;5;124m'\u001b[39m\u001b[38;5;124mcall\u001b[39m\u001b[38;5;124m'\u001b[39m,\n\u001b[0;32m    608\u001b[0m               over\u001b[38;5;241m=\u001b[39m\u001b[38;5;124m'\u001b[39m\u001b[38;5;124mignore\u001b[39m\u001b[38;5;124m'\u001b[39m, divide\u001b[38;5;241m=\u001b[39m\u001b[38;5;124m'\u001b[39m\u001b[38;5;124mignore\u001b[39m\u001b[38;5;124m'\u001b[39m, under\u001b[38;5;241m=\u001b[39m\u001b[38;5;124m'\u001b[39m\u001b[38;5;124mignore\u001b[39m\u001b[38;5;124m'\u001b[39m):\n\u001b[1;32m--> 609\u001b[0m     ainv \u001b[38;5;241m=\u001b[39m \u001b[43m_umath_linalg\u001b[49m\u001b[38;5;241;43m.\u001b[39;49m\u001b[43minv\u001b[49m\u001b[43m(\u001b[49m\u001b[43ma\u001b[49m\u001b[43m,\u001b[49m\u001b[43m \u001b[49m\u001b[43msignature\u001b[49m\u001b[38;5;241;43m=\u001b[39;49m\u001b[43msignature\u001b[49m\u001b[43m)\u001b[49m\n\u001b[0;32m    610\u001b[0m \u001b[38;5;28;01mreturn\u001b[39;00m wrap(ainv\u001b[38;5;241m.\u001b[39mastype(result_t, copy\u001b[38;5;241m=\u001b[39m\u001b[38;5;28;01mFalse\u001b[39;00m))\n",
      "File \u001b[1;32m~\\AppData\\Local\\Programs\\Python\\Python312\\Lib\\site-packages\\numpy\\linalg\\_linalg.py:104\u001b[0m, in \u001b[0;36m_raise_linalgerror_singular\u001b[1;34m(err, flag)\u001b[0m\n\u001b[0;32m    103\u001b[0m \u001b[38;5;28;01mdef\u001b[39;00m \u001b[38;5;21m_raise_linalgerror_singular\u001b[39m(err, flag):\n\u001b[1;32m--> 104\u001b[0m     \u001b[38;5;28;01mraise\u001b[39;00m LinAlgError(\u001b[38;5;124m\"\u001b[39m\u001b[38;5;124mSingular matrix\u001b[39m\u001b[38;5;124m\"\u001b[39m)\n",
      "\u001b[1;31mLinAlgError\u001b[0m: Singular matrix"
     ]
    }
   ],
   "source": [
    "equipment = np.array([[20, 20], [30, 30]])\n",
    "inverse = np.linalg.inv(equipment)\n",
    "print(inverse)\n"
   ]
  },
  {
   "cell_type": "code",
   "execution_count": 18,
   "id": "90af34ed-adc1-4887-9481-c53053f12806",
   "metadata": {},
   "outputs": [
    {
     "name": "stdout",
     "output_type": "stream",
     "text": [
      "0.0\n"
     ]
    }
   ],
   "source": [
    "equipment = np.array([[20, 20], [30, 30]]) \n",
    "det = np.linalg.det(equipment) #проверяем, есть ли опеределитель (determinant), т.е. обратная матрица\n",
    "print(det) # 0 -значит нет определителя, такая матрица называется выраженной или сингулярной"
   ]
  },
  {
   "cell_type": "code",
   "execution_count": 19,
   "id": "60a73429-9bea-466b-9c4b-c09cb78bce4e",
   "metadata": {},
   "outputs": [
    {
     "name": "stdout",
     "output_type": "stream",
     "text": [
      "459.9999999999997\n"
     ]
    }
   ],
   "source": [
    "equipment = np.array([[20, 20], [12, 35]]) \n",
    "det = np.linalg.det(equipment) #проверяем, есть ли опеределитель (determinant), т.е. обратная матрица\n",
    "print(det) "
   ]
  },
  {
   "cell_type": "code",
   "execution_count": null,
   "id": "3a967d73-5533-4e93-9355-c7bf68c881ec",
   "metadata": {},
   "outputs": [],
   "source": [
    "Определитель вычисляется только для квадратных матриц.\n",
    "Обратная матрица тоже есть только у квадратных матриц."
   ]
  },
  {
   "cell_type": "code",
   "execution_count": null,
   "id": "4a3b4240-8d9d-4f2e-85c2-6db0c80ff28d",
   "metadata": {},
   "outputs": [],
   "source": [
    "Матрица goods, как в примере выше, описывает количество муки, яиц и сахара в\n",
    "трех видах десертов некоторой кондитерской. Известно, что затраты на выпечку\n",
    "первого десерта составляют 2 евро, второго – 4 евро, третьего – 3 евро. Найдите,\n",
    "сколько должны стоить мука, яйца и сахар для такой себестоимости десертов.\n",
    "Для решения задачи составить систему уравнений, найти определитель этой\n",
    "системы. Если определитель не равен нулю, найти обратную матрицу и значения\n",
    "переменных."
   ]
  },
  {
   "cell_type": "code",
   "execution_count": null,
   "id": "1f5b8f6e-b041-40d7-8268-2407ed87881f",
   "metadata": {},
   "outputs": [],
   "source": [
    "# Расход продуктов\n",
    "goods = np.array([[0.5, 6, 0.1],\n",
    "[1, 10, 0.5],\n",
    "[0.3, 10, 0.6]])"
   ]
  },
  {
   "cell_type": "code",
   "execution_count": 20,
   "id": "f92e6d82-3401-48a4-bf7f-59d63fc846f1",
   "metadata": {},
   "outputs": [
    {
     "name": "stdout",
     "output_type": "stream",
     "text": [
      "-1.4999999999999998\n"
     ]
    }
   ],
   "source": [
    "expenses = np.array([[2], [4], [3]])\n",
    "# Расход продуктов\n",
    "goods = np.array([[0.5, 6, 0.1],\n",
    "[1, 10, 0.5],\n",
    "[0.3, 10, 0.6]])\n",
    "print(np.linalg.det(goods))"
   ]
  },
  {
   "cell_type": "code",
   "execution_count": 21,
   "id": "dd8d7b75-fa62-4cc9-85ec-d676231fa14e",
   "metadata": {},
   "outputs": [
    {
     "name": "stdout",
     "output_type": "stream",
     "text": [
      "[[1.6 ]\n",
      " [0.18]\n",
      " [1.2 ]]\n"
     ]
    }
   ],
   "source": [
    "prices = np.linalg.inv(goods) @ expenses\n",
    "print(prices)"
   ]
  },
  {
   "cell_type": "code",
   "execution_count": 22,
   "id": "c489acb8-0065-454e-90e9-0af56e32d689",
   "metadata": {},
   "outputs": [
    {
     "data": {
      "text/plain": [
       "array([[2.],\n",
       "       [4.],\n",
       "       [3.]])"
      ]
     },
     "execution_count": 22,
     "metadata": {},
     "output_type": "execute_result"
    }
   ],
   "source": [
    "goods @ prices #проверка"
   ]
  },
  {
   "cell_type": "code",
   "execution_count": null,
   "id": "1c52b2c0-b9e7-4476-9c34-8994da1e916c",
   "metadata": {},
   "outputs": [],
   "source": []
  }
 ],
 "metadata": {
  "kernelspec": {
   "display_name": "Python 3 (ipykernel)",
   "language": "python",
   "name": "python3"
  },
  "language_info": {
   "codemirror_mode": {
    "name": "ipython",
    "version": 3
   },
   "file_extension": ".py",
   "mimetype": "text/x-python",
   "name": "python",
   "nbconvert_exporter": "python",
   "pygments_lexer": "ipython3",
   "version": "3.12.5"
  }
 },
 "nbformat": 4,
 "nbformat_minor": 5
}
