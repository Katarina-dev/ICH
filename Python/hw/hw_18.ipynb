{
 "cells": [
  {
   "cell_type": "code",
   "execution_count": null,
   "id": "758c7247-2108-42c4-a51c-e97429500bcd",
   "metadata": {},
   "outputs": [],
   "source": [
    "1. Написать программу, вычисляющую факториал числа.\n",
    "\n",
    "Решить задачу с помощью рекурсии."
   ]
  },
  {
   "cell_type": "code",
   "execution_count": 5,
   "id": "7ef2723f-1ee2-4e70-89c9-eced51bb16e5",
   "metadata": {},
   "outputs": [
    {
     "name": "stdin",
     "output_type": "stream",
     "text": [
      " 7\n"
     ]
    },
    {
     "data": {
      "text/plain": [
       "5040"
      ]
     },
     "execution_count": 5,
     "metadata": {},
     "output_type": "execute_result"
    }
   ],
   "source": [
    "def get_fact(n):\n",
    "    if n <=0:\n",
    "        return 1\n",
    "    else:\n",
    "        return n * get_fact(n - 1)\n",
    "\n",
    "n = int(input())\n",
    "get_fact(n)"
   ]
  },
  {
   "cell_type": "code",
   "execution_count": null,
   "id": "61b51b66-2ca6-4b20-98fd-749c9f4f66bb",
   "metadata": {},
   "outputs": [],
   "source": [
    "Напишите программу, которая использует рекурсию для вычисления суммы цифр числа. \n",
    "Создайте функцию sum_digits, которая принимает один аргумент - число, для которого нужно вычислить сумму цифр. \n",
    "Используйте условие выхода из рекурсии, когда число состоит из одной цифры. Выведите результат на экран."
   ]
  },
  {
   "cell_type": "code",
   "execution_count": 8,
   "id": "ffc7711e-6165-4306-adea-28f21ad25159",
   "metadata": {},
   "outputs": [
    {
     "name": "stdin",
     "output_type": "stream",
     "text": [
      " 345\n"
     ]
    },
    {
     "name": "stdout",
     "output_type": "stream",
     "text": [
      "12\n"
     ]
    }
   ],
   "source": [
    "def sum_digits(n):\n",
    "    return n if n < 10 else n % 10 + sum_digits(n // 10)\n",
    "\n",
    "num = int(input())\n",
    "print(sum_digits(num))"
   ]
  },
  {
   "cell_type": "code",
   "execution_count": null,
   "id": "e4e0928b-600a-442f-80f9-74de0ebc8b3a",
   "metadata": {},
   "outputs": [],
   "source": []
  }
 ],
 "metadata": {
  "kernelspec": {
   "display_name": "Python 3 (ipykernel)",
   "language": "python",
   "name": "python3"
  },
  "language_info": {
   "codemirror_mode": {
    "name": "ipython",
    "version": 3
   },
   "file_extension": ".py",
   "mimetype": "text/x-python",
   "name": "python",
   "nbconvert_exporter": "python",
   "pygments_lexer": "ipython3",
   "version": "3.12.5"
  }
 },
 "nbformat": 4,
 "nbformat_minor": 5
}
