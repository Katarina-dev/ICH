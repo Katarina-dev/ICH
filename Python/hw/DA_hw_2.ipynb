{
 "cells": [
  {
   "cell_type": "code",
   "execution_count": null,
   "id": "bd54cc60-486c-4c51-94fe-dfcdeb0e0cf9",
   "metadata": {},
   "outputs": [],
   "source": [
    "1. Индексация массивов NumPy:\n",
    "\n",
    "Напишите программу, которая:\n",
    "\n",
    "- Запрашивает у пользователя ввод одномерного массива, элементы которого вводятся в виде чисел, разделенных пробелами.\n",
    "\n",
    "- Преобразует введенную строку в массив NumPy.\n",
    "\n",
    "- Запрашивает у пользователя индекс элемента, который необходимо извлечь из массива.\n",
    "\n",
    "- Выводит значение элемента по запрошенному индексу.\n",
    "\n",
    "- Запрашивает у пользователя ввод диапазона индексов в формате `начало:конец`, чтобы извлечь срез массива.\n",
    "\n",
    "- Выводит срез массива.\n"
   ]
  },
  {
   "cell_type": "code",
   "execution_count": 16,
   "id": "b46c5b5a-70b1-418c-9da5-36cb7b0d381c",
   "metadata": {},
   "outputs": [
    {
     "name": "stdin",
     "output_type": "stream",
     "text": [
      "Enter numbers with spaces 1 2 3 4 5 6\n"
     ]
    },
    {
     "name": "stdout",
     "output_type": "stream",
     "text": [
      "[1 2 3 4 5 6]\n"
     ]
    },
    {
     "name": "stdin",
     "output_type": "stream",
     "text": [
      "Enter element number for extracting: 2\n"
     ]
    },
    {
     "name": "stdout",
     "output_type": "stream",
     "text": [
      "3\n"
     ]
    },
    {
     "name": "stdin",
     "output_type": "stream",
     "text": [
      "Enter the first index range for slicing:  1\n",
      "Enter the second index range for slicing:  4\n"
     ]
    },
    {
     "name": "stdout",
     "output_type": "stream",
     "text": [
      "[2 3 4]\n"
     ]
    }
   ],
   "source": [
    "import numpy as np\n",
    "\n",
    "nums = list(map(int, input('Enter numbers with spaces').split()))\n",
    "arr = np.array(nums)\n",
    "print(arr)\n",
    "element = int(input('Enter element number for extracting:'))\n",
    "print(arr[element])\n",
    "slices_1 = int(input('Enter the first index range for slicing: '))\n",
    "slices_2 = int(input('Enter the second index range for slicing: '))\n",
    "print(arr[slices_1:slices_2])\n"
   ]
  },
  {
   "cell_type": "code",
   "execution_count": null,
   "id": "148b1796-9966-4ea7-b39a-f56626f31b04",
   "metadata": {},
   "outputs": [],
   "source": [
    "2. Операции с матрицами в NumPy:\n",
    "\n",
    "Напишите программу, которая:\n",
    "\n",
    "- Запрашивает у пользователя размеры матрицы MxN.\n",
    "\n",
    "- Генерирует две матрицы указанных размеров, заполненные случайными числами от 0 до 9.\n",
    "\n",
    "- Выводит обе сгенерированные матрицы на экран.\n",
    "\n",
    "- Выполняет и выводит результат одной из следующих операций (на выбор пользователя): сложение матриц, умножение матриц, транспонирование одной из матриц.\n",
    "\n",
    "- Если выбрано умножение, убедитесь, что размеры матриц соответствуют правилам матричного умножения."
   ]
  },
  {
   "cell_type": "code",
   "execution_count": 52,
   "id": "3d4b3e2f-7a35-4ced-a196-9247fa345fc6",
   "metadata": {},
   "outputs": [
    {
     "name": "stdin",
     "output_type": "stream",
     "text": [
      "Enter matrix size:  2x3\n"
     ]
    },
    {
     "name": "stdout",
     "output_type": "stream",
     "text": [
      "[[3 1 5]\n",
      " [3 2 6]]\n",
      "[[9 0 7]\n",
      " [4 7 3]]\n"
     ]
    },
    {
     "name": "stdin",
     "output_type": "stream",
     "text": [
      "Select operation for matrix (addition, multiplication, transposition). For exit enter 'q':  addition\n"
     ]
    },
    {
     "name": "stdout",
     "output_type": "stream",
     "text": [
      "[[12  1 12]\n",
      " [ 7  9  9]]\n"
     ]
    },
    {
     "name": "stdin",
     "output_type": "stream",
     "text": [
      "Select operation for matrix (addition, multiplication, transposition). For exit enter 'q':  multiplication\n"
     ]
    },
    {
     "name": "stdout",
     "output_type": "stream",
     "text": [
      "[[27  0 35]\n",
      " [12 14 18]]\n"
     ]
    },
    {
     "name": "stdin",
     "output_type": "stream",
     "text": [
      "Select operation for matrix (addition, multiplication, transposition). For exit enter 'q':  transposition\n"
     ]
    },
    {
     "name": "stdout",
     "output_type": "stream",
     "text": [
      "[[3 3]\n",
      " [1 2]\n",
      " [5 6]] \n",
      " [[9 4]\n",
      " [0 7]\n",
      " [7 3]]\n"
     ]
    },
    {
     "name": "stdin",
     "output_type": "stream",
     "text": [
      "Select operation for matrix (addition, multiplication, transposition). For exit enter 'q':  q\n"
     ]
    }
   ],
   "source": [
    "import random as rd\n",
    "\n",
    "M, N = map(int, input('Enter matrix size: ').split('x'))\n",
    "mat_1 = np.array([[rd.randint(0, 9) for i in range(N)] for i in range(M)])\n",
    "mat_2 = np.array([[rd.randint(0, 9) for i in range(N)] for i in range(M)])\n",
    "print(mat_1)\n",
    "print(mat_2)\n",
    "addition = mat_1 + mat_2\n",
    "multiplication = mat_1 * mat_2\n",
    "transposition = f'{mat_1.T} \\n {mat_2.T}'\n",
    "\n",
    "\n",
    "while True:\n",
    "    operation = input('Select operation for matrix (addition, multiplication, transposition). For exit enter \\'q\\': ')\n",
    "    \n",
    "    if operation == 'addition':\n",
    "        print(addition)\n",
    "    elif operation == 'multiplication':\n",
    "        print(multiplication)\n",
    "    elif operation == 'transposition':\n",
    "        print(transposition)\n",
    "    elif operation == 'q':\n",
    "        break    \n",
    "    else:\n",
    "        print('Please enter correct name of operation from list!')"
   ]
  },
  {
   "cell_type": "code",
   "execution_count": null,
   "id": "8c7ba629-8287-4c37-8921-1156aef21939",
   "metadata": {},
   "outputs": [],
   "source": []
  }
 ],
 "metadata": {
  "kernelspec": {
   "display_name": "Python 3 (ipykernel)",
   "language": "python",
   "name": "python3"
  },
  "language_info": {
   "codemirror_mode": {
    "name": "ipython",
    "version": 3
   },
   "file_extension": ".py",
   "mimetype": "text/x-python",
   "name": "python",
   "nbconvert_exporter": "python",
   "pygments_lexer": "ipython3",
   "version": "3.12.5"
  }
 },
 "nbformat": 4,
 "nbformat_minor": 5
}
