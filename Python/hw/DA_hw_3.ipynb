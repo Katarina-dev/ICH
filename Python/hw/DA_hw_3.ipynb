{
 "cells": [
  {
   "cell_type": "code",
   "execution_count": null,
   "id": "1fcb586e-6444-4f9c-8a9c-febab4063564",
   "metadata": {},
   "outputs": [],
   "source": [
    "1. Сравнение производительности операций над массивами:\n",
    "\n",
    "\n",
    "Напишите программу, которая:\n",
    "\n",
    "- Генерирует два больших одномерных массива с 1 миллионом элементов каждый, заполненных случайными числами.\n",
    "\n",
    "- Сначала выполняет поэлементное сложение этих массивов, используя циклы Python.\n",
    "\n",
    "- Затем выполняет ту же операцию, используя возможности NumPy.\n",
    "\n",
    "- Измеряет и выводит время выполнения каждого подхода.\n",
    "\n",
    "\n",
    "Пример вывода:\n",
    "\n",
    "\n",
    "Время выполнения сложения с использованием цикла Python: 0.5 секунды.\n",
    "\n",
    "Время выполнения сложения с использованием NumPy: 0.01 секунды."
   ]
  },
  {
   "cell_type": "code",
   "execution_count": 2,
   "id": "b76b6e33-0553-435b-bdc9-84ed840d0039",
   "metadata": {},
   "outputs": [],
   "source": [
    "import numpy as np\n",
    "import timeit"
   ]
  },
  {
   "cell_type": "code",
   "execution_count": 17,
   "id": "a5382f7a-83e4-41f4-8d25-27210ca2a246",
   "metadata": {},
   "outputs": [
    {
     "name": "stdout",
     "output_type": "stream",
     "text": [
      "Время выполнения сложения с использованием цикла Python: 185 ms ± 8.47 ms per loop (mean ± std. dev. of 7 runs, 1 loop each).\n"
     ]
    }
   ],
   "source": [
    "arr_1 = np.arange(1000000)\n",
    "arr_2 = np.arange(1000000)\n",
    "result = %timeit -o -q [i + j for i, j in zip(arr_1, arr_2)]\n",
    "print(f'Время выполнения сложения с использованием цикла Python: {result}.')"
   ]
  },
  {
   "cell_type": "code",
   "execution_count": 21,
   "id": "53a29483-9226-481d-9e32-691ebca3a0b5",
   "metadata": {},
   "outputs": [
    {
     "name": "stdout",
     "output_type": "stream",
     "text": [
      "Время выполнения сложения с использованием NumPy: 3.62 ms ± 231 μs per loop (mean ± std. dev. of 7 runs, 100 loops each).\n"
     ]
    }
   ],
   "source": [
    "arr_1 = np.arange(1000000)\n",
    "arr_2 = np.arange(1000000)\n",
    "result = %timeit -o -q arr_1 + arr_2\n",
    "print(f'Время выполнения сложения с использованием NumPy: {result}.')"
   ]
  },
  {
   "cell_type": "code",
   "execution_count": null,
   "id": "cac410bd-8d07-40d1-9290-e4ee07486969",
   "metadata": {},
   "outputs": [],
   "source": [
    "2. Анализ расположения данных в памяти:\n",
    "\n",
    "Создать большой двумерный массив и исследовать, как изменение порядка (C-style и Fortran-style) влияет на производительность операций сложения и умножения.\n",
    "\n",
    "Можно использовать тот же бенчмарк что и в лекции. Необходимо погуглить про то, как завести массив с порядком в Fortran-style. Не забывайте про magic в jupyter."
   ]
  },
  {
   "cell_type": "code",
   "execution_count": 4,
   "id": "d93fcf14-e624-4535-b6f4-8dcfcda08e29",
   "metadata": {},
   "outputs": [
    {
     "name": "stdout",
     "output_type": "stream",
     "text": [
      "[[293800 741133 209408 ... 580669 134932 275091]\n",
      " [804441 958688 167990 ... 856246 889608 228480]\n",
      " [742005 202946 719012 ... 488614 850029 546254]\n",
      " ...\n",
      " [133571  22735 303932 ... 885807 975585 199504]\n",
      " [ 31930 712540 959038 ...  14982 722487 527222]\n",
      " [182049 504214 382595 ... 164536 229584 305370]]\n",
      "[[660751 403756 317700 ... 625758 555902 144000]\n",
      " [ 46000 278674  27498 ... 202587 227079  72567]\n",
      " [ 51045  90877  13609 ... 328558 414650 131284]\n",
      " ...\n",
      " [655283 926667 684202 ... 622289 302952 439923]\n",
      " [195947 795069 722060 ... 974591 912894 844489]\n",
      " [912043 749367 815094 ... 512903 204204  23059]]\n"
     ]
    }
   ],
   "source": [
    "arr_c_1 = np.random.randint(0, 1000000, (1000, 1000))\n",
    "arr_c_2 = np.random.randint(0, 1000000, (1000, 1000))\n",
    "print(arr_c_1) \n",
    "print(arr_c_2)"
   ]
  },
  {
   "cell_type": "code",
   "execution_count": 5,
   "id": "56178150-0f87-4bbc-94f8-801d6cdfe0c9",
   "metadata": {},
   "outputs": [
    {
     "name": "stdout",
     "output_type": "stream",
     "text": [
      "2.43 ms ± 770 μs per loop (mean ± std. dev. of 7 runs, 100 loops each)\n"
     ]
    }
   ],
   "source": [
    "%%timeit\n",
    "\n",
    "multi_c = arr_c_1 * arr_c_2\n",
    "multi_c"
   ]
  },
  {
   "cell_type": "code",
   "execution_count": 6,
   "id": "670902e9-7f01-4238-8421-db7fc66ec9d9",
   "metadata": {},
   "outputs": [
    {
     "name": "stdout",
     "output_type": "stream",
     "text": [
      "2.03 ms ± 129 μs per loop (mean ± std. dev. of 7 runs, 100 loops each)\n"
     ]
    }
   ],
   "source": [
    "%%timeit\n",
    "\n",
    "sum_c = arr_c_1 + arr_c_2\n",
    "sum_c"
   ]
  },
  {
   "cell_type": "code",
   "execution_count": 8,
   "id": "136a2554-bc0e-4c74-9faa-04d271229954",
   "metadata": {},
   "outputs": [
    {
     "name": "stdout",
     "output_type": "stream",
     "text": [
      "[[939777 779258 295924 ... 810320 224289 281975]\n",
      " [666883 744122 863195 ... 738894 310952 230870]\n",
      " [413718 674378 312546 ... 258676 595229 610709]\n",
      " ...\n",
      " [696336 402328 835560 ... 945654 527831 317042]\n",
      " [240316  94885 159121 ...  80314 536691 802277]\n",
      " [483155 341327  40563 ... 838298 454195 654093]]\n",
      "[[432466 662972 554329 ... 734260 231065 178858]\n",
      " [741996 944551 757018 ... 575789 866488 217681]\n",
      " [ 62944  30487 544359 ... 414936 373664 617729]\n",
      " ...\n",
      " [572234 588122 263835 ... 539199 773896 604071]\n",
      " [268380 476147  10346 ... 521446 109099 309415]\n",
      " [883529 262442  43064 ... 994070 928326 575938]]\n"
     ]
    }
   ],
   "source": [
    "arr_1 = np.random.randint(0, 1000000, (1000, 1000))\n",
    "arr_f_1 = np.array(arr_1, order = 'F')\n",
    "arr_2 = np.random.randint(0, 1000000, (1000, 1000))\n",
    "arr_f_2 = np.array(arr_2, order = 'F')\n",
    "print(arr_f_1)\n",
    "print(arr_f_2)"
   ]
  },
  {
   "cell_type": "code",
   "execution_count": 9,
   "id": "ae1e27d3-dabe-4ebb-a804-21075b06fbc7",
   "metadata": {},
   "outputs": [
    {
     "name": "stdout",
     "output_type": "stream",
     "text": [
      "2.58 ms ± 598 μs per loop (mean ± std. dev. of 7 runs, 100 loops each)\n"
     ]
    }
   ],
   "source": [
    "%%timeit\n",
    "\n",
    "multi_f = arr_f_1 * arr_f_2\n",
    "multi_f"
   ]
  },
  {
   "cell_type": "code",
   "execution_count": 10,
   "id": "43e89681-bdcd-4453-87d2-39ecfccf28fc",
   "metadata": {},
   "outputs": [
    {
     "name": "stdout",
     "output_type": "stream",
     "text": [
      "2 ms ± 70.6 μs per loop (mean ± std. dev. of 7 runs, 100 loops each)\n"
     ]
    }
   ],
   "source": [
    "%%timeit\n",
    "\n",
    "sum_f = arr_f_1 + arr_f_2\n",
    "sum_f"
   ]
  },
  {
   "cell_type": "code",
   "execution_count": null,
   "id": "b9d6a1a5-a37e-44a4-a7c1-ad8fd216cfba",
   "metadata": {},
   "outputs": [],
   "source": [
    "3. Обратная матрица и определитель:\n",
    "\n",
    "\n",
    "Напишите программу, которая:\n",
    "\n",
    "- Запрашивает у пользователя размер квадратной матрицы N.\n",
    "\n",
    "- Генерирует квадратную матрицу размером N x N, заполненную случайными числами от -10 до 10.\n",
    "\n",
    "- Выводит сгенерированную матрицу на экран.\n",
    "\n",
    "- Вычисляет и выводит определитель матрицы.\n",
    "\n",
    "- Если определитель не равен нулю, программа должна вычислить и вывести обратную матрицу. \n",
    "В противном случае, программа должна сообщить, что обратной матрицы не существует.\n",
    "\n"
   ]
  },
  {
   "cell_type": "code",
   "execution_count": 3,
   "id": "8cfb4359-e442-4a5d-990c-b0383b5cb977",
   "metadata": {},
   "outputs": [
    {
     "name": "stdin",
     "output_type": "stream",
     "text": [
      "Input size of matrix:  4\n"
     ]
    },
    {
     "name": "stdout",
     "output_type": "stream",
     "text": [
      "Generated matrix:\n",
      " [[-9 -8 -8 -2]\n",
      " [ 8  6 -7  3]\n",
      " [ 4  0  0 -6]\n",
      " [ 8 -2  9  4]]\n",
      "Matrix determinant: 9456\n",
      "Inverse matrix:\n",
      " [[ 0.02538071  0.05583756  0.06345178  0.06598985]\n",
      " [-0.10448393 -0.00486464 -0.03204315 -0.09665821]\n",
      " [-0.05329949 -0.06725888 -0.00824873  0.01142132]\n",
      " [ 0.01692047  0.03722504 -0.12436548  0.04399323]]\n"
     ]
    }
   ],
   "source": [
    "N = int(input('Input size of matrix: '))\n",
    "mat = np.random.randint(-10, 10, (N, N))\n",
    "print(f'Generated matrix:\\n {mat}')\n",
    "det = np.linalg.det(mat)\n",
    "print(f'Matrix determinant: {det:.0f}')\n",
    "if det != 0:\n",
    "    print(f'Inverse matrix:\\n {np.linalg.inv(mat)}')\n",
    "else:\n",
    "    print('Inverse matrix isn\\'t exist')"
   ]
  },
  {
   "cell_type": "code",
   "execution_count": null,
   "id": "ed568289-024b-4de2-b21a-66b5a51bee14",
   "metadata": {},
   "outputs": [],
   "source": []
  }
 ],
 "metadata": {
  "kernelspec": {
   "display_name": "Python 3 (ipykernel)",
   "language": "python",
   "name": "python3"
  },
  "language_info": {
   "codemirror_mode": {
    "name": "ipython",
    "version": 3
   },
   "file_extension": ".py",
   "mimetype": "text/x-python",
   "name": "python",
   "nbconvert_exporter": "python",
   "pygments_lexer": "ipython3",
   "version": "3.12.5"
  }
 },
 "nbformat": 4,
 "nbformat_minor": 5
}
