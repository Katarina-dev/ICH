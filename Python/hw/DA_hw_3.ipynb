{
 "cells": [
  {
   "cell_type": "code",
   "execution_count": null,
   "id": "1fcb586e-6444-4f9c-8a9c-febab4063564",
   "metadata": {},
   "outputs": [],
   "source": [
    "1. Сравнение производительности операций над массивами:\n",
    "\n",
    "\n",
    "Напишите программу, которая:\n",
    "\n",
    "- Генерирует два больших одномерных массива с 1 миллионом элементов каждый, заполненных случайными числами.\n",
    "\n",
    "- Сначала выполняет поэлементное сложение этих массивов, используя циклы Python.\n",
    "\n",
    "- Затем выполняет ту же операцию, используя возможности NumPy.\n",
    "\n",
    "- Измеряет и выводит время выполнения каждого подхода.\n",
    "\n",
    "\n",
    "Пример вывода:\n",
    "\n",
    "\n",
    "Время выполнения сложения с использованием цикла Python: 0.5 секунды.\n",
    "\n",
    "Время выполнения сложения с использованием NumPy: 0.01 секунды."
   ]
  },
  {
   "cell_type": "code",
   "execution_count": 10,
   "id": "b76b6e33-0553-435b-bdc9-84ed840d0039",
   "metadata": {},
   "outputs": [],
   "source": [
    "import numpy as np\n",
    "import timeit"
   ]
  },
  {
   "cell_type": "code",
   "execution_count": 17,
   "id": "a5382f7a-83e4-41f4-8d25-27210ca2a246",
   "metadata": {},
   "outputs": [
    {
     "name": "stdout",
     "output_type": "stream",
     "text": [
      "Время выполнения сложения с использованием цикла Python: 185 ms ± 8.47 ms per loop (mean ± std. dev. of 7 runs, 1 loop each).\n"
     ]
    }
   ],
   "source": [
    "arr_1 = np.arange(1000000)\n",
    "arr_2 = np.arange(1000000)\n",
    "result = %timeit -o -q [i + j for i, j in zip(arr_1, arr_2)]\n",
    "print(f'Время выполнения сложения с использованием цикла Python: {result}.')"
   ]
  },
  {
   "cell_type": "code",
   "execution_count": 21,
   "id": "53a29483-9226-481d-9e32-691ebca3a0b5",
   "metadata": {},
   "outputs": [
    {
     "name": "stdout",
     "output_type": "stream",
     "text": [
      "Время выполнения сложения с использованием NumPy: 3.62 ms ± 231 μs per loop (mean ± std. dev. of 7 runs, 100 loops each).\n"
     ]
    }
   ],
   "source": [
    "arr_1 = np.arange(1000000)\n",
    "arr_2 = np.arange(1000000)\n",
    "result = %timeit -o -q arr_1 + arr_2\n",
    "print(f'Время выполнения сложения с использованием NumPy: {result}.')"
   ]
  },
  {
   "cell_type": "code",
   "execution_count": null,
   "id": "cac410bd-8d07-40d1-9290-e4ee07486969",
   "metadata": {},
   "outputs": [],
   "source": [
    "2. Анализ расположения данных в памяти:\n",
    "\n",
    "Создать большой двумерный массив и исследовать, как изменение порядка (C-style и Fortran-style) влияет на производительность операций сложения и умножения.\n",
    "\n",
    "Можно использовать тот же бенчмарк что и в лекции. Необходимо погуглить про то, как завести массив с порядком в Fortran-style. Не забывайте про magic в jupyter."
   ]
  },
  {
   "cell_type": "code",
   "execution_count": 45,
   "id": "d93fcf14-e624-4535-b6f4-8dcfcda08e29",
   "metadata": {},
   "outputs": [
    {
     "name": "stdout",
     "output_type": "stream",
     "text": [
      "[[540536 928141 749721 ... 367992  42192 912445]\n",
      " [156671 725124 960327 ... 661867 683656 534723]\n",
      " [553144 158236 963023 ... 139544 877384 780394]\n",
      " ...\n",
      " [822264 627316 953863 ... 288383 838855 925189]\n",
      " [196925 264415 713453 ...  82861 690437 966410]\n",
      " [926631 132007 454197 ... 292505  34838 993836]]\n",
      "[[459384 942618 682284 ... 978782 858121 511749]\n",
      " [901960 463097 339975 ...  91513 686862 358856]\n",
      " [663227 694619 111642 ... 578176 121559 670908]\n",
      " ...\n",
      " [503985 387072 859787 ... 382531 978624 145936]\n",
      " [966491  10054 788535 ... 563961 849154 597699]\n",
      " [479668 160099 443982 ...  53766 406239 617855]]\n"
     ]
    }
   ],
   "source": [
    "arr_c_1 = np.random.randint(0, 1000000, (1000, 1000))\n",
    "arr_c_2 = np.random.randint(0, 1000000, (1000, 1000))\n",
    "print(arr_c_1) \n",
    "print(arr_c_2)"
   ]
  },
  {
   "cell_type": "code",
   "execution_count": 46,
   "id": "56178150-0f87-4bbc-94f8-801d6cdfe0c9",
   "metadata": {},
   "outputs": [
    {
     "name": "stdout",
     "output_type": "stream",
     "text": [
      "2.32 ms ± 72 μs per loop (mean ± std. dev. of 7 runs, 100 loops each)\n"
     ]
    }
   ],
   "source": [
    "%%timeit\n",
    "\n",
    "multi_c = arr_c_1 * arr_c_2\n",
    "multi_c"
   ]
  },
  {
   "cell_type": "code",
   "execution_count": 47,
   "id": "670902e9-7f01-4238-8421-db7fc66ec9d9",
   "metadata": {},
   "outputs": [
    {
     "name": "stdout",
     "output_type": "stream",
     "text": [
      "2.11 ms ± 221 μs per loop (mean ± std. dev. of 7 runs, 100 loops each)\n"
     ]
    }
   ],
   "source": [
    "%%timeit\n",
    "\n",
    "sum_c = arr_c_1 + arr_c_2\n",
    "sum_c"
   ]
  },
  {
   "cell_type": "code",
   "execution_count": 49,
   "id": "136a2554-bc0e-4c74-9faa-04d271229954",
   "metadata": {},
   "outputs": [
    {
     "name": "stdout",
     "output_type": "stream",
     "text": [
      "[[29 99 67 ... 40 23 96]\n",
      " [18 17 73 ...  9 63 71]\n",
      " [30 76 92 ... 63  4 15]\n",
      " ...\n",
      " [89 18 99 ... 22 80 26]\n",
      " [73 18  6 ... 51 94 23]\n",
      " [80 35 15 ... 68 18 78]]\n",
      "[[29 99 67 ... 40 23 96]\n",
      " [18 17 73 ...  9 63 71]\n",
      " [30 76 92 ... 63  4 15]\n",
      " ...\n",
      " [89 18 99 ... 22 80 26]\n",
      " [73 18  6 ... 51 94 23]\n",
      " [80 35 15 ... 68 18 78]]\n"
     ]
    }
   ],
   "source": [
    "arr_f_1 = np.random.randint(0, 1000000, (1000, 1000))\n",
    "arr_f_1 = np.array(arr, order = 'F')\n",
    "arr_f_2 = np.random.randint(0, 1000000, (1000, 1000))\n",
    "arr_f_2 = np.array(arr, order = 'F')\n",
    "print(arr_f_1)\n",
    "print(arr_f_2)"
   ]
  },
  {
   "cell_type": "code",
   "execution_count": 50,
   "id": "ae1e27d3-dabe-4ebb-a804-21075b06fbc7",
   "metadata": {},
   "outputs": [
    {
     "name": "stdout",
     "output_type": "stream",
     "text": [
      "11.1 μs ± 339 ns per loop (mean ± std. dev. of 7 runs, 100,000 loops each)\n"
     ]
    }
   ],
   "source": [
    "%%timeit\n",
    "\n",
    "multi_f = arr_f_1 * arr_f_2\n",
    "multi_f"
   ]
  },
  {
   "cell_type": "code",
   "execution_count": 51,
   "id": "43e89681-bdcd-4453-87d2-39ecfccf28fc",
   "metadata": {},
   "outputs": [
    {
     "name": "stdout",
     "output_type": "stream",
     "text": [
      "8.51 μs ± 211 ns per loop (mean ± std. dev. of 7 runs, 100,000 loops each)\n"
     ]
    }
   ],
   "source": [
    "%%timeit\n",
    "\n",
    "sum_f = arr_f_1 + arr_f_2\n",
    "sum_f"
   ]
  },
  {
   "cell_type": "code",
   "execution_count": null,
   "id": "b9d6a1a5-a37e-44a4-a7c1-ad8fd216cfba",
   "metadata": {},
   "outputs": [],
   "source": [
    "3. Обратная матрица и определитель:\n",
    "\n",
    "\n",
    "Напишите программу, которая:\n",
    "\n",
    "- Запрашивает у пользователя размер квадратной матрицы N.\n",
    "\n",
    "- Генерирует квадратную матрицу размером N x N, заполненную случайными числами от -10 до 10.\n",
    "\n",
    "- Выводит сгенерированную матрицу на экран.\n",
    "\n",
    "- Вычисляет и выводит определитель матрицы.\n",
    "\n",
    "- Если определитель не равен нулю, программа должна вычислить и вывести обратную матрицу. \n",
    "В противном случае, программа должна сообщить, что обратной матрицы не существует.\n",
    "\n"
   ]
  },
  {
   "cell_type": "code",
   "execution_count": 71,
   "id": "8cfb4359-e442-4a5d-990c-b0383b5cb977",
   "metadata": {},
   "outputs": [
    {
     "name": "stdin",
     "output_type": "stream",
     "text": [
      "Input size of matrix:  4\n"
     ]
    },
    {
     "name": "stdout",
     "output_type": "stream",
     "text": [
      "Generated matrix:\n",
      " [[  6  -3 -10  -2]\n",
      " [  3   6  -5  -1]\n",
      " [ -9   8 -10   6]\n",
      " [  2   8   5   2]]\n",
      "Matrix determinant: -4125\n",
      "Inverse matrix:\n",
      " [[ 1.40606061e-01 -9.93939394e-02 -1.81818182e-02  1.45454545e-01]\n",
      " [-6.66666667e-02  1.33333333e-01 -8.51591525e-18 -1.27738729e-17]\n",
      " [-4.16969697e-02 -2.56969697e-02 -2.90909091e-02  3.27272727e-02]\n",
      " [ 2.30303030e-01 -3.69696970e-01  9.09090909e-02  2.72727273e-01]]\n"
     ]
    }
   ],
   "source": [
    "N = int(input('Input size of matrix: '))\n",
    "mat = np.random.randint(-10, 10, (N, N))\n",
    "print(f'Generated matrix:\\n {mat}')\n",
    "det = np.linalg.det(mat)\n",
    "print(f'Matrix determinant: {det:.0f}')\n",
    "if det != 0:\n",
    "    print(f'Inverse matrix:\\n {np.linalg.inv(mat)}')\n",
    "else:\n",
    "    print('Inverse matrix isn\\'t exist')"
   ]
  },
  {
   "cell_type": "code",
   "execution_count": null,
   "id": "ed568289-024b-4de2-b21a-66b5a51bee14",
   "metadata": {},
   "outputs": [],
   "source": []
  }
 ],
 "metadata": {
  "kernelspec": {
   "display_name": "Python 3 (ipykernel)",
   "language": "python",
   "name": "python3"
  },
  "language_info": {
   "codemirror_mode": {
    "name": "ipython",
    "version": 3
   },
   "file_extension": ".py",
   "mimetype": "text/x-python",
   "name": "python",
   "nbconvert_exporter": "python",
   "pygments_lexer": "ipython3",
   "version": "3.12.5"
  }
 },
 "nbformat": 4,
 "nbformat_minor": 5
}
