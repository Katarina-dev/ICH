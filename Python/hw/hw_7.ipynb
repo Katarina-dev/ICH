{
 "cells": [
  {
   "cell_type": "code",
   "execution_count": null,
   "id": "4b01f225-4538-4c67-8819-67a0b17a802f",
   "metadata": {},
   "outputs": [],
   "source": [
    "1. Напишите программу, которая запрашивает у пользователя натуральное десятичное число и выводит его двоичное представление. \n",
    "Реализуйте алгоритм перевода числа в двоичную систему счисления, используя основные концепции представления чисел \n",
    "(подсказка: через деление с остатком). \n",
    "Выведите полученное представление числа на экран."
   ]
  },
  {
   "cell_type": "code",
   "execution_count": 13,
   "id": "c0fa376f-9055-4a5d-b62a-920defb1ddac",
   "metadata": {},
   "outputs": [
    {
     "name": "stdin",
     "output_type": "stream",
     "text": [
      "Enter a natural decimal number: 123\n"
     ]
    },
    {
     "name": "stdout",
     "output_type": "stream",
     "text": [
      "1111011"
     ]
    }
   ],
   "source": [
    "num = int(input('Enter a natural decimal number:'))\n",
    "a = 0\n",
    "b = ''\n",
    "\n",
    "while num != 0:\n",
    "    a = num % 2\n",
    "    num = num // 2\n",
    "    b = str(a) + b\n",
    "print(b, end=\"\")"
   ]
  },
  {
   "cell_type": "code",
   "execution_count": null,
   "id": "0ea6c608-3cf2-46b9-a117-794b59630a87",
   "metadata": {},
   "outputs": [],
   "source": [
    "2. Напишите программу, принимающую число с плавающей точкой и округляющую его до целого числа в соответствии с правилами школьной математики. \n",
    "Использовать модуль math и методы из него нельзя. Учесть, что программа должна корректно работать с отрицательными числами."
   ]
  },
  {
   "cell_type": "code",
   "execution_count": 12,
   "id": "02043d37-99a4-44e4-b365-e43f3faf30ab",
   "metadata": {},
   "outputs": [
    {
     "name": "stdin",
     "output_type": "stream",
     "text": [
      " 0.5\n"
     ]
    },
    {
     "name": "stdout",
     "output_type": "stream",
     "text": [
      "1\n"
     ]
    }
   ],
   "source": [
    "n  = float(input())\n",
    "ad = int()\n",
    "\n",
    "if n <0:\n",
    "    ad = -1\n",
    "else:\n",
    "    ad = 1\n",
    "\n",
    "p1 = int(n)\n",
    "p2 = n - p1\n",
    "\n",
    "if p2 >= 0.5:\n",
    "    p1 += ad\n",
    "    \n",
    "print(p1)\n",
    "    "
   ]
  },
  {
   "cell_type": "code",
   "execution_count": null,
   "id": "834e2666-6f51-41b6-b9d2-d9ebcb9b746c",
   "metadata": {},
   "outputs": [],
   "source": []
  }
 ],
 "metadata": {
  "kernelspec": {
   "display_name": "Python 3 (ipykernel)",
   "language": "python",
   "name": "python3"
  },
  "language_info": {
   "codemirror_mode": {
    "name": "ipython",
    "version": 3
   },
   "file_extension": ".py",
   "mimetype": "text/x-python",
   "name": "python",
   "nbconvert_exporter": "python",
   "pygments_lexer": "ipython3",
   "version": "3.12.5"
  }
 },
 "nbformat": 4,
 "nbformat_minor": 5
}
