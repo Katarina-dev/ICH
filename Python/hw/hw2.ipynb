{
 "cells": [
  {
   "cell_type": "code",
   "execution_count": 1,
   "id": "2876b88f-a94f-4603-b15e-4c53187ffbd5",
   "metadata": {},
   "outputs": [
    {
     "name": "stdin",
     "output_type": "stream",
     "text": [
      "Введите ваше имя:  Алексей\n",
      "Введите ваш возраст:  35\n"
     ]
    },
    {
     "name": "stdout",
     "output_type": "stream",
     "text": [
      "Привет, Алексей! Тебе 35 лет.\n"
     ]
    }
   ],
   "source": [
    "name = input('Введите ваше имя: ')\n",
    "age = input('Введите ваш возраст: ')\n",
    "print('Привет, '+ name + '! Тебе ' + age +' лет.' )"
   ]
  },
  {
   "cell_type": "code",
   "execution_count": null,
   "id": "ccf508e1-1fa1-4bcf-9d3d-817814b0b600",
   "metadata": {},
   "outputs": [],
   "source": []
  }
 ],
 "metadata": {
  "kernelspec": {
   "display_name": "Python 3 (ipykernel)",
   "language": "python",
   "name": "python3"
  },
  "language_info": {
   "codemirror_mode": {
    "name": "ipython",
    "version": 3
   },
   "file_extension": ".py",
   "mimetype": "text/x-python",
   "name": "python",
   "nbconvert_exporter": "python",
   "pygments_lexer": "ipython3",
   "version": "3.12.5"
  }
 },
 "nbformat": 4,
 "nbformat_minor": 5
}
