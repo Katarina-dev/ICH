{
 "cells": [
  {
   "cell_type": "code",
   "execution_count": null,
   "id": "174c5a85-0757-4f9b-af78-c25ed3f7d409",
   "metadata": {},
   "outputs": [],
   "source": [
    "1. Для заданного целого числа N подсчитать количество четных чисел, меньше или\n",
    "равных N."
   ]
  },
  {
   "cell_type": "code",
   "execution_count": 3,
   "id": "c03fae84-76e2-4fb3-bc15-356ef794d40c",
   "metadata": {},
   "outputs": [
    {
     "name": "stdin",
     "output_type": "stream",
     "text": [
      " 12\n"
     ]
    },
    {
     "name": "stdout",
     "output_type": "stream",
     "text": [
      "Всего четных чисел: 6\n"
     ]
    }
   ],
   "source": [
    "n = int(input())\n",
    "count = 0\n",
    "while n > 0:\n",
    "    if n % 2 == 0:\n",
    "        count +=1\n",
    "    n -= 1\n",
    "\n",
    "print('Всего четных чисел:', count)    "
   ]
  },
  {
   "cell_type": "code",
   "execution_count": 5,
   "id": "d787bb98-6e79-4b26-8a07-6c53513096e8",
   "metadata": {},
   "outputs": [
    {
     "name": "stdin",
     "output_type": "stream",
     "text": [
      "n= 6\n"
     ]
    },
    {
     "name": "stdout",
     "output_type": "stream",
     "text": [
      "3\n"
     ]
    }
   ],
   "source": [
    "n = int(input('n='))\n",
    "n = n-1 if n % 2 else n\n",
    "\n",
    "count = 0\n",
    "while n > 0:\n",
    "    count += 1\n",
    "    n -= 2\n",
    "print(count)"
   ]
  },
  {
   "cell_type": "code",
   "execution_count": null,
   "id": "58ff5aac-9d13-42ae-b259-fe6b4a9fb1e5",
   "metadata": {},
   "outputs": [],
   "source": [
    "3. По данному натуральному числу N найдите наибольшую целую степень двойки, не\n",
    "превосходящую N. Выведите показатель степени и саму степень."
   ]
  },
  {
   "cell_type": "code",
   "execution_count": 22,
   "id": "4cc98173-dcf3-455a-a4f2-57209e77ea6b",
   "metadata": {},
   "outputs": [
    {
     "name": "stdin",
     "output_type": "stream",
     "text": [
      " 6\n"
     ]
    },
    {
     "name": "stdout",
     "output_type": "stream",
     "text": [
      "3\n"
     ]
    }
   ],
   "source": [
    "n = int(input())\n",
    "st = 0\n",
    "\n",
    "while 2**st <= n:\n",
    "    st +=1\n",
    "print(st)"
   ]
  },
  {
   "cell_type": "code",
   "execution_count": null,
   "id": "cf67b314-2074-4a54-8ca6-d0944255d435",
   "metadata": {},
   "outputs": [],
   "source": [
    "7. Последовательность состоит из натуральных чисел и завершается числом 0.\n",
    "Определите значение наибольшего элемента последовательности."
   ]
  },
  {
   "cell_type": "code",
   "execution_count": 23,
   "id": "7dc39aa5-593c-4595-a992-0d82db8ba209",
   "metadata": {},
   "outputs": [
    {
     "name": "stdin",
     "output_type": "stream",
     "text": [
      "Введите число (0 для завершения): 67\n",
      "Введите число (0 для завершения): 34\n",
      "Введите число (0 для завершения): 12\n",
      "Введите число (0 для завершения): 7\n",
      "Введите число (0 для завершения): 4\n",
      "Введите число (0 для завершения): 0\n"
     ]
    },
    {
     "name": "stdout",
     "output_type": "stream",
     "text": [
      "Наибольший элемент последовательности: 67\n"
     ]
    }
   ],
   "source": [
    "max_n = 0\n",
    "while True:\n",
    "    n = int(input(\"Введите число (0 для завершения):\"))\n",
    "    if n == 0:\n",
    "        break\n",
    "    if n > max_n:\n",
    "        max_n = n\n",
    "print(\"Наибольший элемент последовательности:\", max_n)"
   ]
  },
  {
   "cell_type": "code",
   "execution_count": null,
   "id": "7ec4e96d-746d-478e-89c2-76515f6c1584",
   "metadata": {},
   "outputs": [],
   "source": [
    "5. Определите сумму всех элементов последовательности, завершающейся числом\n",
    "0. Числа, следующие за первым нулем, учитывать не нужно. Числа считываем с\n",
    "клавиатуры с помощью input()"
   ]
  },
  {
   "cell_type": "code",
   "execution_count": null,
   "id": "d1d8902d-ae91-43f1-82c1-ee4af5d80920",
   "metadata": {},
   "outputs": [],
   "source": [
    "sum = 0\n",
    "while True:\n",
    "    n = int(input))\n",
    "    if n == 0:\n",
    "        break\n",
    "        summa = summa + n\n",
    "print(n)"
   ]
  },
  {
   "cell_type": "code",
   "execution_count": null,
   "id": "3c201a8e-2938-4972-b248-5a59f8aa9c24",
   "metadata": {},
   "outputs": [],
   "source": [
    "#8. Последовательность состоит из натуральных чисел и завершается числом 0.\n",
    "# Определите индекс наибольшего элемента последовательности. Нумерация элементов начинается с нуля."
   ]
  },
  {
   "cell_type": "code",
   "execution_count": null,
   "id": "2b2ae742-701a-446f-8ee7-448ecb1e7c82",
   "metadata": {},
   "outputs": [],
   "source": [
    "max_num = max_index = 0\n",
    "count = 0\n",
    "while True:\n",
    "    num = int(input(\"Input num, 0-exit\"))\n",
    "    if num == 0:\n",
    "        break\n",
    "    max_num = num if num > max_num else max_num\n",
    "    max_index = count\n",
    "    count += 1\n",
    "print (max_num, max_index)"
   ]
  },
  {
   "cell_type": "code",
   "execution_count": null,
   "id": "8b6c6fed-b58c-4d1f-bf29-762843701fad",
   "metadata": {},
   "outputs": [],
   "source": [
    "Напишите скрипт, который выводит целые числа от 1 до 200, используя цикл while. В одной строке необходимо вывести только пять целых чисел.\n",
    "Например:\n",
    "1 2 3 4 5\n",
    "6 7 8 9 10\n",
    "11 12 13 14 15"
   ]
  },
  {
   "cell_type": "code",
   "execution_count": null,
   "id": "7ed95576-fb7c-423b-b785-641130cf734d",
   "metadata": {},
   "outputs": [],
   "source": [
    "n = 1\n",
    "\n",
    "while n <= 200:\n",
    "    print(n, end = \" \")\n",
    "    if n % 5 == 0:\n",
    "        print()\n",
    "    n += 1"
   ]
  },
  {
   "cell_type": "code",
   "execution_count": null,
   "id": "32aa1291-1949-42da-9e40-1743719188c3",
   "metadata": {},
   "outputs": [],
   "source": []
  }
 ],
 "metadata": {
  "kernelspec": {
   "display_name": "Python 3 (ipykernel)",
   "language": "python",
   "name": "python3"
  },
  "language_info": {
   "codemirror_mode": {
    "name": "ipython",
    "version": 3
   },
   "file_extension": ".py",
   "mimetype": "text/x-python",
   "name": "python",
   "nbconvert_exporter": "python",
   "pygments_lexer": "ipython3",
   "version": "3.12.5"
  }
 },
 "nbformat": 4,
 "nbformat_minor": 5
}
