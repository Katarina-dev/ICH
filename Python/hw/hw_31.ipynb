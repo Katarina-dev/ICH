{
 "cells": [
  {
   "cell_type": "code",
   "execution_count": 1,
   "id": "bc069b89-e7f6-4bdc-8319-33524c2e37df",
   "metadata": {},
   "outputs": [
    {
     "name": "stdout",
     "output_type": "stream",
     "text": [
      "Привет, Анна! Тебе 25 лет.\n"
     ]
    },
    {
     "ename": "TypeError",
     "evalue": "Аргумент 25 имеет неправильный тип <class <class 'str'>>. Ожидается <class <class 'int'>>.",
     "output_type": "error",
     "traceback": [
      "\u001b[1;31m---------------------------------------------------------------------------\u001b[0m",
      "\u001b[1;31mTypeError\u001b[0m                                 Traceback (most recent call last)",
      "Cell \u001b[1;32mIn[1], line 21\u001b[0m\n\u001b[0;32m     17\u001b[0m     \u001b[38;5;28mprint\u001b[39m(\u001b[38;5;124mf\u001b[39m\u001b[38;5;124m\"\u001b[39m\u001b[38;5;124mПривет, \u001b[39m\u001b[38;5;132;01m{\u001b[39;00mname\u001b[38;5;132;01m}\u001b[39;00m\u001b[38;5;124m! Тебе \u001b[39m\u001b[38;5;132;01m{\u001b[39;00mage\u001b[38;5;132;01m}\u001b[39;00m\u001b[38;5;124m лет.\u001b[39m\u001b[38;5;124m\"\u001b[39m)\n\u001b[0;32m     20\u001b[0m greet(\u001b[38;5;241m25\u001b[39m, \u001b[38;5;124m\"\u001b[39m\u001b[38;5;124mАнна\u001b[39m\u001b[38;5;124m\"\u001b[39m)  \u001b[38;5;66;03m# Все аргументы имеют правильные типы\u001b[39;00m\n\u001b[1;32m---> 21\u001b[0m \u001b[43mgreet\u001b[49m\u001b[43m(\u001b[49m\u001b[38;5;124;43m\"\u001b[39;49m\u001b[38;5;124;43m25\u001b[39;49m\u001b[38;5;124;43m\"\u001b[39;49m\u001b[43m,\u001b[49m\u001b[43m \u001b[49m\u001b[38;5;124;43m\"\u001b[39;49m\u001b[38;5;124;43mАнна\u001b[39;49m\u001b[38;5;124;43m\"\u001b[39;49m\u001b[43m)\u001b[49m  \u001b[38;5;66;03m# Возникнет исключение TypeError\u001b[39;00m\n",
      "Cell \u001b[1;32mIn[1], line 9\u001b[0m, in \u001b[0;36mvalidate_args.<locals>.decorator.<locals>.wrapper\u001b[1;34m(*args, **kwargs)\u001b[0m\n\u001b[0;32m      7\u001b[0m \u001b[38;5;28;01mfor\u001b[39;00m arg, tested_arg \u001b[38;5;129;01min\u001b[39;00m \u001b[38;5;28mzip\u001b[39m(args, tested_args):\n\u001b[0;32m      8\u001b[0m     \u001b[38;5;28;01mif\u001b[39;00m \u001b[38;5;129;01mnot\u001b[39;00m \u001b[38;5;28misinstance\u001b[39m(arg, tested_arg):\n\u001b[1;32m----> 9\u001b[0m         \u001b[38;5;28;01mraise\u001b[39;00m \u001b[38;5;167;01mTypeError\u001b[39;00m(\u001b[38;5;124mf\u001b[39m\u001b[38;5;124m'\u001b[39m\u001b[38;5;124mАргумент \u001b[39m\u001b[38;5;132;01m{\u001b[39;00marg\u001b[38;5;132;01m}\u001b[39;00m\u001b[38;5;124m имеет неправильный тип <class \u001b[39m\u001b[38;5;132;01m{\u001b[39;00m\u001b[38;5;28mstr\u001b[39m\u001b[38;5;132;01m}\u001b[39;00m\u001b[38;5;124m>. Ожидается <class \u001b[39m\u001b[38;5;132;01m{\u001b[39;00mtested_arg\u001b[38;5;132;01m}\u001b[39;00m\u001b[38;5;124m>.\u001b[39m\u001b[38;5;124m'\u001b[39m)\n\u001b[0;32m     10\u001b[0m \u001b[38;5;28;01mreturn\u001b[39;00m func(\u001b[38;5;241m*\u001b[39margs, \u001b[38;5;241m*\u001b[39m\u001b[38;5;241m*\u001b[39mkwargs)\n",
      "\u001b[1;31mTypeError\u001b[0m: Аргумент 25 имеет неправильный тип <class <class 'str'>>. Ожидается <class <class 'int'>>."
     ]
    }
   ],
   "source": [
    "# 1. Напишите декоратор validate_args, который будет проверять типы аргументов функции и выводить сообщение об ошибке, если переданы аргументы \n",
    "# неправильного типа. Декоратор должен принимать ожидаемые типы аргументов в качестве параметров.\n",
    "\n",
    "def validate_args(*tested_args):\n",
    "    def decorator(func):\n",
    "        def wrapper(*args, **kwargs):\n",
    "            for arg, tested_arg in zip(args, tested_args):\n",
    "                if not isinstance(arg, tested_arg):\n",
    "                    raise TypeError(f'Аргумент {arg} имеет неправильный тип <class {str}>. Ожидается <class {tested_arg}>.')\n",
    "            return func(*args, **kwargs)\n",
    "        return wrapper\n",
    "    return decorator\n",
    "\n",
    "\n",
    "@validate_args(int, str)\n",
    "def greet(age, name):\n",
    "    print(f\"Привет, {name}! Тебе {age} лет.\")\n",
    "\n",
    "\n",
    "greet(25, \"Анна\")  # Все аргументы имеют правильные типы\n",
    "greet(\"25\", \"Анна\")  # Возникнет исключение TypeError"
   ]
  },
  {
   "cell_type": "code",
   "execution_count": 2,
   "id": "64c7c95a-9d04-4416-b9fb-8509d6cd60ac",
   "metadata": {},
   "outputs": [
    {
     "data": {
      "text/plain": [
       "12"
      ]
     },
     "execution_count": 2,
     "metadata": {},
     "output_type": "execute_result"
    }
   ],
   "source": [
    "# 2. Напишите декоратор log_args, который будет записывать аргументы и результаты вызовов функции в лог-файл.\n",
    "# Каждый вызов функции должен быть записан на новой строке в формате \"Аргументы: <аргументы>, Результат: <результат>\". \n",
    "# Используйте модуль logging для записи в лог-файл.\n",
    "\n",
    "import logging\n",
    "\n",
    "logging.basicConfig(\n",
    "            filename='add.log',  # Имя файла для логов\n",
    "            filemode='a',  # Режим записи: 'a' - добавление, 'w' - перезапись\n",
    "            level=logging.INFO,  # Уровень логирования (INFO, DEBUG, WARNING и т.д.)\n",
    "            format='%(asctime)s - %(levelname)s - %(message)s'  # Формат сообщения\n",
    "        )\n",
    "\n",
    "def log_args(func):\n",
    "    def wrapper(*args, **kwargs):\n",
    "        res = func(*args, **kwargs)\n",
    "        log_text = f'Аргументы: {args}, Результат: {res}'\n",
    "        logging.info(log_text)\n",
    "        return res\n",
    "    return wrapper\n",
    "\n",
    "@log_args\n",
    "def add(a, b):\n",
    "    return a + b\n",
    "\n",
    "add(2, 3)\n",
    "add(5, 7)"
   ]
  },
  {
   "cell_type": "code",
   "execution_count": null,
   "id": "a08e3e1e-d7d8-4522-b9ff-ce4eaa21debd",
   "metadata": {},
   "outputs": [],
   "source": []
  }
 ],
 "metadata": {
  "kernelspec": {
   "display_name": "Python 3 (ipykernel)",
   "language": "python",
   "name": "python3"
  },
  "language_info": {
   "codemirror_mode": {
    "name": "ipython",
    "version": 3
   },
   "file_extension": ".py",
   "mimetype": "text/x-python",
   "name": "python",
   "nbconvert_exporter": "python",
   "pygments_lexer": "ipython3",
   "version": "3.12.5"
  }
 },
 "nbformat": 4,
 "nbformat_minor": 5
}
