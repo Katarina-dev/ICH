{
 "cells": [
  {
   "cell_type": "code",
   "execution_count": null,
   "id": "db550d81-32cc-4182-960c-81e2cd67957e",
   "metadata": {},
   "outputs": [],
   "source": [
    "#Функции для измерения времения выполнения функций\n",
    "\n",
    "from timeit import timeit\n",
    "\n",
    "setup=\"\"\"\n",
    "x = [i for i in range(1_000_000)]\n",
    "\"\"\"\n",
    "\n",
    "stmt1 = \"\"\"\n",
    "y = sorted(x)\n",
    "\"\"\"\n",
    "\n",
    "print(timeit(stmt1, number=1, setup=setup))"
   ]
  }
 ],
 "metadata": {
  "kernelspec": {
   "display_name": "Python 3 (ipykernel)",
   "language": "python",
   "name": "python3"
  },
  "language_info": {
   "codemirror_mode": {
    "name": "ipython",
    "version": 3
   },
   "file_extension": ".py",
   "mimetype": "text/x-python",
   "name": "python",
   "nbconvert_exporter": "python",
   "pygments_lexer": "ipython3",
   "version": "3.12.5"
  }
 },
 "nbformat": 4,
 "nbformat_minor": 5
}
