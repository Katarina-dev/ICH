{
 "cells": [
  {
   "cell_type": "code",
   "execution_count": null,
   "id": "8dc8a7c4-c123-4da9-98be-9a8621d04236",
   "metadata": {},
   "outputs": [],
   "source": [
    "1. Сложение двух массивов:\n",
    "\n",
    "   Напишите программу, которая:\n",
    "\n",
    "   - Запрашивает у пользователя ввод двух одномерных массивов одинаковой длины. Массивы вводятся в виде чисел, разделенных пробелами.\n",
    "\n",
    "   - Преобразует введенные строки в массивы NumPy.\n",
    "\n",
    "   - Складывает два массива поэлементно.\n",
    "\n",
    "   - Выводит результат сложения на экран.\n"
   ]
  },
  {
   "cell_type": "code",
   "execution_count": 1,
   "id": "6c40e539-3fe5-4423-8db0-969b4abcc582",
   "metadata": {},
   "outputs": [
    {
     "name": "stdin",
     "output_type": "stream",
     "text": [
      " 1 2 3 4\n",
      " 5 6 7 8\n"
     ]
    },
    {
     "name": "stdout",
     "output_type": "stream",
     "text": [
      "[1 2 3 4] [5 6 7 8]\n",
      "[ 6  8 10 12]\n"
     ]
    }
   ],
   "source": [
    "import numpy as np\n",
    "\n",
    "n = list(map(int, input().split()))\n",
    "m = list(map(int, input().split()))\n",
    "\n",
    "first_array = np.array(n)\n",
    "second_array = np.array(m)\n",
    "print(first_array, second_array)\n",
    "print(first_array + second_array)\n",
    "\n"
   ]
  },
  {
   "cell_type": "code",
   "execution_count": null,
   "id": "f40a2d3d-5668-4e18-934f-fb5d7077e740",
   "metadata": {},
   "outputs": [],
   "source": [
    "2. Поэлементное умножение массивов:\n",
    "\n",
    "   Напишите программу, которая:\n",
    "\n",
    "   - Запрашивает у пользователя размер массивов N.\n",
    "\n",
    "   - Генерирует два одномерных массива длины N с случайными целыми числами от 1 до 10.\n",
    "\n",
    "   - Выводит оба сгенерированных массива на экран.\n",
    "\n",
    "   - Выполняет поэлементное умножение массивов.\n",
    "\n",
    "   - Выводит результат умножения на экран.\n"
   ]
  },
  {
   "cell_type": "code",
   "execution_count": 3,
   "id": "9ca678bd-7412-4a89-a60c-40c73d8b99eb",
   "metadata": {},
   "outputs": [
    {
     "name": "stdin",
     "output_type": "stream",
     "text": [
      " 3\n"
     ]
    },
    {
     "name": "stdout",
     "output_type": "stream",
     "text": [
      "[6 7 1] [9 3 5]\n",
      "[54 21  5]\n"
     ]
    }
   ],
   "source": [
    "import random as rd\n",
    "\n",
    "n = int(input())\n",
    "first_list = [int(rd.uniform(1, 10)) for i in range(n)]\n",
    "second_list = [int(rd.uniform(1, 10)) for i in range(n)]\n",
    "\n",
    "first_array = np.array(first_list)\n",
    "second_array = np.array(second_list)\n",
    "print(first_array, second_array)\n",
    "print(first_array * second_array)"
   ]
  },
  {
   "cell_type": "code",
   "execution_count": null,
   "id": "18926830-eac7-433f-b658-d9311f754ec5",
   "metadata": {},
   "outputs": [],
   "source": [
    "3. Создание и модификация массива:\n",
    "\n",
    "   Напишите программу, которая:\n",
    "\n",
    "   - Запрашивает у пользователя количество элементов массива N.\n",
    "\n",
    "   - Генерирует одномерный массив длины N, заполненный случайными числами от 0 до 100.\n",
    "\n",
    "   - Выводит сгенерированный массив на экран.\n",
    "\n",
    "   - Запрашивает у пользователя число X.\n",
    "\n",
    "   - Умножает каждый элемент массива на число X.\n",
    "\n",
    "   - Выводит измененный массив на экран.\n"
   ]
  },
  {
   "cell_type": "code",
   "execution_count": 4,
   "id": "9fd8e347-54c5-44fb-bf21-a73df268641c",
   "metadata": {},
   "outputs": [
    {
     "name": "stdin",
     "output_type": "stream",
     "text": [
      "Input num of array:  4\n"
     ]
    },
    {
     "name": "stdout",
     "output_type": "stream",
     "text": [
      "[77 61  0 36]\n"
     ]
    },
    {
     "name": "stdin",
     "output_type": "stream",
     "text": [
      "Input number for multiplication:  2\n"
     ]
    },
    {
     "name": "stdout",
     "output_type": "stream",
     "text": [
      "[154 122   0  72]\n"
     ]
    }
   ],
   "source": [
    "n = int(input('Input num of array: '))\n",
    "my_list = [rd.randint(0, 100) for i in range(n)]\n",
    "my_array = np.array(my_list)\n",
    "print(my_array)\n",
    "x = int(input('Input number for multiplication: '))\n",
    "print(x * my_array)\n"
   ]
  },
  {
   "cell_type": "code",
   "execution_count": null,
   "id": "465b7a66-7812-4616-9a96-f768fcc190db",
   "metadata": {},
   "outputs": [],
   "source": []
  }
 ],
 "metadata": {
  "kernelspec": {
   "display_name": "Python 3 (ipykernel)",
   "language": "python",
   "name": "python3"
  },
  "language_info": {
   "codemirror_mode": {
    "name": "ipython",
    "version": 3
   },
   "file_extension": ".py",
   "mimetype": "text/x-python",
   "name": "python",
   "nbconvert_exporter": "python",
   "pygments_lexer": "ipython3",
   "version": "3.12.5"
  }
 },
 "nbformat": 4,
 "nbformat_minor": 5
}
