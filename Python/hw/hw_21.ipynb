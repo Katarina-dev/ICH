{
 "cells": [
  {
   "cell_type": "code",
   "execution_count": null,
   "id": "65928fa8-7171-4de3-a3f8-77ee4588c15c",
   "metadata": {},
   "outputs": [],
   "source": [
    "1. Напишите программу, которая подсчитывает количество вхождений каждого слова в тексте и выводит на экран наиболее часто встречающиеся слова. Для решения задачи используйте класс Counter из модуля \n",
    "collections. Создайте функцию count_words, которая принимает текст в качестве аргумента и возвращает словарь с количеством вхождений каждого слова. Выведите наиболее часто встречающиеся слова и их количество."
   ]
  },
  {
   "cell_type": "code",
   "execution_count": null,
   "id": "2174e5b9-b076-4e79-8d2f-12be885d0a5b",
   "metadata": {},
   "outputs": [],
   "source": [
    "from collections import Counter\n",
    "\n",
    "def count_words(text):\n",
    "    sentence = text.lower().split()\n",
    "    word_cnt = Counter(sentence)\n",
    "    max_cnt = max(word_cnt.values())\n",
    "    \n",
    "    for word, cnt in word_cnt.items():\n",
    "        if cnt == max_cnt:\n",
    "            print(f'{word}: {cnt}')\n",
    "         \n",
    "    return max_cnt\n",
    "\n",
    "user_text = input('Введите текст: ')\n",
    "count_words(user_text)"
   ]
  },
  {
   "cell_type": "code",
   "execution_count": null,
   "id": "ad6f2be1-eb21-45e6-83fa-a59dde8643ef",
   "metadata": {},
   "outputs": [],
   "source": [
    "2. Напишите программу, которая создает именованный кортеж Person для хранения информации о человеке, включающий поля name, age и city. \n",
    "Создайте список объектов Person и выведите информацию о каждом человеке на экран."
   ]
  },
  {
   "cell_type": "code",
   "execution_count": null,
   "id": "5f7e8bbe-aa62-4704-968e-d9ed2a223f5c",
   "metadata": {},
   "outputs": [],
   "source": [
    "from collections import namedtuple\n",
    "\n",
    "Person = namedtuple('Person', ['name', 'age', 'city'])\n",
    "\n",
    "person1 = Person(name='Alice', age='25', city='New York')\n",
    "person2 = Person(name='Bob', age='30', city='London')\n",
    "person3 = Person(name='Carol', age='35', city='Paris')\n",
    "print(f'Name: {person1.name}, Age: {person1.age}, City: {person1.city}')\n",
    "print(f'Name: {person2.name}, Age: {person2.age}, City: {person2.city}')\n",
    "print(f'Name: {person3.name}, Age: {person3.age}, City: {person3.city}')"
   ]
  },
  {
   "cell_type": "code",
   "execution_count": null,
   "id": "0bc95475-0748-4aa0-b2a8-8f1b563644ce",
   "metadata": {},
   "outputs": [],
   "source": [
    "3. Напишите программу, которая принимает словарь от пользователя и ключ, и возвращает значение для указанного ключа с использованием метода get или setdefault. \n",
    "Создайте функцию get_value_from_dict, которая принимает словарь и ключ в качестве аргументов, и возвращает значение для указанного ключа, используя метод get\n",
    "или setdefault в зависимости от выбранного варианта. Выведите полученное значение на экран."
   ]
  },
  {
   "cell_type": "code",
   "execution_count": null,
   "id": "0b4e3254-d02e-4bfe-9c5f-debf40ee1303",
   "metadata": {},
   "outputs": [],
   "source": [
    "def get_value_from_dict(fruits, key_f):\n",
    "    g = input('Использовать метод get (y/n)? ')\n",
    "    if g == 'y':\n",
    "        return fruits.get(key_f, 'No key')\n",
    "    else:\n",
    "        return fruits.setdefault(key_f, '6')\n",
    "\n",
    "my_dict = {'apple': 5, 'banana': 6, 'cherry': 7}\n",
    "search_key = input('Введите ключ для поиска: ')\n",
    "res = get_value_from_dict(my_dict, search_key)\n",
    "print(f'Значение для ключа {search_key}: {res}')"
   ]
  }
 ],
 "metadata": {
  "kernelspec": {
   "display_name": "Python 3 (ipykernel)",
   "language": "python",
   "name": "python3"
  },
  "language_info": {
   "codemirror_mode": {
    "name": "ipython",
    "version": 3
   },
   "file_extension": ".py",
   "mimetype": "text/x-python",
   "name": "python",
   "nbconvert_exporter": "python",
   "pygments_lexer": "ipython3",
   "version": "3.12.5"
  }
 },
 "nbformat": 4,
 "nbformat_minor": 5
}
