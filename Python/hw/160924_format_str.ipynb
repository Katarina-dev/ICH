{
 "cells": [
  {
   "cell_type": "code",
   "execution_count": 1,
   "id": "ad383ed3-b93a-42e6-bdb2-283461088a55",
   "metadata": {},
   "outputs": [
    {
     "name": "stdin",
     "output_type": "stream",
     "text": [
      "name Alex\n",
      "age 30\n"
     ]
    },
    {
     "name": "stdout",
     "output_type": "stream",
     "text": [
      "Hello, Alex! You are 30 years old\n"
     ]
    }
   ],
   "source": [
    "template = 'Hello, {name}! You are {age} years old'\n",
    "name = input('name')\n",
    "age = int(input('age'))\n",
    "print(template.format(name = name, age = age))"
   ]
  },
  {
   "cell_type": "code",
   "execution_count": 4,
   "id": "144cff20-4a8c-4b75-bad0-87f46cb7efa7",
   "metadata": {},
   "outputs": [
    {
     "name": "stdout",
     "output_type": "stream",
     "text": [
      "Hello, Alex! You are 30 years old\n"
     ]
    }
   ],
   "source": [
    "print(\"Hello, %s! You are %d years old\"% (name, age))"
   ]
  },
  {
   "cell_type": "code",
   "execution_count": 6,
   "id": "11ae76d0-3e6c-40e9-a66d-7990233ff46f",
   "metadata": {},
   "outputs": [
    {
     "name": "stdout",
     "output_type": "stream",
     "text": [
      "Hello, Alex. You are 30 years old\n"
     ]
    }
   ],
   "source": [
    "print(f'Hello, {name}. You are {age} years old')"
   ]
  },
  {
   "cell_type": "code",
   "execution_count": null,
   "id": "1669687b-bfe8-4e8c-8814-0fc23c89d449",
   "metadata": {},
   "outputs": [
    {
     "name": "stdin",
     "output_type": "stream",
     "text": [
      "Nme>> k\n",
      "Surname>> l\n",
      "M/F M\n",
      "Age>> 90\n"
     ]
    },
    {
     "name": "stdout",
     "output_type": "stream",
     "text": [
      "k l\n"
     ]
    },
    {
     "name": "stdin",
     "output_type": "stream",
     "text": [
      "Nme>> Ni\n",
      "Surname>> Ka\n",
      "M/F M\n"
     ]
    }
   ],
   "source": [
    "male_count = 0\n",
    "female_count = 0\n",
    "\n",
    "age_men = 0\n",
    "age_women = 0\n",
    "\n",
    "template = 'Avg age of your sex is {avg_age}'\n",
    "\n",
    "while True:\n",
    "    first_name = input('Name>>').strip().title()\n",
    "    last_name = input('Surname>>').strip().title()\n",
    "    sex = input('M/F>>').strip().upper()\n",
    "    age = int(input('Age>>'))\n",
    "    print(f'{first_name} {last_name}.')\n",
    "    if sex == 'M':\n",
    "        male_count += 1\n",
    "        age_men += age\n",
    "        print(template.format(avg_age = age_men / male_count))\n",
    "    elif sex == 'F':\n",
    "        female_count += 1\n",
    "        age_women += age\n",
    "        print(template.format(avg_age = age_women / female_count))\n",
    "\n",
    "    ans = input('Exit (Y/N)>>').strip().upper()\n",
    "    if ans == 'Y':\n",
    "        break\n"
   ]
  },
  {
   "cell_type": "code",
   "execution_count": null,
   "id": "b8125b87-715c-4d6c-b0dd-fda09411b3b3",
   "metadata": {},
   "outputs": [],
   "source": []
  }
 ],
 "metadata": {
  "kernelspec": {
   "display_name": "Python 3 (ipykernel)",
   "language": "python",
   "name": "python3"
  },
  "language_info": {
   "codemirror_mode": {
    "name": "ipython",
    "version": 3
   },
   "file_extension": ".py",
   "mimetype": "text/x-python",
   "name": "python",
   "nbconvert_exporter": "python",
   "pygments_lexer": "ipython3",
   "version": "3.12.5"
  }
 },
 "nbformat": 4,
 "nbformat_minor": 5
}
