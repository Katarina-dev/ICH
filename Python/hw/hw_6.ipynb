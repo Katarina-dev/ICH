{
 "cells": [
  {
   "cell_type": "code",
   "execution_count": null,
   "id": "b27317c4-5165-4462-b359-599201e59114",
   "metadata": {},
   "outputs": [],
   "source": [
    "1. Напишите программу, которая генерирует случайное число от 1 до 100, а затем предлагает пользователю угадать это число. \n",
    "Если пользователь угадывает число, программа выводит сообщение о победе. \n",
    "Если пользователь не угадывает число, программа сообщает, больше или меньше загаданное число и предлагает попробовать снова. \n",
    "Используйте цикл с инструкцией break, чтобы остановить выполнение цикла, когда число угадано."
   ]
  },
  {
   "cell_type": "code",
   "execution_count": 9,
   "id": "754890a9-7a54-4fd9-b0f5-840c006fb814",
   "metadata": {},
   "outputs": [
    {
     "name": "stdout",
     "output_type": "stream",
     "text": [
      "95\n"
     ]
    },
    {
     "name": "stdin",
     "output_type": "stream",
     "text": [
      "Введите число от 1 до 100 45\n"
     ]
    },
    {
     "name": "stdout",
     "output_type": "stream",
     "text": [
      "Загаданное число больше.\n"
     ]
    },
    {
     "name": "stdin",
     "output_type": "stream",
     "text": [
      "Попробуйте снова: 98\n"
     ]
    },
    {
     "name": "stdout",
     "output_type": "stream",
     "text": [
      "Загаданное число меньше.\n"
     ]
    },
    {
     "name": "stdin",
     "output_type": "stream",
     "text": [
      "Попробуйте снова: 97\n"
     ]
    },
    {
     "name": "stdout",
     "output_type": "stream",
     "text": [
      "Загаданное число меньше.\n"
     ]
    },
    {
     "name": "stdin",
     "output_type": "stream",
     "text": [
      "Попробуйте снова: 94\n"
     ]
    },
    {
     "name": "stdout",
     "output_type": "stream",
     "text": [
      "Загаданное число больше.\n"
     ]
    },
    {
     "name": "stdin",
     "output_type": "stream",
     "text": [
      "Попробуйте снова: 95\n"
     ]
    },
    {
     "name": "stdout",
     "output_type": "stream",
     "text": [
      "Поздравляю! Вы угадали число 95\n"
     ]
    }
   ],
   "source": [
    "import random\n",
    "\n",
    "x = random.randint(1, 100)\n",
    "user = int(input('Введите число от 1 до 100:'))\n",
    "while x != user:\n",
    "    if x > user:\n",
    "        print(\"Загаданное число больше.\")\n",
    "        user = int(input('Попробуйте снова:'))\n",
    "    elif x < user:\n",
    "        print(\"Загаданное число меньше.\")\n",
    "        user = int(input('Попробуйте снова:'))\n",
    "    else:\n",
    "        break\n",
    "    \n",
    "print(f'Поздравляю! Вы угадали число {x}')\n"
   ]
  },
  {
   "cell_type": "code",
   "execution_count": null,
   "id": "674d615e-2220-4694-8f38-7b7d728baf19",
   "metadata": {},
   "outputs": [],
   "source": [
    "2. Напишите программу, которая запрашивает у пользователя число N и выводит первые N чисел Фибоначчи. \n",
    "Числа Фибоначчи - это последовательность чисел, где каждое следующее число является суммой двух предыдущих чисел (начиная с 0 и 1). \n",
    "Используйте цикл while для решения задачи. Выведите числа через запятую с помощью команды print."
   ]
  },
  {
   "cell_type": "code",
   "execution_count": 6,
   "id": "71af2a4e-f427-4f15-a11c-e3d3955ec22f",
   "metadata": {},
   "outputs": [
    {
     "name": "stdin",
     "output_type": "stream",
     "text": [
      "Введите число: 7\n"
     ]
    },
    {
     "name": "stdout",
     "output_type": "stream",
     "text": [
      "0, 1, 1, 2, 3, 5, 8, "
     ]
    }
   ],
   "source": [
    "n = int(input('Введите число:'))\n",
    "f1 = 0\n",
    "f2 = 1\n",
    "count = 0\n",
    "\n",
    "while count < n:\n",
    "    print(f1, end=\", \")\n",
    "    num = f1 + f2\n",
    "    f1 = f2\n",
    "    f2 = num\n",
    "    count += 1"
   ]
  },
  {
   "cell_type": "code",
   "execution_count": null,
   "id": "56de71b8-3921-4f52-9456-0788a3cf083a",
   "metadata": {},
   "outputs": [],
   "source": [
    "3. Напишите программу, которая запрашивает у пользователя целое положительное число и проверяет, является ли оно простым.\n",
    "Простое число - это число, которое делится только на 1 и на само себя без остатка. \n",
    "Используйте цикл while и проверку деления числа на все числа от 2 до N-1 для решения задачи. Выведите соответствующее сообщение на экран с помощью команды print."
   ]
  },
  {
   "cell_type": "code",
   "execution_count": 1,
   "id": "be457f06-ed00-49b9-99c8-3cf99b7c1e27",
   "metadata": {},
   "outputs": [
    {
     "name": "stdin",
     "output_type": "stream",
     "text": [
      "Введите целое положительное число: 17\n"
     ]
    },
    {
     "name": "stdout",
     "output_type": "stream",
     "text": [
      "simple\n"
     ]
    }
   ],
   "source": [
    "n = int(input('Введите целое положительное число:'))\n",
    "count = 2\n",
    "\n",
    "while count < n:\n",
    "    if not n % count:\n",
    "        print('not simple')\n",
    "        break\n",
    "    count += 1\n",
    "else:\n",
    "        print('simple') "
   ]
  },
  {
   "cell_type": "code",
   "execution_count": null,
   "id": "6194a572-0809-4f30-b31b-64805cc94c3d",
   "metadata": {},
   "outputs": [],
   "source": []
  }
 ],
 "metadata": {
  "kernelspec": {
   "display_name": "Python 3 (ipykernel)",
   "language": "python",
   "name": "python3"
  },
  "language_info": {
   "codemirror_mode": {
    "name": "ipython",
    "version": 3
   },
   "file_extension": ".py",
   "mimetype": "text/x-python",
   "name": "python",
   "nbconvert_exporter": "python",
   "pygments_lexer": "ipython3",
   "version": "3.12.5"
  }
 },
 "nbformat": 4,
 "nbformat_minor": 5
}
