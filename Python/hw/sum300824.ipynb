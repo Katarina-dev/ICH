{
 "cells": [
  {
   "cell_type": "code",
   "execution_count": 1,
   "id": "dcca8c4b-623b-4e5d-bf65-383e1cf9bf82",
   "metadata": {},
   "outputs": [
    {
     "name": "stdin",
     "output_type": "stream",
     "text": [
      "a= 3\n",
      "a= 5\n",
      "a= 1\n"
     ]
    },
    {
     "name": "stdout",
     "output_type": "stream",
     "text": [
      "1 3 5\n"
     ]
    }
   ],
   "source": [
    "a, b, c = int(input('a=')), int(input('a=')), int(input('a='))\n",
    "if a > b:\n",
    "    a, b = b, a\n",
    "if b > c:\n",
    "    b, c = c, b\n",
    "if a > b:\n",
    "    a, b = b, a\n",
    "print(a, b, c)"
   ]
  },
  {
   "cell_type": "code",
   "execution_count": 2,
   "id": "c3d8dd4b-ed96-49f4-95a8-78f1121d401c",
   "metadata": {},
   "outputs": [
    {
     "name": "stdin",
     "output_type": "stream",
     "text": [
      "year 2024\n"
     ]
    },
    {
     "name": "stdout",
     "output_type": "stream",
     "text": [
      "Leap Year\n"
     ]
    }
   ],
   "source": [
    "year = int(input('year'))\n",
    "\n",
    "\n",
    "res = 'Leap Year' if year % 4 == 0 and year % 100 or year % 400 == 0 else 'Not Leap Year'\n",
    "print(res)"
   ]
  },
  {
   "cell_type": "code",
   "execution_count": null,
   "id": "4b5ba9aa-e507-44ce-8ab6-a8b49958bdd1",
   "metadata": {},
   "outputs": [],
   "source": []
  }
 ],
 "metadata": {
  "kernelspec": {
   "display_name": "Python 3 (ipykernel)",
   "language": "python",
   "name": "python3"
  },
  "language_info": {
   "codemirror_mode": {
    "name": "ipython",
    "version": 3
   },
   "file_extension": ".py",
   "mimetype": "text/x-python",
   "name": "python",
   "nbconvert_exporter": "python",
   "pygments_lexer": "ipython3",
   "version": "3.12.5"
  }
 },
 "nbformat": 4,
 "nbformat_minor": 5
}
