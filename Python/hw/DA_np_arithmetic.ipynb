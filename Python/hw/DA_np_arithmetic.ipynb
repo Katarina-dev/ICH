{
 "cells": [
  {
   "cell_type": "code",
   "execution_count": 2,
   "id": "8be4387b-716a-4da8-8aad-7b9577d90931",
   "metadata": {},
   "outputs": [
    {
     "name": "stdout",
     "output_type": "stream",
     "text": [
      "[[1, 2, 3], [4, 5, 6], [1, 2, 3], [4, 5, 6]]\n",
      "[[1, 2, 3], [4, 5, 6], [1, 2, 3], [4, 5, 6]]\n"
     ]
    }
   ],
   "source": [
    "two_d_list = [[1, 2, 3], [4, 5, 6]]\n",
    "# Сложение списков\n",
    "print(two_d_list + two_d_list)\n",
    "# Умножение списка на число\n",
    "print(two_d_list * 2)"
   ]
  },
  {
   "cell_type": "code",
   "execution_count": 6,
   "id": "86c3e0d7-832d-48c1-b753-1fe0a606153c",
   "metadata": {},
   "outputs": [
    {
     "name": "stdout",
     "output_type": "stream",
     "text": [
      "[[ 2  4  6]\n",
      " [ 8 10 12]]\n",
      "[[ 1  4  9]\n",
      " [16 25 36]]\n",
      "[[ 5 10 15]\n",
      " [20 25 30]]\n"
     ]
    }
   ],
   "source": [
    "import numpy as np\n",
    "two_d_array = np.array([[1, 2, 3], [4, 5, 6]])\n",
    "# Сложение массивов\n",
    "print(two_d_array + two_d_array)\n",
    "# Умножение массивов. Когда умножаем на один и тот же массив, то по сути возводим в квадрат каждый элемент\n",
    "print(two_d_array * two_d_array)\n",
    "# Умножение массива на число – каждое число в массиве умножится на это число\n",
    "print(two_d_array * 5)"
   ]
  },
  {
   "cell_type": "code",
   "execution_count": 7,
   "id": "3b74c639-5f33-4105-b8ef-12442d1518b1",
   "metadata": {},
   "outputs": [
    {
     "ename": "ValueError",
     "evalue": "operands could not be broadcast together with shapes (2,3) (2,2) ",
     "output_type": "error",
     "traceback": [
      "\u001b[1;31m---------------------------------------------------------------------------\u001b[0m",
      "\u001b[1;31mValueError\u001b[0m                                Traceback (most recent call last)",
      "Cell \u001b[1;32mIn[7], line 2\u001b[0m\n\u001b[0;32m      1\u001b[0m square \u001b[38;5;241m=\u001b[39m np\u001b[38;5;241m.\u001b[39marray([[\u001b[38;5;241m1\u001b[39m, \u001b[38;5;241m2\u001b[39m], [\u001b[38;5;241m4\u001b[39m, \u001b[38;5;241m5\u001b[39m]])\n\u001b[1;32m----> 2\u001b[0m \u001b[43mtwo_d_array\u001b[49m\u001b[43m \u001b[49m\u001b[38;5;241;43m+\u001b[39;49m\u001b[43m \u001b[49m\u001b[43msquare\u001b[49m\n\u001b[0;32m      3\u001b[0m \u001b[38;5;66;03m# не получится сложить,т.к. разные размеры массивов\u001b[39;00m\n",
      "\u001b[1;31mValueError\u001b[0m: operands could not be broadcast together with shapes (2,3) (2,2) "
     ]
    }
   ],
   "source": [
    "square = np.array([[1, 2], [4, 5]])\n",
    "two_d_array + square\n",
    "# не получится сложить,т.к. разные размеры массивов. Определяем параметр shape, он должен быть одинаковым"
   ]
  },
  {
   "cell_type": "code",
   "execution_count": 8,
   "id": "32e88f49-536f-4512-a2d4-07a25acb5551",
   "metadata": {},
   "outputs": [
    {
     "data": {
      "text/plain": [
       "array([[ 2,  4, 11],\n",
       "       [ 8, 10, 15]])"
      ]
     },
     "execution_count": 8,
     "metadata": {},
     "output_type": "execute_result"
    }
   ],
   "source": [
    "square = np.array([[1, 2, 8], [4, 5, 9]])\n",
    "two_d_array + square"
   ]
  },
  {
   "cell_type": "code",
   "execution_count": 9,
   "id": "51a62a51-7663-4a48-a465-2efc0ab2ef8f",
   "metadata": {},
   "outputs": [
    {
     "data": {
      "text/plain": [
       "array([[False, False,  True],\n",
       "       [False, False,  True]])"
      ]
     },
     "execution_count": 9,
     "metadata": {},
     "output_type": "execute_result"
    }
   ],
   "source": [
    "square = np.array([[1, 2, 8], [4, 5, 9]])\n",
    "two_d_array < square"
   ]
  },
  {
   "cell_type": "code",
   "execution_count": 11,
   "id": "c1b80375-ee77-4ca3-8ffd-31c8e2a3458a",
   "metadata": {},
   "outputs": [
    {
     "data": {
      "text/plain": [
       "array([[False, False,  True],\n",
       "       [False, False,  True]])"
      ]
     },
     "execution_count": 11,
     "metadata": {},
     "output_type": "execute_result"
    }
   ],
   "source": [
    "square = np.array([[1, 2, 8], [4, 5, 9]])\n",
    "bool_ar = two_d_array < square\n",
    "bool_ar\n",
    "#массивы работают поэлементно!"
   ]
  },
  {
   "cell_type": "code",
   "execution_count": 13,
   "id": "68e3f613-6f96-4644-ac29-87be28b2f420",
   "metadata": {},
   "outputs": [
    {
     "data": {
      "text/plain": [
       "np.False_"
      ]
     },
     "execution_count": 13,
     "metadata": {},
     "output_type": "execute_result"
    }
   ],
   "source": [
    "square = np.array([[1, 2, 8], [4, 5, 9]])\n",
    "np.any(two_d_array > square)"
   ]
  },
  {
   "cell_type": "code",
   "execution_count": 14,
   "id": "ea808e14-abc4-4a0a-92a3-a4085d322288",
   "metadata": {},
   "outputs": [
    {
     "name": "stdout",
     "output_type": "stream",
     "text": [
      "[[11 22 33]\n",
      " [14 25 36]]\n"
     ]
    }
   ],
   "source": [
    "#Расширение размерности\n",
    "one_d_array = np.array([10, 20, 30])\n",
    "two_d_array = np.array([[1, 2, 3], [4, 5, 6]])\n",
    "print(one_d_array + two_d_array)\n"
   ]
  },
  {
   "cell_type": "code",
   "execution_count": 15,
   "id": "e6f90e54-0294-4c96-b827-71e42f867470",
   "metadata": {},
   "outputs": [
    {
     "ename": "ValueError",
     "evalue": "operands could not be broadcast together with shapes (4,) (2,3) ",
     "output_type": "error",
     "traceback": [
      "\u001b[1;31m---------------------------------------------------------------------------\u001b[0m",
      "\u001b[1;31mValueError\u001b[0m                                Traceback (most recent call last)",
      "Cell \u001b[1;32mIn[15], line 3\u001b[0m\n\u001b[0;32m      1\u001b[0m one_d_array \u001b[38;5;241m=\u001b[39m np\u001b[38;5;241m.\u001b[39marray([\u001b[38;5;241m10\u001b[39m, \u001b[38;5;241m20\u001b[39m, \u001b[38;5;241m30\u001b[39m, \u001b[38;5;241m40\u001b[39m])\n\u001b[0;32m      2\u001b[0m two_d_array \u001b[38;5;241m=\u001b[39m np\u001b[38;5;241m.\u001b[39marray([[\u001b[38;5;241m1\u001b[39m, \u001b[38;5;241m2\u001b[39m, \u001b[38;5;241m3\u001b[39m], [\u001b[38;5;241m4\u001b[39m, \u001b[38;5;241m5\u001b[39m, \u001b[38;5;241m6\u001b[39m]])\n\u001b[1;32m----> 3\u001b[0m \u001b[38;5;28mprint\u001b[39m(\u001b[43mone_d_array\u001b[49m\u001b[43m \u001b[49m\u001b[38;5;241;43m+\u001b[39;49m\u001b[43m \u001b[49m\u001b[43mtwo_d_array\u001b[49m)\n\u001b[0;32m      4\u001b[0m \u001b[38;5;66;03m#так не получится растянуть\u001b[39;00m\n",
      "\u001b[1;31mValueError\u001b[0m: operands could not be broadcast together with shapes (4,) (2,3) "
     ]
    }
   ],
   "source": [
    "one_d_array = np.array([10, 20, 30, 40])\n",
    "two_d_array = np.array([[1, 2, 3], [4, 5, 6]])\n",
    "print(one_d_array + two_d_array)\n",
    "#так не получится растянуть"
   ]
  },
  {
   "cell_type": "code",
   "execution_count": 16,
   "id": "028fc1cf-0f7c-480f-a89d-79f899bff709",
   "metadata": {},
   "outputs": [
    {
     "name": "stdout",
     "output_type": "stream",
     "text": [
      "[[11 12 13]\n",
      " [24 25 26]]\n"
     ]
    }
   ],
   "source": [
    "col = np.array([[10], [20]])\n",
    "two_d_array = np.array([[1, 2, 3], [4, 5, 6]])\n",
    "print(col + two_d_array)"
   ]
  },
  {
   "cell_type": "code",
   "execution_count": 17,
   "id": "dc33db0b-4b58-44f6-95af-d26a3fceb6be",
   "metadata": {},
   "outputs": [
    {
     "name": "stdout",
     "output_type": "stream",
     "text": [
      "[1 2 3 4 5]\n"
     ]
    }
   ],
   "source": [
    "col = np.array([1, 2])\n",
    "two_d_array = np.array([3, 4, 5])\n",
    "print(np.concatenate( [col, two_d_array] )) # скеливает массивы"
   ]
  },
  {
   "cell_type": "code",
   "execution_count": null,
   "id": "605e2398-5375-42ca-a7af-e42e3e85cdbe",
   "metadata": {},
   "outputs": [],
   "source": [
    "col = np.array([[10], [20], [30]]) #здесь это вектор-столбец. Если все элементы в одну строку, то будет без квадратных скобок и будет просто вектор\n",
    "two_d_array = np.array([[1, 2, 3], [4, 5, 6]])\n",
    "print(col + two_d_array)\n",
    "#разные размеры, не получится сложить"
   ]
  },
  {
   "cell_type": "code",
   "execution_count": 18,
   "id": "ef07c47a-752d-46c5-8b59-95256f3f6fde",
   "metadata": {},
   "outputs": [
    {
     "name": "stdout",
     "output_type": "stream",
     "text": [
      "[[ 10  40  90]\n",
      " [ 40 100 180]]\n"
     ]
    }
   ],
   "source": [
    "mult = np.array([[10, 20, 30]]) # здесь просто вектор, его можно растянуть (1 строка и 3 элемента)\n",
    "two_d_array = np.array([[1, 2, 3], [4, 5, 6]])\n",
    "print(mult * two_d_array)"
   ]
  },
  {
   "cell_type": "code",
   "execution_count": 19,
   "id": "92454658-487e-4cec-9178-66ed1d95b27a",
   "metadata": {},
   "outputs": [
    {
     "name": "stdout",
     "output_type": "stream",
     "text": [
      "[-3 -2 -4]\n",
      "[0.  0.5 0.2]\n",
      "[0 4 1]\n",
      "[ 0 16  1]\n"
     ]
    }
   ],
   "source": [
    "a = np.array([0, 2, 1])\n",
    "b = np.array([3, 4, 5])\n",
    "print(a - b) # [-3 -2 -4]\n",
    "print(a / b) # [0. 0.5 0.2]\n",
    "print(a ** 2) # [0 4 1]\n",
    "print(a ** b) # [0 16 1]"
   ]
  },
  {
   "cell_type": "code",
   "execution_count": 20,
   "id": "c2d2eaa2-efbf-4d51-aaea-efb46aca7749",
   "metadata": {},
   "outputs": [
    {
     "name": "stdout",
     "output_type": "stream",
     "text": [
      "[inf  2.  5.]\n"
     ]
    },
    {
     "name": "stderr",
     "output_type": "stream",
     "text": [
      "C:\\Users\\user\\AppData\\Local\\Temp\\ipykernel_22008\\756128656.py:1: RuntimeWarning: divide by zero encountered in divide\n",
      "  print(b / a) # [inf 2. 5.]\n"
     ]
    }
   ],
   "source": [
    "print(b / a) # [inf 2. 5.]\n"
   ]
  },
  {
   "cell_type": "code",
   "execution_count": 21,
   "id": "f6c32d94-cedb-45af-bee9-3f3e9e74290c",
   "metadata": {},
   "outputs": [
    {
     "name": "stdout",
     "output_type": "stream",
     "text": [
      "<class 'numpy.float64'>\n"
     ]
    },
    {
     "name": "stderr",
     "output_type": "stream",
     "text": [
      "C:\\Users\\user\\AppData\\Local\\Temp\\ipykernel_22008\\73444277.py:1: RuntimeWarning: divide by zero encountered in divide\n",
      "  print(type((b / 0)[0]))\n"
     ]
    }
   ],
   "source": [
    "b = np.array([3, 4, 5])\n",
    "print(type((b / 0)[0]))\n"
   ]
  },
  {
   "cell_type": "code",
   "execution_count": 22,
   "id": "45ee652c-689a-4a91-a904-f49abf2657e7",
   "metadata": {},
   "outputs": [
    {
     "name": "stderr",
     "output_type": "stream",
     "text": [
      "C:\\Users\\user\\AppData\\Local\\Temp\\ipykernel_22008\\3780871145.py:1: RuntimeWarning: divide by zero encountered in divide\n",
      "  assert np.inf == (b / 0)[0]\n"
     ]
    }
   ],
   "source": [
    "assert np.inf == (b / 0)[0]"
   ]
  },
  {
   "cell_type": "code",
   "execution_count": 24,
   "id": "019bebb8-243c-437e-84e3-895104efaa6e",
   "metadata": {},
   "outputs": [
    {
     "ename": "AssertionError",
     "evalue": "",
     "output_type": "error",
     "traceback": [
      "\u001b[1;31m---------------------------------------------------------------------------\u001b[0m",
      "\u001b[1;31mAssertionError\u001b[0m                            Traceback (most recent call last)",
      "Cell \u001b[1;32mIn[24], line 1\u001b[0m\n\u001b[1;32m----> 1\u001b[0m \u001b[38;5;28;01massert\u001b[39;00m \u001b[38;5;241m1\u001b[39m \u001b[38;5;241m==\u001b[39m \u001b[38;5;241m0\u001b[39m\n",
      "\u001b[1;31mAssertionError\u001b[0m: "
     ]
    }
   ],
   "source": [
    "assert 1 == 0"
   ]
  },
  {
   "cell_type": "code",
   "execution_count": 26,
   "id": "bae31a56-c650-4dea-ad65-7fc0cd8a289f",
   "metadata": {},
   "outputs": [
    {
     "name": "stdout",
     "output_type": "stream",
     "text": [
      "[inf]\n",
      "[-inf]\n"
     ]
    },
    {
     "name": "stderr",
     "output_type": "stream",
     "text": [
      "C:\\Users\\user\\AppData\\Local\\Temp\\ipykernel_22008\\835973647.py:1: RuntimeWarning: divide by zero encountered in divide\n",
      "  print(np.array([1])/0)\n",
      "C:\\Users\\user\\AppData\\Local\\Temp\\ipykernel_22008\\835973647.py:2: RuntimeWarning: divide by zero encountered in divide\n",
      "  print(np.array([1])/-0.)\n"
     ]
    }
   ],
   "source": [
    "print(np.array([1])/0)\n",
    "print(np.array([1])/-0.)\n"
   ]
  },
  {
   "cell_type": "code",
   "execution_count": 27,
   "id": "a39ea188-c32d-4be0-84ce-eafb81418394",
   "metadata": {},
   "outputs": [
    {
     "data": {
      "text/plain": [
       "inf"
      ]
     },
     "execution_count": 27,
     "metadata": {},
     "output_type": "execute_result"
    }
   ],
   "source": [
    "np.inf + np.inf"
   ]
  },
  {
   "cell_type": "code",
   "execution_count": 28,
   "id": "2b549012-3503-4e79-b7eb-4747539fc452",
   "metadata": {},
   "outputs": [
    {
     "data": {
      "text/plain": [
       "inf"
      ]
     },
     "execution_count": 28,
     "metadata": {},
     "output_type": "execute_result"
    }
   ],
   "source": [
    "2 * np.inf"
   ]
  },
  {
   "cell_type": "code",
   "execution_count": 29,
   "id": "2d60aab7-07c8-446b-84eb-acf9ecadc82e",
   "metadata": {},
   "outputs": [
    {
     "data": {
      "text/plain": [
       "-inf"
      ]
     },
     "execution_count": 29,
     "metadata": {},
     "output_type": "execute_result"
    }
   ],
   "source": [
    "-2 * np.inf"
   ]
  },
  {
   "cell_type": "code",
   "execution_count": 30,
   "id": "29e42b74-4e95-4b2d-b0c9-1d2cf28f1608",
   "metadata": {},
   "outputs": [
    {
     "data": {
      "text/plain": [
       "nan"
      ]
     },
     "execution_count": 30,
     "metadata": {},
     "output_type": "execute_result"
    }
   ],
   "source": [
    "np.inf - np.inf # nan - это действительное число, float64"
   ]
  },
  {
   "cell_type": "code",
   "execution_count": 31,
   "id": "565b81cb-f52c-4362-a221-860c41821643",
   "metadata": {},
   "outputs": [
    {
     "data": {
      "text/plain": [
       "nan"
      ]
     },
     "execution_count": 31,
     "metadata": {},
     "output_type": "execute_result"
    }
   ],
   "source": [
    "np.inf * 0"
   ]
  },
  {
   "cell_type": "code",
   "execution_count": 36,
   "id": "06a23d8a-d06f-4342-8d9b-7f40f316f45f",
   "metadata": {},
   "outputs": [
    {
     "name": "stdout",
     "output_type": "stream",
     "text": [
      "[inf]\n"
     ]
    },
    {
     "ename": "ZeroDivisionError",
     "evalue": "float division by zero",
     "output_type": "error",
     "traceback": [
      "\u001b[1;31m---------------------------------------------------------------------------\u001b[0m",
      "\u001b[1;31mZeroDivisionError\u001b[0m                         Traceback (most recent call last)",
      "Cell \u001b[1;32mIn[36], line 3\u001b[0m\n\u001b[0;32m      1\u001b[0m \u001b[38;5;28mprint\u001b[39m(np\u001b[38;5;241m.\u001b[39marray([np\u001b[38;5;241m.\u001b[39minf])\u001b[38;5;241m/\u001b[39m\u001b[38;5;241m0\u001b[39m)\n\u001b[0;32m      2\u001b[0m \u001b[38;5;66;03m# [inf]\u001b[39;00m\n\u001b[1;32m----> 3\u001b[0m \u001b[38;5;28mprint\u001b[39m(\u001b[43mnp\u001b[49m\u001b[38;5;241;43m.\u001b[39;49m\u001b[43minf\u001b[49m\u001b[43m \u001b[49m\u001b[38;5;241;43m/\u001b[39;49m\u001b[43m \u001b[49m\u001b[38;5;241;43m0.\u001b[39;49m)\n\u001b[0;32m      4\u001b[0m \u001b[38;5;66;03m# ZeroDivisionError: float division by zero\u001b[39;00m\n\u001b[0;32m      5\u001b[0m \u001b[38;5;28mprint\u001b[39m(\u001b[38;5;241m0\u001b[39m \u001b[38;5;241m/\u001b[39m np\u001b[38;5;241m.\u001b[39minf)\n",
      "\u001b[1;31mZeroDivisionError\u001b[0m: float division by zero"
     ]
    }
   ],
   "source": [
    "print(np.array([np.inf])/0)\n",
    "# [inf]\n",
    "print(np.inf / 0.)\n",
    "# ZeroDivisionError: float division by zero\n",
    "print(0 / np.inf)\n",
    "# 0.0\n",
    "print(np.nan + 1, np.inf + 1, np.inf * 0, 1. / np.inf)\n",
    "# nan inf nan 0.0"
   ]
  },
  {
   "cell_type": "code",
   "execution_count": 37,
   "id": "40f6d1ed-fe63-4572-a426-7c86206e20b7",
   "metadata": {},
   "outputs": [
    {
     "name": "stdout",
     "output_type": "stream",
     "text": [
      "<ufunc 'sin'> <class 'numpy.ufunc'>\n",
      "[0.         0.90929743 0.84147098]\n"
     ]
    }
   ],
   "source": [
    "a = np.array([0, 2, 1])\n",
    "print(np.sin, type(np.sin))\n",
    "print(np.sin(a))\n"
   ]
  },
  {
   "cell_type": "code",
   "execution_count": 38,
   "id": "a069d0fa-c224-41c5-9a00-5cb1d6604005",
   "metadata": {},
   "outputs": [
    {
     "name": "stdout",
     "output_type": "stream",
     "text": [
      "[False False False]\n",
      "[False  True False]\n",
      "[False  True False]\n"
     ]
    }
   ],
   "source": [
    "a = np.array([0, 2, 1])\n",
    "b = np.array([3, 2, 5])\n",
    "print(a > b)\n",
    "\n",
    "print(a == b)\n",
    "\n",
    "c = a >= 2\n",
    "print(c)\n"
   ]
  },
  {
   "cell_type": "code",
   "execution_count": null,
   "id": "63418863-c73f-40cb-9794-8d9b7837440e",
   "metadata": {},
   "outputs": [],
   "source": [
    "np.any — это аналог any и all из классического Python, возвращает\n",
    "True, если хотя бы один элемент в массиве True, np.all –\n",
    "если все элементы в массиве True."
   ]
  },
  {
   "cell_type": "code",
   "execution_count": 39,
   "id": "c3be8c0d-27a9-4268-9f46-b1af2a7a8557",
   "metadata": {},
   "outputs": [
    {
     "name": "stdout",
     "output_type": "stream",
     "text": [
      "True False\n"
     ]
    }
   ],
   "source": [
    "print(np.any(c), np.all(c))"
   ]
  },
  {
   "cell_type": "code",
   "execution_count": 40,
   "id": "af3872dc-bdcd-487a-9b9c-f9af7115ba44",
   "metadata": {},
   "outputs": [
    {
     "name": "stdout",
     "output_type": "stream",
     "text": [
      "[ 6  4 10]\n"
     ]
    }
   ],
   "source": [
    "b *= 2\n",
    "print(b)"
   ]
  },
  {
   "cell_type": "code",
   "execution_count": 41,
   "id": "b4fb488d-b145-4a4a-b8f0-c9f76f9ab7e0",
   "metadata": {},
   "outputs": [
    {
     "name": "stdout",
     "output_type": "stream",
     "text": [
      "12 30 6 1 4.0 2.160246899469287\n"
     ]
    }
   ],
   "source": [
    "d = np.array([1, 5, 6])\n",
    "print(d.sum(), d.prod(), d.max(), d.min(), d.mean(), d.std()) #mean-среднее, std - среднее квадратичное"
   ]
  },
  {
   "cell_type": "code",
   "execution_count": 42,
   "id": "e2fd8974-1dcf-4296-a860-8034f5a5fb56",
   "metadata": {},
   "outputs": [
    {
     "name": "stdout",
     "output_type": "stream",
     "text": [
      "[2.44948974 2.         3.16227766]\n",
      "[  403.42879349    54.59815003 22026.46579481]\n",
      "[1.79175947 1.38629436 2.30258509]\n",
      "[-0.2794155  -0.7568025  -0.54402111]\n",
      "2.718281828459045 3.141592653589793\n"
     ]
    }
   ],
   "source": [
    "print(np.sqrt(b))\n",
    "print(np.exp(b))\n",
    "print(np.log(b))\n",
    "print(np.sin(b))\n",
    "print(np.e, np.pi)\n"
   ]
  },
  {
   "cell_type": "code",
   "execution_count": null,
   "id": "7cbbf638-3f7f-45d4-b316-8dc6691df66b",
   "metadata": {},
   "outputs": [],
   "source": [
    "Массив частичных сумм (cumsum()) — это массив, на первом месте которого стоит первый\n",
    "элемент, на втором – сумма первого и второго, на третьем\n",
    "– сумма первого, второго и третьего и т.д."
   ]
  },
  {
   "cell_type": "code",
   "execution_count": 43,
   "id": "b61baafd-49e5-41b4-ab92-ce184583be82",
   "metadata": {},
   "outputs": [
    {
     "name": "stdout",
     "output_type": "stream",
     "text": [
      "[ 6 10 20]\n"
     ]
    }
   ],
   "source": [
    "print(b.cumsum())"
   ]
  },
  {
   "cell_type": "code",
   "execution_count": 44,
   "id": "e1437c1f-9bc1-402a-b2c9-5794f3ff3ed1",
   "metadata": {},
   "outputs": [
    {
     "name": "stdout",
     "output_type": "stream",
     "text": [
      "[[[ 1  4]\n",
      "  [ 9 16]]\n",
      "\n",
      " [[25 36]\n",
      "  [49 64]]]\n"
     ]
    }
   ],
   "source": [
    "cube = np.array([[[1, 2], [3, 4]], [[5, 6], [7, 8]]])\n",
    "print(cube * cube)\n"
   ]
  },
  {
   "cell_type": "code",
   "execution_count": 45,
   "id": "dd45fcd4-5b8d-4a68-8d2e-7beb3872481e",
   "metadata": {},
   "outputs": [
    {
     "name": "stdout",
     "output_type": "stream",
     "text": [
      "[[[11 22]\n",
      "  [33 44]]\n",
      "\n",
      " [[15 26]\n",
      "  [37 48]]]\n"
     ]
    }
   ],
   "source": [
    "print(cube + np.array([[10, 20], [30, 40]]))"
   ]
  },
  {
   "cell_type": "code",
   "execution_count": 46,
   "id": "55ae85f6-bec6-40bb-832d-44bbeb1fbc1e",
   "metadata": {},
   "outputs": [
    {
     "name": "stdout",
     "output_type": "stream",
     "text": [
      "[[[11 22]\n",
      "  [13 24]]\n",
      "\n",
      " [[15 26]\n",
      "  [17 28]]]\n"
     ]
    }
   ],
   "source": [
    "print(cube + np.array([[10, 20]])) #размерность (1,2)"
   ]
  },
  {
   "cell_type": "code",
   "execution_count": 47,
   "id": "36c15d69-1dbc-40c5-bbfc-77fae8340f42",
   "metadata": {},
   "outputs": [
    {
     "name": "stdout",
     "output_type": "stream",
     "text": [
      "[[[11 22]\n",
      "  [13 24]]\n",
      "\n",
      " [[15 26]\n",
      "  [17 28]]]\n"
     ]
    }
   ],
   "source": [
    "print(cube + np.array([10, 20])) #размерность 1"
   ]
  },
  {
   "cell_type": "code",
   "execution_count": 48,
   "id": "8bb36e61-3635-4c91-b1bc-597b5a72bb4d",
   "metadata": {},
   "outputs": [
    {
     "name": "stdout",
     "output_type": "stream",
     "text": [
      "[[[11 12]\n",
      "  [23 24]]\n",
      "\n",
      " [[15 16]\n",
      "  [27 28]]]\n"
     ]
    }
   ],
   "source": [
    "print(cube + np.array([[10], [20]]))"
   ]
  },
  {
   "cell_type": "code",
   "execution_count": 49,
   "id": "3df58c19-8499-48a9-8845-86bc7a331202",
   "metadata": {},
   "outputs": [
    {
     "data": {
      "text/plain": [
       "array([[[1, 2],\n",
       "        [3, 4]],\n",
       "\n",
       "       [[5, 6],\n",
       "        [7, 8]]])"
      ]
     },
     "execution_count": 49,
     "metadata": {},
     "output_type": "execute_result"
    }
   ],
   "source": [
    "cube = np.array([[[1, 2], [3, 4]], [[5, 6], [7, 8]]])\n",
    "cube"
   ]
  },
  {
   "cell_type": "code",
   "execution_count": null,
   "id": "37ab07be-4a8e-418e-943e-76c680edc21e",
   "metadata": {},
   "outputs": [],
   "source": [
    "Создайте массив из 20 чисел от −2𝜋 до 2𝜋.\n"
   ]
  },
  {
   "cell_type": "code",
   "execution_count": 53,
   "id": "4eda35d3-d52b-4e58-93e8-ce2b149c1626",
   "metadata": {},
   "outputs": [
    {
     "data": {
      "text/plain": [
       "array([[-6.28318531],\n",
       "       [-5.62179738],\n",
       "       [-4.96040945],\n",
       "       [-4.29902153],\n",
       "       [-3.6376336 ],\n",
       "       [-2.97624567],\n",
       "       [-2.31485774],\n",
       "       [-1.65346982],\n",
       "       [-0.99208189],\n",
       "       [-0.33069396],\n",
       "       [ 0.33069396],\n",
       "       [ 0.99208189],\n",
       "       [ 1.65346982],\n",
       "       [ 2.31485774],\n",
       "       [ 2.97624567],\n",
       "       [ 3.6376336 ],\n",
       "       [ 4.29902153],\n",
       "       [ 4.96040945],\n",
       "       [ 5.62179738],\n",
       "       [ 6.28318531]])"
      ]
     },
     "execution_count": 53,
     "metadata": {},
     "output_type": "execute_result"
    }
   ],
   "source": [
    "a = np.linspace([-2 * np.pi],[2 * np.pi], 20)\n",
    "a"
   ]
  },
  {
   "cell_type": "code",
   "execution_count": null,
   "id": "0a991b23-074a-41b5-bc46-029d325d704c",
   "metadata": {},
   "outputs": [],
   "source": [
    "Посчитайте поэлементные квадраты косинусов для данного массива.\n"
   ]
  },
  {
   "cell_type": "code",
   "execution_count": 55,
   "id": "823b3ac6-01e5-4b4e-a294-9c93c210b667",
   "metadata": {},
   "outputs": [
    {
     "data": {
      "text/plain": [
       "array([[1.        ],\n",
       "       [0.62274274],\n",
       "       [0.06026312],\n",
       "       [0.16135921],\n",
       "       [0.77347408],\n",
       "       [0.97290862],\n",
       "       [0.45871033],\n",
       "       [0.00681935],\n",
       "       [0.29915229],\n",
       "       [0.89457025],\n",
       "       [0.89457025],\n",
       "       [0.29915229],\n",
       "       [0.00681935],\n",
       "       [0.45871033],\n",
       "       [0.97290862],\n",
       "       [0.77347408],\n",
       "       [0.16135921],\n",
       "       [0.06026312],\n",
       "       [0.62274274],\n",
       "       [1.        ]])"
      ]
     },
     "execution_count": 55,
     "metadata": {},
     "output_type": "execute_result"
    }
   ],
   "source": [
    "a = np.linspace([-2 * np.pi],[2 * np.pi], 20)\n",
    "np.cos(a) ** 2"
   ]
  },
  {
   "cell_type": "code",
   "execution_count": null,
   "id": "1c11d45a-f3e0-4080-b7f5-431acd245859",
   "metadata": {},
   "outputs": [],
   "source": [
    "С помощью np.all проверьте, что в ответе только числа не больше единицы."
   ]
  },
  {
   "cell_type": "code",
   "execution_count": 58,
   "id": "b212dd9b-4566-4c76-abb5-1d5da64c6448",
   "metadata": {},
   "outputs": [
    {
     "data": {
      "text/plain": [
       "np.True_"
      ]
     },
     "execution_count": 58,
     "metadata": {},
     "output_type": "execute_result"
    }
   ],
   "source": [
    "np.all(np.cos(a)**2 <= 1)"
   ]
  },
  {
   "cell_type": "code",
   "execution_count": null,
   "id": "c5caa003-a62e-4693-baea-bd684425a73c",
   "metadata": {},
   "outputs": [],
   "source": [
    "'''\n",
    "1. Создайте массив из 20 чисел от 2𝜋 до 2𝜋.\n",
    "Посчитайте поэлементные квадраты косинусов для данного массива.\n",
    "С помощью np.all проверьте, что в ответе только числа не больше единицы.\n",
    "'''\n",
    "a = np.linspace(-2*np.pi, 2*np.pi, 20)\n",
    "print(a)\n",
    "print('------')\n",
    "print(np.cos(a)**2)\n",
    "print('------')\n",
    "print(np.all(np.cos(a)**2 <= 1))"
   ]
  }
 ],
 "metadata": {
  "kernelspec": {
   "display_name": "Python 3 (ipykernel)",
   "language": "python",
   "name": "python3"
  },
  "language_info": {
   "codemirror_mode": {
    "name": "ipython",
    "version": 3
   },
   "file_extension": ".py",
   "mimetype": "text/x-python",
   "name": "python",
   "nbconvert_exporter": "python",
   "pygments_lexer": "ipython3",
   "version": "3.12.5"
  }
 },
 "nbformat": 4,
 "nbformat_minor": 5
}
