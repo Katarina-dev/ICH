{
 "cells": [
  {
   "cell_type": "code",
   "execution_count": null,
   "id": "32f53440-a0c8-4be9-a902-83db9e06ec8d",
   "metadata": {},
   "outputs": [],
   "source": [
    "Напишите программу, которая запрашивает у пользователя натуральное десятичное число и выводит его двоичное представление. \n",
    "Реализуйте алгоритм перевода числа в двоичную систему счисления, используя основные концепции представления чисел (подсказка: через деление с остатком). \n",
    "Выведите полученное представление числа на экран."
   ]
  },
  {
   "cell_type": "code",
   "execution_count": 1,
   "id": "f4b434f6-1851-46f3-96e8-e2275f876f0d",
   "metadata": {},
   "outputs": [
    {
     "ename": "SyntaxError",
     "evalue": "'(' was never closed (3864744028.py, line 1)",
     "output_type": "error",
     "traceback": [
      "\u001b[1;36m  Cell \u001b[1;32mIn[1], line 1\u001b[1;36m\u001b[0m\n\u001b[1;33m    num = int(input('Enter a natural decimal number:')\u001b[0m\n\u001b[1;37m             ^\u001b[0m\n\u001b[1;31mSyntaxError\u001b[0m\u001b[1;31m:\u001b[0m '(' was never closed\n"
     ]
    }
   ],
   "source": [
    "num = int(input('Enter a natural decimal number:'))\n",
    "b_num = num // 2\n",
    "          \n",
    "while num != 0:\n",
    "    b_num = num // 2\n",
    "    print(num % 2)"
   ]
  },
  {
   "cell_type": "code",
   "execution_count": null,
   "id": "ef5893d4-0bf5-4d99-9baf-1c635ac06314",
   "metadata": {},
   "outputs": [],
   "source": []
  }
 ],
 "metadata": {
  "kernelspec": {
   "display_name": "Python 3 (ipykernel)",
   "language": "python",
   "name": "python3"
  },
  "language_info": {
   "codemirror_mode": {
    "name": "ipython",
    "version": 3
   },
   "file_extension": ".py",
   "mimetype": "text/x-python",
   "name": "python",
   "nbconvert_exporter": "python",
   "pygments_lexer": "ipython3",
   "version": "3.12.5"
  }
 },
 "nbformat": 4,
 "nbformat_minor": 5
}
