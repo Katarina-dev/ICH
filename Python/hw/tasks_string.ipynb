{
 "cells": [
  {
   "cell_type": "code",
   "execution_count": 1,
   "id": "1ac5aa12-8c4d-4f45-826f-783f8419d872",
   "metadata": {},
   "outputs": [
    {
     "name": "stdin",
     "output_type": "stream",
     "text": [
      " 12321\n"
     ]
    },
    {
     "name": "stdout",
     "output_type": "stream",
     "text": [
      "Yes\n"
     ]
    }
   ],
   "source": [
    "# проверка на палиндром\n",
    "\n",
    "x = input() \n",
    "res = 'Yes' if x == x[::-1] else 'No'\n",
    "print(res)"
   ]
  },
  {
   "cell_type": "code",
   "execution_count": 2,
   "id": "7173ad76-1901-48ff-b4a0-a2b46022cc0f",
   "metadata": {},
   "outputs": [
    {
     "name": "stdout",
     "output_type": "stream",
     "text": [
      "Help on built-in function max in module builtins:\n",
      "\n",
      "max(...)\n",
      "    max(iterable, *[, default=obj, key=func]) -> value\n",
      "    max(arg1, arg2, *args, *[, key=func]) -> value\n",
      "\n",
      "    With a single iterable argument, return its biggest item. The\n",
      "    default keyword-only argument specifies an object to return if\n",
      "    the provided iterable is empty.\n",
      "    With two or more arguments, return the largest argument.\n",
      "\n"
     ]
    }
   ],
   "source": [
    "help(max)"
   ]
  },
  {
   "cell_type": "code",
   "execution_count": 1,
   "id": "0457bfb8-76e7-48d8-84ab-7c1ab7d6bc98",
   "metadata": {},
   "outputs": [
    {
     "name": "stdin",
     "output_type": "stream",
     "text": [
      ">> qwerty\n"
     ]
    },
    {
     "name": "stdout",
     "output_type": "stream",
     "text": [
      "6\n"
     ]
    }
   ],
   "source": [
    "x = input('>>')\n",
    "print(len(x))"
   ]
  },
  {
   "cell_type": "code",
   "execution_count": 8,
   "id": "04004238-4d11-47ca-a9a0-03ad29e86b5b",
   "metadata": {},
   "outputs": [
    {
     "name": "stdout",
     "output_type": "stream",
     "text": [
      "q y\n"
     ]
    }
   ],
   "source": [
    "#Напишите программу, которая принимает строку и выводит её первый и последний символ.\n",
    "print(x[0], x[-1])"
   ]
  },
  {
   "cell_type": "code",
   "execution_count": 9,
   "id": "261164d0-1a6b-4a9f-af98-0068af7bd5b2",
   "metadata": {},
   "outputs": [
    {
     "name": "stdout",
     "output_type": "stream",
     "text": [
      "qwertyqwertyqwerty\n"
     ]
    }
   ],
   "source": [
    "print(x * 3)"
   ]
  },
  {
   "cell_type": "code",
   "execution_count": 11,
   "id": "9a51f07e-12f5-4407-9513-6e5bac49acba",
   "metadata": {},
   "outputs": [
    {
     "name": "stdin",
     "output_type": "stream",
     "text": [
      ">> abracodo\n"
     ]
    },
    {
     "name": "stdout",
     "output_type": "stream",
     "text": [
      "obrocodo\n"
     ]
    }
   ],
   "source": [
    "x = input('>>')\n",
    "print(x.replace('a', 'o'))"
   ]
  },
  {
   "cell_type": "code",
   "execution_count": 12,
   "id": "3065434a-79af-46ed-8381-afc035f87d5f",
   "metadata": {},
   "outputs": [
    {
     "name": "stdout",
     "output_type": "stream",
     "text": [
      "ABRACODO\n"
     ]
    }
   ],
   "source": [
    "print(x.upper())"
   ]
  },
  {
   "cell_type": "code",
   "execution_count": 1,
   "id": "b6627949-06ba-4ef7-85d0-3fdc3e4050b5",
   "metadata": {},
   "outputs": [
    {
     "name": "stdin",
     "output_type": "stream",
     "text": [
      ">> AbraCadabRA\n"
     ]
    },
    {
     "name": "stdout",
     "output_type": "stream",
     "text": [
      "ABRACADABRA\n",
      "abracadabra\n"
     ]
    }
   ],
   "source": [
    "x = input('>>')\n",
    "print(x.upper())\n",
    "print(x.lower())"
   ]
  },
  {
   "cell_type": "code",
   "execution_count": null,
   "id": "ead7e975-4f6a-4d94-abe0-5d2637721246",
   "metadata": {},
   "outputs": [],
   "source": [
    "Напишите программу, которая удаляет все лишние пробелы в начале и конце строки."
   ]
  },
  {
   "cell_type": "code",
   "execution_count": 2,
   "id": "d14023f2-f637-442f-94c5-5e240305f666",
   "metadata": {},
   "outputs": [
    {
     "name": "stdin",
     "output_type": "stream",
     "text": [
      ">>     Hello world     \n"
     ]
    },
    {
     "name": "stdout",
     "output_type": "stream",
     "text": [
      "Hello world\n"
     ]
    }
   ],
   "source": [
    "x = input('>>')\n",
    "print(x.strip())"
   ]
  },
  {
   "cell_type": "code",
   "execution_count": null,
   "id": "b7e7432c-c875-4a01-bf91-40c0ba1a94ae",
   "metadata": {},
   "outputs": [],
   "source": [
    "Напишите программу, которая находит и выводит индекс первого вхождения символа \"е\" в строке."
   ]
  },
  {
   "cell_type": "code",
   "execution_count": 3,
   "id": "8d25f09b-468f-4a66-9818-8277bdf069f2",
   "metadata": {},
   "outputs": [
    {
     "name": "stdin",
     "output_type": "stream",
     "text": [
      ">> ASDVer\n"
     ]
    },
    {
     "name": "stdout",
     "output_type": "stream",
     "text": [
      "4\n"
     ]
    }
   ],
   "source": [
    "x = input('>>')\n",
    "print(x.find('e'))"
   ]
  },
  {
   "cell_type": "code",
   "execution_count": null,
   "id": "98c9551a-d8ab-43fa-93fc-1460c413aa6e",
   "metadata": {},
   "outputs": [],
   "source": [
    "Напишите программу, которая проверяет, содержится ли подстрока \"Python\" в данной строке."
   ]
  },
  {
   "cell_type": "code",
   "execution_count": 4,
   "id": "6ec4d859-03d5-4af0-a3f8-68af5fed2140",
   "metadata": {},
   "outputs": [
    {
     "name": "stdin",
     "output_type": "stream",
     "text": [
      ">> I like Python\n"
     ]
    },
    {
     "name": "stdout",
     "output_type": "stream",
     "text": [
      "True\n"
     ]
    }
   ],
   "source": [
    "x = input('>>')\n",
    "res = 'Python' in x\n",
    "print(res)"
   ]
  },
  {
   "cell_type": "code",
   "execution_count": null,
   "id": "bb8234fb-73dd-4abd-a153-a2f0bb85536f",
   "metadata": {},
   "outputs": [],
   "source": [
    "Напишите программу, которая заменяет подстроку \"Java\" на \"Python\" в строке."
   ]
  },
  {
   "cell_type": "code",
   "execution_count": 6,
   "id": "a97840ed-2608-423c-88fe-abe9512fa04e",
   "metadata": {},
   "outputs": [
    {
     "name": "stdin",
     "output_type": "stream",
     "text": [
      ">> I like Java\n"
     ]
    },
    {
     "name": "stdout",
     "output_type": "stream",
     "text": [
      "I like Python\n"
     ]
    }
   ],
   "source": [
    "x = input('>>')\n",
    "print(x.replace('Java', 'Python'))"
   ]
  },
  {
   "cell_type": "code",
   "execution_count": null,
   "id": "ab4419fe-5663-44b0-9d48-e609090aa2e7",
   "metadata": {},
   "outputs": [],
   "source": [
    "Пользователь вводит с клавиатуры имя человека. Напишите программу для проверки введенного имени на валидность (имеется в виду, что, например, \n",
    " имя не может содержать цифр, оно должно начинаться с большой буквы, за которой должны следовать маленькие)."
   ]
  },
  {
   "cell_type": "code",
   "execution_count": 20,
   "id": "640a0411-ed65-450f-9fb3-37cb1fc7023b",
   "metadata": {},
   "outputs": [
    {
     "name": "stdin",
     "output_type": "stream",
     "text": [
      ">> And345\n"
     ]
    },
    {
     "name": "stdout",
     "output_type": "stream",
     "text": [
      "The name is incorrect\n"
     ]
    }
   ],
   "source": [
    "x = input('>>')\n",
    "if x.isalpha() and x.istitle():\n",
    "    print('OK')\n",
    "else:\n",
    "    print('The name is incorrect')"
   ]
  },
  {
   "cell_type": "code",
   "execution_count": 17,
   "id": "66f0270e-23fa-4ed7-9ee1-111a0388ab18",
   "metadata": {},
   "outputs": [
    {
     "name": "stdin",
     "output_type": "stream",
     "text": [
      ">> 4443\n"
     ]
    },
    {
     "name": "stdout",
     "output_type": "stream",
     "text": [
      "False\n"
     ]
    }
   ],
   "source": []
  },
  {
   "cell_type": "code",
   "execution_count": 16,
   "id": "31672237-4b8d-420c-aea2-9e2469da20bb",
   "metadata": {},
   "outputs": [
    {
     "name": "stdin",
     "output_type": "stream",
     "text": [
      ">> fsdfs\n"
     ]
    },
    {
     "name": "stdout",
     "output_type": "stream",
     "text": [
      "<built-in method istitle of str object at 0x000001F3C0904030>\n"
     ]
    }
   ],
   "source": []
  },
  {
   "cell_type": "code",
   "execution_count": null,
   "id": "6e67a223-1766-4899-8217-31506f982f9c",
   "metadata": {},
   "outputs": [],
   "source": []
  }
 ],
 "metadata": {
  "kernelspec": {
   "display_name": "Python 3 (ipykernel)",
   "language": "python",
   "name": "python3"
  },
  "language_info": {
   "codemirror_mode": {
    "name": "ipython",
    "version": 3
   },
   "file_extension": ".py",
   "mimetype": "text/x-python",
   "name": "python",
   "nbconvert_exporter": "python",
   "pygments_lexer": "ipython3",
   "version": "3.12.5"
  }
 },
 "nbformat": 4,
 "nbformat_minor": 5
}
