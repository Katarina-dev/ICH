{
 "cells": [
  {
   "cell_type": "code",
   "execution_count": null,
   "id": "456e6fea-fda3-4121-ac69-dfd199b47a38",
   "metadata": {},
   "outputs": [],
   "source": [
    "Перепишите решение следующей задачи с использованием функции. У нас есть\n",
    "две логические переменные: isWeekday, isVacation (выходной день и каникулы).\n",
    "Они могут принимать разные значения, всего 4 комбинации: true - true, true - false,\n",
    "false - false, false - true. Есть правило: мы можем поспать, если день не рабочий\n",
    "или мы на каникулах. Напишите программу, которая в зависимости от значений\n",
    "двух переменных печатает, можем ли мы поспать или нет. То есть для значений\n",
    "isWeekday = False и isVacation = False программа должна печатать “можете\n",
    "поспать”.\n"
   ]
  },
  {
   "cell_type": "code",
   "execution_count": null,
   "id": "93e927c1-a184-47a6-ad9f-dfaff3d4994b",
   "metadata": {},
   "outputs": [],
   "source": [
    "#1\n",
    "def can_sleep(isWeekday, isVacation):\n",
    "    if not isWeekday or isVacation:\n",
    "        return 'можно спать'\n",
    "    else:\n",
    "        return 'не спать'\n",
    "        \n",
    "isWeekday = True\n",
    "isVacation = False\n",
    "print(can_sleep(isWeekday, isVacation))\n",
    "\n",
    "isWeekday = True\n",
    "isVacation = True\n",
    "print(can_sleep(isWeekday, isVacation))\n",
    "\n",
    "isWeekday = False\n",
    "isVacation = False\n",
    "print(can_sleep(isWeekday, isVacation))"
   ]
  },
  {
   "cell_type": "code",
   "execution_count": null,
   "id": "d4303be8-2edb-4422-b471-8cf4322faf4b",
   "metadata": {},
   "outputs": [],
   "source": [
    "#2\n",
    "def can_sleep(isWeekday, isVacation):\n",
    "    if not isWeekday or isVacation:\n",
    "        return True\n",
    "    else:\n",
    "        return False\n",
    "        \n",
    "isWeekday = True\n",
    "isVacation = False\n",
    "\n",
    "res = 'Можно спать' if can_sleep(isWeekday, isVacation) else 'Не спать'\n",
    "\n",
    "print(can_sleep(isWeekday, isVacation))\n",
    "\n",
    "isWeekday = True\n",
    "isVacation = True\n",
    "print(can_sleep(isWeekday, isVacation))\n",
    "\n",
    "isWeekday = False\n",
    "isVacation = False\n",
    "print(can_sleep(isWeekday, isVacation))"
   ]
  },
  {
   "cell_type": "code",
   "execution_count": null,
   "id": "dc0d94a6-5609-4656-bc6d-67c821b42ba0",
   "metadata": {},
   "outputs": [],
   "source": [
    "#3\n",
    "def can_sleep(isWeekday, isVacation):\n",
    "    return not isWeekday or isVacation\n",
    "        \n",
    "isWeekday = True\n",
    "isVacation = False\n",
    "\n",
    "res = 'Можно спать' if can_sleep(isWeekday, isVacation) else 'Не спать'\n",
    "print(res)\n",
    "\n",
    "isWeekday = True\n",
    "isVacation = True\n",
    "print(can_sleep(isWeekday, isVacation))\n",
    "\n",
    "isWeekday = False\n",
    "isVacation = False\n",
    "print(can_sleep(isWeekday, isVacation))"
   ]
  },
  {
   "cell_type": "code",
   "execution_count": null,
   "id": "24e10136-6c74-4e1b-b1e4-1d6ff1399d54",
   "metadata": {},
   "outputs": [],
   "source": [
    "def is_odd(number):\n",
    "    return bool(number)\n",
    "    \n",
    "print(is_odd(5))\n",
    "print(is_odd(4))"
   ]
  },
  {
   "cell_type": "code",
   "execution_count": null,
   "id": "7a6d6ea0-de9a-4792-89ba-d32a1c902bb0",
   "metadata": {},
   "outputs": [],
   "source": [
    "2. Перепишите следующую задачу с использованием функции. У вас есть целое\n",
    "число X. Нужно написать программу, которая напечатает разницу между числом 21\n",
    "и X, если X<=21 и напечатает удвоенную разницу 21 и X в противном случае.\n"
   ]
  },
  {
   "cell_type": "code",
   "execution_count": 6,
   "id": "535a5f4b-e2af-4d46-8903-3398f18d2168",
   "metadata": {},
   "outputs": [
    {
     "ename": "NameError",
     "evalue": "name 'compare' is not defined",
     "output_type": "error",
     "traceback": [
      "\u001b[1;31m---------------------------------------------------------------------------\u001b[0m",
      "\u001b[1;31mNameError\u001b[0m                                 Traceback (most recent call last)",
      "Cell \u001b[1;32mIn[6], line 6\u001b[0m\n\u001b[0;32m      3\u001b[0m        \u001b[38;5;28;01mreturn\u001b[39;00m y\u001b[38;5;241m-\u001b[39mx\n\u001b[0;32m      4\u001b[0m     \u001b[38;5;28;01mreturn\u001b[39;00m (y \u001b[38;5;241m-\u001b[39m x) \u001b[38;5;241m*\u001b[39m \u001b[38;5;241m2\u001b[39m\n\u001b[1;32m----> 6\u001b[0m res \u001b[38;5;241m=\u001b[39m \u001b[43mcompare\u001b[49m (x \u001b[38;5;241m=\u001b[39m \u001b[38;5;28mint\u001b[39m(\u001b[38;5;28minput\u001b[39m(\u001b[38;5;124m'\u001b[39m\u001b[38;5;124mВведите число\u001b[39m\u001b[38;5;124m'\u001b[39m)))\n\u001b[0;32m      7\u001b[0m \u001b[38;5;28mprint\u001b[39m(res)\n",
      "\u001b[1;31mNameError\u001b[0m: name 'compare' is not defined"
     ]
    }
   ],
   "source": [
    "def task(x, y= 21):\n",
    "    if x <= 21:\n",
    "       return y-x\n",
    "    return (y - x) * 2\n",
    "\n",
    "res = compare (x = int(input('Введите число')))\n",
    "print(res)\n",
    "    "
   ]
  },
  {
   "cell_type": "code",
   "execution_count": null,
   "id": "87f9a5f1-599d-451a-bd47-a639b0feeaa8",
   "metadata": {},
   "outputs": [],
   "source": [
    "def cal_dif(x):\n",
    "    if x<=21:\n",
    "        return 21-x\n",
    "    else:\n",
    "        return 2*(x-21)\n",
    "num = int(input('Введите число'))\n",
    "res = cal_dif(num)\n",
    "print(res)"
   ]
  },
  {
   "cell_type": "code",
   "execution_count": null,
   "id": "c1817640-db0d-494f-9566-504c27d2cd1e",
   "metadata": {},
   "outputs": [],
   "source": [
    "def calculate(x):\n",
    "    return 21 - x if x <= 21 else (x - 21) * 2\n",
    "\n",
    "print(calculate(8))\n",
    "print(calculate(11))\n",
    "print(calculate(35))"
   ]
  },
  {
   "cell_type": "code",
   "execution_count": null,
   "id": "334e220a-5a6c-4ad3-921f-e35b74347855",
   "metadata": {},
   "outputs": [],
   "source": [
    "5 Напишите функцию, которая принимает сумму дохода пользователя и налоговую ставку в процентах.\n",
    "Функция возвращает сумму налога, которую нужно уплатить."
   ]
  },
  {
   "cell_type": "code",
   "execution_count": 17,
   "id": "09359866-12cc-4008-9c0b-fac577812701",
   "metadata": {},
   "outputs": [
    {
     "name": "stdin",
     "output_type": "stream",
     "text": [
      "Введите сумму дохода 200\n",
      "Введите налоговую ставку 10\n"
     ]
    },
    {
     "name": "stdout",
     "output_type": "stream",
     "text": [
      "20.0\n",
      "Налог: 20.0\n"
     ]
    }
   ],
   "source": [
    "def nalog(x, y):\n",
    "    return x * y / 100\n",
    "\n",
    "x = int(input('Введите сумму дохода'))\n",
    "y = int(input('Введите налоговую ставку'))\n",
    "print(f'Налог: {nalog(x, y)}')"
   ]
  },
  {
   "cell_type": "code",
   "execution_count": 21,
   "id": "32fa2c24-f277-4a5c-9a28-166300ec2e97",
   "metadata": {},
   "outputs": [
    {
     "name": "stdout",
     "output_type": "stream",
     "text": [
      "100.0\n",
      "100.0\n",
      "None\n"
     ]
    }
   ],
   "source": [
    "def taxx(income, tax_rate):\n",
    "    if isinstance(tax_rate, float) and 0 <= tax_rate <= 1:\n",
    "        return income * tax_rate\n",
    "        \n",
    "    if isinstance(tax_rate, int) and 0 <= tax_rate <= 100:\n",
    "        return income * tax_rate /100\n",
    "\n",
    "    return None\n",
    "\n",
    "print(taxx(1000, 0.1))\n",
    "print(taxx(1000, 10))\n",
    "print(taxx(1000, 10000))"
   ]
  },
  {
   "cell_type": "code",
   "execution_count": null,
   "id": "947d7a8b-4aa8-4dc9-a74e-fb0bf5741f21",
   "metadata": {},
   "outputs": [],
   "source": [
    "1 Реализуйте функцию, принимающую два числа и строку в качестве параметров.\n",
    "Она должна вернуть конкатенацию строки с суммой чисел."
   ]
  },
  {
   "cell_type": "code",
   "execution_count": null,
   "id": "dee39758-dd3a-4fba-8c9c-8fe64c60e127",
   "metadata": {},
   "outputs": [],
   "source": [
    "def concatenate(num1, num2, text):\n",
    "    sum_num = num1 + num2\n",
    "    return str(sum_num) + text\n",
    "\n",
    "num1 = int(input(\"Введите первое число: \"))\n",
    "num2 = int(input(\"Введите второе число: \"))\n",
    "text = input(\"Текст: \")\n",
    "print(concatenate(num1, num2, text))"
   ]
  },
  {
   "cell_type": "code",
   "execution_count": null,
   "id": "16da2374-ed78-40f7-8f7e-35d4d5f4e6a0",
   "metadata": {},
   "outputs": [],
   "source": [
    "def concat(a, b, c):\n",
    "    return f'{a+b}{c}'\n",
    "\n",
    "print(concat(2,3, 'Hello'))"
   ]
  },
  {
   "cell_type": "code",
   "execution_count": null,
   "id": "846e99fb-3ac9-40b3-ae08-538c923f07f6",
   "metadata": {},
   "outputs": [],
   "source": [
    "2\n",
    "Реализуйте функцию, которая выводит на экран прямоугольник из звездочек \"*\". \n",
    "Ее параметры - целые числа, определяющие длину и ширину прямоугольника."
   ]
  },
  {
   "cell_type": "code",
   "execution_count": 19,
   "id": "cf81c2f8-9343-4e12-9c5a-5a794d601c02",
   "metadata": {},
   "outputs": [
    {
     "name": "stdout",
     "output_type": "stream",
     "text": [
      "**********\n",
      "*        *\n",
      "*        *\n",
      "*        *\n",
      "**********\n",
      "\n"
     ]
    }
   ],
   "source": [
    "def rectangle(w, h):\n",
    "    return f'{'*' * w}\\n' +\\\n",
    "           (h - 2) * f'*{' ' * (w - 2)}*\\n' + \\\n",
    "           f'{'*' * w}\\n'\n",
    "\n",
    "print(rectangle(10, 5))\n",
    "\n",
    "f = open('data.txt', 'w')\n",
    "print(rectangle(10, 5), file=f)\n",
    "f.close()"
   ]
  },
  {
   "cell_type": "code",
   "execution_count": null,
   "id": "a2078783-66e8-45fb-8805-8dd3de62157f",
   "metadata": {},
   "outputs": [],
   "source": [
    "4\n",
    "Напишите функцию, которая возвращает количество слов в текстовой строке.\n"
   ]
  },
  {
   "cell_type": "code",
   "execution_count": null,
   "id": "fec49957-6dd5-46ed-9790-72f800fa4522",
   "metadata": {},
   "outputs": [],
   "source": [
    "def count_w(text):\n",
    "    w = text.split()\n",
    "    return len(w)\n",
    "    \n",
    "users_text = input('Введите строку')\n",
    "print('Count:', count_w(users_text))"
   ]
  },
  {
   "cell_type": "code",
   "execution_count": null,
   "id": "b78dd06c-4dcc-4e27-913f-4a0f266b88d0",
   "metadata": {},
   "outputs": [],
   "source": [
    "6\n",
    "Создайте функцию, генерирующую пароль заданной длины. \n",
    "Функция должна принимать длину пароля и булевой параметр, определяющий, должен ли пароль содержать специальные символы (например, @, #, $ и т.п.)."
   ]
  },
  {
   "cell_type": "code",
   "execution_count": null,
   "id": "1cf190d4-8328-4198-9fae-090ea7b202bf",
   "metadata": {},
   "outputs": [],
   "source": [
    "import random\n",
    "import string\n",
    "\n",
    "def generate_password(length, use_special_chars=False):\n",
    "    characters = string.ascii_letters + string.digits\n",
    "    \n",
    "    if use_special_chars:\n",
    "        characters += string.punctuation\n",
    "    \n",
    "    password = ''.join(random.choice(characters) for i in range(length))\n",
    "    #password = ''.join(random.sample(characters,length))\n",
    "    return password\n",
    "\n",
    "print(generate_password(length=int(input('Введите длину пароля')), use_special_chars=True))"
   ]
  }
 ],
 "metadata": {
  "kernelspec": {
   "display_name": "Python 3 (ipykernel)",
   "language": "python",
   "name": "python3"
  },
  "language_info": {
   "codemirror_mode": {
    "name": "ipython",
    "version": 3
   },
   "file_extension": ".py",
   "mimetype": "text/x-python",
   "name": "python",
   "nbconvert_exporter": "python",
   "pygments_lexer": "ipython3",
   "version": "3.12.5"
  }
 },
 "nbformat": 4,
 "nbformat_minor": 5
}
