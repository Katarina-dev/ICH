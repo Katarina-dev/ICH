{
 "cells": [
  {
   "cell_type": "code",
   "execution_count": null,
   "id": "b2886757-123c-40a4-8964-be71062ed66c",
   "metadata": {},
   "outputs": [],
   "source": [
    "1. Напишите программу, которая запрашивает у пользователя строку и преобразует ее, удаляя все гласные буквы из строки. \n",
    "Используйте метод replace() для замены гласных букв на пустую строку. Выведите преобразованную строку на экран с помощью команды \n",
    "print."
   ]
  },
  {
   "cell_type": "code",
   "execution_count": 3,
   "id": "60e66218-91d5-4806-b657-c3aa82d6e7e1",
   "metadata": {},
   "outputs": [
    {
     "name": "stdin",
     "output_type": "stream",
     "text": [
      "text >> I am KatE\n"
     ]
    },
    {
     "name": "stdout",
     "output_type": "stream",
     "text": [
      " m Kt\n"
     ]
    }
   ],
   "source": [
    "x = input(\"text >>\")\n",
    "vowels = 'aeiouyAEIOUY'\n",
    "i = 0\n",
    "while i < len(vowels):\n",
    "    x = x.replace(vowels[i], '')\n",
    "    i += 1\n",
    "print(x)"
   ]
  },
  {
   "cell_type": "code",
   "execution_count": null,
   "id": "bbf23080-259c-4a72-8265-f0e0f84da477",
   "metadata": {},
   "outputs": [],
   "source": [
    "2. Напишите программу, которая запрашивает у пользователя строку и определяет, содержит ли она только уникальные символы. \n",
    "Если все символы в строке уникальны, выведите соответствующее сообщение на экран. В противном случае выведите сообщение о том, какие символы повторяются. \n",
    "Не используйте множества и подобные структуры данных, которые мы пока не изучали, для проверки уникальности символов."
   ]
  },
  {
   "cell_type": "code",
   "execution_count": 13,
   "id": "75d4debe-2437-4c65-8051-16128fad8e36",
   "metadata": {},
   "outputs": [
    {
     "name": "stdin",
     "output_type": "stream",
     "text": [
      "text>> Hello world\n"
     ]
    },
    {
     "name": "stdout",
     "output_type": "stream",
     "text": [
      "Символы  l o повторяются\n"
     ]
    }
   ],
   "source": [
    "x = input('text>>')\n",
    "i = 0\n",
    "flag = True\n",
    "res = ''\n",
    "\n",
    "while i < len(x):\n",
    "    n = ord(x[i])\n",
    "    y = chr(n)\n",
    "    if x.count(y) > 1:\n",
    "        res += y\n",
    "        x = x.replace(x[i], '')\n",
    "        flag = False\n",
    "    i += 1\n",
    "\n",
    "if flag:\n",
    "    print('Символы уникальны')\n",
    "else:\n",
    "    print('Символы ', *res, 'повторяются')"
   ]
  },
  {
   "cell_type": "code",
   "execution_count": null,
   "id": "6af640a9-dee4-4a8c-aa36-6d4cfda6922c",
   "metadata": {},
   "outputs": [],
   "source": [
    "3. Напишите программу, которая запрашивает у пользователя строку и выравнивает ее по центру с заданной шириной. Если строка не может быть выровнена по центру \n",
    "из-за нечетной ширины, она должна быть выровнена смещением вправо. Используйте методы center() и rjust() для выравнивания строки."
   ]
  },
  {
   "cell_type": "code",
   "execution_count": 10,
   "id": "69084eec-4cad-4bde-878c-887d4bc5114d",
   "metadata": {},
   "outputs": [
    {
     "name": "stdin",
     "output_type": "stream",
     "text": [
      "text >>  Hello world\n",
      "Enter width:  11\n"
     ]
    },
    {
     "name": "stdout",
     "output_type": "stream",
     "text": [
      "Hello world\n"
     ]
    }
   ],
   "source": [
    "x = input('text >> ')\n",
    "\n",
    "d = int(input('Enter width: '))\n",
    "\n",
    "if len(x) % 2 == d % 2:\n",
    "    center_aligned = x.center(d)\n",
    "    print(center_aligned)\n",
    "else:\n",
    "    right_aligned = x.rjust(d)\n",
    "    print(right_aligned)"
   ]
  },
  {
   "cell_type": "code",
   "execution_count": null,
   "id": "a58a2afc-f341-4de8-9e91-012148c19385",
   "metadata": {},
   "outputs": [],
   "source": []
  }
 ],
 "metadata": {
  "kernelspec": {
   "display_name": "Python 3 (ipykernel)",
   "language": "python",
   "name": "python3"
  },
  "language_info": {
   "codemirror_mode": {
    "name": "ipython",
    "version": 3
   },
   "file_extension": ".py",
   "mimetype": "text/x-python",
   "name": "python",
   "nbconvert_exporter": "python",
   "pygments_lexer": "ipython3",
   "version": "3.12.5"
  }
 },
 "nbformat": 4,
 "nbformat_minor": 5
}
