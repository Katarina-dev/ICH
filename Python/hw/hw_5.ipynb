{
 "cells": [
  {
   "cell_type": "code",
   "execution_count": null,
   "id": "89fa5560-f0c9-47ef-998c-ab7aeb2ded36",
   "metadata": {},
   "outputs": [],
   "source": [
    "1. Напишите программу, которая запрашивает у пользователя три числа и выводит их в порядке возрастания, разделенные запятой.\n",
    "Используйте условные операторы и вложенные условия для решения задачи. Предполагается, что все три числа различны."
   ]
  },
  {
   "cell_type": "code",
   "execution_count": 7,
   "id": "8b0efd9e-30d4-453f-8f10-67333d147802",
   "metadata": {},
   "outputs": [
    {
     "name": "stdin",
     "output_type": "stream",
     "text": [
      "Enter the first number 89\n",
      "Enter the second number 2\n",
      "Enter the third number 45\n"
     ]
    },
    {
     "name": "stdout",
     "output_type": "stream",
     "text": [
      "Numbers in ascending order: 2, 45, 89\n"
     ]
    }
   ],
   "source": [
    "x = int(input('Enter the first number')) \n",
    "y = int(input('Enter the second number'))\n",
    "z = int(input('Enter the third number'))\n",
    "\n",
    "if x > y and x > z:\n",
    "    if y > z:\n",
    "        print(f'Numbers in ascending order: {z}, {y}, {x}')\n",
    "    else:\n",
    "        print(f'Numbers in ascending order: {y}, {z}, {x}')\n",
    "elif y > x and y > z:\n",
    "    if x > z:\n",
    "        print(f'Numbers in ascending order: {z}, {x}, {y}')\n",
    "    else:\n",
    "        print(f'Numbers in ascending order: {x}, {z}, {y}')\n",
    "elif z > x and z > y:\n",
    "    if x > y:\n",
    "        print(f'Numbers in ascending order: {y}, {x}, {z}')\n",
    "    else:\n",
    "        print(f'Numbers in ascending order: {x}, {y}, {z}')"
   ]
  },
  {
   "cell_type": "code",
   "execution_count": null,
   "id": "9cb0d013-f200-483a-86f7-73a2512b0533",
   "metadata": {},
   "outputs": [],
   "source": [
    "2. Напишите программу, которая запрашивает у пользователя год и проверяет, является ли он високосным. \n",
    "Год является високосным, если он делится на 4 без остатка, но не делится на 100 без остатка, за исключением годов, \n",
    "которые делятся на 400 без остатка. Выведите соответствующее сообщение на экран с помощью команды print."
   ]
  },
  {
   "cell_type": "code",
   "execution_count": 6,
   "id": "ecf43071-5d1c-468a-bfbf-64c7ac36ddb5",
   "metadata": {},
   "outputs": [
    {
     "name": "stdin",
     "output_type": "stream",
     "text": [
      "Enter year: 2300\n"
     ]
    },
    {
     "name": "stdout",
     "output_type": "stream",
     "text": [
      "2300 - is non-leap year\n"
     ]
    }
   ],
   "source": [
    "year = int(input('Enter year:'))\n",
    "\n",
    "if not year % 4 and year % 100 or not year % 400:\n",
    "    print(f'{year} - is leap year')\n",
    "else:\n",
    "    print(f'{year} - is non-leap year')\n"
   ]
  },
  {
   "cell_type": "code",
   "execution_count": null,
   "id": "cbe5e5b4-abe4-4473-8667-4c442bbf9148",
   "metadata": {},
   "outputs": [],
   "source": []
  }
 ],
 "metadata": {
  "kernelspec": {
   "display_name": "Python 3 (ipykernel)",
   "language": "python",
   "name": "python3"
  },
  "language_info": {
   "codemirror_mode": {
    "name": "ipython",
    "version": 3
   },
   "file_extension": ".py",
   "mimetype": "text/x-python",
   "name": "python",
   "nbconvert_exporter": "python",
   "pygments_lexer": "ipython3",
   "version": "3.12.5"
  }
 },
 "nbformat": 4,
 "nbformat_minor": 5
}
