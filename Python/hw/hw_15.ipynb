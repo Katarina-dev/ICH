{
 "cells": [
  {
   "cell_type": "code",
   "execution_count": 4,
   "id": "c0c35394-5966-4d8c-aa0c-b12055b8dbfc",
   "metadata": {},
   "outputs": [
    {
     "name": "stdin",
     "output_type": "stream",
     "text": [
      "Name >> ee\n",
      "Age >> 20\n",
      "Average rating >> 90\n",
      "Name >> ww\n",
      "Age >> 21\n",
      "Average rating >> 95\n",
      "Name >> exit\n",
      "Enter treshold value of average rating: 90\n"
     ]
    },
    {
     "name": "stdout",
     "output_type": "stream",
     "text": [
      "Students with average rating above treshold 90: ee\n",
      "Students with average rating above treshold 90: ww\n"
     ]
    },
    {
     "data": {
      "text/plain": [
       "[('ee', 20, 90), ('ww', 21, 95)]"
      ]
     },
     "execution_count": 4,
     "metadata": {},
     "output_type": "execute_result"
    }
   ],
   "source": [
    "# 1. Напишите функцию, которая принимает список кортежей от пользователя, где каждый кортеж содержит информацию о студенте (имя, возраст, средний балл). \n",
    "# Программа должна вывести на экран имена студентов, чей средний балл выше заданного значения. Используйте методы кортежей и циклы для обработки данных.\n",
    "# Выведите итоговый список на экран с помощью команды print.\n",
    "\n",
    "def get_avg_rating():\n",
    "    num_students =[]\n",
    "\n",
    "    while True:\n",
    "        name = input('Name >>')\n",
    "        if name == 'exit':\n",
    "             break\n",
    "        age = input('Age >>')\n",
    "        average_rating = input('Average rating >>')\n",
    "        student = (name, int(age), int(average_rating))\n",
    "        num_students.append(student)\n",
    "\n",
    "\n",
    "    treshold = int(input('Enter treshold value of average rating:'))\n",
    "\n",
    "    for student in num_students:\n",
    "        name, age, average_rating = student\n",
    "        if average_rating >= treshold:\n",
    "            print(f'Students with average rating above treshold {treshold}: {name}')\n",
    "\n",
    "    return num_students\n",
    "\n",
    "\n",
    "get_avg_rating()"
   ]
  },
  {
   "cell_type": "code",
   "execution_count": 3,
   "id": "8f3c4c49-ab02-488e-968f-54a4d4235208",
   "metadata": {},
   "outputs": [
    {
     "name": "stdin",
     "output_type": "stream",
     "text": [
      ">> Программирование это интересно и полезно\n"
     ]
    },
    {
     "name": "stdout",
     "output_type": "stream",
     "text": [
      "(16, 3, 9, 1, 7)\n"
     ]
    }
   ],
   "source": [
    "# 2. Напишите программу, которая принимает строку от пользователя и разбивает ее на отдельные слова. \n",
    "# Затем программа должна создать новый кортеж, содержащий длину каждого слова в исходной строке. Используйте методы строк и кортежей для обработки данных.\n",
    "\n",
    "lst = list(input('>>').split())\n",
    "count_simb = []\n",
    "\n",
    "i = 0\n",
    "for item in lst:\n",
    "    count_simb.append(len(lst[i]))\n",
    "    i += 1\n",
    "\n",
    "a = tuple(count_simb)\n",
    "print(a)"
   ]
  },
  {
   "cell_type": "code",
   "execution_count": null,
   "id": "e0f502a5-7537-4cc5-a405-17100f359dc3",
   "metadata": {},
   "outputs": [],
   "source": []
  }
 ],
 "metadata": {
  "kernelspec": {
   "display_name": "Python 3 (ipykernel)",
   "language": "python",
   "name": "python3"
  },
  "language_info": {
   "codemirror_mode": {
    "name": "ipython",
    "version": 3
   },
   "file_extension": ".py",
   "mimetype": "text/x-python",
   "name": "python",
   "nbconvert_exporter": "python",
   "pygments_lexer": "ipython3",
   "version": "3.12.5"
  }
 },
 "nbformat": 4,
 "nbformat_minor": 5
}
