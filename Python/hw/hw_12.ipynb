{
 "cells": [
  {
   "cell_type": "code",
   "execution_count": null,
   "id": "d5ec7478-0830-4399-80aa-7fd73e77ba36",
   "metadata": {},
   "outputs": [],
   "source": [
    "1. Напишите программу, которая запрашивает у пользователя число N и выводит на экран таблицу умножения от 1 до N. \n",
    "Используйте вложенный цикл for для создания таблицы умножения. Выведите результат на экран с помощью команды print."
   ]
  },
  {
   "cell_type": "code",
   "execution_count": 18,
   "id": "9ae378d9-f3f9-432a-ae28-6e2b53958c65",
   "metadata": {},
   "outputs": [
    {
     "name": "stdin",
     "output_type": "stream",
     "text": [
      "Enter number:  3\n"
     ]
    },
    {
     "name": "stdout",
     "output_type": "stream",
     "text": [
      "2\n",
      "3\n",
      "2\n",
      "3\n",
      "2\n",
      "3\n"
     ]
    }
   ],
   "source": [
    "n = int(input('Enter number: '))\n",
    "\n",
    "for item in range(1, n+1):\n",
    "    for item in range(2, n+1):\n",
    "        print(item, sep =' ')"
   ]
  },
  {
   "cell_type": "code",
   "execution_count": null,
   "id": "524d89a4-8c82-4106-913d-2d88654791e2",
   "metadata": {},
   "outputs": [],
   "source": []
  }
 ],
 "metadata": {
  "kernelspec": {
   "display_name": "Python 3 (ipykernel)",
   "language": "python",
   "name": "python3"
  },
  "language_info": {
   "codemirror_mode": {
    "name": "ipython",
    "version": 3
   },
   "file_extension": ".py",
   "mimetype": "text/x-python",
   "name": "python",
   "nbconvert_exporter": "python",
   "pygments_lexer": "ipython3",
   "version": "3.12.5"
  }
 },
 "nbformat": 4,
 "nbformat_minor": 5
}
