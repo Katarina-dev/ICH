{
 "cells": [
  {
   "cell_type": "code",
   "execution_count": null,
   "id": "c83dad0f-5138-418a-9434-13ce0452595b",
   "metadata": {},
   "outputs": [],
   "source": [
    "1. Напишите программу, которая запрашивает у пользователя число N и выводит на экран таблицу умножения от 1 до N. \n",
    "Используйте вложенный цикл for для создания таблицы умножения. Выведите результат на экран с помощью команды print."
   ]
  },
  {
   "cell_type": "code",
   "execution_count": 13,
   "id": "0e893506-df7f-49a9-83f7-d43996ae1e87",
   "metadata": {},
   "outputs": [
    {
     "name": "stdin",
     "output_type": "stream",
     "text": [
      ">> 5\n"
     ]
    },
    {
     "name": "stdout",
     "output_type": "stream",
     "text": [
      "      1   2   3   4   5\n",
      "                       \n",
      " 1    1   2   3   4   5\n",
      " 2    2   4   6   8  10\n",
      " 3    3   6   9  12  15\n",
      " 4    4   8  12  16  20\n",
      " 5    5  10  15  20  25\n"
     ]
    }
   ],
   "source": [
    "N = int(input(\">>\"))\n",
    "\n",
    "print(\"   \", end=\"\")\n",
    "for i in range(1, N+1):\n",
    "    print(f\"{i:4}\", end=\"\")\n",
    "print()\n",
    "\n",
    "print(\"   \" + \" \" * (N * 4))\n",
    "\n",
    "for k in range(1, N+1):\n",
    "    print(f\"{k:2} \", end=\"\")\n",
    "    for i in range(1, N+1):\n",
    "        print(f\"{k * i:4}\", end=\"\")\n",
    "    print() "
   ]
  },
  {
   "cell_type": "code",
   "execution_count": null,
   "id": "736d3a91-17f0-4ccc-8b50-5af4716c99b5",
   "metadata": {},
   "outputs": [],
   "source": [
    "2. Напишите программу, которая принимает два списка одинаковой длины и создает новый список, содержащий пары элементов из исходных списков. \n",
    "Используйте функцию zip() для создания пар элементов. Выведите результат на экран с помощью команды print."
   ]
  },
  {
   "cell_type": "code",
   "execution_count": 14,
   "id": "3e31a43d-0fd2-4d05-a922-f1985989a5b0",
   "metadata": {},
   "outputs": [
    {
     "name": "stdin",
     "output_type": "stream",
     "text": [
      "List_1 >> 1 2 3 4 5\n",
      "List_2 >> A B C D E\n"
     ]
    },
    {
     "name": "stdout",
     "output_type": "stream",
     "text": [
      "[(1, 'A'), (2, 'B'), (3, 'C'), (4, 'D'), (5, 'E')]\n"
     ]
    }
   ],
   "source": [
    "list1 = input(\"List_1 >>\").split()\n",
    "list2 = input(\"List_2 >>\").split()\n",
    "\n",
    "list1 = [int(x) for x in list1]\n",
    "\n",
    "\n",
    "t_list = list(zip(list1, list2))\n",
    "\n",
    "print(t_list)"
   ]
  },
  {
   "cell_type": "code",
   "execution_count": null,
   "id": "e82fabcf-7477-4b89-b76c-5f742fb208ba",
   "metadata": {},
   "outputs": [],
   "source": []
  }
 ],
 "metadata": {
  "kernelspec": {
   "display_name": "Python 3 (ipykernel)",
   "language": "python",
   "name": "python3"
  },
  "language_info": {
   "codemirror_mode": {
    "name": "ipython",
    "version": 3
   },
   "file_extension": ".py",
   "mimetype": "text/x-python",
   "name": "python",
   "nbconvert_exporter": "python",
   "pygments_lexer": "ipython3",
   "version": "3.12.5"
  }
 },
 "nbformat": 4,
 "nbformat_minor": 5
}
