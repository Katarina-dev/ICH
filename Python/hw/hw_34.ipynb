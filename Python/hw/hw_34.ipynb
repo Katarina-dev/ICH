{
 "cells": [
  {
   "cell_type": "code",
   "execution_count": 4,
   "id": "a343fb34-8cc1-45d2-b790-1996e8beb3cf",
   "metadata": {},
   "outputs": [
    {
     "name": "stdout",
     "output_type": "stream",
     "text": [
      "Match found: ['info@example.com', 'support@example.com']\n"
     ]
    }
   ],
   "source": [
    "# 1. Напишите функцию extract_emails(text), которая извлекает все адреса электронной почты из заданного текста \n",
    "# и возвращает их в виде списка.\n",
    "\n",
    "import re\n",
    "from re import findall\n",
    "\n",
    "\n",
    "def extract_emails(text):\n",
    "\n",
    "    if match := re.findall(r'\\b[A-Za-z0-9._%+-]+@[A-Za-z0-9.-]+\\.[A-Za-z]{2,}\\b', text):\n",
    "        return f'Match found: {match}'\n",
    "    else:\n",
    "        return f'No match'\n",
    "\n",
    "text_test = \"Contact us at info@example.com or support@example.com for assistance.\"\n",
    "res = extract_emails(text_test)\n",
    "print(res)"
   ]
  },
  {
   "cell_type": "code",
   "execution_count": null,
   "id": "91cdcf7b-819b-44f6-a246-fe41c317c190",
   "metadata": {},
   "outputs": [],
   "source": [
    "# Напишите функцию highlight_keywords(text, keywords), которая выделяет все вхождения заданных ключевых слов в \n",
    "# тексте, окружая их символами *. Функция должна быть регистронезависимой при поиске ключевых слов.\n",
    "\n",
    "\n",
    "import re\n",
    "from re import findall\n",
    "\n",
    "def highlight_keywords(text, keywords):\n",
    "    for word in keywords:\n",
    "        text = re.sub(rf'\\b{word}\\b', r'*\\g<0>*', text, flags=re.I)\n",
    "    return text\n",
    "\n",
    "\n",
    "text_test = \"This is a sample text. We need to highlight Python and programming.\"\n",
    "\n",
    "keywords = [\"python\", \"programming\"]\n",
    "\n",
    "highlighted_text = highlight_keywords(text_test, keywords)\n",
    "\n",
    "print(highlighted_text)"
   ]
  }
 ],
 "metadata": {
  "kernelspec": {
   "display_name": "Python 3 (ipykernel)",
   "language": "python",
   "name": "python3"
  },
  "language_info": {
   "codemirror_mode": {
    "name": "ipython",
    "version": 3
   },
   "file_extension": ".py",
   "mimetype": "text/x-python",
   "name": "python",
   "nbconvert_exporter": "python",
   "pygments_lexer": "ipython3",
   "version": "3.12.5"
  }
 },
 "nbformat": 4,
 "nbformat_minor": 5
}
