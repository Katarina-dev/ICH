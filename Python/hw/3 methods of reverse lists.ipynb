{
 "cells": [
  {
   "cell_type": "code",
   "execution_count": null,
   "id": "9f1a4f2a-5888-4540-83da-416965904a80",
   "metadata": {},
   "outputs": [],
   "source": [
    "Три способа обработки списка в обратном порядке:"
   ]
  },
  {
   "cell_type": "code",
   "execution_count": null,
   "id": "bd8d911b-6194-4901-a4e6-3d53d2cf3141",
   "metadata": {},
   "outputs": [],
   "source": [
    "x = [1, 2, 3, 4] # будет доступ и к исходному, и к модиифицированному списку\n",
    "\n",
    "y = x[::-1]\n",
    "print(y)\n",
    "print(id(x))\n",
    "print(id(y))"
   ]
  },
  {
   "cell_type": "code",
   "execution_count": null,
   "id": "19c59f26-4608-41bd-af62-28b2cd124f87",
   "metadata": {},
   "outputs": [],
   "source": [
    "x = [1, 2, 3, 4] # будет создан новый список в обратном порядке, а старый удален\n",
    "print(id(x))\n",
    "x.reverse()\n",
    "print(x)\n",
    "print(id(x)"
   ]
  },
  {
   "cell_type": "code",
   "execution_count": null,
   "id": "a8660697-bcf6-423d-95f3-08ed65dd6fbd",
   "metadata": {},
   "outputs": [],
   "source": [
    "x = [1, 2, 3, 4, 5] # простой перебор исходного списка в обратном порядке\n",
    "\n",
    "for item in reversed(x):\n",
    "    print(item)"
   ]
  }
 ],
 "metadata": {
  "kernelspec": {
   "display_name": "Python 3 (ipykernel)",
   "language": "python",
   "name": "python3"
  },
  "language_info": {
   "codemirror_mode": {
    "name": "ipython",
    "version": 3
   },
   "file_extension": ".py",
   "mimetype": "text/x-python",
   "name": "python",
   "nbconvert_exporter": "python",
   "pygments_lexer": "ipython3",
   "version": "3.12.5"
  }
 },
 "nbformat": 4,
 "nbformat_minor": 5
}
