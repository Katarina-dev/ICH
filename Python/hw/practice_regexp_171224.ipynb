{
 "cells": [
  {
   "cell_type": "code",
   "execution_count": null,
   "id": "82634e01-215d-4c1b-b36d-7c5f1fc0488f",
   "metadata": {},
   "outputs": [],
   "source": [
    "# 1. Определите, содержит ли заданная строка набор данных символов (a-z, A-Z и 0-9).\n",
    "# 2. Определите, содержит ли строка символ ‘a’, за которым следует ноль или более символов ‘b’.\n",
    "# 3. Определите, содержит ли строка символ ‘a’, за которым следует 1 или более символов ‘b’.\n",
    "# 4. Определите, содержит ли строка символ ‘a’, за которым следует 0 или 1 символ ‘b’.\n",
    "# 5. Определите, содержит ли строка символ z.\n",
    "\n",
    "import re\n",
    "\n",
    "text = \"Python is an amazing programming language.\"\n",
    "if match := re.search(r\"[a-zA-Z0-9]+\", text):\n",
    "    print(\"Match found:\", match.group(0))\n",
    "else:\n",
    "    print(\"No match\")"
   ]
  },
  {
   "cell_type": "code",
   "execution_count": 4,
   "id": "075d9447-5de6-4975-9a94-f67de7d5001c",
   "metadata": {},
   "outputs": [
    {
     "name": "stdout",
     "output_type": "stream",
     "text": [
      "Match found: ab\n"
     ]
    }
   ],
   "source": [
    "# 2. Определите, содержит ли строка символ ‘a’, за которым следует ноль или более символов ‘b’.\n",
    "\n",
    "import re\n",
    "\n",
    "text = \"Python is abababbbn abmazing programming language.\"\n",
    "if match := re.search(r\"ab*\", text):\n",
    "    print(\"Match found:\", match.group(0))\n",
    "else:\n",
    "    print(\"No match\")"
   ]
  },
  {
   "cell_type": "code",
   "execution_count": 5,
   "id": "a0d15e6e-0a48-457f-a5b5-219ba25c36f0",
   "metadata": {},
   "outputs": [
    {
     "name": "stdout",
     "output_type": "stream",
     "text": [
      "Match found: abbb\n"
     ]
    }
   ],
   "source": [
    "# 3. Определите, содержит ли строка символ ‘a’, за которым следует 1 или более символов ‘b’.\n",
    "\n",
    "import re\n",
    "\n",
    "text = \"Python is an abbbmazing programming language.\"\n",
    "if match := re.search(r\"a[b]+\", text):\n",
    "    print(\"Match found:\", match.group(0))\n",
    "else:\n",
    "    print(\"No match\")"
   ]
  },
  {
   "cell_type": "code",
   "execution_count": null,
   "id": "61550359-641a-420b-8b2f-3607a08f5714",
   "metadata": {},
   "outputs": [],
   "source": [
    "# 4. Определите, содержит ли строка символ ‘a’, за которым следует 0 или 1 символ ‘b’.\n",
    "\n",
    "import re\n",
    "\n",
    "text = \"Python is abbn abmazing programming language.\"\n",
    "if match := re.search(r\"a[b]?\", text):\n",
    "    print(\"Match found:\", match.group(0))\n",
    "else:\n",
    "    print(\"No match\")"
   ]
  },
  {
   "cell_type": "code",
   "execution_count": null,
   "id": "80f40b11-7dc2-4633-bce9-203b1d439651",
   "metadata": {},
   "outputs": [],
   "source": [
    "# 5. Определите, содержит ли строка символ z.\n",
    "\n",
    "import re\n",
    "\n",
    "text = \"Python is abbn abmazzing programming language.\"\n",
    "if match := re.search(r\"z+\", text):\n",
    "    print(\"Match found:\", match.group(0))\n",
    "else:\n",
    "    print(\"No match\")"
   ]
  },
  {
   "cell_type": "code",
   "execution_count": null,
   "id": "6ae6dd6f-feee-4530-8489-b31a55a0f9ff",
   "metadata": {},
   "outputs": [],
   "source": [
    "# 6. Определите, содержит ли строка только буквы, цифры и символ подчеркивания.\n",
    "# 7. Определите, начинается ли строка с заданного числа.\n",
    "# 8. Напишите программу, которая удаляет нули (0) перед цифрами в IP адресе. Например,\n",
    "# “192.01.001.10” → “192.1.1.10”\n",
    "# 9. Определите, содержит ли строка цифры в конце.\n",
    "# 10. Найдите вхождения и позиции подстроки в строке. Пример: строка “Домашние задания,\n",
    "# задания в классе, отпускные задания”, подстрока “задания”, вывод “задания” на 9:15,\n",
    "# “задания” на 18:24, “задания” на 46:52.\n",
    "\n",
    "import re\n",
    "\n",
    "text = \"Python_ is an amazing programming language.\"\n",
    "# text = \"_привет\"\n",
    "if match := re.search(r\"\\w+\", text):\n",
    "    print(\"Match found:\", match.group(0))\n",
    "else:\n",
    "    print(\"No match\")"
   ]
  },
  {
   "cell_type": "code",
   "execution_count": null,
   "id": "b5086c82-8f2e-4d24-851f-e83a5b7d9507",
   "metadata": {},
   "outputs": [],
   "source": [
    "# 7. Определите, начинается ли строка с заданного числа.\n",
    "\n",
    "import re\n",
    "\n",
    "text = \"3Python_ is an amazing programming language.\"\n",
    "# text = \"Python_ is an 3amazing programming language.\"\n",
    "# text = \"_привет\"\n",
    "if match := re.search(r\"^3\", text):\n",
    "    print(\"Match found:\", match.group(0))\n",
    "else:\n",
    "    print(\"No match\")"
   ]
  },
  {
   "cell_type": "code",
   "execution_count": null,
   "id": "5b43b81c-c55d-4458-9fa7-af619ec424c5",
   "metadata": {},
   "outputs": [],
   "source": [
    "# 8. Напишите программу, которая удаляет нули (0) перед цифрами в IP адресе. Например,\n",
    "# “192.01.001.10” → “192.1.1.10”\n",
    "\n",
    "import re\n",
    "\n",
    "text = \"192.01.001.10\"\n",
    "\n",
    "pattern = r'\\b0+(\\d+)'\n",
    "\n",
    "replaced_text = re.sub(pattern, r\"\\1\", text)\n",
    "\n",
    "print(replaced_text)"
   ]
  },
  {
   "cell_type": "code",
   "execution_count": null,
   "id": "afc2057c-690b-4eac-a637-dc1d311168d9",
   "metadata": {},
   "outputs": [],
   "source": [
    "# 9. Определите, содержит ли строка цифры в конце.\n",
    "\n",
    "import re\n",
    "\n",
    "text = \"3Python_ is an amazing programming language.6567\"\n",
    "# text = \"Python_ is an 3amazing programming language.\"\n",
    "# text = \"_привет\"\n",
    "if match := re.search(r\"\\d+$\", text):\n",
    "    print(\"Match found:\", match.group(0))\n",
    "else:\n",
    "    print(\"No match\")"
   ]
  },
  {
   "cell_type": "code",
   "execution_count": 3,
   "id": "521b19a2-4ccc-4e14-9bc9-9f4a2983e44f",
   "metadata": {},
   "outputs": [
    {
     "name": "stdout",
     "output_type": "stream",
     "text": [
      "Совпадение: 'задания' на позиции: 9:16\n",
      "Совпадение: 'задания' на позиции: 18:25\n",
      "Совпадение: 'задания' на позиции: 46:53\n"
     ]
    }
   ],
   "source": [
    "# 10. Найдите вхождения и позиции подстроки в строке. Пример: строка “Домашние задания,\n",
    "# задания в классе, отпускные задания”, подстрока “задания”, вывод “задания” на 9:15,\n",
    "# “задания” на 18:24, “задания” на 46:52.\n",
    "import re\n",
    "\n",
    "text = \"Домашние задания, задания в классе, отпускные задания\"\n",
    "\n",
    "pattern = r\"задания\"\n",
    "\n",
    "# substring = re.findall(pattern, text)\n",
    "\n",
    "# print(substring)\n",
    "\n",
    "match = re.finditer(pattern, text)\n",
    "\n",
    "for string in match:\n",
    "    if string :\n",
    "        print(f\"Совпадение: '{string.group()}' на позиции: {string.start()}:{string.end()}\") \n",
    "    else: \n",
    "        print(\"Совпадений не найдено.\")"
   ]
  },
  {
   "cell_type": "code",
   "execution_count": null,
   "id": "96d14061-d476-42d0-a3ff-63f25df30230",
   "metadata": {},
   "outputs": [],
   "source": []
  }
 ],
 "metadata": {
  "kernelspec": {
   "display_name": "Python 3 (ipykernel)",
   "language": "python",
   "name": "python3"
  },
  "language_info": {
   "codemirror_mode": {
    "name": "ipython",
    "version": 3
   },
   "file_extension": ".py",
   "mimetype": "text/x-python",
   "name": "python",
   "nbconvert_exporter": "python",
   "pygments_lexer": "ipython3",
   "version": "3.12.5"
  }
 },
 "nbformat": 4,
 "nbformat_minor": 5
}
