{
 "cells": [
  {
   "cell_type": "code",
   "execution_count": 1,
   "id": "9378b1d5-55ac-4851-a345-81e7af8dd6d5",
   "metadata": {},
   "outputs": [
    {
     "name": "stdout",
     "output_type": "stream",
     "text": [
      "4\n",
      "7\n",
      "5\n",
      "5\n"
     ]
    }
   ],
   "source": [
    "# 1. Реализовать класс Counter, который представляет счетчик. Класс должен поддерживать следующие операции:\n",
    "#\n",
    "# - Увеличение значения счетчика на заданное число (оператор +=)\n",
    "#\n",
    "# - Уменьшение значения счетчика на заданное число (оператор -=)\n",
    "#\n",
    "# - Преобразование счетчика в строку (метод __str__)\n",
    "#\n",
    "# - Получение текущего значения счетчика (метод __int__)\n",
    "\n",
    "\n",
    "class Counter:\n",
    "    def __init__(self, x):\n",
    "        self.x = x\n",
    "\n",
    "    def __iadd__(self, other):\n",
    "        self.x += other\n",
    "        return self\n",
    "\n",
    "    def __isub__(self, other):\n",
    "        self.x -= other\n",
    "        return self\n",
    "\n",
    "    def __str__(self):\n",
    "        return str(self.x)\n",
    "\n",
    "    def __int__(self):\n",
    "        return self.x\n",
    "\n",
    "\n",
    "cnt = Counter(4)\n",
    "print(cnt)\n",
    "\n",
    "cnt += 3\n",
    "print(cnt)\n",
    "\n",
    "cnt -= 2\n",
    "print(cnt)\n",
    "\n",
    "print(int(cnt))\n"
   ]
  },
  {
   "cell_type": "code",
   "execution_count": 6,
   "id": "32b19173-cdae-40ad-a263-843bf939d17e",
   "metadata": {},
   "outputs": [
    {
     "name": "stdout",
     "output_type": "stream",
     "text": [
      "From: john@example.com\n",
      "To: jane@example.com\n",
      "Subject: Meeting\n",
      "\n",
      "Hi Jane, let's have a meeting tomorrow.\n",
      "\n",
      "25\n",
      "-2852245092111108037\n",
      "True\n",
      "True\n"
     ]
    }
   ],
   "source": [
    "# 2. Реализовать класс Email, представляющий электронное письмо. Класс должен поддерживать следующие операции:\n",
    "\n",
    "# - Сравнение писем по дате (операторы <, >, <=, >=, ==, !=)\n",
    "\n",
    "# - Преобразование письма в строку (метод __str__)\n",
    "\n",
    "# - Получение длины текста письма (метод __len__)\n",
    "\n",
    "# - Получение хеш-значения письма (метод __hash__)\n",
    "\n",
    "# - Проверка наличия текста в письме (метод __bool__)\n",
    "\n",
    "from datetime import datetime\n",
    "from functools import total_ordering\n",
    "\n",
    "@total_ordering\n",
    "class Email:\n",
    "    def __init__(self, sender, recipient, subject, body, date):\n",
    "        self.sender = sender\n",
    "        self.recipient = recipient\n",
    "        self.subject = subject\n",
    "        self.body = body\n",
    "        self.date = datetime.strptime(date, \"%Y-%m-%d\")\n",
    "\n",
    "    def __str__(self):\n",
    "        return (\n",
    "            f\"From: {self.sender}\\n\"\n",
    "            f\"To: {self.recipient}\\n\"\n",
    "            f\"Subject: {self.subject}\\n\\n\"\n",
    "            f\"{self.body}\\n\"\n",
    "        )\n",
    "\n",
    "    def __len__(self):\n",
    "        return len(self.body)\n",
    "\n",
    "    def __hash__(self):\n",
    "        return hash((self.sender, self.recipient, self.subject, self.date))\n",
    "\n",
    "    def __bool__(self):\n",
    "        return bool(self.body.strip())\n",
    "\n",
    "    def __eq__(self, other):\n",
    "        return self.date == other.date\n",
    "\n",
    "    def __lt__(self, other):\n",
    "        return self.date < other.date\n",
    "\n",
    "\n",
    "email1 = Email(\"john@example.com\", \"jane@example.com\", \"Meeting\", \"Hi Jane, let's have a meeting tomorrow.\", \"2022-05-10\")\n",
    "email2 = Email(\"jane@example.com\", \"john@example.com\", \"Re: Meeting\", \"Sure, let's meet at 2 PM.\", \"2022-05-10\")\n",
    "email3 = Email(\"alice@example.com\", \"bob@example.com\", \"Hello\", \"Hi Bob, how are you?\", \"2022-05-09\")\n",
    "\n",
    "print(email1)\n",
    "print(len(email2))  \n",
    "print(hash(email3))  \n",
    "print(bool(email1))\n",
    "print(email2 > email3) "
   ]
  },
  {
   "cell_type": "code",
   "execution_count": null,
   "id": "8d0a0f43-9ef8-492c-9f7b-dcbd7a86e22a",
   "metadata": {},
   "outputs": [],
   "source": []
  }
 ],
 "metadata": {
  "kernelspec": {
   "display_name": "Python 3 (ipykernel)",
   "language": "python",
   "name": "python3"
  },
  "language_info": {
   "codemirror_mode": {
    "name": "ipython",
    "version": 3
   },
   "file_extension": ".py",
   "mimetype": "text/x-python",
   "name": "python",
   "nbconvert_exporter": "python",
   "pygments_lexer": "ipython3",
   "version": "3.12.5"
  }
 },
 "nbformat": 4,
 "nbformat_minor": 5
}
