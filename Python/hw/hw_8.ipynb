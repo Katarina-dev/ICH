{
 "cells": [
  {
   "cell_type": "code",
   "execution_count": 6,
   "id": "7808abcd-e51b-47d6-ad10-ad1f3c9ce3d4",
   "metadata": {},
   "outputs": [
    {
     "name": "stdin",
     "output_type": "stream",
     "text": [
      "Enter an integer 1233456789\n"
     ]
    },
    {
     "name": "stdout",
     "output_type": "stream",
     "text": [
      "No\n"
     ]
    }
   ],
   "source": [
    "n = int(input('Enter an integer'))\n",
    "y = n\n",
    "m = 0\n",
    "\n",
    "while n > 0:\n",
    "    c = n % 10\n",
    "    m = m * 10 + c\n",
    "    n //= 10\n",
    "if y == m:\n",
    "    print('Yes')\n",
    "else:\n",
    "    print('No')"
   ]
  },
  {
   "cell_type": "code",
   "execution_count": 18,
   "id": "ef936846-18ce-4f88-ba7d-190502259764",
   "metadata": {},
   "outputs": [
    {
     "name": "stdin",
     "output_type": "stream",
     "text": [
      "Enter an integer 9475\n"
     ]
    },
    {
     "name": "stdout",
     "output_type": "stream",
     "text": [
      "The number 9475 isn't Armstrong's number\n"
     ]
    }
   ],
   "source": [
    "a = input('Enter an integer')\n",
    "pos = 0\n",
    "summa = 0\n",
    "\n",
    "st = int(len(a))\n",
    "num = int(a)\n",
    "y = int(a)\n",
    "\n",
    "while num > 0:\n",
    "    dig = (num % 10)**st\n",
    "    summa += dig\n",
    "    pos = pos * 10 + dig\n",
    "    num //= 10\n",
    "\n",
    "if summa == y:\n",
    "    print(f'''The number {a} is Armstrong's number''')\n",
    "else:\n",
    "     print(f'''The number {a} isn't Armstrong's number''')"
   ]
  },
  {
   "cell_type": "code",
   "execution_count": null,
   "id": "3b7cf798-85f8-4b9f-9c07-ab6a7915845a",
   "metadata": {},
   "outputs": [],
   "source": []
  }
 ],
 "metadata": {
  "kernelspec": {
   "display_name": "Python 3 (ipykernel)",
   "language": "python",
   "name": "python3"
  },
  "language_info": {
   "codemirror_mode": {
    "name": "ipython",
    "version": 3
   },
   "file_extension": ".py",
   "mimetype": "text/x-python",
   "name": "python",
   "nbconvert_exporter": "python",
   "pygments_lexer": "ipython3",
   "version": "3.12.5"
  }
 },
 "nbformat": 4,
 "nbformat_minor": 5
}
