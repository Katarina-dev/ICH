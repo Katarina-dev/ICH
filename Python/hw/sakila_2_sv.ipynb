{
 "cells": [
  {
   "cell_type": "code",
   "execution_count": 1,
   "id": "f82818bb-1cdf-4d26-b565-0a935b58a13b",
   "metadata": {},
   "outputs": [
    {
     "name": "stdout",
     "output_type": "stream",
     "text": [
      "\n",
      "Выберите действие:\n",
      "1. Поиск по категории\n",
      "2. Поиск по актеру\n",
      "3. Выход\n"
     ]
    },
    {
     "name": "stdin",
     "output_type": "stream",
     "text": [
      ">  1\n"
     ]
    },
    {
     "name": "stdout",
     "output_type": "stream",
     "text": [
      "\n",
      "Категории фильмов:\n",
      "1. Action\n",
      "2. Animation\n",
      "3. Children\n",
      "4. Classics\n",
      "5. Comedy\n",
      "6. Documentary\n",
      "7. Drama\n",
      "8. Family\n",
      "9. Foreign\n",
      "10. Games\n",
      "11. Horror\n",
      "12. Music\n",
      "13. New\n",
      "14. Sci-Fi\n",
      "15. Sports\n",
      "16. Travel\n"
     ]
    },
    {
     "name": "stdin",
     "output_type": "stream",
     "text": [
      "\n",
      "Введите номер категории:  3\n"
     ]
    },
    {
     "name": "stdout",
     "output_type": "stream",
     "text": [
      "\n",
      "Фильмы в выбранной категории:\n",
      "BACKLASH UNDEFEATED (2013) - A Stunning Character Study of a Mad Scientist And a Mad Cow who must Kill a Car in A Monastery...\n",
      "BEAR GRACELAND (2003) - A Astounding Saga of a Dog And a Boy who must Kill a Teacher in The First Manned Space Station...\n",
      "BENEATH RUSH (2009) - A Astounding Panorama of a Man And a Monkey who must Discover a Man in The First Manned Space Statio...\n",
      "BETRAYED REAR (1994) - A Emotional Character Study of a Boat And a Pioneer who must Find a Explorer in A Shark Tank...\n",
      "CABIN FLASH (2022) - A Stunning Epistle of a Boat And a Man who must Challenge a A Shark in A Baloon Factory...\n",
      "CASPER DRAGONFLY (2002) - A Intrepid Documentary of a Boat And a Crocodile who must Chase a Robot in The Sahara Desert...\n",
      "CHRISTMAS MOONSHINE (1990) - A Action-Packed Epistle of a Feminist And a Astronaut who must Conquer a Boat in A Manhattan Penthou...\n",
      "CIRCUS YOUTH (2001) - A Thoughtful Drama of a Pastry Chef And a Dentist who must Pursue a Girl in A Baloon...\n",
      "CLOCKWORK PARADISE (2004) - A Insightful Documentary of a Technical Writer And a Feminist who must Challenge a Cat in A Baloon...\n",
      "COMANCHEROS ENEMY (2006) - A Boring Saga of a Lumberjack And a Monkey who must Find a Monkey in The Gulf of Mexico...\n",
      "\n",
      "Выберите действие:\n",
      "1. Поиск по категории\n",
      "2. Поиск по актеру\n",
      "3. Выход\n"
     ]
    },
    {
     "name": "stdin",
     "output_type": "stream",
     "text": [
      ">  2\n",
      "\n",
      "Введите имя или фамилию актера:  CONNERY\n"
     ]
    },
    {
     "name": "stdout",
     "output_type": "stream",
     "text": [
      "\n",
      "Актер не найден.\n",
      "\n",
      "Выберите действие:\n",
      "1. Поиск по категории\n",
      "2. Поиск по актеру\n",
      "3. Выход\n"
     ]
    },
    {
     "name": "stdin",
     "output_type": "stream",
     "text": [
      ">  1\n"
     ]
    },
    {
     "name": "stdout",
     "output_type": "stream",
     "text": [
      "\n",
      "Категории фильмов:\n",
      "1. Action\n",
      "2. Animation\n",
      "3. Children\n",
      "4. Classics\n",
      "5. Comedy\n",
      "6. Documentary\n",
      "7. Drama\n",
      "8. Family\n",
      "9. Foreign\n",
      "10. Games\n",
      "11. Horror\n",
      "12. Music\n",
      "13. New\n",
      "14. Sci-Fi\n",
      "15. Sports\n",
      "16. Travel\n"
     ]
    },
    {
     "name": "stdin",
     "output_type": "stream",
     "text": [
      "\n",
      "Введите номер категории:  10\n"
     ]
    },
    {
     "name": "stdout",
     "output_type": "stream",
     "text": [
      "\n",
      "Фильмы в выбранной категории:\n",
      "AUTUMN CROW (1992) - A Beautiful Tale of a Dentist And a Mad Cow who must Battle a Moose in The Sahara Desert...\n",
      "BULWORTH COMMANDMENTS (2019) - A Amazing Display of a Mad Cow And a Pioneer who must Redeem a Sumo Wrestler in The Outback...\n",
      "CANDLES GRAPES (1993) - A Fanciful Character Study of a Monkey And a Explorer who must Build a Astronaut in An Abandoned Fun...\n",
      "CHICAGO NORTH (1988) - A Fateful Yarn of a Mad Cow And a Waitress who must Battle a Student in California...\n",
      "CREATURES SHAKESPEARE (1982) - A Emotional Drama of a Womanizer And a Squirrel who must Vanquish a Crocodile in Ancient India...\n",
      "CURTAIN VIDEOTAPE (2008) - A Boring Reflection of a Dentist And a Mad Cow who must Chase a Secret Agent in A Shark Tank...\n",
      "DARLING BREAKING (2012) - A Brilliant Documentary of a Astronaut And a Squirrel who must Succumb a Student in The Gulf of Mexi...\n",
      "DAWN POND (2009) - A Thoughtful Documentary of a Dentist And a Forensic Psychologist who must Defeat a Waitress in Berl...\n",
      "DAZED PUNK (2001) - A Action-Packed Story of a Pioneer And a Technical Writer who must Discover a Forensic Psychologist ...\n",
      "DETAILS PACKER (1986) - A Epic Saga of a Waitress And a Composer who must Face a Boat in A U-Boat...\n",
      "\n",
      "Выберите действие:\n",
      "1. Поиск по категории\n",
      "2. Поиск по актеру\n",
      "3. Выход\n"
     ]
    },
    {
     "name": "stdin",
     "output_type": "stream",
     "text": [
      ">  2\n",
      "\n",
      "Введите имя или фамилию актера:  BRET\n"
     ]
    },
    {
     "name": "stdout",
     "output_type": "stream",
     "text": [
      "\n",
      "Актер не найден.\n",
      "\n",
      "Выберите действие:\n",
      "1. Поиск по категории\n",
      "2. Поиск по актеру\n",
      "3. Выход\n"
     ]
    },
    {
     "name": "stdin",
     "output_type": "stream",
     "text": [
      ">  2\n",
      "\n",
      "Введите имя или фамилию актера:  GABLE\n"
     ]
    },
    {
     "name": "stdout",
     "output_type": "stream",
     "text": [
      "\n",
      "Найденные актеры:\n",
      "10. CHRISTIAN GABLE\n"
     ]
    },
    {
     "name": "stdin",
     "output_type": "stream",
     "text": [
      "\n",
      "Введите номер актера:  3\n"
     ]
    },
    {
     "name": "stdout",
     "output_type": "stream",
     "text": [
      "\n",
      "Фильмы с этим актером:\n",
      "ALONE TRIP (2016) - A Fast-Paced Character Study of a Composer And a Dog who must Outgun a Boat in An Abandoned Fun Hous...\n",
      "ARMY FLINTSTONES (2015) - A Boring Saga of a Database Administrator And a Womanizer who must Battle a Waitress in Nigeria...\n",
      "ARTIST COLDBLOODED (1982) - A Stunning Reflection of a Robot And a Moose who must Challenge a Woman in California...\n",
      "BOONDOCK BALLROOM (2012) - A Fateful Panorama of a Crocodile And a Boy who must Defeat a Monkey in The Gulf of Mexico...\n",
      "CADDYSHACK JEDI (2008) - A Awe-Inspiring Epistle of a Woman And a Madman who must Fight a Robot in Soviet Georgia...\n",
      "COWBOY DOOM (2022) - A Astounding Drama of a Boy And a Lumberjack who must Fight a Butler in A Baloon...\n",
      "EVE RESURRECTION (1986) - A Awe-Inspiring Yarn of a Pastry Chef And a Database Administrator who must Challenge a Teacher in A...\n",
      "FORREST SONS (1984) - A Thrilling Documentary of a Forensic Psychologist And a Butler who must Defeat a Explorer in A Jet ...\n",
      "FRENCH HOLIDAY (1985) - A Thrilling Epistle of a Dog And a Feminist who must Kill a Madman in Berlin...\n",
      "FROST HEAD (2006) - A Amazing Reflection of a Lumberjack And a Cat who must Discover a Husband in A MySQL Convention...\n",
      "\n",
      "Выберите действие:\n",
      "1. Поиск по категории\n",
      "2. Поиск по актеру\n",
      "3. Выход\n"
     ]
    },
    {
     "name": "stdin",
     "output_type": "stream",
     "text": [
      ">  3\n"
     ]
    },
    {
     "name": "stdout",
     "output_type": "stream",
     "text": [
      "\n",
      "Выход из программы.\n"
     ]
    }
   ],
   "source": [
    "import mysql.connector\n",
    "\n",
    "# Данные для подключения к базе данных\n",
    "dbconfig = {\n",
    "    'host': 'ich-db.ccegls0svc9m.eu-central-1.rds.amazonaws.com',\n",
    "    'user': 'ich1',\n",
    "    'password': 'password',\n",
    "    'database': 'sakila'\n",
    "}\n",
    "\n",
    "def connect_db():\n",
    "    \"\"\"Устанавливает соединение с базой данных.\"\"\"\n",
    "    return mysql.connector.connect(**dbconfig)\n",
    "\n",
    "def get_categories():\n",
    "    \"\"\"Выводит список категорий фильмов.\"\"\"\n",
    "    conn = connect_db()\n",
    "    cursor = conn.cursor()\n",
    "    cursor.execute(\"SELECT category_id, name FROM category\")\n",
    "    categories = cursor.fetchall()\n",
    "    conn.close()\n",
    "\n",
    "    print(\"\\nКатегории фильмов:\")\n",
    "    for cat_id, name in categories:\n",
    "        print(f\"{cat_id}. {name}\")\n",
    "    return categories\n",
    "\n",
    "def get_movies_by_category(category_id):\n",
    "    \"\"\"Выводит до 10 фильмов из указанной категории.\"\"\"\n",
    "    conn = connect_db()\n",
    "    cursor = conn.cursor()\n",
    "    query = \"\"\"\n",
    "        SELECT f.title, f.release_year, f.description \n",
    "        FROM film f\n",
    "        JOIN film_category fc ON f.film_id = fc.film_id\n",
    "        WHERE fc.category_id = %s\n",
    "        LIMIT 10\n",
    "    \"\"\"\n",
    "    cursor.execute(query, (category_id,))\n",
    "    movies = cursor.fetchall()\n",
    "    conn.close()\n",
    "\n",
    "    if movies:\n",
    "        print(\"\\nФильмы в выбранной категории:\")\n",
    "        for title, year, desc in movies:\n",
    "            print(f\"{title} ({year}) - {desc[:100]}...\")\n",
    "    else:\n",
    "        print(\"\\nНет фильмов в данной категории.\")\n",
    "\n",
    "def get_actors_by_name(name):\n",
    "    \"\"\"Ищет актеров по имени (LIKE) и предлагает выбрать одного.\"\"\"\n",
    "    conn = connect_db()\n",
    "    cursor = conn.cursor()\n",
    "    query = \"\"\"\n",
    "        SELECT actor_id, first_name, last_name FROM actor \n",
    "        WHERE first_name LIKE %s OR last_name LIKE %s\n",
    "    \"\"\"\n",
    "    cursor.execute(query, (f\"%{name}%\", f\"%{name}%\"))\n",
    "    actors = cursor.fetchall()\n",
    "    conn.close()\n",
    "\n",
    "    if not actors:\n",
    "        print(\"\\nАктер не найден.\")\n",
    "        return None\n",
    "\n",
    "    print(\"\\nНайденные актеры:\")\n",
    "    for actor_id, first, last in actors:\n",
    "        print(f\"{actor_id}. {first} {last}\")\n",
    "\n",
    "    selected_id = input(\"\\nВведите номер актера: \")\n",
    "    return selected_id if selected_id.isdigit() else None\n",
    "\n",
    "def get_movies_by_actor(actor_id):\n",
    "    \"\"\"Выводит 10 фильмов с указанным актером.\"\"\"\n",
    "    conn = connect_db()\n",
    "    cursor = conn.cursor()\n",
    "    query = \"\"\"\n",
    "        SELECT f.title, f.release_year, f.description\n",
    "        FROM film f\n",
    "        JOIN film_actor fa ON f.film_id = fa.film_id\n",
    "        WHERE fa.actor_id = %s\n",
    "        LIMIT 10\n",
    "    \"\"\"\n",
    "    cursor.execute(query, (actor_id,))\n",
    "    movies = cursor.fetchall()\n",
    "    conn.close()\n",
    "\n",
    "    if movies:\n",
    "        print(\"\\nФильмы с этим актером:\")\n",
    "        for title, year, desc in movies:\n",
    "            print(f\"{title} ({year}) - {desc[:100]}...\")\n",
    "    else:\n",
    "        print(\"\\nНет фильмов с этим актером.\")\n",
    "\n",
    "# Основной цикл работы\n",
    "while True:\n",
    "    print(\"\\nВыберите действие:\\n1. Поиск по категории\\n2. Поиск по актеру\\n3. Выход\")\n",
    "    choice = input(\"> \")\n",
    "\n",
    "    if choice == \"1\":\n",
    "        categories = get_categories()\n",
    "        category_id = input(\"\\nВведите номер категории: \")\n",
    "        if category_id.isdigit() and any(int(category_id) == c[0] for c in categories):\n",
    "            get_movies_by_category(category_id)\n",
    "        else:\n",
    "            print(\"\\nНекорректный ввод.\")\n",
    "\n",
    "    elif choice == \"2\":\n",
    "        actor_name = input(\"\\nВведите имя или фамилию актера: \")\n",
    "        actor_id = get_actors_by_name(actor_name)\n",
    "        if actor_id:\n",
    "            get_movies_by_actor(actor_id)\n",
    "\n",
    "    elif choice == \"3\":\n",
    "        print(\"\\nВыход из программы.\")\n",
    "        break\n",
    "\n",
    "    else:\n",
    "        print(\"\\nНекорректный выбор, попробуйте снова.\")\n"
   ]
  },
  {
   "cell_type": "code",
   "execution_count": 2,
   "id": "fafde368-55ae-4ca4-bdf4-a1badc1f6485",
   "metadata": {},
   "outputs": [
    {
     "name": "stdout",
     "output_type": "stream",
     "text": [
      "\n",
      "Выберите действие:\n",
      "1. Поиск по категории\n",
      "2. Поиск по актёру\n",
      "3. Выход\n"
     ]
    },
    {
     "name": "stdin",
     "output_type": "stream",
     "text": [
      ">  1\n"
     ]
    },
    {
     "name": "stdout",
     "output_type": "stream",
     "text": [
      "\n",
      "Категории фильмов:\n",
      "1. Action\n",
      "2. Animation\n",
      "3. Children\n",
      "4. Classics\n",
      "5. Comedy\n",
      "6. Documentary\n",
      "7. Drama\n",
      "8. Family\n",
      "9. Foreign\n",
      "10. Games\n",
      "11. Horror\n",
      "12. Music\n",
      "13. New\n",
      "14. Sci-Fi\n",
      "15. Sports\n",
      "16. Travel\n"
     ]
    },
    {
     "name": "stdin",
     "output_type": "stream",
     "text": [
      "\n",
      "Введите номер категории:  8\n"
     ]
    },
    {
     "name": "stdout",
     "output_type": "stream",
     "text": [
      "\n",
      "Фильмы в выбранной категории:\n",
      "AFRICAN EGG (2014) - A Fast-Paced Documentary of a Pastry Chef And a Dentist who must Pursue a Forensic Psychologist in T...\n",
      "APACHE DIVINE (2020) - A Awe-Inspiring Reflection of a Pastry Chef And a Teacher who must Overcome a Sumo Wrestler in A U-B...\n",
      "ATLANTIS CAUSE (1981) - A Thrilling Yarn of a Feminist And a Hunter who must Fight a Technical Writer in A Shark Tank...\n",
      "BAKED CLEOPATRA (1983) - A Stunning Drama of a Forensic Psychologist And a Husband who must Overcome a Waitress in A Monaster...\n",
      "BANG KWAI (2010) - A Epic Drama of a Madman And a Cat who must Face a A Shark in An Abandoned Amusement Park...\n",
      "BEDAZZLED MARRIED (2002) - A Astounding Character Study of a Madman And a Robot who must Meet a Mad Scientist in An Abandoned F...\n",
      "BILKO ANONYMOUS (2007) - A Emotional Reflection of a Teacher And a Man who must Meet a Cat in The First Manned Space Station...\n",
      "BLANKET BEVERLY (2015) - A Emotional Documentary of a Student And a Girl who must Build a Boat in Nigeria...\n",
      "BLOOD ARGONAUTS (2020) - A Boring Drama of a Explorer And a Man who must Kill a Lumberjack in A Manhattan Penthouse...\n",
      "BLUES INSTINCT (2023) - A Insightful Documentary of a Boat And a Composer who must Meet a Forensic Psychologist in An Abando...\n",
      "\n",
      "Выберите действие:\n",
      "1. Поиск по категории\n",
      "2. Поиск по актёру\n",
      "3. Выход\n"
     ]
    },
    {
     "name": "stdin",
     "output_type": "stream",
     "text": [
      ">  2\n",
      "\n",
      "Введите имя или фамилию актёра:  GABLE\n"
     ]
    },
    {
     "name": "stdout",
     "output_type": "stream",
     "text": [
      "\n",
      "Найденные актёры:\n",
      "10. CHRISTIAN GABLE\n"
     ]
    },
    {
     "name": "stdin",
     "output_type": "stream",
     "text": [
      "\n",
      "Введите номер актёра:  10\n"
     ]
    },
    {
     "name": "stdout",
     "output_type": "stream",
     "text": [
      "\n",
      "Фильмы с этим актёром:\n",
      "ACADEMY DINOSAUR (2013) - A Epic Drama of a Feminist And a Mad Scientist who must Battle a Teacher in The Canadian Rockies...\n",
      "ALABAMA DEVIL (1986) - A Thoughtful Panorama of a Database Administrator And a Mad Scientist who must Outgun a Mad Scientis...\n",
      "CROOKED FROGMEN (2011) - A Unbelieveable Drama of a Hunter And a Database Administrator who must Battle a Crocodile in An Aba...\n",
      "DIVINE RESURRECTION (2006) - A Boring Character Study of a Man And a Womanizer who must Succumb a Teacher in An Abandoned Amuseme...\n",
      "DRAGONFLY STRANGERS (1984) - A Boring Documentary of a Pioneer And a Man who must Vanquish a Man in Nigeria...\n",
      "GOLDFINGER SENSIBILITY (1992) - A Insightful Drama of a Mad Scientist And a Hunter who must Defeat a Pastry Chef in New Orleans...\n",
      "JAWBREAKER BROOKLYN (1991) - A Stunning Reflection of a Boat And a Pastry Chef who must Succumb a A Shark in A Jet Boat...\n",
      "JEEPERS WEDDING (2017) - A Astounding Display of a Composer And a Dog who must Kill a Pastry Chef in Soviet Georgia...\n",
      "LIFE TWISTED (1985) - A Thrilling Reflection of a Teacher And a Composer who must Find a Man in The First Manned Space Sta...\n",
      "LORD ARIZONA (1988) - A Action-Packed Display of a Frisbee And a Pastry Chef who must Pursue a Crocodile in A Jet Boat...\n",
      "\n",
      "Выберите действие:\n",
      "1. Поиск по категории\n",
      "2. Поиск по актёру\n",
      "3. Выход\n"
     ]
    },
    {
     "name": "stdin",
     "output_type": "stream",
     "text": [
      ">  3\n"
     ]
    },
    {
     "name": "stdout",
     "output_type": "stream",
     "text": [
      "\n",
      "Выход из программы.\n"
     ]
    }
   ],
   "source": [
    "import mysql.connector\n",
    "\n",
    "# Подключение к базе данных\n",
    "dbconfig = {\n",
    "    'host': 'ich-db.ccegls0svc9m.eu-central-1.rds.amazonaws.com',\n",
    "    'user': 'ich1',\n",
    "    'password': 'password',\n",
    "    'database': 'sakila'\n",
    "}\n",
    "\n",
    "def connect_db():\n",
    "    \"\"\"Устанавливает соединение с базой данных.\"\"\"\n",
    "    return mysql.connector.connect(**dbconfig)\n",
    "\n",
    "def get_categories():\n",
    "    \"\"\"Выводит список категорий фильмов.\"\"\"\n",
    "    conn = connect_db()\n",
    "    cursor = conn.cursor()\n",
    "    cursor.execute(\"SELECT category_id, name FROM category\")\n",
    "    categories = cursor.fetchall()\n",
    "    conn.close()\n",
    "\n",
    "    print(\"\\nКатегории фильмов:\")\n",
    "    for cat_id, name in categories:\n",
    "        print(f\"{cat_id}. {name}\")\n",
    "    return categories\n",
    "\n",
    "def get_movies_by_category(category_id):\n",
    "    \"\"\"Выводит до 10 фильмов из указанной категории.\"\"\"\n",
    "    conn = connect_db()\n",
    "    cursor = conn.cursor()\n",
    "    query = \"\"\"\n",
    "        SELECT f.title, f.release_year, f.description \n",
    "        FROM film f\n",
    "        JOIN film_category fc ON f.film_id = fc.film_id\n",
    "        WHERE fc.category_id = %s\n",
    "        LIMIT 10\n",
    "    \"\"\"\n",
    "    cursor.execute(query, (category_id,))\n",
    "    movies = cursor.fetchall()\n",
    "    conn.close()\n",
    "\n",
    "    if movies:\n",
    "        print(\"\\nФильмы в выбранной категории:\")\n",
    "        for title, year, desc in movies:\n",
    "            print(f\"{title} ({year}) - {desc[:100]}...\")\n",
    "    else:\n",
    "        print(\"\\nНет фильмов в данной категории.\")\n",
    "\n",
    "def get_actor_id_by_name(name):\n",
    "    \"\"\"Ищет актёров по имени и позволяет выбрать одного.\"\"\"\n",
    "    conn = connect_db()\n",
    "    cursor = conn.cursor()\n",
    "    query = \"\"\"\n",
    "        SELECT actor_id, first_name, last_name \n",
    "        FROM actor \n",
    "        WHERE first_name LIKE %s OR last_name LIKE %s\n",
    "    \"\"\"\n",
    "    cursor.execute(query, (f\"%{name}%\", f\"%{name}%\"))\n",
    "    actors = cursor.fetchall()\n",
    "    conn.close()\n",
    "\n",
    "    if not actors:\n",
    "        print(\"\\nАктёр не найден.\")\n",
    "        return None\n",
    "\n",
    "    print(\"\\nНайденные актёры:\")\n",
    "    for actor_id, first, last in actors:\n",
    "        print(f\"{actor_id}. {first} {last}\")\n",
    "\n",
    "    selected_id = input(\"\\nВведите номер актёра: \")\n",
    "    return int(selected_id) if selected_id.isdigit() and any(int(selected_id) == a[0] for a in actors) else None\n",
    "\n",
    "def get_movies_by_actor(actor_id):\n",
    "    \"\"\"Выводит до 10 фильмов с указанным актёром.\"\"\"\n",
    "    conn = connect_db()\n",
    "    cursor = conn.cursor()\n",
    "    query = \"\"\"\n",
    "        SELECT f.title, f.release_year, f.description\n",
    "        FROM film f\n",
    "        JOIN film_actor fa ON f.film_id = fa.film_id\n",
    "        WHERE fa.actor_id = %s\n",
    "        LIMIT 10\n",
    "    \"\"\"\n",
    "    cursor.execute(query, (actor_id,))\n",
    "    movies = cursor.fetchall()\n",
    "    conn.close()\n",
    "\n",
    "    if movies:\n",
    "        print(\"\\nФильмы с этим актёром:\")\n",
    "        for title, year, desc in movies:\n",
    "            print(f\"{title} ({year}) - {desc[:100]}...\")\n",
    "    else:\n",
    "        print(\"\\nНет фильмов с этим актёром.\")\n",
    "\n",
    "# Основной цикл работы\n",
    "while True:\n",
    "    print(\"\\nВыберите действие:\\n1. Поиск по категории\\n2. Поиск по актёру\\n3. Выход\")\n",
    "    choice = input(\"> \")\n",
    "\n",
    "    if choice == \"1\":\n",
    "        categories = get_categories()\n",
    "        category_id = input(\"\\nВведите номер категории: \")\n",
    "        if category_id.isdigit() and any(int(category_id) == c[0] for c in categories):\n",
    "            get_movies_by_category(category_id)\n",
    "        else:\n",
    "            print(\"\\nНекорректный ввод.\")\n",
    "\n",
    "    elif choice == \"2\":\n",
    "        actor_name = input(\"\\nВведите имя или фамилию актёра: \")\n",
    "        actor_id = get_actor_id_by_name(actor_name)\n",
    "        if actor_id:\n",
    "            get_movies_by_actor(actor_id)\n",
    "\n",
    "    elif choice == \"3\":\n",
    "        print(\"\\nВыход из программы.\")\n",
    "        break\n",
    "\n",
    "    else:\n",
    "        print(\"\\nНекорректный выбор, попробуйте снова.\")\n"
   ]
  },
  {
   "cell_type": "code",
   "execution_count": 3,
   "id": "4a71fc68-2077-4866-8268-e3f6e469dfe3",
   "metadata": {},
   "outputs": [
    {
     "name": "stdout",
     "output_type": "stream",
     "text": [
      "\n",
      "Выберите действие:\n",
      "1. Поиск по категории\n",
      "2. Поиск по актёру\n",
      "3. Выход\n"
     ]
    },
    {
     "name": "stdin",
     "output_type": "stream",
     "text": [
      ">  1\n"
     ]
    },
    {
     "name": "stdout",
     "output_type": "stream",
     "text": [
      "1. Action\n",
      "2. Animation\n",
      "3. Children\n",
      "4. Classics\n",
      "5. Comedy\n",
      "6. Documentary\n",
      "7. Drama\n",
      "8. Family\n",
      "9. Foreign\n",
      "10. Games\n",
      "11. Horror\n",
      "12. Music\n",
      "13. New\n",
      "14. Sci-Fi\n",
      "15. Sports\n",
      "16. Travel\n"
     ]
    },
    {
     "name": "stdin",
     "output_type": "stream",
     "text": [
      "\n",
      "Введите номер категории:  7\n"
     ]
    },
    {
     "name": "stdout",
     "output_type": "stream",
     "text": [
      "APOLLO TEEN (2006) - A Action-Packed Reflection of a Crocodile And a Explorer who must Find a Sumo Wrestler in An Abandon...\n",
      "BEAUTY GREASE (1987) - A Fast-Paced Display of a Composer And a Moose who must Sink a Robot in An Abandoned Mine Shaft...\n",
      "BEETHOVEN EXORCIST (1986) - A Epic Display of a Pioneer And a Student who must Challenge a Butler in The Gulf of Mexico...\n",
      "BLADE POLISH (1996) - A Thoughtful Character Study of a Frisbee And a Pastry Chef who must Fight a Dentist in The First Ma...\n",
      "BRIGHT ENCOUNTERS (2007) - A Fateful Yarn of a Lumberjack And a Feminist who must Conquer a Student in A Jet Boat...\n",
      "BUNCH MINDS (1987) - A Emotional Story of a Feminist And a Feminist who must Escape a Pastry Chef in A MySQL Convention...\n",
      "CHILL LUCK (2022) - A Lacklusture Epistle of a Boat And a Technical Writer who must Fight a A Shark in The Canadian Rock...\n",
      "CHITTY LOCK (1984) - A Boring Epistle of a Boat And a Database Administrator who must Kill a Sumo Wrestler in The First M...\n",
      "CONEHEADS SMOOCHY (2000) - A Touching Story of a Womanizer And a Composer who must Pursue a Husband in Nigeria...\n",
      "CONFESSIONS MAGUIRE (1993) - A Insightful Story of a Car And a Boy who must Battle a Technical Writer in A Baloon...\n",
      "\n",
      "Выберите действие:\n",
      "1. Поиск по категории\n",
      "2. Поиск по актёру\n",
      "3. Выход\n"
     ]
    },
    {
     "name": "stdin",
     "output_type": "stream",
     "text": [
      ">  2\n",
      "\n",
      "Введите имя или фамилию актёра:  JOHANSSON\n"
     ]
    },
    {
     "name": "stdout",
     "output_type": "stream",
     "text": [
      "8. MATTHEW JOHANSSON\n",
      "64. RAY JOHANSSON\n",
      "146. ALBERT JOHANSSON\n"
     ]
    },
    {
     "name": "stdin",
     "output_type": "stream",
     "text": [
      "\n",
      "Введите номер актёра:  146\n"
     ]
    },
    {
     "name": "stdout",
     "output_type": "stream",
     "text": [
      "ALASKA PHANTOM (1990) - A Fanciful Saga of a Hunter And a Pastry Chef who must Vanquish a Boy in Australia...\n",
      "ALLEY EVOLUTION (1990) - A Fast-Paced Drama of a Robot And a Composer who must Battle a Astronaut in New Orleans...\n",
      "APOLLO TEEN (2006) - A Action-Packed Reflection of a Crocodile And a Explorer who must Find a Sumo Wrestler in An Abandon...\n",
      "CANDLES GRAPES (1993) - A Fanciful Character Study of a Monkey And a Explorer who must Build a Astronaut in An Abandoned Fun...\n",
      "CONNECTICUT TRAMP (1980) - A Unbelieveable Drama of a Crocodile And a Mad Cow who must Reach a Dentist in A Shark Tank...\n",
      "CROOKED FROGMEN (2011) - A Unbelieveable Drama of a Hunter And a Database Administrator who must Battle a Crocodile in An Aba...\n",
      "CRUSADE HONEY (1994) - A Fast-Paced Reflection of a Explorer And a Butler who must Battle a Madman in An Abandoned Amusemen...\n",
      "DANGEROUS UPTOWN (1983) - A Unbelieveable Story of a Mad Scientist And a Woman who must Overcome a Dog in California...\n",
      "DECEIVER BETRAYED (2014) - A Taut Story of a Moose And a Squirrel who must Build a Husband in Ancient India...\n",
      "ELF MURDER (1981) - A Action-Packed Story of a Frisbee And a Woman who must Reach a Girl in An Abandoned Mine Shaft...\n",
      "\n",
      "Выберите действие:\n",
      "1. Поиск по категории\n",
      "2. Поиск по актёру\n",
      "3. Выход\n"
     ]
    },
    {
     "name": "stdin",
     "output_type": "stream",
     "text": [
      ">  3\n"
     ]
    },
    {
     "name": "stdout",
     "output_type": "stream",
     "text": [
      "\n",
      "Выход из программы.\n"
     ]
    }
   ],
   "source": [
    "import mysql.connector\n",
    "\n",
    "# Подключение к базе данных\n",
    "dbconfig = {\n",
    "    'host': 'ich-db.ccegls0svc9m.eu-central-1.rds.amazonaws.com',\n",
    "    'user': 'ich1',\n",
    "    'password': 'password',\n",
    "    'database': 'sakila'\n",
    "}\n",
    "\n",
    "def connect_db():\n",
    "    \"\"\"Устанавливает соединение с базой данных и возвращает объект соединения.\"\"\"\n",
    "    try:\n",
    "        return mysql.connector.connect(**dbconfig)\n",
    "    except mysql.connector.Error as e:\n",
    "        return f\"Ошибка подключения к базе данных: {e}\"\n",
    "\n",
    "def get_categories():\n",
    "    \"\"\"Получает список категорий фильмов.\"\"\"\n",
    "    conn = connect_db()\n",
    "    if isinstance(conn, str):\n",
    "        return conn  # Ошибка соединения\n",
    "\n",
    "    try:\n",
    "        cursor = conn.cursor()\n",
    "        cursor.execute(\"SELECT category_id, name FROM category\")\n",
    "        categories = cursor.fetchall()\n",
    "        return categories\n",
    "    except mysql.connector.Error as e:\n",
    "        return f\"Ошибка при получении категорий: {e}\"\n",
    "    finally:\n",
    "        conn.close()\n",
    "\n",
    "def get_movies_by_category(category_id):\n",
    "    \"\"\"Получает до 10 фильмов из указанной категории.\"\"\"\n",
    "    conn = connect_db()\n",
    "    if isinstance(conn, str):\n",
    "        return conn  \n",
    "\n",
    "    try:\n",
    "        cursor = conn.cursor()\n",
    "        query = \"\"\"\n",
    "            SELECT f.title, f.release_year, f.description \n",
    "            FROM film f\n",
    "            JOIN film_category fc ON f.film_id = fc.film_id\n",
    "            WHERE fc.category_id = %s\n",
    "            LIMIT 10\n",
    "        \"\"\"\n",
    "        cursor.execute(query, (category_id,))\n",
    "        movies = cursor.fetchall()\n",
    "        return movies\n",
    "    except mysql.connector.Error as e:\n",
    "        return f\"Ошибка при получении фильмов: {e}\"\n",
    "    finally:\n",
    "        conn.close()\n",
    "\n",
    "def get_actor_id_by_name(name):\n",
    "    \"\"\"Ищет актёров по имени и возвращает список (actor_id, first_name, last_name).\"\"\"\n",
    "    conn = connect_db()\n",
    "    if isinstance(conn, str):\n",
    "        return conn  \n",
    "\n",
    "    try:\n",
    "        cursor = conn.cursor()\n",
    "        query = \"\"\"\n",
    "            SELECT actor_id, first_name, last_name \n",
    "            FROM actor \n",
    "            WHERE first_name LIKE %s OR last_name LIKE %s\n",
    "        \"\"\"\n",
    "        cursor.execute(query, (f\"%{name}%\", f\"%{name}%\"))\n",
    "        actors = cursor.fetchall()\n",
    "        return actors\n",
    "    except mysql.connector.Error as e:\n",
    "        return f\"Ошибка при поиске актёров: {e}\"\n",
    "    finally:\n",
    "        conn.close()\n",
    "\n",
    "def get_movies_by_actor(actor_id):\n",
    "    \"\"\"Получает до 10 фильмов с указанным актёром.\"\"\"\n",
    "    conn = connect_db()\n",
    "    if isinstance(conn, str):\n",
    "        return conn  \n",
    "\n",
    "    try:\n",
    "        cursor = conn.cursor()\n",
    "        query = \"\"\"\n",
    "            SELECT f.title, f.release_year, f.description\n",
    "            FROM film f\n",
    "            JOIN film_actor fa ON f.film_id = fa.film_id\n",
    "            WHERE fa.actor_id = %s\n",
    "            LIMIT 10\n",
    "        \"\"\"\n",
    "        cursor.execute(query, (actor_id,))\n",
    "        movies = cursor.fetchall()\n",
    "        return movies\n",
    "    except mysql.connector.Error as e:\n",
    "        return f\"Ошибка при получении фильмов актёра: {e}\"\n",
    "    finally:\n",
    "        conn.close()\n",
    "\n",
    "# Основной цикл работы\n",
    "while True:\n",
    "    print(\"\\nВыберите действие:\\n1. Поиск по категории\\n2. Поиск по актёру\\n3. Выход\")\n",
    "    choice = input(\"> \")\n",
    "\n",
    "    if choice == \"1\":\n",
    "        categories = get_categories()\n",
    "        if isinstance(categories, str):\n",
    "            print(categories)  # Вывод ошибки\n",
    "            continue\n",
    "\n",
    "        for cat_id, name in categories:\n",
    "            print(f\"{cat_id}. {name}\")\n",
    "\n",
    "        category_id = input(\"\\nВведите номер категории: \")\n",
    "        if category_id.isdigit() and any(int(category_id) == c[0] for c in categories):\n",
    "            movies = get_movies_by_category(int(category_id))\n",
    "            if isinstance(movies, str):\n",
    "                print(movies)  # Вывод ошибки\n",
    "                continue\n",
    "            for title, year, desc in movies:\n",
    "                print(f\"{title} ({year}) - {desc[:100]}...\")\n",
    "        else:\n",
    "            print(\"\\nНекорректный ввод.\")\n",
    "\n",
    "    elif choice == \"2\":\n",
    "        actor_name = input(\"\\nВведите имя или фамилию актёра: \")\n",
    "        actors = get_actor_id_by_name(actor_name)\n",
    "        if isinstance(actors, str):\n",
    "            print(actors)  \n",
    "            continue\n",
    "        if not actors:\n",
    "            print(\"\\nАктёр не найден.\")\n",
    "            continue\n",
    "\n",
    "        for actor_id, first, last in actors:\n",
    "            print(f\"{actor_id}. {first} {last}\")\n",
    "\n",
    "        selected_id = input(\"\\nВведите номер актёра: \")\n",
    "        if selected_id.isdigit() and any(int(selected_id) == a[0] for a in actors):\n",
    "            movies = get_movies_by_actor(int(selected_id))\n",
    "            if isinstance(movies, str):\n",
    "                print(movies)  # Вывод ошибки\n",
    "                continue\n",
    "            for title, year, desc in movies:\n",
    "                print(f\"{title} ({year}) - {desc[:100]}...\")\n",
    "        else:\n",
    "            print(\"\\nНекорректный ввод.\")\n",
    "\n",
    "    elif choice == \"3\":\n",
    "        print(\"\\nВыход из программы.\")\n",
    "        break\n",
    "\n",
    "    else:\n",
    "        print(\"\\nНекорректный выбор, попробуйте снова.\")\n"
   ]
  },
  {
   "cell_type": "code",
   "execution_count": 2,
   "id": "0ebd7d04-65f8-46e1-b955-9bce9e85e734",
   "metadata": {},
   "outputs": [
    {
     "name": "stdout",
     "output_type": "stream",
     "text": [
      "Коннект осуществлен\n",
      "\n",
      "Выберите действие:\n",
      "1. Поиск по категории\n",
      "2. Поиск по актёру\n",
      "3. Выход\n"
     ]
    },
    {
     "name": "stdin",
     "output_type": "stream",
     "text": [
      ">  1\n"
     ]
    },
    {
     "name": "stdout",
     "output_type": "stream",
     "text": [
      "1. Action\n",
      "2. Animation\n",
      "3. Children\n",
      "4. Classics\n",
      "5. Comedy\n",
      "6. Documentary\n",
      "7. Drama\n",
      "8. Family\n",
      "9. Foreign\n",
      "10. Games\n",
      "11. Horror\n",
      "12. Music\n",
      "13. New\n",
      "14. Sci-Fi\n",
      "15. Sports\n",
      "16. Travel\n"
     ]
    },
    {
     "name": "stdin",
     "output_type": "stream",
     "text": [
      "\n",
      "Введите номер категории:  7\n"
     ]
    },
    {
     "name": "stdout",
     "output_type": "stream",
     "text": [
      "APOLLO TEEN (2006) - A Action-Packed Reflection of a Crocodile And a Explorer who must Find a Sumo Wrestler in An Abandon...\n",
      "BEAUTY GREASE (1987) - A Fast-Paced Display of a Composer And a Moose who must Sink a Robot in An Abandoned Mine Shaft...\n",
      "BEETHOVEN EXORCIST (1986) - A Epic Display of a Pioneer And a Student who must Challenge a Butler in The Gulf of Mexico...\n",
      "BLADE POLISH (1996) - A Thoughtful Character Study of a Frisbee And a Pastry Chef who must Fight a Dentist in The First Ma...\n",
      "BRIGHT ENCOUNTERS (2007) - A Fateful Yarn of a Lumberjack And a Feminist who must Conquer a Student in A Jet Boat...\n",
      "BUNCH MINDS (1987) - A Emotional Story of a Feminist And a Feminist who must Escape a Pastry Chef in A MySQL Convention...\n",
      "CHILL LUCK (2022) - A Lacklusture Epistle of a Boat And a Technical Writer who must Fight a A Shark in The Canadian Rock...\n",
      "CHITTY LOCK (1984) - A Boring Epistle of a Boat And a Database Administrator who must Kill a Sumo Wrestler in The First M...\n",
      "CONEHEADS SMOOCHY (2000) - A Touching Story of a Womanizer And a Composer who must Pursue a Husband in Nigeria...\n",
      "CONFESSIONS MAGUIRE (1993) - A Insightful Story of a Car And a Boy who must Battle a Technical Writer in A Baloon...\n",
      "\n",
      "Выберите действие:\n",
      "1. Поиск по категории\n",
      "2. Поиск по актёру\n",
      "3. Выход\n"
     ]
    },
    {
     "name": "stdin",
     "output_type": "stream",
     "text": [
      ">  2\n",
      "\n",
      "Введите имя или фамилию актёра:  JOHANSSON\n"
     ]
    },
    {
     "name": "stdout",
     "output_type": "stream",
     "text": [
      "8. MATTHEW JOHANSSON\n",
      "64. RAY JOHANSSON\n",
      "146. ALBERT JOHANSSON\n"
     ]
    },
    {
     "name": "stdin",
     "output_type": "stream",
     "text": [
      "\n",
      "Введите номер актёра:  64\n"
     ]
    },
    {
     "name": "stdout",
     "output_type": "stream",
     "text": [
      "ADAPTATION HOLES (1981) - A Astounding Reflection of a Lumberjack And a Car who must Sink a Lumberjack in A Baloon Factory...\n",
      "ALADDIN CALENDAR (2008) - A Action-Packed Tale of a Man And a Lumberjack who must Reach a Feminist in Ancient China...\n",
      "ARIZONA BANG (1981) - A Brilliant Panorama of a Mad Scientist And a Mad Cow who must Meet a Pioneer in A Monastery...\n",
      "BOONDOCK BALLROOM (2012) - A Fateful Panorama of a Crocodile And a Boy who must Defeat a Monkey in The Gulf of Mexico...\n",
      "BORN SPINAL (2008) - A Touching Epistle of a Frisbee And a Husband who must Pursue a Student in Nigeria...\n",
      "CASPER DRAGONFLY (2002) - A Intrepid Documentary of a Boat And a Crocodile who must Chase a Robot in The Sahara Desert...\n",
      "CRUSADE HONEY (1994) - A Fast-Paced Reflection of a Explorer And a Butler who must Battle a Madman in An Abandoned Amusemen...\n",
      "EMPIRE MALKOVICH (1981) - A Amazing Story of a Feminist And a Cat who must Face a Car in An Abandoned Fun House...\n",
      "EVOLUTION ALTER (1992) - A Fanciful Character Study of a Feminist And a Madman who must Find a Explorer in A Baloon Factory...\n",
      "FELLOWSHIP AUTUMN (1998) - A Lacklusture Reflection of a Dentist And a Hunter who must Meet a Teacher in A Baloon...\n",
      "\n",
      "Выберите действие:\n",
      "1. Поиск по категории\n",
      "2. Поиск по актёру\n",
      "3. Выход\n"
     ]
    },
    {
     "name": "stdin",
     "output_type": "stream",
     "text": [
      ">  3\n"
     ]
    },
    {
     "name": "stdout",
     "output_type": "stream",
     "text": [
      "\n",
      "Выход из программы.\n"
     ]
    }
   ],
   "source": [
    "import mysql.connector\n",
    "\n",
    "# Подключение к базе данных\n",
    "DB_CONFIG = {\n",
    "    'host': 'ich-db.ccegls0svc9m.eu-central-1.rds.amazonaws.com',\n",
    "    'user': 'ich1',\n",
    "    'password': 'password',\n",
    "    'database': 'sakila'\n",
    "}\n",
    "\n",
    "def connect_db():\n",
    "    \"\"\"Создает и возвращает соединение с базой данных.\"\"\"\n",
    "    try:\n",
    "        print(f\"Коннект осуществлен\")\n",
    "        return mysql.connector.connect(**DB_CONFIG)      \n",
    "    except mysql.connector.Error as e:\n",
    "        print(f\"Ошибка подключения к базе данных: {e}\")\n",
    "        return None\n",
    "\n",
    "def get_categories(conn):\n",
    "    \"\"\"Получает список категорий фильмов.\"\"\"\n",
    "    query = \"SELECT category_id, name FROM category\"\n",
    "    with conn.cursor() as cursor:\n",
    "        cursor.execute(query)\n",
    "        return cursor.fetchall()\n",
    "\n",
    "def get_movies_by_category(conn, category_id):\n",
    "    \"\"\"Получает до 10 фильмов из указанной категории.\"\"\"\n",
    "    query = \"\"\"\n",
    "        SELECT f.title, f.release_year, f.description \n",
    "        FROM film f\n",
    "        JOIN film_category fc ON f.film_id = fc.film_id\n",
    "        WHERE fc.category_id = %s\n",
    "        LIMIT 10\n",
    "    \"\"\"\n",
    "    with conn.cursor() as cursor:\n",
    "        cursor.execute(query, (category_id,))\n",
    "        return cursor.fetchall()\n",
    "\n",
    "def get_actor_id_by_name(conn, name):\n",
    "    \"\"\"Ищет актёров по имени и возвращает список (actor_id, first_name, last_name).\"\"\"\n",
    "    query = \"\"\"\n",
    "        SELECT actor_id, first_name, last_name \n",
    "        FROM actor \n",
    "        WHERE first_name LIKE %s OR last_name LIKE %s\n",
    "    \"\"\"\n",
    "    with conn.cursor() as cursor:\n",
    "        cursor.execute(query, (f\"%{name}%\", f\"%{name}%\"))\n",
    "        return cursor.fetchall()\n",
    "\n",
    "def get_movies_by_actor(conn, actor_id):\n",
    "    \"\"\"Получает до 10 фильмов с указанным актёром.\"\"\"\n",
    "    query = \"\"\"\n",
    "        SELECT f.title, f.release_year, f.description\n",
    "        FROM film f\n",
    "        JOIN film_actor fa ON f.film_id = fa.film_id\n",
    "        WHERE fa.actor_id = %s\n",
    "        LIMIT 10\n",
    "    \"\"\"\n",
    "    with conn.cursor() as cursor:\n",
    "        cursor.execute(query, (actor_id,))\n",
    "        return cursor.fetchall()\n",
    "\n",
    "# Основной код\n",
    "def main():\n",
    "    conn = connect_db()\n",
    "    if not conn:\n",
    "        return  # Выход, если соединение не установлено\n",
    "\n",
    "    while True:\n",
    "        print(\"\\nВыберите действие:\\n1. Поиск по категории\\n2. Поиск по актёру\\n3. Выход\")\n",
    "        choice = input(\"> \")\n",
    "\n",
    "        if choice == \"1\":\n",
    "            categories = get_categories(conn)\n",
    "            for cat_id, name in categories:\n",
    "                print(f\"{cat_id}. {name}\")\n",
    "\n",
    "            category_id = input(\"\\nВведите номер категории: \")\n",
    "            if category_id.isdigit():\n",
    "                movies = get_movies_by_category(conn, int(category_id))\n",
    "                for title, year, desc in movies:\n",
    "                    print(f\"{title} ({year}) - {desc[:100]}...\")\n",
    "            else:\n",
    "                print(\"\\nНекорректный ввод.\")\n",
    "\n",
    "        elif choice == \"2\":\n",
    "            actor_name = input(\"\\nВведите имя или фамилию актёра: \")\n",
    "            actors = get_actor_id_by_name(conn, actor_name)\n",
    "            if not actors:\n",
    "                print(\"\\nАктёр не найден.\")\n",
    "                continue\n",
    "\n",
    "            for actor_id, first, last in actors:\n",
    "                print(f\"{actor_id}. {first} {last}\")\n",
    "\n",
    "            selected_id = input(\"\\nВведите номер актёра: \")\n",
    "            if selected_id.isdigit():\n",
    "                movies = get_movies_by_actor(conn, int(selected_id))\n",
    "                for title, year, desc in movies:\n",
    "                    print(f\"{title} ({year}) - {desc[:100]}...\")\n",
    "            else:\n",
    "                print(\"\\nНекорректный ввод.\")\n",
    "\n",
    "        elif choice == \"3\":\n",
    "            print(\"\\nВыход из программы.\")\n",
    "            break\n",
    "\n",
    "        else:\n",
    "            print(\"\\nНекорректный выбор, попробуйте снова.\")\n",
    "\n",
    "    conn.close()\n",
    "\n",
    "if __name__ == \"__main__\":\n",
    "    main()\n"
   ]
  },
  {
   "cell_type": "code",
   "execution_count": 3,
   "id": "b0043b22-efe6-4b92-8ae3-db4aa6e504bb",
   "metadata": {},
   "outputs": [
    {
     "name": "stdout",
     "output_type": "stream",
     "text": [
      "\n",
      "Выберите действие:\n",
      "1. Поиск по категории\n",
      "2. Поиск по актёру\n",
      "3. Выход\n"
     ]
    },
    {
     "name": "stdin",
     "output_type": "stream",
     "text": [
      ">  1\n"
     ]
    },
    {
     "name": "stdout",
     "output_type": "stream",
     "text": [
      "1. Action\n",
      "2. Animation\n",
      "3. Children\n",
      "4. Classics\n",
      "5. Comedy\n",
      "6. Documentary\n",
      "7. Drama\n",
      "8. Family\n",
      "9. Foreign\n",
      "10. Games\n",
      "11. Horror\n",
      "12. Music\n",
      "13. New\n",
      "14. Sci-Fi\n",
      "15. Sports\n",
      "16. Travel\n"
     ]
    },
    {
     "name": "stdin",
     "output_type": "stream",
     "text": [
      "\n",
      "Введите номер категории:  12\n"
     ]
    },
    {
     "name": "stdout",
     "output_type": "stream",
     "text": [
      "ALASKA PHANTOM (1990) - A Fanciful Saga of a Hunter And a Pastry Chef who must Vanquish a Boy in Australia...\n",
      "ALONE TRIP (2016) - A Fast-Paced Character Study of a Composer And a Dog who must Outgun a Boat in An Abandoned Fun Hous...\n",
      "AMELIE HELLFIGHTERS (2014) - A Boring Drama of a Woman And a Squirrel who must Conquer a Student in A Baloon...\n",
      "BALLOON HOMEWARD (2003) - A Insightful Panorama of a Forensic Psychologist And a Mad Cow who must Build a Mad Scientist in The...\n",
      "BANGER PINOCCHIO (1984) - A Awe-Inspiring Drama of a Car And a Pastry Chef who must Chase a Crocodile in The First Manned Spac...\n",
      "BIRCH ANTITRUST (2019) - A Fanciful Panorama of a Husband And a Pioneer who must Outgun a Dog in A Baloon...\n",
      "BIRDCAGE CASPER (1998) - A Fast-Paced Saga of a Frisbee And a Astronaut who must Overcome a Feminist in Ancient India...\n",
      "BOOGIE AMELIE (1994) - A Lacklusture Character Study of a Husband And a Sumo Wrestler who must Succumb a Technical Writer i...\n",
      "CHAMBER ITALIAN (2010) - A Fateful Reflection of a Moose And a Husband who must Overcome a Monkey in Nigeria...\n",
      "CLONES PINOCCHIO (1995) - A Amazing Drama of a Car And a Robot who must Pursue a Dentist in New Orleans...\n",
      "\n",
      "Выберите действие:\n",
      "1. Поиск по категории\n",
      "2. Поиск по актёру\n",
      "3. Выход\n"
     ]
    },
    {
     "name": "stdin",
     "output_type": "stream",
     "text": [
      ">  2\n",
      "\n",
      "Введите имя или фамилию актёра:  TARANTINO\n"
     ]
    },
    {
     "name": "stdout",
     "output_type": "stream",
     "text": [
      "\n",
      "Актёр не найден.\n",
      "\n",
      "Выберите действие:\n",
      "1. Поиск по категории\n",
      "2. Поиск по актёру\n",
      "3. Выход\n"
     ]
    },
    {
     "name": "stdin",
     "output_type": "stream",
     "text": [
      ">  2\n",
      "\n",
      "Введите имя или фамилию актёра:  олднрмдорижл\n"
     ]
    },
    {
     "name": "stdout",
     "output_type": "stream",
     "text": [
      "\n",
      "Актёр не найден.\n",
      "\n",
      "Выберите действие:\n",
      "1. Поиск по категории\n",
      "2. Поиск по актёру\n",
      "3. Выход\n"
     ]
    },
    {
     "name": "stdin",
     "output_type": "stream",
     "text": [
      ">  4\n"
     ]
    },
    {
     "name": "stdout",
     "output_type": "stream",
     "text": [
      "\n",
      "Некорректный выбор, попробуйте снова.\n",
      "\n",
      "Выберите действие:\n",
      "1. Поиск по категории\n",
      "2. Поиск по актёру\n",
      "3. Выход\n"
     ]
    },
    {
     "name": "stdin",
     "output_type": "stream",
     "text": [
      ">  2\n",
      "\n",
      "Введите имя или фамилию актёра:  JOHANSSON\n"
     ]
    },
    {
     "name": "stdout",
     "output_type": "stream",
     "text": [
      "8. MATTHEW JOHANSSON\n",
      "64. RAY JOHANSSON\n",
      "146. ALBERT JOHANSSON\n"
     ]
    },
    {
     "name": "stdin",
     "output_type": "stream",
     "text": [
      "\n",
      "Введите номер актёра:  0\n"
     ]
    },
    {
     "name": "stdout",
     "output_type": "stream",
     "text": [
      "\n",
      "Выберите действие:\n",
      "1. Поиск по категории\n",
      "2. Поиск по актёру\n",
      "3. Выход\n"
     ]
    },
    {
     "name": "stdin",
     "output_type": "stream",
     "text": [
      ">  2\n",
      "\n",
      "Введите имя или фамилию актёра:  JOHANSSON\n"
     ]
    },
    {
     "name": "stdout",
     "output_type": "stream",
     "text": [
      "8. MATTHEW JOHANSSON\n",
      "64. RAY JOHANSSON\n",
      "146. ALBERT JOHANSSON\n"
     ]
    },
    {
     "name": "stdin",
     "output_type": "stream",
     "text": [
      "\n",
      "Введите номер актёра:  22\n"
     ]
    },
    {
     "name": "stdout",
     "output_type": "stream",
     "text": [
      "ALABAMA DEVIL (1986) - A Thoughtful Panorama of a Database Administrator And a Mad Scientist who must Outgun a Mad Scientis...\n",
      "ANACONDA CONFESSIONS (2019) - A Lacklusture Display of a Dentist And a Dentist who must Fight a Girl in Australia...\n",
      "BAREFOOT MANCHURIAN (2007) - A Intrepid Story of a Cat And a Student who must Vanquish a Girl in An Abandoned Amusement Park...\n",
      "BORROWERS BEDAZZLED (1982) - A Brilliant Epistle of a Teacher And a Sumo Wrestler who must Defeat a Man in An Abandoned Fun House...\n",
      "CADDYSHACK JEDI (2008) - A Awe-Inspiring Epistle of a Woman And a Madman who must Fight a Robot in Soviet Georgia...\n",
      "CHITTY LOCK (1984) - A Boring Epistle of a Boat And a Database Administrator who must Kill a Sumo Wrestler in The First M...\n",
      "EVOLUTION ALTER (1992) - A Fanciful Character Study of a Feminist And a Madman who must Find a Explorer in A Baloon Factory...\n",
      "EXPECATIONS NATURAL (2017) - A Amazing Drama of a Butler And a Husband who must Reach a A Shark in A U-Boat...\n",
      "GANGS PRIDE (2010) - A Taut Character Study of a Woman And a A Shark who must Confront a Frisbee in Berlin...\n",
      "GOODFELLAS SALUTE (1991) - A Unbelieveable Tale of a Dog And a Explorer who must Sink a Mad Cow in A Baloon Factory...\n",
      "\n",
      "Выберите действие:\n",
      "1. Поиск по категории\n",
      "2. Поиск по актёру\n",
      "3. Выход\n"
     ]
    },
    {
     "name": "stdin",
     "output_type": "stream",
     "text": [
      ">  3\n"
     ]
    },
    {
     "name": "stdout",
     "output_type": "stream",
     "text": [
      "\n",
      "Выход из программы.\n"
     ]
    }
   ],
   "source": [
    "import mysql.connector\n",
    "\n",
    "# Подключение к базе данных\n",
    "DB_CONFIG = {\n",
    "    'host': 'ich-db.ccegls0svc9m.eu-central-1.rds.amazonaws.com',\n",
    "    'user': 'ich1',\n",
    "    'password': 'password',\n",
    "    'database': 'sakila'\n",
    "}\n",
    "\n",
    "def connect_db():\n",
    "    \"\"\"Создает и возвращает соединение с базой данных.\"\"\"\n",
    "    try:\n",
    "        return mysql.connector.connect(**DB_CONFIG)\n",
    "    except mysql.connector.Error as e:\n",
    "        raise RuntimeError(f\"Ошибка подключения к базе данных: {e}\")\n",
    "\n",
    "def get_categories(conn):\n",
    "    \"\"\"Получает список категорий фильмов.\"\"\"\n",
    "    query = \"SELECT category_id, name FROM category\"\n",
    "    with conn.cursor() as cursor:\n",
    "        cursor.execute(query)\n",
    "        return cursor.fetchall()\n",
    "\n",
    "def get_movies_by_category(conn, category_id):\n",
    "    \"\"\"Получает до 10 фильмов из указанной категории.\"\"\"\n",
    "    query = \"\"\"\n",
    "        SELECT f.title, f.release_year, f.description \n",
    "        FROM film f\n",
    "        JOIN film_category fc ON f.film_id = fc.film_id\n",
    "        WHERE fc.category_id = %s\n",
    "        LIMIT 10\n",
    "    \"\"\"\n",
    "    with conn.cursor() as cursor:\n",
    "        cursor.execute(query, (category_id,))\n",
    "        return cursor.fetchall()\n",
    "\n",
    "def get_actor_id_by_name(conn, name):\n",
    "    \"\"\"Ищет актёров по имени и возвращает список (actor_id, first_name, last_name).\"\"\"\n",
    "    query = \"\"\"\n",
    "        SELECT actor_id, first_name, last_name \n",
    "        FROM actor \n",
    "        WHERE first_name LIKE %s OR last_name LIKE %s\n",
    "    \"\"\"\n",
    "    with conn.cursor() as cursor:\n",
    "        cursor.execute(query, (f\"%{name}%\", f\"%{name}%\"))\n",
    "        return cursor.fetchall()\n",
    "\n",
    "def get_movies_by_actor(conn, actor_id):\n",
    "    \"\"\"Получает до 10 фильмов с указанным актёром.\"\"\"\n",
    "    query = \"\"\"\n",
    "        SELECT f.title, f.release_year, f.description\n",
    "        FROM film f\n",
    "        JOIN film_actor fa ON f.film_id = fa.film_id\n",
    "        WHERE fa.actor_id = %s\n",
    "        LIMIT 10\n",
    "    \"\"\"\n",
    "    with conn.cursor() as cursor:\n",
    "        cursor.execute(query, (actor_id,))\n",
    "        return cursor.fetchall()\n",
    "\n",
    "# Основной код\n",
    "def main():\n",
    "    try:\n",
    "        conn = connect_db()\n",
    "    except RuntimeError as e:\n",
    "        print(e)\n",
    "        return  # Выход из программы при ошибке подключения\n",
    "\n",
    "    while True:\n",
    "        print(\"\\nВыберите действие:\\n1. Поиск по категории\\n2. Поиск по актёру\\n3. Выход\")\n",
    "        choice = input(\"> \")\n",
    "\n",
    "        if choice == \"1\":\n",
    "            categories = get_categories(conn)\n",
    "            for cat_id, name in categories:\n",
    "                print(f\"{cat_id}. {name}\")\n",
    "\n",
    "            category_id = input(\"\\nВведите номер категории: \")\n",
    "            if category_id.isdigit():\n",
    "                movies = get_movies_by_category(conn, int(category_id))\n",
    "                for title, year, desc in movies:\n",
    "                    print(f\"{title} ({year}) - {desc[:100]}...\")\n",
    "            else:\n",
    "                print(\"\\nНекорректный ввод.\")\n",
    "\n",
    "        elif choice == \"2\":\n",
    "            actor_name = input(\"\\nВведите имя или фамилию актёра: \")\n",
    "            actors = get_actor_id_by_name(conn, actor_name)\n",
    "            if not actors:\n",
    "                print(\"\\nАктёр не найден.\")\n",
    "                continue\n",
    "\n",
    "            for actor_id, first, last in actors:\n",
    "                print(f\"{actor_id}. {first} {last}\")\n",
    "\n",
    "            selected_id = input(\"\\nВведите номер актёра: \")\n",
    "            if selected_id.isdigit():\n",
    "                movies = get_movies_by_actor(conn, int(selected_id))\n",
    "                for title, year, desc in movies:\n",
    "                    print(f\"{title} ({year}) - {desc[:100]}...\")\n",
    "            else:\n",
    "                print(\"\\nНекорректный ввод.\")\n",
    "\n",
    "        elif choice == \"3\":\n",
    "            print(\"\\nВыход из программы.\")\n",
    "            break\n",
    "\n",
    "        else:\n",
    "            print(\"\\nНекорректный выбор, попробуйте снова.\")\n",
    "\n",
    "    conn.close()\n",
    "\n",
    "if __name__ == \"__main__\":\n",
    "    main()\n"
   ]
  },
  {
   "cell_type": "code",
   "execution_count": null,
   "id": "c85de456-090b-4ab7-b22d-f15ddd8114e9",
   "metadata": {},
   "outputs": [],
   "source": []
  }
 ],
 "metadata": {
  "kernelspec": {
   "display_name": "Python 3 (ipykernel)",
   "language": "python",
   "name": "python3"
  },
  "language_info": {
   "codemirror_mode": {
    "name": "ipython",
    "version": 3
   },
   "file_extension": ".py",
   "mimetype": "text/x-python",
   "name": "python",
   "nbconvert_exporter": "python",
   "pygments_lexer": "ipython3",
   "version": "3.12.5"
  }
 },
 "nbformat": 4,
 "nbformat_minor": 5
}
