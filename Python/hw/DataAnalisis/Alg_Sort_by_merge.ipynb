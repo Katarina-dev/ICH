{
 "cells": [
  {
   "cell_type": "code",
   "execution_count": null,
   "id": "2c579ea5-a08e-4382-8fbe-ae035a703b83",
   "metadata": {},
   "outputs": [],
   "source": [
    "Сортировка\n",
    "слиянием"
   ]
  },
  {
   "cell_type": "code",
   "execution_count": 1,
   "id": "215824aa-e461-48d2-9c7d-aadac335aff8",
   "metadata": {},
   "outputs": [
    {
     "name": "stdout",
     "output_type": "stream",
     "text": [
      "[2, 4, 4, 5, 6, 33, 44, 77, 566]\n"
     ]
    }
   ],
   "source": [
    "def merge_sort(array):\n",
    "    if len(array) <= 1:\n",
    "        return array\n",
    "\n",
    "    left_half = merge_sort(array[:len(array)//2])\n",
    "    right_half = merge_sort(array[len(array)//2:])\n",
    "\n",
    "    left_index = 0\n",
    "    right_index = 0\n",
    "    merged_index = 0\n",
    "    merged_array = [0] * len(array)\n",
    "\n",
    "    while left_index < len(left_half) and right_index < len(right_half):\n",
    "        if left_half[left_index] <= right_half[right_index]:\n",
    "            merged_array[merged_index] = left_half[left_index]\n",
    "            left_index += 1\n",
    "            \n",
    "        else:\n",
    "            merged_array[merged_index] = right_half[right_index]\n",
    "            right_index += 1\n",
    "        merged_index += 1\n",
    "        \n",
    "        \n",
    "    while left_index < len(left_half):\n",
    "        merged_array[merged_index] = left_half[left_index]\n",
    "        left_index += 1\n",
    "        merged_index += 1\n",
    "    while right_index < len(right_half):\n",
    "            merged_array[merged_index] = right_half[right_index]\n",
    "            right_index += 1\n",
    "            merged_index += 1\n",
    "    \n",
    "    return merged_array\n",
    "\n",
    "unsorted_array = [4, 2, 6, 4, 77, 33, 5, 44, 566]\n",
    "print(merge_sort(unsorted_array))"
   ]
  },
  {
   "cell_type": "code",
   "execution_count": 8,
   "id": "d3bc210a-8c92-4285-bd50-84921c0db7a4",
   "metadata": {},
   "outputs": [
    {
     "name": "stdout",
     "output_type": "stream",
     "text": [
      "[4]\n",
      "[2]\n",
      "--------\n",
      "[2, 4]\n",
      "[6]\n",
      "[4]\n",
      "--------\n",
      "[4, 6]\n",
      "[2, 4]\n",
      "[4, 6]\n",
      "--------\n",
      "[2, 4, 4, 6]\n",
      "[77]\n",
      "[33]\n",
      "--------\n",
      "[33, 77]\n",
      "[44]\n",
      "[566]\n",
      "--------\n",
      "[44, 566]\n",
      "[5]\n",
      "[44, 566]\n",
      "--------\n",
      "[5, 44, 566]\n",
      "[33, 77]\n",
      "[5, 44, 566]\n",
      "--------\n",
      "[5, 33, 44, 77, 566]\n",
      "[2, 4, 4, 6]\n",
      "[5, 33, 44, 77, 566]\n",
      "--------\n",
      "[2, 4, 4, 5, 6, 33, 44, 77, 566]\n",
      "[2, 4, 4, 5, 6, 33, 44, 77, 566]\n"
     ]
    }
   ],
   "source": [
    "def merge_sort(array):\n",
    "    if len(array) <= 1:\n",
    "        return array\n",
    "\n",
    "    left_half = merge_sort(array[:len(array)//2])\n",
    "    right_half = merge_sort(array[len(array)//2:])\n",
    "    print(left_half)\n",
    "    print(right_half)\n",
    "    print('--------')\n",
    "\n",
    "    left_index = 0\n",
    "    right_index = 0\n",
    "    merged_index = 0\n",
    "    merged_array = [0] * len(array)\n",
    "\n",
    "    while left_index < len(left_half) and right_index < len(right_half):\n",
    "        if left_half[left_index] <= right_half[right_index]:\n",
    "            merged_array[merged_index] = left_half[left_index]\n",
    "            left_index += 1\n",
    "            \n",
    "        else:\n",
    "            merged_array[merged_index] = right_half[right_index]\n",
    "            right_index += 1\n",
    "        merged_index += 1\n",
    "        \n",
    "        \n",
    "    while left_index < len(left_half):\n",
    "        merged_array[merged_index] = left_half[left_index]\n",
    "        left_index += 1\n",
    "        merged_index += 1\n",
    "    while right_index < len(right_half):\n",
    "            merged_array[merged_index] = right_half[right_index]\n",
    "            right_index += 1\n",
    "            merged_index += 1\n",
    "\n",
    "    print(merged_array)\n",
    "    # for i in range(len(array)):\n",
    "    #     array[i] = merged_array[i]\n",
    "    array = merged_array\n",
    "    \n",
    "    return array\n",
    "\n",
    "unsorted_array = [4, 2, 6, 4, 77, 33, 5, 44, 566]\n",
    "print(merge_sort(unsorted_array))"
   ]
  },
  {
   "cell_type": "code",
   "execution_count": 9,
   "id": "11064c37-4076-4e6e-965d-38ab89f1db1f",
   "metadata": {},
   "outputs": [
    {
     "name": "stdout",
     "output_type": "stream",
     "text": [
      "Отсортированный массив: [11, 12, 22, 25, 34, 64, 90]\n"
     ]
    }
   ],
   "source": [
    "def bubble_sort(arr):\n",
    "    n = len(arr)\n",
    "    for i in range(n-1):   #кол-во проходов\n",
    "        for j in range(n-1-i):\n",
    "            if arr[j] > arr[j+1]:\n",
    "                arr[j], arr[j+1] = arr[j+1], arr[j]\n",
    "                \n",
    "            \n",
    "\n",
    "arr = [64, 34, 25, 12, 22, 11, 90]\n",
    "bubble_sort(arr)\n",
    "print(\"Отсортированный массив:\", arr)"
   ]
  },
  {
   "cell_type": "raw",
   "id": "4614824c-069f-4299-8bf3-bed3d81a9938",
   "metadata": {},
   "source": [
    "Создать счетчик инверсии для массива, который указывает, насколько далек (или близок) массив от упорядоченного. Если массив уже упорядочен, то счетчик инверсии равен 0, а если массив отсортирован в обратном порядке, то счетчик инверсии будет максимальным. \n",
    "\n",
    "Пример: \n",
    "\n",
    "Ввод: arr = [8, 4, 2, 1]\n",
    "Вывод: 6 \n",
    "Объяснение: Данный массив имеет шесть инверсий: \n",
    "(8, 4), (4, 2), (8, 2), (8, 1), (4, 1), (2, 1). \n",
    "\n",
    "Ввод: arr = [3, 1, 2]\n",
    "Вывод: 2 \n",
    "Объяснение: Данный массив имеет две инверсии: \n",
    "(3, 1), (3, 2)"
   ]
  },
  {
   "cell_type": "code",
   "execution_count": 10,
   "id": "4d1e53bf-b51a-4242-8108-1852f3a84b9c",
   "metadata": {},
   "outputs": [
    {
     "name": "stdout",
     "output_type": "stream",
     "text": [
      "6\n"
     ]
    }
   ],
   "source": [
    "def count_array(array):\n",
    "    count = 0\n",
    "    for i in range(len(array)):\n",
    "        for j in range(i+1, len(array)):\n",
    "            if array[i] > array[j]:\n",
    "                count += 1\n",
    "    return count\n",
    "\n",
    "arr = [8, 4, 2, 1]\n",
    "print(count_array(arr))"
   ]
  },
  {
   "cell_type": "code",
   "execution_count": 11,
   "id": "1952c888-17b4-4c64-ab28-307e1a33a521",
   "metadata": {},
   "outputs": [
    {
     "name": "stdout",
     "output_type": "stream",
     "text": [
      "8\n"
     ]
    }
   ],
   "source": [
    "def _merge_sort(arr, temp_arr, left, right):\n",
    "    inv_count = 0\n",
    "    \n",
    "    if left < right:\n",
    "        mid = (left + right) // 2\n",
    "        \n",
    "        # считаем инверсиии в левой части рекрурсивно\n",
    "        inv_count += _merge_sort(arr, temp_arr, left, mid)\n",
    "        # считаем инверсиии в правой части рекрурсивно\n",
    "        inv_count += _merge_sort(arr, temp_arr, mid+1, right)\n",
    "        # сливаем две части и считаем инверсии\n",
    "        inv_count += merge(arr, temp_arr, left, mid, right)\n",
    "        \n",
    "    return inv_count\n",
    "        \n",
    "def merge(arr, temp_arr, left, mid, right):\n",
    "    i = left\n",
    "    j = mid+1\n",
    "    k = left\n",
    "    inv_count = 0 \n",
    "    \n",
    "    while i <= mid and j <= right:\n",
    "        if arr[i] <= arr[j]:\n",
    "            temp_arr[k] = arr[i]\n",
    "            i+=1\n",
    "        else:\n",
    "            temp_arr[k] = arr[j]\n",
    "            inv_count += (mid-i+1)\n",
    "            j+=1\n",
    "        k+=1\n",
    "    while i<= mid:\n",
    "        temp_arr[k] = arr[i]\n",
    "        i+=1\n",
    "        k+=1\n",
    "        \n",
    "    while j<= right:\n",
    "        temp_arr[k] = arr[j]\n",
    "        j+=1\n",
    "        k+=1\n",
    "        \n",
    "    for i in range(left, right+1):\n",
    "        arr[i] = temp_arr[i]\n",
    "        \n",
    "    return inv_count\n",
    "\n",
    "arr = [2, 20, 6, 4, 51, 1]\n",
    "n = len(arr)\n",
    "temp_arr = [0] * n\n",
    "result = _merge_sort(arr, temp_arr, 0, n-1)\n",
    "print(result)"
   ]
  },
  {
   "cell_type": "code",
   "execution_count": null,
   "id": "10943ca5-a956-443e-8994-aaa51910d7fc",
   "metadata": {},
   "outputs": [],
   "source": []
  }
 ],
 "metadata": {
  "kernelspec": {
   "display_name": "Python 3 (ipykernel)",
   "language": "python",
   "name": "python3"
  },
  "language_info": {
   "codemirror_mode": {
    "name": "ipython",
    "version": 3
   },
   "file_extension": ".py",
   "mimetype": "text/x-python",
   "name": "python",
   "nbconvert_exporter": "python",
   "pygments_lexer": "ipython3",
   "version": "3.12.5"
  }
 },
 "nbformat": 4,
 "nbformat_minor": 5
}
