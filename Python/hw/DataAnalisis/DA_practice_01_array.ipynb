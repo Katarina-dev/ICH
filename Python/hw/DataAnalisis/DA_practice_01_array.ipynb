{
 "cells": [
  {
   "cell_type": "code",
   "execution_count": null,
   "id": "0771fb1a-ad92-4f2a-9125-5afad5e2283a",
   "metadata": {},
   "outputs": [],
   "source": [
    "Создайте массив 4x4 со значениями от 0 до 15. Выведите:\n",
    "Умножьте исходный массив на его третью строку\n",
    "Вычтите из исходного массива второй столбец"
   ]
  },
  {
   "cell_type": "code",
   "execution_count": 2,
   "id": "20370ba3-8faa-427a-b212-c14f130dd02a",
   "metadata": {},
   "outputs": [
    {
     "data": {
      "text/plain": [
       "array([[ 0,  1,  2,  3],\n",
       "       [ 4,  5,  6,  7],\n",
       "       [ 8,  9, 10, 11],\n",
       "       [12, 13, 14, 15]])"
      ]
     },
     "execution_count": 2,
     "metadata": {},
     "output_type": "execute_result"
    }
   ],
   "source": [
    "import numpy as np\n",
    "\n",
    "a = np.arange(16).reshape(4,4)\n",
    "a"
   ]
  },
  {
   "cell_type": "code",
   "execution_count": 3,
   "id": "1a26e0f0-d6c8-437e-8965-0efdf1a9f635",
   "metadata": {},
   "outputs": [
    {
     "data": {
      "text/plain": [
       "array([[  0,   9,  20,  33],\n",
       "       [ 32,  45,  60,  77],\n",
       "       [ 64,  81, 100, 121],\n",
       "       [ 96, 117, 140, 165]])"
      ]
     },
     "execution_count": 3,
     "metadata": {},
     "output_type": "execute_result"
    }
   ],
   "source": [
    "b = a * a[2]\n",
    "b"
   ]
  },
  {
   "cell_type": "code",
   "execution_count": 4,
   "id": "cb295958-2915-49a2-bd83-b588d10f0dfd",
   "metadata": {},
   "outputs": [
    {
     "data": {
      "text/plain": [
       "array([[ -1,  -4,  -7, -10],\n",
       "       [  3,   0,  -3,  -6],\n",
       "       [  7,   4,   1,  -2],\n",
       "       [ 11,   8,   5,   2]])"
      ]
     },
     "execution_count": 4,
     "metadata": {},
     "output_type": "execute_result"
    }
   ],
   "source": [
    "c = a - a[:, 1]\n",
    "c"
   ]
  },
  {
   "cell_type": "code",
   "execution_count": null,
   "id": "918f2584-c169-4d0f-8cac-93822b75031e",
   "metadata": {},
   "outputs": [],
   "source": [
    "1. Напишите программу, которая:\n",
    "a. Запрашивает у пользователя ввод двух списков – в первом 5\n",
    "элементов, во втором 4. Списки вводятся в виде чисел, разделенных\n",
    "пробелами.\n",
    "b. Объединяет введенные списки в один новый список из 9 элементов.\n",
    "c. Преобразует полученный список в массив NumPy.\n",
    "d. Вычисляет минимальное, среднее и максимальное значение для\n",
    "полученного массива.\n"
   ]
  },
  {
   "cell_type": "code",
   "execution_count": 10,
   "id": "d0eb7369-32a6-4def-b40b-86e15aaade0c",
   "metadata": {},
   "outputs": [
    {
     "name": "stdin",
     "output_type": "stream",
     "text": [
      "Input 5 elements 1 2 3 4 5\n",
      "Input 4 elements 6 7 8 9\n"
     ]
    },
    {
     "name": "stdout",
     "output_type": "stream",
     "text": [
      "1 5.0 9\n"
     ]
    }
   ],
   "source": [
    "lst_1 = list(map(int, input('Input 5 elements').split()))\n",
    "lst_2 = list(map(int, input('Input 4 elements').split()))\n",
    "\n",
    "joined_lst = lst_1 + lst_2\n",
    "array_lst = np.array(joined_lst)\n",
    "print(array_lst.min(), array_lst.mean(), array_lst.max())\n"
   ]
  },
  {
   "cell_type": "code",
   "execution_count": null,
   "id": "0a270c01-b988-47af-a77e-87fef62d094a",
   "metadata": {},
   "outputs": [],
   "source": [
    "2. С помощью функции np.linspace создайте массив из 9 элементов со\n",
    "значениями между средним и максимальным из предыдущей задачи. Найдите\n",
    "поэлементную сумму массивов из первой и второй задачи."
   ]
  },
  {
   "cell_type": "code",
   "execution_count": 14,
   "id": "d5d7c182-8075-4403-8392-5513dbd99bbe",
   "metadata": {},
   "outputs": [
    {
     "name": "stdout",
     "output_type": "stream",
     "text": [
      "[5.  5.5 6.  6.5 7.  7.5 8.  8.5 9. ]\n",
      "[ 6.   7.5  9.  10.5 12.  13.5 15.  16.5 18. ]\n"
     ]
    }
   ],
   "source": [
    "lin_array = np.linspace(5.0, 9, 9)\n",
    "print(lin_array)\n",
    "print(array_lst + lin_array)"
   ]
  },
  {
   "cell_type": "code",
   "execution_count": null,
   "id": "b883b2b1-22c6-4893-bcbe-d24f130e6988",
   "metadata": {},
   "outputs": [],
   "source": [
    "# 2 вариант\n",
    "list_one = list(map(int, input(\"enter 5 elements: \").split()))\n",
    "list_two = list(map(int, input(\"enter 4 elements: \").split()))\n",
    "new_list = list_one + list_two\n",
    "print(new_list)\n",
    "new_arr = np.array(new_list)\n",
    "print(new_arr)\n",
    "max_arr = np.max(new_arr)\n",
    "#print(np.min(new_arr))\n",
    "avg_arr = np.average(new_arr)\n",
    "print(max_arr, avg_arr)\n",
    "arr_new = np.linspace(avg_arr, max_arr, 9)\n",
    "total_arr = arr_new + new_arr\n",
    "print(arr_new)\n",
    "print(total_arr)"
   ]
  },
  {
   "cell_type": "code",
   "execution_count": null,
   "id": "947e414e-ebae-46f6-a6cd-e423ebc69465",
   "metadata": {},
   "outputs": [],
   "source": [
    "3. Создайте массив из десяти элементов 1, 2, …, 10. С помощью функции cumprod\n",
    "вычислите кумулятивные произведения элементов этого массива."
   ]
  },
  {
   "cell_type": "code",
   "execution_count": null,
   "id": "a16d5e0b-8432-4ce8-a6dd-ae3fece6e2ae",
   "metadata": {},
   "outputs": [],
   "source": [
    "new_array = np.arrange(1, 11)\n",
    "cumprod_array = np.cumprod(new_array)"
   ]
  },
  {
   "cell_type": "code",
   "execution_count": null,
   "id": "fa721c08-a1f0-44ab-a0f6-f264c7a99b31",
   "metadata": {},
   "outputs": [],
   "source": [
    "4. Напишите программу, которая:\n",
    "a. Запрашивает у пользователя ввод трех списков, каждый из трех\n",
    "элементов. Списки вводятся в виде чисел, разделенных пробелами.\n",
    "b. Создает список из полученных списков.\n",
    "c. Преобразует полученный двумерный список в двумерный массив\n",
    "NumPy (назовем его матрицей А.\n",
    "d. Вычисляет среднее значение для полученного массива.\n"
   ]
  },
  {
   "cell_type": "code",
   "execution_count": 15,
   "id": "cd875bc5-51c4-4d8c-823c-55cb3a53d15f",
   "metadata": {},
   "outputs": [
    {
     "name": "stdin",
     "output_type": "stream",
     "text": [
      "enter 3 elements:  1 2 3\n",
      "enter 3 elements:  4 5 6\n",
      "enter 3 elements:  7 8 9\n"
     ]
    },
    {
     "data": {
      "text/plain": [
       "np.float64(5.0)"
      ]
     },
     "execution_count": 15,
     "metadata": {},
     "output_type": "execute_result"
    }
   ],
   "source": [
    "list_one = list(map(int, input(\"enter 3 elements: \").split()))\n",
    "list_two = list(map(int, input(\"enter 3 elements: \").split()))\n",
    "list_three = list(map(int, input(\"enter 3 elements: \").split()))\n",
    "total_lst = [list_one, list_two, list_three]\n",
    "\n",
    "A = np.array(total_lst)\n",
    "avg_A = np.mean(A)\n",
    "avg_A"
   ]
  },
  {
   "cell_type": "code",
   "execution_count": null,
   "id": "50681216-8a2c-4127-993d-e80729907e69",
   "metadata": {},
   "outputs": [],
   "source": [
    "5. Продолжите предыдущую программу. Далее она:\n",
    "a. Создает матрицу такого же размера, но заполненную вычисленным\n",
    "средним значением (назовем ее матрицей B.\n",
    "b. Разделите матрицу A на матрицу B - это будет матрица С.\n",
    "c. Создайте новую матрицу, заполненную логическими значениями – True,\n",
    "если элемент матрицы С больше 1, False – если меньше 1.\n"
   ]
  },
  {
   "cell_type": "code",
   "execution_count": 17,
   "id": "e96a7de1-9d13-40f6-9b32-2c9a37e5c2ef",
   "metadata": {},
   "outputs": [
    {
     "name": "stdout",
     "output_type": "stream",
     "text": [
      "[[0.2 0.4 0.6]\n",
      " [0.8 1.  1.2]\n",
      " [1.4 1.6 1.8]]\n",
      "[[False False False]\n",
      " [False False  True]\n",
      " [ True  True  True]]\n"
     ]
    }
   ],
   "source": [
    "B = np.full_like(A, avg_A)\n",
    "\n",
    "C = A / B\n",
    "print(C)\n",
    "new_matrix = (C > 1)\n",
    "print(new_matrix)"
   ]
  },
  {
   "cell_type": "code",
   "execution_count": null,
   "id": "897d7b4f-c40d-4222-ad5f-8c94ddcff050",
   "metadata": {},
   "outputs": [],
   "source": [
    "6. Продолжите предыдущую программу. Далее она:\n",
    "a. Объединяет матрицы A и B в две новые матрицы – одну размера 3х6,\n",
    "другую – 6х3.\n",
    "b. Запрашивает у пользователя два числа - x и y.\n",
    "c. Первую матрицу умножает на x, из второй вычитает y.\n"
   ]
  },
  {
   "cell_type": "code",
   "execution_count": 24,
   "id": "d15b97ba-5626-4ab6-a1e1-083a05939542",
   "metadata": {},
   "outputs": [
    {
     "name": "stdout",
     "output_type": "stream",
     "text": [
      "[[1 2 3]\n",
      " [4 5 6]\n",
      " [7 8 9]\n",
      " [5 5 5]\n",
      " [5 5 5]\n",
      " [5 5 5]]\n",
      "[[1 2 3 5 5 5]\n",
      " [4 5 6 5 5 5]\n",
      " [7 8 9 5 5 5]]\n"
     ]
    }
   ],
   "source": [
    "three_six = np.concatenate((A, B), axis = 0) #по вертикали\n",
    "six_three = np.concatenate((A, B), axis = 1) #по горизонтали\n",
    "print(three_six)\n",
    "print(six_three)\n"
   ]
  },
  {
   "cell_type": "code",
   "execution_count": 25,
   "id": "feae69d2-8022-4e29-abcc-92197c4c43ba",
   "metadata": {},
   "outputs": [
    {
     "name": "stdout",
     "output_type": "stream",
     "text": [
      "[[ 6 12 18]\n",
      " [24 30 36]\n",
      " [42 48 54]\n",
      " [30 30 30]\n",
      " [30 30 30]\n",
      " [30 30 30]]\n",
      "[[-6 -5 -4 -2 -2 -2]\n",
      " [-3 -2 -1 -2 -2 -2]\n",
      " [ 0  1  2 -2 -2 -2]]\n"
     ]
    }
   ],
   "source": [
    "x = 6\n",
    "y = 7\n",
    "print(three_six * x)\n",
    "print(six_three - y)"
   ]
  },
  {
   "cell_type": "code",
   "execution_count": null,
   "id": "18945ae7-4678-4974-8b39-b80d458771b1",
   "metadata": {},
   "outputs": [],
   "source": [
    "7. Напишите программу, которая запрашивает у пользователя три числа и\n",
    "создает трехмерный массив соответствующей размерности, заполненный\n",
    "случайными числами. Выведите массив на экран."
   ]
  },
  {
   "cell_type": "code",
   "execution_count": 31,
   "id": "0ae500de-f29a-4d45-880f-13be24c01cab",
   "metadata": {},
   "outputs": [
    {
     "name": "stdin",
     "output_type": "stream",
     "text": [
      "1 Array's len:  4\n",
      "2 Array's len:  8\n",
      "3 Array's len:  2\n"
     ]
    },
    {
     "data": {
      "text/plain": [
       "array([[[8.66899706, 1.0274856 ],\n",
       "        [8.53115498, 9.4426877 ],\n",
       "        [2.275482  , 8.28744274],\n",
       "        [0.07597988, 9.80195994],\n",
       "        [8.861585  , 3.25631276],\n",
       "        [0.92783106, 3.76321908],\n",
       "        [1.63010013, 6.73861893],\n",
       "        [3.35584757, 8.68891728]],\n",
       "\n",
       "       [[6.56340976, 6.77325823],\n",
       "        [7.4869231 , 4.54931467],\n",
       "        [9.2981496 , 1.30383278],\n",
       "        [5.16199071, 9.73937729],\n",
       "        [8.90554493, 8.82279936],\n",
       "        [6.06703903, 0.66500813],\n",
       "        [3.35982755, 4.26784986],\n",
       "        [2.29135098, 5.76512021]],\n",
       "\n",
       "       [[3.7597472 , 2.24312633],\n",
       "        [0.96593732, 8.34665067],\n",
       "        [5.41228985, 7.72772021],\n",
       "        [5.12435735, 0.68315228],\n",
       "        [1.33832029, 5.68985275],\n",
       "        [3.69417887, 6.74989272],\n",
       "        [3.11982441, 8.59387867],\n",
       "        [6.78856643, 1.32525203]],\n",
       "\n",
       "       [[9.22756675, 1.58802352],\n",
       "        [2.15458251, 1.65565717],\n",
       "        [9.48528053, 2.72510537],\n",
       "        [7.72798344, 5.96652934],\n",
       "        [2.53995698, 1.45926956],\n",
       "        [8.39008447, 6.68986398],\n",
       "        [7.96595092, 1.78103826],\n",
       "        [2.16352375, 2.3038318 ]]])"
      ]
     },
     "execution_count": 31,
     "metadata": {},
     "output_type": "execute_result"
    }
   ],
   "source": [
    "import random as rd\n",
    "\n",
    "a = int(input(\"1 Array's len: \"))\n",
    "b = int(input(\"2 Array's len: \"))\n",
    "c = int(input(\"3 Array's len: \"))\n",
    "\n",
    "rd_list = [rd.uniform(0, 10) for i in range (a * b * c)]\n",
    "rd_list\n",
    "arr = np.array(rd_list)\n",
    "arr = arr.reshape(a, b, c)\n",
    "arr"
   ]
  },
  {
   "cell_type": "code",
   "execution_count": null,
   "id": "de1ccd17-724c-47d0-bf7f-0de6b93b1ee9",
   "metadata": {},
   "outputs": [],
   "source": []
  }
 ],
 "metadata": {
  "kernelspec": {
   "display_name": "Python 3 (ipykernel)",
   "language": "python",
   "name": "python3"
  },
  "language_info": {
   "codemirror_mode": {
    "name": "ipython",
    "version": 3
   },
   "file_extension": ".py",
   "mimetype": "text/x-python",
   "name": "python",
   "nbconvert_exporter": "python",
   "pygments_lexer": "ipython3",
   "version": "3.12.5"
  }
 },
 "nbformat": 4,
 "nbformat_minor": 5
}
