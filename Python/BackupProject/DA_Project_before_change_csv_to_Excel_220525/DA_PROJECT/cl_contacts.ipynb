{
 "cells": [
  {
   "cell_type": "code",
   "execution_count": 18,
   "id": "4b116704-d5a9-4a38-9a60-3a8c2ac5f41a",
   "metadata": {},
   "outputs": [],
   "source": [
    "import pandas as pd\n",
    "# Загрузка с явным указанием типа данных для CONTACTID как строка\n",
    "dtype_dict = {\n",
    "    'Id': 'str',\n",
    "}\n",
    "# Загружаем Excel\n",
    "excel_file_contacts = pd.read_excel('Contacts (Done).xlsx', dtype=dtype_dict)\n",
    "\n",
    "excel_file_contacts.to_csv(\"Contacts.csv\", index=False, encoding='utf-8-sig')"
   ]
  },
  {
   "cell_type": "code",
   "execution_count": 19,
   "id": "0ed0eb24-f12d-4fa6-aacb-03aea66bcb1b",
   "metadata": {},
   "outputs": [
    {
     "data": {
      "text/html": [
       "<div>\n",
       "<style scoped>\n",
       "    .dataframe tbody tr th:only-of-type {\n",
       "        vertical-align: middle;\n",
       "    }\n",
       "\n",
       "    .dataframe tbody tr th {\n",
       "        vertical-align: top;\n",
       "    }\n",
       "\n",
       "    .dataframe thead th {\n",
       "        text-align: right;\n",
       "    }\n",
       "</style>\n",
       "<table border=\"1\" class=\"dataframe\">\n",
       "  <thead>\n",
       "    <tr style=\"text-align: right;\">\n",
       "      <th></th>\n",
       "      <th>Id</th>\n",
       "      <th>Contact Owner Name</th>\n",
       "      <th>Created Time</th>\n",
       "      <th>Modified Time</th>\n",
       "    </tr>\n",
       "  </thead>\n",
       "  <tbody>\n",
       "    <tr>\n",
       "      <th>0</th>\n",
       "      <td>5805028000000645014</td>\n",
       "      <td>Rachel White</td>\n",
       "      <td>27.06.2023 11:28</td>\n",
       "      <td>22.12.2023 13:34</td>\n",
       "    </tr>\n",
       "    <tr>\n",
       "      <th>1</th>\n",
       "      <td>5805028000000872003</td>\n",
       "      <td>Charlie Davis</td>\n",
       "      <td>03.07.2023 11:31</td>\n",
       "      <td>21.05.2024 10:23</td>\n",
       "    </tr>\n",
       "    <tr>\n",
       "      <th>2</th>\n",
       "      <td>5805028000000889001</td>\n",
       "      <td>Bob Brown</td>\n",
       "      <td>02.07.2023 22:37</td>\n",
       "      <td>21.12.2023 13:17</td>\n",
       "    </tr>\n",
       "    <tr>\n",
       "      <th>3</th>\n",
       "      <td>5805028000000907006</td>\n",
       "      <td>Bob Brown</td>\n",
       "      <td>03.07.2023 05:44</td>\n",
       "      <td>29.12.2023 15:20</td>\n",
       "    </tr>\n",
       "    <tr>\n",
       "      <th>4</th>\n",
       "      <td>5805028000000939010</td>\n",
       "      <td>Nina Scott</td>\n",
       "      <td>04.07.2023 10:11</td>\n",
       "      <td>16.04.2024 16:14</td>\n",
       "    </tr>\n",
       "    <tr>\n",
       "      <th>...</th>\n",
       "      <td>...</td>\n",
       "      <td>...</td>\n",
       "      <td>...</td>\n",
       "      <td>...</td>\n",
       "    </tr>\n",
       "    <tr>\n",
       "      <th>18543</th>\n",
       "      <td>5805028000056889209</td>\n",
       "      <td>Ulysses Adams</td>\n",
       "      <td>21.06.2024 12:11</td>\n",
       "      <td>21.06.2024 14:11</td>\n",
       "    </tr>\n",
       "    <tr>\n",
       "      <th>18544</th>\n",
       "      <td>5805028000056889351</td>\n",
       "      <td>Eva Kent</td>\n",
       "      <td>21.06.2024 13:32</td>\n",
       "      <td>21.06.2024 15:32</td>\n",
       "    </tr>\n",
       "    <tr>\n",
       "      <th>18545</th>\n",
       "      <td>5805028000056892018</td>\n",
       "      <td>Eva Kent</td>\n",
       "      <td>21.06.2024 10:21</td>\n",
       "      <td>21.06.2024 12:21</td>\n",
       "    </tr>\n",
       "    <tr>\n",
       "      <th>18546</th>\n",
       "      <td>5805028000056892055</td>\n",
       "      <td>Yara Edwards</td>\n",
       "      <td>21.06.2024 10:22</td>\n",
       "      <td>21.06.2024 12:23</td>\n",
       "    </tr>\n",
       "    <tr>\n",
       "      <th>18547</th>\n",
       "      <td>5805028000056907001</td>\n",
       "      <td>Ben Hall</td>\n",
       "      <td>21.06.2024 10:56</td>\n",
       "      <td>21.06.2024 12:56</td>\n",
       "    </tr>\n",
       "  </tbody>\n",
       "</table>\n",
       "<p>18548 rows × 4 columns</p>\n",
       "</div>"
      ],
      "text/plain": [
       "                        Id Contact Owner Name      Created Time  \\\n",
       "0      5805028000000645014       Rachel White  27.06.2023 11:28   \n",
       "1      5805028000000872003      Charlie Davis  03.07.2023 11:31   \n",
       "2      5805028000000889001          Bob Brown  02.07.2023 22:37   \n",
       "3      5805028000000907006          Bob Brown  03.07.2023 05:44   \n",
       "4      5805028000000939010         Nina Scott  04.07.2023 10:11   \n",
       "...                    ...                ...               ...   \n",
       "18543  5805028000056889209      Ulysses Adams  21.06.2024 12:11   \n",
       "18544  5805028000056889351           Eva Kent  21.06.2024 13:32   \n",
       "18545  5805028000056892018           Eva Kent  21.06.2024 10:21   \n",
       "18546  5805028000056892055       Yara Edwards  21.06.2024 10:22   \n",
       "18547  5805028000056907001           Ben Hall  21.06.2024 10:56   \n",
       "\n",
       "          Modified Time  \n",
       "0      22.12.2023 13:34  \n",
       "1      21.05.2024 10:23  \n",
       "2      21.12.2023 13:17  \n",
       "3      29.12.2023 15:20  \n",
       "4      16.04.2024 16:14  \n",
       "...                 ...  \n",
       "18543  21.06.2024 14:11  \n",
       "18544  21.06.2024 15:32  \n",
       "18545  21.06.2024 12:21  \n",
       "18546  21.06.2024 12:23  \n",
       "18547  21.06.2024 12:56  \n",
       "\n",
       "[18548 rows x 4 columns]"
      ]
     },
     "execution_count": 19,
     "metadata": {},
     "output_type": "execute_result"
    }
   ],
   "source": [
    "contacts_df = pd.read_csv(\"Contacts.csv\", dtype={'Id': str})\n",
    "contacts_df"
   ]
  },
  {
   "cell_type": "code",
   "execution_count": 20,
   "id": "2c720cee-7c09-4707-8ebd-0104104e5885",
   "metadata": {},
   "outputs": [
    {
     "name": "stdout",
     "output_type": "stream",
     "text": [
      "<class 'pandas.core.frame.DataFrame'>\n",
      "RangeIndex: 18548 entries, 0 to 18547\n",
      "Data columns (total 4 columns):\n",
      " #   Column              Non-Null Count  Dtype \n",
      "---  ------              --------------  ----- \n",
      " 0   Id                  18548 non-null  object\n",
      " 1   Contact Owner Name  18548 non-null  object\n",
      " 2   Created Time        18548 non-null  object\n",
      " 3   Modified Time       18548 non-null  object\n",
      "dtypes: object(4)\n",
      "memory usage: 579.8+ KB\n"
     ]
    }
   ],
   "source": [
    "contacts_df.info()"
   ]
  },
  {
   "cell_type": "code",
   "execution_count": 4,
   "id": "723bd818-08e3-4dda-8777-a4daafc07d83",
   "metadata": {},
   "outputs": [
    {
     "data": {
      "text/plain": [
       "Id                    object\n",
       "Contact Owner Name    object\n",
       "Created Time          object\n",
       "Modified Time         object\n",
       "dtype: object"
      ]
     },
     "execution_count": 4,
     "metadata": {},
     "output_type": "execute_result"
    }
   ],
   "source": [
    "contacts_df.dtypes"
   ]
  },
  {
   "cell_type": "code",
   "execution_count": 5,
   "id": "bf46919f-dd71-44ff-87ec-b319e2107540",
   "metadata": {},
   "outputs": [
    {
     "data": {
      "text/plain": [
       "Id                    18548\n",
       "Contact Owner Name       28\n",
       "Created Time          17921\n",
       "Modified Time         16580\n",
       "dtype: int64"
      ]
     },
     "execution_count": 5,
     "metadata": {},
     "output_type": "execute_result"
    }
   ],
   "source": [
    "contacts_df.nunique()"
   ]
  },
  {
   "cell_type": "code",
   "execution_count": 21,
   "id": "f04c1af9-3f00-4c0c-be1b-56a336c0afd5",
   "metadata": {},
   "outputs": [
    {
     "data": {
      "text/html": [
       "<div>\n",
       "<style scoped>\n",
       "    .dataframe tbody tr th:only-of-type {\n",
       "        vertical-align: middle;\n",
       "    }\n",
       "\n",
       "    .dataframe tbody tr th {\n",
       "        vertical-align: top;\n",
       "    }\n",
       "\n",
       "    .dataframe thead th {\n",
       "        text-align: right;\n",
       "    }\n",
       "</style>\n",
       "<table border=\"1\" class=\"dataframe\">\n",
       "  <thead>\n",
       "    <tr style=\"text-align: right;\">\n",
       "      <th></th>\n",
       "      <th>Id</th>\n",
       "      <th>Contact Owner Name</th>\n",
       "      <th>Created Time</th>\n",
       "      <th>Modified Time</th>\n",
       "    </tr>\n",
       "  </thead>\n",
       "  <tbody>\n",
       "  </tbody>\n",
       "</table>\n",
       "</div>"
      ],
      "text/plain": [
       "Empty DataFrame\n",
       "Columns: [Id, Contact Owner Name, Created Time, Modified Time]\n",
       "Index: []"
      ]
     },
     "execution_count": 21,
     "metadata": {},
     "output_type": "execute_result"
    }
   ],
   "source": [
    "contacts_df[contacts_df.duplicated()]"
   ]
  },
  {
   "cell_type": "code",
   "execution_count": 22,
   "id": "d57658f1-db74-4e8c-97ad-680fec49dec9",
   "metadata": {},
   "outputs": [
    {
     "data": {
      "text/html": [
       "<div>\n",
       "<style scoped>\n",
       "    .dataframe tbody tr th:only-of-type {\n",
       "        vertical-align: middle;\n",
       "    }\n",
       "\n",
       "    .dataframe tbody tr th {\n",
       "        vertical-align: top;\n",
       "    }\n",
       "\n",
       "    .dataframe thead th {\n",
       "        text-align: right;\n",
       "    }\n",
       "</style>\n",
       "<table border=\"1\" class=\"dataframe\">\n",
       "  <thead>\n",
       "    <tr style=\"text-align: right;\">\n",
       "      <th></th>\n",
       "      <th>Id</th>\n",
       "      <th>Contact Owner Name</th>\n",
       "      <th>Created Time</th>\n",
       "      <th>Modified Time</th>\n",
       "    </tr>\n",
       "  </thead>\n",
       "  <tbody>\n",
       "  </tbody>\n",
       "</table>\n",
       "</div>"
      ],
      "text/plain": [
       "Empty DataFrame\n",
       "Columns: [Id, Contact Owner Name, Created Time, Modified Time]\n",
       "Index: []"
      ]
     },
     "execution_count": 22,
     "metadata": {},
     "output_type": "execute_result"
    }
   ],
   "source": [
    "contacts_df[contacts_df.duplicated(subset='Id', keep=False)]"
   ]
  },
  {
   "cell_type": "code",
   "execution_count": 23,
   "id": "61184403-b0ff-4929-99c5-82daacea5ecc",
   "metadata": {},
   "outputs": [],
   "source": [
    "# Преобразуем колонку в datetime\n",
    "contacts_df['Created Time'] = pd.to_datetime(contacts_df['Created Time'], errors = 'coerce', dayfirst=True)\n",
    "contacts_df['Modified Time'] = pd.to_datetime(contacts_df['Modified Time'], errors = 'coerce', dayfirst=True)\n",
    "\n",
    "# Создаем колонку с датой, тип datetime64[ns], время обрезается\n",
    "contacts_df['Created Date'] = contacts_df['Created Time'].dt.normalize()\n",
    "\n",
    "# Создаем колонку с временем (объекты datetime.time)\n",
    "contacts_df['Created HourMinute'] = contacts_df['Created Time'].dt.time"
   ]
  },
  {
   "cell_type": "code",
   "execution_count": 24,
   "id": "a6edddca-a65e-4650-a954-aab0e5f50efe",
   "metadata": {},
   "outputs": [
    {
     "data": {
      "text/plain": [
       "Id                            object\n",
       "Contact Owner Name            object\n",
       "Created Time          datetime64[ns]\n",
       "Modified Time         datetime64[ns]\n",
       "Created Date          datetime64[ns]\n",
       "Created HourMinute            object\n",
       "dtype: object"
      ]
     },
     "execution_count": 24,
     "metadata": {},
     "output_type": "execute_result"
    }
   ],
   "source": [
    "contacts_df.dtypes"
   ]
  },
  {
   "cell_type": "code",
   "execution_count": 25,
   "id": "009563a5-2e48-48a1-ac8f-e1cef0891363",
   "metadata": {},
   "outputs": [
    {
     "data": {
      "text/html": [
       "<div>\n",
       "<style scoped>\n",
       "    .dataframe tbody tr th:only-of-type {\n",
       "        vertical-align: middle;\n",
       "    }\n",
       "\n",
       "    .dataframe tbody tr th {\n",
       "        vertical-align: top;\n",
       "    }\n",
       "\n",
       "    .dataframe thead th {\n",
       "        text-align: right;\n",
       "    }\n",
       "</style>\n",
       "<table border=\"1\" class=\"dataframe\">\n",
       "  <thead>\n",
       "    <tr style=\"text-align: right;\">\n",
       "      <th></th>\n",
       "      <th>Id</th>\n",
       "      <th>Contact Owner Name</th>\n",
       "      <th>Created Time</th>\n",
       "      <th>Modified Time</th>\n",
       "      <th>Created Date</th>\n",
       "      <th>Created HourMinute</th>\n",
       "    </tr>\n",
       "  </thead>\n",
       "  <tbody>\n",
       "    <tr>\n",
       "      <th>0</th>\n",
       "      <td>5805028000000645014</td>\n",
       "      <td>Rachel White</td>\n",
       "      <td>2023-06-27 11:28:00</td>\n",
       "      <td>2023-12-22 13:34:00</td>\n",
       "      <td>2023-06-27</td>\n",
       "      <td>11:28:00</td>\n",
       "    </tr>\n",
       "    <tr>\n",
       "      <th>1</th>\n",
       "      <td>5805028000000872003</td>\n",
       "      <td>Charlie Davis</td>\n",
       "      <td>2023-07-03 11:31:00</td>\n",
       "      <td>2024-05-21 10:23:00</td>\n",
       "      <td>2023-07-03</td>\n",
       "      <td>11:31:00</td>\n",
       "    </tr>\n",
       "    <tr>\n",
       "      <th>2</th>\n",
       "      <td>5805028000000889001</td>\n",
       "      <td>Bob Brown</td>\n",
       "      <td>2023-07-02 22:37:00</td>\n",
       "      <td>2023-12-21 13:17:00</td>\n",
       "      <td>2023-07-02</td>\n",
       "      <td>22:37:00</td>\n",
       "    </tr>\n",
       "    <tr>\n",
       "      <th>3</th>\n",
       "      <td>5805028000000907006</td>\n",
       "      <td>Bob Brown</td>\n",
       "      <td>2023-07-03 05:44:00</td>\n",
       "      <td>2023-12-29 15:20:00</td>\n",
       "      <td>2023-07-03</td>\n",
       "      <td>05:44:00</td>\n",
       "    </tr>\n",
       "    <tr>\n",
       "      <th>4</th>\n",
       "      <td>5805028000000939010</td>\n",
       "      <td>Nina Scott</td>\n",
       "      <td>2023-07-04 10:11:00</td>\n",
       "      <td>2024-04-16 16:14:00</td>\n",
       "      <td>2023-07-04</td>\n",
       "      <td>10:11:00</td>\n",
       "    </tr>\n",
       "    <tr>\n",
       "      <th>...</th>\n",
       "      <td>...</td>\n",
       "      <td>...</td>\n",
       "      <td>...</td>\n",
       "      <td>...</td>\n",
       "      <td>...</td>\n",
       "      <td>...</td>\n",
       "    </tr>\n",
       "    <tr>\n",
       "      <th>18543</th>\n",
       "      <td>5805028000056889209</td>\n",
       "      <td>Ulysses Adams</td>\n",
       "      <td>2024-06-21 12:11:00</td>\n",
       "      <td>2024-06-21 14:11:00</td>\n",
       "      <td>2024-06-21</td>\n",
       "      <td>12:11:00</td>\n",
       "    </tr>\n",
       "    <tr>\n",
       "      <th>18544</th>\n",
       "      <td>5805028000056889351</td>\n",
       "      <td>Eva Kent</td>\n",
       "      <td>2024-06-21 13:32:00</td>\n",
       "      <td>2024-06-21 15:32:00</td>\n",
       "      <td>2024-06-21</td>\n",
       "      <td>13:32:00</td>\n",
       "    </tr>\n",
       "    <tr>\n",
       "      <th>18545</th>\n",
       "      <td>5805028000056892018</td>\n",
       "      <td>Eva Kent</td>\n",
       "      <td>2024-06-21 10:21:00</td>\n",
       "      <td>2024-06-21 12:21:00</td>\n",
       "      <td>2024-06-21</td>\n",
       "      <td>10:21:00</td>\n",
       "    </tr>\n",
       "    <tr>\n",
       "      <th>18546</th>\n",
       "      <td>5805028000056892055</td>\n",
       "      <td>Yara Edwards</td>\n",
       "      <td>2024-06-21 10:22:00</td>\n",
       "      <td>2024-06-21 12:23:00</td>\n",
       "      <td>2024-06-21</td>\n",
       "      <td>10:22:00</td>\n",
       "    </tr>\n",
       "    <tr>\n",
       "      <th>18547</th>\n",
       "      <td>5805028000056907001</td>\n",
       "      <td>Ben Hall</td>\n",
       "      <td>2024-06-21 10:56:00</td>\n",
       "      <td>2024-06-21 12:56:00</td>\n",
       "      <td>2024-06-21</td>\n",
       "      <td>10:56:00</td>\n",
       "    </tr>\n",
       "  </tbody>\n",
       "</table>\n",
       "<p>18548 rows × 6 columns</p>\n",
       "</div>"
      ],
      "text/plain": [
       "                        Id Contact Owner Name        Created Time  \\\n",
       "0      5805028000000645014       Rachel White 2023-06-27 11:28:00   \n",
       "1      5805028000000872003      Charlie Davis 2023-07-03 11:31:00   \n",
       "2      5805028000000889001          Bob Brown 2023-07-02 22:37:00   \n",
       "3      5805028000000907006          Bob Brown 2023-07-03 05:44:00   \n",
       "4      5805028000000939010         Nina Scott 2023-07-04 10:11:00   \n",
       "...                    ...                ...                 ...   \n",
       "18543  5805028000056889209      Ulysses Adams 2024-06-21 12:11:00   \n",
       "18544  5805028000056889351           Eva Kent 2024-06-21 13:32:00   \n",
       "18545  5805028000056892018           Eva Kent 2024-06-21 10:21:00   \n",
       "18546  5805028000056892055       Yara Edwards 2024-06-21 10:22:00   \n",
       "18547  5805028000056907001           Ben Hall 2024-06-21 10:56:00   \n",
       "\n",
       "            Modified Time Created Date Created HourMinute  \n",
       "0     2023-12-22 13:34:00   2023-06-27           11:28:00  \n",
       "1     2024-05-21 10:23:00   2023-07-03           11:31:00  \n",
       "2     2023-12-21 13:17:00   2023-07-02           22:37:00  \n",
       "3     2023-12-29 15:20:00   2023-07-03           05:44:00  \n",
       "4     2024-04-16 16:14:00   2023-07-04           10:11:00  \n",
       "...                   ...          ...                ...  \n",
       "18543 2024-06-21 14:11:00   2024-06-21           12:11:00  \n",
       "18544 2024-06-21 15:32:00   2024-06-21           13:32:00  \n",
       "18545 2024-06-21 12:21:00   2024-06-21           10:21:00  \n",
       "18546 2024-06-21 12:23:00   2024-06-21           10:22:00  \n",
       "18547 2024-06-21 12:56:00   2024-06-21           10:56:00  \n",
       "\n",
       "[18548 rows x 6 columns]"
      ]
     },
     "execution_count": 25,
     "metadata": {},
     "output_type": "execute_result"
    }
   ],
   "source": [
    "contacts_df"
   ]
  },
  {
   "cell_type": "code",
   "execution_count": 26,
   "id": "6e78f692-f692-4f9b-9f89-eb882f378f54",
   "metadata": {},
   "outputs": [
    {
     "data": {
      "text/plain": [
       "Id                    18548\n",
       "Contact Owner Name       28\n",
       "Created Time          17921\n",
       "Modified Time         16580\n",
       "Created Date            357\n",
       "Created HourMinute     1406\n",
       "dtype: int64"
      ]
     },
     "execution_count": 26,
     "metadata": {},
     "output_type": "execute_result"
    }
   ],
   "source": [
    "contacts_df.nunique()"
   ]
  },
  {
   "cell_type": "code",
   "execution_count": 27,
   "id": "035b42c6-5bd9-4df1-b8e1-186579427b94",
   "metadata": {},
   "outputs": [
    {
     "data": {
      "text/html": [
       "<div>\n",
       "<style scoped>\n",
       "    .dataframe tbody tr th:only-of-type {\n",
       "        vertical-align: middle;\n",
       "    }\n",
       "\n",
       "    .dataframe tbody tr th {\n",
       "        vertical-align: top;\n",
       "    }\n",
       "\n",
       "    .dataframe thead th {\n",
       "        text-align: right;\n",
       "    }\n",
       "</style>\n",
       "<table border=\"1\" class=\"dataframe\">\n",
       "  <thead>\n",
       "    <tr style=\"text-align: right;\">\n",
       "      <th></th>\n",
       "      <th>Id</th>\n",
       "      <th>Contact Owner Name</th>\n",
       "      <th>Created Time</th>\n",
       "      <th>Modified Time</th>\n",
       "      <th>Created Date</th>\n",
       "      <th>Created HourMinute</th>\n",
       "    </tr>\n",
       "  </thead>\n",
       "  <tbody>\n",
       "    <tr>\n",
       "      <th>0</th>\n",
       "      <td>5805028000000645014</td>\n",
       "      <td>Rachel White</td>\n",
       "      <td>2023-06-27 11:28:00</td>\n",
       "      <td>2023-12-22 13:34:00</td>\n",
       "      <td>2023-06-27</td>\n",
       "      <td>11:28:00</td>\n",
       "    </tr>\n",
       "    <tr>\n",
       "      <th>1</th>\n",
       "      <td>5805028000000872003</td>\n",
       "      <td>Charlie Davis</td>\n",
       "      <td>2023-07-03 11:31:00</td>\n",
       "      <td>2024-05-21 10:23:00</td>\n",
       "      <td>2023-07-03</td>\n",
       "      <td>11:31:00</td>\n",
       "    </tr>\n",
       "    <tr>\n",
       "      <th>2</th>\n",
       "      <td>5805028000000889001</td>\n",
       "      <td>Bob Brown</td>\n",
       "      <td>2023-07-02 22:37:00</td>\n",
       "      <td>2023-12-21 13:17:00</td>\n",
       "      <td>2023-07-02</td>\n",
       "      <td>22:37:00</td>\n",
       "    </tr>\n",
       "    <tr>\n",
       "      <th>3</th>\n",
       "      <td>5805028000000907006</td>\n",
       "      <td>Bob Brown</td>\n",
       "      <td>2023-07-03 05:44:00</td>\n",
       "      <td>2023-12-29 15:20:00</td>\n",
       "      <td>2023-07-03</td>\n",
       "      <td>05:44:00</td>\n",
       "    </tr>\n",
       "    <tr>\n",
       "      <th>4</th>\n",
       "      <td>5805028000000939010</td>\n",
       "      <td>Nina Scott</td>\n",
       "      <td>2023-07-04 10:11:00</td>\n",
       "      <td>2024-04-16 16:14:00</td>\n",
       "      <td>2023-07-04</td>\n",
       "      <td>10:11:00</td>\n",
       "    </tr>\n",
       "    <tr>\n",
       "      <th>...</th>\n",
       "      <td>...</td>\n",
       "      <td>...</td>\n",
       "      <td>...</td>\n",
       "      <td>...</td>\n",
       "      <td>...</td>\n",
       "      <td>...</td>\n",
       "    </tr>\n",
       "    <tr>\n",
       "      <th>18543</th>\n",
       "      <td>5805028000056889209</td>\n",
       "      <td>Ulysses Adams</td>\n",
       "      <td>2024-06-21 12:11:00</td>\n",
       "      <td>2024-06-21 14:11:00</td>\n",
       "      <td>2024-06-21</td>\n",
       "      <td>12:11:00</td>\n",
       "    </tr>\n",
       "    <tr>\n",
       "      <th>18544</th>\n",
       "      <td>5805028000056889351</td>\n",
       "      <td>Eva Kent</td>\n",
       "      <td>2024-06-21 13:32:00</td>\n",
       "      <td>2024-06-21 15:32:00</td>\n",
       "      <td>2024-06-21</td>\n",
       "      <td>13:32:00</td>\n",
       "    </tr>\n",
       "    <tr>\n",
       "      <th>18545</th>\n",
       "      <td>5805028000056892018</td>\n",
       "      <td>Eva Kent</td>\n",
       "      <td>2024-06-21 10:21:00</td>\n",
       "      <td>2024-06-21 12:21:00</td>\n",
       "      <td>2024-06-21</td>\n",
       "      <td>10:21:00</td>\n",
       "    </tr>\n",
       "    <tr>\n",
       "      <th>18546</th>\n",
       "      <td>5805028000056892055</td>\n",
       "      <td>Yara Edwards</td>\n",
       "      <td>2024-06-21 10:22:00</td>\n",
       "      <td>2024-06-21 12:23:00</td>\n",
       "      <td>2024-06-21</td>\n",
       "      <td>10:22:00</td>\n",
       "    </tr>\n",
       "    <tr>\n",
       "      <th>18547</th>\n",
       "      <td>5805028000056907001</td>\n",
       "      <td>Ben Hall</td>\n",
       "      <td>2024-06-21 10:56:00</td>\n",
       "      <td>2024-06-21 12:56:00</td>\n",
       "      <td>2024-06-21</td>\n",
       "      <td>10:56:00</td>\n",
       "    </tr>\n",
       "  </tbody>\n",
       "</table>\n",
       "<p>18548 rows × 6 columns</p>\n",
       "</div>"
      ],
      "text/plain": [
       "                        Id Contact Owner Name        Created Time  \\\n",
       "0      5805028000000645014       Rachel White 2023-06-27 11:28:00   \n",
       "1      5805028000000872003      Charlie Davis 2023-07-03 11:31:00   \n",
       "2      5805028000000889001          Bob Brown 2023-07-02 22:37:00   \n",
       "3      5805028000000907006          Bob Brown 2023-07-03 05:44:00   \n",
       "4      5805028000000939010         Nina Scott 2023-07-04 10:11:00   \n",
       "...                    ...                ...                 ...   \n",
       "18543  5805028000056889209      Ulysses Adams 2024-06-21 12:11:00   \n",
       "18544  5805028000056889351           Eva Kent 2024-06-21 13:32:00   \n",
       "18545  5805028000056892018           Eva Kent 2024-06-21 10:21:00   \n",
       "18546  5805028000056892055       Yara Edwards 2024-06-21 10:22:00   \n",
       "18547  5805028000056907001           Ben Hall 2024-06-21 10:56:00   \n",
       "\n",
       "            Modified Time Created Date Created HourMinute  \n",
       "0     2023-12-22 13:34:00   2023-06-27           11:28:00  \n",
       "1     2024-05-21 10:23:00   2023-07-03           11:31:00  \n",
       "2     2023-12-21 13:17:00   2023-07-02           22:37:00  \n",
       "3     2023-12-29 15:20:00   2023-07-03           05:44:00  \n",
       "4     2024-04-16 16:14:00   2023-07-04           10:11:00  \n",
       "...                   ...          ...                ...  \n",
       "18543 2024-06-21 14:11:00   2024-06-21           12:11:00  \n",
       "18544 2024-06-21 15:32:00   2024-06-21           13:32:00  \n",
       "18545 2024-06-21 12:21:00   2024-06-21           10:21:00  \n",
       "18546 2024-06-21 12:23:00   2024-06-21           10:22:00  \n",
       "18547 2024-06-21 12:56:00   2024-06-21           10:56:00  \n",
       "\n",
       "[18548 rows x 6 columns]"
      ]
     },
     "execution_count": 27,
     "metadata": {},
     "output_type": "execute_result"
    }
   ],
   "source": [
    "contacts_df.loc[:, 'Contact Owner Name'] = contacts_df['Contact Owner Name'].str.strip().str.replace(r'\\s+', ' ', regex=True).str.title()\n",
    "contacts_df"
   ]
  },
  {
   "cell_type": "code",
   "execution_count": 28,
   "id": "50aa6d2e-7925-44e4-818c-11f2d5ea4ba6",
   "metadata": {},
   "outputs": [
    {
     "data": {
      "text/plain": [
       "Id                    18548\n",
       "Contact Owner Name       28\n",
       "Created Time          17921\n",
       "Modified Time         16580\n",
       "Created Date            357\n",
       "Created HourMinute     1406\n",
       "dtype: int64"
      ]
     },
     "execution_count": 28,
     "metadata": {},
     "output_type": "execute_result"
    }
   ],
   "source": [
    "contacts_df.nunique()"
   ]
  },
  {
   "cell_type": "code",
   "execution_count": 29,
   "id": "becfb0d4-ff1d-44f7-8891-8fb4c023df7b",
   "metadata": {},
   "outputs": [
    {
     "data": {
      "text/plain": [
       "Id                    0\n",
       "Contact Owner Name    0\n",
       "Created Time          0\n",
       "Modified Time         0\n",
       "Created Date          0\n",
       "Created HourMinute    0\n",
       "dtype: int64"
      ]
     },
     "execution_count": 29,
     "metadata": {},
     "output_type": "execute_result"
    }
   ],
   "source": [
    "contacts_df.isnull().sum()"
   ]
  },
  {
   "cell_type": "code",
   "execution_count": 30,
   "id": "bcf94be9-b0c2-439f-b742-31e602b35ff2",
   "metadata": {},
   "outputs": [],
   "source": [
    "contacts_df.to_pickle(\"contacts_cleaned_v1.pkl\")"
   ]
  },
  {
   "cell_type": "code",
   "execution_count": null,
   "id": "82417b98-7807-495a-85a6-c4922ad22f09",
   "metadata": {},
   "outputs": [],
   "source": []
  }
 ],
 "metadata": {
  "kernelspec": {
   "display_name": "Python 3 (ipykernel)",
   "language": "python",
   "name": "python3"
  },
  "language_info": {
   "codemirror_mode": {
    "name": "ipython",
    "version": 3
   },
   "file_extension": ".py",
   "mimetype": "text/x-python",
   "name": "python",
   "nbconvert_exporter": "python",
   "pygments_lexer": "ipython3",
   "version": "3.13.3"
  }
 },
 "nbformat": 4,
 "nbformat_minor": 5
}
