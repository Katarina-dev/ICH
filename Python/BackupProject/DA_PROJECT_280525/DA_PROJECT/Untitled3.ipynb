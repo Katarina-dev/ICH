{
 "cells": [
  {
   "cell_type": "code",
   "execution_count": 1,
   "id": "0421b228-6497-4735-86cc-3bf3746168e7",
   "metadata": {},
   "outputs": [],
   "source": [
    "import pandas as pd\n",
    "import plotly.graph_objects as go\n",
    "import plotly.express as px\n",
    "\n",
    "# Загрузка данных\n",
    "deals_df = pd.read_pickle('deals_cleaned.pkl')\n",
    "contacts_df = pd.read_pickle('contacts_cleaned.pkl')\n",
    "spend_df = pd.read_pickle('spend_cleaned.pkl')\n",
    "metrics_df = pd.read_pickle('metrics.pkl')\n",
    "calls_df = pd.read_pickle(\"calls_cleaned.pkl\")\n"
   ]
  },
  {
   "cell_type": "code",
   "execution_count": 8,
   "id": "6de06b9c-fe0f-4b88-b6a5-8fa1cc20870a",
   "metadata": {},
   "outputs": [],
   "source": [
    "leads = contacts_df['Id'].nunique()\n",
    "contact_all_deals = deals_df['Contact Name'].nunique()\n",
    "success_contacts = deals_df[(deals_df['Stage'] == 'Payment Done') & (deals_df['Offer Total Amount'].notna())]['Contact Name'].nunique()\n",
    "# success_deals = deals_df[(deals_df['Stage'] == 'Payment Done') & (deals_df['Offer Total Amount'].notna())]['Id'].nunique()\n",
    "all_deals = deals_df['Id'].nunique()\n",
    "# Filter only successful transactions\n",
    "successful_df = deals_df[(deals_df['Stage'] == 'Payment Done') & (deals_df['Offer Total Amount'].notna())]\n",
    "\n",
    "# --- Группировки для воронки ---\n",
    "grouped_deals = deals_df.groupby('Source')\n",
    "leads_by_source = grouped_deals['Contact Name'].nunique().rename('Leads')\n",
    "total_deals_by_source = grouped_deals['Id'].count().rename('Deals')\n",
    "successful_deals_by_source = deals_df[(deals_df['Stage'] == 'Payment Done') & (deals_df['Offer Total Amount'].notna())].groupby('Source')['Id'].count().rename('Successful Deals')\n",
    "\n",
    "funnel_df = pd.concat([leads_by_source, total_deals_by_source, successful_deals_by_source], axis=1).fillna(0)\n",
    "funnel_df = funnel_df.astype({'Leads': int, 'Deals': int, 'Successful Deals': int}).reset_index()\n",
    "funnel_df['Conversion'] = (funnel_df['Successful Deals'] / funnel_df['Deals']) * 100"
   ]
  },
  {
   "cell_type": "code",
   "execution_count": 11,
   "id": "eba4da62-36c1-4408-bb5d-08576a70c22f",
   "metadata": {},
   "outputs": [
    {
     "data": {
      "application/vnd.plotly.v1+json": {
       "config": {
        "plotlyServerURL": "https://plot.ly"
       },
       "data": [
        {
         "marker": {
          "color": [
           "#FFD580",
           "#FFAA5A",
           "#FF6B4A"
          ]
         },
         "textinfo": "value+percent initial",
         "texttemplate": "%{value:,.0f} (%{percentInitial:.1%})",
         "type": "funnel",
         "x": [
          18548,
          18089,
          828
         ],
         "y": [
          "Leads",
          "Opportunities",
          "Buyers"
         ]
        }
       ],
       "layout": {
        "height": 400,
        "margin": {
         "b": 40,
         "t": 40
        },
        "paper_bgcolor": "rgba(0,0,0,0)",
        "plot_bgcolor": "rgba(0,0,0,0)",
        "template": {
         "data": {
          "bar": [
           {
            "error_x": {
             "color": "#2a3f5f"
            },
            "error_y": {
             "color": "#2a3f5f"
            },
            "marker": {
             "line": {
              "color": "#E5ECF6",
              "width": 0.5
             },
             "pattern": {
              "fillmode": "overlay",
              "size": 10,
              "solidity": 0.2
             }
            },
            "type": "bar"
           }
          ],
          "barpolar": [
           {
            "marker": {
             "line": {
              "color": "#E5ECF6",
              "width": 0.5
             },
             "pattern": {
              "fillmode": "overlay",
              "size": 10,
              "solidity": 0.2
             }
            },
            "type": "barpolar"
           }
          ],
          "carpet": [
           {
            "aaxis": {
             "endlinecolor": "#2a3f5f",
             "gridcolor": "white",
             "linecolor": "white",
             "minorgridcolor": "white",
             "startlinecolor": "#2a3f5f"
            },
            "baxis": {
             "endlinecolor": "#2a3f5f",
             "gridcolor": "white",
             "linecolor": "white",
             "minorgridcolor": "white",
             "startlinecolor": "#2a3f5f"
            },
            "type": "carpet"
           }
          ],
          "choropleth": [
           {
            "colorbar": {
             "outlinewidth": 0,
             "ticks": ""
            },
            "type": "choropleth"
           }
          ],
          "contour": [
           {
            "colorbar": {
             "outlinewidth": 0,
             "ticks": ""
            },
            "colorscale": [
             [
              0,
              "#0d0887"
             ],
             [
              0.1111111111111111,
              "#46039f"
             ],
             [
              0.2222222222222222,
              "#7201a8"
             ],
             [
              0.3333333333333333,
              "#9c179e"
             ],
             [
              0.4444444444444444,
              "#bd3786"
             ],
             [
              0.5555555555555556,
              "#d8576b"
             ],
             [
              0.6666666666666666,
              "#ed7953"
             ],
             [
              0.7777777777777778,
              "#fb9f3a"
             ],
             [
              0.8888888888888888,
              "#fdca26"
             ],
             [
              1,
              "#f0f921"
             ]
            ],
            "type": "contour"
           }
          ],
          "contourcarpet": [
           {
            "colorbar": {
             "outlinewidth": 0,
             "ticks": ""
            },
            "type": "contourcarpet"
           }
          ],
          "heatmap": [
           {
            "colorbar": {
             "outlinewidth": 0,
             "ticks": ""
            },
            "colorscale": [
             [
              0,
              "#0d0887"
             ],
             [
              0.1111111111111111,
              "#46039f"
             ],
             [
              0.2222222222222222,
              "#7201a8"
             ],
             [
              0.3333333333333333,
              "#9c179e"
             ],
             [
              0.4444444444444444,
              "#bd3786"
             ],
             [
              0.5555555555555556,
              "#d8576b"
             ],
             [
              0.6666666666666666,
              "#ed7953"
             ],
             [
              0.7777777777777778,
              "#fb9f3a"
             ],
             [
              0.8888888888888888,
              "#fdca26"
             ],
             [
              1,
              "#f0f921"
             ]
            ],
            "type": "heatmap"
           }
          ],
          "histogram": [
           {
            "marker": {
             "pattern": {
              "fillmode": "overlay",
              "size": 10,
              "solidity": 0.2
             }
            },
            "type": "histogram"
           }
          ],
          "histogram2d": [
           {
            "colorbar": {
             "outlinewidth": 0,
             "ticks": ""
            },
            "colorscale": [
             [
              0,
              "#0d0887"
             ],
             [
              0.1111111111111111,
              "#46039f"
             ],
             [
              0.2222222222222222,
              "#7201a8"
             ],
             [
              0.3333333333333333,
              "#9c179e"
             ],
             [
              0.4444444444444444,
              "#bd3786"
             ],
             [
              0.5555555555555556,
              "#d8576b"
             ],
             [
              0.6666666666666666,
              "#ed7953"
             ],
             [
              0.7777777777777778,
              "#fb9f3a"
             ],
             [
              0.8888888888888888,
              "#fdca26"
             ],
             [
              1,
              "#f0f921"
             ]
            ],
            "type": "histogram2d"
           }
          ],
          "histogram2dcontour": [
           {
            "colorbar": {
             "outlinewidth": 0,
             "ticks": ""
            },
            "colorscale": [
             [
              0,
              "#0d0887"
             ],
             [
              0.1111111111111111,
              "#46039f"
             ],
             [
              0.2222222222222222,
              "#7201a8"
             ],
             [
              0.3333333333333333,
              "#9c179e"
             ],
             [
              0.4444444444444444,
              "#bd3786"
             ],
             [
              0.5555555555555556,
              "#d8576b"
             ],
             [
              0.6666666666666666,
              "#ed7953"
             ],
             [
              0.7777777777777778,
              "#fb9f3a"
             ],
             [
              0.8888888888888888,
              "#fdca26"
             ],
             [
              1,
              "#f0f921"
             ]
            ],
            "type": "histogram2dcontour"
           }
          ],
          "mesh3d": [
           {
            "colorbar": {
             "outlinewidth": 0,
             "ticks": ""
            },
            "type": "mesh3d"
           }
          ],
          "parcoords": [
           {
            "line": {
             "colorbar": {
              "outlinewidth": 0,
              "ticks": ""
             }
            },
            "type": "parcoords"
           }
          ],
          "pie": [
           {
            "automargin": true,
            "type": "pie"
           }
          ],
          "scatter": [
           {
            "fillpattern": {
             "fillmode": "overlay",
             "size": 10,
             "solidity": 0.2
            },
            "type": "scatter"
           }
          ],
          "scatter3d": [
           {
            "line": {
             "colorbar": {
              "outlinewidth": 0,
              "ticks": ""
             }
            },
            "marker": {
             "colorbar": {
              "outlinewidth": 0,
              "ticks": ""
             }
            },
            "type": "scatter3d"
           }
          ],
          "scattercarpet": [
           {
            "marker": {
             "colorbar": {
              "outlinewidth": 0,
              "ticks": ""
             }
            },
            "type": "scattercarpet"
           }
          ],
          "scattergeo": [
           {
            "marker": {
             "colorbar": {
              "outlinewidth": 0,
              "ticks": ""
             }
            },
            "type": "scattergeo"
           }
          ],
          "scattergl": [
           {
            "marker": {
             "colorbar": {
              "outlinewidth": 0,
              "ticks": ""
             }
            },
            "type": "scattergl"
           }
          ],
          "scattermap": [
           {
            "marker": {
             "colorbar": {
              "outlinewidth": 0,
              "ticks": ""
             }
            },
            "type": "scattermap"
           }
          ],
          "scattermapbox": [
           {
            "marker": {
             "colorbar": {
              "outlinewidth": 0,
              "ticks": ""
             }
            },
            "type": "scattermapbox"
           }
          ],
          "scatterpolar": [
           {
            "marker": {
             "colorbar": {
              "outlinewidth": 0,
              "ticks": ""
             }
            },
            "type": "scatterpolar"
           }
          ],
          "scatterpolargl": [
           {
            "marker": {
             "colorbar": {
              "outlinewidth": 0,
              "ticks": ""
             }
            },
            "type": "scatterpolargl"
           }
          ],
          "scatterternary": [
           {
            "marker": {
             "colorbar": {
              "outlinewidth": 0,
              "ticks": ""
             }
            },
            "type": "scatterternary"
           }
          ],
          "surface": [
           {
            "colorbar": {
             "outlinewidth": 0,
             "ticks": ""
            },
            "colorscale": [
             [
              0,
              "#0d0887"
             ],
             [
              0.1111111111111111,
              "#46039f"
             ],
             [
              0.2222222222222222,
              "#7201a8"
             ],
             [
              0.3333333333333333,
              "#9c179e"
             ],
             [
              0.4444444444444444,
              "#bd3786"
             ],
             [
              0.5555555555555556,
              "#d8576b"
             ],
             [
              0.6666666666666666,
              "#ed7953"
             ],
             [
              0.7777777777777778,
              "#fb9f3a"
             ],
             [
              0.8888888888888888,
              "#fdca26"
             ],
             [
              1,
              "#f0f921"
             ]
            ],
            "type": "surface"
           }
          ],
          "table": [
           {
            "cells": {
             "fill": {
              "color": "#EBF0F8"
             },
             "line": {
              "color": "white"
             }
            },
            "header": {
             "fill": {
              "color": "#C8D4E3"
             },
             "line": {
              "color": "white"
             }
            },
            "type": "table"
           }
          ]
         },
         "layout": {
          "annotationdefaults": {
           "arrowcolor": "#2a3f5f",
           "arrowhead": 0,
           "arrowwidth": 1
          },
          "autotypenumbers": "strict",
          "coloraxis": {
           "colorbar": {
            "outlinewidth": 0,
            "ticks": ""
           }
          },
          "colorscale": {
           "diverging": [
            [
             0,
             "#8e0152"
            ],
            [
             0.1,
             "#c51b7d"
            ],
            [
             0.2,
             "#de77ae"
            ],
            [
             0.3,
             "#f1b6da"
            ],
            [
             0.4,
             "#fde0ef"
            ],
            [
             0.5,
             "#f7f7f7"
            ],
            [
             0.6,
             "#e6f5d0"
            ],
            [
             0.7,
             "#b8e186"
            ],
            [
             0.8,
             "#7fbc41"
            ],
            [
             0.9,
             "#4d9221"
            ],
            [
             1,
             "#276419"
            ]
           ],
           "sequential": [
            [
             0,
             "#0d0887"
            ],
            [
             0.1111111111111111,
             "#46039f"
            ],
            [
             0.2222222222222222,
             "#7201a8"
            ],
            [
             0.3333333333333333,
             "#9c179e"
            ],
            [
             0.4444444444444444,
             "#bd3786"
            ],
            [
             0.5555555555555556,
             "#d8576b"
            ],
            [
             0.6666666666666666,
             "#ed7953"
            ],
            [
             0.7777777777777778,
             "#fb9f3a"
            ],
            [
             0.8888888888888888,
             "#fdca26"
            ],
            [
             1,
             "#f0f921"
            ]
           ],
           "sequentialminus": [
            [
             0,
             "#0d0887"
            ],
            [
             0.1111111111111111,
             "#46039f"
            ],
            [
             0.2222222222222222,
             "#7201a8"
            ],
            [
             0.3333333333333333,
             "#9c179e"
            ],
            [
             0.4444444444444444,
             "#bd3786"
            ],
            [
             0.5555555555555556,
             "#d8576b"
            ],
            [
             0.6666666666666666,
             "#ed7953"
            ],
            [
             0.7777777777777778,
             "#fb9f3a"
            ],
            [
             0.8888888888888888,
             "#fdca26"
            ],
            [
             1,
             "#f0f921"
            ]
           ]
          },
          "colorway": [
           "#636efa",
           "#EF553B",
           "#00cc96",
           "#ab63fa",
           "#FFA15A",
           "#19d3f3",
           "#FF6692",
           "#B6E880",
           "#FF97FF",
           "#FECB52"
          ],
          "font": {
           "color": "#2a3f5f"
          },
          "geo": {
           "bgcolor": "white",
           "lakecolor": "white",
           "landcolor": "#E5ECF6",
           "showlakes": true,
           "showland": true,
           "subunitcolor": "white"
          },
          "hoverlabel": {
           "align": "left"
          },
          "hovermode": "closest",
          "mapbox": {
           "style": "light"
          },
          "paper_bgcolor": "white",
          "plot_bgcolor": "#E5ECF6",
          "polar": {
           "angularaxis": {
            "gridcolor": "white",
            "linecolor": "white",
            "ticks": ""
           },
           "bgcolor": "#E5ECF6",
           "radialaxis": {
            "gridcolor": "white",
            "linecolor": "white",
            "ticks": ""
           }
          },
          "scene": {
           "xaxis": {
            "backgroundcolor": "#E5ECF6",
            "gridcolor": "white",
            "gridwidth": 2,
            "linecolor": "white",
            "showbackground": true,
            "ticks": "",
            "zerolinecolor": "white"
           },
           "yaxis": {
            "backgroundcolor": "#E5ECF6",
            "gridcolor": "white",
            "gridwidth": 2,
            "linecolor": "white",
            "showbackground": true,
            "ticks": "",
            "zerolinecolor": "white"
           },
           "zaxis": {
            "backgroundcolor": "#E5ECF6",
            "gridcolor": "white",
            "gridwidth": 2,
            "linecolor": "white",
            "showbackground": true,
            "ticks": "",
            "zerolinecolor": "white"
           }
          },
          "shapedefaults": {
           "line": {
            "color": "#2a3f5f"
           }
          },
          "ternary": {
           "aaxis": {
            "gridcolor": "white",
            "linecolor": "white",
            "ticks": ""
           },
           "baxis": {
            "gridcolor": "white",
            "linecolor": "white",
            "ticks": ""
           },
           "bgcolor": "#E5ECF6",
           "caxis": {
            "gridcolor": "white",
            "linecolor": "white",
            "ticks": ""
           }
          },
          "title": {
           "x": 0.05
          },
          "xaxis": {
           "automargin": true,
           "gridcolor": "white",
           "linecolor": "white",
           "ticks": "",
           "title": {
            "standoff": 15
           },
           "zerolinecolor": "white",
           "zerolinewidth": 2
          },
          "yaxis": {
           "automargin": true,
           "gridcolor": "white",
           "linecolor": "white",
           "ticks": "",
           "title": {
            "standoff": 15
           },
           "zerolinecolor": "white",
           "zerolinewidth": 2
          }
         }
        },
        "title": {
         "font": {
          "size": 24
         },
         "text": "Sales funnel",
         "x": 0.5,
         "xanchor": "center"
        },
        "width": 600
       }
      },
      "image/png": "[encoded data removed]"
     },
     "metadata": {},
     "output_type": "display_data"
    }
   ],
   "source": [
    "# --- Funnel ---\n",
    "\n",
    "colors = [\"#FFD580\", \"#FFAA5A\", \"#FF6B4A\"]  # тёпло-жёлтый → оранжевый → кораллово-красный\n",
    "\n",
    "fig = go.Figure(go.Funnel(\n",
    "    y=[\"Leads\", \"Opportunities\", \"Buyers\"],\n",
    "    x=[leads, contact_all_deals, success_contacts],\n",
    "    textinfo=\"value+percent initial\",\n",
    "    texttemplate='%{value:,.0f} (%{percentInitial:.1%})',\n",
    "    marker=dict(color=colors)\n",
    "))\n",
    "\n",
    "fig.update_layout(\n",
    "    title={\n",
    "        'text': \"Sales funnel\",\n",
    "        'font': {'size': 24},\n",
    "        'x': 0.5,\n",
    "        'xanchor': 'center'\n",
    "    },\n",
    "    margin=dict(t=40, b=40),\n",
    "    height=400,\n",
    "    width=600,\n",
    "    plot_bgcolor='rgba(0,0,0,0)',\n",
    "    paper_bgcolor='rgba(0,0,0,0)'\n",
    "    \n",
    ")\n",
    "\n",
    "fig.show()"
   ]
  },
  {
   "cell_type": "code",
   "execution_count": null,
   "id": "e36c5ea2-a7c4-4d5a-8d9f-ea4e15b249ce",
   "metadata": {},
   "outputs": [],
   "source": []
  },
  {
   "cell_type": "code",
   "execution_count": 16,
   "id": "48c74049-a99b-4152-8843-6c5ab8b63a3c",
   "metadata": {},
   "outputs": [
    {
     "data": {
      "application/vnd.plotly.v1+json": {
       "config": {
        "plotlyServerURL": "https://plot.ly"
       },
       "data": [
        {
         "line": {
          "color": "orange",
          "width": 3
         },
         "mode": "lines",
         "name": "Сделки",
         "type": "scatter",
         "x": [
          "2023-07-09T00:00:00.000000000",
          "2023-07-16T00:00:00.000000000",
          "2023-07-23T00:00:00.000000000",
          "2023-07-30T00:00:00.000000000",
          "2023-08-06T00:00:00.000000000",
          "2023-08-13T00:00:00.000000000",
          "2023-08-20T00:00:00.000000000",
          "2023-08-27T00:00:00.000000000",
          "2023-09-03T00:00:00.000000000",
          "2023-09-10T00:00:00.000000000",
          "2023-09-17T00:00:00.000000000",
          "2023-09-24T00:00:00.000000000",
          "2023-10-01T00:00:00.000000000",
          "2023-10-08T00:00:00.000000000",
          "2023-10-15T00:00:00.000000000",
          "2023-10-22T00:00:00.000000000",
          "2023-10-29T00:00:00.000000000",
          "2023-11-05T00:00:00.000000000",
          "2023-11-12T00:00:00.000000000",
          "2023-11-19T00:00:00.000000000",
          "2023-11-26T00:00:00.000000000",
          "2023-12-03T00:00:00.000000000",
          "2023-12-10T00:00:00.000000000",
          "2023-12-17T00:00:00.000000000",
          "2023-12-24T00:00:00.000000000",
          "2023-12-31T00:00:00.000000000",
          "2024-01-07T00:00:00.000000000",
          "2024-01-14T00:00:00.000000000",
          "2024-01-21T00:00:00.000000000",
          "2024-01-28T00:00:00.000000000",
          "2024-02-04T00:00:00.000000000",
          "2024-02-11T00:00:00.000000000",
          "2024-02-18T00:00:00.000000000",
          "2024-02-25T00:00:00.000000000",
          "2024-03-03T00:00:00.000000000",
          "2024-03-10T00:00:00.000000000",
          "2024-03-17T00:00:00.000000000",
          "2024-03-24T00:00:00.000000000",
          "2024-03-31T00:00:00.000000000",
          "2024-04-07T00:00:00.000000000",
          "2024-04-14T00:00:00.000000000",
          "2024-04-21T00:00:00.000000000",
          "2024-04-28T00:00:00.000000000",
          "2024-05-05T00:00:00.000000000",
          "2024-05-12T00:00:00.000000000",
          "2024-05-19T00:00:00.000000000",
          "2024-05-26T00:00:00.000000000",
          "2024-06-02T00:00:00.000000000",
          "2024-06-09T00:00:00.000000000",
          "2024-06-16T00:00:00.000000000"
         ],
         "y": {
          "bdata": "AgEDAgoGDwsHBQgQFA8YEhEUExIoEB0fFg4VFR4eFRAOGBIUGxgUERUQEQ4QEA4KEAg=",
          "dtype": "i1"
         }
        },
        {
         "line": {
          "color": "blue",
          "width": 3
         },
         "mode": "lines",
         "name": "Входящие звонки",
         "type": "scatter",
         "x": [
          "2023-07-02T00:00:00.000000000",
          "2023-07-09T00:00:00.000000000",
          "2023-07-16T00:00:00.000000000",
          "2023-07-23T00:00:00.000000000",
          "2023-07-30T00:00:00.000000000",
          "2023-08-06T00:00:00.000000000",
          "2023-08-13T00:00:00.000000000",
          "2023-08-20T00:00:00.000000000",
          "2023-08-27T00:00:00.000000000",
          "2023-09-03T00:00:00.000000000",
          "2023-09-10T00:00:00.000000000",
          "2023-09-17T00:00:00.000000000",
          "2023-09-24T00:00:00.000000000",
          "2023-10-01T00:00:00.000000000",
          "2023-10-08T00:00:00.000000000",
          "2023-10-15T00:00:00.000000000",
          "2023-10-22T00:00:00.000000000",
          "2023-10-29T00:00:00.000000000",
          "2023-11-05T00:00:00.000000000",
          "2023-11-12T00:00:00.000000000",
          "2023-11-19T00:00:00.000000000",
          "2023-11-26T00:00:00.000000000",
          "2023-12-03T00:00:00.000000000",
          "2023-12-10T00:00:00.000000000",
          "2023-12-17T00:00:00.000000000",
          "2023-12-24T00:00:00.000000000",
          "2023-12-31T00:00:00.000000000",
          "2024-01-07T00:00:00.000000000",
          "2024-01-14T00:00:00.000000000",
          "2024-01-21T00:00:00.000000000",
          "2024-01-28T00:00:00.000000000",
          "2024-02-04T00:00:00.000000000",
          "2024-02-11T00:00:00.000000000",
          "2024-02-18T00:00:00.000000000",
          "2024-02-25T00:00:00.000000000",
          "2024-03-03T00:00:00.000000000",
          "2024-03-10T00:00:00.000000000",
          "2024-03-17T00:00:00.000000000",
          "2024-03-24T00:00:00.000000000",
          "2024-03-31T00:00:00.000000000",
          "2024-04-07T00:00:00.000000000",
          "2024-04-14T00:00:00.000000000",
          "2024-04-21T00:00:00.000000000",
          "2024-04-28T00:00:00.000000000",
          "2024-05-05T00:00:00.000000000",
          "2024-05-12T00:00:00.000000000",
          "2024-05-19T00:00:00.000000000",
          "2024-05-26T00:00:00.000000000",
          "2024-06-02T00:00:00.000000000",
          "2024-06-09T00:00:00.000000000",
          "2024-06-16T00:00:00.000000000",
          "2024-06-23T00:00:00.000000000"
         ],
         "y": {
          "bdata": "AQALAAwABgAFACMAIAAsACAAIgAeADgAIwAlABwAGAAmACwAIwAkAC0ANABKAD8AbQBXAC8AOwBHAGcAlQCJAEoAWwBhAFsARwA8AEIATgBIAEwAWgBeADYAPwBQADkAQwBXAFAAOgA=",
          "dtype": "i2"
         }
        }
       ],
       "layout": {
        "annotations": [
         {
          "arrowhead": 2,
          "ax": -60,
          "ay": 0,
          "bgcolor": "red",
          "bordercolor": "blue",
          "font": {
           "color": "white"
          },
          "showarrow": false,
          "text": "⬇ Min: 1",
          "x": "2023-07-16T00:00:00",
          "y": 1
         },
         {
          "arrowhead": 2,
          "ax": 60,
          "ay": 0,
          "bgcolor": "lightgreen",
          "bordercolor": "green",
          "font": {
           "color": "black"
          },
          "showarrow": true,
          "text": "⬆ Max: 40",
          "x": "2023-11-26T00:00:00",
          "y": 40
         }
        ],
        "height": 700,
        "hovermode": "x unified",
        "legend": {
         "x": 1,
         "xanchor": "left",
         "y": 1,
         "yanchor": "top"
        },
        "paper_bgcolor": "rgba(0,0,0,0)",
        "plot_bgcolor": "rgba(0,0,0,0)",
        "template": {
         "data": {
          "bar": [
           {
            "error_x": {
             "color": "#2a3f5f"
            },
            "error_y": {
             "color": "#2a3f5f"
            },
            "marker": {
             "line": {
              "color": "white",
              "width": 0.5
             },
             "pattern": {
              "fillmode": "overlay",
              "size": 10,
              "solidity": 0.2
             }
            },
            "type": "bar"
           }
          ],
          "barpolar": [
           {
            "marker": {
             "line": {
              "color": "white",
              "width": 0.5
             },
             "pattern": {
              "fillmode": "overlay",
              "size": 10,
              "solidity": 0.2
             }
            },
            "type": "barpolar"
           }
          ],
          "carpet": [
           {
            "aaxis": {
             "endlinecolor": "#2a3f5f",
             "gridcolor": "#C8D4E3",
             "linecolor": "#C8D4E3",
             "minorgridcolor": "#C8D4E3",
             "startlinecolor": "#2a3f5f"
            },
            "baxis": {
             "endlinecolor": "#2a3f5f",
             "gridcolor": "#C8D4E3",
             "linecolor": "#C8D4E3",
             "minorgridcolor": "#C8D4E3",
             "startlinecolor": "#2a3f5f"
            },
            "type": "carpet"
           }
          ],
          "choropleth": [
           {
            "colorbar": {
             "outlinewidth": 0,
             "ticks": ""
            },
            "type": "choropleth"
           }
          ],
          "contour": [
           {
            "colorbar": {
             "outlinewidth": 0,
             "ticks": ""
            },
            "colorscale": [
             [
              0,
              "#0d0887"
             ],
             [
              0.1111111111111111,
              "#46039f"
             ],
             [
              0.2222222222222222,
              "#7201a8"
             ],
             [
              0.3333333333333333,
              "#9c179e"
             ],
             [
              0.4444444444444444,
              "#bd3786"
             ],
             [
              0.5555555555555556,
              "#d8576b"
             ],
             [
              0.6666666666666666,
              "#ed7953"
             ],
             [
              0.7777777777777778,
              "#fb9f3a"
             ],
             [
              0.8888888888888888,
              "#fdca26"
             ],
             [
              1,
              "#f0f921"
             ]
            ],
            "type": "contour"
           }
          ],
          "contourcarpet": [
           {
            "colorbar": {
             "outlinewidth": 0,
             "ticks": ""
            },
            "type": "contourcarpet"
           }
          ],
          "heatmap": [
           {
            "colorbar": {
             "outlinewidth": 0,
             "ticks": ""
            },
            "colorscale": [
             [
              0,
              "#0d0887"
             ],
             [
              0.1111111111111111,
              "#46039f"
             ],
             [
              0.2222222222222222,
              "#7201a8"
             ],
             [
              0.3333333333333333,
              "#9c179e"
             ],
             [
              0.4444444444444444,
              "#bd3786"
             ],
             [
              0.5555555555555556,
              "#d8576b"
             ],
             [
              0.6666666666666666,
              "#ed7953"
             ],
             [
              0.7777777777777778,
              "#fb9f3a"
             ],
             [
              0.8888888888888888,
              "#fdca26"
             ],
             [
              1,
              "#f0f921"
             ]
            ],
            "type": "heatmap"
           }
          ],
          "histogram": [
           {
            "marker": {
             "pattern": {
              "fillmode": "overlay",
              "size": 10,
              "solidity": 0.2
             }
            },
            "type": "histogram"
           }
          ],
          "histogram2d": [
           {
            "colorbar": {
             "outlinewidth": 0,
             "ticks": ""
            },
            "colorscale": [
             [
              0,
              "#0d0887"
             ],
             [
              0.1111111111111111,
              "#46039f"
             ],
             [
              0.2222222222222222,
              "#7201a8"
             ],
             [
              0.3333333333333333,
              "#9c179e"
             ],
             [
              0.4444444444444444,
              "#bd3786"
             ],
             [
              0.5555555555555556,
              "#d8576b"
             ],
             [
              0.6666666666666666,
              "#ed7953"
             ],
             [
              0.7777777777777778,
              "#fb9f3a"
             ],
             [
              0.8888888888888888,
              "#fdca26"
             ],
             [
              1,
              "#f0f921"
             ]
            ],
            "type": "histogram2d"
           }
          ],
          "histogram2dcontour": [
           {
            "colorbar": {
             "outlinewidth": 0,
             "ticks": ""
            },
            "colorscale": [
             [
              0,
              "#0d0887"
             ],
             [
              0.1111111111111111,
              "#46039f"
             ],
             [
              0.2222222222222222,
              "#7201a8"
             ],
             [
              0.3333333333333333,
              "#9c179e"
             ],
             [
              0.4444444444444444,
              "#bd3786"
             ],
             [
              0.5555555555555556,
              "#d8576b"
             ],
             [
              0.6666666666666666,
              "#ed7953"
             ],
             [
              0.7777777777777778,
              "#fb9f3a"
             ],
             [
              0.8888888888888888,
              "#fdca26"
             ],
             [
              1,
              "#f0f921"
             ]
            ],
            "type": "histogram2dcontour"
           }
          ],
          "mesh3d": [
           {
            "colorbar": {
             "outlinewidth": 0,
             "ticks": ""
            },
            "type": "mesh3d"
           }
          ],
          "parcoords": [
           {
            "line": {
             "colorbar": {
              "outlinewidth": 0,
              "ticks": ""
             }
            },
            "type": "parcoords"
           }
          ],
          "pie": [
           {
            "automargin": true,
            "type": "pie"
           }
          ],
          "scatter": [
           {
            "fillpattern": {
             "fillmode": "overlay",
             "size": 10,
             "solidity": 0.2
            },
            "type": "scatter"
           }
          ],
          "scatter3d": [
           {
            "line": {
             "colorbar": {
              "outlinewidth": 0,
              "ticks": ""
             }
            },
            "marker": {
             "colorbar": {
              "outlinewidth": 0,
              "ticks": ""
             }
            },
            "type": "scatter3d"
           }
          ],
          "scattercarpet": [
           {
            "marker": {
             "colorbar": {
              "outlinewidth": 0,
              "ticks": ""
             }
            },
            "type": "scattercarpet"
           }
          ],
          "scattergeo": [
           {
            "marker": {
             "colorbar": {
              "outlinewidth": 0,
              "ticks": ""
             }
            },
            "type": "scattergeo"
           }
          ],
          "scattergl": [
           {
            "marker": {
             "colorbar": {
              "outlinewidth": 0,
              "ticks": ""
             }
            },
            "type": "scattergl"
           }
          ],
          "scattermap": [
           {
            "marker": {
             "colorbar": {
              "outlinewidth": 0,
              "ticks": ""
             }
            },
            "type": "scattermap"
           }
          ],
          "scattermapbox": [
           {
            "marker": {
             "colorbar": {
              "outlinewidth": 0,
              "ticks": ""
             }
            },
            "type": "scattermapbox"
           }
          ],
          "scatterpolar": [
           {
            "marker": {
             "colorbar": {
              "outlinewidth": 0,
              "ticks": ""
             }
            },
            "type": "scatterpolar"
           }
          ],
          "scatterpolargl": [
           {
            "marker": {
             "colorbar": {
              "outlinewidth": 0,
              "ticks": ""
             }
            },
            "type": "scatterpolargl"
           }
          ],
          "scatterternary": [
           {
            "marker": {
             "colorbar": {
              "outlinewidth": 0,
              "ticks": ""
             }
            },
            "type": "scatterternary"
           }
          ],
          "surface": [
           {
            "colorbar": {
             "outlinewidth": 0,
             "ticks": ""
            },
            "colorscale": [
             [
              0,
              "#0d0887"
             ],
             [
              0.1111111111111111,
              "#46039f"
             ],
             [
              0.2222222222222222,
              "#7201a8"
             ],
             [
              0.3333333333333333,
              "#9c179e"
             ],
             [
              0.4444444444444444,
              "#bd3786"
             ],
             [
              0.5555555555555556,
              "#d8576b"
             ],
             [
              0.6666666666666666,
              "#ed7953"
             ],
             [
              0.7777777777777778,
              "#fb9f3a"
             ],
             [
              0.8888888888888888,
              "#fdca26"
             ],
             [
              1,
              "#f0f921"
             ]
            ],
            "type": "surface"
           }
          ],
          "table": [
           {
            "cells": {
             "fill": {
              "color": "#EBF0F8"
             },
             "line": {
              "color": "white"
             }
            },
            "header": {
             "fill": {
              "color": "#C8D4E3"
             },
             "line": {
              "color": "white"
             }
            },
            "type": "table"
           }
          ]
         },
         "layout": {
          "annotationdefaults": {
           "arrowcolor": "#2a3f5f",
           "arrowhead": 0,
           "arrowwidth": 1
          },
          "autotypenumbers": "strict",
          "coloraxis": {
           "colorbar": {
            "outlinewidth": 0,
            "ticks": ""
           }
          },
          "colorscale": {
           "diverging": [
            [
             0,
             "#8e0152"
            ],
            [
             0.1,
             "#c51b7d"
            ],
            [
             0.2,
             "#de77ae"
            ],
            [
             0.3,
             "#f1b6da"
            ],
            [
             0.4,
             "#fde0ef"
            ],
            [
             0.5,
             "#f7f7f7"
            ],
            [
             0.6,
             "#e6f5d0"
            ],
            [
             0.7,
             "#b8e186"
            ],
            [
             0.8,
             "#7fbc41"
            ],
            [
             0.9,
             "#4d9221"
            ],
            [
             1,
             "#276419"
            ]
           ],
           "sequential": [
            [
             0,
             "#0d0887"
            ],
            [
             0.1111111111111111,
             "#46039f"
            ],
            [
             0.2222222222222222,
             "#7201a8"
            ],
            [
             0.3333333333333333,
             "#9c179e"
            ],
            [
             0.4444444444444444,
             "#bd3786"
            ],
            [
             0.5555555555555556,
             "#d8576b"
            ],
            [
             0.6666666666666666,
             "#ed7953"
            ],
            [
             0.7777777777777778,
             "#fb9f3a"
            ],
            [
             0.8888888888888888,
             "#fdca26"
            ],
            [
             1,
             "#f0f921"
            ]
           ],
           "sequentialminus": [
            [
             0,
             "#0d0887"
            ],
            [
             0.1111111111111111,
             "#46039f"
            ],
            [
             0.2222222222222222,
             "#7201a8"
            ],
            [
             0.3333333333333333,
             "#9c179e"
            ],
            [
             0.4444444444444444,
             "#bd3786"
            ],
            [
             0.5555555555555556,
             "#d8576b"
            ],
            [
             0.6666666666666666,
             "#ed7953"
            ],
            [
             0.7777777777777778,
             "#fb9f3a"
            ],
            [
             0.8888888888888888,
             "#fdca26"
            ],
            [
             1,
             "#f0f921"
            ]
           ]
          },
          "colorway": [
           "#636efa",
           "#EF553B",
           "#00cc96",
           "#ab63fa",
           "#FFA15A",
           "#19d3f3",
           "#FF6692",
           "#B6E880",
           "#FF97FF",
           "#FECB52"
          ],
          "font": {
           "color": "#2a3f5f"
          },
          "geo": {
           "bgcolor": "white",
           "lakecolor": "white",
           "landcolor": "white",
           "showlakes": true,
           "showland": true,
           "subunitcolor": "#C8D4E3"
          },
          "hoverlabel": {
           "align": "left"
          },
          "hovermode": "closest",
          "mapbox": {
           "style": "light"
          },
          "paper_bgcolor": "white",
          "plot_bgcolor": "white",
          "polar": {
           "angularaxis": {
            "gridcolor": "#EBF0F8",
            "linecolor": "#EBF0F8",
            "ticks": ""
           },
           "bgcolor": "white",
           "radialaxis": {
            "gridcolor": "#EBF0F8",
            "linecolor": "#EBF0F8",
            "ticks": ""
           }
          },
          "scene": {
           "xaxis": {
            "backgroundcolor": "white",
            "gridcolor": "#DFE8F3",
            "gridwidth": 2,
            "linecolor": "#EBF0F8",
            "showbackground": true,
            "ticks": "",
            "zerolinecolor": "#EBF0F8"
           },
           "yaxis": {
            "backgroundcolor": "white",
            "gridcolor": "#DFE8F3",
            "gridwidth": 2,
            "linecolor": "#EBF0F8",
            "showbackground": true,
            "ticks": "",
            "zerolinecolor": "#EBF0F8"
           },
           "zaxis": {
            "backgroundcolor": "white",
            "gridcolor": "#DFE8F3",
            "gridwidth": 2,
            "linecolor": "#EBF0F8",
            "showbackground": true,
            "ticks": "",
            "zerolinecolor": "#EBF0F8"
           }
          },
          "shapedefaults": {
           "line": {
            "color": "#2a3f5f"
           }
          },
          "ternary": {
           "aaxis": {
            "gridcolor": "#DFE8F3",
            "linecolor": "#A2B1C6",
            "ticks": ""
           },
           "baxis": {
            "gridcolor": "#DFE8F3",
            "linecolor": "#A2B1C6",
            "ticks": ""
           },
           "bgcolor": "white",
           "caxis": {
            "gridcolor": "#DFE8F3",
            "linecolor": "#A2B1C6",
            "ticks": ""
           }
          },
          "title": {
           "x": 0.05
          },
          "xaxis": {
           "automargin": true,
           "gridcolor": "#EBF0F8",
           "linecolor": "#EBF0F8",
           "ticks": "",
           "title": {
            "standoff": 15
           },
           "zerolinecolor": "#EBF0F8",
           "zerolinewidth": 2
          },
          "yaxis": {
           "automargin": true,
           "gridcolor": "#EBF0F8",
           "linecolor": "#EBF0F8",
           "ticks": "",
           "title": {
            "standoff": 15
           },
           "zerolinecolor": "#EBF0F8",
           "zerolinewidth": 2
          }
         }
        },
        "title": {
         "text": "📈 Еженедельные сделки и входящие звонки"
        },
        "width": 1200,
        "xaxis": {
         "dtick": "M1",
         "showgrid": false,
         "tickangle": 0,
         "tickformat": "%b\n%Y",
         "ticklabelmode": "period",
         "title": {
          "text": "Дата"
         }
        },
        "yaxis": {
         "showgrid": false,
         "title": {
          "text": "Количество"
         }
        }
       }
      },
      "image/png": "[encoded data removed]"
     },
     "metadata": {},
     "output_type": "display_data"
    }
   ],
   "source": [
    "#Graph for presentation\n",
    "\n",
    "import plotly.graph_objects as go\n",
    "calls_df = pd.read_pickle(\"calls_cleaned.pkl\")\n",
    "time_calls_df = calls_df.copy()\n",
    "time_calls_df.set_index('Call Start Time', inplace=True)\n",
    "\n",
    "time_success_deals_df = successful_df.copy()\n",
    "time_success_deals_df.set_index('Created Time', inplace=True)\n",
    "\n",
    "filtered_calls_df = time_calls_df[\n",
    "    (time_calls_df['Call Duration Range'] != '0 sec') &\n",
    "    (time_calls_df['Call Duration Range'] != '1–3 sec')\n",
    "]\n",
    "inbound_filtered_calls_df = filtered_calls_df[filtered_calls_df['Call Type'] == 'Inbound']\n",
    "outbound_filtered_calls_df = filtered_calls_df[filtered_calls_df['Call Type'] == 'Outbound']\n",
    "\n",
    "weekly_success_deals = time_success_deals_df.resample(\"W\").count()['Id']  # Series\n",
    "weekly_in_calls = inbound_filtered_calls_df.resample('W').size()\n",
    "\n",
    "# Данные\n",
    "plot_min_val = weekly_success_deals.min()\n",
    "plot_min_date = weekly_success_deals.idxmin()\n",
    "\n",
    "plot_max_val = weekly_success_deals.max()\n",
    "plot_max_date = weekly_success_deals.idxmax()\n",
    "\n",
    "fig = go.Figure()\n",
    "\n",
    "# Аннотация минимума (слева)\n",
    "fig.add_annotation(\n",
    "    x=plot_min_date,\n",
    "    y=plot_min_val,\n",
    "    text=f\"⬇ Min: {plot_min_val}\",\n",
    "    showarrow=False,\n",
    "    arrowhead=2,\n",
    "    ax=-60,\n",
    "    ay=0,\n",
    "    bgcolor=\"red\",\n",
    "    bordercolor=\"blue\",\n",
    "    font=dict(color=\"white\")\n",
    ")\n",
    "\n",
    "# Аннотация максимума (справа)\n",
    "fig.add_annotation(\n",
    "    x=plot_max_date,\n",
    "    y=plot_max_val,\n",
    "    text=f\"⬆ Max: {plot_max_val}\",\n",
    "    showarrow=True,\n",
    "    arrowhead=2,\n",
    "    ax=60,\n",
    "    ay=0,\n",
    "    bgcolor=\"lightgreen\",\n",
    "    bordercolor=\"green\",\n",
    "    font=dict(color=\"black\")\n",
    ")\n",
    "\n",
    "# Сделки — яркая линия\n",
    "fig.add_trace(go.Scatter(\n",
    "    x=weekly_success_deals.index,\n",
    "    y=weekly_success_deals.values,\n",
    "    mode='lines',\n",
    "    name='Сделки',\n",
    "    line=dict(color='orange', width=3)\n",
    "))\n",
    "\n",
    "# Входящие звонки — другая яркая линия\n",
    "fig.add_trace(go.Scatter(\n",
    "    x=weekly_in_calls.index,\n",
    "    y=weekly_in_calls.values,\n",
    "    mode='lines',\n",
    "    name='Входящие звонки',\n",
    "    line=dict(color='blue', width=3)\n",
    "))\n",
    "\n",
    "# Настройки графика\n",
    "fig.update_layout(\n",
    "    title='📈 Еженедельные сделки и входящие звонки',\n",
    "    xaxis_title='Дата',\n",
    "    yaxis_title='Количество',\n",
    "    template='plotly_white',\n",
    "    hovermode='x unified',\n",
    "    height=700,\n",
    "    width=1200,\n",
    "    xaxis=dict(\n",
    "        showgrid=False,\n",
    "        tickformat=\"%b\\n%Y\",\n",
    "        dtick=\"M1\",\n",
    "        ticklabelmode=\"period\",\n",
    "        tickangle=0\n",
    "    ),\n",
    "    yaxis=dict(showgrid=False),\n",
    "    legend=dict(\n",
    "        x=1,\n",
    "        y=1,\n",
    "        xanchor='left',\n",
    "        yanchor='top'\n",
    "    ),\n",
    "    plot_bgcolor='rgba(0,0,0,0)',\n",
    "    paper_bgcolor='rgba(0,0,0,0)'\n",
    ")\n",
    "\n",
    "fig.show()"
   ]
  },
  {
   "cell_type": "code",
   "execution_count": null,
   "id": "15f2a453-1bde-45d8-adda-55100d4bf281",
   "metadata": {},
   "outputs": [],
   "source": [
    "# Данные\n",
    "campaigns = [\n",
    "    'bbo_de', 'brand_search_eng_de', 'blog2_de', 'web2408_de',\n",
    "    '02.05.24test_de', '14.11.23wide_webinar_de', '08.06.24wide_webinar_de',\n",
    "    'gen_analyst_de', '15.07.23b_de', '08.04.24wide_webinar_de'\n",
    "]\n",
    "impressions = [3069, 7783, 16100, 9315, 20047, 18128, 20934, 8852, 54268, 126514]\n",
    "conversion_rate = [4.855002, 2.120005, 1.695652, 1.535158, 0.598593, 0.546117, 0.530238, 0.395391, 0.241395, 0.219739]\n",
    "\n",
    "# Фигура\n",
    "fig = go.Figure()\n",
    "\n",
    "fig.add_trace(go.Bar(\n",
    "    x=campaigns,\n",
    "    y=impressions,\n",
    "    name='Impressions',\n",
    "    marker_color='rgba(255, 140, 0, 0.7)',\n",
    "    yaxis='y1',\n",
    "    text=impressions,\n",
    "    textposition='auto',\n",
    "))\n",
    "\n",
    "fig.add_trace(go.Scatter(\n",
    "    x=campaigns,\n",
    "    y=conversion_rate,\n",
    "    name='Conversion Rate (%)',\n",
    "    yaxis='y2',\n",
    "    mode='lines+markers+text',\n",
    "    marker=dict(color='firebrick', size=10),\n",
    "    line=dict(color='firebrick', width=2),\n",
    "    text=[f'{cr:.2f}%' for cr in conversion_rate],\n",
    "    textposition='top center',\n",
    "))\n",
    "\n",
    "fig.update_layout(\n",
    "    title='Campaign Comparison: Reach and Conversion Rate',\n",
    "    xaxis=dict(title='Campaign'),\n",
    "    yaxis=dict(\n",
    "        title='Impressions (Reach)',\n",
    "        titlefont=dict(color='orange'),\n",
    "        tickfont=dict(color='orange')\n",
    "    ),\n",
    "    yaxis2=dict(\n",
    "        title='Conversion Rate (%)',\n",
    "        overlaying='y',\n",
    "        side='right',\n",
    "        titlefont=dict(color='firebrick'),\n",
    "        tickfont=dict(color='firebrick'),\n",
    "    ),\n",
    "    plot_bgcolor='rgba(0,0,0,0)',\n",
    "    paper_bgcolor='rgba(0,0,0,0)',\n",
    "    legend=dict(x=0.01, y=0.99, bgcolor='rgba(255,255,255,0)', borderwidth=0),\n",
    "    margin=dict(l=40, r=40, t=60, b=100),\n",
    ")\n",
    "\n",
    "fig.show()"
   ]
  }
 ],
 "metadata": {
  "kernelspec": {
   "display_name": "Python 3 (ipykernel)",
   "language": "python",
   "name": "python3"
  },
  "language_info": {
   "codemirror_mode": {
    "name": "ipython",
    "version": 3
   },
   "file_extension": ".py",
   "mimetype": "text/x-python",
   "name": "python",
   "nbconvert_exporter": "python",
   "pygments_lexer": "ipython3",
   "version": "3.13.3"
  }
 },
 "nbformat": 4,
 "nbformat_minor": 5
}
